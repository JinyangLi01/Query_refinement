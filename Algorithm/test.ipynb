{
 "cells": [
  {
   "cell_type": "code",
   "execution_count": 3,
   "metadata": {
    "collapsed": true,
    "pycharm": {
     "name": "#%%\n"
    }
   },
   "outputs": [],
   "source": [
    "import pandas as pd\n",
    "import locale\n",
    "from intbitset import intbitset\n",
    "import numpy as np\n"
   ]
  },
  {
   "cell_type": "code",
   "execution_count": 13,
   "outputs": [
    {
     "name": "stdout",
     "output_type": "stream",
     "text": [
      "     brand style  rating\n",
      "0  Yum Yum   cup       4\n",
      "1  Yum Yum   cup       4\n",
      "2  Yum Yum   cup       4\n",
      "3  Indomie  pack      15\n",
      "4  Indomie  pack       5\n",
      "0     True\n",
      "1    False\n",
      "2    False\n",
      "3    False\n",
      "4    False\n",
      "dtype: bool\n"
     ]
    },
    {
     "data": {
      "text/plain": "0    True\ndtype: bool"
     },
     "execution_count": 13,
     "metadata": {},
     "output_type": "execute_result"
    }
   ],
   "source": [
    "df = pd.DataFrame({\n",
    "    'brand': ['Yum Yum', 'Yum Yum', 'Yum Yum', 'Indomie', 'Indomie'],\n",
    "    'style': ['cup', 'cup', 'cup', 'pack', 'pack'],\n",
    "    'rating': [4, 4, 4, 15, 5]\n",
    "})\n",
    "print(df)\n",
    "duplicates_idx = ~df.duplicated() & df.duplicated(keep=False)\n",
    "print(duplicates_idx)\n",
    "duplicates_idx = duplicates_idx[duplicates_idx]\n",
    "duplicates_idx"
   ],
   "metadata": {
    "collapsed": false,
    "pycharm": {
     "name": "#%%\n"
    }
   }
  },
  {
   "cell_type": "code",
   "execution_count": 10,
   "outputs": [
    {
     "name": "stdout",
     "output_type": "stream",
     "text": [
      "intbitset([1, 2, 3]) intbitset([2, 4, 5])\n"
     ]
    },
    {
     "data": {
      "text/plain": "'0111'"
     },
     "execution_count": 10,
     "metadata": {},
     "output_type": "execute_result"
    }
   ],
   "source": [
    "\n",
    "from intbitset import intbitset\n",
    "x = intbitset([1,2,3], preallocate = 7)\n",
    "y = intbitset([2,4,5])\n",
    "\n",
    "print(x, y)\n",
    "\n",
    "x.strbits()\n"
   ],
   "metadata": {
    "collapsed": false,
    "pycharm": {
     "name": "#%%\n"
    }
   }
  },
  {
   "cell_type": "code",
   "execution_count": 1,
   "outputs": [
    {
     "data": {
      "text/plain": "{'selection_numeric_attributes': {'G': ['>=', 60],\n  'A': ['<=', 30],\n  'I': ['>=', 100]},\n 'selection_categorical_attributes': {'M': ['EE'], 'S': ['MI'], 'C': ['DET']},\n 'sensitive_attributes': ['Gender'],\n 'number_fairness_constraints': 1,\n 'fairness_constraints': [{'Gender': 'F', 'symbol': '>=', 'number': 3}]}"
     },
     "execution_count": 1,
     "metadata": {},
     "output_type": "execute_result"
    }
   ],
   "source": [
    "import json\n",
    "\n",
    "with open('selection.json') as f:\n",
    "   data = json.load(f)\n",
    "\n",
    "data\n"
   ],
   "metadata": {
    "collapsed": false,
    "pycharm": {
     "name": "#%%\n"
    }
   }
  },
  {
   "cell_type": "code",
   "execution_count": 4,
   "outputs": [
    {
     "data": {
      "text/plain": "dict"
     },
     "execution_count": 4,
     "metadata": {},
     "output_type": "execute_result"
    }
   ],
   "source": [
    "type(data['selection_numeric_attributes'])"
   ],
   "metadata": {
    "collapsed": false,
    "pycharm": {
     "name": "#%%\n"
    }
   }
  },
  {
   "cell_type": "code",
   "execution_count": null,
   "outputs": [],
   "source": [
    "\n",
    "\n"
   ],
   "metadata": {
    "collapsed": false,
    "pycharm": {
     "name": "#%%\n"
    }
   }
  },
  {
   "cell_type": "code",
   "execution_count": 6,
   "outputs": [
    {
     "name": "stdout",
     "output_type": "stream",
     "text": [
      "             dir       size  size_kb  size_mb  size_gb\n",
      "0  /Users/uname1     994933        0        0        0\n",
      "1  /Users/uname2  109338711        0        0        0\n"
     ]
    },
    {
     "name": "stderr",
     "output_type": "stream",
     "text": [
      "<ipython-input-6-eb59331e7758>:12: DeprecationWarning: This method will be removed in a future version of Python. Use 'locale.format_string()' instead.\n",
      "  s['size_kb'] = locale.format(\"%.1f\", s['size'] / 1024.0, grouping=True) + ' KB'\n",
      "<ipython-input-6-eb59331e7758>:13: DeprecationWarning: This method will be removed in a future version of Python. Use 'locale.format_string()' instead.\n",
      "  s['size_mb'] = locale.format(\"%.1f\", s['size'] / 1024.0 ** 2, grouping=True) + ' MB'\n",
      "<ipython-input-6-eb59331e7758>:14: DeprecationWarning: This method will be removed in a future version of Python. Use 'locale.format_string()' instead.\n",
      "  s['size_gb'] = locale.format(\"%.1f\", s['size'] / 1024.0 ** 3, grouping=True) + ' GB'\n"
     ]
    },
    {
     "data": {
      "text/plain": "             dir       size      size_kb   size_mb size_gb\n0  /Users/uname1     994933     971.6 KB    0.9 MB  0.0 GB\n1  /Users/uname2  109338711  106776.1 KB  104.3 MB  0.1 GB",
      "text/html": "<div>\n<style scoped>\n    .dataframe tbody tr th:only-of-type {\n        vertical-align: middle;\n    }\n\n    .dataframe tbody tr th {\n        vertical-align: top;\n    }\n\n    .dataframe thead th {\n        text-align: right;\n    }\n</style>\n<table border=\"1\" class=\"dataframe\">\n  <thead>\n    <tr style=\"text-align: right;\">\n      <th></th>\n      <th>dir</th>\n      <th>size</th>\n      <th>size_kb</th>\n      <th>size_mb</th>\n      <th>size_gb</th>\n    </tr>\n  </thead>\n  <tbody>\n    <tr>\n      <th>0</th>\n      <td>/Users/uname1</td>\n      <td>994933</td>\n      <td>971.6 KB</td>\n      <td>0.9 MB</td>\n      <td>0.0 GB</td>\n    </tr>\n    <tr>\n      <th>1</th>\n      <td>/Users/uname2</td>\n      <td>109338711</td>\n      <td>106776.1 KB</td>\n      <td>104.3 MB</td>\n      <td>0.1 GB</td>\n    </tr>\n  </tbody>\n</table>\n</div>"
     },
     "execution_count": 6,
     "metadata": {},
     "output_type": "execute_result"
    }
   ],
   "source": [
    "\n",
    "\n",
    "df_test = pd.DataFrame([\n",
    "    {'dir': '/Users/uname1', 'size': 994933},\n",
    "    {'dir': '/Users/uname2', 'size': 109338711},\n",
    "])\n",
    "df_test['size_kb'] = 0\n",
    "df_test['size_mb'] = 0\n",
    "df_test['size_gb'] = 0\n",
    "\n",
    "print(df_test)\n",
    "\n",
    "def sizes(s):\n",
    "    s['size_kb'] = locale.format(\"%.1f\", s['size'] / 1024.0, grouping=True) + ' KB'\n",
    "    s['size_mb'] = locale.format(\"%.1f\", s['size'] / 1024.0 ** 2, grouping=True) + ' MB'\n",
    "    s['size_gb'] = locale.format(\"%.1f\", s['size'] / 1024.0 ** 3, grouping=True) + ' GB'\n",
    "    return s\n",
    "\n",
    "# df_test = df_test.append(rows_list)\n",
    "df_test = df_test.apply(sizes, axis=1)\n",
    "df_test\n"
   ],
   "metadata": {
    "collapsed": false,
    "pycharm": {
     "name": "#%%\n"
    }
   }
  },
  {
   "cell_type": "code",
   "execution_count": 8,
   "outputs": [
    {
     "data": {
      "text/plain": "250"
     },
     "execution_count": 8,
     "metadata": {},
     "output_type": "execute_result"
    }
   ],
   "source": [
    "\n",
    "lst =[['Tablet', 250],\n",
    "      ['Printer', 100],\n",
    "      ['Laptop', 1200],\n",
    "      ['Monitor', 300]]\n",
    "\n",
    "lst[0][1]\n"
   ],
   "metadata": {
    "collapsed": false,
    "pycharm": {
     "name": "#%%\n"
    }
   }
  },
  {
   "cell_type": "code",
   "execution_count": 16,
   "outputs": [
    {
     "name": "stdout",
     "output_type": "stream",
     "text": [
      "001\n"
     ]
    },
    {
     "data": {
      "text/plain": "1"
     },
     "execution_count": 16,
     "metadata": {},
     "output_type": "execute_result"
    }
   ],
   "source": [
    "print(intbitset([2]).strbits())\n",
    "\n",
    "int(intbitset([2]).strbits(), 2)\n"
   ],
   "metadata": {
    "collapsed": false,
    "pycharm": {
     "name": "#%%\n"
    }
   }
  },
  {
   "cell_type": "code",
   "execution_count": 18,
   "outputs": [
    {
     "data": {
      "text/plain": "True"
     },
     "execution_count": 18,
     "metadata": {},
     "output_type": "execute_result"
    }
   ],
   "source": [
    "\n",
    "def test(a, b):\n",
    "    return ((a>1)and(b>4) + (a>1)and(b>4) >= 1)\n",
    "\n",
    "test(2, 6)"
   ],
   "metadata": {
    "collapsed": false,
    "pycharm": {
     "name": "#%%\n"
    }
   }
  },
  {
   "cell_type": "code",
   "execution_count": 38,
   "outputs": [
    {
     "ename": "SyntaxError",
     "evalue": "cannot assign to literal (<string>, line 1)",
     "output_type": "error",
     "traceback": [
      "Traceback \u001B[0;36m(most recent call last)\u001B[0m:\n",
      "  File \u001B[1;32m\"/Users/jinyangli/opt/anaconda3/lib/python3.8/site-packages/IPython/core/interactiveshell.py\"\u001B[0m, line \u001B[1;32m3343\u001B[0m, in \u001B[1;35mrun_code\u001B[0m\n    exec(code_obj, self.user_global_ns, self.user_ns)\n",
      "\u001B[0;36m  File \u001B[0;32m\"<ipython-input-38-80d6bdbc2be4>\"\u001B[0;36m, line \u001B[0;32m1\u001B[0;36m, in \u001B[0;35m<module>\u001B[0;36m\u001B[0m\n\u001B[0;31m    exec(\"x = %d, y = %d\" % (4, 5))\u001B[0m\n",
      "\u001B[0;36m  File \u001B[0;32m\"<string>\"\u001B[0;36m, line \u001B[0;32m1\u001B[0m\n\u001B[0;31mSyntaxError\u001B[0m\u001B[0;31m:\u001B[0m cannot assign to literal\n"
     ]
    }
   ],
   "source": [
    "exec(\"x = %d, y = %d\" % (4, 5))\n",
    "exec(f\"\"\"def activate_field(): print({x}, {y})\"\"\")\n",
    "\n",
    "activate_field()\n"
   ],
   "metadata": {
    "collapsed": false,
    "pycharm": {
     "name": "#%%\n"
    }
   }
  },
  {
   "cell_type": "code",
   "execution_count": 61,
   "outputs": [
    {
     "data": {
      "text/plain": "True"
     },
     "execution_count": 61,
     "metadata": {},
     "output_type": "execute_result"
    }
   ],
   "source": [
    "\n",
    "\n",
    "\n",
    "# provenance_in_one += \"(64 >= {G})* (92 >= {I})* ({M_EE})+ (54 >= {G})* (103 >= {I})* ({M_ME})>=1) and ( (64 >= {G})* (92 >= {I})* ({M_EE})+ (62 >= {G})* (105 >= {I})* ({M_EE})+ (67 >= {G})* (106 >= {I})* ({M_EE})+ (50 >= {G})* (110 >= {I})* ({M_ME})<=1)\"\n",
    "provenance_in_one = \"def satisfy_constraints():\\n return (\"\n",
    "\n",
    "provenance_in_one += \"(64 >= G)* (92 >= I)* (M_EE)+ (54 >= G)* (103 >= I)* (M_ME)>=1) and ( (64 >= G)* (92 >= I)* (M_EE)+ (62 >= G)* (105 >= I)* (M_EE)+ (67 >= G)* (106 >= I)* (M_EE)+ (50 >= G)* (110 >= I)* (M_ME)<=1)\"\n",
    "\n",
    "formatstr = f\"provenance_in_one.format(G=54, I=100, M_EE=0, M_CS=0, M_ME=1)\"\n",
    "exec(formatstr)\n",
    "exec(provenance_in_one)\n",
    "\n",
    "#\n",
    "# def f():\n",
    "#     for i in range(2):\n",
    "#         if i == 0:\n",
    "#             exec(\"%s = %d\" % ('G', 54))\n",
    "#             exec(\"%s = %d\" % ('I', 100))\n",
    "#             exec(\"%s = %d\" % ('M_EE', 0))\n",
    "#             exec(\"%s = %d\" % ('M_CS', 0))\n",
    "#             exec(\"%s = %d\" % ('M_ME', 1))\n",
    "\n",
    "f()\n",
    "satisfy_constraints()\n"
   ],
   "metadata": {
    "collapsed": false,
    "pycharm": {
     "name": "#%%\n"
    }
   }
  },
  {
   "cell_type": "code",
   "execution_count": 55,
   "outputs": [
    {
     "data": {
      "text/plain": "'Number 0: 1.00'"
     },
     "execution_count": 55,
     "metadata": {},
     "output_type": "execute_result"
    }
   ],
   "source": [
    "i=0\n",
    "num=1\n",
    "field_size=2\n",
    "\n",
    "'Number {i}: {num:{field_size}.2f}'.format(i=i, num=num, field_size=field_size)\n"
   ],
   "metadata": {
    "collapsed": false,
    "pycharm": {
     "name": "#%%\n"
    }
   }
  },
  {
   "cell_type": "code",
   "execution_count": 64,
   "outputs": [],
   "source": [
    "\n",
    "\n",
    "numeric_attributes = ['I', 'G']\n",
    "\n",
    "a = 'M'\n",
    "if a in numeric_attributes:\n",
    "    print(\"yes\")\n"
   ],
   "metadata": {
    "collapsed": false,
    "pycharm": {
     "name": "#%%\n"
    }
   }
  },
  {
   "cell_type": "code",
   "execution_count": 5,
   "outputs": [
    {
     "name": "stdout",
     "output_type": "stream",
     "text": [
      "        bear  dog\n",
      "green      1    1\n",
      "yellow     1    0\n",
      "red        1    0\n"
     ]
    }
   ],
   "source": [
    "\n",
    "d = {\"green\":[\"bear\",\"dog\"], \"yellow\":[\"bear\"], \"red\":[\"bear\"]}\n",
    "\n",
    "from sklearn.preprocessing import MultiLabelBinarizer\n",
    "\n",
    "mlb = MultiLabelBinarizer()\n",
    "df = pd.DataFrame(mlb.fit_transform(list(d.values())),\n",
    "                  columns=mlb.classes_,\n",
    "                  index=list(d.keys()))\n",
    "print (df)\n"
   ],
   "metadata": {
    "collapsed": false,
    "pycharm": {
     "name": "#%%\n"
    }
   }
  },
  {
   "cell_type": "code",
   "execution_count": null,
   "outputs": [],
   "source": [],
   "metadata": {
    "collapsed": false,
    "pycharm": {
     "name": "#%%\n"
    }
   }
  },
  {
   "cell_type": "code",
   "execution_count": 5,
   "outputs": [
    {
     "name": "stdout",
     "output_type": "stream",
     "text": [
      "   source_number location category\n",
      "0          11199     loc2     cat1\n",
      "1          11328     loc1     cat2\n",
      "2          11287     loc3     cat1\n",
      "3          32345     loc1     cat3\n",
      "4          12342     loc2     cat3\n",
      "5           1232     loc2     cat3\n",
      "6          13456     loc3     cat2\n",
      "7         123244     loc2     cat3\n",
      "8          13456     loc1     cat2\n",
      "   source_number location category\n",
      "0          11199     loc2     cat1\n",
      "3          32345     loc1     cat3\n",
      "4          12342     loc2     cat3\n",
      "5           1232     loc2     cat3\n",
      "7         123244     loc2     cat3\n"
     ]
    }
   ],
   "source": [
    "\n",
    "df =pd.DataFrame({\n",
    "            \"source_number\":[11199,11328,11287,32345,12342,1232,13456,123244,13456],\n",
    "             \"location\":[\"loc2\",\"loc1\",\"loc3\",\"loc1\",\"loc2\",\"loc2\",\"loc3\",\"loc2\",\"loc1\"],\n",
    "             \"category\":[\"cat1\",\"cat2\",\"cat1\",\"cat3\",\"cat3\",\"cat3\",\"cat2\",\"cat3\",\"cat2\"],\n",
    "             })\n",
    "\n",
    "print(df)\n",
    "\n",
    "#let say the created dictionary have the below value\n",
    "sidebars = {\"location\":[\"loc1\",\"loc2\"],\"category\":[\"cat1\",\"cat3\"]}\n",
    "\n",
    "df = df[np.logical_and.reduce([df[k].isin(v) for k, v in sidebars.items()])]\n",
    "print (df)\n"
   ],
   "metadata": {
    "collapsed": false,
    "pycharm": {
     "name": "#%%\n"
    }
   }
  },
  {
   "cell_type": "code",
   "execution_count": 25,
   "outputs": [
    {
     "name": "stdout",
     "output_type": "stream",
     "text": [
      "  Gender   M   GPA   IH\n",
      "0      F  AM  3.80  150\n",
      "1      F  IS  3.50  125\n",
      "2      F  CS  3.80  120\n",
      "3      F  CS  3.80   80\n",
      "4      F  IS  3.75  140\n",
      "5      F  CS  3.65  125\n",
      "[0    False\n",
      "1    False\n",
      "2    False\n",
      "3    False\n",
      "4    False\n",
      "5    False\n",
      "Name: Gender, dtype: bool] 0    False\n",
      "1    False\n",
      "2    False\n",
      "3    False\n",
      "4    False\n",
      "5    False\n",
      "Name: Gender, dtype: bool <class 'pandas.core.series.Series'>\n",
      "xxxxxxx\n"
     ]
    },
    {
     "ename": "ValueError",
     "evalue": "The truth value of a Series is ambiguous. Use a.empty, a.bool(), a.item(), a.any() or a.all().",
     "output_type": "error",
     "traceback": [
      "\u001B[0;31m---------------------------------------------------------------------------\u001B[0m",
      "\u001B[0;31mValueError\u001B[0m                                Traceback (most recent call last)",
      "\u001B[0;32m<ipython-input-25-15fc416d0aa0>\u001B[0m in \u001B[0;36m<module>\u001B[0;34m\u001B[0m\n\u001B[1;32m      6\u001B[0m \u001B[0mprint\u001B[0m\u001B[0;34m(\u001B[0m\u001B[0;34m\"xxxxxxx\"\u001B[0m\u001B[0;34m)\u001B[0m\u001B[0;34m\u001B[0m\u001B[0;34m\u001B[0m\u001B[0m\n\u001B[1;32m      7\u001B[0m \u001B[0;34m\u001B[0m\u001B[0m\n\u001B[0;32m----> 8\u001B[0;31m \u001B[0ml2\u001B[0m \u001B[0;34m=\u001B[0m \u001B[0;34m[\u001B[0m\u001B[0ms\u001B[0m \u001B[0;32mfor\u001B[0m \u001B[0ms\u001B[0m \u001B[0;32min\u001B[0m \u001B[0ml1\u001B[0m \u001B[0;32mif\u001B[0m \u001B[0ms\u001B[0m\u001B[0;34m]\u001B[0m\u001B[0;34m\u001B[0m\u001B[0;34m\u001B[0m\u001B[0m\n\u001B[0m\u001B[1;32m      9\u001B[0m \u001B[0mprint\u001B[0m\u001B[0;34m(\u001B[0m\u001B[0;34m\"l2={}\"\u001B[0m\u001B[0;34m.\u001B[0m\u001B[0mformat\u001B[0m\u001B[0;34m(\u001B[0m\u001B[0ml2\u001B[0m\u001B[0;34m)\u001B[0m\u001B[0;34m)\u001B[0m\u001B[0;34m\u001B[0m\u001B[0;34m\u001B[0m\u001B[0m\n\u001B[1;32m     10\u001B[0m \u001B[0mprint\u001B[0m\u001B[0;34m(\u001B[0m\u001B[0mlen\u001B[0m\u001B[0;34m(\u001B[0m\u001B[0ml2\u001B[0m\u001B[0;34m[\u001B[0m\u001B[0;36m0\u001B[0m\u001B[0;34m]\u001B[0m\u001B[0;34m)\u001B[0m\u001B[0;34m)\u001B[0m\u001B[0;34m\u001B[0m\u001B[0;34m\u001B[0m\u001B[0m\n",
      "\u001B[0;32m<ipython-input-25-15fc416d0aa0>\u001B[0m in \u001B[0;36m<listcomp>\u001B[0;34m(.0)\u001B[0m\n\u001B[1;32m      6\u001B[0m \u001B[0mprint\u001B[0m\u001B[0;34m(\u001B[0m\u001B[0;34m\"xxxxxxx\"\u001B[0m\u001B[0;34m)\u001B[0m\u001B[0;34m\u001B[0m\u001B[0;34m\u001B[0m\u001B[0m\n\u001B[1;32m      7\u001B[0m \u001B[0;34m\u001B[0m\u001B[0m\n\u001B[0;32m----> 8\u001B[0;31m \u001B[0ml2\u001B[0m \u001B[0;34m=\u001B[0m \u001B[0;34m[\u001B[0m\u001B[0ms\u001B[0m \u001B[0;32mfor\u001B[0m \u001B[0ms\u001B[0m \u001B[0;32min\u001B[0m \u001B[0ml1\u001B[0m \u001B[0;32mif\u001B[0m \u001B[0ms\u001B[0m\u001B[0;34m]\u001B[0m\u001B[0;34m\u001B[0m\u001B[0;34m\u001B[0m\u001B[0m\n\u001B[0m\u001B[1;32m      9\u001B[0m \u001B[0mprint\u001B[0m\u001B[0;34m(\u001B[0m\u001B[0;34m\"l2={}\"\u001B[0m\u001B[0;34m.\u001B[0m\u001B[0mformat\u001B[0m\u001B[0;34m(\u001B[0m\u001B[0ml2\u001B[0m\u001B[0;34m)\u001B[0m\u001B[0;34m)\u001B[0m\u001B[0;34m\u001B[0m\u001B[0;34m\u001B[0m\u001B[0m\n\u001B[1;32m     10\u001B[0m \u001B[0mprint\u001B[0m\u001B[0;34m(\u001B[0m\u001B[0mlen\u001B[0m\u001B[0;34m(\u001B[0m\u001B[0ml2\u001B[0m\u001B[0;34m[\u001B[0m\u001B[0;36m0\u001B[0m\u001B[0;34m]\u001B[0m\u001B[0;34m)\u001B[0m\u001B[0;34m)\u001B[0m\u001B[0;34m\u001B[0m\u001B[0;34m\u001B[0m\u001B[0m\n",
      "\u001B[0;32m~/opt/anaconda3/lib/python3.8/site-packages/pandas/core/generic.py\u001B[0m in \u001B[0;36m__nonzero__\u001B[0;34m(self)\u001B[0m\n\u001B[1;32m   1533\u001B[0m     \u001B[0;34m@\u001B[0m\u001B[0mfinal\u001B[0m\u001B[0;34m\u001B[0m\u001B[0;34m\u001B[0m\u001B[0m\n\u001B[1;32m   1534\u001B[0m     \u001B[0;32mdef\u001B[0m \u001B[0m__nonzero__\u001B[0m\u001B[0;34m(\u001B[0m\u001B[0mself\u001B[0m\u001B[0;34m)\u001B[0m\u001B[0;34m:\u001B[0m\u001B[0;34m\u001B[0m\u001B[0;34m\u001B[0m\u001B[0m\n\u001B[0;32m-> 1535\u001B[0;31m         raise ValueError(\n\u001B[0m\u001B[1;32m   1536\u001B[0m             \u001B[0;34mf\"The truth value of a {type(self).__name__} is ambiguous. \"\u001B[0m\u001B[0;34m\u001B[0m\u001B[0;34m\u001B[0m\u001B[0m\n\u001B[1;32m   1537\u001B[0m             \u001B[0;34m\"Use a.empty, a.bool(), a.item(), a.any() or a.all().\"\u001B[0m\u001B[0;34m\u001B[0m\u001B[0;34m\u001B[0m\u001B[0m\n",
      "\u001B[0;31mValueError\u001B[0m: The truth value of a Series is ambiguous. Use a.empty, a.bool(), a.item(), a.any() or a.all()."
     ]
    }
   ],
   "source": [
    "\n",
    "df =pd.read_csv(r\"toy_examples/example3.csv\")\n",
    "print(df)\n",
    "sensitive_attributes = {'Gender': 'M'}\n",
    "l1 = [df[k] == v for k, v in sensitive_attributes.items()]\n",
    "print(l1, l1[0], type(l1[0]))\n",
    "print(\"xxxxxxx\")\n",
    "\n",
    "l2 = [s for s in l1 if s]\n",
    "print(\"l2={}\".format(l2))\n",
    "print(len(l2[0]))\n",
    "# l2 = np.logical_and.reduce(l1)\n",
    "# print(l2)\n",
    "# df[np.logical_and.reduce([df[k] == v for k, v in sensitive_attributes.items()])]\n"
   ],
   "metadata": {
    "collapsed": false,
    "pycharm": {
     "name": "#%%\n"
    }
   }
  },
  {
   "cell_type": "code",
   "execution_count": 33,
   "outputs": [
    {
     "name": "stdout",
     "output_type": "stream",
     "text": [
      "0    True\n",
      "dtype: bool <class 'pandas.core.series.Series'>\n",
      "Int64Index([0], dtype='int64')\n"
     ]
    },
    {
     "data": {
      "text/plain": "[0]"
     },
     "execution_count": 33,
     "metadata": {},
     "output_type": "execute_result"
    }
   ],
   "source": [
    "\n",
    "s = pd.Series([True])\n",
    "print(s, type(s))\n",
    "print(s[s].index)\n",
    "[i for i in s.index if s[i]]\n"
   ],
   "metadata": {
    "collapsed": false,
    "pycharm": {
     "name": "#%%\n"
    }
   }
  },
  {
   "cell_type": "code",
   "execution_count": 4,
   "outputs": [
    {
     "data": {
      "text/plain": "   a  b\n0  0  B\n1  1  A\n2  2  B\n3  3  B\n4  4  B\n5  5  A\n6  6  A\n7  7  A\n8  8  B\n9  9  B",
      "text/html": "<div>\n<style scoped>\n    .dataframe tbody tr th:only-of-type {\n        vertical-align: middle;\n    }\n\n    .dataframe tbody tr th {\n        vertical-align: top;\n    }\n\n    .dataframe thead th {\n        text-align: right;\n    }\n</style>\n<table border=\"1\" class=\"dataframe\">\n  <thead>\n    <tr style=\"text-align: right;\">\n      <th></th>\n      <th>a</th>\n      <th>b</th>\n    </tr>\n  </thead>\n  <tbody>\n    <tr>\n      <th>0</th>\n      <td>0</td>\n      <td>B</td>\n    </tr>\n    <tr>\n      <th>1</th>\n      <td>1</td>\n      <td>A</td>\n    </tr>\n    <tr>\n      <th>2</th>\n      <td>2</td>\n      <td>B</td>\n    </tr>\n    <tr>\n      <th>3</th>\n      <td>3</td>\n      <td>B</td>\n    </tr>\n    <tr>\n      <th>4</th>\n      <td>4</td>\n      <td>B</td>\n    </tr>\n    <tr>\n      <th>5</th>\n      <td>5</td>\n      <td>A</td>\n    </tr>\n    <tr>\n      <th>6</th>\n      <td>6</td>\n      <td>A</td>\n    </tr>\n    <tr>\n      <th>7</th>\n      <td>7</td>\n      <td>A</td>\n    </tr>\n    <tr>\n      <th>8</th>\n      <td>8</td>\n      <td>B</td>\n    </tr>\n    <tr>\n      <th>9</th>\n      <td>9</td>\n      <td>B</td>\n    </tr>\n  </tbody>\n</table>\n</div>"
     },
     "execution_count": 4,
     "metadata": {},
     "output_type": "execute_result"
    }
   ],
   "source": [
    "\n",
    "import pandas as pd\n",
    "df = pd.DataFrame({\"a\":np.arange(10),\n",
    "                   \"b\":np.random.choice([\"A\",\"B\"],10)})\n",
    "df"
   ],
   "metadata": {
    "collapsed": false,
    "pycharm": {
     "name": "#%%\n"
    }
   }
  },
  {
   "cell_type": "code",
   "execution_count": 5,
   "outputs": [
    {
     "data": {
      "text/plain": "   b      mean\n0  B  4.333333\n1  A  4.750000",
      "text/html": "<div>\n<style scoped>\n    .dataframe tbody tr th:only-of-type {\n        vertical-align: middle;\n    }\n\n    .dataframe tbody tr th {\n        vertical-align: top;\n    }\n\n    .dataframe thead th {\n        text-align: right;\n    }\n</style>\n<table border=\"1\" class=\"dataframe\">\n  <thead>\n    <tr style=\"text-align: right;\">\n      <th></th>\n      <th>b</th>\n      <th>mean</th>\n    </tr>\n  </thead>\n  <tbody>\n    <tr>\n      <th>0</th>\n      <td>B</td>\n      <td>4.333333</td>\n    </tr>\n    <tr>\n      <th>1</th>\n      <td>A</td>\n      <td>4.750000</td>\n    </tr>\n  </tbody>\n</table>\n</div>"
     },
     "execution_count": 5,
     "metadata": {},
     "output_type": "execute_result"
    }
   ],
   "source": [
    "avg = df.groupby(\"b\", sort=False)[\"a\"].mean().reset_index()\\\n",
    "        .rename(columns={\"a\":\"mean\"})\n",
    "\n"
   ],
   "metadata": {
    "collapsed": false,
    "pycharm": {
     "name": "#%%\n"
    }
   }
  },
  {
   "cell_type": "code",
   "execution_count": 7,
   "outputs": [
    {
     "data": {
      "text/plain": "  sub_acct_id clndr_yr_month  Size\n0           x              a     1\n1           x              b     1\n2           x              c     2\n3           y              a     1\n4           y              b     1\n5           y              c     1\n6           z              a     1\n7           z              b     1",
      "text/html": "<div>\n<style scoped>\n    .dataframe tbody tr th:only-of-type {\n        vertical-align: middle;\n    }\n\n    .dataframe tbody tr th {\n        vertical-align: top;\n    }\n\n    .dataframe thead th {\n        text-align: right;\n    }\n</style>\n<table border=\"1\" class=\"dataframe\">\n  <thead>\n    <tr style=\"text-align: right;\">\n      <th></th>\n      <th>sub_acct_id</th>\n      <th>clndr_yr_month</th>\n      <th>Size</th>\n    </tr>\n  </thead>\n  <tbody>\n    <tr>\n      <th>0</th>\n      <td>x</td>\n      <td>a</td>\n      <td>1</td>\n    </tr>\n    <tr>\n      <th>1</th>\n      <td>x</td>\n      <td>b</td>\n      <td>1</td>\n    </tr>\n    <tr>\n      <th>2</th>\n      <td>x</td>\n      <td>c</td>\n      <td>2</td>\n    </tr>\n    <tr>\n      <th>3</th>\n      <td>y</td>\n      <td>a</td>\n      <td>1</td>\n    </tr>\n    <tr>\n      <th>4</th>\n      <td>y</td>\n      <td>b</td>\n      <td>1</td>\n    </tr>\n    <tr>\n      <th>5</th>\n      <td>y</td>\n      <td>c</td>\n      <td>1</td>\n    </tr>\n    <tr>\n      <th>6</th>\n      <td>z</td>\n      <td>a</td>\n      <td>1</td>\n    </tr>\n    <tr>\n      <th>7</th>\n      <td>z</td>\n      <td>b</td>\n      <td>1</td>\n    </tr>\n  </tbody>\n</table>\n</div>"
     },
     "execution_count": 7,
     "metadata": {},
     "output_type": "execute_result"
    }
   ],
   "source": [
    "\n",
    "df = pd.DataFrame({'sub_acct_id': ['x', 'x', 'x','x','y','y','y','z','z']\n",
    "                , 'clndr_yr_month': ['a', 'b', 'c','c','a','b','c','a','b']})\n",
    "\n",
    "df = df.groupby(['sub_acct_id', 'clndr_yr_month']).size().reset_index(name='Size')\n",
    "df"
   ],
   "metadata": {
    "collapsed": false,
    "pycharm": {
     "name": "#%%\n"
    }
   }
  },
  {
   "cell_type": "code",
   "execution_count": 1,
   "outputs": [
    {
     "data": {
      "text/plain": "[1, 2, 4, 5, 6]"
     },
     "execution_count": 1,
     "metadata": {},
     "output_type": "execute_result"
    }
   ],
   "source": [
    "\n",
    "a = [1, 2, 3, 4, 5, 6]\n",
    "a.remove(3)\n",
    "a"
   ],
   "metadata": {
    "collapsed": false,
    "pycharm": {
     "name": "#%%\n"
    }
   }
  },
  {
   "cell_type": "code",
   "execution_count": 3,
   "outputs": [
    {
     "data": {
      "text/plain": "31"
     },
     "execution_count": 3,
     "metadata": {},
     "output_type": "execute_result"
    }
   ],
   "source": [
    "\n",
    "from datetime import datetime\n",
    "date1 = datetime.strptime(\"2021-01-15\", '%Y-%m-%d')\n",
    "date2 = datetime.strptime(\"2021-02-15\", '%Y-%m-%d')\n",
    "\n",
    "(date2-date1).days\n"
   ],
   "metadata": {
    "collapsed": false,
    "pycharm": {
     "name": "#%%\n"
    }
   }
  },
  {
   "cell_type": "code",
   "execution_count": 11,
   "outputs": [
    {
     "name": "stdout",
     "output_type": "stream",
     "text": [
      "True\n",
      "1998-08-01\n",
      "-1\n"
     ]
    }
   ],
   "source": [
    "import datetime\n",
    "\n",
    "a = datetime.date(1998, 7, 22)\n",
    "b = datetime.date(1998, 7, 23)\n",
    "print(a<b)\n",
    "print(a + datetime.timedelta(days=10))\n",
    "print((a-b).days)\n"
   ],
   "metadata": {
    "collapsed": false,
    "pycharm": {
     "name": "#%%\n"
    }
   }
  },
  {
   "cell_type": "code",
   "execution_count": 13,
   "outputs": [
    {
     "name": "stdout",
     "output_type": "stream",
     "text": [
      "1998-02-28 00:00:00\n"
     ]
    }
   ],
   "source": [
    "from datetime import datetime\n",
    "\n",
    "s = datetime.strptime('1998-02-28', '%Y-%m-%d')\n",
    "print(s)"
   ],
   "metadata": {
    "collapsed": false,
    "pycharm": {
     "name": "#%%\n"
    }
   }
  },
  {
   "cell_type": "code",
   "execution_count": 2,
   "outputs": [
    {
     "name": "stdout",
     "output_type": "stream",
     "text": [
      "[1, 2, 4]\n",
      "[1, 2, 4]\n"
     ]
    }
   ],
   "source": [
    "\n",
    "lst = [1, 2, 3, 4]\n",
    "lst.remove(3)\n",
    "print(lst)\n"
   ],
   "metadata": {
    "collapsed": false,
    "pycharm": {
     "name": "#%%\n"
    }
   }
  },
  {
   "cell_type": "code",
   "execution_count": null,
   "outputs": [],
   "source": [],
   "metadata": {
    "collapsed": false,
    "pycharm": {
     "name": "#%%\n"
    }
   }
  }
 ],
 "metadata": {
  "kernelspec": {
   "display_name": "Python 3",
   "language": "python",
   "name": "python3"
  },
  "language_info": {
   "codemirror_mode": {
    "name": "ipython",
    "version": 2
   },
   "file_extension": ".py",
   "mimetype": "text/x-python",
   "name": "python",
   "nbconvert_exporter": "python",
   "pygments_lexer": "ipython2",
   "version": "2.7.6"
  }
 },
 "nbformat": 4,
 "nbformat_minor": 0
}