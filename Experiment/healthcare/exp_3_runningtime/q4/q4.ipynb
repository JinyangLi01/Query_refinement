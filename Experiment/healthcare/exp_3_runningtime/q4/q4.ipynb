{
 "cells": [
  {
   "cell_type": "code",
   "execution_count": 111,
   "metadata": {
    "collapsed": true,
    "ExecuteTime": {
     "end_time": "2023-07-02T02:05:22.972509Z",
     "start_time": "2023-07-02T02:05:22.967161Z"
    }
   },
   "outputs": [],
   "source": [
    "import numpy as np\n",
    "import pandas as pd\n",
    "import csv\n",
    "import json\n"
   ]
  },
  {
   "cell_type": "code",
   "execution_count": 112,
   "outputs": [
    {
     "name": "stdout",
     "output_type": "stream",
     "text": [
      "887\n",
      "[1 0 3 2 4 5]\n",
      "[ 2  1 10  5  8  3  9  6  7  0  4]\n"
     ]
    }
   ],
   "source": [
    "data_file = r\"../../../../InputData/Healthcare/incomeK/before_selection_incomeK.csv\"\n",
    "query_file_prefix = r\"query4.json\"\n",
    "\n",
    "data = pd.read_csv(data_file, index_col=False)\n",
    "\n",
    "print(len(data))\n",
    "print(data['num-children'].unique())\n",
    "print(data['complications'].unique())\n",
    "\n"
   ],
   "metadata": {
    "collapsed": false,
    "ExecuteTime": {
     "end_time": "2023-07-02T02:05:23.308986Z",
     "start_time": "2023-07-02T02:05:23.303533Z"
    }
   }
  },
  {
   "cell_type": "code",
   "execution_count": 113,
   "outputs": [
    {
     "name": "stdout",
     "output_type": "stream",
     "text": [
      "                id  num-children      income  complications\n",
      "count   887.000000    887.000000  887.000000     887.000000\n",
      "mean    495.503946      2.390079  162.365276       5.145434\n",
      "std     289.406386      1.676768  110.010853       3.129673\n",
      "min       1.000000      0.000000    8.000000       0.000000\n",
      "25%     243.500000      1.000000   76.000000       2.000000\n",
      "50%     493.000000      2.000000  140.000000       5.000000\n",
      "75%     743.000000      4.000000  218.000000       8.000000\n",
      "max    1000.000000      5.000000  447.000000      10.000000\n"
     ]
    }
   ],
   "source": [
    "print(data.describe())\n"
   ],
   "metadata": {
    "collapsed": false,
    "ExecuteTime": {
     "end_time": "2023-07-02T02:05:23.733963Z",
     "start_time": "2023-07-02T02:05:23.723385Z"
    }
   }
  },
  {
   "cell_type": "code",
   "execution_count": 114,
   "outputs": [
    {
     "data": {
      "text/plain": "array(['race3', 'race1', nan, 'race2'], dtype=object)"
     },
     "execution_count": 114,
     "metadata": {},
     "output_type": "execute_result"
    }
   ],
   "source": [
    "data[\"race\"].unique()"
   ],
   "metadata": {
    "collapsed": false,
    "ExecuteTime": {
     "end_time": "2023-07-02T02:05:24.171002Z",
     "start_time": "2023-07-02T02:05:24.163234Z"
    }
   }
  },
  {
   "cell_type": "code",
   "execution_count": 115,
   "outputs": [],
   "source": [
    "data['smoker'] = data['smoker'].replace({True: \"yes\", False: \"no\"})"
   ],
   "metadata": {
    "collapsed": false,
    "ExecuteTime": {
     "end_time": "2023-07-02T02:05:24.942831Z",
     "start_time": "2023-07-02T02:05:24.927983Z"
    }
   }
  },
  {
   "cell_type": "code",
   "execution_count": 116,
   "outputs": [
    {
     "data": {
      "text/plain": "887"
     },
     "execution_count": 116,
     "metadata": {},
     "output_type": "execute_result"
    }
   ],
   "source": [
    "len(data)"
   ],
   "metadata": {
    "collapsed": false,
    "ExecuteTime": {
     "end_time": "2023-07-02T02:05:25.427809Z",
     "start_time": "2023-07-02T02:05:25.419672Z"
    }
   }
  },
  {
   "cell_type": "code",
   "execution_count": 117,
   "outputs": [],
   "source": [
    "data.to_csv(data_file, index=False)"
   ],
   "metadata": {
    "collapsed": false,
    "ExecuteTime": {
     "end_time": "2023-07-02T02:05:26.209804Z",
     "start_time": "2023-07-02T02:05:26.201851Z"
    }
   }
  },
  {
   "cell_type": "code",
   "execution_count": 72,
   "outputs": [],
   "source": [
    "\n",
    "# data1 = data1[(data1[\"num-children\"] >= 3)]\n",
    "# print(len(data1))\n",
    "# print(len(data1)/len(data))\n"
   ],
   "metadata": {
    "collapsed": false,
    "ExecuteTime": {
     "end_time": "2023-07-02T01:44:08.622267Z",
     "start_time": "2023-07-02T01:44:08.618967Z"
    }
   }
  },
  {
   "cell_type": "markdown",
   "source": [
    "# q4"
   ],
   "metadata": {
    "collapsed": false
   }
  },
  {
   "cell_type": "code",
   "execution_count": 118,
   "outputs": [
    {
     "name": "stdout",
     "output_type": "stream",
     "text": [
      "887\n",
      "125\n",
      "125\n",
      "county\n",
      "county1    43\n",
      "county2    23\n",
      "county3    22\n",
      "county4    24\n",
      "dtype: int64\n",
      "67\n",
      "race   age-group\n",
      "race1  group1        7\n",
      "       group2        6\n",
      "       group3        9\n",
      "race2  group1        6\n",
      "       group2        1\n",
      "       group3        6\n",
      "race3  group1        8\n",
      "       group2       14\n",
      "       group3        8\n",
      "dtype: int64\n",
      "race\n",
      "race1    22\n",
      "race2    13\n",
      "race3    30\n",
      "dtype: int64\n",
      "age-group\n",
      "group1    22\n",
      "group2    21\n",
      "group3    24\n",
      "dtype: int64\n",
      "smoker\n",
      "no      6\n",
      "yes    52\n",
      "dtype: int64\n"
     ]
    }
   ],
   "source": [
    "\n",
    "\n",
    "print(len(data))\n",
    "data1 = data[data['income'] >= 300]\n",
    "print(len(data1))\n",
    "data2 = data1[data1['complications'] >= 5]\n",
    "print(len(data2))\n",
    "print(data2.groupby([\"county\"]).size())\n",
    "data3 = data2[(data2['county'] == \"county1\") | (data2['county'] == \"county4\")]\n",
    "print(len(data3))\n",
    "\n",
    "print(data3.groupby(['race', 'age-group']).size())\n",
    "\n",
    "print(data3.groupby(['race']).size())\n",
    "\n",
    "print(data3.groupby(['age-group']).size())\n",
    "\n",
    "print(data3.groupby(['smoker']).size())\n"
   ],
   "metadata": {
    "collapsed": false,
    "ExecuteTime": {
     "end_time": "2023-07-02T02:06:48.845057Z",
     "start_time": "2023-07-02T02:06:48.803802Z"
    }
   }
  },
  {
   "cell_type": "markdown",
   "source": [],
   "metadata": {
    "collapsed": false
   }
  },
  {
   "cell_type": "code",
   "execution_count": 119,
   "outputs": [],
   "source": [
    "data = data3"
   ],
   "metadata": {
    "collapsed": false,
    "ExecuteTime": {
     "end_time": "2023-07-02T02:06:51.049568Z",
     "start_time": "2023-07-02T02:06:51.045273Z"
    }
   }
  },
  {
   "cell_type": "code",
   "execution_count": 120,
   "outputs": [],
   "source": [
    "relax_rate = 1.05\n",
    "contract_rate = 0.95\n",
    "relax_rate_change = [1.1, 1.2, 1.3, 1.4, 1.5, 1.6]\n",
    "contract_rate_change = [0.4, 0.5, 0.6, 0.7, 0.8, 0.9]"
   ],
   "metadata": {
    "collapsed": false,
    "ExecuteTime": {
     "end_time": "2023-07-02T02:06:51.373320Z",
     "start_time": "2023-07-02T02:06:51.371023Z"
    }
   }
  },
  {
   "cell_type": "markdown",
   "source": [
    "## relax"
   ],
   "metadata": {
    "collapsed": false
   }
  },
  {
   "cell_type": "code",
   "execution_count": 121,
   "outputs": [
    {
     "name": "stdout",
     "output_type": "stream",
     "text": [
      "6\n",
      "6.300000000000001\n"
     ]
    }
   ],
   "source": [
    "data1 = data[(data[\"smoker\"] == \"no\")]\n",
    "print(len(data1))\n",
    "print(len(data1) * relax_rate)"
   ],
   "metadata": {
    "collapsed": false,
    "ExecuteTime": {
     "end_time": "2023-07-02T02:06:54.235342Z",
     "start_time": "2023-07-02T02:06:54.230464Z"
    }
   }
  },
  {
   "cell_type": "code",
   "execution_count": 122,
   "outputs": [
    {
     "name": "stdout",
     "output_type": "stream",
     "text": [
      "6.6000000000000005\n",
      "7.199999999999999\n",
      "7.800000000000001\n",
      "8.399999999999999\n",
      "9.0\n",
      "9.600000000000001\n"
     ]
    }
   ],
   "source": [
    "for s in relax_rate_change:\n",
    "    print(len(data1) * s)"
   ],
   "metadata": {
    "collapsed": false,
    "ExecuteTime": {
     "end_time": "2023-07-02T02:06:56.130603Z",
     "start_time": "2023-07-02T02:06:56.123439Z"
    }
   }
  },
  {
   "cell_type": "code",
   "execution_count": 123,
   "outputs": [
    {
     "name": "stdout",
     "output_type": "stream",
     "text": [
      "13\n",
      "13.65\n"
     ]
    }
   ],
   "source": [
    "data2 = data[(data[\"race\"] == \"race2\")]\n",
    "print(len(data2))\n",
    "print(len(data2) * relax_rate)\n"
   ],
   "metadata": {
    "collapsed": false,
    "ExecuteTime": {
     "end_time": "2023-07-02T02:06:56.538020Z",
     "start_time": "2023-07-02T02:06:56.526650Z"
    }
   }
  },
  {
   "cell_type": "code",
   "execution_count": 123,
   "outputs": [],
   "source": [
    "\n",
    "\n"
   ],
   "metadata": {
    "collapsed": false,
    "ExecuteTime": {
     "end_time": "2023-07-02T02:06:56.933388Z",
     "start_time": "2023-07-02T02:06:56.930965Z"
    }
   }
  },
  {
   "cell_type": "markdown",
   "source": [
    "# contract"
   ],
   "metadata": {
    "collapsed": false
   }
  },
  {
   "cell_type": "code",
   "execution_count": 124,
   "outputs": [
    {
     "name": "stdout",
     "output_type": "stream",
     "text": [
      "52\n",
      "49.4\n"
     ]
    }
   ],
   "source": [
    "data1 = data[(data[\"smoker\"] == \"yes\")]\n",
    "print(len(data1))\n",
    "print(len(data1) * contract_rate)"
   ],
   "metadata": {
    "collapsed": false,
    "ExecuteTime": {
     "end_time": "2023-07-02T02:07:01.934722Z",
     "start_time": "2023-07-02T02:07:01.930845Z"
    }
   }
  },
  {
   "cell_type": "code",
   "execution_count": 125,
   "outputs": [
    {
     "name": "stdout",
     "output_type": "stream",
     "text": [
      "20.8\n",
      "26.0\n",
      "31.2\n",
      "36.4\n",
      "41.6\n",
      "46.800000000000004\n"
     ]
    }
   ],
   "source": [
    "for s in contract_rate_change:\n",
    "    print(len(data1) * s)"
   ],
   "metadata": {
    "collapsed": false,
    "ExecuteTime": {
     "end_time": "2023-07-02T02:07:03.040783Z",
     "start_time": "2023-07-02T02:07:03.033756Z"
    }
   }
  },
  {
   "cell_type": "code",
   "execution_count": 126,
   "outputs": [
    {
     "name": "stdout",
     "output_type": "stream",
     "text": [
      "30\n",
      "28.5\n"
     ]
    }
   ],
   "source": [
    "data2 = data[(data[\"race\"] == \"race3\")]\n",
    "print(len(data2))\n",
    "print(len(data2) * contract_rate)\n"
   ],
   "metadata": {
    "collapsed": false,
    "ExecuteTime": {
     "end_time": "2023-07-02T02:07:03.603786Z",
     "start_time": "2023-07-02T02:07:03.598753Z"
    }
   }
  },
  {
   "cell_type": "code",
   "execution_count": 83,
   "outputs": [],
   "source": [
    "\n"
   ],
   "metadata": {
    "collapsed": false,
    "ExecuteTime": {
     "end_time": "2023-07-02T01:46:41.674499Z",
     "start_time": "2023-07-02T01:46:41.669821Z"
    }
   }
  },
  {
   "cell_type": "code",
   "execution_count": 83,
   "outputs": [],
   "source": [],
   "metadata": {
    "collapsed": false,
    "ExecuteTime": {
     "end_time": "2023-07-02T01:46:42.599581Z",
     "start_time": "2023-07-02T01:46:42.598546Z"
    }
   }
  },
  {
   "cell_type": "code",
   "execution_count": 90,
   "outputs": [],
   "source": [],
   "metadata": {
    "collapsed": false,
    "ExecuteTime": {
     "end_time": "2023-07-02T01:50:46.439924Z",
     "start_time": "2023-07-02T01:50:46.434274Z"
    }
   }
  },
  {
   "cell_type": "markdown",
   "source": [
    "# refine"
   ],
   "metadata": {
    "collapsed": false
   }
  },
  {
   "cell_type": "code",
   "execution_count": 127,
   "outputs": [
    {
     "name": "stdout",
     "output_type": "stream",
     "text": [
      "6\n",
      "6.300000000000001\n"
     ]
    }
   ],
   "source": [
    "data1 = data[(data[\"smoker\"] == \"no\")]\n",
    "print(len(data1))\n",
    "print(len(data1) * 1.05)\n"
   ],
   "metadata": {
    "collapsed": false,
    "ExecuteTime": {
     "end_time": "2023-07-02T02:07:51.688456Z",
     "start_time": "2023-07-02T02:07:51.680600Z"
    }
   }
  },
  {
   "cell_type": "code",
   "execution_count": 128,
   "outputs": [],
   "source": [
    "# s = [1.02, 1.04, 1.06, 1.08, 1.10, 1.12]\n",
    "# for r in s:\n",
    "#     print(len(data1) * r)"
   ],
   "metadata": {
    "collapsed": false,
    "ExecuteTime": {
     "end_time": "2023-07-02T02:07:52.429159Z",
     "start_time": "2023-07-02T02:07:52.427789Z"
    }
   }
  },
  {
   "cell_type": "code",
   "execution_count": 129,
   "outputs": [
    {
     "name": "stdout",
     "output_type": "stream",
     "text": [
      "30\n",
      "28.5\n"
     ]
    }
   ],
   "source": [
    "data1 = data[(data[\"race\"] == \"race3\")]\n",
    "print(len(data1))\n",
    "print(len(data1) * contract_rate)"
   ],
   "metadata": {
    "collapsed": false,
    "ExecuteTime": {
     "end_time": "2023-07-02T02:07:53.403175Z",
     "start_time": "2023-07-02T02:07:53.395926Z"
    }
   }
  },
  {
   "cell_type": "code",
   "execution_count": 130,
   "outputs": [
    {
     "name": "stdout",
     "output_type": "stream",
     "text": [
      "26.4\n",
      "27.0\n",
      "27.6\n",
      "28.2\n",
      "28.799999999999997\n",
      "29.4\n"
     ]
    }
   ],
   "source": [
    "s = [0.88, 0.90, 0.92, 0.94, 0.96, 0.98]\n",
    "for r in s:\n",
    "    print(len(data1) * r)\n"
   ],
   "metadata": {
    "collapsed": false,
    "ExecuteTime": {
     "end_time": "2023-07-02T02:07:54.974424Z",
     "start_time": "2023-07-02T02:07:54.968980Z"
    }
   }
  },
  {
   "cell_type": "code",
   "execution_count": 92,
   "outputs": [],
   "source": [],
   "metadata": {
    "collapsed": false,
    "ExecuteTime": {
     "end_time": "2023-07-01T23:28:31.840622Z",
     "start_time": "2023-07-01T23:28:31.836104Z"
    }
   }
  },
  {
   "cell_type": "code",
   "execution_count": null,
   "outputs": [],
   "source": [],
   "metadata": {
    "collapsed": false
   }
  }
 ],
 "metadata": {
  "kernelspec": {
   "display_name": "Python 3",
   "language": "python",
   "name": "python3"
  },
  "language_info": {
   "codemirror_mode": {
    "name": "ipython",
    "version": 2
   },
   "file_extension": ".py",
   "mimetype": "text/x-python",
   "name": "python",
   "nbconvert_exporter": "python",
   "pygments_lexer": "ipython2",
   "version": "2.7.6"
  }
 },
 "nbformat": 4,
 "nbformat_minor": 0
}
