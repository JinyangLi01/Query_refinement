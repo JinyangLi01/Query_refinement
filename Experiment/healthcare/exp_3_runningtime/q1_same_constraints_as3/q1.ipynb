{
 "cells": [
  {
   "cell_type": "code",
   "execution_count": 26,
   "metadata": {
    "collapsed": true,
    "ExecuteTime": {
     "end_time": "2023-07-16T02:43:15.332433Z",
     "start_time": "2023-07-16T02:43:15.330693Z"
    }
   },
   "outputs": [],
   "source": [
    "import numpy as np\n",
    "import pandas as pd\n",
    "import csv\n",
    "import json\n"
   ]
  },
  {
   "cell_type": "code",
   "execution_count": 27,
   "outputs": [
    {
     "name": "stdout",
     "output_type": "stream",
     "text": [
      "[1 0 3 2 4 5]\n",
      "[ 2  1 10  5  8  3  9  6  7  0  4]\n"
     ]
    }
   ],
   "source": [
    "data_file = r\"../../../../InputData/Healthcare/incomeK/before_selection_incomeK.csv\"\n",
    "query_file_prefix = r\"query1.json\"\n",
    "\n",
    "data = pd.read_csv(data_file, index_col=False)\n",
    "\n",
    "print(data['num-children'].unique())\n",
    "print(data['complications'].unique())\n",
    "\n"
   ],
   "metadata": {
    "collapsed": false,
    "ExecuteTime": {
     "end_time": "2023-07-16T02:43:15.556263Z",
     "start_time": "2023-07-16T02:43:15.550100Z"
    }
   }
  },
  {
   "cell_type": "code",
   "execution_count": 28,
   "outputs": [
    {
     "name": "stdout",
     "output_type": "stream",
     "text": [
      "                id  num-children      income  complications\n",
      "count   887.000000    887.000000  887.000000     887.000000\n",
      "mean    495.503946      2.390079  162.365276       5.145434\n",
      "std     289.406386      1.676768  110.010853       3.129673\n",
      "min       1.000000      0.000000    8.000000       0.000000\n",
      "25%     243.500000      1.000000   76.000000       2.000000\n",
      "50%     493.000000      2.000000  140.000000       5.000000\n",
      "75%     743.000000      4.000000  218.000000       8.000000\n",
      "max    1000.000000      5.000000  447.000000      10.000000\n"
     ]
    }
   ],
   "source": [
    "print(data.describe())\n"
   ],
   "metadata": {
    "collapsed": false,
    "ExecuteTime": {
     "end_time": "2023-07-16T02:43:15.763271Z",
     "start_time": "2023-07-16T02:43:15.757659Z"
    }
   }
  },
  {
   "cell_type": "code",
   "execution_count": 29,
   "outputs": [
    {
     "data": {
      "text/plain": "array(['race3', 'race1', nan, 'race2'], dtype=object)"
     },
     "execution_count": 29,
     "metadata": {},
     "output_type": "execute_result"
    }
   ],
   "source": [
    "data[\"race\"].unique()"
   ],
   "metadata": {
    "collapsed": false,
    "ExecuteTime": {
     "end_time": "2023-07-16T02:43:15.970125Z",
     "start_time": "2023-07-16T02:43:15.964267Z"
    }
   }
  },
  {
   "cell_type": "code",
   "execution_count": 30,
   "outputs": [],
   "source": [
    "# print(len(data))\n",
    "# data1 = data[(data[\"income\"] <= 50)]\n",
    "# print(len(data1))\n",
    "# print(len(data1)/len(data))"
   ],
   "metadata": {
    "collapsed": false,
    "ExecuteTime": {
     "end_time": "2023-07-16T02:43:16.279979Z",
     "start_time": "2023-07-16T02:43:16.278542Z"
    }
   }
  },
  {
   "cell_type": "code",
   "execution_count": 31,
   "outputs": [],
   "source": [
    "\n",
    "# data1 = data1[(data1[\"complications\"] >= 5)]\n",
    "# print(len(data1))\n",
    "# print(len(data1)/len(data))\n"
   ],
   "metadata": {
    "collapsed": false,
    "ExecuteTime": {
     "end_time": "2023-07-16T02:43:16.720915Z",
     "start_time": "2023-07-16T02:43:16.719177Z"
    }
   }
  },
  {
   "cell_type": "code",
   "execution_count": 32,
   "outputs": [],
   "source": [
    "\n",
    "# data1 = data1[(data1[\"num-children\"] >= 3)]\n",
    "# print(len(data1))\n",
    "# print(len(data1)/len(data))\n"
   ],
   "metadata": {
    "collapsed": false,
    "ExecuteTime": {
     "end_time": "2023-07-16T02:43:16.918358Z",
     "start_time": "2023-07-16T02:43:16.915050Z"
    }
   }
  },
  {
   "cell_type": "markdown",
   "source": [
    "# q3"
   ],
   "metadata": {
    "collapsed": false
   }
  },
  {
   "cell_type": "code",
   "execution_count": 33,
   "outputs": [
    {
     "name": "stdout",
     "output_type": "stream",
     "text": [
      "887\n",
      "271\n",
      "129\n",
      "race\n",
      "race1    16\n",
      "race2    14\n",
      "race3     9\n",
      "dtype: int64\n",
      "age-group\n",
      "group1    13\n",
      "group2    15\n",
      "group3    18\n",
      "dtype: int64\n"
     ]
    }
   ],
   "source": [
    "\n",
    "\n",
    "print(len(data))\n",
    "data1 = data[data['income'] >= 200]\n",
    "print(len(data1))\n",
    "data2 = data1[data1['num-children'] >= 3]\n",
    "print(len(data2))\n",
    "data3 = data2[(data2['county']==\"county2\") | (data2['county']==\"county3\")]\n",
    "\n",
    "print(data3.groupby(['race']).size())\n",
    "\n",
    "print(data3.groupby(['age-group']).size())\n",
    "\n",
    "data = data3"
   ],
   "metadata": {
    "collapsed": false,
    "ExecuteTime": {
     "end_time": "2023-07-16T02:43:17.405135Z",
     "start_time": "2023-07-16T02:43:17.398748Z"
    }
   }
  },
  {
   "cell_type": "markdown",
   "source": [],
   "metadata": {
    "collapsed": false
   }
  },
  {
   "cell_type": "code",
   "execution_count": 35,
   "outputs": [],
   "source": [
    "relax_rate = 1.05\n",
    "contract_rate = 0.95\n",
    "relax_rate_change = [1.1, 1.2, 1.3, 1.4, 1.5, 1.6]\n",
    "contract_rate_change = [0.4, 0.5, 0.6, 0.7, 0.8, 0.9]"
   ],
   "metadata": {
    "collapsed": false,
    "ExecuteTime": {
     "end_time": "2023-07-16T02:43:27.913196Z",
     "start_time": "2023-07-16T02:43:27.908317Z"
    }
   }
  },
  {
   "cell_type": "markdown",
   "source": [
    "## relax"
   ],
   "metadata": {
    "collapsed": false
   }
  },
  {
   "cell_type": "code",
   "execution_count": 36,
   "outputs": [
    {
     "name": "stdout",
     "output_type": "stream",
     "text": [
      "14\n",
      "14.700000000000001\n"
     ]
    }
   ],
   "source": [
    "data1 = data[(data[\"race\"] == \"race2\")]\n",
    "print(len(data1))\n",
    "print(len(data1) * relax_rate)"
   ],
   "metadata": {
    "collapsed": false,
    "ExecuteTime": {
     "end_time": "2023-07-16T02:43:28.610949Z",
     "start_time": "2023-07-16T02:43:28.604952Z"
    }
   }
  },
  {
   "cell_type": "code",
   "execution_count": 37,
   "outputs": [
    {
     "name": "stdout",
     "output_type": "stream",
     "text": [
      "15.400000000000002\n",
      "16.8\n",
      "18.2\n",
      "19.599999999999998\n",
      "21.0\n",
      "22.400000000000002\n"
     ]
    }
   ],
   "source": [
    "for s in relax_rate_change:\n",
    "    print(len(data1) * s)"
   ],
   "metadata": {
    "collapsed": false,
    "ExecuteTime": {
     "end_time": "2023-07-16T02:43:28.969071Z",
     "start_time": "2023-07-16T02:43:28.967237Z"
    }
   }
  },
  {
   "cell_type": "code",
   "execution_count": 38,
   "outputs": [
    {
     "name": "stdout",
     "output_type": "stream",
     "text": [
      "13\n",
      "13.65\n"
     ]
    }
   ],
   "source": [
    "data2 = data[(data[\"age-group\"] == \"group1\")]\n",
    "print(len(data2))\n",
    "print(len(data2) * relax_rate)\n"
   ],
   "metadata": {
    "collapsed": false,
    "ExecuteTime": {
     "end_time": "2023-07-16T02:43:34.847494Z",
     "start_time": "2023-07-16T02:43:34.845787Z"
    }
   }
  },
  {
   "cell_type": "code",
   "execution_count": 38,
   "outputs": [],
   "source": [
    "\n",
    "\n"
   ],
   "metadata": {
    "collapsed": false,
    "ExecuteTime": {
     "end_time": "2023-07-16T02:43:42.013643Z",
     "start_time": "2023-07-16T02:43:42.011824Z"
    }
   }
  },
  {
   "cell_type": "markdown",
   "source": [
    "# contract"
   ],
   "metadata": {
    "collapsed": false
   }
  },
  {
   "cell_type": "code",
   "execution_count": 39,
   "outputs": [
    {
     "name": "stdout",
     "output_type": "stream",
     "text": [
      "16\n",
      "15.2\n"
     ]
    }
   ],
   "source": [
    "data1 = data[(data[\"race\"] == \"race1\")]\n",
    "print(len(data1))\n",
    "print(len(data1) * contract_rate)"
   ],
   "metadata": {
    "collapsed": false,
    "ExecuteTime": {
     "end_time": "2023-07-16T02:43:42.643590Z",
     "start_time": "2023-07-16T02:43:42.637977Z"
    }
   }
  },
  {
   "cell_type": "code",
   "execution_count": 40,
   "outputs": [
    {
     "name": "stdout",
     "output_type": "stream",
     "text": [
      "6.4\n",
      "8.0\n",
      "9.6\n",
      "11.2\n",
      "12.8\n",
      "14.4\n"
     ]
    }
   ],
   "source": [
    "for s in contract_rate_change:\n",
    "    print(len(data1) * s)"
   ],
   "metadata": {
    "collapsed": false,
    "ExecuteTime": {
     "end_time": "2023-07-16T02:43:43.823817Z",
     "start_time": "2023-07-16T02:43:43.821912Z"
    }
   }
  },
  {
   "cell_type": "code",
   "execution_count": 41,
   "outputs": [
    {
     "name": "stdout",
     "output_type": "stream",
     "text": [
      "15\n",
      "14.25\n"
     ]
    }
   ],
   "source": [
    "data2 = data[(data[\"age-group\"] == \"group2\")]\n",
    "print(len(data2))\n",
    "print(len(data2) * contract_rate)\n"
   ],
   "metadata": {
    "collapsed": false,
    "ExecuteTime": {
     "end_time": "2023-07-16T02:43:44.839582Z",
     "start_time": "2023-07-16T02:43:44.837602Z"
    }
   }
  },
  {
   "cell_type": "code",
   "execution_count": 42,
   "outputs": [
    {
     "name": "stdout",
     "output_type": "stream",
     "text": [
      "18\n",
      "17.099999999999998\n"
     ]
    }
   ],
   "source": [
    "data2 = data[(data[\"age-group\"] == \"group3\")]\n",
    "print(len(data2))\n",
    "print(len(data2) * contract_rate)\n"
   ],
   "metadata": {
    "collapsed": false,
    "ExecuteTime": {
     "end_time": "2023-07-16T02:43:45.300867Z",
     "start_time": "2023-07-16T02:43:45.295557Z"
    }
   }
  },
  {
   "cell_type": "code",
   "execution_count": 84,
   "outputs": [],
   "source": [],
   "metadata": {
    "collapsed": false,
    "ExecuteTime": {
     "end_time": "2023-07-01T23:25:51.736644Z",
     "start_time": "2023-07-01T23:25:51.731083Z"
    }
   }
  },
  {
   "cell_type": "code",
   "execution_count": null,
   "outputs": [],
   "source": [],
   "metadata": {
    "collapsed": false
   }
  },
  {
   "cell_type": "markdown",
   "source": [
    "# refine"
   ],
   "metadata": {
    "collapsed": false
   }
  },
  {
   "cell_type": "code",
   "execution_count": 43,
   "outputs": [
    {
     "name": "stdout",
     "output_type": "stream",
     "text": [
      "13\n",
      "13.65\n"
     ]
    }
   ],
   "source": [
    "data1 = data[(data[\"age-group\"] == \"group1\")]\n",
    "print(len(data1))\n",
    "print(len(data1) * 1.05)\n"
   ],
   "metadata": {
    "collapsed": false,
    "ExecuteTime": {
     "end_time": "2023-07-16T02:44:25.481617Z",
     "start_time": "2023-07-16T02:44:25.476271Z"
    }
   }
  },
  {
   "cell_type": "code",
   "execution_count": 44,
   "outputs": [
    {
     "name": "stdout",
     "output_type": "stream",
     "text": [
      "13.26\n",
      "13.52\n",
      "13.780000000000001\n",
      "14.040000000000001\n",
      "14.3\n",
      "14.560000000000002\n"
     ]
    }
   ],
   "source": [
    "s = [1.02, 1.04, 1.06, 1.08, 1.10, 1.12]\n",
    "for r in s:\n",
    "    print(len(data1) * r)"
   ],
   "metadata": {
    "collapsed": false,
    "ExecuteTime": {
     "end_time": "2023-07-16T02:44:26.057092Z",
     "start_time": "2023-07-16T02:44:26.055209Z"
    }
   }
  },
  {
   "cell_type": "code",
   "execution_count": 45,
   "outputs": [
    {
     "name": "stdout",
     "output_type": "stream",
     "text": [
      "16\n",
      "15.2\n"
     ]
    }
   ],
   "source": [
    "data1 = data[(data[\"race\"] == \"race1\")]\n",
    "print(len(data1))\n",
    "print(len(data1) * contract_rate)"
   ],
   "metadata": {
    "collapsed": false,
    "ExecuteTime": {
     "end_time": "2023-07-16T02:44:26.807576Z",
     "start_time": "2023-07-16T02:44:26.803442Z"
    }
   }
  },
  {
   "cell_type": "code",
   "execution_count": 92,
   "outputs": [],
   "source": [
    "\n"
   ],
   "metadata": {
    "collapsed": false,
    "ExecuteTime": {
     "end_time": "2023-07-01T23:28:31.393874Z",
     "start_time": "2023-07-01T23:28:31.392165Z"
    }
   }
  },
  {
   "cell_type": "code",
   "execution_count": 92,
   "outputs": [],
   "source": [],
   "metadata": {
    "collapsed": false,
    "ExecuteTime": {
     "end_time": "2023-07-01T23:28:31.840622Z",
     "start_time": "2023-07-01T23:28:31.836104Z"
    }
   }
  },
  {
   "cell_type": "code",
   "execution_count": null,
   "outputs": [],
   "source": [],
   "metadata": {
    "collapsed": false
   }
  }
 ],
 "metadata": {
  "kernelspec": {
   "display_name": "Python 3",
   "language": "python",
   "name": "python3"
  },
  "language_info": {
   "codemirror_mode": {
    "name": "ipython",
    "version": 2
   },
   "file_extension": ".py",
   "mimetype": "text/x-python",
   "name": "python",
   "nbconvert_exporter": "python",
   "pygments_lexer": "ipython2",
   "version": "2.7.6"
  }
 },
 "nbformat": 4,
 "nbformat_minor": 0
}
