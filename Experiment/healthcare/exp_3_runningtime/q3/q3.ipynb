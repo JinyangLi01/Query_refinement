{
 "cells": [
  {
   "cell_type": "code",
   "execution_count": 1,
   "metadata": {
    "collapsed": true,
    "ExecuteTime": {
     "end_time": "2023-07-16T02:37:56.950903Z",
     "start_time": "2023-07-16T02:37:56.725101Z"
    }
   },
   "outputs": [],
   "source": [
    "import numpy as np\n",
    "import pandas as pd\n",
    "import csv\n",
    "import json\n"
   ]
  },
  {
   "cell_type": "code",
   "execution_count": 2,
   "outputs": [
    {
     "name": "stdout",
     "output_type": "stream",
     "text": [
      "[2 4 0 3 1 5]\n",
      "[ 8  9 10  7  6]\n"
     ]
    }
   ],
   "source": [
    "data_file = r\"../../../../InputData/Healthcare/incomeK/before_selection_incomeK.csv\"\n",
    "query_file_prefix = r\"query3.json\"\n",
    "\n",
    "data = pd.read_csv(data_file, index_col=False)\n",
    "\n",
    "print(data['num-children'].unique())\n",
    "print(data['complications'].unique())\n",
    "\n"
   ],
   "metadata": {
    "collapsed": false,
    "ExecuteTime": {
     "end_time": "2023-07-16T02:37:56.954076Z",
     "start_time": "2023-07-16T02:37:56.946690Z"
    }
   }
  },
  {
   "cell_type": "code",
   "execution_count": 3,
   "outputs": [
    {
     "name": "stdout",
     "output_type": "stream",
     "text": [
      "               id  num-children      income  complications\n",
      "count   67.000000     67.000000   67.000000      67.000000\n",
      "mean   537.029851      2.373134  372.567164       8.417910\n",
      "std    302.376144      1.640730   40.720118       1.182566\n",
      "min     18.000000      0.000000  300.000000       6.000000\n",
      "25%    263.500000      1.000000  336.500000       7.000000\n",
      "50%    542.000000      2.000000  376.000000       8.000000\n",
      "75%    840.500000      4.000000  404.000000       9.000000\n",
      "max    992.000000      5.000000  446.000000      10.000000\n"
     ]
    }
   ],
   "source": [
    "print(data.describe())\n"
   ],
   "metadata": {
    "collapsed": false,
    "ExecuteTime": {
     "end_time": "2023-07-16T02:37:56.969589Z",
     "start_time": "2023-07-16T02:37:56.958075Z"
    }
   }
  },
  {
   "cell_type": "code",
   "execution_count": 4,
   "outputs": [
    {
     "data": {
      "text/plain": "array([nan, 'race1', 'race3', 'race2'], dtype=object)"
     },
     "execution_count": 4,
     "metadata": {},
     "output_type": "execute_result"
    }
   ],
   "source": [
    "data[\"race\"].unique()"
   ],
   "metadata": {
    "collapsed": false,
    "ExecuteTime": {
     "end_time": "2023-07-16T02:37:56.969787Z",
     "start_time": "2023-07-16T02:37:56.965766Z"
    }
   }
  },
  {
   "cell_type": "code",
   "execution_count": 118,
   "outputs": [],
   "source": [
    "# print(len(data))\n",
    "# data1 = data[(data[\"income\"] <= 50)]\n",
    "# print(len(data1))\n",
    "# print(len(data1)/len(data))"
   ],
   "metadata": {
    "collapsed": false,
    "ExecuteTime": {
     "end_time": "2023-07-02T02:39:57.561094Z",
     "start_time": "2023-07-02T02:39:57.556917Z"
    }
   }
  },
  {
   "cell_type": "code",
   "execution_count": 119,
   "outputs": [],
   "source": [
    "\n",
    "# data1 = data1[(data1[\"complications\"] >= 5)]\n",
    "# print(len(data1))\n",
    "# print(len(data1)/len(data))\n"
   ],
   "metadata": {
    "collapsed": false,
    "ExecuteTime": {
     "end_time": "2023-07-02T02:39:57.895188Z",
     "start_time": "2023-07-02T02:39:57.888660Z"
    }
   }
  },
  {
   "cell_type": "code",
   "execution_count": 120,
   "outputs": [],
   "source": [
    "\n",
    "# data1 = data1[(data1[\"num-children\"] >= 3)]\n",
    "# print(len(data1))\n",
    "# print(len(data1)/len(data))\n"
   ],
   "metadata": {
    "collapsed": false,
    "ExecuteTime": {
     "end_time": "2023-07-02T02:39:58.087583Z",
     "start_time": "2023-07-02T02:39:58.084236Z"
    }
   }
  },
  {
   "cell_type": "markdown",
   "source": [
    "# q3"
   ],
   "metadata": {
    "collapsed": false
   }
  },
  {
   "cell_type": "code",
   "execution_count": 121,
   "outputs": [
    {
     "name": "stdout",
     "output_type": "stream",
     "text": [
      "887\n",
      "313\n",
      "137\n",
      "42\n",
      "race\n",
      "race1    15\n",
      "race2     7\n",
      "race3    13\n",
      "dtype: int64\n",
      "age-group\n",
      "group1    12\n",
      "group2    15\n",
      "group3    15\n",
      "dtype: int64\n"
     ]
    }
   ],
   "source": [
    "\n",
    "\n",
    "print(len(data))\n",
    "data1 = data[data['income'] <= 100]\n",
    "print(len(data1))\n",
    "data2 = data1[data1['complications'] >= 5]\n",
    "print(len(data2))\n",
    "data3 = data2[data2['num-children'] >= 4]\n",
    "print(len(data3))\n",
    "\n",
    "print(data3.groupby(['race']).size())\n",
    "\n",
    "print(data3.groupby(['age-group']).size())\n",
    "\n",
    "data = data3"
   ],
   "metadata": {
    "collapsed": false,
    "ExecuteTime": {
     "end_time": "2023-07-02T02:39:59.093320Z",
     "start_time": "2023-07-02T02:39:59.089854Z"
    }
   }
  },
  {
   "cell_type": "markdown",
   "source": [],
   "metadata": {
    "collapsed": false
   }
  },
  {
   "cell_type": "code",
   "execution_count": 122,
   "outputs": [],
   "source": [
    "relax_rate = 1.05\n",
    "contract_rate = 0.95\n",
    "relax_rate_change = [1.1, 1.2, 1.3, 1.4, 1.5, 1.6]\n",
    "contract_rate_change = [0.4, 0.5, 0.6, 0.7, 0.8, 0.9]"
   ],
   "metadata": {
    "collapsed": false,
    "ExecuteTime": {
     "end_time": "2023-07-02T02:40:01.464977Z",
     "start_time": "2023-07-02T02:40:01.461620Z"
    }
   }
  },
  {
   "cell_type": "markdown",
   "source": [
    "## relax"
   ],
   "metadata": {
    "collapsed": false
   }
  },
  {
   "cell_type": "code",
   "execution_count": 123,
   "outputs": [
    {
     "name": "stdout",
     "output_type": "stream",
     "text": [
      "7\n",
      "7.3500000000000005\n"
     ]
    }
   ],
   "source": [
    "data1 = data[(data[\"race\"] == \"race2\")]\n",
    "print(len(data1))\n",
    "print(len(data1) * relax_rate)"
   ],
   "metadata": {
    "collapsed": false,
    "ExecuteTime": {
     "end_time": "2023-07-02T02:40:02.470861Z",
     "start_time": "2023-07-02T02:40:02.467009Z"
    }
   }
  },
  {
   "cell_type": "code",
   "execution_count": 124,
   "outputs": [
    {
     "name": "stdout",
     "output_type": "stream",
     "text": [
      "7.700000000000001\n",
      "8.4\n",
      "9.1\n",
      "9.799999999999999\n",
      "10.5\n",
      "11.200000000000001\n"
     ]
    }
   ],
   "source": [
    "for s in relax_rate_change:\n",
    "    print(len(data1) * s)"
   ],
   "metadata": {
    "collapsed": false,
    "ExecuteTime": {
     "end_time": "2023-07-02T02:40:03.072270Z",
     "start_time": "2023-07-02T02:40:03.066311Z"
    }
   }
  },
  {
   "cell_type": "code",
   "execution_count": 125,
   "outputs": [
    {
     "name": "stdout",
     "output_type": "stream",
     "text": [
      "12\n",
      "12.600000000000001\n"
     ]
    }
   ],
   "source": [
    "data2 = data[(data[\"age-group\"] == \"group1\")]\n",
    "print(len(data2))\n",
    "print(len(data2) * relax_rate)\n"
   ],
   "metadata": {
    "collapsed": false,
    "ExecuteTime": {
     "end_time": "2023-07-02T02:40:06.037507Z",
     "start_time": "2023-07-02T02:40:06.018002Z"
    }
   }
  },
  {
   "cell_type": "code",
   "execution_count": 125,
   "outputs": [],
   "source": [
    "\n",
    "\n"
   ],
   "metadata": {
    "collapsed": false,
    "ExecuteTime": {
     "end_time": "2023-07-02T02:40:06.839378Z",
     "start_time": "2023-07-02T02:40:06.834950Z"
    }
   }
  },
  {
   "cell_type": "markdown",
   "source": [
    "# contract"
   ],
   "metadata": {
    "collapsed": false
   }
  },
  {
   "cell_type": "code",
   "execution_count": 126,
   "outputs": [
    {
     "name": "stdout",
     "output_type": "stream",
     "text": [
      "15\n",
      "14.25\n"
     ]
    }
   ],
   "source": [
    "data1 = data[(data[\"race\"] == \"race1\")]\n",
    "print(len(data1))\n",
    "print(len(data1) * contract_rate)"
   ],
   "metadata": {
    "collapsed": false,
    "ExecuteTime": {
     "end_time": "2023-07-02T02:40:07.558944Z",
     "start_time": "2023-07-02T02:40:07.554238Z"
    }
   }
  },
  {
   "cell_type": "code",
   "execution_count": 127,
   "outputs": [
    {
     "name": "stdout",
     "output_type": "stream",
     "text": [
      "6.0\n",
      "7.5\n",
      "9.0\n",
      "10.5\n",
      "12.0\n",
      "13.5\n"
     ]
    }
   ],
   "source": [
    "for s in contract_rate_change:\n",
    "    print(len(data1) * s)"
   ],
   "metadata": {
    "collapsed": false,
    "ExecuteTime": {
     "end_time": "2023-07-02T02:40:17.374640Z",
     "start_time": "2023-07-02T02:40:17.370045Z"
    }
   }
  },
  {
   "cell_type": "code",
   "execution_count": 129,
   "outputs": [
    {
     "name": "stdout",
     "output_type": "stream",
     "text": [
      "15\n",
      "14.25\n"
     ]
    }
   ],
   "source": [
    "data2 = data[(data[\"age-group\"] == \"group2\")]\n",
    "print(len(data2))\n",
    "print(len(data2) * contract_rate)\n"
   ],
   "metadata": {
    "collapsed": false,
    "ExecuteTime": {
     "end_time": "2023-07-02T02:40:34.942298Z",
     "start_time": "2023-07-02T02:40:34.936992Z"
    }
   }
  },
  {
   "cell_type": "code",
   "execution_count": 130,
   "outputs": [
    {
     "name": "stdout",
     "output_type": "stream",
     "text": [
      "15\n",
      "14.25\n"
     ]
    }
   ],
   "source": [
    "data2 = data[(data[\"age-group\"] == \"group3\")]\n",
    "print(len(data2))\n",
    "print(len(data2) * contract_rate)\n"
   ],
   "metadata": {
    "collapsed": false,
    "ExecuteTime": {
     "end_time": "2023-07-02T02:40:35.350182Z",
     "start_time": "2023-07-02T02:40:35.345855Z"
    }
   }
  },
  {
   "cell_type": "code",
   "execution_count": 84,
   "outputs": [],
   "source": [],
   "metadata": {
    "collapsed": false,
    "ExecuteTime": {
     "end_time": "2023-07-01T23:25:51.736644Z",
     "start_time": "2023-07-01T23:25:51.731083Z"
    }
   }
  },
  {
   "cell_type": "code",
   "execution_count": null,
   "outputs": [],
   "source": [],
   "metadata": {
    "collapsed": false
   }
  },
  {
   "cell_type": "markdown",
   "source": [
    "# refine"
   ],
   "metadata": {
    "collapsed": false
   }
  },
  {
   "cell_type": "code",
   "execution_count": 131,
   "outputs": [
    {
     "name": "stdout",
     "output_type": "stream",
     "text": [
      "12\n",
      "12.600000000000001\n"
     ]
    }
   ],
   "source": [
    "data1 = data[(data[\"age-group\"] == \"group1\")]\n",
    "print(len(data1))\n",
    "print(len(data1) * 1.05)\n"
   ],
   "metadata": {
    "collapsed": false,
    "ExecuteTime": {
     "end_time": "2023-07-02T02:41:00.107867Z",
     "start_time": "2023-07-02T02:41:00.102139Z"
    }
   }
  },
  {
   "cell_type": "code",
   "execution_count": 132,
   "outputs": [
    {
     "name": "stdout",
     "output_type": "stream",
     "text": [
      "12.24\n",
      "12.48\n",
      "12.72\n",
      "12.96\n",
      "13.200000000000001\n",
      "13.440000000000001\n"
     ]
    }
   ],
   "source": [
    "s = [1.02, 1.04, 1.06, 1.08, 1.10, 1.12]\n",
    "for r in s:\n",
    "    print(len(data1) * r)"
   ],
   "metadata": {
    "collapsed": false,
    "ExecuteTime": {
     "end_time": "2023-07-02T02:41:02.531460Z",
     "start_time": "2023-07-02T02:41:02.523413Z"
    }
   }
  },
  {
   "cell_type": "code",
   "execution_count": 133,
   "outputs": [
    {
     "name": "stdout",
     "output_type": "stream",
     "text": [
      "15\n",
      "14.25\n"
     ]
    }
   ],
   "source": [
    "data1 = data[(data[\"race\"] == \"race1\")]\n",
    "print(len(data1))\n",
    "print(len(data1) * contract_rate)"
   ],
   "metadata": {
    "collapsed": false,
    "ExecuteTime": {
     "end_time": "2023-07-02T02:41:02.970696Z",
     "start_time": "2023-07-02T02:41:02.966002Z"
    }
   }
  },
  {
   "cell_type": "code",
   "execution_count": 92,
   "outputs": [],
   "source": [
    "\n"
   ],
   "metadata": {
    "collapsed": false,
    "ExecuteTime": {
     "end_time": "2023-07-01T23:28:31.393874Z",
     "start_time": "2023-07-01T23:28:31.392165Z"
    }
   }
  },
  {
   "cell_type": "code",
   "execution_count": 92,
   "outputs": [],
   "source": [],
   "metadata": {
    "collapsed": false,
    "ExecuteTime": {
     "end_time": "2023-07-01T23:28:31.840622Z",
     "start_time": "2023-07-01T23:28:31.836104Z"
    }
   }
  },
  {
   "cell_type": "code",
   "execution_count": null,
   "outputs": [],
   "source": [],
   "metadata": {
    "collapsed": false
   }
  }
 ],
 "metadata": {
  "kernelspec": {
   "display_name": "Python 3",
   "language": "python",
   "name": "python3"
  },
  "language_info": {
   "codemirror_mode": {
    "name": "ipython",
    "version": 2
   },
   "file_extension": ".py",
   "mimetype": "text/x-python",
   "name": "python",
   "nbconvert_exporter": "python",
   "pygments_lexer": "ipython2",
   "version": "2.7.6"
  }
 },
 "nbformat": 4,
 "nbformat_minor": 0
}
