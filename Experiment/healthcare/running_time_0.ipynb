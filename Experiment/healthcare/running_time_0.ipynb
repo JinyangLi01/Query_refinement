{
 "cells": [
  {
   "cell_type": "code",
   "execution_count": 3,
   "outputs": [
    {
     "name": "stdout",
     "output_type": "stream",
     "text": [
      "The autoreload extension is already loaded. To reload it, use:\n",
      "  %reload_ext autoreload\n"
     ]
    }
   ],
   "source": [
    "%load_ext autoreload\n",
    "%autoreload 2\n",
    "\n",
    "import warnings\n",
    "import os\n",
    "import pandas as pd\n",
    "from sklearn.compose import ColumnTransformer\n",
    "from sklearn.impute import SimpleImputer\n",
    "from sklearn.model_selection import train_test_split\n",
    "from sklearn.pipeline import Pipeline\n",
    "from sklearn.preprocessing import OneHotEncoder, StandardScaler\n",
    "\n",
    "from Algorithm import ProvenanceSearch_10_20220421 as ps\n",
    "from Algorithm import LatticeTraversal_4_20220901 as lt\n",
    "\n"
   ],
   "metadata": {
    "collapsed": false,
    "pycharm": {
     "name": "#%%\n"
    }
   }
  },
  {
   "cell_type": "code",
   "execution_count": 3,
   "outputs": [
    {
     "name": "stdout",
     "output_type": "stream",
     "text": [
      "========================== provenance search ===================================\n",
      "selected_attributes ['income', 'num_children', 'county']\n",
      "stop line: income             0\n",
      "num_children       0\n",
      "county_county1    48\n",
      "county_county4     0\n",
      "dtype: int64\n",
      "provenance time = 0.8796660900115967\n",
      "table time = 0.012511968612670898\n",
      "searching time = 1.8914201259613037\n",
      "minimal_added_relaxations:[[0, 0, 1, 0], [0, 2, 0, 1], [31, 3, 0, 0], [39, 1, 0, 1], [62, 0, 0, 1], [90, 2, 0, 0]]\n",
      "running time = 2.7836802005767822\n",
      "========================== lattice traversal ===================================\n",
      "selected_attributes ['county', 'income', 'num_children']\n",
      "categorical_att_domain_too_add:\n",
      " [('county', 'county1'), ('county', 'county4')]\n",
      "numeric_att_domain_to_relax:\n",
      " {'income': [100, 99, 98, 97, 96, 95, 94, 93, 92, 91, 90, 89, 88, 87, 86, 85, 84, 83, 82, 81, 80, 79, 78, 77, 76, 75, 74, 73, 72, 71, 70, 69, 68, 67, 66, 65, 64, 63, 62, 61, 60, 59, 58, 57, 56, 55, 54, 53, 52, 51, 50, 49, 48, 47, 46, 45, 44, 43, 42, 41, 40, 39, 38, 37, 36, 35, 34, 33, 32, 31, 30, 28, 27, 26, 25, 22, 21, 20, 19, 18, 17, 16, 15, 14, 13, 12, 11, 10, 9, 8], 'num_children': [3, 2, 1, 0]}\n",
      "\n",
      "relaxed_conditions: \n",
      "\n",
      "[[0, 0, 1, 0], [0, -2, 0, 1], [-31, -3, 0, 0], [-39, -1, 0, 1], [-62, 0, 0, 1], [-90, -2, 0, 0]]\n",
      "running time = 47.83324885368347\n",
      "{'numeric': {'income': ['>=', 100, 1], 'num_children': ['>=', 3, 1]}, 'categorical': {'county': ['county2', 'county3', 'county1']}}\n",
      "{'numeric': {'income': ['>=', 100, 1], 'num_children': ['>=', 1, 1]}, 'categorical': {'county': ['county2', 'county3', 'county4']}}\n",
      "{'numeric': {'income': ['>=', 69, 1], 'num_children': ['>=', 0, 1]}, 'categorical': {'county': ['county2', 'county3']}}\n",
      "{'numeric': {'income': ['>=', 61, 1], 'num_children': ['>=', 2, 1]}, 'categorical': {'county': ['county2', 'county3', 'county4']}}\n",
      "{'numeric': {'income': ['>=', 38, 1], 'num_children': ['>=', 3, 1]}, 'categorical': {'county': ['county2', 'county3', 'county4']}}\n",
      "{'numeric': {'income': ['>=', 10, 1], 'num_children': ['>=', 1, 1]}, 'categorical': {'county': ['county2', 'county3']}}\n"
     ]
    }
   ],
   "source": [
    "\n",
    "\n",
    "\n",
    "data_file = r\"../../InputData/Pipelines/healthcare/incomeK/before_selection_incomeK.csv\"\n",
    "selection_file = r\"../../InputData/Pipelines/healthcare/incomeK/selection1.json\"\n",
    "\n",
    "print(\"========================== provenance search ===================================\")\n",
    "minimal_refinements1, minimal_added_refinements1, running_time1 = ps.FindMinimalRefinement(data_file, selection_file)\n",
    "\n",
    "print(\"running time = {}\".format(running_time1))\n",
    "\n",
    "print(\"========================== lattice traversal ===================================\")\n",
    "\n",
    "minimal_refinements2, minimal_added_refinements2, running_time2 = lt.FindMinimalRefinement(data_file, selection_file)\n",
    "\n",
    "print(\"running time = {}\".format(running_time2))\n",
    "\n",
    "\n",
    "print(*minimal_refinements1, sep=\"\\n\")\n",
    "\n"
   ],
   "metadata": {
    "collapsed": false,
    "pycharm": {
     "name": "#%%\n"
    }
   }
  },
  {
   "cell_type": "code",
   "execution_count": 5,
   "outputs": [
    {
     "name": "stdout",
     "output_type": "stream",
     "text": [
      "========================== provenance search ===================================\n",
      "selected_attributes ['income', 'num_children', 'county']\n",
      "delta table:\n",
      "     income  num_children  county_county1  county_county4\n",
      "0         0             2               0               0\n",
      "1        91             3               1               0\n",
      "2         0             1               0               0\n",
      "3        12             0               0               0\n",
      "4         0             0               0               1\n",
      "..      ...           ...             ...             ...\n",
      "156      56             1               0               1\n",
      "157      57             0               0               0\n",
      "158      22             1               1               0\n",
      "159       4             1               0               0\n",
      "160      49             0               1               0\n",
      "\n",
      "[161 rows x 4 columns]\n",
      "sorted table:\n",
      "     income  num_children  county_county1  county_county4\n",
      "0         4            11               0               0\n",
      "1        11             4              16              18\n",
      "2         2            70              12              11\n",
      "3        14            15               4               8\n",
      "4         5           107              14               5\n",
      "..      ...           ...             ...             ...\n",
      "156     147            58              58              91\n",
      "157     150            79             143              24\n",
      "158      20            82              86              53\n",
      "159       1             1             150              92\n",
      "160      76            20               1              79\n",
      "\n",
      "[161 rows x 4 columns]\n",
      "find minimal terms: [11], value_assignment: [0, 0, 1, 0]\n",
      "stop line: income              0\n",
      "num_children        0\n",
      "county_county1    101\n",
      "county_county4      0\n",
      "dtype: int64\n",
      "find minimal terms: [12], value_assignment: [0, 3, 0, 1]\n",
      "find minimal, terms: [4, 0], value_assignment: [0, 2, 0, 1]\n",
      "find minimal, terms: [7, 16], value_assignment: [31, 3, 0, 0]\n",
      "find minimal, terms: [141, 14], value_assignment: [39, 1, 0, 1]\n",
      "find minimal, terms: [140, 4], value_assignment: [62, 0, 0, 1]\n",
      "find minimal terms: [147], value_assignment: [90, 2, 0, 0]\n",
      "provenance time = 2.38641619682312\n",
      "table time = 0.017999887466430664\n",
      "searching time = 9.246311902999878\n",
      "minimal_added_relaxations:[[0, 0, 1, 0], [0, 2, 0, 1], [31, 3, 0, 0], [39, 1, 0, 1], [62, 0, 0, 1], [90, 2, 0, 0]]\n",
      "running time = 11.65439510345459\n",
      "========================== lattice traversal ===================================\n",
      "selected_attributes ['county', 'income', 'num_children']\n",
      "categorical_att_domain_too_add:\n",
      " [('county', 'county1'), ('county', 'county4')]\n",
      "numeric_att_domain_to_relax:\n",
      " {'income': [100, 99, 98, 97, 96, 95, 94, 93, 92, 91, 90, 89, 88, 87, 86, 85, 84, 83, 82, 81, 80, 79, 78, 77, 76, 75, 74, 73, 72, 71, 70, 69, 68, 67, 66, 65, 64, 63, 62, 61, 60, 59, 58, 57, 56, 55, 54, 53, 52, 51, 50, 49, 48, 47, 46, 45, 44, 43, 42, 41, 40, 39, 38, 37, 36, 35, 34, 33, 32, 31, 30, 28, 27, 26, 25, 22, 21, 20, 19, 18, 17, 16, 15, 14, 13, 12, 11, 10, 9, 8], 'num_children': [3, 2, 1, 0]}\n",
      "minimal_added_relaxations:[[0, 0, 1, 0], [0, -2, 0, 1], [-31, -3, 0, 0], [-39, -1, 0, 1], [-62, 0, 0, 1], [-90, -2, 0, 0]]\n",
      "running time = 89.56646299362183\n",
      "{'numeric': {'income': ['>=', 100, 1], 'num_children': ['>=', 3, 1]}, 'categorical': {'county': ['county2', 'county3', 'county1']}}\n",
      "{'numeric': {'income': ['>=', 100, 1], 'num_children': ['>=', 1, 1]}, 'categorical': {'county': ['county2', 'county3', 'county4']}}\n",
      "{'numeric': {'income': ['>=', 69, 1], 'num_children': ['>=', 0, 1]}, 'categorical': {'county': ['county2', 'county3']}}\n",
      "{'numeric': {'income': ['>=', 61, 1], 'num_children': ['>=', 2, 1]}, 'categorical': {'county': ['county2', 'county3', 'county4']}}\n",
      "{'numeric': {'income': ['>=', 38, 1], 'num_children': ['>=', 3, 1]}, 'categorical': {'county': ['county2', 'county3', 'county4']}}\n",
      "{'numeric': {'income': ['>=', 10, 1], 'num_children': ['>=', 1, 1]}, 'categorical': {'county': ['county2', 'county3']}}\n"
     ]
    }
   ],
   "source": [
    "\n",
    "\n",
    "\n",
    "data_file = r\"../../InputData/Pipelines/healthcare/incomeK/before_selection_incomeK.csv\"\n",
    "selection_file = r\"../../InputData/Pipelines/healthcare/incomeK/selection2.json\"\n",
    "\n",
    "print(\"========================== provenance search ===================================\")\n",
    "minimal_refinements1, minimal_added_refinements1, running_time1 = ps.FindMinimalRefinement(data_file, selection_file)\n",
    "\n",
    "print(\"running time = {}\".format(running_time1))\n",
    "\n",
    "print(\"========================== lattice traversal ===================================\")\n",
    "\n",
    "minimal_refinements2, minimal_added_refinements2, running_time2 = lt.FindMinimalRefinement(data_file, selection_file)\n",
    "\n",
    "print(\"running time = {}\".format(running_time2))\n",
    "\n",
    "\n",
    "print(*minimal_refinements1, sep=\"\\n\")\n",
    "\n",
    "\n"
   ],
   "metadata": {
    "collapsed": false,
    "pycharm": {
     "name": "#%%\n"
    }
   }
  },
  {
   "cell_type": "code",
   "execution_count": 6,
   "outputs": [
    {
     "name": "stdout",
     "output_type": "stream",
     "text": [
      "========================== provenance search ===================================\n",
      "selected_attributes ['income', 'num_children', 'county']\n",
      "stop line: income              0\n",
      "num_children      100\n",
      "county_county1      0\n",
      "county_county3    132\n",
      "dtype: int64\n",
      "provenance time = 1.4688708782196045\n",
      "table time = 0.021752119064331055\n",
      "searching time = 398.14610600471497\n",
      "minimal_added_relaxations:[[0, 2, 0, 1], [0, 0, 1, 0], [0, 3, 0, 0], [62, 0, 0, 1], [39, 1, 0, 1], [52, 2, 0, 0]]\n",
      "running time = 399.63690400123596\n",
      "========================== lattice traversal ===================================\n",
      "selected_attributes ['county', 'income', 'num_children']\n",
      "categorical_att_domain_too_add:\n",
      " [('county', 'county1'), ('county', 'county3')]\n",
      "numeric_att_domain_to_relax:\n",
      " {'income': [100, 99, 98, 97, 96, 95, 94, 93, 92, 91, 90, 89, 88, 87, 86, 85, 84, 83, 82, 81, 80, 79, 78, 77, 76, 75, 74, 73, 72, 71, 70, 69, 68, 67, 66, 65, 64, 63, 62, 61, 60, 59, 58, 57, 56, 55, 54, 53, 52, 51, 50, 49, 48, 47, 46, 45, 44, 43, 42, 41, 40, 39, 38, 37, 36, 35, 34, 33, 32, 31, 30, 28, 27, 26, 25, 22, 21, 20, 19, 18, 17, 16, 15, 14, 13, 12, 11, 10, 9, 8], 'num_children': [3, 2, 1, 0]}\n",
      "minimal_added_relaxations:[[0, 0, 1, 0], [0, -2, 0, 1], [0, -3, 0, 0], [-39, -1, 0, 1], [-52, -2, 0, 0], [-62, 0, 0, 1]]\n",
      "running time = 49.337334871292114\n",
      "{'numeric': {'income': ['>=', 100, 1], 'num_children': ['>=', 1, 1]}, 'categorical': {'county': ['county2', 'county4', 'county3']}}\n",
      "{'numeric': {'income': ['>=', 100, 1], 'num_children': ['>=', 3, 1]}, 'categorical': {'county': ['county2', 'county4', 'county1']}}\n",
      "{'numeric': {'income': ['>=', 100, 1], 'num_children': ['>=', 0, 1]}, 'categorical': {'county': ['county2', 'county4']}}\n",
      "{'numeric': {'income': ['>=', 38, 1], 'num_children': ['>=', 3, 1]}, 'categorical': {'county': ['county2', 'county4', 'county3']}}\n",
      "{'numeric': {'income': ['>=', 61, 1], 'num_children': ['>=', 2, 1]}, 'categorical': {'county': ['county2', 'county4', 'county3']}}\n",
      "{'numeric': {'income': ['>=', 48, 1], 'num_children': ['>=', 1, 1]}, 'categorical': {'county': ['county2', 'county4']}}\n"
     ]
    }
   ],
   "source": [
    "\n",
    "\n",
    "\n",
    "\n",
    "\n",
    "data_file = r\"../../InputData/Pipelines/healthcare/incomeK/before_selection_incomeK.csv\"\n",
    "selection_file = r\"../../InputData/Pipelines/healthcare/incomeK/selection3.json\"\n",
    "\n",
    "print(\"========================== provenance search ===================================\")\n",
    "minimal_refinements1, minimal_added_refinements1, running_time1 = ps.FindMinimalRefinement(data_file, selection_file)\n",
    "\n",
    "print(\"running time = {}\".format(running_time1))\n",
    "\n",
    "print(\"========================== lattice traversal ===================================\")\n",
    "\n",
    "minimal_refinements2, minimal_added_refinements2, running_time2 = lt.FindMinimalRefinement(data_file, selection_file)\n",
    "\n",
    "print(\"running time = {}\".format(running_time2))\n",
    "\n",
    "\n",
    "print(*minimal_refinements1, sep=\"\\n\")\n",
    "\n",
    "\n",
    "\n"
   ],
   "metadata": {
    "collapsed": false,
    "pycharm": {
     "name": "#%%\n"
    }
   }
  },
  {
   "cell_type": "code",
   "execution_count": null,
   "outputs": [],
   "source": [],
   "metadata": {
    "collapsed": false,
    "pycharm": {
     "name": "#%%\n"
    }
   }
  }
 ],
 "metadata": {
  "kernelspec": {
   "display_name": "Python 3",
   "language": "python",
   "name": "python3"
  },
  "language_info": {
   "codemirror_mode": {
    "name": "ipython",
    "version": 2
   },
   "file_extension": ".py",
   "mimetype": "text/x-python",
   "name": "python",
   "nbconvert_exporter": "python",
   "pygments_lexer": "ipython2",
   "version": "2.7.6"
  }
 },
 "nbformat": 4,
 "nbformat_minor": 0
}