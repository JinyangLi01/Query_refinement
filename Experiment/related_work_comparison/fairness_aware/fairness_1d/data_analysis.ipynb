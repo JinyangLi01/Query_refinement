{
 "cells": [
  {
   "cell_type": "code",
   "execution_count": 27,
   "metadata": {
    "collapsed": true,
    "ExecuteTime": {
     "end_time": "2023-08-07T18:43:11.100633Z",
     "start_time": "2023-08-07T18:43:11.077133Z"
    }
   },
   "outputs": [],
   "source": [
    "import numpy as np\n",
    "import pandas as pd\n",
    "import matplotlib.pyplot as plt\n"
   ]
  },
  {
   "cell_type": "markdown",
   "source": [
    "# data texas_tribune.csv"
   ],
   "metadata": {
    "collapsed": false
   }
  },
  {
   "cell_type": "code",
   "execution_count": 28,
   "outputs": [
    {
     "data": {
      "text/plain": "40554"
     },
     "execution_count": 28,
     "metadata": {},
     "output_type": "execute_result"
    }
   ],
   "source": [
    "# Load the data\n",
    "data = pd.read_csv('../data/texas_tribune_unique_x_rounded.csv', sep=' ')\n",
    "len(data)"
   ],
   "metadata": {
    "collapsed": false,
    "ExecuteTime": {
     "end_time": "2023-08-07T18:43:11.868312Z",
     "start_time": "2023-08-07T18:43:11.856553Z"
    }
   }
  },
  {
   "cell_type": "code",
   "execution_count": 29,
   "outputs": [
    {
     "name": "stdout",
     "output_type": "stream",
     "text": [
      "64153\n",
      "85328\n"
     ]
    }
   ],
   "source": [
    "full_data = pd.read_csv('../data/texas_tribune.csv', sep=' ')\n",
    "len(full_data)\n",
    "print(len(full_data[full_data['blue'] == 1])) # male\n",
    "print(len(full_data[full_data['blue'] == 0])) # female"
   ],
   "metadata": {
    "collapsed": false,
    "ExecuteTime": {
     "end_time": "2023-08-07T18:43:14.532047Z",
     "start_time": "2023-08-07T18:43:14.500732Z"
    }
   }
  },
  {
   "cell_type": "code",
   "execution_count": 4,
   "outputs": [],
   "source": [
    "# data_rounded = data.round({'x': 1})\n",
    "# data_rounded.to_csv('../data/texas_tribune_unique_x_rounded.csv', sep=' ', index=False)"
   ],
   "metadata": {
    "collapsed": false,
    "ExecuteTime": {
     "end_time": "2023-08-06T01:50:20.140020Z",
     "start_time": "2023-08-06T01:50:20.136935Z"
    }
   }
  },
  {
   "cell_type": "code",
   "execution_count": 5,
   "outputs": [],
   "source": [
    "# data_sorted = data.sort_values('x', inplace=False)\n",
    "# data_sorted.to_csv('../data/texas_tribune_unique_x_sorted.csv', sep=' ', index=False)"
   ],
   "metadata": {
    "collapsed": false,
    "ExecuteTime": {
     "end_time": "2023-08-06T01:50:20.460263Z",
     "start_time": "2023-08-06T01:50:20.455798Z"
    }
   }
  },
  {
   "cell_type": "markdown",
   "source": [],
   "metadata": {
    "collapsed": false
   }
  },
  {
   "cell_type": "code",
   "execution_count": 6,
   "outputs": [],
   "source": [
    "# data.drop_duplicates(subset=None, keep='first', inplace=True, ignore_index=False)\n",
    "# print(len(data))\n"
   ],
   "metadata": {
    "collapsed": false,
    "ExecuteTime": {
     "end_time": "2023-08-06T01:50:21.141782Z",
     "start_time": "2023-08-06T01:50:21.129182Z"
    }
   }
  },
  {
   "cell_type": "code",
   "execution_count": 7,
   "outputs": [
    {
     "name": "stdout",
     "output_type": "stream",
     "text": [
      "16050 24504\n"
     ]
    }
   ],
   "source": [
    "blue = data[data['blue'] == 1]\n",
    "red = data[data['blue'] == 0]\n",
    "print(len(blue), len(red))"
   ],
   "metadata": {
    "collapsed": false,
    "ExecuteTime": {
     "end_time": "2023-08-06T01:50:21.914089Z",
     "start_time": "2023-08-06T01:50:21.904595Z"
    }
   }
  },
  {
   "cell_type": "code",
   "execution_count": 21,
   "outputs": [],
   "source": [
    "def jaccard_similarity_set(set_a, set_b):\n",
    "    # Calculate the intersection of the sets\n",
    "    intersection = set_a.intersection(set_b)\n",
    "\n",
    "    # Calculate the union of the sets\n",
    "    union = set_a.union(set_b)\n",
    "\n",
    "    # Calculate the Jaccard similarity\n",
    "    if len(union) == 0:\n",
    "        return 0.0  # If both sets are empty, the Jaccard similarity is defined as 0\n",
    "\n",
    "    return len(intersection) / len(union)\n",
    "\n",
    "\n",
    "def jaccard_similarity_query(data, lb1, ub1, lb2, ub2):\n",
    "    idx1 = data[(data['x'] >= lb1) & (data['x'] <= ub1)].index.values.tolist()\n",
    "    idx2 = data[(data['x'] >= lb2) & (data['x'] <= ub2)].index.values.tolist()\n",
    "    # print(len(idx1), '  ', len(idx2))\n",
    "    set1, set2 = set(idx1), set(idx2)\n",
    "    a = jaccard_similarity_set(set1, set2)\n",
    "    # print(len(set1), len(set2), len(set1.intersection(set2)), len(set1.union(set2)))\n",
    "    print(a)\n",
    "    return a\n",
    "\n"
   ],
   "metadata": {
    "collapsed": false,
    "ExecuteTime": {
     "end_time": "2023-08-06T01:51:58.010595Z",
     "start_time": "2023-08-06T01:51:58.008902Z"
    }
   }
  },
  {
   "cell_type": "code",
   "execution_count": 22,
   "outputs": [],
   "source": [
    "\n",
    "def disparity(data, lb, ub):\n",
    "    blue = data[data['blue'] == 1]\n",
    "    red = data[data['blue'] == 0]\n",
    "    red1 = red[(data['x'] >= lb) & (data['x'] <= ub)]\n",
    "    blue1 = blue[(data['x'] >= lb) & (data['x'] <= ub)]\n",
    "    a = len(blue1)\n",
    "    b = len(red1)\n",
    "    print(a, b, a+b, a-b)\n"
   ],
   "metadata": {
    "collapsed": false,
    "ExecuteTime": {
     "end_time": "2023-08-06T01:51:58.477602Z",
     "start_time": "2023-08-06T01:51:58.472705Z"
    }
   }
  },
  {
   "cell_type": "markdown",
   "source": [
    "# 15000, 25000"
   ],
   "metadata": {
    "collapsed": false
   }
  },
  {
   "cell_type": "code",
   "execution_count": 10,
   "outputs": [
    {
     "name": "stdout",
     "output_type": "stream",
     "text": [
      "270 551 821 -281\n"
     ]
    },
    {
     "name": "stderr",
     "output_type": "stream",
     "text": [
      "/var/folders/sy/m1107g5j24x3w6mcyb9njvyw0000gn/T/ipykernel_69037/3016598427.py:4: UserWarning: Boolean Series key will be reindexed to match DataFrame index.\n",
      "  red1 = red[(data['x'] >= lb) & (data['x'] <= ub)]\n",
      "/var/folders/sy/m1107g5j24x3w6mcyb9njvyw0000gn/T/ipykernel_69037/3016598427.py:5: UserWarning: Boolean Series key will be reindexed to match DataFrame index.\n",
      "  blue1 = blue[(data['x'] >= lb) & (data['x'] <= ub)]\n"
     ]
    }
   ],
   "source": [
    "lb, ub = 15000, 25000\n",
    "disparity(data, lb, ub)"
   ],
   "metadata": {
    "collapsed": false,
    "ExecuteTime": {
     "end_time": "2023-08-06T01:50:25.236861Z",
     "start_time": "2023-08-06T01:50:25.229904Z"
    }
   }
  },
  {
   "cell_type": "code",
   "execution_count": 11,
   "outputs": [
    {
     "name": "stdout",
     "output_type": "stream",
     "text": [
      "197 398 595 -201\n"
     ]
    },
    {
     "name": "stderr",
     "output_type": "stream",
     "text": [
      "/var/folders/sy/m1107g5j24x3w6mcyb9njvyw0000gn/T/ipykernel_69037/3016598427.py:4: UserWarning: Boolean Series key will be reindexed to match DataFrame index.\n",
      "  red1 = red[(data['x'] >= lb) & (data['x'] <= ub)]\n",
      "/var/folders/sy/m1107g5j24x3w6mcyb9njvyw0000gn/T/ipykernel_69037/3016598427.py:5: UserWarning: Boolean Series key will be reindexed to match DataFrame index.\n",
      "  blue1 = blue[(data['x'] >= lb) & (data['x'] <= ub)]\n"
     ]
    }
   ],
   "source": [
    "lb, ub = 15031.9 , 24010.4  # by shetiya\n",
    "disparity(data, lb, ub)"
   ],
   "metadata": {
    "collapsed": false,
    "ExecuteTime": {
     "end_time": "2023-08-06T01:50:26.214134Z",
     "start_time": "2023-08-06T01:50:26.205002Z"
    }
   }
  },
  {
   "cell_type": "code",
   "execution_count": 12,
   "outputs": [
    {
     "name": "stdout",
     "output_type": "stream",
     "text": [
      "197 397 594 -200\n",
      "196 397 593 -201\n",
      "101 197 298 -96\n",
      "186 387 573 -201\n",
      "159 358 517 -199\n"
     ]
    },
    {
     "name": "stderr",
     "output_type": "stream",
     "text": [
      "/var/folders/sy/m1107g5j24x3w6mcyb9njvyw0000gn/T/ipykernel_69037/3016598427.py:4: UserWarning: Boolean Series key will be reindexed to match DataFrame index.\n",
      "  red1 = red[(data['x'] >= lb) & (data['x'] <= ub)]\n",
      "/var/folders/sy/m1107g5j24x3w6mcyb9njvyw0000gn/T/ipykernel_69037/3016598427.py:5: UserWarning: Boolean Series key will be reindexed to match DataFrame index.\n",
      "  blue1 = blue[(data['x'] >= lb) & (data['x'] <= ub)]\n"
     ]
    }
   ],
   "source": [
    "# by me\n",
    "result = [[15000.0, 24000.0],\n",
    "[15031.92, 24005.52],\n",
    "[23549.4, 25000.0],\n",
    "[16154.52, 24010.44],\n",
    "[18600.0, 24010.56]]\n",
    "\n",
    "for res in result:\n",
    "    disparity(data, res[0], res[1])\n"
   ],
   "metadata": {
    "collapsed": false,
    "ExecuteTime": {
     "end_time": "2023-08-06T01:50:26.969749Z",
     "start_time": "2023-08-06T01:50:26.955922Z"
    }
   }
  },
  {
   "cell_type": "code",
   "execution_count": 12,
   "outputs": [],
   "source": [],
   "metadata": {
    "collapsed": false,
    "ExecuteTime": {
     "end_time": "2023-08-06T01:50:27.711729Z",
     "start_time": "2023-08-06T01:50:27.706699Z"
    }
   }
  },
  {
   "cell_type": "markdown",
   "source": [
    "# 10000, 20000"
   ],
   "metadata": {
    "collapsed": false
   }
  },
  {
   "cell_type": "code",
   "execution_count": 23,
   "outputs": [
    {
     "name": "stdout",
     "output_type": "stream",
     "text": [
      "100 169 269 -69\n"
     ]
    },
    {
     "name": "stderr",
     "output_type": "stream",
     "text": [
      "/var/folders/sy/m1107g5j24x3w6mcyb9njvyw0000gn/T/ipykernel_69037/3016598427.py:4: UserWarning: Boolean Series key will be reindexed to match DataFrame index.\n",
      "  red1 = red[(data['x'] >= lb) & (data['x'] <= ub)]\n",
      "/var/folders/sy/m1107g5j24x3w6mcyb9njvyw0000gn/T/ipykernel_69037/3016598427.py:5: UserWarning: Boolean Series key will be reindexed to match DataFrame index.\n",
      "  blue1 = blue[(data['x'] >= lb) & (data['x'] <= ub)]\n"
     ]
    }
   ],
   "source": [
    "lb0, ub0 = 10000, 20000\n",
    "disparity(data, lb0, ub0)\n"
   ],
   "metadata": {
    "collapsed": false,
    "ExecuteTime": {
     "end_time": "2023-08-06T01:52:03.202551Z",
     "start_time": "2023-08-06T01:52:03.192623Z"
    }
   }
  },
  {
   "cell_type": "code",
   "execution_count": 24,
   "outputs": [
    {
     "name": "stdout",
     "output_type": "stream",
     "text": [
      "97 160 257 -63\n",
      "0.9553903345724907\n"
     ]
    },
    {
     "name": "stderr",
     "output_type": "stream",
     "text": [
      "/var/folders/sy/m1107g5j24x3w6mcyb9njvyw0000gn/T/ipykernel_69037/3016598427.py:4: UserWarning: Boolean Series key will be reindexed to match DataFrame index.\n",
      "  red1 = red[(data['x'] >= lb) & (data['x'] <= ub)]\n",
      "/var/folders/sy/m1107g5j24x3w6mcyb9njvyw0000gn/T/ipykernel_69037/3016598427.py:5: UserWarning: Boolean Series key will be reindexed to match DataFrame index.\n",
      "  blue1 = blue[(data['x'] >= lb) & (data['x'] <= ub)]\n"
     ]
    },
    {
     "data": {
      "text/plain": "0.9553903345724907"
     },
     "execution_count": 24,
     "metadata": {},
     "output_type": "execute_result"
    }
   ],
   "source": [
    "lb, ub = 10135.7 , 19705.7  # by shetiya  disparity = 50\n",
    "disparity(data, lb, ub)\n",
    "jaccard_similarity_query(data, lb, ub, lb0, ub0)"
   ],
   "metadata": {
    "collapsed": false,
    "ExecuteTime": {
     "end_time": "2023-08-06T01:52:18.904786Z",
     "start_time": "2023-08-06T01:52:18.897005Z"
    }
   }
  },
  {
   "cell_type": "code",
   "execution_count": 26,
   "outputs": [
    {
     "name": "stdout",
     "output_type": "stream",
     "text": [
      "10000 19629.6\n",
      "97 159 256 -62\n",
      "0.9516728624535316\n",
      "11305.8 20000.0\n",
      "90 152 242 -62\n",
      "0.8996282527881041\n",
      "11274.1 19999.9\n",
      "90 152 242 -62\n",
      "0.8996282527881041\n",
      "11205.2 19999.2\n",
      "90 152 242 -62\n",
      "0.8996282527881041\n",
      "11138.4 19759.9\n",
      "87 149 236 -62\n",
      "0.8773234200743495\n",
      "11036.2 19723.8\n",
      "89 151 240 -62\n",
      "0.8921933085501859\n",
      "10764.0 19705.7\n",
      "92 154 246 -62\n",
      "0.9144981412639405\n",
      "10135.7 19701.5\n",
      "97 159 256 -62\n",
      "0.9516728624535316\n"
     ]
    },
    {
     "name": "stderr",
     "output_type": "stream",
     "text": [
      "/var/folders/sy/m1107g5j24x3w6mcyb9njvyw0000gn/T/ipykernel_69037/3016598427.py:4: UserWarning: Boolean Series key will be reindexed to match DataFrame index.\n",
      "  red1 = red[(data['x'] >= lb) & (data['x'] <= ub)]\n",
      "/var/folders/sy/m1107g5j24x3w6mcyb9njvyw0000gn/T/ipykernel_69037/3016598427.py:5: UserWarning: Boolean Series key will be reindexed to match DataFrame index.\n",
      "  blue1 = blue[(data['x'] >= lb) & (data['x'] <= ub)]\n"
     ]
    }
   ],
   "source": [
    "# by me, disparity = 63\n",
    "result = [\n",
    "[10000, 19629.6],\n",
    "[11305.8, 20000.0],\n",
    "[11274.1, 19999.9],\n",
    "[11205.2, 19999.2],\n",
    "[11138.4, 19759.9],\n",
    "[11036.2, 19723.8],\n",
    "[10764.0, 19705.7],\n",
    "[10135.7, 19701.5]\n",
    "]\n",
    "\n",
    "for res in result:\n",
    "    print(res[0], res[1])\n",
    "    disparity(data, res[0], res[1])\n",
    "    jaccard_similarity_query(data, res[0], res[1], lb0, ub0)"
   ],
   "metadata": {
    "collapsed": false,
    "ExecuteTime": {
     "end_time": "2023-08-06T01:59:10.305659Z",
     "start_time": "2023-08-06T01:59:10.272036Z"
    }
   }
  },
  {
   "cell_type": "code",
   "execution_count": 34,
   "outputs": [
    {
     "name": "stdout",
     "output_type": "stream",
     "text": [
      "97 162 259 -65\n",
      "0.9628252788104089\n"
     ]
    },
    {
     "name": "stderr",
     "output_type": "stream",
     "text": [
      "/var/folders/sy/m1107g5j24x3w6mcyb9njvyw0000gn/T/ipykernel_26290/3016598427.py:4: UserWarning: Boolean Series key will be reindexed to match DataFrame index.\n",
      "  red1 = red[(data['x'] >= lb) & (data['x'] <= ub)]\n",
      "/var/folders/sy/m1107g5j24x3w6mcyb9njvyw0000gn/T/ipykernel_26290/3016598427.py:5: UserWarning: Boolean Series key will be reindexed to match DataFrame index.\n",
      "  blue1 = blue[(data['x'] >= lb) & (data['x'] <= ub)]\n"
     ]
    },
    {
     "data": {
      "text/plain": "0.9628252788104089"
     },
     "execution_count": 34,
     "metadata": {},
     "output_type": "execute_result"
    }
   ],
   "source": [
    "lb, ub = 10135.7 , 19759.9  # by Shetiya\n",
    "disparity(data, lb, ub)\n",
    "jaccard_similarity_query(data, lb, ub, lb0, ub0)"
   ],
   "metadata": {
    "collapsed": false
   }
  },
  {
   "cell_type": "code",
   "execution_count": 26,
   "outputs": [
    {
     "name": "stdout",
     "output_type": "stream",
     "text": [
      "11138.4 20000.0\n",
      "155 90 245 65\n",
      "0.9107806691449815\n",
      "10000.0 19723.8\n",
      "162 97 259 65\n",
      "0.9628252788104089\n",
      "10135.7 19759.9\n",
      "162 97 259 65\n",
      "0.9628252788104089\n",
      "10764.0 19999.2\n",
      "160 95 255 65\n",
      "0.9479553903345725\n",
      "11036.2 19999.9\n",
      "157 92 249 65\n",
      "0.9256505576208178\n"
     ]
    },
    {
     "name": "stderr",
     "output_type": "stream",
     "text": [
      "/var/folders/sy/m1107g5j24x3w6mcyb9njvyw0000gn/T/ipykernel_26290/1633426843.py:4: UserWarning: Boolean Series key will be reindexed to match DataFrame index.\n",
      "  red1 = red[(data['x'] >= lb) & (data['x'] <= ub)]\n",
      "/var/folders/sy/m1107g5j24x3w6mcyb9njvyw0000gn/T/ipykernel_26290/1633426843.py:5: UserWarning: Boolean Series key will be reindexed to match DataFrame index.\n",
      "  blue1 = blue[(data['x'] >= lb) & (data['x'] <= ub)]\n"
     ]
    }
   ],
   "source": [
    "# by me, disparity = 65\n",
    "result = [\n",
    "[20000.0, 11138.4],\n",
    "[19723.8, 10000.0],\n",
    "[19759.9, 10135.7],\n",
    "[19999.2, 10764.0],\n",
    "[19999.9, 11036.2]\n",
    "]\n",
    "\n",
    "for res in result:\n",
    "    print(res[1], res[0])\n",
    "    disparity(data, res[1], res[0])\n",
    "    jaccard_similarity_query(data, res[1], res[0], lb0, ub0)"
   ],
   "metadata": {
    "collapsed": false
   }
  },
  {
   "cell_type": "code",
   "execution_count": null,
   "outputs": [],
   "source": [],
   "metadata": {
    "collapsed": false
   }
  },
  {
   "cell_type": "code",
   "execution_count": null,
   "outputs": [],
   "source": [],
   "metadata": {
    "collapsed": false
   }
  },
  {
   "cell_type": "code",
   "execution_count": null,
   "outputs": [],
   "source": [],
   "metadata": {
    "collapsed": false
   }
  },
  {
   "cell_type": "markdown",
   "source": [
    "# 5000, 25000"
   ],
   "metadata": {
    "collapsed": false
   }
  },
  {
   "cell_type": "code",
   "execution_count": 30,
   "outputs": [
    {
     "name": "stdout",
     "output_type": "stream",
     "text": [
      "62 124 186 -62\n"
     ]
    },
    {
     "name": "stderr",
     "output_type": "stream",
     "text": [
      "/var/folders/sy/m1107g5j24x3w6mcyb9njvyw0000gn/T/ipykernel_69037/3016598427.py:4: UserWarning: Boolean Series key will be reindexed to match DataFrame index.\n",
      "  red1 = red[(data['x'] >= lb) & (data['x'] <= ub)]\n",
      "/var/folders/sy/m1107g5j24x3w6mcyb9njvyw0000gn/T/ipykernel_69037/3016598427.py:5: UserWarning: Boolean Series key will be reindexed to match DataFrame index.\n",
      "  blue1 = blue[(data['x'] >= lb) & (data['x'] <= ub)]\n"
     ]
    }
   ],
   "source": [
    "lb, ub = 5000, 15000\n",
    "disparity(data, lb, ub)"
   ],
   "metadata": {
    "collapsed": false,
    "ExecuteTime": {
     "end_time": "2023-08-07T18:43:28.428682Z",
     "start_time": "2023-08-07T18:43:28.419895Z"
    }
   }
  },
  {
   "cell_type": "code",
   "execution_count": 68,
   "outputs": [
    {
     "name": "stdout",
     "output_type": "stream",
     "text": [
      "407 208 615 199\n"
     ]
    },
    {
     "name": "stderr",
     "output_type": "stream",
     "text": [
      "/var/folders/sy/m1107g5j24x3w6mcyb9njvyw0000gn/T/ipykernel_36223/1633426843.py:4: UserWarning: Boolean Series key will be reindexed to match DataFrame index.\n",
      "  red1 = red[(data['x'] >= lb) & (data['x'] <= ub)]\n",
      "/var/folders/sy/m1107g5j24x3w6mcyb9njvyw0000gn/T/ipykernel_36223/1633426843.py:5: UserWarning: Boolean Series key will be reindexed to match DataFrame index.\n",
      "  blue1 = blue[(data['x'] >= lb) & (data['x'] <= ub)]\n"
     ]
    }
   ],
   "source": [
    "lb, ub = 5760 , 22983.7  # by shetiya\n",
    "disparity(data, lb, ub)"
   ],
   "metadata": {
    "collapsed": false
   }
  },
  {
   "cell_type": "code",
   "execution_count": 1,
   "outputs": [
    {
     "ename": "NameError",
     "evalue": "name 'disparity' is not defined",
     "output_type": "error",
     "traceback": [
      "\u001B[0;31m---------------------------------------------------------------------------\u001B[0m",
      "\u001B[0;31mNameError\u001B[0m                                 Traceback (most recent call last)",
      "\u001B[0;32m/var/folders/sy/m1107g5j24x3w6mcyb9njvyw0000gn/T/ipykernel_1885/1304541238.py\u001B[0m in \u001B[0;36m<module>\u001B[0;34m\u001B[0m\n\u001B[1;32m      5\u001B[0m \u001B[0;34m\u001B[0m\u001B[0m\n\u001B[1;32m      6\u001B[0m \u001B[0;32mfor\u001B[0m \u001B[0mres\u001B[0m \u001B[0;32min\u001B[0m \u001B[0mresult\u001B[0m\u001B[0;34m:\u001B[0m\u001B[0;34m\u001B[0m\u001B[0;34m\u001B[0m\u001B[0m\n\u001B[0;32m----> 7\u001B[0;31m     \u001B[0mdisparity\u001B[0m\u001B[0;34m(\u001B[0m\u001B[0mdata\u001B[0m\u001B[0;34m,\u001B[0m \u001B[0mres\u001B[0m\u001B[0;34m[\u001B[0m\u001B[0;36m0\u001B[0m\u001B[0;34m]\u001B[0m\u001B[0;34m,\u001B[0m \u001B[0mres\u001B[0m\u001B[0;34m[\u001B[0m\u001B[0;36m1\u001B[0m\u001B[0;34m]\u001B[0m\u001B[0;34m)\u001B[0m\u001B[0;34m\u001B[0m\u001B[0;34m\u001B[0m\u001B[0m\n\u001B[0m\u001B[1;32m      8\u001B[0m \u001B[0;34m\u001B[0m\u001B[0m\n",
      "\u001B[0;31mNameError\u001B[0m: name 'disparity' is not defined"
     ]
    }
   ],
   "source": [
    "# by me\n",
    "result = [[5000, 22942.8],\n",
    "[5082.6, 22978.56],\n",
    "[26000.04, 25000.0]]\n",
    "\n",
    "for res in result:\n",
    "    disparity(data, res[0], res[1])\n"
   ],
   "metadata": {
    "collapsed": false
   }
  },
  {
   "cell_type": "code",
   "execution_count": null,
   "outputs": [],
   "source": [],
   "metadata": {
    "collapsed": false
   }
  },
  {
   "cell_type": "code",
   "execution_count": null,
   "outputs": [],
   "source": [],
   "metadata": {
    "collapsed": false
   }
  },
  {
   "cell_type": "code",
   "execution_count": 49,
   "outputs": [
    {
     "name": "stdout",
     "output_type": "stream",
     "text": [
      "4693 2444 7137 2249\n"
     ]
    },
    {
     "name": "stderr",
     "output_type": "stream",
     "text": [
      "/var/folders/sy/m1107g5j24x3w6mcyb9njvyw0000gn/T/ipykernel_36223/1633426843.py:4: UserWarning: Boolean Series key will be reindexed to match DataFrame index.\n",
      "  red1 = red[(data['x'] >= lb) & (data['x'] <= ub)]\n",
      "/var/folders/sy/m1107g5j24x3w6mcyb9njvyw0000gn/T/ipykernel_36223/1633426843.py:5: UserWarning: Boolean Series key will be reindexed to match DataFrame index.\n",
      "  blue1 = blue[(data['x'] >= lb) & (data['x'] <= ub)]\n"
     ]
    }
   ],
   "source": [
    "lb, ub = 55000 , 65000\n",
    "disparity(data, lb, ub)"
   ],
   "metadata": {
    "collapsed": false
   }
  },
  {
   "cell_type": "code",
   "execution_count": 51,
   "outputs": [
    {
     "name": "stdout",
     "output_type": "stream",
     "text": [
      "4161 2161 6322 2000\n"
     ]
    },
    {
     "name": "stderr",
     "output_type": "stream",
     "text": [
      "/var/folders/sy/m1107g5j24x3w6mcyb9njvyw0000gn/T/ipykernel_36223/1633426843.py:4: UserWarning: Boolean Series key will be reindexed to match DataFrame index.\n",
      "  red1 = red[(data['x'] >= lb) & (data['x'] <= ub)]\n",
      "/var/folders/sy/m1107g5j24x3w6mcyb9njvyw0000gn/T/ipykernel_36223/1633426843.py:5: UserWarning: Boolean Series key will be reindexed to match DataFrame index.\n",
      "  blue1 = blue[(data['x'] >= lb) & (data['x'] <= ub)]\n"
     ]
    }
   ],
   "source": [
    "lb, ub = 55000.1 , 63660  # by shetiya\n",
    "disparity(data, lb, ub)"
   ],
   "metadata": {
    "collapsed": false
   }
  },
  {
   "cell_type": "code",
   "execution_count": 53,
   "outputs": [
    {
     "name": "stdout",
     "output_type": "stream",
     "text": [
      "4162 2162 6324 2000\n",
      "3764 1943 5707 1821\n",
      "4157 2157 6314 2000\n",
      "4156 2156 6312 2000\n",
      "4156 2156 6312 2000\n"
     ]
    },
    {
     "name": "stderr",
     "output_type": "stream",
     "text": [
      "/var/folders/sy/m1107g5j24x3w6mcyb9njvyw0000gn/T/ipykernel_36223/1633426843.py:4: UserWarning: Boolean Series key will be reindexed to match DataFrame index.\n",
      "  red1 = red[(data['x'] >= lb) & (data['x'] <= ub)]\n",
      "/var/folders/sy/m1107g5j24x3w6mcyb9njvyw0000gn/T/ipykernel_36223/1633426843.py:5: UserWarning: Boolean Series key will be reindexed to match DataFrame index.\n",
      "  blue1 = blue[(data['x'] >= lb) & (data['x'] <= ub)]\n"
     ]
    }
   ],
   "source": [
    "lb, ub = 55000, 63662.76\n",
    "disparity(data, lb, ub)\n",
    "lb, ub = 56746.44, 65000.0\n",
    "disparity(data, lb, ub)\n",
    "lb, ub = 55010.88, 63662.88\n",
    "disparity(data, lb, ub)\n",
    "lb, ub = 55015.08, 63667.08\n",
    "disparity(data, lb, ub)\n",
    "lb, ub = 55016.4, 63667.92\n",
    "disparity(data, lb, ub)"
   ],
   "metadata": {
    "collapsed": false
   }
  },
  {
   "cell_type": "code",
   "execution_count": 28,
   "outputs": [],
   "source": [],
   "metadata": {
    "collapsed": false
   }
  },
  {
   "cell_type": "code",
   "execution_count": null,
   "outputs": [],
   "source": [],
   "metadata": {
    "collapsed": false
   }
  },
  {
   "cell_type": "code",
   "execution_count": null,
   "outputs": [],
   "source": [],
   "metadata": {
    "collapsed": false
   }
  },
  {
   "cell_type": "code",
   "execution_count": null,
   "outputs": [],
   "source": [],
   "metadata": {
    "collapsed": false
   }
  },
  {
   "cell_type": "code",
   "execution_count": null,
   "outputs": [],
   "source": [],
   "metadata": {
    "collapsed": false
   }
  },
  {
   "cell_type": "code",
   "execution_count": null,
   "outputs": [],
   "source": [],
   "metadata": {
    "collapsed": false
   }
  },
  {
   "cell_type": "code",
   "execution_count": null,
   "outputs": [],
   "source": [],
   "metadata": {
    "collapsed": false
   }
  },
  {
   "cell_type": "code",
   "execution_count": null,
   "outputs": [],
   "source": [],
   "metadata": {
    "collapsed": false
   }
  },
  {
   "cell_type": "code",
   "execution_count": null,
   "outputs": [],
   "source": [],
   "metadata": {
    "collapsed": false
   }
  },
  {
   "cell_type": "code",
   "execution_count": 58,
   "outputs": [
    {
     "name": "stdout",
     "output_type": "stream",
     "text": [
      "981\n"
     ]
    }
   ],
   "source": [
    "a = len(blue[(blue['x'] >= 4200) & (blue['x'] <= 20980.8)])\n",
    "print(a)"
   ],
   "metadata": {
    "collapsed": false
   }
  },
  {
   "cell_type": "code",
   "execution_count": 44,
   "outputs": [
    {
     "name": "stdout",
     "output_type": "stream",
     "text": [
      "1506\n"
     ]
    }
   ],
   "source": [
    "b = len(red[(red['x'] >= 4200) & (red['x'] <= 20980.8)])\n",
    "print(b)"
   ],
   "metadata": {
    "collapsed": false
   }
  },
  {
   "cell_type": "code",
   "execution_count": 38,
   "outputs": [
    {
     "data": {
      "text/plain": "94"
     },
     "execution_count": 38,
     "metadata": {},
     "output_type": "execute_result"
    }
   ],
   "source": [
    "b-a"
   ],
   "metadata": {
    "collapsed": false
   }
  },
  {
   "cell_type": "code",
   "execution_count": null,
   "outputs": [],
   "source": [],
   "metadata": {
    "collapsed": false
   }
  },
  {
   "cell_type": "code",
   "execution_count": 15,
   "outputs": [
    {
     "name": "stdout",
     "output_type": "stream",
     "text": [
      "149481\n"
     ]
    },
    {
     "name": "stderr",
     "output_type": "stream",
     "text": [
      "/var/folders/sy/m1107g5j24x3w6mcyb9njvyw0000gn/T/ipykernel_51904/3771947100.py:3: UserWarning: Boolean Series key will be reindexed to match DataFrame index.\n",
      "  data1 = data1[data['x'] <= 20980.8]\n"
     ]
    },
    {
     "data": {
      "text/plain": "2487"
     },
     "execution_count": 15,
     "metadata": {},
     "output_type": "execute_result"
    }
   ],
   "source": [
    "data1 = data[data['x'] >= 4200]\n",
    "print(len(data))\n",
    "data1 = data1[data['x'] <= 20980.8]\n",
    "len(data1)"
   ],
   "metadata": {
    "collapsed": false
   }
  },
  {
   "cell_type": "code",
   "execution_count": null,
   "outputs": [],
   "source": [],
   "metadata": {
    "collapsed": false
   }
  },
  {
   "cell_type": "markdown",
   "source": [
    "# data texas_tribune_unique_x.csv"
   ],
   "metadata": {
    "collapsed": false
   }
  },
  {
   "cell_type": "code",
   "execution_count": 73,
   "outputs": [
    {
     "data": {
      "text/plain": "40554"
     },
     "execution_count": 73,
     "metadata": {},
     "output_type": "execute_result"
    }
   ],
   "source": [
    "# Load the data\n",
    "data = pd.read_csv('../data/texas_tribune_unique_x.csv', sep=' ')\n",
    "len(data)"
   ],
   "metadata": {
    "collapsed": false
   }
  },
  {
   "cell_type": "code",
   "execution_count": 74,
   "outputs": [
    {
     "name": "stdout",
     "output_type": "stream",
     "text": [
      "16050 24504\n"
     ]
    }
   ],
   "source": [
    "blue = data[data['blue'] == 1]\n",
    "red = data[data['blue'] == 0]\n",
    "print(len(blue), len(red))"
   ],
   "metadata": {
    "collapsed": false
   }
  },
  {
   "cell_type": "code",
   "execution_count": 85,
   "outputs": [
    {
     "name": "stdout",
     "output_type": "stream",
     "text": [
      "674 332 1006 342\n"
     ]
    },
    {
     "name": "stderr",
     "output_type": "stream",
     "text": [
      "/var/folders/sy/m1107g5j24x3w6mcyb9njvyw0000gn/T/ipykernel_89802/1633426843.py:4: UserWarning: Boolean Series key will be reindexed to match DataFrame index.\n",
      "  red1 = red[(data['x'] >= lb) & (data['x'] <= ub)]\n",
      "/var/folders/sy/m1107g5j24x3w6mcyb9njvyw0000gn/T/ipykernel_89802/1633426843.py:5: UserWarning: Boolean Series key will be reindexed to match DataFrame index.\n",
      "  blue1 = blue[(data['x'] >= lb) & (data['x'] <= ub)]\n"
     ]
    }
   ],
   "source": [
    "lb0, ub0 = 5000, 25000\n",
    "disparity(data, lb0, ub0)"
   ],
   "metadata": {
    "collapsed": false
   }
  },
  {
   "cell_type": "code",
   "execution_count": 84,
   "outputs": [
    {
     "name": "stdout",
     "output_type": "stream",
     "text": [
      "406 206 612 200\n",
      "0.6083499005964215\n"
     ]
    },
    {
     "name": "stderr",
     "output_type": "stream",
     "text": [
      "/var/folders/sy/m1107g5j24x3w6mcyb9njvyw0000gn/T/ipykernel_89802/1633426843.py:4: UserWarning: Boolean Series key will be reindexed to match DataFrame index.\n",
      "  red1 = red[(data['x'] >= lb) & (data['x'] <= ub)]\n",
      "/var/folders/sy/m1107g5j24x3w6mcyb9njvyw0000gn/T/ipykernel_89802/1633426843.py:5: UserWarning: Boolean Series key will be reindexed to match DataFrame index.\n",
      "  blue1 = blue[(data['x'] >= lb) & (data['x'] <= ub)]\n"
     ]
    },
    {
     "data": {
      "text/plain": "0.6083499005964215"
     },
     "execution_count": 84,
     "metadata": {},
     "output_type": "execute_result"
    }
   ],
   "source": [
    "lb, ub = 5000, 22942.8\n",
    "disparity(data, lb, ub)\n",
    "jaccard_similarity_query(data, lb0, ub0, lb, ub)"
   ],
   "metadata": {
    "collapsed": false
   }
  },
  {
   "cell_type": "code",
   "execution_count": 83,
   "outputs": [
    {
     "name": "stdout",
     "output_type": "stream",
     "text": [
      "408 208 616 200\n",
      "0.6123260437375746\n"
     ]
    },
    {
     "name": "stderr",
     "output_type": "stream",
     "text": [
      "/var/folders/sy/m1107g5j24x3w6mcyb9njvyw0000gn/T/ipykernel_89802/1633426843.py:4: UserWarning: Boolean Series key will be reindexed to match DataFrame index.\n",
      "  red1 = red[(data['x'] >= lb) & (data['x'] <= ub)]\n",
      "/var/folders/sy/m1107g5j24x3w6mcyb9njvyw0000gn/T/ipykernel_89802/1633426843.py:5: UserWarning: Boolean Series key will be reindexed to match DataFrame index.\n",
      "  blue1 = blue[(data['x'] >= lb) & (data['x'] <= ub)]\n"
     ]
    },
    {
     "data": {
      "text/plain": "0.6123260437375746"
     },
     "execution_count": 83,
     "metadata": {},
     "output_type": "execute_result"
    }
   ],
   "source": [
    "lb, ub = 5082.6, 22978.56\n",
    "disparity(data, lb, ub)\n",
    "jaccard_similarity_query(data, lb0, ub0, lb, ub)"
   ],
   "metadata": {
    "collapsed": false
   }
  },
  {
   "cell_type": "code",
   "execution_count": 82,
   "outputs": [
    {
     "name": "stdout",
     "output_type": "stream",
     "text": [
      "407 208 615 199\n",
      "0.6113320079522863\n"
     ]
    },
    {
     "name": "stderr",
     "output_type": "stream",
     "text": [
      "/var/folders/sy/m1107g5j24x3w6mcyb9njvyw0000gn/T/ipykernel_89802/1633426843.py:4: UserWarning: Boolean Series key will be reindexed to match DataFrame index.\n",
      "  red1 = red[(data['x'] >= lb) & (data['x'] <= ub)]\n",
      "/var/folders/sy/m1107g5j24x3w6mcyb9njvyw0000gn/T/ipykernel_89802/1633426843.py:5: UserWarning: Boolean Series key will be reindexed to match DataFrame index.\n",
      "  blue1 = blue[(data['x'] >= lb) & (data['x'] <= ub)]\n"
     ]
    },
    {
     "data": {
      "text/plain": "0.6113320079522863"
     },
     "execution_count": 82,
     "metadata": {},
     "output_type": "execute_result"
    }
   ],
   "source": [
    "# found by shetya et al\n",
    "lb, ub = 5760 , 22983.7\n",
    "disparity(data, lb, ub)\n",
    "jaccard_similarity_query(data, lb0, ub0, lb, ub)"
   ],
   "metadata": {
    "collapsed": false
   }
  },
  {
   "cell_type": "code",
   "execution_count": null,
   "outputs": [],
   "source": [],
   "metadata": {
    "collapsed": false
   }
  },
  {
   "cell_type": "code",
   "execution_count": null,
   "outputs": [],
   "source": [],
   "metadata": {
    "collapsed": false
   }
  },
  {
   "cell_type": "code",
   "execution_count": 86,
   "outputs": [
    {
     "name": "stdout",
     "output_type": "stream",
     "text": [
      "4224 2932 7156 1292\n"
     ]
    },
    {
     "name": "stderr",
     "output_type": "stream",
     "text": [
      "/var/folders/sy/m1107g5j24x3w6mcyb9njvyw0000gn/T/ipykernel_89802/1633426843.py:4: UserWarning: Boolean Series key will be reindexed to match DataFrame index.\n",
      "  red1 = red[(data['x'] >= lb) & (data['x'] <= ub)]\n",
      "/var/folders/sy/m1107g5j24x3w6mcyb9njvyw0000gn/T/ipykernel_89802/1633426843.py:5: UserWarning: Boolean Series key will be reindexed to match DataFrame index.\n",
      "  blue1 = blue[(data['x'] >= lb) & (data['x'] <= ub)]\n"
     ]
    }
   ],
   "source": [
    "lb0, ub0 = 40000, 50000\n",
    "disparity(data, lb0, ub0)\n"
   ],
   "metadata": {
    "collapsed": false
   }
  },
  {
   "cell_type": "code",
   "execution_count": 87,
   "outputs": [
    {
     "name": "stdout",
     "output_type": "stream",
     "text": [
      "753 553 1306 200\n"
     ]
    },
    {
     "name": "stderr",
     "output_type": "stream",
     "text": [
      "/var/folders/sy/m1107g5j24x3w6mcyb9njvyw0000gn/T/ipykernel_89802/1633426843.py:4: UserWarning: Boolean Series key will be reindexed to match DataFrame index.\n",
      "  red1 = red[(data['x'] >= lb) & (data['x'] <= ub)]\n",
      "/var/folders/sy/m1107g5j24x3w6mcyb9njvyw0000gn/T/ipykernel_89802/1633426843.py:5: UserWarning: Boolean Series key will be reindexed to match DataFrame index.\n",
      "  blue1 = blue[(data['x'] >= lb) & (data['x'] <= ub)]\n"
     ]
    }
   ],
   "source": [
    "lb, ub = 40000, 41754.84\n",
    "disparity(data, lb, ub)\n"
   ],
   "metadata": {
    "collapsed": false
   }
  },
  {
   "cell_type": "code",
   "execution_count": 88,
   "outputs": [
    {
     "name": "stdout",
     "output_type": "stream",
     "text": [
      "4225 2933 7158 1292\n"
     ]
    },
    {
     "name": "stderr",
     "output_type": "stream",
     "text": [
      "/var/folders/sy/m1107g5j24x3w6mcyb9njvyw0000gn/T/ipykernel_89802/1633426843.py:4: UserWarning: Boolean Series key will be reindexed to match DataFrame index.\n",
      "  red1 = red[(data['x'] >= lb) & (data['x'] <= ub)]\n",
      "/var/folders/sy/m1107g5j24x3w6mcyb9njvyw0000gn/T/ipykernel_89802/1633426843.py:5: UserWarning: Boolean Series key will be reindexed to match DataFrame index.\n",
      "  blue1 = blue[(data['x'] >= lb) & (data['x'] <= ub)]\n"
     ]
    }
   ],
   "source": [
    "lb, ub = 39999.96, 50000.04\n",
    "disparity(data, lb, ub)\n"
   ],
   "metadata": {
    "collapsed": false
   }
  },
  {
   "cell_type": "code",
   "execution_count": 89,
   "outputs": [
    {
     "name": "stdout",
     "output_type": "stream",
     "text": [
      "893 693 1586 200\n"
     ]
    },
    {
     "name": "stderr",
     "output_type": "stream",
     "text": [
      "/var/folders/sy/m1107g5j24x3w6mcyb9njvyw0000gn/T/ipykernel_89802/1633426843.py:4: UserWarning: Boolean Series key will be reindexed to match DataFrame index.\n",
      "  red1 = red[(data['x'] >= lb) & (data['x'] <= ub)]\n",
      "/var/folders/sy/m1107g5j24x3w6mcyb9njvyw0000gn/T/ipykernel_89802/1633426843.py:5: UserWarning: Boolean Series key will be reindexed to match DataFrame index.\n",
      "  blue1 = blue[(data['x'] >= lb) & (data['x'] <= ub)]\n"
     ]
    }
   ],
   "source": [
    "# by Shetya:\n",
    "lb, ub = 43190.9 , 45342.8\n",
    "disparity(data, lb, ub)"
   ],
   "metadata": {
    "collapsed": false
   }
  },
  {
   "cell_type": "code",
   "execution_count": null,
   "outputs": [],
   "source": [],
   "metadata": {
    "collapsed": false
   }
  }
 ],
 "metadata": {
  "kernelspec": {
   "display_name": "Python 3",
   "language": "python",
   "name": "python3"
  },
  "language_info": {
   "codemirror_mode": {
    "name": "ipython",
    "version": 2
   },
   "file_extension": ".py",
   "mimetype": "text/x-python",
   "name": "python",
   "nbconvert_exporter": "python",
   "pygments_lexer": "ipython2",
   "version": "2.7.6"
  }
 },
 "nbformat": 4,
 "nbformat_minor": 0
}
