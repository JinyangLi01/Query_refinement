{
 "cells": [
  {
   "cell_type": "code",
   "execution_count": 1,
   "metadata": {
    "collapsed": true,
    "ExecuteTime": {
     "end_time": "2023-08-05T21:00:05.959580Z",
     "start_time": "2023-08-05T21:00:04.923197Z"
    }
   },
   "outputs": [],
   "source": [
    "import pandas as pd\n",
    "import numpy as np\n",
    "import copy\n",
    "import json\n",
    "from Algorithm import ProvenanceSearchValues_8_complex_optimized_binary as ps\n",
    "from Algorithm import LatticeTraversal_5_20230121 as lt\n"
   ]
  },
  {
   "cell_type": "code",
   "execution_count": 2,
   "outputs": [
    {
     "name": "stdout",
     "output_type": "stream",
     "text": [
      "10000\n"
     ]
    },
    {
     "data": {
      "text/plain": "            x           y  blue\n0  196.117936  290.275447     0\n1  748.658545  683.729258     0\n2  280.366373  507.097135     1\n3  238.944206   72.706203     1\n4  953.546180  190.831150     1",
      "text/html": "<div>\n<style scoped>\n    .dataframe tbody tr th:only-of-type {\n        vertical-align: middle;\n    }\n\n    .dataframe tbody tr th {\n        vertical-align: top;\n    }\n\n    .dataframe thead th {\n        text-align: right;\n    }\n</style>\n<table border=\"1\" class=\"dataframe\">\n  <thead>\n    <tr style=\"text-align: right;\">\n      <th></th>\n      <th>x</th>\n      <th>y</th>\n      <th>blue</th>\n    </tr>\n  </thead>\n  <tbody>\n    <tr>\n      <th>0</th>\n      <td>196.117936</td>\n      <td>290.275447</td>\n      <td>0</td>\n    </tr>\n    <tr>\n      <th>1</th>\n      <td>748.658545</td>\n      <td>683.729258</td>\n      <td>0</td>\n    </tr>\n    <tr>\n      <th>2</th>\n      <td>280.366373</td>\n      <td>507.097135</td>\n      <td>1</td>\n    </tr>\n    <tr>\n      <th>3</th>\n      <td>238.944206</td>\n      <td>72.706203</td>\n      <td>1</td>\n    </tr>\n    <tr>\n      <th>4</th>\n      <td>953.546180</td>\n      <td>190.831150</td>\n      <td>1</td>\n    </tr>\n  </tbody>\n</table>\n</div>"
     },
     "execution_count": 2,
     "metadata": {},
     "output_type": "execute_result"
    }
   ],
   "source": [
    "data = pd.read_csv(r\"../data/uniform.csv\", sep=' ')\n",
    "print(len(data))\n",
    "data.head()"
   ],
   "metadata": {
    "collapsed": false,
    "ExecuteTime": {
     "end_time": "2023-08-05T21:00:05.998275Z",
     "start_time": "2023-08-05T21:00:05.960113Z"
    }
   }
  },
  {
   "cell_type": "code",
   "execution_count": 69,
   "outputs": [],
   "source": [
    "# data = data[['blue', 'x', 'y']]\n",
    "# data.to_csv(r\"../data/uniform.csv\", sep=' ', index=False)\n"
   ],
   "metadata": {
    "collapsed": false,
    "ExecuteTime": {
     "end_time": "2023-08-02T00:43:29.305354Z",
     "start_time": "2023-08-02T00:43:29.287612Z"
    }
   }
  },
  {
   "cell_type": "code",
   "execution_count": 69,
   "outputs": [],
   "source": [
    "\n"
   ],
   "metadata": {
    "collapsed": false,
    "ExecuteTime": {
     "end_time": "2023-08-02T00:43:29.659689Z",
     "start_time": "2023-08-02T00:43:29.651328Z"
    }
   }
  },
  {
   "cell_type": "code",
   "execution_count": 7,
   "outputs": [
    {
     "data": {
      "text/plain": "               x           y  blue\n3323    0.119246   33.260516     0\n7373    0.178170  842.909829     0\n5501    0.283920  306.770076     0\n8005    0.413244  580.062109     1\n6262    0.568892  256.354380     1\n...          ...         ...   ...\n5934  999.519248  166.353209     0\n9000  999.571220   99.813674     1\n5960  999.580062  271.428169     0\n8801  999.634059   66.948577     1\n2854  999.809807  206.210263     0\n\n[10000 rows x 3 columns]",
      "text/html": "<div>\n<style scoped>\n    .dataframe tbody tr th:only-of-type {\n        vertical-align: middle;\n    }\n\n    .dataframe tbody tr th {\n        vertical-align: top;\n    }\n\n    .dataframe thead th {\n        text-align: right;\n    }\n</style>\n<table border=\"1\" class=\"dataframe\">\n  <thead>\n    <tr style=\"text-align: right;\">\n      <th></th>\n      <th>x</th>\n      <th>y</th>\n      <th>blue</th>\n    </tr>\n  </thead>\n  <tbody>\n    <tr>\n      <th>3323</th>\n      <td>0.119246</td>\n      <td>33.260516</td>\n      <td>0</td>\n    </tr>\n    <tr>\n      <th>7373</th>\n      <td>0.178170</td>\n      <td>842.909829</td>\n      <td>0</td>\n    </tr>\n    <tr>\n      <th>5501</th>\n      <td>0.283920</td>\n      <td>306.770076</td>\n      <td>0</td>\n    </tr>\n    <tr>\n      <th>8005</th>\n      <td>0.413244</td>\n      <td>580.062109</td>\n      <td>1</td>\n    </tr>\n    <tr>\n      <th>6262</th>\n      <td>0.568892</td>\n      <td>256.354380</td>\n      <td>1</td>\n    </tr>\n    <tr>\n      <th>...</th>\n      <td>...</td>\n      <td>...</td>\n      <td>...</td>\n    </tr>\n    <tr>\n      <th>5934</th>\n      <td>999.519248</td>\n      <td>166.353209</td>\n      <td>0</td>\n    </tr>\n    <tr>\n      <th>9000</th>\n      <td>999.571220</td>\n      <td>99.813674</td>\n      <td>1</td>\n    </tr>\n    <tr>\n      <th>5960</th>\n      <td>999.580062</td>\n      <td>271.428169</td>\n      <td>0</td>\n    </tr>\n    <tr>\n      <th>8801</th>\n      <td>999.634059</td>\n      <td>66.948577</td>\n      <td>1</td>\n    </tr>\n    <tr>\n      <th>2854</th>\n      <td>999.809807</td>\n      <td>206.210263</td>\n      <td>0</td>\n    </tr>\n  </tbody>\n</table>\n<p>10000 rows × 3 columns</p>\n</div>"
     },
     "execution_count": 7,
     "metadata": {},
     "output_type": "execute_result"
    }
   ],
   "source": [
    "sorted_data = data.sort_values(by = ['x', 'y'], inplace=False)\n",
    "sorted_data"
   ],
   "metadata": {
    "collapsed": false,
    "ExecuteTime": {
     "end_time": "2023-07-24T02:38:13.795283Z",
     "start_time": "2023-07-24T02:38:13.780632Z"
    }
   }
  },
  {
   "cell_type": "code",
   "execution_count": 13,
   "outputs": [
    {
     "data": {
      "text/plain": "              x           y  blue\n9504   9.084502  489.981738     0\n6877   9.189022  274.166467     1\n6302   9.428817  173.372911     1\n2595   9.748168  118.935805     1\n5665   9.830845  516.236945     0\n629    9.835156  331.106346     0\n2870   9.902150  619.214686     0\n3362   9.947147  494.370034     0\n5320   9.996766  454.935278     0\n6281  10.116066   37.242826     0\n5917  10.208828  974.689942     1\n4375  10.290288  576.172695     1\n3581  10.505851  850.449989     0\n4748  10.558828  689.165515     0\n603   10.632455   49.937307     0\n2704  10.722085   48.708240     0\n5760  10.964825  198.019349     1\n1532  10.966509  101.156155     0\n2705  11.113695  590.674866     0\n1841  11.152886  601.909645     0\n6812  11.189700  548.395779     0\n9496  11.215804  184.826499     0\n5004  11.280910  875.168854     1\n6495  11.344634  558.694926     0\n8786  11.460818  586.909493     1\n6077  11.556628  490.908389     1\n2155  11.570581  222.112342     0\n7081  11.585256   49.952761     1\n9172  11.946057  961.606223     0\n2698  12.070467  314.913753     1\n9210  12.137290  797.522105     0\n8473  12.209602   70.868245     0\n1172  12.230885  430.749707     0\n1973  12.249386  775.012806     0\n4949  12.293790  915.551924     1\n8723  12.307455  374.946800     1\n4044  12.322972  457.798841     1\n5747  12.340663  741.730681     1\n7053  12.363695  575.904272     0\n5888  12.533747  219.099593     0\n5434  12.579030  778.591189     0\n1302  12.639036  412.878422     0\n1771  12.727257  396.805117     0\n188   12.771531  521.505765     1\n5722  12.790605   46.026404     0\n5185  12.829052  110.762883     1\n8908  12.853491  860.070393     0\n6585  12.883698  818.555475     1\n4346  13.118532  767.603936     0\n7416  13.153416  947.434757     0\n493   13.349525  555.778209     0\n4791  13.400269  610.810111     1\n1557  13.471939  280.606639     0\n4998  13.566009   68.387967     1\n2307  13.639348  904.346671     1\n8437  13.666810  355.263973     0\n9950  13.753392  462.310924     0\n9307  14.066018  256.548460     0\n3545  14.208074  474.952657     0\n6467  14.499657  833.596870     1",
      "text/html": "<div>\n<style scoped>\n    .dataframe tbody tr th:only-of-type {\n        vertical-align: middle;\n    }\n\n    .dataframe tbody tr th {\n        vertical-align: top;\n    }\n\n    .dataframe thead th {\n        text-align: right;\n    }\n</style>\n<table border=\"1\" class=\"dataframe\">\n  <thead>\n    <tr style=\"text-align: right;\">\n      <th></th>\n      <th>x</th>\n      <th>y</th>\n      <th>blue</th>\n    </tr>\n  </thead>\n  <tbody>\n    <tr>\n      <th>9504</th>\n      <td>9.084502</td>\n      <td>489.981738</td>\n      <td>0</td>\n    </tr>\n    <tr>\n      <th>6877</th>\n      <td>9.189022</td>\n      <td>274.166467</td>\n      <td>1</td>\n    </tr>\n    <tr>\n      <th>6302</th>\n      <td>9.428817</td>\n      <td>173.372911</td>\n      <td>1</td>\n    </tr>\n    <tr>\n      <th>2595</th>\n      <td>9.748168</td>\n      <td>118.935805</td>\n      <td>1</td>\n    </tr>\n    <tr>\n      <th>5665</th>\n      <td>9.830845</td>\n      <td>516.236945</td>\n      <td>0</td>\n    </tr>\n    <tr>\n      <th>629</th>\n      <td>9.835156</td>\n      <td>331.106346</td>\n      <td>0</td>\n    </tr>\n    <tr>\n      <th>2870</th>\n      <td>9.902150</td>\n      <td>619.214686</td>\n      <td>0</td>\n    </tr>\n    <tr>\n      <th>3362</th>\n      <td>9.947147</td>\n      <td>494.370034</td>\n      <td>0</td>\n    </tr>\n    <tr>\n      <th>5320</th>\n      <td>9.996766</td>\n      <td>454.935278</td>\n      <td>0</td>\n    </tr>\n    <tr>\n      <th>6281</th>\n      <td>10.116066</td>\n      <td>37.242826</td>\n      <td>0</td>\n    </tr>\n    <tr>\n      <th>5917</th>\n      <td>10.208828</td>\n      <td>974.689942</td>\n      <td>1</td>\n    </tr>\n    <tr>\n      <th>4375</th>\n      <td>10.290288</td>\n      <td>576.172695</td>\n      <td>1</td>\n    </tr>\n    <tr>\n      <th>3581</th>\n      <td>10.505851</td>\n      <td>850.449989</td>\n      <td>0</td>\n    </tr>\n    <tr>\n      <th>4748</th>\n      <td>10.558828</td>\n      <td>689.165515</td>\n      <td>0</td>\n    </tr>\n    <tr>\n      <th>603</th>\n      <td>10.632455</td>\n      <td>49.937307</td>\n      <td>0</td>\n    </tr>\n    <tr>\n      <th>2704</th>\n      <td>10.722085</td>\n      <td>48.708240</td>\n      <td>0</td>\n    </tr>\n    <tr>\n      <th>5760</th>\n      <td>10.964825</td>\n      <td>198.019349</td>\n      <td>1</td>\n    </tr>\n    <tr>\n      <th>1532</th>\n      <td>10.966509</td>\n      <td>101.156155</td>\n      <td>0</td>\n    </tr>\n    <tr>\n      <th>2705</th>\n      <td>11.113695</td>\n      <td>590.674866</td>\n      <td>0</td>\n    </tr>\n    <tr>\n      <th>1841</th>\n      <td>11.152886</td>\n      <td>601.909645</td>\n      <td>0</td>\n    </tr>\n    <tr>\n      <th>6812</th>\n      <td>11.189700</td>\n      <td>548.395779</td>\n      <td>0</td>\n    </tr>\n    <tr>\n      <th>9496</th>\n      <td>11.215804</td>\n      <td>184.826499</td>\n      <td>0</td>\n    </tr>\n    <tr>\n      <th>5004</th>\n      <td>11.280910</td>\n      <td>875.168854</td>\n      <td>1</td>\n    </tr>\n    <tr>\n      <th>6495</th>\n      <td>11.344634</td>\n      <td>558.694926</td>\n      <td>0</td>\n    </tr>\n    <tr>\n      <th>8786</th>\n      <td>11.460818</td>\n      <td>586.909493</td>\n      <td>1</td>\n    </tr>\n    <tr>\n      <th>6077</th>\n      <td>11.556628</td>\n      <td>490.908389</td>\n      <td>1</td>\n    </tr>\n    <tr>\n      <th>2155</th>\n      <td>11.570581</td>\n      <td>222.112342</td>\n      <td>0</td>\n    </tr>\n    <tr>\n      <th>7081</th>\n      <td>11.585256</td>\n      <td>49.952761</td>\n      <td>1</td>\n    </tr>\n    <tr>\n      <th>9172</th>\n      <td>11.946057</td>\n      <td>961.606223</td>\n      <td>0</td>\n    </tr>\n    <tr>\n      <th>2698</th>\n      <td>12.070467</td>\n      <td>314.913753</td>\n      <td>1</td>\n    </tr>\n    <tr>\n      <th>9210</th>\n      <td>12.137290</td>\n      <td>797.522105</td>\n      <td>0</td>\n    </tr>\n    <tr>\n      <th>8473</th>\n      <td>12.209602</td>\n      <td>70.868245</td>\n      <td>0</td>\n    </tr>\n    <tr>\n      <th>1172</th>\n      <td>12.230885</td>\n      <td>430.749707</td>\n      <td>0</td>\n    </tr>\n    <tr>\n      <th>1973</th>\n      <td>12.249386</td>\n      <td>775.012806</td>\n      <td>0</td>\n    </tr>\n    <tr>\n      <th>4949</th>\n      <td>12.293790</td>\n      <td>915.551924</td>\n      <td>1</td>\n    </tr>\n    <tr>\n      <th>8723</th>\n      <td>12.307455</td>\n      <td>374.946800</td>\n      <td>1</td>\n    </tr>\n    <tr>\n      <th>4044</th>\n      <td>12.322972</td>\n      <td>457.798841</td>\n      <td>1</td>\n    </tr>\n    <tr>\n      <th>5747</th>\n      <td>12.340663</td>\n      <td>741.730681</td>\n      <td>1</td>\n    </tr>\n    <tr>\n      <th>7053</th>\n      <td>12.363695</td>\n      <td>575.904272</td>\n      <td>0</td>\n    </tr>\n    <tr>\n      <th>5888</th>\n      <td>12.533747</td>\n      <td>219.099593</td>\n      <td>0</td>\n    </tr>\n    <tr>\n      <th>5434</th>\n      <td>12.579030</td>\n      <td>778.591189</td>\n      <td>0</td>\n    </tr>\n    <tr>\n      <th>1302</th>\n      <td>12.639036</td>\n      <td>412.878422</td>\n      <td>0</td>\n    </tr>\n    <tr>\n      <th>1771</th>\n      <td>12.727257</td>\n      <td>396.805117</td>\n      <td>0</td>\n    </tr>\n    <tr>\n      <th>188</th>\n      <td>12.771531</td>\n      <td>521.505765</td>\n      <td>1</td>\n    </tr>\n    <tr>\n      <th>5722</th>\n      <td>12.790605</td>\n      <td>46.026404</td>\n      <td>0</td>\n    </tr>\n    <tr>\n      <th>5185</th>\n      <td>12.829052</td>\n      <td>110.762883</td>\n      <td>1</td>\n    </tr>\n    <tr>\n      <th>8908</th>\n      <td>12.853491</td>\n      <td>860.070393</td>\n      <td>0</td>\n    </tr>\n    <tr>\n      <th>6585</th>\n      <td>12.883698</td>\n      <td>818.555475</td>\n      <td>1</td>\n    </tr>\n    <tr>\n      <th>4346</th>\n      <td>13.118532</td>\n      <td>767.603936</td>\n      <td>0</td>\n    </tr>\n    <tr>\n      <th>7416</th>\n      <td>13.153416</td>\n      <td>947.434757</td>\n      <td>0</td>\n    </tr>\n    <tr>\n      <th>493</th>\n      <td>13.349525</td>\n      <td>555.778209</td>\n      <td>0</td>\n    </tr>\n    <tr>\n      <th>4791</th>\n      <td>13.400269</td>\n      <td>610.810111</td>\n      <td>1</td>\n    </tr>\n    <tr>\n      <th>1557</th>\n      <td>13.471939</td>\n      <td>280.606639</td>\n      <td>0</td>\n    </tr>\n    <tr>\n      <th>4998</th>\n      <td>13.566009</td>\n      <td>68.387967</td>\n      <td>1</td>\n    </tr>\n    <tr>\n      <th>2307</th>\n      <td>13.639348</td>\n      <td>904.346671</td>\n      <td>1</td>\n    </tr>\n    <tr>\n      <th>8437</th>\n      <td>13.666810</td>\n      <td>355.263973</td>\n      <td>0</td>\n    </tr>\n    <tr>\n      <th>9950</th>\n      <td>13.753392</td>\n      <td>462.310924</td>\n      <td>0</td>\n    </tr>\n    <tr>\n      <th>9307</th>\n      <td>14.066018</td>\n      <td>256.548460</td>\n      <td>0</td>\n    </tr>\n    <tr>\n      <th>3545</th>\n      <td>14.208074</td>\n      <td>474.952657</td>\n      <td>0</td>\n    </tr>\n    <tr>\n      <th>6467</th>\n      <td>14.499657</td>\n      <td>833.596870</td>\n      <td>1</td>\n    </tr>\n  </tbody>\n</table>\n</div>"
     },
     "execution_count": 13,
     "metadata": {},
     "output_type": "execute_result"
    }
   ],
   "source": [
    "sorted_data[80:140]"
   ],
   "metadata": {
    "collapsed": false,
    "ExecuteTime": {
     "end_time": "2023-07-24T02:39:21.351634Z",
     "start_time": "2023-07-24T02:39:21.349336Z"
    }
   }
  },
  {
   "cell_type": "code",
   "execution_count": 56,
   "outputs": [
    {
     "name": "stdout",
     "output_type": "stream",
     "text": [
      "200\n"
     ]
    }
   ],
   "source": [
    "ydata = data[(data['y'] >= 20) & (data['y'] <= 40)]\n",
    "print(len(ydata))"
   ],
   "metadata": {
    "collapsed": false,
    "ExecuteTime": {
     "end_time": "2023-08-01T07:34:03.039420Z",
     "start_time": "2023-08-01T07:34:03.036566Z"
    }
   }
  },
  {
   "cell_type": "code",
   "execution_count": 57,
   "outputs": [
    {
     "name": "stdout",
     "output_type": "stream",
     "text": [
      "3\n"
     ]
    }
   ],
   "source": [
    "xdata = ydata[(ydata['x'] >= 10) & (ydata['x'] <= 30)]\n",
    "print(len(xdata))"
   ],
   "metadata": {
    "collapsed": false,
    "ExecuteTime": {
     "end_time": "2023-08-01T07:34:03.326262Z",
     "start_time": "2023-08-01T07:34:03.323672Z"
    }
   }
  },
  {
   "cell_type": "code",
   "execution_count": null,
   "outputs": [],
   "source": [],
   "metadata": {
    "collapsed": false
   }
  },
  {
   "cell_type": "code",
   "execution_count": null,
   "outputs": [],
   "source": [],
   "metadata": {
    "collapsed": false
   }
  },
  {
   "cell_type": "code",
   "execution_count": null,
   "outputs": [],
   "source": [],
   "metadata": {
    "collapsed": false
   }
  },
  {
   "cell_type": "code",
   "execution_count": 22,
   "outputs": [
    {
     "name": "stdout",
     "output_type": "stream",
     "text": [
      "Original DataFrame:\n",
      "     column_name\n",
      "0              0\n",
      "1              1\n",
      "2              2\n",
      "3              3\n",
      "4              4\n",
      "..           ...\n",
      "995          995\n",
      "996          996\n",
      "997          997\n",
      "998          998\n",
      "999          999\n",
      "\n",
      "[1000 rows x 1 columns]\n",
      "\n",
      "DataFrame with last 900 values dropped:\n",
      "    column_name\n",
      "0             0\n",
      "1             1\n",
      "2             2\n",
      "3             3\n",
      "4             4\n",
      "..          ...\n",
      "95           95\n",
      "96           96\n",
      "97           97\n",
      "98           98\n",
      "99           99\n",
      "\n",
      "[100 rows x 1 columns]\n"
     ]
    }
   ],
   "source": [
    "import pandas as pd\n",
    "\n",
    "# Assuming you have a dataframe named 'dataframe' with only one column 'column_name'\n",
    "# Replace 'column_name' with the actual column name in your dataframe\n",
    "# Sample data for demonstration purposes\n",
    "data = {'column_name': list(range(1000))}  # Creating a column with 1000 values (0 to 999)\n",
    "dataframe = pd.DataFrame(data)\n",
    "\n",
    "# Original dataframe\n",
    "print(\"Original DataFrame:\")\n",
    "print(dataframe)\n",
    "\n",
    "# Dropping the last 900 values from 'column_name'\n",
    "dataframe = dataframe[:-900]\n",
    "\n",
    "# Updated dataframe with only the first 100 values in 'column_name'\n",
    "print(\"\\nDataFrame with last 900 values dropped:\")\n",
    "print(dataframe)\n"
   ],
   "metadata": {
    "collapsed": false,
    "ExecuteTime": {
     "end_time": "2023-07-30T00:21:29.963084Z",
     "start_time": "2023-07-30T00:21:29.943382Z"
    }
   }
  },
  {
   "cell_type": "code",
   "execution_count": null,
   "outputs": [],
   "source": [],
   "metadata": {
    "collapsed": false
   }
  },
  {
   "cell_type": "code",
   "execution_count": null,
   "outputs": [],
   "source": [],
   "metadata": {
    "collapsed": false
   }
  },
  {
   "cell_type": "markdown",
   "source": [
    "# analyze result refinement"
   ],
   "metadata": {
    "collapsed": false
   }
  },
  {
   "cell_type": "code",
   "execution_count": 45,
   "outputs": [],
   "source": [],
   "metadata": {
    "collapsed": false,
    "ExecuteTime": {
     "end_time": "2023-08-01T05:56:03.464641Z",
     "start_time": "2023-08-01T05:56:03.455189Z"
    }
   }
  },
  {
   "cell_type": "code",
   "execution_count": 5,
   "outputs": [],
   "source": [
    "def FindMinimalRefinement(data_file_prefix, separator, query_file, constraint_file, data_file_format,\n",
    "                          single_binary_sensitive_att, time_limit=5 * 60):\n",
    "    global assign_to_provenance_num\n",
    "    assign_to_provenance_num = 0\n",
    "    # data = pd.read_csv(data_file, index_col=False)\n",
    "    with open(query_file) as f:\n",
    "        query_info = json.load(f)\n",
    "    tables = query_info['tables']\n",
    "    joinkeys = []\n",
    "    comparekeys = []\n",
    "    if \"joinkeys\" in query_info:\n",
    "        joinkeys = query_info[\"joinkeys\"]\n",
    "    if \"comparekeys\" in query_info:\n",
    "        comparekeys = query_info[\"comparekeys\"]\n",
    "    numeric_attributes = []\n",
    "    categorical_attributes = {}\n",
    "    selection_numeric_attributes = {}\n",
    "    selection_categorical_attributes = {}\n",
    "    if 'selection_numeric_attributes' in query_info:\n",
    "        selection_numeric_attributes = query_info['selection_numeric_attributes']\n",
    "        numeric_attributes = list(selection_numeric_attributes.keys())\n",
    "    if 'selection_categorical_attributes' in query_info:\n",
    "        selection_categorical_attributes = query_info['selection_categorical_attributes']\n",
    "        categorical_attributes = list(selection_categorical_attributes.keys())  # query_info['categorical_attributes']\n",
    "    selected_attributes = numeric_attributes + [x for x in categorical_attributes]\n",
    "    # print(\"selected_attributes\", selected_attributes)\n",
    "\n",
    "    with open(constraint_file) as f:\n",
    "        constraint_info = json.load(f)\n",
    "\n",
    "    sensitive_attributes = constraint_info['all_sensitive_attributes']\n",
    "    fairness_constraints = constraint_info['fairness_constraints']\n",
    "\n",
    "    pd.set_option('display.float_format', '{:.2f}'.format)\n",
    "    assign_to_provenance_num += 1\n",
    "    # data:after join\n",
    "    whether_satisfy, data = ps.whether_satisfy_fairness_constraints(data_file_prefix, separator, data_file_format, tables,\n",
    "                                                                 joinkeys, comparekeys, selected_attributes,\n",
    "                                                                 sensitive_attributes, fairness_constraints,\n",
    "                                                                 numeric_attributes, categorical_attributes,\n",
    "                                                                 selection_numeric_attributes,\n",
    "                                                                 selection_categorical_attributes)\n",
    "\n",
    "\n",
    "    # whether it's single-direction\n",
    "    only_smaller_than = True\n",
    "    only_greater_than = True\n",
    "    for fc in fairness_constraints:\n",
    "        if 'first_sensitive_attributes' in fc:\n",
    "            only_greater_than = False\n",
    "            only_smaller_than = False\n",
    "            break\n",
    "        elif fc['symbol'] == \">=\" or fc['symbol'] == \">\":\n",
    "            only_smaller_than = False\n",
    "        else:\n",
    "            only_greater_than = False\n",
    "        if (not only_greater_than) and (not only_smaller_than):\n",
    "            break\n",
    "    fairness_constraints_provenance_greater_than, fairness_constraints_provenance_smaller_than, \\\n",
    "        fairness_constraints_provenance_complex, contraction_threshold, data \\\n",
    "        = ps.subtract_provenance_refinement(data, selected_attributes, sensitive_attributes,\n",
    "                                         fairness_constraints,\n",
    "                                         numeric_attributes, categorical_attributes,\n",
    "                                         selection_numeric_attributes,\n",
    "                                         selection_categorical_attributes, only_greater_than,\n",
    "                                         only_smaller_than)\n",
    "\n",
    "    PVT, PVT_head, categorical_att_columns, \\\n",
    "        max_index_PVT, possible_values_lists = ps.build_PVT_refinement(data, selected_attributes,\n",
    "                                                                    numeric_attributes,\n",
    "                                                                    categorical_attributes,\n",
    "                                                                    selection_numeric_attributes,\n",
    "                                                                    selection_categorical_attributes,\n",
    "                                                                    sensitive_attributes,\n",
    "                                                                    fairness_constraints,\n",
    "                                                                    fairness_constraints_provenance_greater_than,\n",
    "                                                                    fairness_constraints_provenance_smaller_than,\n",
    "                                                                    fairness_constraints_provenance_complex,\n",
    "                                                                    contraction_threshold)\n",
    "\n",
    "    return PVT\n"
   ],
   "metadata": {
    "collapsed": false,
    "ExecuteTime": {
     "end_time": "2023-08-05T21:02:30.863314Z",
     "start_time": "2023-08-05T21:02:30.855603Z"
    }
   }
  },
  {
   "cell_type": "code",
   "execution_count": 38,
   "outputs": [],
   "source": [
    "temp_data = copy.deepcopy(data)\n",
    "\n",
    "data_file_prefix = r\"../data/\"\n",
    "query_file_prefix = r\"./q\"\n",
    "constraint_file_prefix = r\"./\"\n",
    "time_limit = 60 * 30\n",
    "separator = ' '\n",
    "\n",
    "time_output_prefix = r\"./result_\"\n",
    "\n",
    "def run(c, q):\n",
    "    constraint_file = r\"./constraint_\" + c + \".json\"\n",
    "\n",
    "    time_output_file = r\"./query_change_q1_\" + c + \".csv\"\n",
    "    time_output = open(time_output_file, \"w\")\n",
    "    time_output.write(\"_,PS,PS_prov,PS_search,base,base_prov,base_search\\n\")\n",
    "\n",
    "    result_output_file = r\"./result_query_change_q1\" + c + \".txt\"\n",
    "    result_output = open(result_output_file, \"w\")\n",
    "    result_output.write(\"selection file, result\\n\")\n",
    "\n",
    "    data_format = \".csv\"\n",
    "    print(\"query\", q)\n",
    "    query_file = query_file_prefix + str(q) + \".json\"\n",
    "    single_binary_sensitive_att = True\n",
    "\n",
    "    PVT = FindMinimalRefinement(data_file_prefix, separator, query_file, constraint_file, data_format, single_binary_sensitive_att, time_limit)\n",
    "    return PVT\n",
    "\n",
    "\n",
    "\n",
    "def analyze_x_smaller(temp_data, PVT, x_smaller_idx):\n",
    "    x_smaller = PVT['x__smaller'].tolist()[x_smaller_idx]\n",
    "    temp_data = temp_data[temp_data['x'] < x_smaller]\n",
    "    blue_num = len(temp_data[temp_data['blue'] == 1])\n",
    "    red_num = len(temp_data[temp_data['blue'] == 0])\n",
    "    print(\"x idx = {}, x_smaller_val = {}, blue = {}, red = {}, abs = {}\".format(x_smaller_idx, x_smaller, blue_num, red_num, (blue_num - red_num)))\n",
    "\n",
    "\n",
    "def analyze_y_smaller(temp_data, PVT, y_smaller_idx):\n",
    "    y_smaller = PVT['y__smaller'].tolist()[y_smaller_idx]\n",
    "    temp_data = temp_data[temp_data['y'] < y_smaller]\n",
    "    blue_num = len(temp_data[temp_data['blue'] == 1])\n",
    "    red_num = len(temp_data[temp_data['blue'] == 0])\n",
    "    print(\"y idx = {}, y_smaller_val = {}, blue = {}, red = {}, abs = {}\".format(y_smaller_idx, y_smaller, blue_num, red_num, (blue_num - red_num)))\n",
    "\n",
    "\n",
    "def analyze_y_greater(temp_data, PVT, y_greater_idx):\n",
    "    y_greater = PVT['y__greater'].tolist()[y_greater_idx]\n",
    "    temp_data = temp_data[temp_data['y'] >= y_greater]\n",
    "    blue_num = len(temp_data[temp_data['blue'] == 1])\n",
    "    red_num = len(temp_data[temp_data['blue'] == 0])\n",
    "    row = temp_data[temp_data['y'] == y_greater]\n",
    "    print(\"y idx = {}, y_greater_val = {}, blue = {}, red = {}, abs = {}\".format(y_greater_idx, y_greater, blue_num, red_num, (blue_num - red_num)))\n",
    "    row.reset_index(drop=True, inplace=True)\n",
    "    if len(row) > 0:\n",
    "        print(row.iloc[0, :].tolist())\n",
    "\n"
   ],
   "metadata": {
    "collapsed": false,
    "ExecuteTime": {
     "end_time": "2023-08-05T21:44:28.484741Z",
     "start_time": "2023-08-05T21:44:28.481774Z"
    }
   }
  },
  {
   "cell_type": "code",
   "execution_count": 39,
   "outputs": [
    {
     "name": "stdout",
     "output_type": "stream",
     "text": [
      "query 2\n",
      "10000\n",
      "prepare time = 0.0006120204925537109\n",
      "10000\n",
      "PVT_head: []\n",
      "y idx = 140, y_greater_val = 407.0165497619304, blue = 1003, red = 969, abs = 34\n",
      "[989.6768257328298, 407.0165497619304, 0.0]\n",
      "y idx = 139, y_greater_val = 407.0040835979928, blue = 1004, red = 969, abs = 35\n",
      "[338.8749315271975, 407.0040835979928, 1.0]\n",
      "y idx = 138, y_greater_val = 393.12333704447576, blue = 1069, red = 1042, abs = 27\n",
      "[816.7244800480705, 393.12333704447576, 1.0]\n",
      "y idx = 137, y_greater_val = 406.8765072624598, blue = 1004, red = 970, abs = 34\n",
      "[299.40660276349394, 406.8765072624598, 0.0]\n",
      "y idx = 136, y_greater_val = 406.87241139661927, blue = 1004, red = 971, abs = 33\n",
      "[893.0314567127825, 406.87241139661927, 0.0]\n",
      "y idx = 135, y_greater_val = 406.8364947587475, blue = 1005, red = 971, abs = 34\n",
      "[918.0804476804984, 406.8364947587475, 1.0]\n",
      "y idx = 134, y_greater_val = 406.8213966904883, blue = 1006, red = 971, abs = 35\n",
      "[190.54191595589447, 406.8213966904883, 1.0]\n",
      "y idx = 133, y_greater_val = 393.37000391244527, blue = 1068, red = 1042, abs = 26\n",
      "[684.6428087933075, 393.37000391244527, 1.0]\n",
      "y idx = 132, y_greater_val = 406.59068824309264, blue = 1007, red = 971, abs = 36\n",
      "[748.9216357250876, 406.59068824309264, 1.0]\n",
      "y idx = 131, y_greater_val = 406.5689855346446, blue = 1007, red = 972, abs = 35\n",
      "[88.71936552034998, 406.5689855346446, 0.0]\n",
      "y idx = 130, y_greater_val = 406.50344237555737, blue = 1008, red = 972, abs = 36\n",
      "[43.6537633533025, 406.50344237555737, 1.0]\n",
      "y idx = 129, y_greater_val = 393.70596276732783, blue = 1067, red = 1042, abs = 25\n",
      "[319.1823606817794, 393.70596276732783, 0.0]\n",
      "y idx = 128, y_greater_val = 393.7080853781804, blue = 1067, red = 1041, abs = 26\n",
      "[723.3101199731301, 393.7080853781804, 1.0]\n",
      "y idx = 127, y_greater_val = 406.2260621115964, blue = 1008, red = 973, abs = 35\n",
      "[819.4589947318937, 406.2260621115964, 0.0]\n",
      "y idx = 126, y_greater_val = 393.8548489644017, blue = 1066, red = 1041, abs = 25\n",
      "[344.82618806815645, 393.8548489644017, 0.0]\n",
      "y idx = 125, y_greater_val = 406.092093044336, blue = 1009, red = 973, abs = 36\n",
      "[27.21163628102685, 406.092093044336, 1.0]\n",
      "y idx = 124, y_greater_val = 393.9376761003823, blue = 1066, red = 1040, abs = 26\n",
      "[584.1930756130978, 393.9376761003823, 0.0]\n",
      "y idx = 123, y_greater_val = 406.0538235599005, blue = 1010, red = 973, abs = 37\n",
      "[163.22816359540982, 406.0538235599005, 1.0]\n",
      "y idx = 122, y_greater_val = 394.0585883049416, blue = 1066, red = 1039, abs = 27\n",
      "[247.45654037428355, 394.0585883049416, 0.0]\n",
      "y idx = 121, y_greater_val = 405.84199690963993, blue = 1011, red = 973, abs = 38\n",
      "[788.4794537714318, 405.84199690963993, 1.0]\n",
      "y idx = 120, y_greater_val = 394.18165054984706, blue = 1066, red = 1038, abs = 28\n",
      "[343.4625386678434, 394.18165054984706, 0.0]\n",
      "y idx = 119, y_greater_val = 394.3901036532667, blue = 1066, red = 1037, abs = 29\n",
      "[718.6831793896422, 394.3901036532667, 0.0]\n",
      "y idx = 118, y_greater_val = 405.58453408218946, blue = 1011, red = 974, abs = 37\n",
      "[536.1873319540728, 405.58453408218946, 0.0]\n",
      "y idx = 117, y_greater_val = 405.576230834596, blue = 1012, red = 974, abs = 38\n",
      "[336.5742138362807, 405.576230834596, 1.0]\n",
      "y idx = 116, y_greater_val = 394.45477294019435, blue = 1066, red = 1036, abs = 30\n",
      "[394.6506147634362, 394.45477294019435, 0.0]\n",
      "y idx = 115, y_greater_val = 405.5430241986921, blue = 1012, red = 975, abs = 37\n",
      "[259.65562184051566, 405.5430241986921, 0.0]\n",
      "y idx = 114, y_greater_val = 394.55795871725394, blue = 1066, red = 1035, abs = 31\n",
      "[803.2911373770822, 394.55795871725394, 1.0]\n",
      "y idx = 113, y_greater_val = 394.7155283081315, blue = 1065, red = 1035, abs = 30\n",
      "[594.6038826450095, 394.7155283081315, 0.0]\n",
      "y idx = 112, y_greater_val = 394.75127116263934, blue = 1065, red = 1034, abs = 31\n",
      "[161.93617039484764, 394.75127116263934, 0.0]\n",
      "y idx = 111, y_greater_val = 405.2289011689014, blue = 1013, red = 975, abs = 38\n",
      "[292.96616650987704, 405.2289011689014, 1.0]\n",
      "y idx = 110, y_greater_val = 405.2101516022972, blue = 1014, red = 975, abs = 39\n",
      "[372.28562322147474, 405.2101516022972, 1.0]\n",
      "y idx = 109, y_greater_val = 394.7988872662589, blue = 1065, red = 1033, abs = 32\n",
      "[672.8401558044478, 394.7988872662589, 1.0]\n",
      "y idx = 108, y_greater_val = 394.80733194032, blue = 1064, red = 1033, abs = 31\n",
      "[780.6567497243733, 394.80733194032, 0.0]\n",
      "y idx = 107, y_greater_val = 394.9683543875031, blue = 1064, red = 1032, abs = 32\n",
      "[931.5488199305621, 394.9683543875031, 0.0]\n",
      "y idx = 106, y_greater_val = 394.97284369199514, blue = 1064, red = 1031, abs = 33\n",
      "[558.2478070337589, 394.97284369199514, 0.0]\n",
      "y idx = 105, y_greater_val = 405.02486572272966, blue = 1015, red = 975, abs = 40\n",
      "[607.5937784800251, 405.02486572272966, 1.0]\n",
      "y idx = 104, y_greater_val = 404.9929516154386, blue = 1016, red = 975, abs = 41\n",
      "[935.365602393465, 404.9929516154386, 1.0]\n",
      "y idx = 103, y_greater_val = 395.01213549577983, blue = 1064, red = 1030, abs = 34\n",
      "[922.0036057726317, 395.01213549577983, 0.0]\n",
      "y idx = 102, y_greater_val = 395.02788751644374, blue = 1064, red = 1029, abs = 35\n",
      "[373.2715399691622, 395.02788751644374, 1.0]\n",
      "y idx = 101, y_greater_val = 404.89373440198005, blue = 1016, red = 976, abs = 40\n",
      "[511.2197093097177, 404.89373440198005, 0.0]\n",
      "y idx = 100, y_greater_val = 395.14943347887345, blue = 1063, red = 1029, abs = 34\n",
      "[428.35205092446256, 395.14943347887345, 0.0]\n",
      "y idx = 99, y_greater_val = 404.82656472931376, blue = 1016, red = 977, abs = 39\n",
      "[708.7784070881777, 404.82656472931376, 0.0]\n",
      "y idx = 98, y_greater_val = 404.81162824279863, blue = 1017, red = 977, abs = 40\n",
      "[643.0601402645814, 404.81162824279863, 1.0]\n",
      "y idx = 97, y_greater_val = 404.7670324034027, blue = 1017, red = 978, abs = 39\n",
      "[286.87497025757204, 404.7670324034027, 0.0]\n",
      "y idx = 96, y_greater_val = 395.27873075397514, blue = 1063, red = 1028, abs = 35\n",
      "[701.4644531684917, 395.27873075397514, 1.0]\n",
      "y idx = 95, y_greater_val = 395.3019056186615, blue = 1062, red = 1028, abs = 34\n",
      "[576.3992080640584, 395.3019056186615, 0.0]\n",
      "y idx = 94, y_greater_val = 404.64923856176927, blue = 1017, red = 979, abs = 38\n",
      "[15.94500801348342, 404.64923856176927, 0.0]\n",
      "y idx = 93, y_greater_val = 395.40404922444463, blue = 1062, red = 1027, abs = 35\n",
      "[596.9110061188987, 395.40404922444463, 1.0]\n",
      "y idx = 92, y_greater_val = 404.4925004869807, blue = 1017, red = 980, abs = 37\n",
      "[360.73789398077184, 404.4925004869807, 0.0]\n",
      "y idx = 91, y_greater_val = 395.5088120345448, blue = 1061, red = 1027, abs = 34\n",
      "[835.4871063459686, 395.5088120345448, 1.0]\n",
      "y idx = 90, y_greater_val = 404.3575972102347, blue = 1017, red = 981, abs = 36\n",
      "[684.2960842066389, 404.3575972102347, 0.0]\n",
      "y idx = 89, y_greater_val = 395.65586975748494, blue = 1060, red = 1027, abs = 33\n",
      "[169.10628015510488, 395.65586975748494, 1.0]\n",
      "y idx = 88, y_greater_val = 395.71306503914496, blue = 1059, red = 1027, abs = 32\n",
      "[476.68943541184575, 395.71306503914496, 1.0]\n",
      "y idx = 87, y_greater_val = 404.2835560305292, blue = 1018, red = 981, abs = 37\n",
      "[395.70408903254594, 404.2835560305292, 1.0]\n",
      "y idx = 86, y_greater_val = 395.78014687717575, blue = 1058, red = 1027, abs = 31\n",
      "[621.8765995672129, 395.78014687717575, 0.0]\n",
      "y idx = 85, y_greater_val = 404.15158700788777, blue = 1019, red = 981, abs = 38\n",
      "[406.1743172533129, 404.15158700788777, 1.0]\n",
      "y idx = 84, y_greater_val = 404.0693241759401, blue = 1020, red = 981, abs = 39\n",
      "[809.0809652279662, 404.0693241759401, 1.0]\n",
      "y idx = 83, y_greater_val = 396.00634127634993, blue = 1058, red = 1026, abs = 32\n",
      "[780.2612822076561, 396.00634127634993, 1.0]\n",
      "y idx = 82, y_greater_val = 403.95129278365727, blue = 1020, red = 982, abs = 38\n",
      "[804.4659758454894, 403.95129278365727, 0.0]\n",
      "y idx = 81, y_greater_val = 396.06988421362735, blue = 1057, red = 1026, abs = 31\n",
      "[376.2420202009297, 396.06988421362735, 0.0]\n",
      "y idx = 80, y_greater_val = 396.1128411351909, blue = 1057, red = 1025, abs = 32\n",
      "[419.5909020376003, 396.1128411351909, 1.0]\n",
      "y idx = 79, y_greater_val = 403.8654929192624, blue = 1021, red = 982, abs = 39\n",
      "[903.6561167798585, 403.8654929192624, 1.0]\n",
      "y idx = 78, y_greater_val = 396.1347184803704, blue = 1056, red = 1025, abs = 31\n",
      "[511.52479666456566, 396.1347184803704, 0.0]\n",
      "y idx = 77, y_greater_val = 403.8506282492772, blue = 1022, red = 982, abs = 40\n",
      "[422.030945303783, 403.8506282492772, 1.0]\n",
      "y idx = 76, y_greater_val = 403.75534045998006, blue = 1022, red = 983, abs = 39\n",
      "[740.3991506146372, 403.75534045998006, 0.0]\n",
      "y idx = 75, y_greater_val = 396.3243396644021, blue = 1056, red = 1024, abs = 32\n",
      "[825.6689617250125, 396.3243396644021, 0.0]\n",
      "y idx = 74, y_greater_val = 403.2523027559733, blue = 1022, red = 984, abs = 38\n",
      "[398.10488933555456, 403.2523027559733, 0.0]\n",
      "y idx = 73, y_greater_val = 403.2177379486666, blue = 1023, red = 984, abs = 39\n",
      "[820.8119416015527, 403.2177379486666, 1.0]\n",
      "y idx = 72, y_greater_val = 396.80511698519314, blue = 1056, red = 1023, abs = 33\n",
      "[12.727257364179234, 396.80511698519314, 0.0]\n",
      "y idx = 71, y_greater_val = 396.9998156355272, blue = 1056, red = 1022, abs = 34\n",
      "[0.8237348184124693, 396.9998156355272, 0.0]\n",
      "y idx = 70, y_greater_val = 397.04377952139714, blue = 1056, red = 1021, abs = 35\n",
      "[929.0388995254992, 397.04377952139714, 0.0]\n",
      "y idx = 69, y_greater_val = 402.93210507758744, blue = 1024, red = 984, abs = 40\n",
      "[701.6634122205811, 402.93210507758744, 1.0]\n",
      "y idx = 68, y_greater_val = 402.8356218399253, blue = 1025, red = 984, abs = 41\n",
      "[715.4312974648151, 402.8356218399253, 1.0]\n",
      "y idx = 67, y_greater_val = 402.8326126790005, blue = 1026, red = 984, abs = 42\n",
      "[314.08528300539933, 402.8326126790005, 1.0]\n",
      "y idx = 66, y_greater_val = 402.8026141700115, blue = 1026, red = 985, abs = 41\n",
      "[55.426797836424015, 402.8026141700115, 0.0]\n",
      "y idx = 65, y_greater_val = 402.7553963150453, blue = 1026, red = 986, abs = 40\n",
      "[206.63398303885648, 402.7553963150453, 0.0]\n",
      "y idx = 64, y_greater_val = 402.7464312121722, blue = 1026, red = 987, abs = 39\n",
      "[948.0516701382138, 402.7464312121722, 0.0]\n",
      "y idx = 63, y_greater_val = 397.2595750582765, blue = 1056, red = 1020, abs = 36\n",
      "[659.1496742748727, 397.2595750582765, 1.0]\n",
      "y idx = 62, y_greater_val = 402.7112370268629, blue = 1027, red = 987, abs = 40\n",
      "[791.7428238986256, 402.7112370268629, 1.0]\n",
      "y idx = 61, y_greater_val = 397.32444584997614, blue = 1055, red = 1020, abs = 35\n",
      "[23.938949101278585, 397.32444584997614, 1.0]\n",
      "y idx = 60, y_greater_val = 397.339193375902, blue = 1054, red = 1020, abs = 34\n",
      "[628.9428331808746, 397.339193375902, 1.0]\n",
      "y idx = 59, y_greater_val = 397.3440518237044, blue = 1053, red = 1020, abs = 33\n",
      "[95.33634950299674, 397.3440518237044, 1.0]\n",
      "y idx = 58, y_greater_val = 397.3957643987619, blue = 1052, red = 1020, abs = 32\n",
      "[423.4844029080757, 397.3957643987619, 0.0]\n",
      "y idx = 57, y_greater_val = 402.5949398497262, blue = 1027, red = 988, abs = 39\n",
      "[304.8960440572508, 402.5949398497262, 0.0]\n",
      "y idx = 56, y_greater_val = 397.4251049483216, blue = 1052, red = 1019, abs = 33\n",
      "[74.91081113378416, 397.4251049483216, 0.0]\n",
      "y idx = 55, y_greater_val = 397.4473047864443, blue = 1052, red = 1018, abs = 34\n",
      "[106.10412556206316, 397.4473047864443, 1.0]\n",
      "y idx = 54, y_greater_val = 402.35046389727927, blue = 1027, red = 989, abs = 38\n",
      "[604.0277047424664, 402.35046389727927, 0.0]\n",
      "y idx = 53, y_greater_val = 397.7333496731913, blue = 1051, red = 1018, abs = 33\n",
      "[174.04963134710104, 397.7333496731913, 0.0]\n",
      "y idx = 52, y_greater_val = 402.1984648325184, blue = 1027, red = 990, abs = 37\n",
      "[354.0512190526154, 402.1984648325184, 0.0]\n",
      "y idx = 51, y_greater_val = 397.8170984786706, blue = 1051, red = 1017, abs = 34\n",
      "[944.6245748171593, 397.8170984786706, 0.0]\n",
      "y idx = 50, y_greater_val = 401.8399311460814, blue = 1027, red = 991, abs = 36\n",
      "[781.4850111206551, 401.8399311460814, 0.0]\n",
      "y idx = 49, y_greater_val = 401.68737762958995, blue = 1028, red = 991, abs = 37\n",
      "[525.7323573605044, 401.68737762958995, 1.0]\n",
      "y idx = 48, y_greater_val = 401.6497451866733, blue = 1029, red = 991, abs = 38\n",
      "[487.46228542857654, 401.6497451866733, 1.0]\n",
      "y idx = 47, y_greater_val = 401.6454815389976, blue = 1029, red = 992, abs = 37\n",
      "[512.054553352826, 401.6454815389976, 0.0]\n",
      "y idx = 46, y_greater_val = 398.4503545268656, blue = 1051, red = 1016, abs = 35\n",
      "[944.4217715846222, 398.4503545268656, 0.0]\n",
      "y idx = 45, y_greater_val = 398.4979907930394, blue = 1051, red = 1015, abs = 36\n",
      "[116.89125151258872, 398.4979907930394, 1.0]\n",
      "y idx = 44, y_greater_val = 401.4632519013128, blue = 1029, red = 993, abs = 36\n",
      "[536.8103592709347, 401.4632519013128, 0.0]\n",
      "y idx = 43, y_greater_val = 401.44323172620153, blue = 1030, red = 993, abs = 37\n",
      "[372.5627443322946, 401.44323172620153, 1.0]\n",
      "y idx = 42, y_greater_val = 401.3947135250671, blue = 1031, red = 993, abs = 38\n",
      "[905.3401486430355, 401.3947135250671, 1.0]\n",
      "y idx = 41, y_greater_val = 398.6092499580504, blue = 1050, red = 1015, abs = 35\n",
      "[565.7148049154115, 398.6092499580504, 0.0]\n",
      "y idx = 40, y_greater_val = 398.637901732126, blue = 1050, red = 1014, abs = 36\n",
      "[865.1278802194181, 398.637901732126, 0.0]\n",
      "y idx = 39, y_greater_val = 398.64049883508153, blue = 1050, red = 1013, abs = 37\n",
      "[67.02720409473473, 398.64049883508153, 0.0]\n",
      "y idx = 38, y_greater_val = 398.7295688237569, blue = 1050, red = 1012, abs = 38\n",
      "[24.296675068594677, 398.7295688237569, 1.0]\n",
      "y idx = 37, y_greater_val = 398.7795810468282, blue = 1049, red = 1012, abs = 37\n",
      "[528.6060285542221, 398.7795810468282, 1.0]\n",
      "y idx = 36, y_greater_val = 401.21910038776974, blue = 1032, red = 993, abs = 39\n",
      "[857.860235533702, 401.21910038776974, 1.0]\n",
      "y idx = 35, y_greater_val = 398.87538375886095, blue = 1048, red = 1012, abs = 36\n",
      "[281.6876251225383, 398.87538375886095, 1.0]\n",
      "y idx = 34, y_greater_val = 401.1085981558765, blue = 1032, red = 994, abs = 38\n",
      "[791.4068593001659, 401.1085981558765, 0.0]\n",
      "y idx = 33, y_greater_val = 401.09987857369913, blue = 1032, red = 995, abs = 37\n",
      "[708.435932220635, 401.09987857369913, 0.0]\n",
      "y idx = 32, y_greater_val = 401.0789514629506, blue = 1033, red = 995, abs = 38\n",
      "[924.9737182729117, 401.0789514629506, 1.0]\n",
      "y idx = 31, y_greater_val = 398.9222770143618, blue = 1047, red = 1012, abs = 35\n",
      "[793.8024655495385, 398.9222770143618, 0.0]\n",
      "y idx = 30, y_greater_val = 400.99027999559945, blue = 1034, red = 995, abs = 39\n",
      "[261.500336890034, 400.99027999559945, 1.0]\n",
      "y idx = 29, y_greater_val = 400.9371278537332, blue = 1034, red = 996, abs = 38\n",
      "[36.1523650751061, 400.9371278537332, 0.0]\n",
      "y idx = 28, y_greater_val = 400.89473507637985, blue = 1035, red = 996, abs = 39\n",
      "[661.0619488965502, 400.89473507637985, 1.0]\n",
      "y idx = 27, y_greater_val = 400.8844530687613, blue = 1036, red = 996, abs = 40\n",
      "[730.2636322439276, 400.8844530687613, 1.0]\n",
      "y idx = 26, y_greater_val = 399.1170349488965, blue = 1047, red = 1011, abs = 36\n",
      "[94.56856866128825, 399.1170349488965, 1.0]\n",
      "y idx = 25, y_greater_val = 400.87913749562097, blue = 1037, red = 996, abs = 41\n",
      "[659.5857235913804, 400.87913749562097, 1.0]\n",
      "y idx = 24, y_greater_val = 399.1419188802389, blue = 1046, red = 1011, abs = 35\n",
      "[24.80482873660783, 399.1419188802389, 0.0]\n",
      "y idx = 23, y_greater_val = 399.14590791392294, blue = 1046, red = 1010, abs = 36\n",
      "[537.7721557805396, 399.14590791392294, 0.0]\n",
      "y idx = 22, y_greater_val = 400.7482983584569, blue = 1037, red = 997, abs = 40\n",
      "[669.9686589606829, 400.7482983584569, 0.0]\n",
      "y idx = 21, y_greater_val = 400.71813581876336, blue = 1037, red = 998, abs = 39\n",
      "[473.94164597376886, 400.71813581876336, 0.0]\n",
      "y idx = 20, y_greater_val = 400.695561667484, blue = 1037, red = 999, abs = 38\n",
      "[530.8426146593904, 400.695561667484, 0.0]\n",
      "y idx = 19, y_greater_val = 400.6847420690765, blue = 1037, red = 1000, abs = 37\n",
      "[871.9703034408776, 400.6847420690765, 0.0]\n",
      "y idx = 18, y_greater_val = 399.3393146992582, blue = 1046, red = 1009, abs = 37\n",
      "[302.4166811481604, 399.3393146992582, 0.0]\n",
      "y idx = 17, y_greater_val = 399.3510160856587, blue = 1046, red = 1008, abs = 38\n",
      "[746.6188865805403, 399.3510160856587, 1.0]\n",
      "y idx = 16, y_greater_val = 400.640296972296, blue = 1037, red = 1001, abs = 36\n",
      "[948.6883339194655, 400.640296972296, 0.0]\n",
      "y idx = 15, y_greater_val = 399.38570215877, blue = 1045, red = 1008, abs = 37\n",
      "[191.50983643015647, 399.38570215877, 1.0]\n",
      "y idx = 14, y_greater_val = 400.57507937012616, blue = 1038, red = 1001, abs = 37\n",
      "[802.1515799992571, 400.57507937012616, 1.0]\n",
      "y idx = 13, y_greater_val = 399.43294976189367, blue = 1044, red = 1008, abs = 36\n",
      "[496.0248005039708, 399.43294976189367, 1.0]\n",
      "y idx = 12, y_greater_val = 400.54946976437634, blue = 1038, red = 1002, abs = 36\n",
      "[980.3171027163183, 400.54946976437634, 0.0]\n",
      "y idx = 11, y_greater_val = 400.494423473396, blue = 1039, red = 1002, abs = 37\n",
      "[142.77863626309517, 400.494423473396, 1.0]\n",
      "y idx = 10, y_greater_val = 399.51567383798897, blue = 1043, red = 1008, abs = 35\n",
      "[328.8660212297555, 399.51567383798897, 1.0]\n",
      "y idx = 9, y_greater_val = 399.52712241567855, blue = 1042, red = 1008, abs = 34\n",
      "[203.86930111920688, 399.52712241567855, 1.0]\n",
      "y idx = 8, y_greater_val = 400.29810266671, blue = 1039, red = 1003, abs = 36\n",
      "[830.4273888268498, 400.29810266671, 0.0]\n",
      "y idx = 7, y_greater_val = 400.26717917724534, blue = 1040, red = 1003, abs = 37\n",
      "[904.4600442301384, 400.26717917724534, 1.0]\n",
      "y idx = 6, y_greater_val = 400.23012542605267, blue = 1041, red = 1003, abs = 38\n",
      "[226.7489497927477, 400.23012542605267, 1.0]\n",
      "y idx = 5, y_greater_val = 400.2252197172337, blue = 1041, red = 1004, abs = 37\n",
      "[459.68028851815006, 400.2252197172337, 0.0]\n",
      "y idx = 4, y_greater_val = 400.2229732248145, blue = 1041, red = 1005, abs = 36\n",
      "[348.84857434481165, 400.2229732248145, 0.0]\n",
      "y idx = 3, y_greater_val = 400.1161569793512, blue = 1041, red = 1006, abs = 35\n",
      "[466.9500713476792, 400.1161569793512, 0.0]\n",
      "y idx = 2, y_greater_val = 399.91739873012847, blue = 1041, red = 1008, abs = 33\n",
      "[708.5970391595878, 399.91739873012847, 0.0]\n",
      "y idx = 1, y_greater_val = 400.01216493001215, blue = 1041, red = 1007, abs = 34\n",
      "[146.4026723957782, 400.01216493001215, 0.0]\n",
      "y idx = 0, y_greater_val = 400.0, blue = 1041, red = 1007, abs = 34\n"
     ]
    }
   ],
   "source": [
    "PVT = run('refine21', 2)\n",
    "y_smaller_idx = 0\n",
    "y_smaller = PVT['y__smaller'].tolist()[y_smaller_idx]\n",
    "temp_data = temp_data[temp_data['y'] <= y_smaller]\n",
    "for y_greater_idx in range(140, -1, -1):\n",
    "    analyze_y_greater(temp_data, PVT, y_greater_idx)"
   ],
   "metadata": {
    "collapsed": false,
    "ExecuteTime": {
     "end_time": "2023-08-05T21:44:28.908327Z",
     "start_time": "2023-08-05T21:44:28.752866Z"
    }
   }
  },
  {
   "cell_type": "code",
   "execution_count": 74,
   "outputs": [
    {
     "name": "stdout",
     "output_type": "stream",
     "text": [
      "3469\n",
      "1535\n",
      "312\n",
      "169 143 26\n"
     ]
    }
   ],
   "source": [
    "temp_data = data[(data['x'] >= 100) & (data['x'] <= 450) ]\n",
    "print(len(temp_data))\n",
    "temp_data = data[(data['y'] >= 450) & (data['y'] <= 600)]\n",
    "print(len(temp_data))\n",
    "\n",
    "temp_data = data[(data['x'] >= 100) & (data['x'] <= 250)  & (data['y'] >= 400) & (data['y'] <= 600)]\n",
    "print(len(temp_data))\n",
    "\n",
    "blue_num = len(temp_data[temp_data['blue'] == 1])\n",
    "red_num = len(temp_data[temp_data['blue'] == 0])\n",
    "print(blue_num, red_num, blue_num - red_num)\n"
   ],
   "metadata": {
    "collapsed": false,
    "ExecuteTime": {
     "end_time": "2023-08-02T00:46:38.817589Z",
     "start_time": "2023-08-02T00:46:38.813260Z"
    }
   }
  },
  {
   "cell_type": "code",
   "execution_count": null,
   "outputs": [],
   "source": [],
   "metadata": {
    "collapsed": false
   }
  }
 ],
 "metadata": {
  "kernelspec": {
   "display_name": "Python 3",
   "language": "python",
   "name": "python3"
  },
  "language_info": {
   "codemirror_mode": {
    "name": "ipython",
    "version": 2
   },
   "file_extension": ".py",
   "mimetype": "text/x-python",
   "name": "python",
   "nbconvert_exporter": "python",
   "pygments_lexer": "ipython2",
   "version": "2.7.6"
  }
 },
 "nbformat": 4,
 "nbformat_minor": 0
}
