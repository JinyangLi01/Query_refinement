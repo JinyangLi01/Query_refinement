{
 "cells": [
  {
   "cell_type": "code",
   "execution_count": 92,
   "metadata": {
    "collapsed": true,
    "ExecuteTime": {
     "end_time": "2023-07-25T06:13:04.673528Z",
     "start_time": "2023-07-25T06:13:04.654959Z"
    }
   },
   "outputs": [],
   "source": [
    "import pandas as pd\n",
    "import numpy as np\n"
   ]
  },
  {
   "cell_type": "code",
   "execution_count": 93,
   "outputs": [
    {
     "name": "stdout",
     "output_type": "stream",
     "text": [
      "10000\n"
     ]
    },
    {
     "data": {
      "text/plain": "   blue           x           y\n0     0  196.117936  290.275447\n1     0  748.658545  683.729258\n2     1  280.366373  507.097135\n3     1  238.944206   72.706203\n4     1  953.546180  190.831150",
      "text/html": "<div>\n<style scoped>\n    .dataframe tbody tr th:only-of-type {\n        vertical-align: middle;\n    }\n\n    .dataframe tbody tr th {\n        vertical-align: top;\n    }\n\n    .dataframe thead th {\n        text-align: right;\n    }\n</style>\n<table border=\"1\" class=\"dataframe\">\n  <thead>\n    <tr style=\"text-align: right;\">\n      <th></th>\n      <th>blue</th>\n      <th>x</th>\n      <th>y</th>\n    </tr>\n  </thead>\n  <tbody>\n    <tr>\n      <th>0</th>\n      <td>0</td>\n      <td>196.117936</td>\n      <td>290.275447</td>\n    </tr>\n    <tr>\n      <th>1</th>\n      <td>0</td>\n      <td>748.658545</td>\n      <td>683.729258</td>\n    </tr>\n    <tr>\n      <th>2</th>\n      <td>1</td>\n      <td>280.366373</td>\n      <td>507.097135</td>\n    </tr>\n    <tr>\n      <th>3</th>\n      <td>1</td>\n      <td>238.944206</td>\n      <td>72.706203</td>\n    </tr>\n    <tr>\n      <th>4</th>\n      <td>1</td>\n      <td>953.546180</td>\n      <td>190.831150</td>\n    </tr>\n  </tbody>\n</table>\n</div>"
     },
     "execution_count": 93,
     "metadata": {},
     "output_type": "execute_result"
    }
   ],
   "source": [
    "data = pd.read_csv(r\"../data/uniform.csv\", sep=' ')\n",
    "print(len(data))\n",
    "data.head()"
   ],
   "metadata": {
    "collapsed": false,
    "ExecuteTime": {
     "end_time": "2023-07-25T06:13:05.058952Z",
     "start_time": "2023-07-25T06:13:05.038983Z"
    }
   }
  },
  {
   "cell_type": "code",
   "execution_count": 94,
   "outputs": [],
   "source": [
    "# # Assuming you already have a DataFrame called 'df' with columns 'x', 'y', and 'blue'\n",
    "# # Create a boolean mask to identify rows with duplicated x and y values\n",
    "# mask = data.duplicated(subset=['x', 'y'], keep=False)\n",
    "#\n",
    "# # Apply the mask to the DataFrame to get the rows with same x and y values\n",
    "# duplicated_rows = data[mask]\n",
    "#\n",
    "# # Print the duplicated rows\n",
    "# print(duplicated_rows)"
   ],
   "metadata": {
    "collapsed": false,
    "ExecuteTime": {
     "end_time": "2023-07-25T06:13:06.102745Z",
     "start_time": "2023-07-25T06:13:06.095429Z"
    }
   }
  },
  {
   "cell_type": "code",
   "execution_count": 94,
   "outputs": [],
   "source": [
    "\n"
   ],
   "metadata": {
    "collapsed": false,
    "ExecuteTime": {
     "end_time": "2023-07-25T06:13:06.494653Z",
     "start_time": "2023-07-25T06:13:06.490309Z"
    }
   }
  },
  {
   "cell_type": "code",
   "execution_count": 94,
   "outputs": [],
   "source": [],
   "metadata": {
    "collapsed": false,
    "ExecuteTime": {
     "end_time": "2023-07-25T06:13:06.813457Z",
     "start_time": "2023-07-25T06:13:06.810534Z"
    }
   }
  },
  {
   "cell_type": "code",
   "execution_count": 95,
   "outputs": [],
   "source": [
    "def jaccard_similarity_set(set_a, set_b):\n",
    "    # Calculate the intersection of the sets\n",
    "    intersection = set_a.intersection(set_b)\n",
    "\n",
    "    # Calculate the union of the sets\n",
    "    union = set_a.union(set_b)\n",
    "\n",
    "    # Calculate the Jaccard similarity\n",
    "    if len(union) == 0:\n",
    "        return 0.0  # If both sets are empty, the Jaccard similarity is defined as 0\n",
    "\n",
    "    return len(intersection) / len(union)\n",
    "#\n",
    "# def jaccard_similarity_query(data, lb1, ub1, lb2, ub2):\n",
    "#     d1 = data[(data['x'] >= lb1) & (data['x'] <= ub1)]\n",
    "#     res1 = d1['x'].index\n",
    "#     d2 = data[(data['x'] >= lb2) & (data['x'] <= ub2)]\n",
    "#     res2 = d2['x'].values\n",
    "#     a = jaccard_similarity_set(set(res1), set(res2))\n",
    "#     print(a)\n",
    "#     return a\n",
    "\n",
    "\n",
    "def jaccard_similarity_query(data, lb1, ub1, lb2, ub2):\n",
    "    idx1 = data.index[(data['x'] >= lb1) & (data['x'] <= ub1)]\n",
    "    idx2 = data.index[(data['x'] >= lb2) & (data['x'] <= ub2)]\n",
    "    a = jaccard_similarity_set(set(idx1), set(idx2))\n",
    "    print(a)\n",
    "    return a\n",
    "\n"
   ],
   "metadata": {
    "collapsed": false,
    "ExecuteTime": {
     "end_time": "2023-07-25T06:13:07.202170Z",
     "start_time": "2023-07-25T06:13:07.199405Z"
    }
   }
  },
  {
   "cell_type": "code",
   "execution_count": 96,
   "outputs": [],
   "source": [
    "\n",
    "def disparity(data, query):\n",
    "    xmin, ymin, xmax, ymax = query\n",
    "    input_data = data[(data['x'] >= xmin) & (data['x'] <= xmax) & (data['y'] >= ymin) & (data['y'] <= ymax)]\n",
    "    print(len(input_data))\n",
    "    # print(input_data)\n",
    "    # blue = data[data['blue'] == 1]\n",
    "    # red = data[data['blue'] == 0]\n",
    "    red1 = input_data[input_data['blue'] == 0]\n",
    "    blue1 = input_data[input_data['blue'] == 1]\n",
    "    # red1 = red[(red['x'] >= xmin) & (red['x'] <= xmax) & (red['y'] >= ymin) & (red['y'] <= ymax)]\n",
    "    # blue1 = blue[(blue['x'] >= xmin) & (blue['x'] <= xmax) & (blue['y'] >= ymin) & (blue['y'] <= ymax)]\n",
    "    a = len(red1)\n",
    "    b = len(blue1)\n",
    "    print(a, b, a+b, a-b)\n"
   ],
   "metadata": {
    "collapsed": false,
    "ExecuteTime": {
     "end_time": "2023-07-25T06:13:07.741447Z",
     "start_time": "2023-07-25T06:13:07.738393Z"
    }
   }
  },
  {
   "cell_type": "code",
   "execution_count": 97,
   "outputs": [
    {
     "name": "stdout",
     "output_type": "stream",
     "text": [
      "563\n",
      "299 264 563 35\n"
     ]
    }
   ],
   "source": [
    "# query = [xmin, xmax, ymin, ymax]\n",
    "query = [200, 500, 400, 800]\n",
    "disparity(data, query)\n"
   ],
   "metadata": {
    "collapsed": false,
    "ExecuteTime": {
     "end_time": "2023-07-25T06:13:09.008203Z",
     "start_time": "2023-07-25T06:13:09.005278Z"
    }
   }
  },
  {
   "cell_type": "code",
   "execution_count": 98,
   "outputs": [
    {
     "name": "stdout",
     "output_type": "stream",
     "text": [
      "79\n",
      "43 36 79 7\n"
     ]
    }
   ],
   "source": [
    "\n",
    "query = [100, 300, 200, 400]\n",
    "disparity(data, query)"
   ],
   "metadata": {
    "collapsed": false,
    "ExecuteTime": {
     "end_time": "2023-07-25T06:13:24.656035Z",
     "start_time": "2023-07-25T06:13:24.654102Z"
    }
   }
  },
  {
   "cell_type": "code",
   "execution_count": 99,
   "outputs": [
    {
     "name": "stdout",
     "output_type": "stream",
     "text": [
      "1212\n",
      "581 631 1212 -50\n"
     ]
    }
   ],
   "source": [
    "\n",
    "query = [200, 100, 500, 500]\n",
    "disparity(data, query)"
   ],
   "metadata": {
    "collapsed": false,
    "ExecuteTime": {
     "end_time": "2023-07-25T06:13:25.051985Z",
     "start_time": "2023-07-25T06:13:25.048063Z"
    }
   }
  },
  {
   "cell_type": "code",
   "execution_count": 100,
   "outputs": [
    {
     "data": {
      "text/plain": "      blue           x           y\n0        0  196.117936  290.275447\n1        0  748.658545  683.729258\n2        1  280.366373  507.097135\n3        1  238.944206   72.706203\n4        1  953.546180  190.831150\n...    ...         ...         ...\n9995     0  199.722105  744.439784\n9996     1  105.018756  524.186620\n9997     1  168.102303  518.319488\n9998     1  880.422167  474.552727\n9999     1  685.933957  955.847662\n\n[10000 rows x 3 columns]",
      "text/html": "<div>\n<style scoped>\n    .dataframe tbody tr th:only-of-type {\n        vertical-align: middle;\n    }\n\n    .dataframe tbody tr th {\n        vertical-align: top;\n    }\n\n    .dataframe thead th {\n        text-align: right;\n    }\n</style>\n<table border=\"1\" class=\"dataframe\">\n  <thead>\n    <tr style=\"text-align: right;\">\n      <th></th>\n      <th>blue</th>\n      <th>x</th>\n      <th>y</th>\n    </tr>\n  </thead>\n  <tbody>\n    <tr>\n      <th>0</th>\n      <td>0</td>\n      <td>196.117936</td>\n      <td>290.275447</td>\n    </tr>\n    <tr>\n      <th>1</th>\n      <td>0</td>\n      <td>748.658545</td>\n      <td>683.729258</td>\n    </tr>\n    <tr>\n      <th>2</th>\n      <td>1</td>\n      <td>280.366373</td>\n      <td>507.097135</td>\n    </tr>\n    <tr>\n      <th>3</th>\n      <td>1</td>\n      <td>238.944206</td>\n      <td>72.706203</td>\n    </tr>\n    <tr>\n      <th>4</th>\n      <td>1</td>\n      <td>953.546180</td>\n      <td>190.831150</td>\n    </tr>\n    <tr>\n      <th>...</th>\n      <td>...</td>\n      <td>...</td>\n      <td>...</td>\n    </tr>\n    <tr>\n      <th>9995</th>\n      <td>0</td>\n      <td>199.722105</td>\n      <td>744.439784</td>\n    </tr>\n    <tr>\n      <th>9996</th>\n      <td>1</td>\n      <td>105.018756</td>\n      <td>524.186620</td>\n    </tr>\n    <tr>\n      <th>9997</th>\n      <td>1</td>\n      <td>168.102303</td>\n      <td>518.319488</td>\n    </tr>\n    <tr>\n      <th>9998</th>\n      <td>1</td>\n      <td>880.422167</td>\n      <td>474.552727</td>\n    </tr>\n    <tr>\n      <th>9999</th>\n      <td>1</td>\n      <td>685.933957</td>\n      <td>955.847662</td>\n    </tr>\n  </tbody>\n</table>\n<p>10000 rows × 3 columns</p>\n</div>"
     },
     "execution_count": 100,
     "metadata": {},
     "output_type": "execute_result"
    }
   ],
   "source": [
    "data"
   ],
   "metadata": {
    "collapsed": false,
    "ExecuteTime": {
     "end_time": "2023-07-25T06:13:26.072027Z",
     "start_time": "2023-07-25T06:13:26.067932Z"
    }
   }
  },
  {
   "cell_type": "code",
   "execution_count": 101,
   "outputs": [
    {
     "name": "stdout",
     "output_type": "stream",
     "text": [
      "0\n",
      "0 0 0 0\n"
     ]
    }
   ],
   "source": [
    "\n",
    "query = [10.1958, 30.8233, 19.7014, 38.536]\n",
    "disparity(data, query)\n"
   ],
   "metadata": {
    "collapsed": false,
    "ExecuteTime": {
     "end_time": "2023-07-25T06:13:27.774093Z",
     "start_time": "2023-07-25T06:13:27.771647Z"
    }
   }
  },
  {
   "cell_type": "markdown",
   "source": [
    "# epsilon = 31"
   ],
   "metadata": {
    "collapsed": false
   }
  },
  {
   "cell_type": "code",
   "execution_count": 101,
   "outputs": [],
   "source": [],
   "metadata": {
    "collapsed": false,
    "ExecuteTime": {
     "end_time": "2023-07-25T06:13:30.228457Z",
     "start_time": "2023-07-25T06:13:30.225783Z"
    }
   }
  },
  {
   "cell_type": "code",
   "execution_count": 131,
   "outputs": [
    {
     "name": "stdout",
     "output_type": "stream",
     "text": [
      "203\n",
      "87 116 203 -29\n"
     ]
    }
   ],
   "source": [
    "# ranged returned by Shetya et.al\n",
    "\n",
    "disparity(data, [350, 300, 500, 450])"
   ],
   "metadata": {
    "collapsed": false,
    "ExecuteTime": {
     "end_time": "2023-07-25T06:40:01.808988Z",
     "start_time": "2023-07-25T06:40:01.804541Z"
    }
   }
  },
  {
   "cell_type": "markdown",
   "source": [
    "## result i found"
   ],
   "metadata": {
    "collapsed": false
   }
  },
  {
   "cell_type": "code",
   "execution_count": 133,
   "outputs": [
    {
     "name": "stdout",
     "output_type": "stream",
     "text": [
      "203\n",
      "87 116 203 -29\n",
      "209\n",
      "92 117 209 -25\n"
     ]
    }
   ],
   "source": [
    "disparity(data, [350, 300, 500, 450])\n",
    "\n",
    "disparity(data, [350, 300, 500, 452.9933897684485])\n"
   ],
   "metadata": {
    "collapsed": false,
    "ExecuteTime": {
     "end_time": "2023-07-25T06:49:32.358922Z",
     "start_time": "2023-07-25T06:49:32.325979Z"
    }
   }
  },
  {
   "cell_type": "code",
   "execution_count": 21,
   "outputs": [
    {
     "name": "stdout",
     "output_type": "stream",
     "text": [
      "1332\n",
      "680 652 1332 28\n"
     ]
    }
   ],
   "source": [
    "disparity(data, [200, 500, 347.322361157726, 800.0])"
   ],
   "metadata": {
    "collapsed": false
   }
  },
  {
   "cell_type": "code",
   "execution_count": 22,
   "outputs": [
    {
     "name": "stdout",
     "output_type": "stream",
     "text": [
      "1215\n",
      "623 592 1215 31\n"
     ]
    }
   ],
   "source": [
    "disparity(data, [200, 500, 400.2229732248145, 809.3523681424118])"
   ],
   "metadata": {
    "collapsed": false
   }
  },
  {
   "cell_type": "code",
   "execution_count": 23,
   "outputs": [
    {
     "name": "stdout",
     "output_type": "stream",
     "text": [
      "1225\n",
      "628 597 1225 31\n"
     ]
    }
   ],
   "source": [
    "disparity(data, [200, 500.14488928546336, 400.0, 811.3592713417162])"
   ],
   "metadata": {
    "collapsed": false
   }
  },
  {
   "cell_type": "code",
   "execution_count": 24,
   "outputs": [
    {
     "name": "stdout",
     "output_type": "stream",
     "text": [
      "1243\n",
      "637 606 1243 31\n"
     ]
    }
   ],
   "source": [
    "disparity(data, [195.11715772636677, 500.0, 400.1161569793512, 811.3592713417162])"
   ],
   "metadata": {
    "collapsed": false
   }
  },
  {
   "cell_type": "code",
   "execution_count": null,
   "outputs": [],
   "source": [],
   "metadata": {
    "collapsed": false
   }
  }
 ],
 "metadata": {
  "kernelspec": {
   "display_name": "Python 3",
   "language": "python",
   "name": "python3"
  },
  "language_info": {
   "codemirror_mode": {
    "name": "ipython",
    "version": 2
   },
   "file_extension": ".py",
   "mimetype": "text/x-python",
   "name": "python",
   "nbconvert_exporter": "python",
   "pygments_lexer": "ipython2",
   "version": "2.7.6"
  }
 },
 "nbformat": 4,
 "nbformat_minor": 0
}
