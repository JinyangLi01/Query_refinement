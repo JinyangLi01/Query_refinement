{
 "cells": [
  {
   "cell_type": "code",
   "execution_count": 35,
   "outputs": [],
   "source": [
    "import numpy as np\n",
    "import pandas as pd\n",
    "import csv\n",
    "import json\n"
   ],
   "metadata": {
    "collapsed": false,
    "pycharm": {
     "name": "#%%\n"
    }
   }
  },
  {
   "cell_type": "markdown",
   "source": [
    "# data attributes\n",
    "\n"
   ],
   "metadata": {
    "collapsed": false,
    "pycharm": {
     "name": "#%% md\n"
    }
   }
  },
  {
   "cell_type": "code",
   "execution_count": 36,
   "outputs": [],
   "source": [
    "data_file = r\"../../InputData/Adult/adult.data\"\n",
    "\n",
    "data = pd.read_csv(data_file, index_col=False)\n",
    "\n"
   ],
   "metadata": {
    "collapsed": false,
    "pycharm": {
     "name": "#%%\n"
    }
   }
  },
  {
   "cell_type": "code",
   "execution_count": 37,
   "outputs": [
    {
     "data": {
      "text/plain": "array(['State-gov', 'Self-emp-not-inc', 'Private', 'Federal-gov',\n       'Local-gov', '?', 'Self-emp-inc', 'Without-pay', 'Never-worked'],\n      dtype=object)"
     },
     "execution_count": 37,
     "metadata": {},
     "output_type": "execute_result"
    }
   ],
   "source": [
    "\n",
    "data['workclass'].unique()\n",
    "\n"
   ],
   "metadata": {
    "collapsed": false,
    "pycharm": {
     "name": "#%%\n"
    }
   }
  },
  {
   "cell_type": "code",
   "execution_count": 38,
   "outputs": [
    {
     "data": {
      "text/plain": "array(['Not-in-family', 'Husband', 'Wife', 'Own-child', 'Unmarried',\n       'Other-relative'], dtype=object)"
     },
     "execution_count": 38,
     "metadata": {},
     "output_type": "execute_result"
    }
   ],
   "source": [
    "data['relationship'].unique()\n"
   ],
   "metadata": {
    "collapsed": false,
    "pycharm": {
     "name": "#%%\n"
    }
   }
  },
  {
   "cell_type": "code",
   "execution_count": 39,
   "outputs": [
    {
     "data": {
      "text/plain": "array(['Never-married', 'Married-civ-spouse', 'Divorced',\n       'Married-spouse-absent', 'Separated', 'Married-AF-spouse',\n       'Widowed'], dtype=object)"
     },
     "execution_count": 39,
     "metadata": {},
     "output_type": "execute_result"
    }
   ],
   "source": [
    "data['marital-status'].unique()\n"
   ],
   "metadata": {
    "collapsed": false,
    "pycharm": {
     "name": "#%%\n"
    }
   }
  },
  {
   "cell_type": "code",
   "execution_count": 40,
   "outputs": [
    {
     "data": {
      "text/plain": "array(['Bachelors', 'HS-grad', '11th', 'Masters', '9th', 'Some-college',\n       'Assoc-acdm', 'Assoc-voc', '7th-8th', 'Doctorate', 'Prof-school',\n       '5th-6th', '10th', '1st-4th', 'Preschool', '12th'], dtype=object)"
     },
     "execution_count": 40,
     "metadata": {},
     "output_type": "execute_result"
    }
   ],
   "source": [
    "data['education'].unique()\n"
   ],
   "metadata": {
    "collapsed": false,
    "pycharm": {
     "name": "#%%\n"
    }
   }
  },
  {
   "cell_type": "code",
   "execution_count": 41,
   "outputs": [
    {
     "data": {
      "text/plain": "                age        fnlwgt  education-num  capital-gain  capital-loss  \\\ncount  32561.000000  3.256100e+04   32561.000000  32561.000000  32561.000000   \nmean      38.581647  1.897784e+05      10.080679   1077.648844     87.303830   \nstd       13.640433  1.055500e+05       2.572720   7385.292085    402.960219   \nmin       17.000000  1.228500e+04       1.000000      0.000000      0.000000   \n25%       28.000000  1.178270e+05       9.000000      0.000000      0.000000   \n50%       37.000000  1.783560e+05      10.000000      0.000000      0.000000   \n75%       48.000000  2.370510e+05      12.000000      0.000000      0.000000   \nmax       90.000000  1.484705e+06      16.000000  99999.000000   4356.000000   \n\n       hours-per-week  \ncount    32561.000000  \nmean        40.437456  \nstd         12.347429  \nmin          1.000000  \n25%         40.000000  \n50%         40.000000  \n75%         45.000000  \nmax         99.000000  ",
      "text/html": "<div>\n<style scoped>\n    .dataframe tbody tr th:only-of-type {\n        vertical-align: middle;\n    }\n\n    .dataframe tbody tr th {\n        vertical-align: top;\n    }\n\n    .dataframe thead th {\n        text-align: right;\n    }\n</style>\n<table border=\"1\" class=\"dataframe\">\n  <thead>\n    <tr style=\"text-align: right;\">\n      <th></th>\n      <th>age</th>\n      <th>fnlwgt</th>\n      <th>education-num</th>\n      <th>capital-gain</th>\n      <th>capital-loss</th>\n      <th>hours-per-week</th>\n    </tr>\n  </thead>\n  <tbody>\n    <tr>\n      <th>count</th>\n      <td>32561.000000</td>\n      <td>3.256100e+04</td>\n      <td>32561.000000</td>\n      <td>32561.000000</td>\n      <td>32561.000000</td>\n      <td>32561.000000</td>\n    </tr>\n    <tr>\n      <th>mean</th>\n      <td>38.581647</td>\n      <td>1.897784e+05</td>\n      <td>10.080679</td>\n      <td>1077.648844</td>\n      <td>87.303830</td>\n      <td>40.437456</td>\n    </tr>\n    <tr>\n      <th>std</th>\n      <td>13.640433</td>\n      <td>1.055500e+05</td>\n      <td>2.572720</td>\n      <td>7385.292085</td>\n      <td>402.960219</td>\n      <td>12.347429</td>\n    </tr>\n    <tr>\n      <th>min</th>\n      <td>17.000000</td>\n      <td>1.228500e+04</td>\n      <td>1.000000</td>\n      <td>0.000000</td>\n      <td>0.000000</td>\n      <td>1.000000</td>\n    </tr>\n    <tr>\n      <th>25%</th>\n      <td>28.000000</td>\n      <td>1.178270e+05</td>\n      <td>9.000000</td>\n      <td>0.000000</td>\n      <td>0.000000</td>\n      <td>40.000000</td>\n    </tr>\n    <tr>\n      <th>50%</th>\n      <td>37.000000</td>\n      <td>1.783560e+05</td>\n      <td>10.000000</td>\n      <td>0.000000</td>\n      <td>0.000000</td>\n      <td>40.000000</td>\n    </tr>\n    <tr>\n      <th>75%</th>\n      <td>48.000000</td>\n      <td>2.370510e+05</td>\n      <td>12.000000</td>\n      <td>0.000000</td>\n      <td>0.000000</td>\n      <td>45.000000</td>\n    </tr>\n    <tr>\n      <th>max</th>\n      <td>90.000000</td>\n      <td>1.484705e+06</td>\n      <td>16.000000</td>\n      <td>99999.000000</td>\n      <td>4356.000000</td>\n      <td>99.000000</td>\n    </tr>\n  </tbody>\n</table>\n</div>"
     },
     "execution_count": 41,
     "metadata": {},
     "output_type": "execute_result"
    }
   ],
   "source": [
    "\n",
    "\n",
    "data.describe()\n",
    "\n"
   ],
   "metadata": {
    "collapsed": false,
    "pycharm": {
     "name": "#%%\n"
    }
   }
  },
  {
   "cell_type": "code",
   "execution_count": 41,
   "outputs": [],
   "source": [
    "\n",
    "\n",
    "\n"
   ],
   "metadata": {
    "collapsed": false,
    "pycharm": {
     "name": "#%%\n"
    }
   }
  },
  {
   "cell_type": "markdown",
   "source": [
    "# q3\n"
   ],
   "metadata": {
    "collapsed": false,
    "pycharm": {
     "name": "#%% md\n"
    }
   }
  },
  {
   "cell_type": "code",
   "execution_count": 5,
   "outputs": [
    {
     "name": "stdout",
     "output_type": "stream",
     "text": [
      "32561\n",
      "28918\n",
      "1230\n",
      "471\n",
      "350\n"
     ]
    }
   ],
   "source": [
    "data_file = r\"../../InputData/Adult/adult.data\"\n",
    "query_file_prefix = r\"../../InputData/Adult/query\"\n",
    "constraint_file_prefix = r\"../../InputData/Adult/constraint\"\n",
    "data = pd.read_csv(data_file, index_col=False)\n",
    "\n",
    "print(len(data))\n",
    "data1 = data[data['hours-per-week'] <= 50]\n",
    "print(len(data1))\n",
    "data2 = data1[data1['capital-loss'] >= 1000]\n",
    "print(len(data2))\n",
    "data3 = data2[(data2[\"occupation\"] == \"Exec-managerial\") | (data2[\"occupation\"] ==\"Prof-specialty\") | (data2[\"occupation\"] ==\"Protective-serv\")]\n",
    "print(len(data3))\n",
    "data4 = data3[(data3[\"relationship\"] == \"Husband\") | (data3[\"relationship\"] ==\"Wife\") | (data3[\"relationship\"] ==\"Own-child\")]\n",
    "print(len(data4))\n"
   ],
   "metadata": {
    "collapsed": false,
    "pycharm": {
     "name": "#%%\n"
    }
   }
  },
  {
   "cell_type": "code",
   "execution_count": 145,
   "outputs": [
    {
     "name": "stdout",
     "output_type": "stream",
     "text": [
      "50\n",
      "277\n"
     ]
    }
   ],
   "source": [
    "data4_female = data4[data4['sex']=='Female']\n",
    "print(len(data4_female))\n",
    "\n",
    "data4_male_white = data4[(data4['sex'] == 'Male') & (data4['race'] == 'White')]\n",
    "print(len(data4_male_white))\n",
    "\n"
   ],
   "metadata": {
    "collapsed": false,
    "pycharm": {
     "name": "#%%\n"
    }
   }
  },
  {
   "cell_type": "code",
   "execution_count": null,
   "outputs": [],
   "source": [
    "\n",
    "\n",
    "\n"
   ],
   "metadata": {
    "collapsed": false,
    "pycharm": {
     "name": "#%%\n"
    }
   }
  },
  {
   "cell_type": "markdown",
   "source": [
    "\n",
    "# q1\n",
    "\n",
    "\n"
   ],
   "metadata": {
    "collapsed": false,
    "pycharm": {
     "name": "#%% md\n"
    }
   }
  },
  {
   "cell_type": "code",
   "execution_count": 45,
   "outputs": [
    {
     "name": "stdout",
     "output_type": "stream",
     "text": [
      "32561\n",
      "32561\n",
      "29633\n",
      "1425\n",
      "247\n",
      "1066\n"
     ]
    }
   ],
   "source": [
    "\n",
    "data_file = r\"../../InputData/Adult/adult.data\"\n",
    "query_file_prefix = r\"../../InputData/Adult/query\"\n",
    "constraint_file_prefix = r\"../../InputData/Adult/constraint\"\n",
    "\n",
    "data = pd.read_csv(data_file, index_col=False)\n",
    "\n",
    "print(len(data))\n",
    "data1 = data[data['education-num'] >= 1]\n",
    "print(len(data1))\n",
    "data2 = data1[data1['hours-per-week'] >= 21]\n",
    "print(len(data2))\n",
    "data3 = data2[data2['capital-gain'] >= 5501]\n",
    "print(len(data3))\n",
    "\n",
    "data3_female = data3[data3['sex']=='Female']\n",
    "print(len(data3_female))\n",
    "\n",
    "data3_male_white = data3[(data3['sex'] == 'Male') & (data3['race'] == 'White')]\n",
    "print(len(data3_male_white))\n"
   ],
   "metadata": {
    "collapsed": false,
    "pycharm": {
     "name": "#%%\n"
    }
   }
  },
  {
   "cell_type": "code",
   "execution_count": null,
   "outputs": [],
   "source": [],
   "metadata": {
    "collapsed": false,
    "pycharm": {
     "name": "#%%\n"
    }
   }
  },
  {
   "cell_type": "markdown",
   "source": [
    "\n",
    "# q2\n"
   ],
   "metadata": {
    "collapsed": false,
    "pycharm": {
     "name": "#%% md\n"
    }
   }
  },
  {
   "cell_type": "code",
   "execution_count": 49,
   "outputs": [
    {
     "name": "stdout",
     "output_type": "stream",
     "text": [
      "32561\n",
      "989\n",
      "418\n",
      "295\n",
      "33\n",
      "219\n"
     ]
    }
   ],
   "source": [
    "\n",
    "data_file = r\"../../InputData/Adult/adult.data\"\n",
    "query_file_prefix = r\"../../InputData/Adult/query\"\n",
    "constraint_file_prefix = r\"../../InputData/Adult/constraint\"\n",
    "\n",
    "data = pd.read_csv(data_file, index_col=False)\n",
    "\n",
    "print(len(data))\n",
    "data1 = data[data['education-num'] >= 15]\n",
    "print(len(data1))\n",
    "data2 = data1[data1['hours-per-week'] <= 40]\n",
    "print(len(data2))\n",
    "data3 = data2[(data2[\"relationship\"] == \"Husband\") | (data2[\"relationship\"] ==\"Wife\") | (data2[\"relationship\"] ==\"Own-child\")]\n",
    "print(len(data3))\n",
    "\n",
    "\n",
    "data3_female = data3[data3['sex'] == 'Female']\n",
    "print(len(data3_female))\n",
    "\n",
    "data3_male_white = data3[(data3['sex'] == 'Male') & (data3['race'] == 'White')]\n",
    "print(len(data3_male_white))\n"
   ],
   "metadata": {
    "collapsed": false,
    "pycharm": {
     "name": "#%%\n"
    }
   }
  },
  {
   "cell_type": "markdown",
   "source": [
    "\n",
    "# q4\n"
   ],
   "metadata": {
    "collapsed": false,
    "pycharm": {
     "name": "#%% md\n"
    }
   }
  },
  {
   "cell_type": "code",
   "execution_count": null,
   "outputs": [],
   "source": [
    "\n",
    "data_file = r\"../../InputData/Adult/adult.data\"\n",
    "query_file_prefix = r\"../../InputData/Adult/query\"\n",
    "constraint_file_prefix = r\"../../InputData/Adult/constraint\"\n",
    "\n",
    "data = pd.read_csv(data_file, index_col=False)\n",
    "\n",
    "print(len(data))\n",
    "data1 = data[data['education-num'] >= 15]\n",
    "print(len(data1))\n",
    "data2 = data1[data1['hours-per-week'] <= 40]\n",
    "print(len(data2))\n",
    "data3 = data2[(data2[\"relationship\"] == \"Husband\") | (data2[\"relationship\"] ==\"Wife\") | (data2[\"relationship\"] ==\"Own-child\")]\n",
    "print(len(data3))\n",
    "data4 = data3[(data3[\"marital-status\"] == \"Married-civ-spouse\") | (data3[\"marital-status\"] ==\"Separated\") | (data3[\"marital-status\"] ==\"Married-AF-spouse\")]\n",
    "print(len(data4))\n",
    "\n",
    "\n",
    "data4_female = data4[data4['sex'] == 'Female']\n",
    "print(len(data4_female))\n",
    "\n",
    "data4_male_white = data4[(data4['sex'] == 'Male') & (data4['race'] == 'White')]\n",
    "print(len(data4_male_white))\n",
    "\n",
    "\n"
   ],
   "metadata": {
    "collapsed": false,
    "pycharm": {
     "name": "#%%\n"
    }
   }
  },
  {
   "cell_type": "code",
   "execution_count": null,
   "outputs": [],
   "source": [
    "\n",
    "# data satisfying query\n",
    "def test_satisfying_rows(row):\n",
    "    terms = row[selected_attributes].to_dict()\n",
    "    for k in terms:\n",
    "        if k in selection_numeric_attributes:\n",
    "            if not eval(\n",
    "                    str(terms[k]) + selection_numeric_attributes[k][0] + str(selection_numeric_attributes[k][1])):\n",
    "                return 0\n",
    "        else:\n",
    "            if terms[k] not in selection_categorical_attributes[k]:\n",
    "                return 0\n",
    "    return 1\n",
    "\n",
    "\n",
    "data['protected_greater_than'] = 0\n",
    "data['protected_smaller_than'] = 0\n",
    "data['satisfy'] = 0\n",
    "\n",
    "data['satisfy'] = data.apply(test_satisfying_rows, axis=1)\n",
    "\n",
    "# all_relevant_attributes = sensitive_attributes + selected_attributes + \\\n",
    "#                           ['protected_greater_than', 'protected_smaller_than', 'satisfy']\n",
    "# data = data[all_relevant_attributes]\n",
    "# data = data.groupby(all_relevant_attributes, dropna=False, sort=False).size().reset_index(name='occurrence')\n",
    "all_attributes = data.columns.tolist()\n",
    "data = data.groupby(all_attributes, dropna=False, sort=False).size().reset_index(name='occurrence')\n"
   ],
   "metadata": {
    "collapsed": false,
    "pycharm": {
     "name": "#%%\n"
    }
   }
  },
  {
   "cell_type": "code",
   "execution_count": 127,
   "outputs": [
    {
     "data": {
      "text/plain": "   age         workclass  fnlwgt  education  education-num  \\\n0   39         State-gov   77516  Bachelors             13   \n1   50  Self-emp-not-inc   83311  Bachelors             13   \n2   38           Private  215646    HS-grad              9   \n3   53           Private  234721       11th              7   \n\n       marital-status         occupation   relationship   race   sex  \\\n0       Never-married       Adm-clerical  Not-in-family  White  Male   \n1  Married-civ-spouse    Exec-managerial        Husband  White  Male   \n2            Divorced  Handlers-cleaners  Not-in-family  White  Male   \n3  Married-civ-spouse  Handlers-cleaners        Husband  Black  Male   \n\n   capital-gain  capital-loss  hours-per-week native-country Unnamed: 14  \\\n0          2174             0              40  United-States       <=50K   \n1             0             0              13  United-States       <=50K   \n2             0             0              40  United-States       <=50K   \n3             0             0              40  United-States       <=50K   \n\n   protected_greater_than  protected_smaller_than  satisfy  occurrence  \n0                       0                       0        0           1  \n1                       0                       0        0           1  \n2                       0                       0        0           1  \n3                       0                       0        0           1  ",
      "text/html": "<div>\n<style scoped>\n    .dataframe tbody tr th:only-of-type {\n        vertical-align: middle;\n    }\n\n    .dataframe tbody tr th {\n        vertical-align: top;\n    }\n\n    .dataframe thead th {\n        text-align: right;\n    }\n</style>\n<table border=\"1\" class=\"dataframe\">\n  <thead>\n    <tr style=\"text-align: right;\">\n      <th></th>\n      <th>age</th>\n      <th>workclass</th>\n      <th>fnlwgt</th>\n      <th>education</th>\n      <th>education-num</th>\n      <th>marital-status</th>\n      <th>occupation</th>\n      <th>relationship</th>\n      <th>race</th>\n      <th>sex</th>\n      <th>capital-gain</th>\n      <th>capital-loss</th>\n      <th>hours-per-week</th>\n      <th>native-country</th>\n      <th>Unnamed: 14</th>\n      <th>protected_greater_than</th>\n      <th>protected_smaller_than</th>\n      <th>satisfy</th>\n      <th>occurrence</th>\n    </tr>\n  </thead>\n  <tbody>\n    <tr>\n      <th>0</th>\n      <td>39</td>\n      <td>State-gov</td>\n      <td>77516</td>\n      <td>Bachelors</td>\n      <td>13</td>\n      <td>Never-married</td>\n      <td>Adm-clerical</td>\n      <td>Not-in-family</td>\n      <td>White</td>\n      <td>Male</td>\n      <td>2174</td>\n      <td>0</td>\n      <td>40</td>\n      <td>United-States</td>\n      <td>&lt;=50K</td>\n      <td>0</td>\n      <td>0</td>\n      <td>0</td>\n      <td>1</td>\n    </tr>\n    <tr>\n      <th>1</th>\n      <td>50</td>\n      <td>Self-emp-not-inc</td>\n      <td>83311</td>\n      <td>Bachelors</td>\n      <td>13</td>\n      <td>Married-civ-spouse</td>\n      <td>Exec-managerial</td>\n      <td>Husband</td>\n      <td>White</td>\n      <td>Male</td>\n      <td>0</td>\n      <td>0</td>\n      <td>13</td>\n      <td>United-States</td>\n      <td>&lt;=50K</td>\n      <td>0</td>\n      <td>0</td>\n      <td>0</td>\n      <td>1</td>\n    </tr>\n    <tr>\n      <th>2</th>\n      <td>38</td>\n      <td>Private</td>\n      <td>215646</td>\n      <td>HS-grad</td>\n      <td>9</td>\n      <td>Divorced</td>\n      <td>Handlers-cleaners</td>\n      <td>Not-in-family</td>\n      <td>White</td>\n      <td>Male</td>\n      <td>0</td>\n      <td>0</td>\n      <td>40</td>\n      <td>United-States</td>\n      <td>&lt;=50K</td>\n      <td>0</td>\n      <td>0</td>\n      <td>0</td>\n      <td>1</td>\n    </tr>\n    <tr>\n      <th>3</th>\n      <td>53</td>\n      <td>Private</td>\n      <td>234721</td>\n      <td>11th</td>\n      <td>7</td>\n      <td>Married-civ-spouse</td>\n      <td>Handlers-cleaners</td>\n      <td>Husband</td>\n      <td>Black</td>\n      <td>Male</td>\n      <td>0</td>\n      <td>0</td>\n      <td>40</td>\n      <td>United-States</td>\n      <td>&lt;=50K</td>\n      <td>0</td>\n      <td>0</td>\n      <td>0</td>\n      <td>1</td>\n    </tr>\n  </tbody>\n</table>\n</div>"
     },
     "execution_count": 127,
     "metadata": {},
     "output_type": "execute_result"
    }
   ],
   "source": [
    "data[:4]\n"
   ],
   "metadata": {
    "collapsed": false,
    "pycharm": {
     "name": "#%%\n"
    }
   }
  },
  {
   "cell_type": "code",
   "execution_count": 128,
   "outputs": [
    {
     "name": "stdout",
     "output_type": "stream",
     "text": [
      "350\n"
     ]
    },
    {
     "data": {
      "text/plain": "     age         workclass  fnlwgt     education  education-num  \\\n32    45           Private  386940     Bachelors             13   \n327   43           Private  187728  Some-college             10   \n468   49           Private  192776       Masters             14   \n597   42  Self-emp-not-inc  214242   Prof-school             15   \n\n         marital-status       occupation relationship   race     sex  \\\n32             Divorced  Exec-managerial    Own-child  White    Male   \n327  Married-civ-spouse   Prof-specialty         Wife  White  Female   \n468  Married-civ-spouse  Exec-managerial      Husband  White    Male   \n597  Married-civ-spouse   Prof-specialty      Husband  White    Male   \n\n     capital-gain  capital-loss  hours-per-week native-country Unnamed: 14  \\\n32              0          1408              40  United-States       <=50K   \n327             0          1887              50  United-States        >50K   \n468             0          1977              45  United-States        >50K   \n597             0          1902              50  United-States        >50K   \n\n     protected_greater_than  protected_smaller_than  satisfy  occurrence  \n32                        0                       0        1           1  \n327                       0                       0        1           1  \n468                       0                       0        1           1  \n597                       0                       0        1           1  ",
      "text/html": "<div>\n<style scoped>\n    .dataframe tbody tr th:only-of-type {\n        vertical-align: middle;\n    }\n\n    .dataframe tbody tr th {\n        vertical-align: top;\n    }\n\n    .dataframe thead th {\n        text-align: right;\n    }\n</style>\n<table border=\"1\" class=\"dataframe\">\n  <thead>\n    <tr style=\"text-align: right;\">\n      <th></th>\n      <th>age</th>\n      <th>workclass</th>\n      <th>fnlwgt</th>\n      <th>education</th>\n      <th>education-num</th>\n      <th>marital-status</th>\n      <th>occupation</th>\n      <th>relationship</th>\n      <th>race</th>\n      <th>sex</th>\n      <th>capital-gain</th>\n      <th>capital-loss</th>\n      <th>hours-per-week</th>\n      <th>native-country</th>\n      <th>Unnamed: 14</th>\n      <th>protected_greater_than</th>\n      <th>protected_smaller_than</th>\n      <th>satisfy</th>\n      <th>occurrence</th>\n    </tr>\n  </thead>\n  <tbody>\n    <tr>\n      <th>32</th>\n      <td>45</td>\n      <td>Private</td>\n      <td>386940</td>\n      <td>Bachelors</td>\n      <td>13</td>\n      <td>Divorced</td>\n      <td>Exec-managerial</td>\n      <td>Own-child</td>\n      <td>White</td>\n      <td>Male</td>\n      <td>0</td>\n      <td>1408</td>\n      <td>40</td>\n      <td>United-States</td>\n      <td>&lt;=50K</td>\n      <td>0</td>\n      <td>0</td>\n      <td>1</td>\n      <td>1</td>\n    </tr>\n    <tr>\n      <th>327</th>\n      <td>43</td>\n      <td>Private</td>\n      <td>187728</td>\n      <td>Some-college</td>\n      <td>10</td>\n      <td>Married-civ-spouse</td>\n      <td>Prof-specialty</td>\n      <td>Wife</td>\n      <td>White</td>\n      <td>Female</td>\n      <td>0</td>\n      <td>1887</td>\n      <td>50</td>\n      <td>United-States</td>\n      <td>&gt;50K</td>\n      <td>0</td>\n      <td>0</td>\n      <td>1</td>\n      <td>1</td>\n    </tr>\n    <tr>\n      <th>468</th>\n      <td>49</td>\n      <td>Private</td>\n      <td>192776</td>\n      <td>Masters</td>\n      <td>14</td>\n      <td>Married-civ-spouse</td>\n      <td>Exec-managerial</td>\n      <td>Husband</td>\n      <td>White</td>\n      <td>Male</td>\n      <td>0</td>\n      <td>1977</td>\n      <td>45</td>\n      <td>United-States</td>\n      <td>&gt;50K</td>\n      <td>0</td>\n      <td>0</td>\n      <td>1</td>\n      <td>1</td>\n    </tr>\n    <tr>\n      <th>597</th>\n      <td>42</td>\n      <td>Self-emp-not-inc</td>\n      <td>214242</td>\n      <td>Prof-school</td>\n      <td>15</td>\n      <td>Married-civ-spouse</td>\n      <td>Prof-specialty</td>\n      <td>Husband</td>\n      <td>White</td>\n      <td>Male</td>\n      <td>0</td>\n      <td>1902</td>\n      <td>50</td>\n      <td>United-States</td>\n      <td>&gt;50K</td>\n      <td>0</td>\n      <td>0</td>\n      <td>1</td>\n      <td>1</td>\n    </tr>\n  </tbody>\n</table>\n</div>"
     },
     "execution_count": 128,
     "metadata": {},
     "output_type": "execute_result"
    }
   ],
   "source": [
    "\n",
    "data_satisfy = data[data['satisfy']==1]\n",
    "print(len(data_satisfy))\n",
    "data_satisfy[:4]\n",
    "\n"
   ],
   "metadata": {
    "collapsed": false,
    "pycharm": {
     "name": "#%%\n"
    }
   }
  },
  {
   "cell_type": "code",
   "execution_count": 129,
   "outputs": [
    {
     "data": {
      "text/plain": "50"
     },
     "execution_count": 129,
     "metadata": {},
     "output_type": "execute_result"
    }
   ],
   "source": [
    "\n",
    "\n",
    "data_female = data_satisfy[data_satisfy['sex'] == 'Female']\n",
    "\n",
    "data_female['occurrence'].sum()\n"
   ],
   "metadata": {
    "collapsed": false,
    "pycharm": {
     "name": "#%%\n"
    }
   }
  },
  {
   "cell_type": "code",
   "execution_count": 130,
   "outputs": [
    {
     "data": {
      "text/plain": "277"
     },
     "execution_count": 130,
     "metadata": {},
     "output_type": "execute_result"
    }
   ],
   "source": [
    "\n",
    "\n",
    "data_male_white = data_satisfy[(data_satisfy['sex'] == 'Male') & (data_satisfy['race'] == 'White')]\n",
    "\n",
    "data_male_white['occurrence'].sum()\n"
   ],
   "metadata": {
    "collapsed": false,
    "pycharm": {
     "name": "#%%\n"
    }
   }
  },
  {
   "cell_type": "code",
   "execution_count": 60,
   "outputs": [],
   "source": [
    "\n",
    "\n"
   ],
   "metadata": {
    "collapsed": false,
    "pycharm": {
     "name": "#%%\n"
    }
   }
  },
  {
   "cell_type": "code",
   "execution_count": null,
   "outputs": [],
   "source": [
    "\n",
    "\n"
   ],
   "metadata": {
    "collapsed": false,
    "pycharm": {
     "name": "#%%\n"
    }
   }
  }
 ],
 "metadata": {
  "kernelspec": {
   "display_name": "Python 3",
   "language": "python",
   "name": "python3"
  },
  "language_info": {
   "codemirror_mode": {
    "name": "ipython",
    "version": 2
   },
   "file_extension": ".py",
   "mimetype": "text/x-python",
   "name": "python",
   "nbconvert_exporter": "python",
   "pygments_lexer": "ipython2",
   "version": "2.7.6"
  }
 },
 "nbformat": 4,
 "nbformat_minor": 0
}