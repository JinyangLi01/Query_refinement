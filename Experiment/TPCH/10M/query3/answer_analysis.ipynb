{
 "cells": [
  {
   "cell_type": "code",
   "execution_count": 2,
   "outputs": [],
   "source": [
    "import pandas as pd\n",
    "import numpy as np\n",
    "import csv\n",
    "\n",
    "\n"
   ],
   "metadata": {
    "collapsed": false,
    "pycharm": {
     "name": "#%%\n"
    }
   }
  },
  {
   "cell_type": "code",
   "execution_count": 6,
   "outputs": [
    {
     "name": "stdout",
     "output_type": "stream",
     "text": [
      "   C_CUSTKEY              C_NAME                          C_ADDRESS  \\\n",
      "0          2  Customer#000000002     XSTf4,NCwDVaWNe6tEgvwfmRchLXak   \n",
      "1          7  Customer#000000007     TcGe5gaZNgVePxU5kRrvXBfkasDTea   \n",
      "2         44  Customer#000000044  Oi,dOSPwDu4jo4x,,P85E0dmhZGvNtBwi   \n",
      "3         46  Customer#000000046                        eaTXWWm10L9   \n",
      "\n",
      "   C_NATIONKEY          C_PHONE  C_ACCTBAL C_MKTSEGMENT  \\\n",
      "0           13  23-768-687-3665     121.65   AUTOMOBILE   \n",
      "1           18  28-190-982-9759    9561.95   AUTOMOBILE   \n",
      "2           16  26-190-260-5375    7315.94   AUTOMOBILE   \n",
      "3            6  16-357-681-2007    5744.59   AUTOMOBILE   \n",
      "\n",
      "                                           C_COMMENT  O_ORDERKEY  O_CUSTKEY  \\\n",
      "0  l accounts. blithely ironic theodolites integr...       44962          2   \n",
      "1  ainst the ironic, express theodolites. express...       35844          7   \n",
      "2              r requests around the unusual, bold a       55072         44   \n",
      "3  ctions. accounts sleep furiously even requests...       52578         46   \n",
      "\n",
      "   ... L_DISCOUNT  L_TAX L_RETURNFLAG L_LINESTATUS  L_SHIPDATE  L_COMMITDATE  \\\n",
      "0  ...       0.03   0.07            A            F  1995-03-25    1995-03-14   \n",
      "1  ...       0.09   0.03            A            F  1995-03-30    1995-01-17   \n",
      "2  ...       0.00   0.08            R            F  1995-05-04    1995-02-25   \n",
      "3  ...       0.03   0.07            A            F  1995-03-17    1995-05-10   \n",
      "\n",
      "  L_RECEIPTDATE     L_SHIPINSTRUCT  L_SHIPMODE                      L_COMMENT  \n",
      "0    1995-04-19  DELIVER IN PERSON       TRUCK        packages cajole fluffil  \n",
      "1    1995-04-01  DELIVER IN PERSON        RAIL               about the blithe  \n",
      "2    1995-05-23               NONE        RAIL       al instructions. theodol  \n",
      "3    1995-03-18   TAKE BACK RETURN        RAIL  refully express theodolites w  \n",
      "\n",
      "[4 rows x 33 columns]\n"
     ]
    }
   ],
   "source": [
    "\n",
    "answer = pd.read_csv(\"answer_q3.csv\", index_col=0)\n",
    "print(answer[:4])\n",
    "\n",
    "# print(answer.columns.tolist())\n",
    "\n",
    "column_lst = ['C_CUSTKEY', 'C_NAME', 'C_ADDRESS', 'C_NATIONKEY', 'C_PHONE', 'C_ACCTBAL', 'C_MKTSEGMENT', 'C_COMMENT', 'O_ORDERKEY', 'O_CUSTKEY', 'O_ORDERSTATUS', 'O_TOTALPRICE', 'O_ORDERDATE', 'O_ORDERPRIORITY', 'O_CLERK', 'O_SHIPPRIORITY', 'O_COMMENT', 'L_ORDERKEY', 'L_PARTKEY', 'L_SUPPKEY', 'L_LINENUMBER', 'L_QUANTITY', 'L_EXTENDEDPRICE', 'L_DISCOUNT', 'L_TAX', 'L_RETURNFLAG', 'L_LINESTATUS', 'L_SHIPDATE', 'L_COMMITDATE', 'L_RECEIPTDATE', 'L_SHIPINSTRUCT', 'L_SHIPMODE', 'L_COMMENT']\n"
   ],
   "metadata": {
    "collapsed": false,
    "pycharm": {
     "name": "#%%\n"
    }
   }
  },
  {
   "cell_type": "code",
   "execution_count": 10,
   "outputs": [
    {
     "name": "stdout",
     "output_type": "stream",
     "text": [
      "L_RETURNFLAG\n",
      "A    157\n",
      "N     24\n",
      "R    130\n",
      "dtype: int64\n"
     ]
    }
   ],
   "source": [
    "\n",
    "print(answer.groupby(['L_RETURNFLAG']).size())\n"
   ],
   "metadata": {
    "collapsed": false,
    "pycharm": {
     "name": "#%%\n"
    }
   }
  },
  {
   "cell_type": "code",
   "execution_count": 11,
   "outputs": [
    {
     "name": "stdout",
     "output_type": "stream",
     "text": [
      "L_LINESTATUS\n",
      "F    300\n",
      "O     11\n",
      "dtype: int64\n"
     ]
    }
   ],
   "source": [
    "\n",
    "print(answer.groupby(['L_LINESTATUS']).size())\n"
   ],
   "metadata": {
    "collapsed": false,
    "pycharm": {
     "name": "#%%\n"
    }
   }
  },
  {
   "cell_type": "code",
   "execution_count": null,
   "outputs": [],
   "source": [],
   "metadata": {
    "collapsed": false,
    "pycharm": {
     "name": "#%%\n"
    }
   }
  }
 ],
 "metadata": {
  "kernelspec": {
   "display_name": "Python 3",
   "language": "python",
   "name": "python3"
  },
  "language_info": {
   "codemirror_mode": {
    "name": "ipython",
    "version": 2
   },
   "file_extension": ".py",
   "mimetype": "text/x-python",
   "name": "python",
   "nbconvert_exporter": "python",
   "pygments_lexer": "ipython2",
   "version": "2.7.6"
  }
 },
 "nbformat": 4,
 "nbformat_minor": 0
}