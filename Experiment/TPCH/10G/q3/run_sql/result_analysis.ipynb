{
 "cells": [
  {
   "cell_type": "code",
   "execution_count": 1,
   "metadata": {
    "collapsed": true
   },
   "outputs": [],
   "source": [
    "import csv\n",
    "import numpy as np\n",
    "import pandas as pd\n"
   ]
  },
  {
   "cell_type": "code",
   "execution_count": 2,
   "outputs": [
    {
     "data": {
      "text/plain": "   c_custkey              c_name                       c_address  c_nationkey  \\\n0          7  Customer#000000007  TcGe5gaZNgVePxU5kRrvXBfkasDTea           18   \n1          7  Customer#000000007  TcGe5gaZNgVePxU5kRrvXBfkasDTea           18   \n2          7  Customer#000000007  TcGe5gaZNgVePxU5kRrvXBfkasDTea           18   \n3          7  Customer#000000007  TcGe5gaZNgVePxU5kRrvXBfkasDTea           18   \n\n           c_phone  c_acctbal c_mktsegment  \\\n0  28-190-982-9759    9561.95   AUTOMOBILE   \n1  28-190-982-9759    9561.95   AUTOMOBILE   \n2  28-190-982-9759    9561.95   AUTOMOBILE   \n3  28-190-982-9759    9561.95   AUTOMOBILE   \n\n                                           c_comment  o_orderkey  o_custkey  \\\n0  ainst the ironic, express theodolites. express...     8108672          7   \n1  ainst the ironic, express theodolites. express...    10221120          7   \n2  ainst the ironic, express theodolites. express...    32384195          7   \n3  ainst the ironic, express theodolites. express...    42829795          7   \n\n   ... l_discount  l_tax l_returnflag l_linestatus  l_shipdate  l_commitdate  \\\n0  ...       0.07   0.08            A            F  1995-04-03    1995-02-21   \n1  ...       0.10   0.07            A            F  1995-03-30    1995-02-26   \n2  ...       0.06   0.02            A            F  1995-04-02    1995-02-16   \n3  ...       0.08   0.07            R            F  1995-05-04    1995-04-02   \n\n  l_receiptdate     l_shipinstruct  l_shipmode  \\\n0    1995-04-06  DELIVER IN PERSON         FOB   \n1    1995-04-19               NONE         FOB   \n2    1995-04-10        COLLECT COD     REG AIR   \n3    1995-05-16               NONE         FOB   \n\n                         l_comment  \n0   unusual, even excuses. slyly u  \n1    iously fluffily regular foxes  \n2             regular dolphins wak  \n3             xcuses wake fluffily  \n\n[4 rows x 33 columns]",
      "text/html": "<div>\n<style scoped>\n    .dataframe tbody tr th:only-of-type {\n        vertical-align: middle;\n    }\n\n    .dataframe tbody tr th {\n        vertical-align: top;\n    }\n\n    .dataframe thead th {\n        text-align: right;\n    }\n</style>\n<table border=\"1\" class=\"dataframe\">\n  <thead>\n    <tr style=\"text-align: right;\">\n      <th></th>\n      <th>c_custkey</th>\n      <th>c_name</th>\n      <th>c_address</th>\n      <th>c_nationkey</th>\n      <th>c_phone</th>\n      <th>c_acctbal</th>\n      <th>c_mktsegment</th>\n      <th>c_comment</th>\n      <th>o_orderkey</th>\n      <th>o_custkey</th>\n      <th>...</th>\n      <th>l_discount</th>\n      <th>l_tax</th>\n      <th>l_returnflag</th>\n      <th>l_linestatus</th>\n      <th>l_shipdate</th>\n      <th>l_commitdate</th>\n      <th>l_receiptdate</th>\n      <th>l_shipinstruct</th>\n      <th>l_shipmode</th>\n      <th>l_comment</th>\n    </tr>\n  </thead>\n  <tbody>\n    <tr>\n      <th>0</th>\n      <td>7</td>\n      <td>Customer#000000007</td>\n      <td>TcGe5gaZNgVePxU5kRrvXBfkasDTea</td>\n      <td>18</td>\n      <td>28-190-982-9759</td>\n      <td>9561.95</td>\n      <td>AUTOMOBILE</td>\n      <td>ainst the ironic, express theodolites. express...</td>\n      <td>8108672</td>\n      <td>7</td>\n      <td>...</td>\n      <td>0.07</td>\n      <td>0.08</td>\n      <td>A</td>\n      <td>F</td>\n      <td>1995-04-03</td>\n      <td>1995-02-21</td>\n      <td>1995-04-06</td>\n      <td>DELIVER IN PERSON</td>\n      <td>FOB</td>\n      <td>unusual, even excuses. slyly u</td>\n    </tr>\n    <tr>\n      <th>1</th>\n      <td>7</td>\n      <td>Customer#000000007</td>\n      <td>TcGe5gaZNgVePxU5kRrvXBfkasDTea</td>\n      <td>18</td>\n      <td>28-190-982-9759</td>\n      <td>9561.95</td>\n      <td>AUTOMOBILE</td>\n      <td>ainst the ironic, express theodolites. express...</td>\n      <td>10221120</td>\n      <td>7</td>\n      <td>...</td>\n      <td>0.10</td>\n      <td>0.07</td>\n      <td>A</td>\n      <td>F</td>\n      <td>1995-03-30</td>\n      <td>1995-02-26</td>\n      <td>1995-04-19</td>\n      <td>NONE</td>\n      <td>FOB</td>\n      <td>iously fluffily regular foxes</td>\n    </tr>\n    <tr>\n      <th>2</th>\n      <td>7</td>\n      <td>Customer#000000007</td>\n      <td>TcGe5gaZNgVePxU5kRrvXBfkasDTea</td>\n      <td>18</td>\n      <td>28-190-982-9759</td>\n      <td>9561.95</td>\n      <td>AUTOMOBILE</td>\n      <td>ainst the ironic, express theodolites. express...</td>\n      <td>32384195</td>\n      <td>7</td>\n      <td>...</td>\n      <td>0.06</td>\n      <td>0.02</td>\n      <td>A</td>\n      <td>F</td>\n      <td>1995-04-02</td>\n      <td>1995-02-16</td>\n      <td>1995-04-10</td>\n      <td>COLLECT COD</td>\n      <td>REG AIR</td>\n      <td>regular dolphins wak</td>\n    </tr>\n    <tr>\n      <th>3</th>\n      <td>7</td>\n      <td>Customer#000000007</td>\n      <td>TcGe5gaZNgVePxU5kRrvXBfkasDTea</td>\n      <td>18</td>\n      <td>28-190-982-9759</td>\n      <td>9561.95</td>\n      <td>AUTOMOBILE</td>\n      <td>ainst the ironic, express theodolites. express...</td>\n      <td>42829795</td>\n      <td>7</td>\n      <td>...</td>\n      <td>0.08</td>\n      <td>0.07</td>\n      <td>R</td>\n      <td>F</td>\n      <td>1995-05-04</td>\n      <td>1995-04-02</td>\n      <td>1995-05-16</td>\n      <td>NONE</td>\n      <td>FOB</td>\n      <td>xcuses wake fluffily</td>\n    </tr>\n  </tbody>\n</table>\n<p>4 rows × 33 columns</p>\n</div>"
     },
     "execution_count": 2,
     "metadata": {},
     "output_type": "execute_result"
    }
   ],
   "source": [
    "data = pd.read_csv(r\"answer_sql3.csv\", sep='|')\n",
    "data[:4]"
   ],
   "metadata": {
    "collapsed": false
   }
  },
  {
   "cell_type": "code",
   "execution_count": 3,
   "outputs": [],
   "source": [
    "relax_rate = 1.05\n",
    "contract_rate = 0.95\n",
    "relax_rate_change = [1.1, 1.2, 1.3, 1.4, 1.5, 1.6]\n",
    "contract_rate_change = [0.4, 0.5, 0.6, 0.7, 0.8, 0.9]"
   ],
   "metadata": {
    "collapsed": false
   }
  },
  {
   "cell_type": "markdown",
   "source": [
    "## relax"
   ],
   "metadata": {
    "collapsed": false
   }
  },
  {
   "cell_type": "code",
   "execution_count": 4,
   "outputs": [
    {
     "name": "stdout",
     "output_type": "stream",
     "text": [
      "12192\n",
      "12801.6\n"
     ]
    }
   ],
   "source": [
    "data2 = data[(data['c_nationkey'] == 23)]\n",
    "print(len(data2))\n",
    "print(len(data2) * relax_rate)"
   ],
   "metadata": {
    "collapsed": false
   }
  },
  {
   "cell_type": "code",
   "execution_count": 5,
   "outputs": [
    {
     "name": "stdout",
     "output_type": "stream",
     "text": [
      "13411.2\n",
      "14630.4\n",
      "15849.6\n",
      "17068.8\n",
      "18288.0\n",
      "19507.2\n"
     ]
    }
   ],
   "source": [
    "for r in relax_rate_change:\n",
    "    print(len(data2) * r)"
   ],
   "metadata": {
    "collapsed": false
   }
  },
  {
   "cell_type": "code",
   "execution_count": 6,
   "outputs": [
    {
     "name": "stdout",
     "output_type": "stream",
     "text": [
      "42834\n",
      "44975.700000000004\n"
     ]
    }
   ],
   "source": [
    "data3 = data[(data['l_shipmode'] == \"MAIL\")]\n",
    "print(len(data3))\n",
    "print(len(data3) * relax_rate)"
   ],
   "metadata": {
    "collapsed": false
   }
  },
  {
   "cell_type": "code",
   "execution_count": 7,
   "outputs": [
    {
     "name": "stdout",
     "output_type": "stream",
     "text": [
      "47117.4\n",
      "51400.799999999996\n",
      "55684.200000000004\n",
      "59967.6\n",
      "64251.0\n",
      "68534.40000000001\n"
     ]
    }
   ],
   "source": [
    "for r in relax_rate_change:\n",
    "    print(len(data3) * r)"
   ],
   "metadata": {
    "collapsed": false
   }
  },
  {
   "cell_type": "markdown",
   "source": [
    "## contract"
   ],
   "metadata": {
    "collapsed": false
   }
  },
  {
   "cell_type": "code",
   "execution_count": 8,
   "outputs": [
    {
     "name": "stdout",
     "output_type": "stream",
     "text": [
      "12078\n",
      "11474.1\n"
     ]
    }
   ],
   "source": [
    "data3 = data[(data['c_nationkey'] == 2)]\n",
    "print(len(data3))\n",
    "print(len(data3) * contract_rate)"
   ],
   "metadata": {
    "collapsed": false
   }
  },
  {
   "cell_type": "code",
   "execution_count": 9,
   "outputs": [
    {
     "name": "stdout",
     "output_type": "stream",
     "text": [
      "22218\n",
      "21107.1\n"
     ]
    }
   ],
   "source": [
    "data1 = data[(data['o_orderstatus'] == \"P\") & (data['l_returnflag'] == \"N\")]\n",
    "print(len(data1))\n",
    "print(len(data1) * contract_rate)"
   ],
   "metadata": {
    "collapsed": false
   }
  },
  {
   "cell_type": "code",
   "execution_count": 10,
   "outputs": [
    {
     "name": "stdout",
     "output_type": "stream",
     "text": [
      "42872\n",
      "40728.4\n"
     ]
    }
   ],
   "source": [
    "data3 = data[(data['l_shipmode'] == \"SHIP\")]\n",
    "print(len(data3))\n",
    "print(len(data3) * contract_rate)"
   ],
   "metadata": {
    "collapsed": false
   }
  },
  {
   "cell_type": "code",
   "execution_count": 11,
   "outputs": [
    {
     "name": "stdout",
     "output_type": "stream",
     "text": [
      "75253\n",
      "71490.34999999999\n"
     ]
    }
   ],
   "source": [
    "data3 = data[(data['l_shipinstruct'] == \"COLLECT COD\")]\n",
    "print(len(data3))\n",
    "print(len(data3) * contract_rate)"
   ],
   "metadata": {
    "collapsed": false
   }
  },
  {
   "cell_type": "code",
   "execution_count": 12,
   "outputs": [
    {
     "name": "stdout",
     "output_type": "stream",
     "text": [
      "30101.2\n",
      "37626.5\n",
      "45151.799999999996\n",
      "52677.1\n",
      "60202.4\n",
      "67727.7\n"
     ]
    }
   ],
   "source": [
    "for r in contract_rate_change:\n",
    "    print(len(data3) * r)\n"
   ],
   "metadata": {
    "collapsed": false
   }
  },
  {
   "cell_type": "code",
   "execution_count": 13,
   "outputs": [
    {
     "name": "stdout",
     "output_type": "stream",
     "text": [
      "32078\n",
      "30474.1\n"
     ]
    }
   ],
   "source": [
    "data3 = data[(data['l_linenumber'] == 5)]\n",
    "print(len(data3))\n",
    "print(len(data3) * contract_rate)"
   ],
   "metadata": {
    "collapsed": false
   }
  },
  {
   "cell_type": "code",
   "execution_count": 13,
   "outputs": [],
   "source": [],
   "metadata": {
    "collapsed": false
   }
  },
  {
   "cell_type": "markdown",
   "source": [
    "## refinement1"
   ],
   "metadata": {
    "collapsed": false
   }
  },
  {
   "cell_type": "raw",
   "source": [
    "1.1 and 0.9: over time"
   ],
   "metadata": {
    "collapsed": false
   }
  },
  {
   "cell_type": "code",
   "execution_count": 14,
   "outputs": [
    {
     "name": "stdout",
     "output_type": "stream",
     "text": [
      "11734\n",
      "12320.7\n",
      "11147.3\n"
     ]
    }
   ],
   "source": [
    "data1 = data[(data['c_nationkey'] == 12)]\n",
    "print(len(data1))\n",
    "print(len(data1) * 1.05)\n",
    "print(len(data1) * 0.95)"
   ],
   "metadata": {
    "collapsed": false
   }
  },
  {
   "cell_type": "code",
   "execution_count": 15,
   "outputs": [
    {
     "name": "stdout",
     "output_type": "stream",
     "text": [
      "11968.68\n",
      "12203.36\n",
      "12438.04\n",
      "12672.720000000001\n",
      "12907.400000000001\n",
      "13142.080000000002\n"
     ]
    }
   ],
   "source": [
    "for s in [1.02, 1.04, 1.06, 1.08, 1.10, 1.12]:\n",
    "    print(len(data1) * s)"
   ],
   "metadata": {
    "collapsed": false
   }
  },
  {
   "cell_type": "code",
   "execution_count": 16,
   "outputs": [
    {
     "name": "stdout",
     "output_type": "stream",
     "text": [
      "42944\n",
      "40796.799999999996\n",
      "45091.200000000004\n"
     ]
    }
   ],
   "source": [
    "data3 = data[(data['l_shipmode'] == \"TRUCK\")]\n",
    "print(len(data3))\n",
    "print(len(data3) * 0.95)\n",
    "print(len(data3) * 1.05)"
   ],
   "metadata": {
    "collapsed": false
   }
  },
  {
   "cell_type": "code",
   "execution_count": 22,
   "outputs": [],
   "source": [],
   "metadata": {
    "collapsed": false
   }
  },
  {
   "cell_type": "markdown",
   "source": [
    "## refine2"
   ],
   "metadata": {
    "collapsed": false
   }
  },
  {
   "cell_type": "markdown",
   "source": [],
   "metadata": {
    "collapsed": false
   }
  },
  {
   "cell_type": "code",
   "execution_count": 19,
   "outputs": [
    {
     "name": "stdout",
     "output_type": "stream",
     "text": [
      "3162\n",
      "3320.1000000000004\n"
     ]
    }
   ],
   "source": [
    "data1 = data[(data['l_linenumber'] == 6) & (data['l_shipmode'] == \"SHIP\")]\n",
    "print(len(data1))\n",
    "print(len(data1) * 1.05)"
   ],
   "metadata": {
    "collapsed": false
   }
  },
  {
   "cell_type": "code",
   "execution_count": 20,
   "outputs": [
    {
     "name": "stdout",
     "output_type": "stream",
     "text": [
      "3225.2400000000002\n",
      "3288.48\n",
      "3351.7200000000003\n",
      "3414.96\n",
      "3478.2000000000003\n",
      "3541.4400000000005\n"
     ]
    }
   ],
   "source": [
    "for s in [1.02, 1.04, 1.06, 1.08, 1.10, 1.12]:\n",
    "    print(len(data1) * s)"
   ],
   "metadata": {
    "collapsed": false
   }
  },
  {
   "cell_type": "code",
   "execution_count": 21,
   "outputs": [
    {
     "name": "stdout",
     "output_type": "stream",
     "text": [
      "7826\n",
      "7434.7\n"
     ]
    }
   ],
   "source": [
    "data1 = data[(data['l_shipmode'] == \"TRUCK\") & (data['o_orderstatus'] == \"P\")]\n",
    "print(len(data1))\n",
    "print(len(data1) * 0.95)"
   ],
   "metadata": {
    "collapsed": false
   }
  },
  {
   "cell_type": "code",
   "execution_count": 22,
   "outputs": [
    {
     "name": "stdout",
     "output_type": "stream",
     "text": [
      "['DELIVER IN PERSON' 'NONE' 'COLLECT COD' 'TAKE BACK RETURN']\n"
     ]
    }
   ],
   "source": [
    "print(data['l_shipinstruct'].unique())"
   ],
   "metadata": {
    "collapsed": false
   }
  },
  {
   "cell_type": "code",
   "execution_count": null,
   "outputs": [],
   "source": [],
   "metadata": {
    "collapsed": false
   }
  },
  {
   "cell_type": "markdown",
   "source": [
    "## change date"
   ],
   "metadata": {
    "collapsed": false
   }
  },
  {
   "cell_type": "code",
   "execution_count": 23,
   "outputs": [
    {
     "name": "stdout",
     "output_type": "stream",
     "text": [
      "1994-11-17 1995-03-16\n"
     ]
    }
   ],
   "source": [
    "s = data[\"o_orderdate\"].values.tolist()\n",
    "s.sort()\n",
    "print(s[0], s[-1])"
   ],
   "metadata": {
    "collapsed": false
   }
  },
  {
   "cell_type": "code",
   "execution_count": 23,
   "outputs": [],
   "source": [],
   "metadata": {
    "collapsed": false
   }
  },
  {
   "cell_type": "code",
   "execution_count": null,
   "outputs": [],
   "source": [],
   "metadata": {
    "collapsed": false,
    "pycharm": {
     "is_executing": true
    }
   }
  },
  {
   "cell_type": "code",
   "execution_count": 23,
   "outputs": [],
   "source": [],
   "metadata": {
    "collapsed": false
   }
  }
 ],
 "metadata": {
  "kernelspec": {
   "display_name": "Python 3",
   "language": "python",
   "name": "python3"
  },
  "language_info": {
   "codemirror_mode": {
    "name": "ipython",
    "version": 2
   },
   "file_extension": ".py",
   "mimetype": "text/x-python",
   "name": "python",
   "nbconvert_exporter": "python",
   "pygments_lexer": "ipython2",
   "version": "2.7.6"
  }
 },
 "nbformat": 4,
 "nbformat_minor": 0
}
