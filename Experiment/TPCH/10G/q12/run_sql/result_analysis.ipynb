{
 "cells": [
  {
   "cell_type": "code",
   "execution_count": 1,
   "metadata": {},
   "outputs": [],
   "source": [
    "import csv\n",
    "import numpy as np\n",
    "import pandas as pd\n"
   ]
  },
  {
   "cell_type": "code",
   "execution_count": 2,
   "metadata": {},
   "outputs": [
    {
     "data": {
      "text/plain": "328688"
     },
     "execution_count": 2,
     "metadata": {},
     "output_type": "execute_result"
    }
   ],
   "source": [
    "data = pd.read_csv(r\"answer_sql12.csv\", sep='|')\n",
    "len(data)"
   ]
  },
  {
   "cell_type": "code",
   "execution_count": 3,
   "outputs": [],
   "source": [
    "relax_rate = 1.05\n",
    "contract_rate = 0.95\n",
    "relax_rate_change = [1.1, 1.2, 1.3, 1.4, 1.5, 1.6]\n",
    "contract_rate_change = [0.4, 0.5, 0.6, 0.7, 0.8, 0.9]"
   ],
   "metadata": {
    "collapsed": false
   }
  },
  {
   "cell_type": "markdown",
   "metadata": {},
   "source": [
    "# relax"
   ]
  },
  {
   "cell_type": "code",
   "execution_count": 4,
   "metadata": {},
   "outputs": [
    {
     "name": "stdout",
     "output_type": "stream",
     "text": [
      "11757\n",
      "12344.85\n"
     ]
    }
   ],
   "source": [
    "data1 = data[(data['o_orderpriority'] == \"5-LOW\") & (data[\"l_linenumber\"] == 3) ]\n",
    "print(len(data1))\n",
    "print(len(data1)*relax_rate)"
   ]
  },
  {
   "cell_type": "code",
   "execution_count": 5,
   "metadata": {},
   "outputs": [
    {
     "name": "stdout",
     "output_type": "stream",
     "text": [
      "82202\n",
      "86312.1\n"
     ]
    }
   ],
   "source": [
    "data2 = data[(data['l_shipinstruct'] == \"COLLECT COD\")]\n",
    "print(len(data2))\n",
    "print(len(data2)*relax_rate)"
   ]
  },
  {
   "cell_type": "code",
   "execution_count": 6,
   "outputs": [
    {
     "name": "stdout",
     "output_type": "stream",
     "text": [
      "90422.20000000001\n",
      "98642.4\n",
      "106862.6\n",
      "115082.79999999999\n",
      "123303.0\n",
      "131523.2\n"
     ]
    }
   ],
   "source": [
    "for r in relax_rate_change:\n",
    "    print(len(data2) * r)"
   ],
   "metadata": {
    "collapsed": false
   }
  },
  {
   "cell_type": "code",
   "execution_count": 7,
   "metadata": {},
   "outputs": [
    {
     "name": "stdout",
     "output_type": "stream",
     "text": [
      "164535\n",
      "172761.75\n"
     ]
    }
   ],
   "source": [
    "data3 = data[data[\"l_returnflag\"] == \"A\"]\n",
    "print(len(data3))\n",
    "print(len(data3)*relax_rate)"
   ]
  },
  {
   "cell_type": "markdown",
   "metadata": {},
   "source": [
    "## contract"
   ]
  },
  {
   "cell_type": "code",
   "execution_count": 8,
   "metadata": {},
   "outputs": [
    {
     "name": "stdout",
     "output_type": "stream",
     "text": [
      "65861\n",
      "62567.95\n"
     ]
    }
   ],
   "source": [
    "data3 = data[(data['o_orderpriority'] == \"1-URGENT\")]\n",
    "print(len(data3))\n",
    "print(len(data3)*contract_rate)"
   ]
  },
  {
   "cell_type": "code",
   "execution_count": 9,
   "metadata": {},
   "outputs": [
    {
     "name": "stdout",
     "output_type": "stream",
     "text": [
      "82008\n",
      "77907.59999999999\n"
     ]
    }
   ],
   "source": [
    "data4 = data[(data['l_linenumber'] == 1)]\n",
    "print(len(data4))\n",
    "print(len(data4)*contract_rate)"
   ]
  },
  {
   "cell_type": "code",
   "execution_count": 10,
   "metadata": {},
   "outputs": [
    {
     "name": "stdout",
     "output_type": "stream",
     "text": [
      "164535\n",
      "156308.25\n"
     ]
    }
   ],
   "source": [
    "data1 = data[(data['l_returnflag'] == \"A\") & (data[\"o_orderstatus\"] == \"F\") ]\n",
    "print(len(data1))\n",
    "print(len(data1)*contract_rate)"
   ]
  },
  {
   "cell_type": "code",
   "execution_count": 11,
   "outputs": [
    {
     "name": "stdout",
     "output_type": "stream",
     "text": [
      "65814.0\n",
      "82267.5\n",
      "98721.0\n",
      "115174.49999999999\n",
      "131628.0\n",
      "148081.5\n"
     ]
    }
   ],
   "source": [
    "for r in contract_rate_change:\n",
    "    print(len(data1) * r)"
   ],
   "metadata": {
    "collapsed": false
   }
  },
  {
   "cell_type": "code",
   "execution_count": 11,
   "outputs": [],
   "source": [],
   "metadata": {
    "collapsed": false
   }
  },
  {
   "cell_type": "markdown",
   "metadata": {},
   "source": [
    "# refine"
   ]
  },
  {
   "cell_type": "code",
   "execution_count": 12,
   "metadata": {},
   "outputs": [
    {
     "name": "stdout",
     "output_type": "stream",
     "text": [
      "11692\n",
      "12276.6\n"
     ]
    }
   ],
   "source": [
    "data3 = data[(data[\"o_orderpriority\"] == \"3-MEDIUM\") & (data[\"l_linenumber\"] == 3) ]\n",
    "print(len(data3))\n",
    "print(len(data3)*1.05)"
   ]
  },
  {
   "cell_type": "code",
   "execution_count": 13,
   "metadata": {},
   "outputs": [
    {
     "name": "stdout",
     "output_type": "stream",
     "text": [
      "40821\n",
      "38779.95\n"
     ]
    }
   ],
   "source": [
    "data4 = data[(data['l_returnflag'] == \"R\") & (data[\"l_shipinstruct\"] == \"TAKE BACK RETURN\") ]\n",
    "print(len(data4))\n",
    "print(len(data4)*0.95)"
   ]
  },
  {
   "cell_type": "code",
   "execution_count": 14,
   "outputs": [
    {
     "name": "stdout",
     "output_type": "stream",
     "text": [
      "35922.48\n",
      "36738.9\n",
      "37555.32\n",
      "38371.74\n",
      "39188.159999999996\n",
      "40004.58\n"
     ]
    }
   ],
   "source": [
    "s = [0.88, 0.90, 0.92, 0.94, 0.96, 0.98]\n",
    "for r in s:\n",
    "    print(len(data4) * r)"
   ],
   "metadata": {
    "collapsed": false
   }
  },
  {
   "cell_type": "code",
   "execution_count": 14,
   "outputs": [],
   "source": [],
   "metadata": {
    "collapsed": false
   }
  },
  {
   "cell_type": "code",
   "execution_count": 15,
   "metadata": {},
   "outputs": [
    {
     "data": {
      "text/plain": "array(['R', 'A'], dtype=object)"
     },
     "execution_count": 15,
     "metadata": {},
     "output_type": "execute_result"
    }
   ],
   "source": [
    "data['l_returnflag'].unique()"
   ]
  },
  {
   "cell_type": "code",
   "execution_count": 16,
   "outputs": [
    {
     "name": "stdout",
     "output_type": "stream",
     "text": [
      "1994-01-01 1995-01-30\n"
     ]
    }
   ],
   "source": [
    "s = data['l_receiptdate'].unique().tolist()\n",
    "s.sort()\n",
    "print(s[0], s[-1])"
   ],
   "metadata": {
    "collapsed": false
   }
  },
  {
   "cell_type": "code",
   "execution_count": null,
   "outputs": [],
   "source": [],
   "metadata": {
    "collapsed": false
   }
  },
  {
   "cell_type": "code",
   "execution_count": null,
   "outputs": [],
   "source": [],
   "metadata": {
    "collapsed": false
   }
  },
  {
   "cell_type": "markdown",
   "source": [
    "# refine5"
   ],
   "metadata": {
    "collapsed": false
   }
  },
  {
   "cell_type": "code",
   "execution_count": 4,
   "outputs": [
    {
     "name": "stdout",
     "output_type": "stream",
     "text": [
      "306\n",
      "290.7\n"
     ]
    }
   ],
   "source": [
    "\n",
    "\n",
    "g1 = data[(data[\"o_orderpriority\"] == \"4-NOT SPECIFIED\") & (data[\"l_linenumber\"] == 7) & (data[\"l_shipinstruct\"] == \"TAKE BACK RETURN\") & (data[\"l_returnflag\"] == \"A\")]\n",
    "\n",
    "print(len(g1))\n",
    "print(len(g1) * 0.95)\n",
    "\n"
   ],
   "metadata": {
    "collapsed": false
   }
  },
  {
   "cell_type": "code",
   "execution_count": 5,
   "outputs": [
    {
     "name": "stdout",
     "output_type": "stream",
     "text": [
      "609\n",
      "639.45\n"
     ]
    }
   ],
   "source": [
    "\n",
    "g2 = data[(data[\"l_shipinstruct\"] == \"NONE\") & (data[\"o_orderpriority\"] == \"5-LOW\")& (data[\"l_linenumber\"] == 7) & (data[\"o_orderstatus\"] == \"F\")]\n",
    "\n",
    "print(len(g2))\n",
    "print(len(g2) * 1.05)"
   ],
   "metadata": {
    "collapsed": false
   }
  },
  {
   "cell_type": "code",
   "execution_count": 6,
   "outputs": [
    {
     "name": "stdout",
     "output_type": "stream",
     "text": [
      "621.1800000000001\n",
      "633.36\n",
      "645.5400000000001\n",
      "657.72\n",
      "669.9000000000001\n",
      "682.08\n"
     ]
    }
   ],
   "source": [
    "\n",
    "\n",
    "s = [1.02, 1.04, 1.06, 1.08, 1.10, 1.12]\n",
    "for r in s:\n",
    "    print(len(g2) * r)"
   ],
   "metadata": {
    "collapsed": false
   }
  },
  {
   "cell_type": "code",
   "execution_count": null,
   "outputs": [],
   "source": [],
   "metadata": {
    "collapsed": false
   }
  },
  {
   "cell_type": "code",
   "execution_count": null,
   "outputs": [],
   "source": [],
   "metadata": {
    "collapsed": false
   }
  },
  {
   "cell_type": "code",
   "execution_count": null,
   "outputs": [],
   "source": [],
   "metadata": {
    "collapsed": false
   }
  },
  {
   "cell_type": "markdown",
   "source": [
    "# join"
   ],
   "metadata": {
    "collapsed": false
   },
   "outputs": [],
   "execution_count": 16
  },
  {
   "cell_type": "code",
   "execution_count": 17,
   "outputs": [],
   "source": [
    "\n",
    "orders = pd.read_csv(\"../../../../../InputData/TPC-H/10Gdata/orders.tbl\", sep='|')\n",
    "lineitem = pd.read_csv(\"../../../../../InputData/TPC-H/10Gdata/lineitem.tbl\", sep='|')\n",
    "joined = pd.merge(left=orders, right=lineitem, how=\"inner\", left_on=\"o_orderkey\", right_on=\"l_orderkey\")\n",
    "joined = joined[joined[\"l_commitdate\"] < joined[\"l_receiptdate\"]]\n",
    "joined = joined[joined[\"l_shipdate\"] < joined[\"l_commitdate\"]]"
   ],
   "metadata": {
    "collapsed": false
   }
  },
  {
   "cell_type": "code",
   "execution_count": 18,
   "outputs": [
    {
     "name": "stdout",
     "output_type": "stream",
     "text": [
      "7190268\n"
     ]
    }
   ],
   "source": [
    "print(len(joined))"
   ],
   "metadata": {
    "collapsed": false
   }
  },
  {
   "cell_type": "code",
   "execution_count": 22,
   "outputs": [],
   "source": [
    "joined.to_csv(\"sql12_joined.csv\", sep='|', index=False)"
   ],
   "metadata": {
    "collapsed": false
   }
  },
  {
   "cell_type": "code",
   "execution_count": 23,
   "outputs": [],
   "source": [
    "# data analysis"
   ],
   "metadata": {
    "collapsed": false
   }
  },
  {
   "cell_type": "code",
   "execution_count": 24,
   "outputs": [],
   "source": [
    "joined = pd.read_csv(\"sql12_joined.csv\", sep='|')"
   ],
   "metadata": {
    "collapsed": false
   }
  },
  {
   "cell_type": "code",
   "execution_count": null,
   "outputs": [],
   "source": [],
   "metadata": {
    "collapsed": false
   }
  },
  {
   "cell_type": "code",
   "execution_count": null,
   "outputs": [],
   "source": [],
   "metadata": {
    "collapsed": false
   }
  },
  {
   "cell_type": "code",
   "execution_count": null,
   "outputs": [],
   "source": [],
   "metadata": {
    "collapsed": false
   }
  },
  {
   "cell_type": "code",
   "execution_count": null,
   "outputs": [],
   "source": [],
   "metadata": {
    "collapsed": false
   }
  },
  {
   "cell_type": "markdown",
   "source": [
    "# original query 1"
   ],
   "metadata": {
    "collapsed": false
   }
  },
  {
   "cell_type": "code",
   "execution_count": 27,
   "outputs": [
    {
     "name": "stdout",
     "output_type": "stream",
     "text": [
      "328688\n",
      "601\n",
      "570.9499999999999\n",
      "609\n",
      "639.45\n"
     ]
    }
   ],
   "source": [
    "# original query 2\n",
    "data1 = joined[(joined['l_receiptdate'] >=  19940101)]\n",
    "data1 = data1[(data1['l_shipdate'] <  19950101)]\n",
    "data1 = data1[(data1['l_shipmode'] == \"MAIL\") | (data1['l_shipmode'] == \"FOB\")]\n",
    "print(len(data1))\n",
    "\n",
    "g1 = data1[(data1[\"o_orderpriority\"] == \"3-MEDIUM\") & (data1[\"l_linenumber\"] == 7) & (data1[\"l_shipinstruct\"] == \"TAKE BACK RETURN\")]\n",
    "\n",
    "print(len(g1))\n",
    "print(len(g1) * 0.95)\n",
    "\n",
    "\n",
    "g2 = data1[(data1[\"l_shipinstruct\"] == \"NONE\") & (data1[\"o_orderpriority\"] == \"5-LOW\")& (data1[\"l_linenumber\"] == 7)]\n",
    "\n",
    "print(len(g2))\n",
    "print(len(g2) * 1.05)\n"
   ],
   "metadata": {
    "collapsed": false
   }
  },
  {
   "cell_type": "code",
   "execution_count": null,
   "outputs": [],
   "source": [],
   "metadata": {
    "collapsed": false
   }
  },
  {
   "cell_type": "code",
   "execution_count": null,
   "outputs": [],
   "source": [],
   "metadata": {
    "collapsed": false
   }
  },
  {
   "cell_type": "code",
   "execution_count": null,
   "outputs": [],
   "source": [],
   "metadata": {
    "collapsed": false
   }
  },
  {
   "cell_type": "code",
   "execution_count": null,
   "outputs": [],
   "source": [],
   "metadata": {
    "collapsed": false
   }
  },
  {
   "cell_type": "code",
   "execution_count": null,
   "outputs": [],
   "source": [],
   "metadata": {
    "collapsed": false
   }
  },
  {
   "cell_type": "code",
   "execution_count": null,
   "outputs": [],
   "source": [],
   "metadata": {
    "collapsed": false
   }
  },
  {
   "cell_type": "code",
   "execution_count": null,
   "outputs": [],
   "source": [],
   "metadata": {
    "collapsed": false
   }
  }
 ],
 "metadata": {
  "kernelspec": {
   "display_name": "Python 3 (ipykernel)",
   "language": "python",
   "name": "python3"
  },
  "language_info": {
   "codemirror_mode": {
    "name": "ipython",
    "version": 2
   },
   "file_extension": ".py",
   "mimetype": "text/x-python",
   "name": "python",
   "nbconvert_exporter": "python",
   "pygments_lexer": "ipython2",
   "version": "2.7.6"
  }
 },
 "nbformat": 4,
 "nbformat_minor": 1
}
