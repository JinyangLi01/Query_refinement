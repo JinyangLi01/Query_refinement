{
 "cells": [
  {
   "cell_type": "code",
   "execution_count": 1,
   "metadata": {
    "collapsed": true
   },
   "outputs": [],
   "source": [
    "import csv\n",
    "import numpy as np\n",
    "import pandas as pd\n"
   ]
  },
  {
   "cell_type": "code",
   "execution_count": 2,
   "outputs": [
    {
     "data": {
      "text/plain": "   c_custkey              c_name                c_address  c_nationkey  \\\n0         13  Customer#000000013  nsXQu0oVjD7PM659uC3SRSp            3   \n1         13  Customer#000000013  nsXQu0oVjD7PM659uC3SRSp            3   \n2         13  Customer#000000013  nsXQu0oVjD7PM659uC3SRSp            3   \n3         13  Customer#000000013  nsXQu0oVjD7PM659uC3SRSp            3   \n\n           c_phone  c_acctbal c_mktsegment  \\\n0  13-761-547-5974    3857.34     BUILDING   \n1  13-761-547-5974    3857.34     BUILDING   \n2  13-761-547-5974    3857.34     BUILDING   \n3  13-761-547-5974    3857.34     BUILDING   \n\n                                           c_comment  o_orderkey  o_custkey  \\\n0  ounts sleep carefully after the close frays. c...     5693440         13   \n1  ounts sleep carefully after the close frays. c...     5693440         13   \n2  ounts sleep carefully after the close frays. c...     5693440         13   \n3  ounts sleep carefully after the close frays. c...     5693440         13   \n\n   ... l_discount  l_tax l_returnflag l_linestatus  l_shipdate  l_commitdate  \\\n0  ...       0.01   0.03            R            F  1995-04-02    1995-04-07   \n1  ...       0.06   0.07            A            F  1995-05-09    1995-05-01   \n2  ...       0.04   0.03            A            F  1995-03-22    1995-05-20   \n3  ...       0.03   0.06            A            F  1995-05-15    1995-04-17   \n\n  l_receiptdate  l_shipinstruct  l_shipmode                     l_comment  \n0    1995-04-18            NONE        RAIL                  uriously iro  \n1    1995-06-03            NONE       TRUCK              fluffily bold re  \n2    1995-04-02            NONE        SHIP         beans nag blithely ab  \n3    1995-05-31            NONE        SHIP  after the furiously silent p  \n\n[4 rows x 33 columns]",
      "text/html": "<div>\n<style scoped>\n    .dataframe tbody tr th:only-of-type {\n        vertical-align: middle;\n    }\n\n    .dataframe tbody tr th {\n        vertical-align: top;\n    }\n\n    .dataframe thead th {\n        text-align: right;\n    }\n</style>\n<table border=\"1\" class=\"dataframe\">\n  <thead>\n    <tr style=\"text-align: right;\">\n      <th></th>\n      <th>c_custkey</th>\n      <th>c_name</th>\n      <th>c_address</th>\n      <th>c_nationkey</th>\n      <th>c_phone</th>\n      <th>c_acctbal</th>\n      <th>c_mktsegment</th>\n      <th>c_comment</th>\n      <th>o_orderkey</th>\n      <th>o_custkey</th>\n      <th>...</th>\n      <th>l_discount</th>\n      <th>l_tax</th>\n      <th>l_returnflag</th>\n      <th>l_linestatus</th>\n      <th>l_shipdate</th>\n      <th>l_commitdate</th>\n      <th>l_receiptdate</th>\n      <th>l_shipinstruct</th>\n      <th>l_shipmode</th>\n      <th>l_comment</th>\n    </tr>\n  </thead>\n  <tbody>\n    <tr>\n      <th>0</th>\n      <td>13</td>\n      <td>Customer#000000013</td>\n      <td>nsXQu0oVjD7PM659uC3SRSp</td>\n      <td>3</td>\n      <td>13-761-547-5974</td>\n      <td>3857.34</td>\n      <td>BUILDING</td>\n      <td>ounts sleep carefully after the close frays. c...</td>\n      <td>5693440</td>\n      <td>13</td>\n      <td>...</td>\n      <td>0.01</td>\n      <td>0.03</td>\n      <td>R</td>\n      <td>F</td>\n      <td>1995-04-02</td>\n      <td>1995-04-07</td>\n      <td>1995-04-18</td>\n      <td>NONE</td>\n      <td>RAIL</td>\n      <td>uriously iro</td>\n    </tr>\n    <tr>\n      <th>1</th>\n      <td>13</td>\n      <td>Customer#000000013</td>\n      <td>nsXQu0oVjD7PM659uC3SRSp</td>\n      <td>3</td>\n      <td>13-761-547-5974</td>\n      <td>3857.34</td>\n      <td>BUILDING</td>\n      <td>ounts sleep carefully after the close frays. c...</td>\n      <td>5693440</td>\n      <td>13</td>\n      <td>...</td>\n      <td>0.06</td>\n      <td>0.07</td>\n      <td>A</td>\n      <td>F</td>\n      <td>1995-05-09</td>\n      <td>1995-05-01</td>\n      <td>1995-06-03</td>\n      <td>NONE</td>\n      <td>TRUCK</td>\n      <td>fluffily bold re</td>\n    </tr>\n    <tr>\n      <th>2</th>\n      <td>13</td>\n      <td>Customer#000000013</td>\n      <td>nsXQu0oVjD7PM659uC3SRSp</td>\n      <td>3</td>\n      <td>13-761-547-5974</td>\n      <td>3857.34</td>\n      <td>BUILDING</td>\n      <td>ounts sleep carefully after the close frays. c...</td>\n      <td>5693440</td>\n      <td>13</td>\n      <td>...</td>\n      <td>0.04</td>\n      <td>0.03</td>\n      <td>A</td>\n      <td>F</td>\n      <td>1995-03-22</td>\n      <td>1995-05-20</td>\n      <td>1995-04-02</td>\n      <td>NONE</td>\n      <td>SHIP</td>\n      <td>beans nag blithely ab</td>\n    </tr>\n    <tr>\n      <th>3</th>\n      <td>13</td>\n      <td>Customer#000000013</td>\n      <td>nsXQu0oVjD7PM659uC3SRSp</td>\n      <td>3</td>\n      <td>13-761-547-5974</td>\n      <td>3857.34</td>\n      <td>BUILDING</td>\n      <td>ounts sleep carefully after the close frays. c...</td>\n      <td>5693440</td>\n      <td>13</td>\n      <td>...</td>\n      <td>0.03</td>\n      <td>0.06</td>\n      <td>A</td>\n      <td>F</td>\n      <td>1995-05-15</td>\n      <td>1995-04-17</td>\n      <td>1995-05-31</td>\n      <td>NONE</td>\n      <td>SHIP</td>\n      <td>after the furiously silent p</td>\n    </tr>\n  </tbody>\n</table>\n<p>4 rows × 33 columns</p>\n</div>"
     },
     "execution_count": 2,
     "metadata": {},
     "output_type": "execute_result"
    }
   ],
   "source": [
    "data = pd.read_csv(r\"answer_sql3.csv\", sep='|')\n",
    "data[:4]"
   ],
   "metadata": {
    "collapsed": false
   }
  },
  {
   "cell_type": "code",
   "execution_count": 3,
   "outputs": [],
   "source": [
    "relax_rate = 1.05\n",
    "contract_rate = 0.95\n",
    "relax_rate_change = [1.1, 1.2, 1.3, 1.4, 1.5, 1.6]\n",
    "contract_rate_change = [0.4, 0.5, 0.6, 0.7, 0.8, 0.9]"
   ],
   "metadata": {
    "collapsed": false
   }
  },
  {
   "cell_type": "markdown",
   "source": [
    "## relax"
   ],
   "metadata": {
    "collapsed": false
   }
  },
  {
   "cell_type": "code",
   "execution_count": 4,
   "outputs": [
    {
     "name": "stdout",
     "output_type": "stream",
     "text": [
      "1246\n",
      "1308.3\n"
     ]
    }
   ],
   "source": [
    "data2 = data[(data['c_nationkey'] == 23)]\n",
    "print(len(data2))\n",
    "print(len(data2)*relax_rate)"
   ],
   "metadata": {
    "collapsed": false
   }
  },
  {
   "cell_type": "code",
   "execution_count": 5,
   "outputs": [
    {
     "name": "stdout",
     "output_type": "stream",
     "text": [
      "4348\n",
      "4565.400000000001\n"
     ]
    }
   ],
   "source": [
    "data3 = data[(data['l_shipmode'] == \"MAIL\")]\n",
    "print(len(data3))\n",
    "print(len(data3)*relax_rate)"
   ],
   "metadata": {
    "collapsed": false
   }
  },
  {
   "cell_type": "code",
   "execution_count": 6,
   "outputs": [
    {
     "name": "stdout",
     "output_type": "stream",
     "text": [
      "4782.8\n",
      "5217.599999999999\n",
      "5652.400000000001\n",
      "6087.2\n",
      "6522.0\n",
      "6956.8\n"
     ]
    }
   ],
   "source": [
    "for r in relax_rate_change:\n",
    "    print(len(data3) * r)"
   ],
   "metadata": {
    "collapsed": false
   }
  },
  {
   "cell_type": "markdown",
   "source": [
    "## contract"
   ],
   "metadata": {
    "collapsed": false
   }
  },
  {
   "cell_type": "code",
   "execution_count": 7,
   "outputs": [
    {
     "name": "stdout",
     "output_type": "stream",
     "text": [
      "1247\n",
      "1184.6499999999999\n"
     ]
    }
   ],
   "source": [
    "data2 = data[(data['c_nationkey'] == 2)]\n",
    "print(len(data2))\n",
    "print(len(data2)*contract_rate)"
   ],
   "metadata": {
    "collapsed": false
   }
  },
  {
   "cell_type": "code",
   "execution_count": 8,
   "outputs": [
    {
     "name": "stdout",
     "output_type": "stream",
     "text": [
      "1967\n",
      "1868.6499999999999\n"
     ]
    }
   ],
   "source": [
    "data1 = data[(data['o_orderstatus'] == \"P\") & (data['l_returnflag'] == \"N\")]\n",
    "print(len(data1))\n",
    "print(len(data1)*contract_rate)"
   ],
   "metadata": {
    "collapsed": false
   }
  },
  {
   "cell_type": "code",
   "execution_count": 9,
   "outputs": [
    {
     "name": "stdout",
     "output_type": "stream",
     "text": [
      "4422\n",
      "4200.9\n"
     ]
    }
   ],
   "source": [
    "data3 = data[(data['l_shipmode'] == \"SHIP\")]\n",
    "print(len(data3))\n",
    "print(len(data3)*contract_rate)"
   ],
   "metadata": {
    "collapsed": false
   }
  },
  {
   "cell_type": "code",
   "execution_count": 10,
   "outputs": [
    {
     "name": "stdout",
     "output_type": "stream",
     "text": [
      "7538\n",
      "7161.099999999999\n"
     ]
    }
   ],
   "source": [
    "data3 = data[(data['l_shipinstruct'] == \"COLLECT COD\")]\n",
    "print(len(data3))\n",
    "print(len(data3)*contract_rate)"
   ],
   "metadata": {
    "collapsed": false
   }
  },
  {
   "cell_type": "code",
   "execution_count": 11,
   "outputs": [
    {
     "name": "stdout",
     "output_type": "stream",
     "text": [
      "3015.2000000000003\n",
      "3769.0\n",
      "4522.8\n",
      "5276.599999999999\n",
      "6030.400000000001\n",
      "6784.2\n"
     ]
    }
   ],
   "source": [
    "for r in contract_rate_change:\n",
    "    print(len(data3) * r)\n"
   ],
   "metadata": {
    "collapsed": false
   }
  },
  {
   "cell_type": "code",
   "execution_count": 12,
   "outputs": [
    {
     "name": "stdout",
     "output_type": "stream",
     "text": [
      "3235\n",
      "3073.25\n"
     ]
    }
   ],
   "source": [
    "data3 = data[(data['l_linenumber'] == 5)]\n",
    "print(len(data3))\n",
    "print(len(data3)*contract_rate)"
   ],
   "metadata": {
    "collapsed": false
   }
  },
  {
   "cell_type": "code",
   "execution_count": 12,
   "outputs": [],
   "source": [],
   "metadata": {
    "collapsed": false
   }
  },
  {
   "cell_type": "markdown",
   "source": [
    "## refinement1"
   ],
   "metadata": {
    "collapsed": false
   }
  },
  {
   "cell_type": "code",
   "execution_count": 12,
   "outputs": [],
   "source": [],
   "metadata": {
    "collapsed": false
   }
  },
  {
   "cell_type": "code",
   "execution_count": 13,
   "outputs": [
    {
     "name": "stdout",
     "output_type": "stream",
     "text": [
      "1334\n",
      "1400.7\n"
     ]
    }
   ],
   "source": [
    "data1 = data[(data['c_nationkey'] == 12)]\n",
    "print(len(data1))\n",
    "print(len(data1) * 1.05)"
   ],
   "metadata": {
    "collapsed": false
   }
  },
  {
   "cell_type": "code",
   "execution_count": 14,
   "outputs": [
    {
     "name": "stdout",
     "output_type": "stream",
     "text": [
      "1360.68\n",
      "1387.3600000000001\n",
      "1414.04\n",
      "1440.72\n",
      "1467.4\n",
      "1494.0800000000002\n"
     ]
    }
   ],
   "source": [
    "for s in [1.02, 1.04, 1.06, 1.08, 1.10, 1.12]:\n",
    "    print(len(data1) * s)"
   ],
   "metadata": {
    "collapsed": false
   }
  },
  {
   "cell_type": "code",
   "execution_count": 15,
   "outputs": [
    {
     "name": "stdout",
     "output_type": "stream",
     "text": [
      "4352\n",
      "4134.4\n"
     ]
    }
   ],
   "source": [
    "data3 = data[(data['l_shipmode'] == \"TRUCK\")]\n",
    "print(len(data3))\n",
    "print(len(data3)*0.95)"
   ],
   "metadata": {
    "collapsed": false
   }
  },
  {
   "cell_type": "markdown",
   "source": [
    "# refinement2"
   ],
   "metadata": {
    "collapsed": false
   }
  },
  {
   "cell_type": "code",
   "execution_count": 16,
   "outputs": [
    {
     "name": "stdout",
     "output_type": "stream",
     "text": [
      "308\n",
      "323.40000000000003\n"
     ]
    }
   ],
   "source": [
    "data1 = data[(data['l_linenumber'] == 6) & (data['l_shipmode'] == \"SHIP\")]\n",
    "print(len(data1))\n",
    "print(len(data1) * 1.05)"
   ],
   "metadata": {
    "collapsed": false
   }
  },
  {
   "cell_type": "code",
   "execution_count": 17,
   "outputs": [
    {
     "name": "stdout",
     "output_type": "stream",
     "text": [
      "314.16\n",
      "320.32\n",
      "326.48\n",
      "332.64000000000004\n",
      "338.8\n",
      "344.96000000000004\n"
     ]
    }
   ],
   "source": [
    "for s in [1.02, 1.04, 1.06, 1.08, 1.10, 1.12]:\n",
    "    print(len(data1) * s)"
   ],
   "metadata": {
    "collapsed": false
   }
  },
  {
   "cell_type": "code",
   "execution_count": 18,
   "outputs": [
    {
     "name": "stdout",
     "output_type": "stream",
     "text": [
      "680\n",
      "646.0\n"
     ]
    }
   ],
   "source": [
    "data1 = data[(data['l_shipmode'] == \"TRUCK\") & (data['o_orderstatus'] == \"P\")]\n",
    "print(len(data1))\n",
    "print(len(data1) * 0.95)"
   ],
   "metadata": {
    "collapsed": false
   }
  },
  {
   "cell_type": "code",
   "execution_count": null,
   "outputs": [],
   "source": [],
   "metadata": {
    "collapsed": false
   }
  },
  {
   "cell_type": "markdown",
   "source": [
    "# refine3 using"
   ],
   "metadata": {
    "collapsed": false
   }
  },
  {
   "cell_type": "code",
   "execution_count": 19,
   "outputs": [
    {
     "name": "stdout",
     "output_type": "stream",
     "text": [
      "237\n",
      "225.14999999999998\n"
     ]
    }
   ],
   "source": [
    "data1 = data[(data[\"l_shipinstruct\"] == \"DELIVER IN PERSON\") & (data[\"o_orderstatus\"] == \"P\") & (data[\"o_orderpriority\"] == \"2-HIGH\")]\n",
    "print(len(data1))\n",
    "print(len(data1) * 0.95)"
   ],
   "metadata": {
    "collapsed": false
   }
  },
  {
   "cell_type": "code",
   "execution_count": 20,
   "outputs": [
    {
     "name": "stdout",
     "output_type": "stream",
     "text": [
      "208.56\n",
      "213.3\n",
      "218.04000000000002\n",
      "222.78\n",
      "227.51999999999998\n",
      "232.26\n"
     ]
    }
   ],
   "source": [
    "for s in [0.88, 0.9, 0.92, 0.94, 0.96, 0.98]:\n",
    "    print(len(data1) * s)"
   ],
   "metadata": {
    "collapsed": false
   }
  },
  {
   "cell_type": "code",
   "execution_count": 21,
   "outputs": [
    {
     "name": "stdout",
     "output_type": "stream",
     "text": [
      "43\n",
      "45.15\n"
     ]
    }
   ],
   "source": [
    "data1 = data[(data[\"l_linenumber\"] == 6) & (data[\"l_shipmode\"] == \"SHIP\") & (data[\"o_orderstatus\"] == \"F\") & (data[\"o_orderpriority\"] == \"1-URGENT\")]\n",
    "print(len(data1))\n",
    "print(len(data1) * 1.05)\n"
   ],
   "metadata": {
    "collapsed": false
   }
  },
  {
   "cell_type": "code",
   "execution_count": null,
   "outputs": [],
   "source": [],
   "metadata": {
    "collapsed": false
   }
  },
  {
   "cell_type": "code",
   "execution_count": null,
   "outputs": [],
   "source": [],
   "metadata": {
    "collapsed": false
   }
  },
  {
   "cell_type": "code",
   "execution_count": null,
   "outputs": [],
   "source": [],
   "metadata": {
    "collapsed": false
   }
  },
  {
   "cell_type": "code",
   "execution_count": null,
   "outputs": [],
   "source": [],
   "metadata": {
    "collapsed": false
   }
  },
  {
   "cell_type": "markdown",
   "source": [
    "## change date"
   ],
   "metadata": {
    "collapsed": false
   }
  },
  {
   "cell_type": "code",
   "execution_count": 17,
   "outputs": [
    {
     "name": "stdout",
     "output_type": "stream",
     "text": [
      "1994-11-15 1995-03-14\n"
     ]
    }
   ],
   "source": [
    "s = data[\"o_orderdate\"].values.tolist()\n",
    "s.sort()\n",
    "print(s[0], s[-1])"
   ],
   "metadata": {
    "collapsed": false
   }
  },
  {
   "cell_type": "code",
   "execution_count": 17,
   "outputs": [],
   "source": [],
   "metadata": {
    "collapsed": false
   }
  },
  {
   "cell_type": "code",
   "execution_count": null,
   "outputs": [],
   "source": [],
   "metadata": {
    "collapsed": false
   }
  }
 ],
 "metadata": {
  "kernelspec": {
   "display_name": "Python 3",
   "language": "python",
   "name": "python3"
  },
  "language_info": {
   "codemirror_mode": {
    "name": "ipython",
    "version": 2
   },
   "file_extension": ".py",
   "mimetype": "text/x-python",
   "name": "python",
   "nbconvert_exporter": "python",
   "pygments_lexer": "ipython2",
   "version": "2.7.6"
  }
 },
 "nbformat": 4,
 "nbformat_minor": 0
}
