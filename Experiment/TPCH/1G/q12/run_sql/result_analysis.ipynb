{
 "cells": [
  {
   "cell_type": "code",
   "execution_count": 1,
   "metadata": {
    "ExecuteTime": {
     "end_time": "2023-07-15T23:59:27.926119Z",
     "start_time": "2023-07-15T23:59:26.733708Z"
    }
   },
   "outputs": [],
   "source": [
    "import csv\n",
    "import numpy as np\n",
    "import pandas as pd\n"
   ]
  },
  {
   "cell_type": "code",
   "execution_count": 2,
   "metadata": {
    "ExecuteTime": {
     "end_time": "2023-07-15T23:59:28.040706Z",
     "start_time": "2023-07-15T23:59:27.927055Z"
    }
   },
   "outputs": [
    {
     "data": {
      "text/plain": "32751"
     },
     "execution_count": 2,
     "metadata": {},
     "output_type": "execute_result"
    }
   ],
   "source": [
    "data = pd.read_csv(r\"answer_sql12.csv\", sep='|')\n",
    "len(data)"
   ]
  },
  {
   "cell_type": "code",
   "execution_count": 9,
   "outputs": [],
   "source": [
    "relax_rate = 1.05\n",
    "contract_rate = 0.95\n",
    "relax_rate_change = [1.1, 1.2, 1.3, 1.4, 1.5, 1.6]\n",
    "contract_rate_change = [0.4, 0.5, 0.6, 0.7, 0.8, 0.9]"
   ],
   "metadata": {
    "collapsed": false,
    "ExecuteTime": {
     "end_time": "2023-07-16T00:02:19.128180Z",
     "start_time": "2023-07-16T00:02:19.121477Z"
    }
   }
  },
  {
   "cell_type": "markdown",
   "metadata": {},
   "source": [
    "# relax"
   ]
  },
  {
   "cell_type": "code",
   "execution_count": 10,
   "metadata": {
    "ExecuteTime": {
     "end_time": "2023-07-16T00:02:20.771855Z",
     "start_time": "2023-07-16T00:02:20.766113Z"
    }
   },
   "outputs": [
    {
     "name": "stdout",
     "output_type": "stream",
     "text": [
      "1197\n",
      "1256.8500000000001\n"
     ]
    }
   ],
   "source": [
    "data1 = data[(data['o_orderpriority'] == \"5-LOW\") & (data[\"l_linenumber\"] == 3) ]\n",
    "print(len(data1))\n",
    "print(len(data1) * relax_rate)"
   ]
  },
  {
   "cell_type": "code",
   "execution_count": 11,
   "metadata": {
    "ExecuteTime": {
     "end_time": "2023-07-16T00:02:28.166894Z",
     "start_time": "2023-07-16T00:02:28.159424Z"
    }
   },
   "outputs": [
    {
     "name": "stdout",
     "output_type": "stream",
     "text": [
      "8127\n",
      "8533.35\n"
     ]
    }
   ],
   "source": [
    "data2 = data[(data['l_shipinstruct'] == \"COLLECT COD\")]\n",
    "print(len(data2))\n",
    "print(len(data2) * relax_rate)"
   ]
  },
  {
   "cell_type": "code",
   "execution_count": 12,
   "outputs": [
    {
     "name": "stdout",
     "output_type": "stream",
     "text": [
      "8939.7\n",
      "9752.4\n",
      "10565.1\n",
      "11377.8\n",
      "12190.5\n",
      "13003.2\n"
     ]
    }
   ],
   "source": [
    "for r in relax_rate_change:\n",
    "    print(len(data2) * r)"
   ],
   "metadata": {
    "collapsed": false,
    "ExecuteTime": {
     "end_time": "2023-07-16T00:02:28.537832Z",
     "start_time": "2023-07-16T00:02:28.535681Z"
    }
   }
  },
  {
   "cell_type": "code",
   "execution_count": 13,
   "metadata": {
    "ExecuteTime": {
     "end_time": "2023-07-16T00:02:30.307277Z",
     "start_time": "2023-07-16T00:02:30.303015Z"
    }
   },
   "outputs": [
    {
     "name": "stdout",
     "output_type": "stream",
     "text": [
      "16396\n",
      "17215.8\n"
     ]
    }
   ],
   "source": [
    "data3 = data[data[\"l_returnflag\"] == \"A\"]\n",
    "print(len(data3))\n",
    "print(len(data3) * relax_rate)"
   ]
  },
  {
   "cell_type": "markdown",
   "metadata": {},
   "source": [
    "## contract"
   ]
  },
  {
   "cell_type": "code",
   "execution_count": 14,
   "metadata": {
    "ExecuteTime": {
     "end_time": "2023-07-16T00:02:54.204909Z",
     "start_time": "2023-07-16T00:02:54.200745Z"
    }
   },
   "outputs": [
    {
     "name": "stdout",
     "output_type": "stream",
     "text": [
      "6647\n",
      "6314.65\n"
     ]
    }
   ],
   "source": [
    "data3 = data[(data['o_orderpriority'] == \"1-URGENT\")]\n",
    "print(len(data3))\n",
    "print(len(data3) * contract_rate)"
   ]
  },
  {
   "cell_type": "code",
   "execution_count": 15,
   "metadata": {
    "ExecuteTime": {
     "end_time": "2023-07-16T00:02:54.751721Z",
     "start_time": "2023-07-16T00:02:54.746478Z"
    }
   },
   "outputs": [
    {
     "name": "stdout",
     "output_type": "stream",
     "text": [
      "8264\n",
      "7850.799999999999\n"
     ]
    }
   ],
   "source": [
    "data4 = data[(data['l_linenumber'] == 1)]\n",
    "print(len(data4))\n",
    "print(len(data4) * contract_rate)"
   ]
  },
  {
   "cell_type": "code",
   "execution_count": 16,
   "metadata": {
    "ExecuteTime": {
     "end_time": "2023-07-16T00:02:55.795424Z",
     "start_time": "2023-07-16T00:02:55.789720Z"
    }
   },
   "outputs": [
    {
     "name": "stdout",
     "output_type": "stream",
     "text": [
      "16396\n",
      "15576.199999999999\n"
     ]
    }
   ],
   "source": [
    "data1 = data[(data['l_returnflag'] == \"A\") & (data[\"o_orderstatus\"] == \"F\") ]\n",
    "print(len(data1))\n",
    "print(len(data1) * contract_rate)"
   ]
  },
  {
   "cell_type": "code",
   "execution_count": 17,
   "outputs": [
    {
     "name": "stdout",
     "output_type": "stream",
     "text": [
      "6558.400000000001\n",
      "8198.0\n",
      "9837.6\n",
      "11477.199999999999\n",
      "13116.800000000001\n",
      "14756.4\n"
     ]
    }
   ],
   "source": [
    "for r in contract_rate_change:\n",
    "    print(len(data1) * r)"
   ],
   "metadata": {
    "collapsed": false,
    "ExecuteTime": {
     "end_time": "2023-07-16T00:02:57.180461Z",
     "start_time": "2023-07-16T00:02:57.172011Z"
    }
   }
  },
  {
   "cell_type": "markdown",
   "metadata": {},
   "source": [
    "# refine"
   ]
  },
  {
   "cell_type": "code",
   "execution_count": 17,
   "outputs": [],
   "source": [],
   "metadata": {
    "collapsed": false,
    "ExecuteTime": {
     "end_time": "2023-07-16T00:03:21.803873Z",
     "start_time": "2023-07-16T00:03:21.801074Z"
    }
   }
  },
  {
   "cell_type": "code",
   "execution_count": 18,
   "metadata": {
    "ExecuteTime": {
     "end_time": "2023-07-16T00:03:22.395631Z",
     "start_time": "2023-07-16T00:03:22.388736Z"
    }
   },
   "outputs": [
    {
     "name": "stdout",
     "output_type": "stream",
     "text": [
      "30\n",
      "28.5\n"
     ]
    }
   ],
   "source": [
    "\n",
    "\n",
    "g1 = data[(data[\"o_orderpriority\"] == \"4-NOT SPECIFIED\") & (data[\"l_linenumber\"] == 7) & (data[\"l_shipinstruct\"] == \"TAKE BACK RETURN\") & (data[\"l_returnflag\"] == \"A\")]\n",
    "\n",
    "print(len(g1))\n",
    "print(len(g1) * 0.95)\n",
    "\n"
   ]
  },
  {
   "cell_type": "code",
   "execution_count": 19,
   "outputs": [
    {
     "name": "stdout",
     "output_type": "stream",
     "text": [
      "26.4\n",
      "27.0\n",
      "27.6\n",
      "28.2\n",
      "28.799999999999997\n",
      "29.4\n"
     ]
    }
   ],
   "source": [
    "s = [0.88, 0.90, 0.92, 0.94, 0.96, 0.98]\n",
    "for r in s:\n",
    "    print(len(g1) * r)"
   ],
   "metadata": {
    "collapsed": false,
    "ExecuteTime": {
     "end_time": "2023-07-16T00:03:23.911546Z",
     "start_time": "2023-07-16T00:03:23.908181Z"
    }
   }
  },
  {
   "cell_type": "code",
   "execution_count": 20,
   "metadata": {
    "ExecuteTime": {
     "end_time": "2023-07-16T00:03:24.406589Z",
     "start_time": "2023-07-16T00:03:24.402824Z"
    }
   },
   "outputs": [
    {
     "name": "stdout",
     "output_type": "stream",
     "text": [
      "71\n",
      "74.55\n"
     ]
    }
   ],
   "source": [
    "\n",
    "g2 = data[(data[\"l_shipinstruct\"] == \"NONE\") & (data[\"o_orderpriority\"] == \"5-LOW\")& (data[\"l_linenumber\"] == 7) & (data[\"o_orderstatus\"] == \"F\")]\n",
    "\n",
    "print(len(g2))\n",
    "print(len(g2) * 1.05)"
   ]
  },
  {
   "cell_type": "code",
   "execution_count": 14,
   "metadata": {
    "ExecuteTime": {
     "start_time": "2023-04-11T12:34:36.328636Z",
     "end_time": "2023-04-11T12:34:36.332883Z"
    }
   },
   "outputs": [],
   "source": []
  },
  {
   "cell_type": "code",
   "execution_count": 14,
   "outputs": [],
   "source": [],
   "metadata": {
    "collapsed": false,
    "ExecuteTime": {
     "start_time": "2023-04-11T12:34:36.653550Z",
     "end_time": "2023-04-11T12:34:36.656491Z"
    }
   }
  },
  {
   "cell_type": "markdown",
   "source": [
    "# refine 5"
   ],
   "metadata": {
    "collapsed": false
   }
  },
  {
   "cell_type": "code",
   "execution_count": 15,
   "outputs": [
    {
     "name": "stdout",
     "output_type": "stream",
     "text": [
      "30\n",
      "28.5\n"
     ]
    }
   ],
   "source": [
    "\n",
    "\n",
    "g1 = data[(data[\"o_orderpriority\"] == \"4-NOT SPECIFIED\") & (data[\"l_linenumber\"] == 7) & (data[\"l_shipinstruct\"] == \"TAKE BACK RETURN\") & (data[\"l_returnflag\"] == \"A\")]\n",
    "\n",
    "print(len(g1))\n",
    "print(len(g1) * 0.95)\n",
    "\n"
   ],
   "metadata": {
    "collapsed": false,
    "ExecuteTime": {
     "start_time": "2023-04-11T12:34:37.743821Z",
     "end_time": "2023-04-11T12:34:37.749353Z"
    }
   }
  },
  {
   "cell_type": "code",
   "execution_count": 16,
   "outputs": [
    {
     "name": "stdout",
     "output_type": "stream",
     "text": [
      "71\n",
      "74.55\n"
     ]
    }
   ],
   "source": [
    "\n",
    "g2 = data[(data[\"l_shipinstruct\"] == \"NONE\") & (data[\"o_orderpriority\"] == \"5-LOW\")& (data[\"l_linenumber\"] == 7) & (data[\"o_orderstatus\"] == \"F\")]\n",
    "\n",
    "print(len(g2))\n",
    "print(len(g2) * 1.05)"
   ],
   "metadata": {
    "collapsed": false,
    "ExecuteTime": {
     "start_time": "2023-04-11T12:34:39.766834Z",
     "end_time": "2023-04-11T12:34:39.768835Z"
    }
   }
  },
  {
   "cell_type": "code",
   "execution_count": 17,
   "outputs": [
    {
     "name": "stdout",
     "output_type": "stream",
     "text": [
      "72.42\n",
      "73.84\n",
      "75.26\n",
      "76.68\n",
      "78.10000000000001\n",
      "79.52000000000001\n"
     ]
    }
   ],
   "source": [
    "\n",
    "\n",
    "s = [1.02, 1.04, 1.06, 1.08, 1.10, 1.12]\n",
    "for r in s:\n",
    "    print(len(g2) * r)"
   ],
   "metadata": {
    "collapsed": false,
    "ExecuteTime": {
     "start_time": "2023-04-11T12:34:39.844611Z",
     "end_time": "2023-04-11T12:34:39.848203Z"
    }
   }
  },
  {
   "cell_type": "code",
   "execution_count": null,
   "outputs": [],
   "source": [],
   "metadata": {
    "collapsed": false
   }
  },
  {
   "cell_type": "code",
   "execution_count": null,
   "outputs": [],
   "source": [],
   "metadata": {
    "collapsed": false
   }
  },
  {
   "cell_type": "code",
   "execution_count": 53,
   "outputs": [],
   "source": [],
   "metadata": {
    "collapsed": false
   }
  },
  {
   "cell_type": "code",
   "execution_count": null,
   "outputs": [],
   "source": [],
   "metadata": {
    "collapsed": false
   }
  },
  {
   "cell_type": "markdown",
   "source": [
    "# join"
   ],
   "metadata": {
    "collapsed": false
   }
  },
  {
   "cell_type": "code",
   "execution_count": 19,
   "outputs": [],
   "source": [
    "\n",
    "orders = pd.read_csv(\"../../../../../InputData/TPC-H/1Gdata/orders.tbl\", sep='|')\n",
    "lineitem = pd.read_csv(\"../../../../../InputData/TPC-H/1Gdata/lineitem.tbl\", sep='|')\n",
    "joined = pd.merge(left=orders, right=lineitem, how=\"inner\", left_on=\"o_orderkey\", right_on=\"l_orderkey\")\n",
    "joined = joined[joined[\"l_commitdate\"] < joined[\"l_receiptdate\"]]\n",
    "joined = joined[joined[\"l_shipdate\"] < joined[\"l_commitdate\"]]"
   ],
   "metadata": {
    "collapsed": false
   }
  },
  {
   "cell_type": "code",
   "execution_count": 20,
   "outputs": [
    {
     "name": "stdout",
     "output_type": "stream",
     "text": [
      "718639\n"
     ]
    }
   ],
   "source": [
    "print(len(joined))"
   ],
   "metadata": {
    "collapsed": false
   }
  },
  {
   "cell_type": "code",
   "execution_count": 21,
   "outputs": [],
   "source": [
    "# joined.to_csv(\"sql12_joined.csv\", sep='|', index=False)"
   ],
   "metadata": {
    "collapsed": false
   }
  },
  {
   "cell_type": "code",
   "execution_count": null,
   "outputs": [],
   "source": [
    "# data analysis"
   ],
   "metadata": {
    "collapsed": false
   }
  },
  {
   "cell_type": "code",
   "execution_count": 6,
   "outputs": [],
   "source": [
    "joined = pd.read_csv(\"sql12_joined.csv\", sep='|')"
   ],
   "metadata": {
    "collapsed": false
   }
  },
  {
   "cell_type": "code",
   "execution_count": 14,
   "outputs": [
    {
     "name": "stdout",
     "output_type": "stream",
     "text": [
      "9890\n"
     ]
    }
   ],
   "source": [
    "s = joined[(joined[\"o_orderpriority\"] == \"3-MEDIUM\") & (joined[\"o_orderstatus\"] == \"F\") & (joined[\"l_linenumber\"] == 4)]\n",
    "print(len(s))\n"
   ],
   "metadata": {
    "collapsed": false
   }
  },
  {
   "cell_type": "code",
   "execution_count": 20,
   "outputs": [
    {
     "data": {
      "text/plain": "['N', 'A', 'R']"
     },
     "execution_count": 20,
     "metadata": {},
     "output_type": "execute_result"
    }
   ],
   "source": [
    "joined[\"l_returnflag\"].unique().tolist()"
   ],
   "metadata": {
    "collapsed": false
   }
  },
  {
   "cell_type": "code",
   "execution_count": 6,
   "outputs": [],
   "source": [],
   "metadata": {
    "collapsed": false
   }
  },
  {
   "cell_type": "code",
   "execution_count": 39,
   "outputs": [
    {
     "name": "stdout",
     "output_type": "stream",
     "text": [
      "0\n",
      "32751\n",
      "52\n",
      "49.4\n",
      "71\n",
      "74.55\n"
     ]
    }
   ],
   "source": [
    "# original query 2\n",
    "data1 = joined[(joined['l_receiptdate'] >=  19940101)]\n",
    "data1 = data1[(data1['l_shipdate'] <  19950101)]\n",
    "\n",
    "print(len(data1[data1[\"o_orderstatus\"] == \"P\"]))  # 0!!!\n",
    "\n",
    "data1 = data1[(data1['l_shipmode'] == \"REG AIR\") | (data1['l_shipmode'] == \"FOB\")]\n",
    "print(len(data1))\n",
    "\n",
    "g1 = data1[(data1[\"o_orderpriority\"] == \"3-MEDIUM\") & (data1[\"l_linenumber\"] == 7) & (data1[\"l_shipinstruct\"] == \"TAKE BACK RETURN\")]\n",
    "\n",
    "print(len(g1))\n",
    "print(len(g1) * 0.95)\n",
    "\n",
    "\n",
    "g2 = data1[(data1[\"l_shipinstruct\"] == \"NONE\") & (data1[\"o_orderpriority\"] == \"5-LOW\")& (data1[\"l_linenumber\"] == 7)]\n",
    "\n",
    "print(len(g2))\n",
    "print(len(g2) * 1.05)\n"
   ],
   "metadata": {
    "collapsed": false
   }
  },
  {
   "cell_type": "code",
   "execution_count": null,
   "outputs": [],
   "source": [],
   "metadata": {
    "collapsed": false
   }
  }
 ],
 "metadata": {
  "kernelspec": {
   "display_name": "Python 3 (ipykernel)",
   "language": "python",
   "name": "python3"
  },
  "language_info": {
   "codemirror_mode": {
    "name": "ipython",
    "version": 2
   },
   "file_extension": ".py",
   "mimetype": "text/x-python",
   "name": "python",
   "nbconvert_exporter": "python",
   "pygments_lexer": "ipython2",
   "version": "2.7.6"
  }
 },
 "nbformat": 4,
 "nbformat_minor": 1
}
