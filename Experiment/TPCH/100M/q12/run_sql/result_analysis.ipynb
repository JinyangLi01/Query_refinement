{
 "cells": [
  {
   "cell_type": "code",
   "execution_count": 31,
   "metadata": {
    "collapsed": true
   },
   "outputs": [],
   "source": [
    "import csv\n",
    "import numpy as np\n",
    "import pandas as pd\n"
   ]
  },
  {
   "cell_type": "code",
   "execution_count": 32,
   "outputs": [
    {
     "data": {
      "text/plain": "3292"
     },
     "execution_count": 32,
     "metadata": {},
     "output_type": "execute_result"
    }
   ],
   "source": [
    "data = pd.read_csv(r\"answer_sql12.csv\", sep='|')\n",
    "len(data)"
   ],
   "metadata": {
    "collapsed": false
   }
  },
  {
   "cell_type": "code",
   "execution_count": 11,
   "outputs": [],
   "source": [
    "relax_rate = 1.05\n",
    "contract_rate = 0.95\n",
    "relax_rate_change = [1.1, 1.2, 1.3, 1.4, 1.5, 1.6]\n",
    "contract_rate_change = [0.4, 0.5, 0.6, 0.7, 0.8, 0.9]"
   ],
   "metadata": {
    "collapsed": false
   }
  },
  {
   "cell_type": "markdown",
   "source": [
    "# relax"
   ],
   "metadata": {
    "collapsed": false
   }
  },
  {
   "cell_type": "code",
   "execution_count": 39,
   "outputs": [
    {
     "name": "stdout",
     "output_type": "stream",
     "text": [
      "107\n",
      "112.35000000000001\n"
     ]
    }
   ],
   "source": [
    "data1 = data[(data['o_orderpriority'] == \"5-LOW\") & (data[\"l_linenumber\"] == 3) ]\n",
    "print(len(data1))\n",
    "print(len(data1) * relax_rate)"
   ],
   "metadata": {
    "collapsed": false
   }
  },
  {
   "cell_type": "code",
   "execution_count": 40,
   "outputs": [
    {
     "name": "stdout",
     "output_type": "stream",
     "text": [
      "843\n",
      "885.1500000000001\n"
     ]
    }
   ],
   "source": [
    "data2 = data[(data['l_shipinstruct'] == \"COLLECT COD\")]\n",
    "print(len(data2))\n",
    "print(len(data2) * relax_rate)"
   ],
   "metadata": {
    "collapsed": false
   }
  },
  {
   "cell_type": "code",
   "execution_count": 41,
   "outputs": [
    {
     "name": "stdout",
     "output_type": "stream",
     "text": [
      "927.3000000000001\n",
      "1011.5999999999999\n",
      "1095.9\n",
      "1180.1999999999998\n",
      "1264.5\n",
      "1348.8000000000002\n"
     ]
    }
   ],
   "source": [
    "for r in relax_rate_change:\n",
    "    print(len(data2) * r)"
   ],
   "metadata": {
    "collapsed": false
   }
  },
  {
   "cell_type": "code",
   "execution_count": 42,
   "outputs": [
    {
     "name": "stdout",
     "output_type": "stream",
     "text": [
      "708\n",
      "743.4\n"
     ]
    }
   ],
   "source": [
    "data3 = data[data[\"l_returnflag\"] == \"A\"]\n",
    "print(len(data3))\n",
    "print(len(data3) * relax_rate)"
   ],
   "metadata": {
    "collapsed": false
   }
  },
  {
   "cell_type": "markdown",
   "source": [
    "## contract"
   ],
   "metadata": {
    "collapsed": false
   }
  },
  {
   "cell_type": "code",
   "execution_count": 14,
   "outputs": [
    {
     "name": "stdout",
     "output_type": "stream",
     "text": [
      "647\n",
      "614.65\n"
     ]
    }
   ],
   "source": [
    "data3 = data[(data['o_orderpriority'] == \"1-URGENT\")]\n",
    "print(len(data3))\n",
    "print(len(data3) * contract_rate)"
   ],
   "metadata": {
    "collapsed": false
   }
  },
  {
   "cell_type": "code",
   "execution_count": 15,
   "outputs": [
    {
     "name": "stdout",
     "output_type": "stream",
     "text": [
      "4\n",
      "3.8\n"
     ]
    }
   ],
   "source": [
    "data4 = data[(data['l_suppkey'] == 1)]\n",
    "print(len(data4))\n",
    "print(len(data4) * contract_rate)"
   ],
   "metadata": {
    "collapsed": false
   }
  },
  {
   "cell_type": "code",
   "execution_count": 16,
   "outputs": [
    {
     "name": "stdout",
     "output_type": "stream",
     "text": [
      "610\n",
      "579.5\n"
     ]
    }
   ],
   "source": [
    "data1 = data[(data['l_returnflag'] == \"A\") & (data[\"o_orderstatus\"] == \"F\") ]\n",
    "print(len(data1))\n",
    "print(len(data1) * contract_rate)"
   ],
   "metadata": {
    "collapsed": false
   }
  },
  {
   "cell_type": "code",
   "execution_count": 17,
   "outputs": [
    {
     "name": "stdout",
     "output_type": "stream",
     "text": [
      "244.0\n",
      "305.0\n",
      "366.0\n",
      "427.0\n",
      "488.0\n",
      "549.0\n"
     ]
    }
   ],
   "source": [
    "for r in contract_rate_change:\n",
    "    print(len(data1) * r)"
   ],
   "metadata": {
    "collapsed": false
   }
  },
  {
   "cell_type": "code",
   "execution_count": 17,
   "outputs": [],
   "source": [],
   "metadata": {
    "collapsed": false
   }
  },
  {
   "cell_type": "markdown",
   "source": [
    "# refine1"
   ],
   "metadata": {
    "collapsed": false
   }
  },
  {
   "cell_type": "code",
   "execution_count": 18,
   "outputs": [
    {
     "name": "stdout",
     "output_type": "stream",
     "text": [
      "131\n",
      "137.55\n"
     ]
    }
   ],
   "source": [
    "data3 = data[(data[\"o_orderpriority\"] == \"3-MEDIUM\") & (data[\"l_linenumber\"] == 3) ]\n",
    "print(len(data3))\n",
    "print(len(data3) * 1.05)"
   ],
   "metadata": {
    "collapsed": false
   }
  },
  {
   "cell_type": "code",
   "execution_count": 18,
   "outputs": [],
   "source": [],
   "metadata": {
    "collapsed": false
   }
  },
  {
   "cell_type": "code",
   "execution_count": 19,
   "outputs": [
    {
     "name": "stdout",
     "output_type": "stream",
     "text": [
      "191\n",
      "181.45\n"
     ]
    }
   ],
   "source": [
    "\n",
    "data4 = data[(data['l_returnflag'] == \"R\") & (data[\"l_shipinstruct\"] == \"TAKE BACK RETURN\")]\n",
    "print(len(data4))\n",
    "print(len(data4) * 0.95)"
   ],
   "metadata": {
    "collapsed": false
   }
  },
  {
   "cell_type": "code",
   "execution_count": 20,
   "outputs": [
    {
     "name": "stdout",
     "output_type": "stream",
     "text": [
      "168.08\n",
      "171.9\n",
      "175.72\n",
      "179.54\n",
      "183.35999999999999\n",
      "187.18\n"
     ]
    }
   ],
   "source": [
    "s = [0.88, 0.90, 0.92, 0.94, 0.96, 0.98]\n",
    "for r in s:\n",
    "    print(len(data4) * r)"
   ],
   "metadata": {
    "collapsed": false
   }
  },
  {
   "cell_type": "code",
   "execution_count": 21,
   "outputs": [],
   "source": [
    "# s = [0.76, 0.80, 0.84, 0.88, 0.92, 0.96]\n",
    "# for r in s:\n",
    "#     print(len(data4) * r)"
   ],
   "metadata": {
    "collapsed": false
   }
  },
  {
   "cell_type": "markdown",
   "source": [
    "# refine2"
   ],
   "metadata": {
    "collapsed": false
   }
  },
  {
   "cell_type": "code",
   "execution_count": 22,
   "outputs": [
    {
     "data": {
      "text/plain": "3292"
     },
     "execution_count": 22,
     "metadata": {},
     "output_type": "execute_result"
    }
   ],
   "source": [
    "data = pd.read_csv(r\"answer_sql12.csv\", sep='|')\n",
    "len(data)"
   ],
   "metadata": {
    "collapsed": false
   }
  },
  {
   "cell_type": "code",
   "execution_count": 43,
   "outputs": [
    {
     "name": "stdout",
     "output_type": "stream",
     "text": [
      "28.5\n"
     ]
    }
   ],
   "source": [
    "data4 = data[(data[\"o_orderpriority\"] == \"3-MEDIUM\") & (data[\"o_orderstatus\"] == \"P\") & (data[\"l_linenumber\"] == 1)]\n",
    "print(len(data4) * 0.95)\n",
    "\n"
   ],
   "metadata": {
    "collapsed": false
   }
  },
  {
   "cell_type": "code",
   "execution_count": 44,
   "outputs": [
    {
     "name": "stdout",
     "output_type": "stream",
     "text": [
      "26.4\n",
      "27.0\n",
      "27.6\n",
      "28.2\n",
      "28.799999999999997\n",
      "29.4\n"
     ]
    }
   ],
   "source": [
    "\n",
    "\n",
    "s = [0.88, 0.90, 0.92, 0.94, 0.96, 0.98]\n",
    "for r in s:\n",
    "    print(len(data4) * r)\n"
   ],
   "metadata": {
    "collapsed": false
   }
  },
  {
   "cell_type": "code",
   "execution_count": 45,
   "outputs": [
    {
     "name": "stdout",
     "output_type": "stream",
     "text": [
      "102\n",
      "107.10000000000001\n"
     ]
    }
   ],
   "source": [
    "print(len(data[(data[\"l_returnflag\"] == \"R\") & (data[\"o_orderstatus\"] == \"P\")]))\n",
    "\n",
    "print(len(data[(data[\"l_returnflag\"] == \"R\") & (data[\"o_orderstatus\"] == \"P\")]) * 1.05)\n"
   ],
   "metadata": {
    "collapsed": false
   }
  },
  {
   "cell_type": "code",
   "execution_count": null,
   "outputs": [],
   "source": [],
   "metadata": {
    "collapsed": false
   }
  },
  {
   "cell_type": "code",
   "execution_count": null,
   "outputs": [],
   "source": [],
   "metadata": {
    "collapsed": false
   }
  },
  {
   "cell_type": "code",
   "execution_count": null,
   "outputs": [],
   "source": [],
   "metadata": {
    "collapsed": false
   }
  },
  {
   "cell_type": "code",
   "execution_count": null,
   "outputs": [],
   "source": [],
   "metadata": {
    "collapsed": false
   }
  },
  {
   "cell_type": "code",
   "execution_count": null,
   "outputs": [],
   "source": [],
   "metadata": {
    "collapsed": false
   }
  },
  {
   "cell_type": "markdown",
   "source": [
    "# refine3"
   ],
   "metadata": {
    "collapsed": false
   }
  },
  {
   "cell_type": "code",
   "execution_count": 61,
   "outputs": [
    {
     "name": "stdout",
     "output_type": "stream",
     "text": [
      "30\n",
      "28.5\n",
      "27\n",
      "28.35\n"
     ]
    }
   ],
   "source": [
    "print(len(data[(data[\"o_orderpriority\"] == \"3-MEDIUM\") & (data[\"o_orderstatus\"] == \"P\") & (data[\"l_linenumber\"] == 1)]))\n",
    "print(len(data[(data[\"o_orderpriority\"] == \"3-MEDIUM\") & (data[\"o_orderstatus\"] == \"P\") & (data[\"l_linenumber\"] == 1)]) * 0.95)\n",
    "\n",
    "\n",
    "print(len(data[(data[\"l_returnflag\"] == \"R\") & (data[\"o_orderstatus\"] == \"P\") & (data[\"l_shipinstruct\"] == \"COLLECT COD\")]))\n",
    "\n",
    "print(len(data[(data[\"l_returnflag\"] == \"R\") & (data[\"o_orderstatus\"] == \"P\") & (data[\"l_shipinstruct\"] == \"COLLECT COD\")]) * 1.05)\n"
   ],
   "metadata": {
    "collapsed": false
   }
  },
  {
   "cell_type": "code",
   "execution_count": null,
   "outputs": [],
   "source": [],
   "metadata": {
    "collapsed": false
   }
  },
  {
   "cell_type": "markdown",
   "source": [
    "# refine5"
   ],
   "metadata": {
    "collapsed": false
   }
  },
  {
   "cell_type": "code",
   "execution_count": 33,
   "outputs": [
    {
     "name": "stdout",
     "output_type": "stream",
     "text": [
      "2\n",
      "1.9\n"
     ]
    }
   ],
   "source": [
    "\n",
    "\n",
    "g1 = data[(data[\"o_orderpriority\"] == \"4-NOT SPECIFIED\") & (data[\"l_linenumber\"] == 7) & (data[\"l_shipinstruct\"] == \"TAKE BACK RETURN\") & (data[\"l_returnflag\"] == \"A\")]\n",
    "\n",
    "print(len(g1))\n",
    "print(len(g1) * 0.95)\n",
    "\n"
   ],
   "metadata": {
    "collapsed": false
   }
  },
  {
   "cell_type": "code",
   "execution_count": 34,
   "outputs": [
    {
     "name": "stdout",
     "output_type": "stream",
     "text": [
      "2\n",
      "2.1\n"
     ]
    }
   ],
   "source": [
    "\n",
    "g2 = data[(data[\"l_shipinstruct\"] == \"NONE\") & (data[\"o_orderpriority\"] == \"5-LOW\")& (data[\"l_linenumber\"] == 7) & (data[\"o_orderstatus\"] == \"F\")]\n",
    "\n",
    "print(len(g2))\n",
    "print(len(g2) * 1.05)"
   ],
   "metadata": {
    "collapsed": false
   }
  },
  {
   "cell_type": "code",
   "execution_count": 30,
   "outputs": [
    {
     "name": "stdout",
     "output_type": "stream",
     "text": [
      "2.04\n",
      "2.08\n",
      "2.12\n",
      "2.16\n",
      "2.2\n",
      "2.24\n"
     ]
    }
   ],
   "source": [
    "\n",
    "\n",
    "s = [1.02, 1.04, 1.06, 1.08, 1.10, 1.12]\n",
    "for r in s:\n",
    "    print(len(g2) * r)"
   ],
   "metadata": {
    "collapsed": false
   }
  },
  {
   "cell_type": "code",
   "execution_count": null,
   "outputs": [],
   "source": [],
   "metadata": {
    "collapsed": false
   }
  },
  {
   "cell_type": "code",
   "execution_count": null,
   "outputs": [],
   "source": [],
   "metadata": {
    "collapsed": false
   }
  },
  {
   "cell_type": "code",
   "execution_count": null,
   "outputs": [],
   "source": [],
   "metadata": {
    "collapsed": false
   }
  },
  {
   "cell_type": "code",
   "execution_count": null,
   "outputs": [],
   "source": [],
   "metadata": {
    "collapsed": false
   }
  },
  {
   "cell_type": "code",
   "execution_count": null,
   "outputs": [],
   "source": [],
   "metadata": {
    "collapsed": false
   }
  },
  {
   "cell_type": "markdown",
   "source": [
    "## join result"
   ],
   "metadata": {
    "collapsed": false
   }
  },
  {
   "cell_type": "code",
   "execution_count": 31,
   "outputs": [],
   "source": [
    "\n",
    "orders = pd.read_csv(\"../../../../../InputData/TPC-H/100Mdata/orders.tbl\", sep='|')\n",
    "lineitem = pd.read_csv(\"../../../../../InputData/TPC-H/100Mdata/lineitem.tbl\", sep='|')\n",
    "joined = pd.merge(left=orders, right=lineitem, how=\"inner\", left_on=\"o_orderkey\", right_on=\"l_orderkey\")\n",
    "joined = joined[joined[\"l_commitdate\"] < joined[\"l_receiptdate\"]]\n",
    "joined = joined[joined[\"l_shipdate\"] < joined[\"l_commitdate\"]]"
   ],
   "metadata": {
    "collapsed": false
   }
  },
  {
   "cell_type": "code",
   "execution_count": 32,
   "outputs": [
    {
     "data": {
      "text/plain": "72009"
     },
     "execution_count": 32,
     "metadata": {},
     "output_type": "execute_result"
    }
   ],
   "source": [
    "len(joined)"
   ],
   "metadata": {
    "collapsed": false
   }
  },
  {
   "cell_type": "code",
   "execution_count": 33,
   "outputs": [],
   "source": [
    "joined.to_csv(\"sql12_joined.csv\", sep='|', index=False)"
   ],
   "metadata": {
    "collapsed": false
   }
  },
  {
   "cell_type": "code",
   "execution_count": 34,
   "outputs": [],
   "source": [
    "# data analysis"
   ],
   "metadata": {
    "collapsed": false
   }
  },
  {
   "cell_type": "code",
   "execution_count": 4,
   "outputs": [],
   "source": [
    "joined = pd.read_csv(\"sql12_joined.csv\", sep='|')"
   ],
   "metadata": {
    "collapsed": false
   }
  },
  {
   "cell_type": "code",
   "execution_count": 5,
   "outputs": [
    {
     "name": "stdout",
     "output_type": "stream",
     "text": [
      "72009\n"
     ]
    }
   ],
   "source": [
    "print(len(joined))"
   ],
   "metadata": {
    "collapsed": false
   }
  },
  {
   "cell_type": "code",
   "execution_count": 6,
   "outputs": [
    {
     "data": {
      "text/plain": "['2-HIGH', '3-MEDIUM', '1-URGENT', '5-LOW', '4-NOT SPECIFIED']"
     },
     "execution_count": 6,
     "metadata": {},
     "output_type": "execute_result"
    }
   ],
   "source": [
    "joined['o_orderpriority'].unique().tolist()"
   ],
   "metadata": {
    "collapsed": false
   }
  },
  {
   "cell_type": "code",
   "execution_count": 31,
   "outputs": [
    {
     "name": "stdout",
     "output_type": "stream",
     "text": [
      "87\n"
     ]
    }
   ],
   "source": [
    "print(len(joined[(joined[\"o_orderpriority\"] == \"3-MEDIUM\") & (joined[\"o_orderstatus\"] == \"P\") & (joined[\"l_linenumber\"] == 1)]))"
   ],
   "metadata": {
    "collapsed": false
   }
  },
  {
   "cell_type": "markdown",
   "source": [
    "## refine1 doable but not using"
   ],
   "metadata": {
    "collapsed": false
   }
  },
  {
   "cell_type": "code",
   "execution_count": 32,
   "outputs": [
    {
     "name": "stdout",
     "output_type": "stream",
     "text": [
      "3292\n",
      "30\n",
      "28.5\n",
      "27\n",
      "28.35\n"
     ]
    }
   ],
   "source": [
    "# original query 1\n",
    "data1 = joined[(joined['l_receiptdate'] >=  19950101)]\n",
    "data1 = data1[(data1['l_shipdate'] <  19960101)]\n",
    "data1 = data1[(data1['l_shipmode'] == \"RAIL\") | (data1['l_shipmode'] == \"AIR\")]\n",
    "print(len(data1))\n",
    "print(len(data1[(data1[\"o_orderpriority\"] == \"3-MEDIUM\") & (data1[\"o_orderstatus\"] == \"P\") & (data1[\"l_linenumber\"] == 1)]))\n",
    "print(len(data1[(data1[\"o_orderpriority\"] == \"3-MEDIUM\") & (data1[\"o_orderstatus\"] == \"P\") & (data1[\"l_linenumber\"] == 1)]) * 0.95)\n",
    "\n",
    "\n",
    "print(len(data1[(data1[\"l_returnflag\"] == \"R\") & (data1[\"o_orderstatus\"] == \"P\") & (data1[\"l_shipinstruct\"] == \"COLLECT COD\")]))\n",
    "\n",
    "print(len(data1[(data1[\"l_returnflag\"] == \"R\") & (data1[\"o_orderstatus\"] == \"P\") & (data1[\"l_shipinstruct\"] == \"COLLECT COD\")]) * 1.05)\n"
   ],
   "metadata": {
    "collapsed": false
   }
  },
  {
   "cell_type": "code",
   "execution_count": 33,
   "outputs": [
    {
     "name": "stdout",
     "output_type": "stream",
     "text": [
      "3278\n",
      "18\n",
      "36\n"
     ]
    }
   ],
   "source": [
    "# refinement query 1\n",
    "data1 = joined[(joined['l_receiptdate'] >=  19950101)]\n",
    "data1 = data1[(data1['l_shipdate'] <  19960101)]\n",
    "data1 = data1[(data1['l_shipmode'] == \"TRUCK\") | (data1['l_shipmode'] == \"MAIL\")]\n",
    "print(len(data1))\n",
    "print(len(data1[(data1[\"o_orderpriority\"] == \"3-MEDIUM\") & (data1[\"o_orderstatus\"] == \"P\") & (data1[\"l_linenumber\"] == 1)]))\n",
    "\n",
    "\n",
    "print(len(data1[(data1[\"l_returnflag\"] == \"R\") & (data1[\"o_orderstatus\"] == \"P\") & (data1[\"l_shipinstruct\"] == \"COLLECT COD\")]))\n",
    "\n"
   ],
   "metadata": {
    "collapsed": false
   }
  },
  {
   "cell_type": "code",
   "execution_count": 33,
   "outputs": [],
   "source": [],
   "metadata": {
    "collapsed": false
   }
  },
  {
   "cell_type": "markdown",
   "source": [
    "## refine2 make 1G 0"
   ],
   "metadata": {
    "collapsed": false
   }
  },
  {
   "cell_type": "code",
   "execution_count": 34,
   "outputs": [
    {
     "name": "stdout",
     "output_type": "stream",
     "text": [
      "3292\n",
      "30\n",
      "28.5\n",
      "102\n",
      "107.10000000000001\n"
     ]
    }
   ],
   "source": [
    "# original query 2\n",
    "data1 = joined[(joined['l_receiptdate'] >=  19950101)]\n",
    "data1 = data1[(data1['l_shipdate'] <  19960101)]\n",
    "data1 = data1[(data1['l_shipmode'] == \"RAIL\") | (data1['l_shipmode'] == \"AIR\")]\n",
    "print(len(data1))\n",
    "print(len(data1[(data1[\"o_orderpriority\"] == \"3-MEDIUM\") & (data1[\"o_orderstatus\"] == \"P\") & (data1[\"l_linenumber\"] == 1)]))\n",
    "print(len(data1[(data1[\"o_orderpriority\"] == \"3-MEDIUM\") & (data1[\"o_orderstatus\"] == \"P\") & (data1[\"l_linenumber\"] == 1)]) * 0.95)\n",
    "\n",
    "\n",
    "print(len(data1[(data1[\"l_returnflag\"] == \"R\") & (data1[\"o_orderstatus\"] == \"P\")]))\n",
    "\n",
    "print(len(data1[(data1[\"l_returnflag\"] == \"R\") & (data1[\"o_orderstatus\"] == \"P\")]) * 1.05)\n"
   ],
   "metadata": {
    "collapsed": false
   }
  },
  {
   "cell_type": "code",
   "execution_count": 35,
   "outputs": [
    {
     "name": "stdout",
     "output_type": "stream",
     "text": [
      "3278\n",
      "18\n",
      "127\n"
     ]
    }
   ],
   "source": [
    "# original query 2\n",
    "data1 = joined[(joined['l_receiptdate'] >=  19950101)]\n",
    "data1 = data1[(data1['l_shipdate'] <  19960101)]\n",
    "data1 = data1[(data1['l_shipmode'] == \"TRUCK\") | (data1['l_shipmode'] == \"MAIL\")]\n",
    "print(len(data1))\n",
    "print(len(data1[(data1[\"o_orderpriority\"] == \"3-MEDIUM\") & (data1[\"o_orderstatus\"] == \"P\") & (data1[\"l_linenumber\"] == 1)]))\n",
    "\n",
    "\n",
    "print(len(data1[(data1[\"l_returnflag\"] == \"R\") & (data1[\"o_orderstatus\"] == \"P\") ]))\n",
    "\n"
   ],
   "metadata": {
    "collapsed": false
   }
  },
  {
   "cell_type": "code",
   "execution_count": null,
   "outputs": [],
   "source": [],
   "metadata": {
    "collapsed": false
   }
  },
  {
   "cell_type": "code",
   "execution_count": null,
   "outputs": [],
   "source": [],
   "metadata": {
    "collapsed": false
   }
  },
  {
   "cell_type": "markdown",
   "source": [
    "## refine3"
   ],
   "metadata": {
    "collapsed": false
   }
  },
  {
   "cell_type": "code",
   "execution_count": 67,
   "outputs": [
    {
     "name": "stdout",
     "output_type": "stream",
     "text": [
      "3292\n",
      "22\n",
      "20.9\n",
      "102\n",
      "107.10000000000001\n"
     ]
    }
   ],
   "source": [
    "# original query 3\n",
    "data1 = joined[(joined['l_receiptdate'] >=  19950101)]\n",
    "data1 = data1[(data1['l_shipdate'] <  19960101)]\n",
    "data1 = data1[(data1['l_shipmode'] == \"RAIL\") | (data1['l_shipmode'] == \"AIR\")]\n",
    "print(len(data1))\n",
    "print(len(data1[(data1[\"o_orderpriority\"] == \"5-LOW\") & (data1[\"o_orderstatus\"] == \"P\") & (data1[\"l_linenumber\"] == 1)]))\n",
    "print(len(data1[(data1[\"o_orderpriority\"] == \"5-LOW\") & (data1[\"o_orderstatus\"] == \"P\") & (data1[\"l_linenumber\"] == 1)]) * 0.95)\n",
    "\n",
    "\n",
    "print(len(data1[(data1[\"l_returnflag\"] == \"R\") & (data1[\"o_orderstatus\"] == \"P\")]))\n",
    "\n",
    "print(len(data1[(data1[\"l_returnflag\"] == \"R\") & (data1[\"o_orderstatus\"] == \"P\")]) * 1.05)\n"
   ],
   "metadata": {
    "collapsed": false
   }
  },
  {
   "cell_type": "code",
   "execution_count": 74,
   "outputs": [
    {
     "name": "stdout",
     "output_type": "stream",
     "text": [
      "3238\n",
      "21\n",
      "137\n"
     ]
    }
   ],
   "source": [
    "# original query 2\n",
    "data1 = joined[(joined['l_receiptdate'] >=  19950101)]\n",
    "data1 = data1[(data1['l_shipdate'] <  19960101)]\n",
    "data1 = data1[(data1['l_shipmode'] == \"FOB\") | (data1['l_shipmode'] == \"MAIL\")]\n",
    "print(len(data1))\n",
    "print(len(data1[(data1[\"o_orderpriority\"] == \"5-LOW\") & (data1[\"o_orderstatus\"] == \"P\") & (data1[\"l_linenumber\"] == 1)]))\n",
    "\n",
    "\n",
    "print(len(data1[(data1[\"l_returnflag\"] == \"R\") & (data1[\"o_orderstatus\"] == \"P\") ]))\n",
    "\n"
   ],
   "metadata": {
    "collapsed": false
   }
  },
  {
   "cell_type": "code",
   "execution_count": null,
   "outputs": [],
   "source": [],
   "metadata": {
    "collapsed": false
   }
  },
  {
   "cell_type": "markdown",
   "source": [
    "# refine5"
   ],
   "metadata": {
    "collapsed": false
   }
  },
  {
   "cell_type": "code",
   "execution_count": 8,
   "outputs": [
    {
     "name": "stdout",
     "output_type": "stream",
     "text": [
      "3238\n",
      "3\n",
      "2.8499999999999996\n",
      "9\n",
      "9.450000000000001\n"
     ]
    }
   ],
   "source": [
    "# original query 2\n",
    "data1 = joined[(joined['l_receiptdate'] >=  19950101)]\n",
    "data1 = data1[(data1['l_shipdate'] <  19960101)]\n",
    "data1 = data1[(data1['l_shipmode'] == \"FOB\") | (data1['l_shipmode'] == \"MAIL\")]\n",
    "\n",
    "print(len(data1))\n",
    "\n",
    "g1 = data1[(data1[\"o_orderpriority\"] == \"3-MEDIUM\") & (data1[\"l_linenumber\"] == 7) & (data1[\"l_shipinstruct\"] == \"TAKE BACK RETURN\")]\n",
    "\n",
    "print(len(g1))\n",
    "print(len(g1) * 0.95)\n",
    "\n",
    "\n",
    "g2 = data1[(data1[\"l_shipinstruct\"] == \"NONE\") & (data1[\"o_orderpriority\"] == \"5-LOW\")& (data1[\"l_linenumber\"] == 7)]\n",
    "\n",
    "print(len(g2))\n",
    "print(len(g2) * 1.05)\n"
   ],
   "metadata": {
    "collapsed": false
   }
  },
  {
   "cell_type": "code",
   "execution_count": null,
   "outputs": [],
   "source": [],
   "metadata": {
    "collapsed": false
   }
  },
  {
   "cell_type": "code",
   "execution_count": null,
   "outputs": [],
   "source": [],
   "metadata": {
    "collapsed": false
   }
  },
  {
   "cell_type": "code",
   "execution_count": null,
   "outputs": [],
   "source": [],
   "metadata": {
    "collapsed": false
   }
  },
  {
   "cell_type": "code",
   "execution_count": null,
   "outputs": [],
   "source": [],
   "metadata": {
    "collapsed": false
   }
  },
  {
   "cell_type": "code",
   "execution_count": 73,
   "outputs": [
    {
     "data": {
      "text/plain": "['FOB', 'REG AIR', 'TRUCK', 'AIR', 'SHIP', 'RAIL', 'MAIL']"
     },
     "execution_count": 73,
     "metadata": {},
     "output_type": "execute_result"
    }
   ],
   "source": [
    "joined[\"l_shipmode\"].unique().tolist()"
   ],
   "metadata": {
    "collapsed": false
   }
  },
  {
   "cell_type": "markdown",
   "source": [
    "# date"
   ],
   "metadata": {
    "collapsed": false
   }
  },
  {
   "cell_type": "code",
   "execution_count": 21,
   "outputs": [],
   "source": [
    "s = data['l_receiptdate'].unique().tolist()\n",
    "s.sort()\n"
   ],
   "metadata": {
    "collapsed": false
   }
  },
  {
   "cell_type": "code",
   "execution_count": 22,
   "outputs": [
    {
     "name": "stdout",
     "output_type": "stream",
     "text": [
      "1995-01-01 1996-01-29\n"
     ]
    }
   ],
   "source": [
    "print(s[0], s[-1])"
   ],
   "metadata": {
    "collapsed": false
   }
  },
  {
   "cell_type": "code",
   "execution_count": null,
   "outputs": [],
   "source": [],
   "metadata": {
    "collapsed": false
   }
  }
 ],
 "metadata": {
  "kernelspec": {
   "display_name": "Python 3",
   "language": "python",
   "name": "python3"
  },
  "language_info": {
   "codemirror_mode": {
    "name": "ipython",
    "version": 2
   },
   "file_extension": ".py",
   "mimetype": "text/x-python",
   "name": "python",
   "nbconvert_exporter": "python",
   "pygments_lexer": "ipython2",
   "version": "2.7.6"
  }
 },
 "nbformat": 4,
 "nbformat_minor": 0
}
