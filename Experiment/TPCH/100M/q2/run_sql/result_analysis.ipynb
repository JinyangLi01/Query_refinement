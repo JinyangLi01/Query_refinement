{
 "cells": [
  {
   "cell_type": "code",
   "execution_count": 11,
   "metadata": {
    "collapsed": true
   },
   "outputs": [],
   "source": [
    "import numpy as np\n",
    "import matplotlib.pyplot as plt\n",
    "import pandas as pd"
   ]
  },
  {
   "cell_type": "code",
   "execution_count": 12,
   "outputs": [
    {
     "name": "stdout",
     "output_type": "stream",
     "text": [
      "p_partkey ps_partkey ['ps_partkey', 'ps_suppkey', 'ps_availqty', 'ps_supplycost', 'ps_comment', 'Unnamed: 5']\n",
      "ps_suppkey s_suppkey ['s_suppkey', 's_name', 's_address', 's_nationkey', 's_phone', 's_acctbal', 's_comment', 'Unnamed: 7']\n",
      "s_nationkey n_nationkey ['n_nationkey', 'n_name', 'n_regionkey', 'n_comment', 'Unnamed: 4']\n",
      "n_regionkey r_regionkey ['r_regionkey', 'r_name', 'r_comment', 'Unnamed: 3']\n"
     ]
    }
   ],
   "source": [
    "# Importing the dataset\n",
    "data_file_prefix = \"../../../../../InputData/TPC-H/100Mdata/\"\n",
    "tables = [\"part\", \"partsupp\", \"supplier\", \"nation\",\t\"region\"]\n",
    "joinkeys = [[\"p_partkey\", \"ps_partkey\"], [\"ps_suppkey\", \"s_suppkey\"], [\"s_nationkey\", \"n_nationkey\"], [\"n_regionkey\", \"r_regionkey\"]]\n",
    "\n",
    "separator = '|'\n",
    "data = pd.read_csv(data_file_prefix + tables[0] + \".tbl\", sep=separator)\n",
    "for idx in range(1, len(tables)):\n",
    "    righttable = pd.read_csv(data_file_prefix + tables[idx] + \".tbl\", sep=separator)\n",
    "    print(joinkeys[idx - 1][0], joinkeys[idx - 1][1], righttable.columns.tolist(), )\n",
    "    data = pd.merge(left=data, right=righttable, how=\"inner\", left_on=joinkeys[idx - 1][0],\n",
    "                    right_on=joinkeys[idx - 1][1])\n"
   ],
   "metadata": {
    "collapsed": false
   }
  },
  {
   "cell_type": "code",
   "execution_count": 18,
   "outputs": [
    {
     "name": "stdout",
     "output_type": "stream",
     "text": [
      "   p_partkey                                      p_name          p_mfgr  \\\n",
      "0          1    goldenrod lavender spring chocolate lace  Manufacturer#1   \n",
      "1        251        dodger gainsboro violet steel papaya  Manufacturer#1   \n",
      "2        501           tomato navy midnight cyan chiffon  Manufacturer#4   \n",
      "3        751                steel blush indian rosy pink  Manufacturer#1   \n",
      "4       1001             plum ivory wheat thistle salmon  Manufacturer#5   \n",
      "5       1248  goldenrod honeydew cornflower red midnight  Manufacturer#3   \n",
      "6       1499                smoke grey rosy papaya blush  Manufacturer#3   \n",
      "7       1750         sandy pink turquoise magenta saddle  Manufacturer#2   \n",
      "8       2001          lime cornflower deep navajo orange  Manufacturer#4   \n",
      "9       2245            indian thistle olive misty royal  Manufacturer#3   \n",
      "\n",
      "    p_brand                   p_type  p_size p_container  p_retailprice  \\\n",
      "0  Brand#13   PROMO BURNISHED COPPER       7   JUMBO PKG         901.00   \n",
      "1  Brand#15  STANDARD BRUSHED NICKEL      41    WRAP CAN        1151.25   \n",
      "2  Brand#45   SMALL BURNISHED COPPER      37      SM BAG        1401.50   \n",
      "3  Brand#11       SMALL POLISHED TIN      17     SM DRUM        1651.75   \n",
      "4  Brand#53     LARGE BRUSHED NICKEL      29   WRAP PACK         902.00   \n",
      "5  Brand#32    SMALL BURNISHED STEEL      33      LG CAN        1149.24   \n",
      "6  Brand#32     LARGE ANODIZED STEEL      14      LG PKG        1400.49   \n",
      "7  Brand#23      SMALL PLATED NICKEL      44   JUMBO BAG        1651.75   \n",
      "8  Brand#41   MEDIUM BURNISHED BRASS      25     MED BAG         903.00   \n",
      "9  Brand#31       PROMO POLISHED TIN      21     LG PACK        1147.24   \n",
      "\n",
      "            p_comment  Unnamed: 9  ...  Unnamed: 7  n_nationkey    n_name  \\\n",
      "0     ly. slyly ironi         NaN  ...         NaN            5  ETHIOPIA   \n",
      "1      inal ideas aff         NaN  ...         NaN            5  ETHIOPIA   \n",
      "2       press pinto b         NaN  ...         NaN            5  ETHIOPIA   \n",
      "3     uests haggle bl         NaN  ...         NaN            5  ETHIOPIA   \n",
      "4  posits x-ray acros         NaN  ...         NaN            5  ETHIOPIA   \n",
      "5     he express, reg         NaN  ...         NaN            5  ETHIOPIA   \n",
      "6      excuses. regul         NaN  ...         NaN            5  ETHIOPIA   \n",
      "7   arefully express          NaN  ...         NaN            5  ETHIOPIA   \n",
      "8  ly regular dolphin         NaN  ...         NaN            5  ETHIOPIA   \n",
      "9               nding         NaN  ...         NaN            5  ETHIOPIA   \n",
      "\n",
      "   n_regionkey                        n_comment  Unnamed: 4  r_regionkey  \\\n",
      "0            0  ven packages wake quickly. regu         NaN            0   \n",
      "1            0  ven packages wake quickly. regu         NaN            0   \n",
      "2            0  ven packages wake quickly. regu         NaN            0   \n",
      "3            0  ven packages wake quickly. regu         NaN            0   \n",
      "4            0  ven packages wake quickly. regu         NaN            0   \n",
      "5            0  ven packages wake quickly. regu         NaN            0   \n",
      "6            0  ven packages wake quickly. regu         NaN            0   \n",
      "7            0  ven packages wake quickly. regu         NaN            0   \n",
      "8            0  ven packages wake quickly. regu         NaN            0   \n",
      "9            0  ven packages wake quickly. regu         NaN            0   \n",
      "\n",
      "   r_name                                          r_comment  Unnamed: 3  \n",
      "0  AFRICA  lar deposits. blithely final packages cajole. ...         NaN  \n",
      "1  AFRICA  lar deposits. blithely final packages cajole. ...         NaN  \n",
      "2  AFRICA  lar deposits. blithely final packages cajole. ...         NaN  \n",
      "3  AFRICA  lar deposits. blithely final packages cajole. ...         NaN  \n",
      "4  AFRICA  lar deposits. blithely final packages cajole. ...         NaN  \n",
      "5  AFRICA  lar deposits. blithely final packages cajole. ...         NaN  \n",
      "6  AFRICA  lar deposits. blithely final packages cajole. ...         NaN  \n",
      "7  AFRICA  lar deposits. blithely final packages cajole. ...         NaN  \n",
      "8  AFRICA  lar deposits. blithely final packages cajole. ...         NaN  \n",
      "9  AFRICA  lar deposits. blithely final packages cajole. ...         NaN  \n",
      "\n",
      "[10 rows x 33 columns]\n"
     ]
    }
   ],
   "source": [
    "print(data[:10])"
   ],
   "metadata": {
    "collapsed": false
   }
  },
  {
   "cell_type": "code",
   "execution_count": 17,
   "outputs": [
    {
     "name": "stdout",
     "output_type": "stream",
     "text": [
      "['PROMO BURNISHED COPPER' 'STANDARD BRUSHED NICKEL'\n",
      " 'SMALL BURNISHED COPPER' 'SMALL POLISHED TIN' 'LARGE BRUSHED NICKEL'\n",
      " 'SMALL BURNISHED STEEL' 'LARGE ANODIZED STEEL' 'SMALL PLATED NICKEL'\n",
      " 'MEDIUM BURNISHED BRASS' 'PROMO POLISHED TIN' 'SMALL BRUSHED STEEL'\n",
      " 'ECONOMY ANODIZED STEEL' 'PROMO BURNISHED TIN' 'LARGE BURNISHED BRASS'\n",
      " 'PROMO BURNISHED NICKEL' 'ECONOMY BURNISHED BRASS' 'ECONOMY PLATED TIN'\n",
      " 'STANDARD BRUSHED STEEL' 'MEDIUM BRUSHED TIN' 'LARGE PLATED TIN'\n",
      " 'MEDIUM BURNISHED COPPER' 'LARGE PLATED COPPER'\n",
      " 'STANDARD BURNISHED STEEL' 'STANDARD ANODIZED BRASS'\n",
      " 'ECONOMY POLISHED COPPER' 'SMALL PLATED TIN' 'LARGE POLISHED NICKEL'\n",
      " 'LARGE BRUSHED BRASS' 'LARGE PLATED STEEL' 'SMALL PLATED COPPER'\n",
      " 'PROMO BRUSHED NICKEL' 'ECONOMY ANODIZED BRASS' 'PROMO BRUSHED COPPER'\n",
      " 'ECONOMY POLISHED TIN' 'ECONOMY PLATED NICKEL' 'STANDARD ANODIZED NICKEL'\n",
      " 'SMALL ANODIZED STEEL' 'PROMO BURNISHED STEEL' 'SMALL BURNISHED BRASS'\n",
      " 'SMALL ANODIZED BRASS' 'SMALL POLISHED STEEL' 'PROMO BRUSHED BRASS'\n",
      " 'PROMO POLISHED NICKEL' 'STANDARD PLATED BRASS'\n",
      " 'STANDARD ANODIZED COPPER' 'SMALL BRUSHED TIN' 'ECONOMY BRUSHED STEEL'\n",
      " 'PROMO ANODIZED NICKEL' 'PROMO BURNISHED BRASS' 'LARGE POLISHED COPPER'\n",
      " 'SMALL ANODIZED NICKEL' 'ECONOMY BURNISHED TIN' 'PROMO ANODIZED TIN'\n",
      " 'ECONOMY BURNISHED COPPER' 'LARGE BRUSHED TIN' 'STANDARD POLISHED TIN'\n",
      " 'MEDIUM ANODIZED NICKEL' 'PROMO PLATED STEEL' 'LARGE BRUSHED COPPER'\n",
      " 'MEDIUM POLISHED TIN' 'STANDARD POLISHED STEEL'\n",
      " 'ECONOMY BURNISHED NICKEL' 'PROMO POLISHED BRASS' 'SMALL POLISHED BRASS'\n",
      " 'LARGE ANODIZED BRASS' 'MEDIUM PLATED TIN' 'STANDARD BRUSHED BRASS'\n",
      " 'ECONOMY ANODIZED COPPER' 'SMALL BRUSHED BRASS' 'LARGE ANODIZED NICKEL'\n",
      " 'SMALL PLATED BRASS' 'SMALL BURNISHED TIN' 'STANDARD ANODIZED STEEL'\n",
      " 'MEDIUM PLATED COPPER' 'MEDIUM POLISHED STEEL' 'SMALL BRUSHED NICKEL'\n",
      " 'MEDIUM ANODIZED BRASS' 'LARGE PLATED BRASS' 'STANDARD ANODIZED TIN'\n",
      " 'MEDIUM ANODIZED TIN' 'ECONOMY PLATED STEEL' 'MEDIUM POLISHED COPPER'\n",
      " 'MEDIUM POLISHED BRASS' 'MEDIUM BURNISHED TIN' 'LARGE BURNISHED NICKEL'\n",
      " 'STANDARD POLISHED BRASS' 'ECONOMY POLISHED STEEL' 'PROMO PLATED COPPER'\n",
      " 'STANDARD BURNISHED BRASS' 'MEDIUM BRUSHED COPPER'\n",
      " 'STANDARD PLATED NICKEL' 'PROMO ANODIZED COPPER'\n",
      " 'ECONOMY BURNISHED STEEL' 'ECONOMY ANODIZED NICKEL' 'LARGE ANODIZED TIN'\n",
      " 'STANDARD PLATED TIN' 'PROMO ANODIZED BRASS' 'ECONOMY PLATED COPPER'\n",
      " 'ECONOMY BRUSHED COPPER' 'STANDARD BRUSHED COPPER'\n",
      " 'PROMO POLISHED COPPER' 'PROMO POLISHED STEEL' 'ECONOMY ANODIZED TIN'\n",
      " 'ECONOMY POLISHED NICKEL' 'MEDIUM BRUSHED BRASS'\n",
      " 'STANDARD POLISHED NICKEL' 'MEDIUM BURNISHED NICKEL'\n",
      " 'LARGE BRUSHED STEEL' 'MEDIUM ANODIZED STEEL' 'LARGE ANODIZED COPPER'\n",
      " 'SMALL POLISHED NICKEL' 'LARGE BURNISHED STEEL'\n",
      " 'STANDARD BURNISHED NICKEL' 'LARGE POLISHED STEEL'\n",
      " 'MEDIUM BURNISHED STEEL' 'PROMO PLATED NICKEL' 'STANDARD POLISHED COPPER'\n",
      " 'LARGE BURNISHED TIN' 'PROMO BRUSHED TIN' 'MEDIUM PLATED STEEL'\n",
      " 'SMALL ANODIZED TIN' 'MEDIUM PLATED BRASS' 'MEDIUM BRUSHED STEEL'\n",
      " 'PROMO PLATED BRASS' 'STANDARD PLATED COPPER' 'MEDIUM POLISHED NICKEL'\n",
      " 'STANDARD BRUSHED TIN' 'LARGE POLISHED TIN' 'SMALL PLATED STEEL'\n",
      " 'SMALL BRUSHED COPPER' 'LARGE POLISHED BRASS' 'PROMO BRUSHED STEEL'\n",
      " 'STANDARD BURNISHED TIN' 'STANDARD BURNISHED COPPER'\n",
      " 'ECONOMY PLATED BRASS' 'LARGE BURNISHED COPPER' 'SMALL ANODIZED COPPER'\n",
      " 'STANDARD PLATED STEEL' 'SMALL BURNISHED NICKEL' 'PROMO PLATED TIN'\n",
      " 'ECONOMY BRUSHED NICKEL' 'ECONOMY POLISHED BRASS' 'MEDIUM PLATED NICKEL'\n",
      " 'MEDIUM BRUSHED NICKEL' 'SMALL POLISHED COPPER' 'ECONOMY BRUSHED BRASS'\n",
      " 'MEDIUM ANODIZED COPPER' 'PROMO ANODIZED STEEL' 'ECONOMY BRUSHED TIN'\n",
      " 'LARGE PLATED NICKEL']\n"
     ]
    }
   ],
   "source": [
    "print(data[\"p_type\"].unique())"
   ],
   "metadata": {
    "collapsed": false
   }
  },
  {
   "cell_type": "code",
   "execution_count": 22,
   "outputs": [],
   "source": [
    "data_part = pd.read_csv(data_file_prefix + \"part.tbl\", sep=separator)\n",
    "types = data_part[\"p_type\"].unique().tolist()"
   ],
   "metadata": {
    "collapsed": false
   }
  },
  {
   "cell_type": "code",
   "execution_count": 23,
   "outputs": [],
   "source": [
    "suffix = set()\n",
    "for item in types:\n",
    "    x = item.split(' ')[-1]\n",
    "    suffix.add(x)"
   ],
   "metadata": {
    "collapsed": false
   }
  },
  {
   "cell_type": "code",
   "execution_count": 24,
   "outputs": [
    {
     "name": "stdout",
     "output_type": "stream",
     "text": [
      "{'NICKEL', 'STEEL', 'COPPER', 'TIN', 'BRASS'}\n"
     ]
    }
   ],
   "source": [
    "print(suffix)"
   ],
   "metadata": {
    "collapsed": false
   }
  },
  {
   "cell_type": "code",
   "execution_count": 25,
   "outputs": [],
   "source": [
    "data_part[\"p_type_suffix\"] = data_part[\"p_type\"].apply(lambda x: x.split(' ')[-1])"
   ],
   "metadata": {
    "collapsed": false
   }
  },
  {
   "cell_type": "code",
   "execution_count": 26,
   "outputs": [
    {
     "name": "stdout",
     "output_type": "stream",
     "text": [
      "['COPPER' 'BRASS' 'TIN' 'STEEL' 'NICKEL']\n"
     ]
    }
   ],
   "source": [
    "print(data_part[\"p_type_suffix\"].unique())"
   ],
   "metadata": {
    "collapsed": false
   }
  },
  {
   "cell_type": "code",
   "execution_count": 31,
   "outputs": [],
   "source": [
    "data_part.to_csv(data_file_prefix + \"part.tbl\", sep=separator, index=False)"
   ],
   "metadata": {
    "collapsed": false
   }
  },
  {
   "cell_type": "code",
   "execution_count": 32,
   "outputs": [
    {
     "name": "stdout",
     "output_type": "stream",
     "text": [
      "p_partkey ps_partkey ['ps_partkey', 'ps_suppkey', 'ps_availqty', 'ps_supplycost', 'ps_comment', 'Unnamed: 5']\n",
      "ps_suppkey s_suppkey ['s_suppkey', 's_name', 's_address', 's_nationkey', 's_phone', 's_acctbal', 's_comment', 'Unnamed: 7']\n",
      "s_nationkey n_nationkey ['n_nationkey', 'n_name', 'n_regionkey', 'n_comment', 'Unnamed: 4']\n",
      "n_regionkey r_regionkey ['r_regionkey', 'r_name', 'r_comment', 'Unnamed: 3']\n"
     ]
    }
   ],
   "source": [
    "# Importing the dataset\n",
    "data_file_prefix = \"../../../../../InputData/TPC-H/100Mdata/\"\n",
    "tables = [\"part\", \"partsupp\", \"supplier\", \"nation\",\t\"region\"]\n",
    "joinkeys = [[\"p_partkey\", \"ps_partkey\"], [\"ps_suppkey\", \"s_suppkey\"], [\"s_nationkey\", \"n_nationkey\"], [\"n_regionkey\", \"r_regionkey\"]]\n",
    "\n",
    "separator = '|'\n",
    "data = pd.read_csv(data_file_prefix + tables[0] + \".tbl\", sep=separator)\n",
    "for idx in range(1, len(tables)):\n",
    "    righttable = pd.read_csv(data_file_prefix + tables[idx] + \".tbl\", sep=separator)\n",
    "    print(joinkeys[idx - 1][0], joinkeys[idx - 1][1], righttable.columns.tolist(), )\n",
    "    data = pd.merge(left=data, right=righttable, how=\"inner\", left_on=joinkeys[idx - 1][0],\n",
    "                    right_on=joinkeys[idx - 1][1])\n"
   ],
   "metadata": {
    "collapsed": false
   }
  },
  {
   "cell_type": "code",
   "execution_count": 33,
   "outputs": [],
   "source": [
    "data = data[data[\"p_size\"] >= 42]"
   ],
   "metadata": {
    "collapsed": false
   }
  },
  {
   "cell_type": "code",
   "execution_count": 34,
   "outputs": [],
   "source": [
    "data = data[data[\"p_type_suffix\"] == \"STEEL\"]\n",
    "data = data[data[\"r_name\"] == \"MIDDLE EAST\"]"
   ],
   "metadata": {
    "collapsed": false
   }
  },
  {
   "cell_type": "code",
   "execution_count": 35,
   "outputs": [],
   "source": [
    "data.to_csv(\"result.csv\")"
   ],
   "metadata": {
    "collapsed": false
   }
  },
  {
   "cell_type": "code",
   "execution_count": null,
   "outputs": [],
   "source": [],
   "metadata": {
    "collapsed": false
   }
  },
  {
   "cell_type": "code",
   "execution_count": 40,
   "outputs": [
    {
     "data": {
      "text/plain": "538"
     },
     "execution_count": 40,
     "metadata": {},
     "output_type": "execute_result"
    }
   ],
   "source": [
    "data = pd.read_csv(\"result.csv\")\n",
    "len(data)"
   ],
   "metadata": {
    "collapsed": false
   }
  },
  {
   "cell_type": "markdown",
   "source": [
    "# relax"
   ],
   "metadata": {
    "collapsed": false
   }
  },
  {
   "cell_type": "code",
   "execution_count": null,
   "outputs": [],
   "source": [],
   "metadata": {
    "collapsed": false
   }
  },
  {
   "cell_type": "code",
   "execution_count": 46,
   "outputs": [
    {
     "data": {
      "text/plain": "60"
     },
     "execution_count": 46,
     "metadata": {},
     "output_type": "execute_result"
    }
   ],
   "source": [
    "len(data[data[\"data\"]==49])"
   ],
   "metadata": {
    "collapsed": false
   }
  },
  {
   "cell_type": "code",
   "execution_count": 50,
   "outputs": [
    {
     "data": {
      "text/plain": "10"
     },
     "execution_count": 50,
     "metadata": {},
     "output_type": "execute_result"
    }
   ],
   "source": [
    "len(data[data['p_container'] == \"LG BOX\"] )"
   ],
   "metadata": {
    "collapsed": false
   }
  },
  {
   "cell_type": "code",
   "execution_count": null,
   "outputs": [],
   "source": [],
   "metadata": {
    "collapsed": false
   }
  }
 ],
 "metadata": {
  "kernelspec": {
   "display_name": "Python 3",
   "language": "python",
   "name": "python3"
  },
  "language_info": {
   "codemirror_mode": {
    "name": "ipython",
    "version": 2
   },
   "file_extension": ".py",
   "mimetype": "text/x-python",
   "name": "python",
   "nbconvert_exporter": "python",
   "pygments_lexer": "ipython2",
   "version": "2.7.6"
  }
 },
 "nbformat": 4,
 "nbformat_minor": 0
}
