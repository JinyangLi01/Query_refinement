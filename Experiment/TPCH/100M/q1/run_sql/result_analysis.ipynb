{
 "cells": [
  {
   "cell_type": "code",
   "execution_count": 75,
   "metadata": {
    "collapsed": true
   },
   "outputs": [],
   "source": [
    "import csv\n",
    "import numpy as np\n",
    "import pandas as pd\n"
   ]
  },
  {
   "cell_type": "code",
   "execution_count": 85,
   "outputs": [
    {
     "data": {
      "text/plain": "   l_orderkey  l_partkey  l_suppkey  l_linenumber  l_quantity  \\\n0           1      15519        785             1        17.0   \n1           1       6731        732             2        36.0   \n2           1       6370        371             3         8.0   \n3           1        214        465             4        28.0   \n\n   l_extendedprice  l_discount  l_tax l_returnflag l_linestatus  l_shipdate  \\\n0         24386.67        0.04   0.02            N            O  1996-03-13   \n1         58958.28        0.09   0.06            N            O  1996-04-12   \n2         10210.96        0.10   0.02            N            O  1996-01-29   \n3         31197.88        0.09   0.06            N            O  1996-04-21   \n\n  l_commitdate l_receiptdate     l_shipinstruct l_shipmode  \\\n0   1996-02-12    1996-03-22  DELIVER IN PERSON      TRUCK   \n1   1996-02-28    1996-04-20   TAKE BACK RETURN       MAIL   \n2   1996-03-05    1996-01-31   TAKE BACK RETURN    REG AIR   \n3   1996-03-30    1996-05-16               NONE        AIR   \n\n                            l_comment  \n0             egular courts above the  \n1  ly final dependencies: slyly bold   \n2       riously. regular, express dep  \n3             lites. fluffily even de  ",
      "text/html": "<div>\n<style scoped>\n    .dataframe tbody tr th:only-of-type {\n        vertical-align: middle;\n    }\n\n    .dataframe tbody tr th {\n        vertical-align: top;\n    }\n\n    .dataframe thead th {\n        text-align: right;\n    }\n</style>\n<table border=\"1\" class=\"dataframe\">\n  <thead>\n    <tr style=\"text-align: right;\">\n      <th></th>\n      <th>l_orderkey</th>\n      <th>l_partkey</th>\n      <th>l_suppkey</th>\n      <th>l_linenumber</th>\n      <th>l_quantity</th>\n      <th>l_extendedprice</th>\n      <th>l_discount</th>\n      <th>l_tax</th>\n      <th>l_returnflag</th>\n      <th>l_linestatus</th>\n      <th>l_shipdate</th>\n      <th>l_commitdate</th>\n      <th>l_receiptdate</th>\n      <th>l_shipinstruct</th>\n      <th>l_shipmode</th>\n      <th>l_comment</th>\n    </tr>\n  </thead>\n  <tbody>\n    <tr>\n      <th>0</th>\n      <td>1</td>\n      <td>15519</td>\n      <td>785</td>\n      <td>1</td>\n      <td>17.0</td>\n      <td>24386.67</td>\n      <td>0.04</td>\n      <td>0.02</td>\n      <td>N</td>\n      <td>O</td>\n      <td>1996-03-13</td>\n      <td>1996-02-12</td>\n      <td>1996-03-22</td>\n      <td>DELIVER IN PERSON</td>\n      <td>TRUCK</td>\n      <td>egular courts above the</td>\n    </tr>\n    <tr>\n      <th>1</th>\n      <td>1</td>\n      <td>6731</td>\n      <td>732</td>\n      <td>2</td>\n      <td>36.0</td>\n      <td>58958.28</td>\n      <td>0.09</td>\n      <td>0.06</td>\n      <td>N</td>\n      <td>O</td>\n      <td>1996-04-12</td>\n      <td>1996-02-28</td>\n      <td>1996-04-20</td>\n      <td>TAKE BACK RETURN</td>\n      <td>MAIL</td>\n      <td>ly final dependencies: slyly bold</td>\n    </tr>\n    <tr>\n      <th>2</th>\n      <td>1</td>\n      <td>6370</td>\n      <td>371</td>\n      <td>3</td>\n      <td>8.0</td>\n      <td>10210.96</td>\n      <td>0.10</td>\n      <td>0.02</td>\n      <td>N</td>\n      <td>O</td>\n      <td>1996-01-29</td>\n      <td>1996-03-05</td>\n      <td>1996-01-31</td>\n      <td>TAKE BACK RETURN</td>\n      <td>REG AIR</td>\n      <td>riously. regular, express dep</td>\n    </tr>\n    <tr>\n      <th>3</th>\n      <td>1</td>\n      <td>214</td>\n      <td>465</td>\n      <td>4</td>\n      <td>28.0</td>\n      <td>31197.88</td>\n      <td>0.09</td>\n      <td>0.06</td>\n      <td>N</td>\n      <td>O</td>\n      <td>1996-04-21</td>\n      <td>1996-03-30</td>\n      <td>1996-05-16</td>\n      <td>NONE</td>\n      <td>AIR</td>\n      <td>lites. fluffily even de</td>\n    </tr>\n  </tbody>\n</table>\n</div>"
     },
     "execution_count": 85,
     "metadata": {},
     "output_type": "execute_result"
    }
   ],
   "source": [
    "data = pd.read_csv(r\"answer_sql1.csv\", sep='|')\n",
    "data[:4]"
   ],
   "metadata": {
    "collapsed": false
   }
  },
  {
   "cell_type": "code",
   "execution_count": 86,
   "outputs": [
    {
     "data": {
      "text/plain": "586593"
     },
     "execution_count": 86,
     "metadata": {},
     "output_type": "execute_result"
    }
   ],
   "source": [
    "len(data)"
   ],
   "metadata": {
    "collapsed": false
   }
  },
  {
   "cell_type": "markdown",
   "source": [
    "# relax"
   ],
   "metadata": {
    "collapsed": false
   }
  },
  {
   "cell_type": "code",
   "execution_count": 65,
   "outputs": [
    {
     "data": {
      "text/plain": "0         1\n1         2\n2         3\n3         4\n4         5\n         ..\n586588    2\n586589    3\n586590    4\n586591    1\n586592    2\nName: l_linenumber, Length: 586593, dtype: int64"
     },
     "execution_count": 65,
     "metadata": {},
     "output_type": "execute_result"
    }
   ],
   "source": [
    "data[\"l_linenumber\"]"
   ],
   "metadata": {
    "collapsed": false
   }
  },
  {
   "cell_type": "code",
   "execution_count": 66,
   "outputs": [
    {
     "name": "stdout",
     "output_type": "stream",
     "text": [
      "286737\n"
     ]
    }
   ],
   "source": [
    "data1 = data[(data['l_linestatus'] == \"O\") & (data['l_returnflag'] == \"N\")]\n",
    "print(len(data1))"
   ],
   "metadata": {
    "collapsed": false
   }
  },
  {
   "cell_type": "code",
   "execution_count": 67,
   "outputs": [
    {
     "name": "stdout",
     "output_type": "stream",
     "text": [
      "21034\n"
     ]
    }
   ],
   "source": [
    "data2 = data[(data['l_shipmode'] == \"AIR\") & (data['l_shipinstruct'] == \"TAKE BACK RETURN\")]\n",
    "print(len(data2))"
   ],
   "metadata": {
    "collapsed": false
   }
  },
  {
   "cell_type": "markdown",
   "source": [
    "\n",
    "## contract"
   ],
   "metadata": {
    "collapsed": false
   }
  },
  {
   "cell_type": "code",
   "execution_count": 68,
   "outputs": [
    {
     "name": "stdout",
     "output_type": "stream",
     "text": [
      "37086\n"
     ]
    }
   ],
   "source": [
    "data1 = data[(data['l_shipinstruct'] == \"NONE\") & (data['l_returnflag'] == \"A\")]\n",
    "print(len(data1))"
   ],
   "metadata": {
    "collapsed": false
   }
  },
  {
   "cell_type": "code",
   "execution_count": 69,
   "outputs": [
    {
     "name": "stdout",
     "output_type": "stream",
     "text": [
      "31271\n"
     ]
    }
   ],
   "source": [
    "data1 = data[(data['l_linenumber'] == 2) & (data['l_shipinstruct'] == \"COLLECT COD\")]\n",
    "print(len(data1))"
   ],
   "metadata": {
    "collapsed": false
   }
  },
  {
   "cell_type": "markdown",
   "source": [
    "## refine"
   ],
   "metadata": {
    "collapsed": false
   }
  },
  {
   "cell_type": "code",
   "execution_count": 87,
   "outputs": [
    {
     "name": "stdout",
     "output_type": "stream",
     "text": [
      "62954\n"
     ]
    }
   ],
   "source": [
    "data1 = data[(data['l_linenumber'] == 5)]\n",
    "print(len(data1))"
   ],
   "metadata": {
    "collapsed": false
   }
  },
  {
   "cell_type": "code",
   "execution_count": 88,
   "outputs": [
    {
     "name": "stdout",
     "output_type": "stream",
     "text": [
      "71950\n"
     ]
    }
   ],
   "source": [
    "data1 = data[(data['l_returnflag'] == \"N\") & (data['l_shipinstruct'] == \"DELIVER IN PERSON\")]\n",
    "print(len(data1))"
   ],
   "metadata": {
    "collapsed": false
   }
  },
  {
   "cell_type": "code",
   "execution_count": 89,
   "outputs": [
    {
     "name": "stdout",
     "output_type": "stream",
     "text": [
      "146021\n"
     ]
    }
   ],
   "source": [
    "data1 = data[(data['l_shipinstruct'] == \"DELIVER IN PERSON\")]\n",
    "print(len(data1))"
   ],
   "metadata": {
    "collapsed": false
   }
  },
  {
   "cell_type": "code",
   "execution_count": null,
   "outputs": [],
   "source": [],
   "metadata": {
    "collapsed": false
   }
  }
 ],
 "metadata": {
  "kernelspec": {
   "display_name": "Python 3",
   "language": "python",
   "name": "python3"
  },
  "language_info": {
   "codemirror_mode": {
    "name": "ipython",
    "version": 2
   },
   "file_extension": ".py",
   "mimetype": "text/x-python",
   "name": "python",
   "nbconvert_exporter": "python",
   "pygments_lexer": "ipython2",
   "version": "2.7.6"
  }
 },
 "nbformat": 4,
 "nbformat_minor": 0
}
