{
 "cells": [
  {
   "cell_type": "code",
   "execution_count": 1,
   "metadata": {
    "collapsed": true
   },
   "outputs": [],
   "source": [
    "import csv\n",
    "import numpy as np\n",
    "import pandas as pd\n"
   ]
  },
  {
   "cell_type": "code",
   "execution_count": 2,
   "outputs": [
    {
     "data": {
      "text/plain": "3206"
     },
     "execution_count": 2,
     "metadata": {},
     "output_type": "execute_result"
    }
   ],
   "source": [
    "data = pd.read_csv(r\"answer_sql3.csv\", sep='|')\n",
    "len(data)"
   ],
   "metadata": {
    "collapsed": false
   }
  },
  {
   "cell_type": "code",
   "execution_count": 3,
   "outputs": [],
   "source": [
    "relax_rate = 1.05\n",
    "contract_rate = 0.95\n",
    "relax_rate_change = [1.1, 1.2, 1.3, 1.4, 1.5, 1.6]\n",
    "contract_rate_change = [0.4, 0.5, 0.6, 0.7, 0.8, 0.9]"
   ],
   "metadata": {
    "collapsed": false
   }
  },
  {
   "cell_type": "code",
   "execution_count": 4,
   "outputs": [
    {
     "data": {
      "text/plain": "108"
     },
     "execution_count": 4,
     "metadata": {},
     "output_type": "execute_result"
    }
   ],
   "source": [
    "len(data[(data[\"l_shipmode\"] == \"TRUCK\") & (data[\"l_shipinstruct\"] == \"DELIVER IN PERSON\")])"
   ],
   "metadata": {
    "collapsed": false
   }
  },
  {
   "cell_type": "code",
   "execution_count": 5,
   "outputs": [
    {
     "data": {
      "text/plain": "29"
     },
     "execution_count": 5,
     "metadata": {},
     "output_type": "execute_result"
    }
   ],
   "source": [
    "len(data[(data[\"l_linenumber\"] == 6) & (data[\"l_shipmode\"] == \"SHIP\")])"
   ],
   "metadata": {
    "collapsed": false
   }
  },
  {
   "cell_type": "code",
   "execution_count": 5,
   "outputs": [],
   "source": [],
   "metadata": {
    "collapsed": false
   }
  },
  {
   "cell_type": "code",
   "execution_count": 5,
   "outputs": [],
   "source": [],
   "metadata": {
    "collapsed": false
   }
  },
  {
   "cell_type": "markdown",
   "source": [
    "## relax"
   ],
   "metadata": {
    "collapsed": false
   }
  },
  {
   "cell_type": "code",
   "execution_count": 6,
   "outputs": [
    {
     "name": "stdout",
     "output_type": "stream",
     "text": [
      "122\n",
      "128.1\n"
     ]
    }
   ],
   "source": [
    "data2 = data[(data['c_nationkey'] == 23)]\n",
    "print(len(data2))\n",
    "print(len(data2)*relax_rate)"
   ],
   "metadata": {
    "collapsed": false
   }
  },
  {
   "cell_type": "code",
   "execution_count": 7,
   "outputs": [
    {
     "name": "stdout",
     "output_type": "stream",
     "text": [
      "501\n",
      "526.0500000000001\n"
     ]
    }
   ],
   "source": [
    "data3 = data[(data['l_shipmode'] == \"MAIL\")]\n",
    "print(len(data3))\n",
    "print(len(data3)*relax_rate)"
   ],
   "metadata": {
    "collapsed": false
   }
  },
  {
   "cell_type": "code",
   "execution_count": 8,
   "outputs": [
    {
     "name": "stdout",
     "output_type": "stream",
     "text": [
      "551.1\n",
      "601.1999999999999\n",
      "651.3000000000001\n",
      "701.4\n",
      "751.5\n",
      "801.6\n"
     ]
    }
   ],
   "source": [
    "for r in relax_rate_change:\n",
    "    print(len(data3) * r)"
   ],
   "metadata": {
    "collapsed": false
   }
  },
  {
   "cell_type": "markdown",
   "source": [
    "## contract"
   ],
   "metadata": {
    "collapsed": false
   }
  },
  {
   "cell_type": "code",
   "execution_count": 9,
   "outputs": [
    {
     "name": "stdout",
     "output_type": "stream",
     "text": [
      "102\n",
      "96.89999999999999\n"
     ]
    }
   ],
   "source": [
    "data3 = data[(data['c_nationkey'] == 2)]\n",
    "print(len(data3))\n",
    "print(len(data3) * contract_rate)"
   ],
   "metadata": {
    "collapsed": false
   }
  },
  {
   "cell_type": "code",
   "execution_count": 10,
   "outputs": [
    {
     "name": "stdout",
     "output_type": "stream",
     "text": [
      "386\n",
      "366.7\n"
     ]
    }
   ],
   "source": [
    "data1 = data[(data['o_orderstatus'] == \"P\") & (data['l_returnflag'] == \"N\")]\n",
    "print(len(data1))\n",
    "print(len(data1) * contract_rate)"
   ],
   "metadata": {
    "collapsed": false
   }
  },
  {
   "cell_type": "code",
   "execution_count": 11,
   "outputs": [
    {
     "name": "stdout",
     "output_type": "stream",
     "text": [
      "458\n",
      "435.09999999999997\n"
     ]
    }
   ],
   "source": [
    "data3 = data[(data['l_shipmode'] == \"SHIP\")]\n",
    "print(len(data3))\n",
    "print(len(data3) * contract_rate)"
   ],
   "metadata": {
    "collapsed": false
   }
  },
  {
   "cell_type": "code",
   "execution_count": 12,
   "outputs": [
    {
     "name": "stdout",
     "output_type": "stream",
     "text": [
      "839\n",
      "797.05\n"
     ]
    }
   ],
   "source": [
    "data3 = data[(data['l_shipinstruct'] == \"COLLECT COD\")]\n",
    "print(len(data3))\n",
    "print(len(data3) * contract_rate)"
   ],
   "metadata": {
    "collapsed": false
   }
  },
  {
   "cell_type": "code",
   "execution_count": 13,
   "outputs": [
    {
     "name": "stdout",
     "output_type": "stream",
     "text": [
      "335.6\n",
      "419.5\n",
      "503.4\n",
      "587.3\n",
      "671.2\n",
      "755.1\n"
     ]
    }
   ],
   "source": [
    "for r in contract_rate_change:\n",
    "    print(len(data3) * r)\n"
   ],
   "metadata": {
    "collapsed": false
   }
  },
  {
   "cell_type": "code",
   "execution_count": 14,
   "outputs": [
    {
     "name": "stdout",
     "output_type": "stream",
     "text": [
      "341\n",
      "323.95\n"
     ]
    }
   ],
   "source": [
    "data3 = data[(data['l_linenumber'] == 5)]\n",
    "print(len(data3))\n",
    "print(len(data3) * contract_rate)"
   ],
   "metadata": {
    "collapsed": false
   }
  },
  {
   "cell_type": "code",
   "execution_count": 14,
   "outputs": [],
   "source": [],
   "metadata": {
    "collapsed": false
   }
  },
  {
   "cell_type": "markdown",
   "source": [
    "## refinement 1"
   ],
   "metadata": {
    "collapsed": false
   }
  },
  {
   "cell_type": "code",
   "execution_count": 15,
   "outputs": [
    {
     "name": "stdout",
     "output_type": "stream",
     "text": [
      "126\n",
      "132.3\n"
     ]
    }
   ],
   "source": [
    "data1 = data[(data['c_nationkey'] == 12)]\n",
    "print(len(data1))\n",
    "print(len(data1) * 1.05)"
   ],
   "metadata": {
    "collapsed": false
   }
  },
  {
   "cell_type": "code",
   "execution_count": 17,
   "outputs": [
    {
     "name": "stdout",
     "output_type": "stream",
     "text": [
      "128.52\n",
      "131.04\n",
      "133.56\n",
      "136.08\n",
      "138.60000000000002\n",
      "141.12\n"
     ]
    }
   ],
   "source": [
    "for s in [1.02, 1.04, 1.06, 1.08, 1.10, 1.12]:\n",
    "    print(len(data1) * s)"
   ],
   "metadata": {
    "collapsed": false
   }
  },
  {
   "cell_type": "code",
   "execution_count": 18,
   "outputs": [
    {
     "name": "stdout",
     "output_type": "stream",
     "text": [
      "445\n",
      "422.75\n"
     ]
    }
   ],
   "source": [
    "data3 = data[(data['l_shipmode'] == \"TRUCK\")]\n",
    "print(len(data3))\n",
    "print(len(data3) * 0.95)"
   ],
   "metadata": {
    "collapsed": false
   }
  },
  {
   "cell_type": "markdown",
   "source": [
    "## refinement 2"
   ],
   "metadata": {
    "collapsed": false
   }
  },
  {
   "cell_type": "code",
   "execution_count": 81,
   "outputs": [
    {
     "name": "stdout",
     "output_type": "stream",
     "text": [
      "123\n",
      "116.85\n"
     ]
    }
   ],
   "source": [
    "data1 = data[(data[\"l_shipmode\"] == \"TRUCK\") & (data[\"o_orderstatus\"] == \"P\")]\n",
    "print(len(data1))\n",
    "print(len(data1) * 0.95)"
   ],
   "metadata": {
    "collapsed": false
   }
  },
  {
   "cell_type": "code",
   "execution_count": 82,
   "outputs": [
    {
     "name": "stdout",
     "output_type": "stream",
     "text": [
      "29\n",
      "30.450000000000003\n"
     ]
    }
   ],
   "source": [
    "data1 = data[(data[\"l_linenumber\"] == 6) & (data[\"l_shipmode\"] == \"SHIP\")]\n",
    "print(len(data1))\n",
    "print(len(data1) * 1.05)\n"
   ],
   "metadata": {
    "collapsed": false
   }
  },
  {
   "cell_type": "code",
   "execution_count": 83,
   "outputs": [
    {
     "name": "stdout",
     "output_type": "stream",
     "text": [
      "29.580000000000002\n",
      "30.16\n",
      "30.740000000000002\n",
      "31.32\n",
      "31.900000000000002\n",
      "32.480000000000004\n"
     ]
    }
   ],
   "source": [
    "for s in [1.02, 1.04, 1.06, 1.08, 1.10, 1.12]:\n",
    "    print(len(data1) * s)"
   ],
   "metadata": {
    "collapsed": false
   }
  },
  {
   "cell_type": "markdown",
   "source": [
    "# refine3 using"
   ],
   "metadata": {
    "collapsed": false
   }
  },
  {
   "cell_type": "code",
   "execution_count": 97,
   "outputs": [
    {
     "name": "stdout",
     "output_type": "stream",
     "text": [
      "42\n",
      "39.9\n"
     ]
    }
   ],
   "source": [
    "data1 = data[(data[\"l_shipinstruct\"] == \"DELIVER IN PERSON\") & (data[\"o_orderstatus\"] == \"P\") & (data[\"o_orderpriority\"] == \"2-HIGH\")]\n",
    "print(len(data1))\n",
    "print(len(data1) * 0.95)"
   ],
   "metadata": {
    "collapsed": false
   }
  },
  {
   "cell_type": "code",
   "execution_count": 98,
   "outputs": [
    {
     "name": "stdout",
     "output_type": "stream",
     "text": [
      "36.96\n",
      "37.800000000000004\n",
      "38.64\n",
      "39.48\n",
      "40.32\n",
      "41.16\n"
     ]
    }
   ],
   "source": [
    "for s in [0.88, 0.9, 0.92, 0.94, 0.96, 0.98]:\n",
    "    print(len(data1) * s)"
   ],
   "metadata": {
    "collapsed": false
   }
  },
  {
   "cell_type": "code",
   "execution_count": 99,
   "outputs": [
    {
     "name": "stdout",
     "output_type": "stream",
     "text": [
      "3\n",
      "3.1500000000000004\n"
     ]
    }
   ],
   "source": [
    "data1 = data[(data[\"l_linenumber\"] == 6) & (data[\"l_shipmode\"] == \"SHIP\") & (data[\"o_orderstatus\"] == \"F\") & (data[\"o_orderpriority\"] == \"1-URGENT\")]\n",
    "print(len(data1))\n",
    "print(len(data1) * 1.05)\n"
   ],
   "metadata": {
    "collapsed": false
   }
  },
  {
   "cell_type": "code",
   "execution_count": 99,
   "outputs": [],
   "source": [],
   "metadata": {
    "collapsed": false
   }
  },
  {
   "cell_type": "code",
   "execution_count": null,
   "outputs": [],
   "source": [],
   "metadata": {
    "collapsed": false
   }
  },
  {
   "cell_type": "code",
   "execution_count": null,
   "outputs": [],
   "source": [],
   "metadata": {
    "collapsed": false
   }
  },
  {
   "cell_type": "code",
   "execution_count": null,
   "outputs": [],
   "source": [],
   "metadata": {
    "collapsed": false
   }
  },
  {
   "cell_type": "markdown",
   "source": [
    "# find a good refine constraint"
   ],
   "metadata": {
    "collapsed": false
   }
  },
  {
   "cell_type": "code",
   "execution_count": 31,
   "outputs": [],
   "source": [
    "# relax: PVT_head: ['o_orderdate', 'l_shipdate', 'c_mktsegment__AUTOMOBILE', 'c_mktsegment__MACHINERY', 'c_mktsegment__HOUSEHOLD', 'c_mktsegment__FURNITURE']"
   ],
   "metadata": {
    "collapsed": false
   }
  },
  {
   "cell_type": "markdown",
   "source": [
    "## join result"
   ],
   "metadata": {
    "collapsed": false
   }
  },
  {
   "cell_type": "code",
   "execution_count": 16,
   "outputs": [],
   "source": [
    "customer = pd.read_csv(\"../../../../../InputData/TPC-H/100Mdata/customer.tbl\", sep='|')\n",
    "orders = pd.read_csv(\"../../../../../InputData/TPC-H/100Mdata/orders.tbl\", sep='|')\n",
    "joined = pd.merge(left=customer, right=orders, how=\"inner\", left_on=\"c_custkey\", right_on=\"o_custkey\")\n"
   ],
   "metadata": {
    "collapsed": false
   }
  },
  {
   "cell_type": "code",
   "execution_count": 36,
   "outputs": [],
   "source": [
    "lineitem = pd.read_csv(\"../../../../../InputData/TPC-H/100Mdata/lineitem.tbl\", sep='|')\n",
    "joined = pd.merge(left=joined, right=lineitem, how=\"inner\", left_on=\"o_orderkey\", right_on=\"l_orderkey\")"
   ],
   "metadata": {
    "collapsed": false
   }
  },
  {
   "cell_type": "code",
   "execution_count": 37,
   "outputs": [
    {
     "data": {
      "text/plain": "600572"
     },
     "execution_count": 37,
     "metadata": {},
     "output_type": "execute_result"
    }
   ],
   "source": [
    "len(joined)"
   ],
   "metadata": {
    "collapsed": false
   }
  },
  {
   "cell_type": "code",
   "execution_count": 38,
   "outputs": [],
   "source": [
    "# joined.to_csv(\"sql3_joined.csv\", sep='|', index=False)"
   ],
   "metadata": {
    "collapsed": false
   }
  },
  {
   "cell_type": "code",
   "execution_count": 39,
   "outputs": [],
   "source": [
    "# data analysis"
   ],
   "metadata": {
    "collapsed": false
   }
  },
  {
   "cell_type": "code",
   "execution_count": 34,
   "outputs": [],
   "source": [
    "joined = pd.read_csv(\"sql3_joined.csv\", sep='|')"
   ],
   "metadata": {
    "collapsed": false
   }
  },
  {
   "cell_type": "code",
   "execution_count": 35,
   "outputs": [
    {
     "name": "stdout",
     "output_type": "stream",
     "text": [
      "600572\n"
     ]
    }
   ],
   "source": [
    "print(len(joined))"
   ],
   "metadata": {
    "collapsed": false
   }
  },
  {
   "cell_type": "code",
   "execution_count": 75,
   "outputs": [
    {
     "name": "stdout",
     "output_type": "stream",
     "text": [
      "956\n"
     ]
    }
   ],
   "source": [
    "g1 = joined[\n",
    "                (joined[\"l_shipinstruct\"] == \"DELIVER IN PERSON\")\\\n",
    "                & (joined[\"o_orderpriority\"] == \"2-HIGH\") &  (joined[\"o_orderstatus\"] == \"P\")]\n",
    "print(len(g1))"
   ],
   "metadata": {
    "collapsed": false
   }
  },
  {
   "cell_type": "code",
   "execution_count": 81,
   "outputs": [
    {
     "name": "stdout",
     "output_type": "stream",
     "text": [
      "624\n"
     ]
    }
   ],
   "source": [
    "g2 = joined[(joined[\"l_linenumber\"] == 6) & (joined[\"l_shipmode\"] == \"SHIP\") & (joined[\"o_orderstatus\"] == \"F\") & (joined[\"o_orderpriority\"] == \"2-HIGH\")]\n",
    "print(len(g2))\n"
   ],
   "metadata": {
    "collapsed": false
   }
  },
  {
   "cell_type": "code",
   "execution_count": null,
   "outputs": [],
   "source": [],
   "metadata": {
    "collapsed": false
   }
  },
  {
   "cell_type": "code",
   "execution_count": null,
   "outputs": [],
   "source": [],
   "metadata": {
    "collapsed": false
   }
  },
  {
   "cell_type": "code",
   "execution_count": 36,
   "outputs": [
    {
     "data": {
      "text/plain": "['O', 'F', 'P']"
     },
     "execution_count": 36,
     "metadata": {},
     "output_type": "execute_result"
    }
   ],
   "source": [
    "joined['o_orderstatus'].unique().tolist()\n"
   ],
   "metadata": {
    "collapsed": false
   }
  },
  {
   "cell_type": "code",
   "execution_count": 36,
   "outputs": [],
   "source": [],
   "metadata": {
    "collapsed": false
   }
  },
  {
   "cell_type": "code",
   "execution_count": 37,
   "outputs": [
    {
     "name": "stdout",
     "output_type": "stream",
     "text": [
      "2630\n",
      "6074\n"
     ]
    }
   ],
   "source": [
    "print(len(joined[(joined['l_shipmode'] == \"TRUCK\") & (joined['o_orderstatus'] == \"P\")]))\n",
    "\n",
    "print(len(joined[(joined['l_shipmode'] == \"SHIP\") & (joined['l_linenumber'] == 6)]))\n",
    "\n"
   ],
   "metadata": {
    "collapsed": false
   }
  },
  {
   "cell_type": "code",
   "execution_count": 38,
   "outputs": [
    {
     "data": {
      "text/plain": "['O', 'F', 'P']"
     },
     "execution_count": 38,
     "metadata": {},
     "output_type": "execute_result"
    }
   ],
   "source": [
    "joined[\"o_orderstatus\"].unique().tolist()"
   ],
   "metadata": {
    "collapsed": false
   }
  },
  {
   "cell_type": "markdown",
   "source": [
    "# refine1 using"
   ],
   "metadata": {
    "collapsed": false
   }
  },
  {
   "cell_type": "code",
   "execution_count": 92,
   "outputs": [
    {
     "name": "stdout",
     "output_type": "stream",
     "text": [
      "3206\n",
      "42\n",
      "39.9\n",
      "3\n",
      "3.1500000000000004\n"
     ]
    },
    {
     "name": "stderr",
     "output_type": "stream",
     "text": [
      "/var/folders/sy/m1107g5j24x3w6mcyb9njvyw0000gn/T/ipykernel_77020/4101107641.py:9: UserWarning: Boolean Series key will be reindexed to match DataFrame index.\n",
      "  res1 = data1[\n"
     ]
    }
   ],
   "source": [
    "# original query\n",
    "data1 = joined[(joined['o_orderdate'] <  19950328)]\n",
    "data1 = data1[(data1['l_shipdate'] >  19950328)]\n",
    "data1 = data1[(data1['c_mktsegment'] == \"BUILDING\")]\n",
    "print(len(data1))\n",
    "# res1 = data1[(data1[\"l_shipmode\"] == \"TRUCK\") \\\n",
    "#                 & (data1[\"l_shipinstruct\"] == \"DELIVER IN PERSON\")\\\n",
    "#                 & (data1[\"o_orderpriority\"] == \"2-HIGH\") & (joined[\"o_orderstatus\"] == \"P\")]\n",
    "res1 = data1[\n",
    "                 (data1[\"l_shipinstruct\"] == \"DELIVER IN PERSON\")\\\n",
    "                & (data1[\"o_orderpriority\"] == \"2-HIGH\") & (joined[\"o_orderstatus\"] == \"P\")]\n",
    "print(len(res1))\n",
    "print(len(res1) * 0.95)\n",
    "\n",
    "res2 = data1[(data1[\"l_linenumber\"] == 6) & (data1[\"l_shipmode\"] == \"SHIP\") & (data1[\"o_orderstatus\"] == \"F\")& (data1[\"o_orderpriority\"] == \"1-URGENT\")]\n",
    "print(len( res2))\n",
    "print(len( res2) * 1.05)\n"
   ],
   "metadata": {
    "collapsed": false
   }
  },
  {
   "cell_type": "code",
   "execution_count": 93,
   "outputs": [
    {
     "name": "stdout",
     "output_type": "stream",
     "text": [
      "2951\n",
      "36\n",
      "6\n"
     ]
    },
    {
     "name": "stderr",
     "output_type": "stream",
     "text": [
      "/var/folders/sy/m1107g5j24x3w6mcyb9njvyw0000gn/T/ipykernel_77020/313060801.py:7: UserWarning: Boolean Series key will be reindexed to match DataFrame index.\n",
      "  res1 = data1[\n"
     ]
    }
   ],
   "source": [
    "\n",
    "data1 = joined[(joined['o_orderdate'] <  19950328)]\n",
    "data1 = data1[(data1['l_shipdate'] >  19950328)]\n",
    "data1 = data1[(data1['c_mktsegment'] == \"HOUSEHOLD\")]\n",
    "\n",
    "print(len(data1))\n",
    "\n",
    "res1 = data1[\n",
    "                (data1[\"l_shipinstruct\"] == \"DELIVER IN PERSON\")\\\n",
    "                & (data1[\"o_orderpriority\"] == \"2-HIGH\") & (joined[\"o_orderstatus\"] == \"P\")]\n",
    "print(len(res1))\n",
    "\n",
    "res2 = data1[(data1[\"l_linenumber\"] == 6) & (data1[\"l_shipmode\"] == \"SHIP\") & (data1[\"o_orderstatus\"] == \"F\")& (data1[\"o_orderpriority\"] == \"1-URGENT\")]\n",
    "print(len( res2))\n"
   ],
   "metadata": {
    "collapsed": false
   }
  },
  {
   "cell_type": "code",
   "execution_count": 44,
   "outputs": [
    {
     "data": {
      "text/plain": "3017"
     },
     "execution_count": 44,
     "metadata": {},
     "output_type": "execute_result"
    }
   ],
   "source": [
    "data1 = joined[(joined['o_orderdate'] <  19950328)]\n",
    "data1 = data1[(data1['l_shipdate'] >  19950328)]\n",
    "data1 = data1[(data1['c_mktsegment'] == \"AUTOMOBILE\")]\n",
    "len(data1)\n"
   ],
   "metadata": {
    "collapsed": false
   }
  },
  {
   "cell_type": "code",
   "execution_count": null,
   "outputs": [],
   "source": [],
   "metadata": {
    "collapsed": false
   }
  },
  {
   "cell_type": "code",
   "execution_count": 72,
   "outputs": [
    {
     "name": "stdout",
     "output_type": "stream",
     "text": [
      "2630\n",
      "6074\n"
     ]
    }
   ],
   "source": [
    "print(len(joined[(joined['l_shipmode'] == \"TRUCK\") & (joined['o_orderstatus'] == \"P\")]))\n",
    "\n",
    "print(len(joined[(joined['l_shipmode'] == \"SHIP\") & (joined['l_linenumber'] == 6)]))\n",
    "\n"
   ],
   "metadata": {
    "collapsed": false
   }
  },
  {
   "cell_type": "code",
   "execution_count": 73,
   "outputs": [
    {
     "name": "stdout",
     "output_type": "stream",
     "text": [
      "3206\n",
      "123\n",
      "116.85\n",
      "29\n",
      "30.450000000000003\n"
     ]
    }
   ],
   "source": [
    "# original query\n",
    "data1 = joined[(joined['o_orderdate'] <  19950328)]\n",
    "data1 = data1[(data1['l_shipdate'] >  19950328)]\n",
    "data1 = data1[(data1['c_mktsegment'] == \"BUILDING\")]\n",
    "print(len(data1))\n",
    "print(len(data1[(data1[\"l_shipmode\"] == \"TRUCK\") & (data1[\"o_orderstatus\"] == \"P\")]))\n",
    "print(len(data1[(data1[\"l_shipmode\"] == \"TRUCK\") & (data1[\"o_orderstatus\"] == \"P\")]) * 0.95)\n",
    "print(len(data1[(data1[\"l_linenumber\"] == 6) & (data1[\"l_shipmode\"] == \"SHIP\")]))\n",
    "print(len(data1[(data1[\"l_linenumber\"] == 6) & (data1[\"l_shipmode\"] == \"SHIP\")]) * 1.05)"
   ],
   "metadata": {
    "collapsed": false
   }
  },
  {
   "cell_type": "code",
   "execution_count": 74,
   "outputs": [
    {
     "name": "stdout",
     "output_type": "stream",
     "text": [
      "2951\n",
      "111\n",
      "31\n"
     ]
    }
   ],
   "source": [
    "\n",
    "data1 = joined[(joined['o_orderdate'] <  19950328)]\n",
    "data1 = data1[(data1['l_shipdate'] >  19950328)]\n",
    "data1 = data1[(data1['c_mktsegment'] == \"HOUSEHOLD\")]\n",
    "print(len(data1))\n",
    "print(len(data1[(data1[\"l_shipmode\"] == \"TRUCK\") & (data1[\"o_orderstatus\"] == \"P\")]))\n",
    "print(len(data1[(data1[\"l_linenumber\"] == 6) & (data1[\"l_shipmode\"] == \"SHIP\")]))"
   ],
   "metadata": {
    "collapsed": false
   }
  },
  {
   "cell_type": "code",
   "execution_count": null,
   "outputs": [],
   "source": [],
   "metadata": {
    "collapsed": false
   }
  },
  {
   "cell_type": "code",
   "execution_count": null,
   "outputs": [],
   "source": [],
   "metadata": {
    "collapsed": false
   }
  },
  {
   "cell_type": "code",
   "execution_count": null,
   "outputs": [],
   "source": [],
   "metadata": {
    "collapsed": false
   }
  },
  {
   "cell_type": "code",
   "execution_count": null,
   "outputs": [],
   "source": [],
   "metadata": {
    "collapsed": false
   }
  },
  {
   "cell_type": "code",
   "execution_count": null,
   "outputs": [],
   "source": [],
   "metadata": {
    "collapsed": false
   }
  },
  {
   "cell_type": "code",
   "execution_count": null,
   "outputs": [],
   "source": [],
   "metadata": {
    "collapsed": false
   }
  },
  {
   "cell_type": "code",
   "execution_count": null,
   "outputs": [],
   "source": [],
   "metadata": {
    "collapsed": false
   }
  },
  {
   "cell_type": "markdown",
   "source": [
    "## date"
   ],
   "metadata": {
    "collapsed": false
   }
  },
  {
   "cell_type": "code",
   "execution_count": 36,
   "outputs": [
    {
     "name": "stdout",
     "output_type": "stream",
     "text": [
      "1994-11-29\n",
      "1995-03-27\n"
     ]
    }
   ],
   "source": [
    "s = data[\"o_orderdate\"].values.tolist()\n",
    "s.sort()\n",
    "print(s[0])\n",
    "print(s[-1])"
   ],
   "metadata": {
    "collapsed": false
   }
  },
  {
   "cell_type": "code",
   "execution_count": 37,
   "outputs": [
    {
     "name": "stdout",
     "output_type": "stream",
     "text": [
      "1995-03-29\n",
      "1995-07-26\n"
     ]
    }
   ],
   "source": [
    "s = data[\"l_shipdate\"].values.tolist()\n",
    "s.sort()\n",
    "print(s[0])\n",
    "print(s[-1])"
   ],
   "metadata": {
    "collapsed": false
   }
  },
  {
   "cell_type": "code",
   "execution_count": null,
   "outputs": [],
   "source": [],
   "metadata": {
    "collapsed": false
   }
  }
 ],
 "metadata": {
  "kernelspec": {
   "display_name": "Python 3",
   "language": "python",
   "name": "python3"
  },
  "language_info": {
   "codemirror_mode": {
    "name": "ipython",
    "version": 2
   },
   "file_extension": ".py",
   "mimetype": "text/x-python",
   "name": "python",
   "nbconvert_exporter": "python",
   "pygments_lexer": "ipython2",
   "version": "2.7.6"
  }
 },
 "nbformat": 4,
 "nbformat_minor": 0
}
