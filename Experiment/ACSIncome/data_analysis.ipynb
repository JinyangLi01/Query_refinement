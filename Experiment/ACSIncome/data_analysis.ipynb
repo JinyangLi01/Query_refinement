{
 "cells": [
  {
   "cell_type": "code",
   "execution_count": 11,
   "metadata": {},
   "outputs": [],
   "source": [
    "from folktables import ACSDataSource, ACSIncome, generate_categories\n",
    "import pandas as pd\n"
   ]
  },
  {
   "cell_type": "code",
   "execution_count": 12,
   "metadata": {},
   "outputs": [],
   "source": [
    "ACSIncome_categories = {\n",
    "    \"COW\": {\n",
    "        1.0: (\n",
    "            \"Employee of a private for-profit company or\"\n",
    "            \"business, or of an individual, for wages,\"\n",
    "            \"salary, or commissions\"\n",
    "        ),\n",
    "        2.0: (\n",
    "            \"Employee of a private not-for-profit, tax-exempt,\"\n",
    "            \"or charitable organization\"\n",
    "        ),\n",
    "        3.0: \"Local government employee (city, county, etc.)\",\n",
    "        4.0: \"State government employee\",\n",
    "        5.0: \"Federal government employee\",\n",
    "        6.0: (\n",
    "            \"Self-employed in own not incorporated business,\"\n",
    "            \"professional practice, or farm\"\n",
    "        ),\n",
    "        7.0: (\n",
    "            \"Self-employed in own incorporated business,\"\n",
    "            \"professional practice or farm\"\n",
    "        ),\n",
    "        8.0: \"Working without pay in family business or farm\",\n",
    "        9.0: \"Unemployed and last worked 5 years ago or earlier or never worked\",\n",
    "    },\n",
    "    \"SCHL\": {\n",
    "        1.0: \"No schooling completed\",\n",
    "        2.0: \"Nursery school, preschool\",\n",
    "        3.0: \"Kindergarten\",\n",
    "        4.0: \"Grade 1\",\n",
    "        5.0: \"Grade 2\",\n",
    "        6.0: \"Grade 3\",\n",
    "        7.0: \"Grade 4\",\n",
    "        8.0: \"Grade 5\",\n",
    "        9.0: \"Grade 6\",\n",
    "        10.0: \"Grade 7\",\n",
    "        11.0: \"Grade 8\",\n",
    "        12.0: \"Grade 9\",\n",
    "        13.0: \"Grade 10\",\n",
    "        14.0: \"Grade 11\",\n",
    "        15.0: \"12th grade - no diploma\",\n",
    "        16.0: \"Regular high school diploma\",\n",
    "        17.0: \"GED or alternative credential\",\n",
    "        18.0: \"Some college, but less than 1 year\",\n",
    "        19.0: \"1 or more years of college credit, no degree\",\n",
    "        20.0: \"Associate's degree\",\n",
    "        21.0: \"Bachelor's degree\",\n",
    "        22.0: \"Master's degree\",\n",
    "        23.0: \"Professional degree beyond a bachelor's degree\",\n",
    "        24.0: \"Doctorate degree\",\n",
    "    },\n",
    "    \"MAR\": {\n",
    "        1.0: \"Married\",\n",
    "        2.0: \"Widowed\",\n",
    "        3.0: \"Divorced\",\n",
    "        4.0: \"Separated\",\n",
    "        5.0: \"Never married or under 15 years old\",\n",
    "    },\n",
    "    \"SEX\": {1.0: \"Male\", 2.0: \"Female\"},\n",
    "    \"RAC1P\": {\n",
    "        1.0: \"White alone\",\n",
    "        2.0: \"Black or African American alone\",\n",
    "        3.0: \"American Indian alone\",\n",
    "        4.0: \"Alaska Native alone\",\n",
    "        5.0: (\n",
    "            \"American Indian and Alaska Native tribes specified;\"\n",
    "            \"or American Indian or Alaska Native,\"\n",
    "            \"not specified and no other\"\n",
    "        ),\n",
    "        6.0: \"Asian alone\",\n",
    "        7.0: \"Native Hawaiian and Other Pacific Islander alone\",\n",
    "        8.0: \"Some Other Race alone\",\n",
    "        9.0: \"Two or More Races\",\n",
    "    },\n",
    "}"
   ]
  },
  {
   "cell_type": "code",
   "execution_count": 15,
   "outputs": [],
   "source": [
    "data_source = ACSDataSource(survey_year='2018', horizon='1-Year', survey='person')\n"
   ],
   "metadata": {
    "collapsed": false
   }
  },
  {
   "cell_type": "code",
   "execution_count": 22,
   "outputs": [
    {
     "name": "stdout",
     "output_type": "stream",
     "text": [
      "<folktables.acs.ACSDataSource object at 0x7fbc706590a0>\n"
     ]
    }
   ],
   "source": [
    "print(data_source)"
   ],
   "metadata": {
    "collapsed": false
   }
  },
  {
   "cell_type": "markdown",
   "source": [],
   "metadata": {
    "collapsed": false
   }
  },
  {
   "cell_type": "markdown",
   "source": [
    "# eg: CA data"
   ],
   "metadata": {
    "collapsed": false
   }
  },
  {
   "cell_type": "code",
   "execution_count": 41,
   "metadata": {},
   "outputs": [
    {
     "name": "stdout",
     "output_type": "stream",
     "text": [
      "   AGEP  COW  SCHL  MAR    OCCP  POBP  RELP  WKHP  SEX  RAC1P\n",
      "0  30.0  6.0  14.0  1.0  9610.0   6.0  16.0  40.0  1.0    8.0\n",
      "1  21.0  4.0  16.0  5.0  1970.0   6.0  17.0  20.0  1.0    1.0\n",
      "2  65.0  2.0  22.0  5.0  2040.0   6.0  17.0   8.0  1.0    1.0\n",
      "3  33.0  1.0  14.0  3.0  9610.0  36.0  16.0  40.0  1.0    1.0\n",
      "4  18.0  2.0  19.0  5.0  1021.0   6.0  17.0  18.0  2.0    1.0\n"
     ]
    }
   ],
   "source": [
    "\n",
    "ca_data = data_source.get_data(states=[\"CA\"], download=True)\n",
    "\n",
    "ca_features, ca_labels, ca_groups = ACSIncome.df_to_pandas(ca_data, categories=ACSIncome.features, dummies=True)\n",
    "\n",
    "print(ca_features.head())"
   ]
  },
  {
   "cell_type": "code",
   "execution_count": 47,
   "outputs": [],
   "source": [
    "ca_features['PINCP'] = ca_data['PINCP']"
   ],
   "metadata": {
    "collapsed": false
   }
  },
  {
   "cell_type": "code",
   "execution_count": 48,
   "outputs": [],
   "source": [
    "ca_features.to_csv('data/ca_data.csv', index=False)"
   ],
   "metadata": {
    "collapsed": false
   }
  },
  {
   "cell_type": "code",
   "execution_count": 48,
   "outputs": [],
   "source": [],
   "metadata": {
    "collapsed": false
   }
  },
  {
   "cell_type": "code",
   "execution_count": 49,
   "outputs": [
    {
     "data": {
      "text/plain": "378817"
     },
     "execution_count": 49,
     "metadata": {},
     "output_type": "execute_result"
    }
   ],
   "source": [
    "len(ca_data)"
   ],
   "metadata": {
    "collapsed": false
   }
  },
  {
   "cell_type": "code",
   "execution_count": 50,
   "outputs": [
    {
     "data": {
      "text/plain": "Index(['AGEP', 'COW', 'SCHL', 'MAR', 'OCCP', 'POBP', 'RELP', 'WKHP', 'SEX',\n       'RAC1P', 'PINCP'],\n      dtype='object')"
     },
     "execution_count": 50,
     "metadata": {},
     "output_type": "execute_result"
    }
   ],
   "source": [
    "ca_features.columns"
   ],
   "metadata": {
    "collapsed": false
   }
  },
  {
   "cell_type": "markdown",
   "source": [
    "# eg, all data"
   ],
   "metadata": {
    "collapsed": false
   }
  },
  {
   "cell_type": "code",
   "execution_count": 25,
   "outputs": [],
   "source": [
    "# all_data = data_source.get_data(download=True)"
   ],
   "metadata": {
    "collapsed": false
   }
  },
  {
   "cell_type": "code",
   "execution_count": 26,
   "outputs": [],
   "source": [
    "all_data = data_source.get_data()"
   ],
   "metadata": {
    "collapsed": false
   }
  },
  {
   "cell_type": "code",
   "execution_count": 34,
   "outputs": [
    {
     "data": {
      "text/plain": "3236107"
     },
     "execution_count": 34,
     "metadata": {},
     "output_type": "execute_result"
    }
   ],
   "source": [
    "len(all_data)"
   ],
   "metadata": {
    "collapsed": false
   }
  },
  {
   "cell_type": "code",
   "execution_count": 27,
   "outputs": [],
   "source": [
    "X, Y, Z = ACSIncome.df_to_numpy(all_data)"
   ],
   "metadata": {
    "collapsed": false
   }
  },
  {
   "cell_type": "code",
   "execution_count": 30,
   "outputs": [
    {
     "name": "stdout",
     "output_type": "stream",
     "text": [
      "[[1.800e+01 1.000e+00 1.800e+01 5.000e+00 4.720e+03 1.300e+01 1.700e+01\n",
      "  2.100e+01 2.000e+00 2.000e+00]\n",
      " [5.300e+01 5.000e+00 1.700e+01 5.000e+00 3.605e+03 1.800e+01 1.600e+01\n",
      "  4.000e+01 1.000e+00 1.000e+00]\n",
      " [4.100e+01 1.000e+00 1.600e+01 5.000e+00 7.330e+03 1.000e+00 1.700e+01\n",
      "  4.000e+01 1.000e+00 1.000e+00]\n",
      " [1.800e+01 6.000e+00 1.800e+01 5.000e+00 2.722e+03 1.000e+00 1.700e+01\n",
      "  2.000e+00 2.000e+00 1.000e+00]\n",
      " [2.100e+01 5.000e+00 1.900e+01 5.000e+00 3.870e+03 1.200e+01 1.700e+01\n",
      "  5.000e+01 1.000e+00 1.000e+00]]\n"
     ]
    }
   ],
   "source": [
    "print(X[:5])"
   ],
   "metadata": {
    "collapsed": false
   }
  },
  {
   "cell_type": "code",
   "execution_count": 33,
   "outputs": [
    {
     "name": "stdout",
     "output_type": "stream",
     "text": [
      "['AGEP', 'COW', 'SCHL', 'MAR', 'OCCP', 'POBP', 'RELP', 'WKHP', 'SEX', 'RAC1P']\n"
     ]
    }
   ],
   "source": [
    "print(ACSIncome.features)"
   ],
   "metadata": {
    "collapsed": false
   }
  },
  {
   "cell_type": "code",
   "execution_count": 35,
   "outputs": [],
   "source": [
    "all_features, all_labels, all_groups = ACSIncome.df_to_pandas(all_data, categories=ACSIncome.features, dummies=True)"
   ],
   "metadata": {
    "collapsed": false
   }
  },
  {
   "cell_type": "code",
   "execution_count": null,
   "outputs": [],
   "source": [],
   "metadata": {
    "collapsed": false
   }
  },
  {
   "cell_type": "markdown",
   "source": [
    "# Texas data"
   ],
   "metadata": {
    "collapsed": false
   }
  },
  {
   "cell_type": "code",
   "execution_count": 63,
   "outputs": [],
   "source": [
    "\n",
    "def get_state(state):\n",
    "    data = data_source.get_data(states=[state], download=True)\n",
    "    features, labels, groups = ACSIncome.df_to_pandas(data, categories=ACSIncome.features, dummies=True)\n",
    "    features['PINCP'] = data['PINCP']\n",
    "    features.to_csv(f'data/{state}_data.csv', index=False)\n",
    "    print(\"state {} have data {}\".format(state, len(data)))\n",
    "    return features\n",
    "\n"
   ],
   "metadata": {
    "collapsed": false
   }
  },
  {
   "cell_type": "code",
   "execution_count": 64,
   "outputs": [
    {
     "name": "stdout",
     "output_type": "stream",
     "text": [
      "state TX have data 268100\n"
     ]
    },
    {
     "data": {
      "text/plain": "        AGEP  COW  SCHL  MAR    OCCP   POBP  RELP  WKHP  SEX  RAC1P     PINCP\n0       21.0  3.0  16.0  5.0  3500.0   48.0  17.0  10.0  2.0    2.0    3200.0\n1       20.0  1.0  16.0  5.0  4720.0   39.0  17.0  50.0  2.0    1.0       0.0\n2       31.0  1.0  17.0  5.0  4110.0   48.0  17.0  30.0  1.0    1.0       0.0\n3       39.0  1.0  21.0  1.0  4255.0   18.0  16.0  40.0  1.0    1.0   35000.0\n4       18.0  1.0  16.0  5.0  4055.0   48.0  17.0  20.0  1.0    6.0   10000.0\n...      ...  ...   ...  ...     ...    ...   ...   ...  ...    ...       ...\n135919  19.0  1.0  19.0  5.0  9620.0   48.0   2.0  40.0  1.0    1.0   80700.0\n135920  24.0  1.0  19.0  5.0  4760.0   48.0  10.0  40.0  1.0    1.0  100000.0\n135921  40.0  1.0  15.0  5.0  6260.0   48.0  12.0  40.0  1.0    1.0       0.0\n135922  43.0  1.0   1.0  2.0  6330.0   17.0   0.0  48.0  1.0    1.0   40000.0\n135923  61.0  1.0   1.0  3.0  4220.0  303.0   8.0  48.0  1.0    1.0       NaN\n\n[135924 rows x 11 columns]",
      "text/html": "<div>\n<style scoped>\n    .dataframe tbody tr th:only-of-type {\n        vertical-align: middle;\n    }\n\n    .dataframe tbody tr th {\n        vertical-align: top;\n    }\n\n    .dataframe thead th {\n        text-align: right;\n    }\n</style>\n<table border=\"1\" class=\"dataframe\">\n  <thead>\n    <tr style=\"text-align: right;\">\n      <th></th>\n      <th>AGEP</th>\n      <th>COW</th>\n      <th>SCHL</th>\n      <th>MAR</th>\n      <th>OCCP</th>\n      <th>POBP</th>\n      <th>RELP</th>\n      <th>WKHP</th>\n      <th>SEX</th>\n      <th>RAC1P</th>\n      <th>PINCP</th>\n    </tr>\n  </thead>\n  <tbody>\n    <tr>\n      <th>0</th>\n      <td>21.0</td>\n      <td>3.0</td>\n      <td>16.0</td>\n      <td>5.0</td>\n      <td>3500.0</td>\n      <td>48.0</td>\n      <td>17.0</td>\n      <td>10.0</td>\n      <td>2.0</td>\n      <td>2.0</td>\n      <td>3200.0</td>\n    </tr>\n    <tr>\n      <th>1</th>\n      <td>20.0</td>\n      <td>1.0</td>\n      <td>16.0</td>\n      <td>5.0</td>\n      <td>4720.0</td>\n      <td>39.0</td>\n      <td>17.0</td>\n      <td>50.0</td>\n      <td>2.0</td>\n      <td>1.0</td>\n      <td>0.0</td>\n    </tr>\n    <tr>\n      <th>2</th>\n      <td>31.0</td>\n      <td>1.0</td>\n      <td>17.0</td>\n      <td>5.0</td>\n      <td>4110.0</td>\n      <td>48.0</td>\n      <td>17.0</td>\n      <td>30.0</td>\n      <td>1.0</td>\n      <td>1.0</td>\n      <td>0.0</td>\n    </tr>\n    <tr>\n      <th>3</th>\n      <td>39.0</td>\n      <td>1.0</td>\n      <td>21.0</td>\n      <td>1.0</td>\n      <td>4255.0</td>\n      <td>18.0</td>\n      <td>16.0</td>\n      <td>40.0</td>\n      <td>1.0</td>\n      <td>1.0</td>\n      <td>35000.0</td>\n    </tr>\n    <tr>\n      <th>4</th>\n      <td>18.0</td>\n      <td>1.0</td>\n      <td>16.0</td>\n      <td>5.0</td>\n      <td>4055.0</td>\n      <td>48.0</td>\n      <td>17.0</td>\n      <td>20.0</td>\n      <td>1.0</td>\n      <td>6.0</td>\n      <td>10000.0</td>\n    </tr>\n    <tr>\n      <th>...</th>\n      <td>...</td>\n      <td>...</td>\n      <td>...</td>\n      <td>...</td>\n      <td>...</td>\n      <td>...</td>\n      <td>...</td>\n      <td>...</td>\n      <td>...</td>\n      <td>...</td>\n      <td>...</td>\n    </tr>\n    <tr>\n      <th>135919</th>\n      <td>19.0</td>\n      <td>1.0</td>\n      <td>19.0</td>\n      <td>5.0</td>\n      <td>9620.0</td>\n      <td>48.0</td>\n      <td>2.0</td>\n      <td>40.0</td>\n      <td>1.0</td>\n      <td>1.0</td>\n      <td>80700.0</td>\n    </tr>\n    <tr>\n      <th>135920</th>\n      <td>24.0</td>\n      <td>1.0</td>\n      <td>19.0</td>\n      <td>5.0</td>\n      <td>4760.0</td>\n      <td>48.0</td>\n      <td>10.0</td>\n      <td>40.0</td>\n      <td>1.0</td>\n      <td>1.0</td>\n      <td>100000.0</td>\n    </tr>\n    <tr>\n      <th>135921</th>\n      <td>40.0</td>\n      <td>1.0</td>\n      <td>15.0</td>\n      <td>5.0</td>\n      <td>6260.0</td>\n      <td>48.0</td>\n      <td>12.0</td>\n      <td>40.0</td>\n      <td>1.0</td>\n      <td>1.0</td>\n      <td>0.0</td>\n    </tr>\n    <tr>\n      <th>135922</th>\n      <td>43.0</td>\n      <td>1.0</td>\n      <td>1.0</td>\n      <td>2.0</td>\n      <td>6330.0</td>\n      <td>17.0</td>\n      <td>0.0</td>\n      <td>48.0</td>\n      <td>1.0</td>\n      <td>1.0</td>\n      <td>40000.0</td>\n    </tr>\n    <tr>\n      <th>135923</th>\n      <td>61.0</td>\n      <td>1.0</td>\n      <td>1.0</td>\n      <td>3.0</td>\n      <td>4220.0</td>\n      <td>303.0</td>\n      <td>8.0</td>\n      <td>48.0</td>\n      <td>1.0</td>\n      <td>1.0</td>\n      <td>NaN</td>\n    </tr>\n  </tbody>\n</table>\n<p>135924 rows × 11 columns</p>\n</div>"
     },
     "execution_count": 64,
     "metadata": {},
     "output_type": "execute_result"
    }
   ],
   "source": [
    "get_state('TX')"
   ],
   "metadata": {
    "collapsed": false
   }
  },
  {
   "cell_type": "code",
   "execution_count": 65,
   "outputs": [
    {
     "name": "stdout",
     "output_type": "stream",
     "text": [
      "state MN have data 55783\n"
     ]
    },
    {
     "data": {
      "text/plain": "       AGEP  COW  SCHL  MAR    OCCP  POBP  RELP  WKHP  SEX  RAC1P     PINCP\n0      36.0  1.0  17.0  5.0  6410.0  27.0  16.0  20.0  1.0    1.0    2000.0\n1      21.0  1.0  19.0  5.0  4622.0  20.0  17.0  20.0  2.0    1.0       0.0\n2      46.0  1.0  24.0  1.0  2100.0  27.0  17.0  50.0  2.0    1.0    1300.0\n3      19.0  3.0  18.0  5.0  2440.0  55.0  17.0  12.0  2.0    1.0    4720.0\n4      18.0  1.0  18.0  5.0  4720.0  27.0  17.0  30.0  1.0    6.0  130000.0\n...     ...  ...   ...  ...     ...   ...   ...   ...  ...    ...       ...\n31016  43.0  6.0  21.0  1.0  2145.0   8.0   1.0  55.0  2.0    1.0  133400.0\n31017  17.0  1.0  16.0  5.0  4760.0  27.0   2.0  16.0  2.0    1.0   68900.0\n31018  45.0  1.0  19.0  3.0  7150.0  27.0   0.0  38.0  1.0    1.0    1500.0\n31019  24.0  3.0  16.0  5.0  4055.0  27.0   2.0  20.0  2.0    1.0  107000.0\n31020  22.0  1.0  15.0  5.0  2300.0  27.0   2.0  20.0  1.0    1.0   60000.0\n\n[31021 rows x 11 columns]",
      "text/html": "<div>\n<style scoped>\n    .dataframe tbody tr th:only-of-type {\n        vertical-align: middle;\n    }\n\n    .dataframe tbody tr th {\n        vertical-align: top;\n    }\n\n    .dataframe thead th {\n        text-align: right;\n    }\n</style>\n<table border=\"1\" class=\"dataframe\">\n  <thead>\n    <tr style=\"text-align: right;\">\n      <th></th>\n      <th>AGEP</th>\n      <th>COW</th>\n      <th>SCHL</th>\n      <th>MAR</th>\n      <th>OCCP</th>\n      <th>POBP</th>\n      <th>RELP</th>\n      <th>WKHP</th>\n      <th>SEX</th>\n      <th>RAC1P</th>\n      <th>PINCP</th>\n    </tr>\n  </thead>\n  <tbody>\n    <tr>\n      <th>0</th>\n      <td>36.0</td>\n      <td>1.0</td>\n      <td>17.0</td>\n      <td>5.0</td>\n      <td>6410.0</td>\n      <td>27.0</td>\n      <td>16.0</td>\n      <td>20.0</td>\n      <td>1.0</td>\n      <td>1.0</td>\n      <td>2000.0</td>\n    </tr>\n    <tr>\n      <th>1</th>\n      <td>21.0</td>\n      <td>1.0</td>\n      <td>19.0</td>\n      <td>5.0</td>\n      <td>4622.0</td>\n      <td>20.0</td>\n      <td>17.0</td>\n      <td>20.0</td>\n      <td>2.0</td>\n      <td>1.0</td>\n      <td>0.0</td>\n    </tr>\n    <tr>\n      <th>2</th>\n      <td>46.0</td>\n      <td>1.0</td>\n      <td>24.0</td>\n      <td>1.0</td>\n      <td>2100.0</td>\n      <td>27.0</td>\n      <td>17.0</td>\n      <td>50.0</td>\n      <td>2.0</td>\n      <td>1.0</td>\n      <td>1300.0</td>\n    </tr>\n    <tr>\n      <th>3</th>\n      <td>19.0</td>\n      <td>3.0</td>\n      <td>18.0</td>\n      <td>5.0</td>\n      <td>2440.0</td>\n      <td>55.0</td>\n      <td>17.0</td>\n      <td>12.0</td>\n      <td>2.0</td>\n      <td>1.0</td>\n      <td>4720.0</td>\n    </tr>\n    <tr>\n      <th>4</th>\n      <td>18.0</td>\n      <td>1.0</td>\n      <td>18.0</td>\n      <td>5.0</td>\n      <td>4720.0</td>\n      <td>27.0</td>\n      <td>17.0</td>\n      <td>30.0</td>\n      <td>1.0</td>\n      <td>6.0</td>\n      <td>130000.0</td>\n    </tr>\n    <tr>\n      <th>...</th>\n      <td>...</td>\n      <td>...</td>\n      <td>...</td>\n      <td>...</td>\n      <td>...</td>\n      <td>...</td>\n      <td>...</td>\n      <td>...</td>\n      <td>...</td>\n      <td>...</td>\n      <td>...</td>\n    </tr>\n    <tr>\n      <th>31016</th>\n      <td>43.0</td>\n      <td>6.0</td>\n      <td>21.0</td>\n      <td>1.0</td>\n      <td>2145.0</td>\n      <td>8.0</td>\n      <td>1.0</td>\n      <td>55.0</td>\n      <td>2.0</td>\n      <td>1.0</td>\n      <td>133400.0</td>\n    </tr>\n    <tr>\n      <th>31017</th>\n      <td>17.0</td>\n      <td>1.0</td>\n      <td>16.0</td>\n      <td>5.0</td>\n      <td>4760.0</td>\n      <td>27.0</td>\n      <td>2.0</td>\n      <td>16.0</td>\n      <td>2.0</td>\n      <td>1.0</td>\n      <td>68900.0</td>\n    </tr>\n    <tr>\n      <th>31018</th>\n      <td>45.0</td>\n      <td>1.0</td>\n      <td>19.0</td>\n      <td>3.0</td>\n      <td>7150.0</td>\n      <td>27.0</td>\n      <td>0.0</td>\n      <td>38.0</td>\n      <td>1.0</td>\n      <td>1.0</td>\n      <td>1500.0</td>\n    </tr>\n    <tr>\n      <th>31019</th>\n      <td>24.0</td>\n      <td>3.0</td>\n      <td>16.0</td>\n      <td>5.0</td>\n      <td>4055.0</td>\n      <td>27.0</td>\n      <td>2.0</td>\n      <td>20.0</td>\n      <td>2.0</td>\n      <td>1.0</td>\n      <td>107000.0</td>\n    </tr>\n    <tr>\n      <th>31020</th>\n      <td>22.0</td>\n      <td>1.0</td>\n      <td>15.0</td>\n      <td>5.0</td>\n      <td>2300.0</td>\n      <td>27.0</td>\n      <td>2.0</td>\n      <td>20.0</td>\n      <td>1.0</td>\n      <td>1.0</td>\n      <td>60000.0</td>\n    </tr>\n  </tbody>\n</table>\n<p>31021 rows × 11 columns</p>\n</div>"
     },
     "execution_count": 65,
     "metadata": {},
     "output_type": "execute_result"
    }
   ],
   "source": [
    "get_state('MN')"
   ],
   "metadata": {
    "collapsed": false
   }
  },
  {
   "cell_type": "code",
   "execution_count": 66,
   "outputs": [],
   "source": [
    "US_states = [\"AL\", \"AK\", \"AZ\", \"AR\", \"CA\", \"CO\", \"CT\", \"DE\", \"FL\", \"GA\", \"HI\",\n",
    "              \"ID\", \"IL\", \"IN\", \"IA\", \"KS\", \"KY\", \"LA\", \"ME\", \"MD\", \"MA\", \"MI\",\n",
    "              \"MN\", \"MS\", \"MO\", \"MT\", \"NE\", \"NV\", \"NH\", \"NJ\", \"NM\", \"NY\", \"NC\",\n",
    "              \"ND\", \"OH\", \"OK\", \"OR\", \"PA\", \"RI\", \"SC\", \"SD\", \"TN\", \"TX\", \"UT\",\n",
    "              \"VT\", \"VA\", \"WA\", \"WV\", \"WI\", \"WY\", \"PR\"]"
   ],
   "metadata": {
    "collapsed": false
   }
  },
  {
   "cell_type": "code",
   "execution_count": 67,
   "outputs": [
    {
     "name": "stdout",
     "output_type": "stream",
     "text": [
      "state AL have data 47777\n",
      "state AK have data 6711\n",
      "state AZ have data 69990\n",
      "state AR have data 30503\n",
      "state CA have data 378817\n",
      "state CO have data 55928\n",
      "state CT have data 36287\n",
      "state DE have data 9123\n",
      "state FL have data 202160\n",
      "state GA have data 100855\n",
      "state HI have data 14400\n",
      "state ID have data 16711\n",
      "state IL have data 126456\n",
      "state IN have data 67680\n",
      "state IA have data 32362\n",
      "state KS have data 29567\n",
      "state KY have data 45475\n",
      "state LA have data 43589\n",
      "state ME have data 13275\n",
      "state MD have data 59840\n",
      "state MA have data 70131\n",
      "state MI have data 99419\n",
      "state MN have data 55783\n",
      "state MS have data 29124\n",
      "state MO have data 62416\n",
      "state MT have data 10336\n",
      "state NE have data 19451\n",
      "state NV have data 28927\n",
      "state NH have data 13780\n",
      "state NJ have data 88586\n",
      "state NM have data 19247\n",
      "state NY have data 196967\n",
      "state NC have data 102523\n",
      "state ND have data 7876\n",
      "state OH have data 119086\n",
      "state OK have data 37648\n",
      "state OR have data 42117\n",
      "state PA have data 129066\n",
      "state RI have data 10489\n",
      "state SC have data 49818\n",
      "state SD have data 8986\n",
      "state TN have data 67950\n",
      "state TX have data 268100\n",
      "state UT have data 31603\n",
      "state VT have data 6436\n",
      "state VA have data 84755\n",
      "state WA have data 76225\n",
      "state WV have data 18066\n",
      "state WI have data 59833\n",
      "state WY have data 5740\n",
      "state PR have data 28117\n"
     ]
    }
   ],
   "source": [
    "for state in US_states:\n",
    "    get_state(state)"
   ],
   "metadata": {
    "collapsed": false
   }
  },
  {
   "cell_type": "code",
   "execution_count": 68,
   "outputs": [
    {
     "name": "stdout",
     "output_type": "stream",
     "text": [
      "state TX have data 268100\n"
     ]
    },
    {
     "data": {
      "text/plain": "        AGEP  COW  SCHL  MAR    OCCP   POBP  RELP  WKHP  SEX  RAC1P     PINCP\n0       21.0  3.0  16.0  5.0  3500.0   48.0  17.0  10.0  2.0    2.0    3200.0\n1       20.0  1.0  16.0  5.0  4720.0   39.0  17.0  50.0  2.0    1.0       0.0\n2       31.0  1.0  17.0  5.0  4110.0   48.0  17.0  30.0  1.0    1.0       0.0\n3       39.0  1.0  21.0  1.0  4255.0   18.0  16.0  40.0  1.0    1.0   35000.0\n4       18.0  1.0  16.0  5.0  4055.0   48.0  17.0  20.0  1.0    6.0   10000.0\n...      ...  ...   ...  ...     ...    ...   ...   ...  ...    ...       ...\n135919  19.0  1.0  19.0  5.0  9620.0   48.0   2.0  40.0  1.0    1.0   80700.0\n135920  24.0  1.0  19.0  5.0  4760.0   48.0  10.0  40.0  1.0    1.0  100000.0\n135921  40.0  1.0  15.0  5.0  6260.0   48.0  12.0  40.0  1.0    1.0       0.0\n135922  43.0  1.0   1.0  2.0  6330.0   17.0   0.0  48.0  1.0    1.0   40000.0\n135923  61.0  1.0   1.0  3.0  4220.0  303.0   8.0  48.0  1.0    1.0       NaN\n\n[135924 rows x 11 columns]",
      "text/html": "<div>\n<style scoped>\n    .dataframe tbody tr th:only-of-type {\n        vertical-align: middle;\n    }\n\n    .dataframe tbody tr th {\n        vertical-align: top;\n    }\n\n    .dataframe thead th {\n        text-align: right;\n    }\n</style>\n<table border=\"1\" class=\"dataframe\">\n  <thead>\n    <tr style=\"text-align: right;\">\n      <th></th>\n      <th>AGEP</th>\n      <th>COW</th>\n      <th>SCHL</th>\n      <th>MAR</th>\n      <th>OCCP</th>\n      <th>POBP</th>\n      <th>RELP</th>\n      <th>WKHP</th>\n      <th>SEX</th>\n      <th>RAC1P</th>\n      <th>PINCP</th>\n    </tr>\n  </thead>\n  <tbody>\n    <tr>\n      <th>0</th>\n      <td>21.0</td>\n      <td>3.0</td>\n      <td>16.0</td>\n      <td>5.0</td>\n      <td>3500.0</td>\n      <td>48.0</td>\n      <td>17.0</td>\n      <td>10.0</td>\n      <td>2.0</td>\n      <td>2.0</td>\n      <td>3200.0</td>\n    </tr>\n    <tr>\n      <th>1</th>\n      <td>20.0</td>\n      <td>1.0</td>\n      <td>16.0</td>\n      <td>5.0</td>\n      <td>4720.0</td>\n      <td>39.0</td>\n      <td>17.0</td>\n      <td>50.0</td>\n      <td>2.0</td>\n      <td>1.0</td>\n      <td>0.0</td>\n    </tr>\n    <tr>\n      <th>2</th>\n      <td>31.0</td>\n      <td>1.0</td>\n      <td>17.0</td>\n      <td>5.0</td>\n      <td>4110.0</td>\n      <td>48.0</td>\n      <td>17.0</td>\n      <td>30.0</td>\n      <td>1.0</td>\n      <td>1.0</td>\n      <td>0.0</td>\n    </tr>\n    <tr>\n      <th>3</th>\n      <td>39.0</td>\n      <td>1.0</td>\n      <td>21.0</td>\n      <td>1.0</td>\n      <td>4255.0</td>\n      <td>18.0</td>\n      <td>16.0</td>\n      <td>40.0</td>\n      <td>1.0</td>\n      <td>1.0</td>\n      <td>35000.0</td>\n    </tr>\n    <tr>\n      <th>4</th>\n      <td>18.0</td>\n      <td>1.0</td>\n      <td>16.0</td>\n      <td>5.0</td>\n      <td>4055.0</td>\n      <td>48.0</td>\n      <td>17.0</td>\n      <td>20.0</td>\n      <td>1.0</td>\n      <td>6.0</td>\n      <td>10000.0</td>\n    </tr>\n    <tr>\n      <th>...</th>\n      <td>...</td>\n      <td>...</td>\n      <td>...</td>\n      <td>...</td>\n      <td>...</td>\n      <td>...</td>\n      <td>...</td>\n      <td>...</td>\n      <td>...</td>\n      <td>...</td>\n      <td>...</td>\n    </tr>\n    <tr>\n      <th>135919</th>\n      <td>19.0</td>\n      <td>1.0</td>\n      <td>19.0</td>\n      <td>5.0</td>\n      <td>9620.0</td>\n      <td>48.0</td>\n      <td>2.0</td>\n      <td>40.0</td>\n      <td>1.0</td>\n      <td>1.0</td>\n      <td>80700.0</td>\n    </tr>\n    <tr>\n      <th>135920</th>\n      <td>24.0</td>\n      <td>1.0</td>\n      <td>19.0</td>\n      <td>5.0</td>\n      <td>4760.0</td>\n      <td>48.0</td>\n      <td>10.0</td>\n      <td>40.0</td>\n      <td>1.0</td>\n      <td>1.0</td>\n      <td>100000.0</td>\n    </tr>\n    <tr>\n      <th>135921</th>\n      <td>40.0</td>\n      <td>1.0</td>\n      <td>15.0</td>\n      <td>5.0</td>\n      <td>6260.0</td>\n      <td>48.0</td>\n      <td>12.0</td>\n      <td>40.0</td>\n      <td>1.0</td>\n      <td>1.0</td>\n      <td>0.0</td>\n    </tr>\n    <tr>\n      <th>135922</th>\n      <td>43.0</td>\n      <td>1.0</td>\n      <td>1.0</td>\n      <td>2.0</td>\n      <td>6330.0</td>\n      <td>17.0</td>\n      <td>0.0</td>\n      <td>48.0</td>\n      <td>1.0</td>\n      <td>1.0</td>\n      <td>40000.0</td>\n    </tr>\n    <tr>\n      <th>135923</th>\n      <td>61.0</td>\n      <td>1.0</td>\n      <td>1.0</td>\n      <td>3.0</td>\n      <td>4220.0</td>\n      <td>303.0</td>\n      <td>8.0</td>\n      <td>48.0</td>\n      <td>1.0</td>\n      <td>1.0</td>\n      <td>NaN</td>\n    </tr>\n  </tbody>\n</table>\n<p>135924 rows × 11 columns</p>\n</div>"
     },
     "execution_count": 68,
     "metadata": {},
     "output_type": "execute_result"
    }
   ],
   "source": [
    "get_state('TX')"
   ],
   "metadata": {
    "collapsed": false
   }
  },
  {
   "cell_type": "code",
   "execution_count": 69,
   "outputs": [
    {
     "name": "stdout",
     "output_type": "stream",
     "text": [
      "state CA have data 378817\n"
     ]
    },
    {
     "data": {
      "text/plain": "        AGEP  COW  SCHL  MAR    OCCP   POBP  RELP  WKHP  SEX  RAC1P     PINCP\n0       30.0  6.0  14.0  1.0  9610.0    6.0  16.0  40.0  1.0    8.0   48500.0\n1       21.0  4.0  16.0  5.0  1970.0    6.0  17.0  20.0  1.0    1.0       0.0\n2       65.0  2.0  22.0  5.0  2040.0    6.0  17.0   8.0  1.0    1.0   13100.0\n3       33.0  1.0  14.0  3.0  9610.0   36.0  16.0  40.0  1.0    1.0       0.0\n4       18.0  2.0  19.0  5.0  1021.0    6.0  17.0  18.0  2.0    1.0       0.0\n...      ...  ...   ...  ...     ...    ...   ...   ...  ...    ...       ...\n195660  38.0  1.0  22.0  1.0  1021.0  210.0   0.0  40.0  1.0    6.0   26000.0\n195661  39.0  1.0  22.0  1.0  1021.0  210.0   1.0  40.0  2.0    6.0       NaN\n195662  61.0  1.0  19.0  1.0  5240.0   17.0   0.0  45.0  1.0    1.0       NaN\n195663  69.0  7.0  24.0  1.0  2040.0  207.0   0.0  45.0  1.0    6.0  100000.0\n195664  40.0  1.0  17.0  1.0  9600.0  303.0   0.0  40.0  1.0    8.0  100000.0\n\n[195665 rows x 11 columns]",
      "text/html": "<div>\n<style scoped>\n    .dataframe tbody tr th:only-of-type {\n        vertical-align: middle;\n    }\n\n    .dataframe tbody tr th {\n        vertical-align: top;\n    }\n\n    .dataframe thead th {\n        text-align: right;\n    }\n</style>\n<table border=\"1\" class=\"dataframe\">\n  <thead>\n    <tr style=\"text-align: right;\">\n      <th></th>\n      <th>AGEP</th>\n      <th>COW</th>\n      <th>SCHL</th>\n      <th>MAR</th>\n      <th>OCCP</th>\n      <th>POBP</th>\n      <th>RELP</th>\n      <th>WKHP</th>\n      <th>SEX</th>\n      <th>RAC1P</th>\n      <th>PINCP</th>\n    </tr>\n  </thead>\n  <tbody>\n    <tr>\n      <th>0</th>\n      <td>30.0</td>\n      <td>6.0</td>\n      <td>14.0</td>\n      <td>1.0</td>\n      <td>9610.0</td>\n      <td>6.0</td>\n      <td>16.0</td>\n      <td>40.0</td>\n      <td>1.0</td>\n      <td>8.0</td>\n      <td>48500.0</td>\n    </tr>\n    <tr>\n      <th>1</th>\n      <td>21.0</td>\n      <td>4.0</td>\n      <td>16.0</td>\n      <td>5.0</td>\n      <td>1970.0</td>\n      <td>6.0</td>\n      <td>17.0</td>\n      <td>20.0</td>\n      <td>1.0</td>\n      <td>1.0</td>\n      <td>0.0</td>\n    </tr>\n    <tr>\n      <th>2</th>\n      <td>65.0</td>\n      <td>2.0</td>\n      <td>22.0</td>\n      <td>5.0</td>\n      <td>2040.0</td>\n      <td>6.0</td>\n      <td>17.0</td>\n      <td>8.0</td>\n      <td>1.0</td>\n      <td>1.0</td>\n      <td>13100.0</td>\n    </tr>\n    <tr>\n      <th>3</th>\n      <td>33.0</td>\n      <td>1.0</td>\n      <td>14.0</td>\n      <td>3.0</td>\n      <td>9610.0</td>\n      <td>36.0</td>\n      <td>16.0</td>\n      <td>40.0</td>\n      <td>1.0</td>\n      <td>1.0</td>\n      <td>0.0</td>\n    </tr>\n    <tr>\n      <th>4</th>\n      <td>18.0</td>\n      <td>2.0</td>\n      <td>19.0</td>\n      <td>5.0</td>\n      <td>1021.0</td>\n      <td>6.0</td>\n      <td>17.0</td>\n      <td>18.0</td>\n      <td>2.0</td>\n      <td>1.0</td>\n      <td>0.0</td>\n    </tr>\n    <tr>\n      <th>...</th>\n      <td>...</td>\n      <td>...</td>\n      <td>...</td>\n      <td>...</td>\n      <td>...</td>\n      <td>...</td>\n      <td>...</td>\n      <td>...</td>\n      <td>...</td>\n      <td>...</td>\n      <td>...</td>\n    </tr>\n    <tr>\n      <th>195660</th>\n      <td>38.0</td>\n      <td>1.0</td>\n      <td>22.0</td>\n      <td>1.0</td>\n      <td>1021.0</td>\n      <td>210.0</td>\n      <td>0.0</td>\n      <td>40.0</td>\n      <td>1.0</td>\n      <td>6.0</td>\n      <td>26000.0</td>\n    </tr>\n    <tr>\n      <th>195661</th>\n      <td>39.0</td>\n      <td>1.0</td>\n      <td>22.0</td>\n      <td>1.0</td>\n      <td>1021.0</td>\n      <td>210.0</td>\n      <td>1.0</td>\n      <td>40.0</td>\n      <td>2.0</td>\n      <td>6.0</td>\n      <td>NaN</td>\n    </tr>\n    <tr>\n      <th>195662</th>\n      <td>61.0</td>\n      <td>1.0</td>\n      <td>19.0</td>\n      <td>1.0</td>\n      <td>5240.0</td>\n      <td>17.0</td>\n      <td>0.0</td>\n      <td>45.0</td>\n      <td>1.0</td>\n      <td>1.0</td>\n      <td>NaN</td>\n    </tr>\n    <tr>\n      <th>195663</th>\n      <td>69.0</td>\n      <td>7.0</td>\n      <td>24.0</td>\n      <td>1.0</td>\n      <td>2040.0</td>\n      <td>207.0</td>\n      <td>0.0</td>\n      <td>45.0</td>\n      <td>1.0</td>\n      <td>6.0</td>\n      <td>100000.0</td>\n    </tr>\n    <tr>\n      <th>195664</th>\n      <td>40.0</td>\n      <td>1.0</td>\n      <td>17.0</td>\n      <td>1.0</td>\n      <td>9600.0</td>\n      <td>303.0</td>\n      <td>0.0</td>\n      <td>40.0</td>\n      <td>1.0</td>\n      <td>8.0</td>\n      <td>100000.0</td>\n    </tr>\n  </tbody>\n</table>\n<p>195665 rows × 11 columns</p>\n</div>"
     },
     "execution_count": 69,
     "metadata": {},
     "output_type": "execute_result"
    }
   ],
   "source": [
    "get_state('CA')"
   ],
   "metadata": {
    "collapsed": false
   }
  },
  {
   "cell_type": "code",
   "execution_count": null,
   "outputs": [],
   "source": [],
   "metadata": {
    "collapsed": false
   }
  }
 ],
 "metadata": {
  "kernelspec": {
   "display_name": "Python 3 (ipykernel)",
   "language": "python",
   "name": "python3"
  },
  "language_info": {
   "codemirror_mode": {
    "name": "ipython",
    "version": 3
   },
   "file_extension": ".py",
   "mimetype": "text/x-python",
   "name": "python",
   "nbconvert_exporter": "python",
   "pygments_lexer": "ipython3",
   "version": "3.9.13"
  }
 },
 "nbformat": 4,
 "nbformat_minor": 1
}
