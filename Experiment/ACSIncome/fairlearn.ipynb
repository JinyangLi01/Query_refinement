{
 "cells": [
  {
   "cell_type": "code",
   "execution_count": 1,
   "metadata": {
    "collapsed": true
   },
   "outputs": [],
   "source": [
    "import os\n",
    "import time\n",
    "\n",
    "import matplotlib.pyplot as plt\n",
    "import matplotlib as mpl\n",
    "import numpy as np\n",
    "import pandas as pd\n",
    "import seaborn as sns\n",
    "sns.set_style('whitegrid', {'axes.edgecolor': '.2'})\n",
    "sns.set_context('notebook', font_scale=1.4)\n",
    "\n",
    "from fairlearn.datasets import fetch_acs_income"
   ]
  },
  {
   "cell_type": "markdown",
   "source": [
    "# get data"
   ],
   "metadata": {
    "collapsed": false
   }
  },
  {
   "cell_type": "code",
   "execution_count": 9,
   "outputs": [],
   "source": [
    "# output = fetch_acs_income(cache=True, data_home=None,\n",
    "#                           as_frame=True, return_X_y=True,\n",
    "#                           states=None,  # fetch all states\n",
    "#                          )\n",
    "# X, y = output\n",
    "# X['PINCP'] = y\n",
    "# X.to_csv('data/acs_income.csv', index=False)"
   ],
   "metadata": {
    "collapsed": false
   }
  },
  {
   "cell_type": "code",
   "execution_count": 10,
   "outputs": [
    {
     "data": {
      "text/plain": "   AGEP  COW  SCHL  MAR    OCCP  POBP  RELP  WKHP  SEX  RAC1P    PINCP\n0  18.0  1.0  18.0  5.0  4720.0  13.0  17.0  21.0  2.0    2.0   1600.0\n1  53.0  5.0  17.0  5.0  3605.0  18.0  16.0  40.0  1.0    1.0  10000.0\n2  41.0  1.0  16.0  5.0  7330.0   1.0  17.0  40.0  1.0    1.0  24000.0\n3  18.0  6.0  18.0  5.0  2722.0   1.0  17.0   2.0  2.0    1.0    180.0\n4  21.0  5.0  19.0  5.0  3870.0  12.0  17.0  50.0  1.0    1.0  29000.0",
      "text/html": "<div>\n<style scoped>\n    .dataframe tbody tr th:only-of-type {\n        vertical-align: middle;\n    }\n\n    .dataframe tbody tr th {\n        vertical-align: top;\n    }\n\n    .dataframe thead th {\n        text-align: right;\n    }\n</style>\n<table border=\"1\" class=\"dataframe\">\n  <thead>\n    <tr style=\"text-align: right;\">\n      <th></th>\n      <th>AGEP</th>\n      <th>COW</th>\n      <th>SCHL</th>\n      <th>MAR</th>\n      <th>OCCP</th>\n      <th>POBP</th>\n      <th>RELP</th>\n      <th>WKHP</th>\n      <th>SEX</th>\n      <th>RAC1P</th>\n      <th>PINCP</th>\n    </tr>\n  </thead>\n  <tbody>\n    <tr>\n      <th>0</th>\n      <td>18.0</td>\n      <td>1.0</td>\n      <td>18.0</td>\n      <td>5.0</td>\n      <td>4720.0</td>\n      <td>13.0</td>\n      <td>17.0</td>\n      <td>21.0</td>\n      <td>2.0</td>\n      <td>2.0</td>\n      <td>1600.0</td>\n    </tr>\n    <tr>\n      <th>1</th>\n      <td>53.0</td>\n      <td>5.0</td>\n      <td>17.0</td>\n      <td>5.0</td>\n      <td>3605.0</td>\n      <td>18.0</td>\n      <td>16.0</td>\n      <td>40.0</td>\n      <td>1.0</td>\n      <td>1.0</td>\n      <td>10000.0</td>\n    </tr>\n    <tr>\n      <th>2</th>\n      <td>41.0</td>\n      <td>1.0</td>\n      <td>16.0</td>\n      <td>5.0</td>\n      <td>7330.0</td>\n      <td>1.0</td>\n      <td>17.0</td>\n      <td>40.0</td>\n      <td>1.0</td>\n      <td>1.0</td>\n      <td>24000.0</td>\n    </tr>\n    <tr>\n      <th>3</th>\n      <td>18.0</td>\n      <td>6.0</td>\n      <td>18.0</td>\n      <td>5.0</td>\n      <td>2722.0</td>\n      <td>1.0</td>\n      <td>17.0</td>\n      <td>2.0</td>\n      <td>2.0</td>\n      <td>1.0</td>\n      <td>180.0</td>\n    </tr>\n    <tr>\n      <th>4</th>\n      <td>21.0</td>\n      <td>5.0</td>\n      <td>19.0</td>\n      <td>5.0</td>\n      <td>3870.0</td>\n      <td>12.0</td>\n      <td>17.0</td>\n      <td>50.0</td>\n      <td>1.0</td>\n      <td>1.0</td>\n      <td>29000.0</td>\n    </tr>\n  </tbody>\n</table>\n</div>"
     },
     "execution_count": 10,
     "metadata": {},
     "output_type": "execute_result"
    }
   ],
   "source": [
    "# X.head()"
   ],
   "metadata": {
    "collapsed": false
   }
  },
  {
   "cell_type": "code",
   "execution_count": 11,
   "outputs": [
    {
     "data": {
      "text/plain": "               AGEP           COW          SCHL           MAR          OCCP  \\\ncount  1.664500e+06  1.664500e+06  1.664500e+06  1.664500e+06  1.664500e+06   \nmean   4.341127e+01  2.077500e+00  1.861814e+01  2.521997e+00  4.180517e+03   \nstd    1.530203e+01  1.825338e+00  3.297826e+00  1.796720e+00  2.658717e+03   \nmin    1.700000e+01  1.000000e+00  1.000000e+00  1.000000e+00  1.000000e+01   \n25%    3.000000e+01  1.000000e+00  1.600000e+01  1.000000e+00  2.205000e+03   \n50%    4.300000e+01  1.000000e+00  1.900000e+01  1.000000e+00  4.200000e+03   \n75%    5.600000e+01  3.000000e+00  2.100000e+01  5.000000e+00  5.740000e+03   \nmax    9.600000e+01  8.000000e+00  2.400000e+01  5.000000e+00  9.830000e+03   \n\n               POBP          RELP          WKHP           SEX         RAC1P  \\\ncount  1.664500e+06  1.664500e+06  1.664500e+06  1.664500e+06  1.664500e+06   \nmean   6.581708e+01  2.241254e+00  3.833390e+01  1.479282e+00  1.874745e+00   \nstd    9.306245e+01  4.385288e+00  1.308073e+01  4.995707e-01  2.084384e+00   \nmin    1.000000e+00  0.000000e+00  1.000000e+00  1.000000e+00  1.000000e+00   \n25%    1.800000e+01  0.000000e+00  3.500000e+01  1.000000e+00  1.000000e+00   \n50%    3.600000e+01  1.000000e+00  4.000000e+01  1.000000e+00  1.000000e+00   \n75%    4.800000e+01  2.000000e+00  4.400000e+01  2.000000e+00  1.000000e+00   \nmax    5.540000e+02  1.700000e+01  9.900000e+01  2.000000e+00  9.000000e+00   \n\n              PINCP  \ncount  1.664500e+06  \nmean   5.666386e+04  \nstd    7.306745e+04  \nmin    1.040000e+02  \n25%    2.000000e+04  \n50%    3.900000e+04  \n75%    6.800000e+04  \nmax    1.423000e+06  ",
      "text/html": "<div>\n<style scoped>\n    .dataframe tbody tr th:only-of-type {\n        vertical-align: middle;\n    }\n\n    .dataframe tbody tr th {\n        vertical-align: top;\n    }\n\n    .dataframe thead th {\n        text-align: right;\n    }\n</style>\n<table border=\"1\" class=\"dataframe\">\n  <thead>\n    <tr style=\"text-align: right;\">\n      <th></th>\n      <th>AGEP</th>\n      <th>COW</th>\n      <th>SCHL</th>\n      <th>MAR</th>\n      <th>OCCP</th>\n      <th>POBP</th>\n      <th>RELP</th>\n      <th>WKHP</th>\n      <th>SEX</th>\n      <th>RAC1P</th>\n      <th>PINCP</th>\n    </tr>\n  </thead>\n  <tbody>\n    <tr>\n      <th>count</th>\n      <td>1.664500e+06</td>\n      <td>1.664500e+06</td>\n      <td>1.664500e+06</td>\n      <td>1.664500e+06</td>\n      <td>1.664500e+06</td>\n      <td>1.664500e+06</td>\n      <td>1.664500e+06</td>\n      <td>1.664500e+06</td>\n      <td>1.664500e+06</td>\n      <td>1.664500e+06</td>\n      <td>1.664500e+06</td>\n    </tr>\n    <tr>\n      <th>mean</th>\n      <td>4.341127e+01</td>\n      <td>2.077500e+00</td>\n      <td>1.861814e+01</td>\n      <td>2.521997e+00</td>\n      <td>4.180517e+03</td>\n      <td>6.581708e+01</td>\n      <td>2.241254e+00</td>\n      <td>3.833390e+01</td>\n      <td>1.479282e+00</td>\n      <td>1.874745e+00</td>\n      <td>5.666386e+04</td>\n    </tr>\n    <tr>\n      <th>std</th>\n      <td>1.530203e+01</td>\n      <td>1.825338e+00</td>\n      <td>3.297826e+00</td>\n      <td>1.796720e+00</td>\n      <td>2.658717e+03</td>\n      <td>9.306245e+01</td>\n      <td>4.385288e+00</td>\n      <td>1.308073e+01</td>\n      <td>4.995707e-01</td>\n      <td>2.084384e+00</td>\n      <td>7.306745e+04</td>\n    </tr>\n    <tr>\n      <th>min</th>\n      <td>1.700000e+01</td>\n      <td>1.000000e+00</td>\n      <td>1.000000e+00</td>\n      <td>1.000000e+00</td>\n      <td>1.000000e+01</td>\n      <td>1.000000e+00</td>\n      <td>0.000000e+00</td>\n      <td>1.000000e+00</td>\n      <td>1.000000e+00</td>\n      <td>1.000000e+00</td>\n      <td>1.040000e+02</td>\n    </tr>\n    <tr>\n      <th>25%</th>\n      <td>3.000000e+01</td>\n      <td>1.000000e+00</td>\n      <td>1.600000e+01</td>\n      <td>1.000000e+00</td>\n      <td>2.205000e+03</td>\n      <td>1.800000e+01</td>\n      <td>0.000000e+00</td>\n      <td>3.500000e+01</td>\n      <td>1.000000e+00</td>\n      <td>1.000000e+00</td>\n      <td>2.000000e+04</td>\n    </tr>\n    <tr>\n      <th>50%</th>\n      <td>4.300000e+01</td>\n      <td>1.000000e+00</td>\n      <td>1.900000e+01</td>\n      <td>1.000000e+00</td>\n      <td>4.200000e+03</td>\n      <td>3.600000e+01</td>\n      <td>1.000000e+00</td>\n      <td>4.000000e+01</td>\n      <td>1.000000e+00</td>\n      <td>1.000000e+00</td>\n      <td>3.900000e+04</td>\n    </tr>\n    <tr>\n      <th>75%</th>\n      <td>5.600000e+01</td>\n      <td>3.000000e+00</td>\n      <td>2.100000e+01</td>\n      <td>5.000000e+00</td>\n      <td>5.740000e+03</td>\n      <td>4.800000e+01</td>\n      <td>2.000000e+00</td>\n      <td>4.400000e+01</td>\n      <td>2.000000e+00</td>\n      <td>1.000000e+00</td>\n      <td>6.800000e+04</td>\n    </tr>\n    <tr>\n      <th>max</th>\n      <td>9.600000e+01</td>\n      <td>8.000000e+00</td>\n      <td>2.400000e+01</td>\n      <td>5.000000e+00</td>\n      <td>9.830000e+03</td>\n      <td>5.540000e+02</td>\n      <td>1.700000e+01</td>\n      <td>9.900000e+01</td>\n      <td>2.000000e+00</td>\n      <td>9.000000e+00</td>\n      <td>1.423000e+06</td>\n    </tr>\n  </tbody>\n</table>\n</div>"
     },
     "execution_count": 11,
     "metadata": {},
     "output_type": "execute_result"
    }
   ],
   "source": [
    "# X.describe()"
   ],
   "metadata": {
    "collapsed": false
   }
  },
  {
   "cell_type": "code",
   "execution_count": 14,
   "outputs": [
    {
     "data": {
      "text/plain": "1664500"
     },
     "execution_count": 14,
     "metadata": {},
     "output_type": "execute_result"
    }
   ],
   "source": [
    "# df = pd.read_csv('data/acs_income.csv')\n",
    "# df.SEX.replace(1, 'M', inplace=True)\n",
    "# df.SEX.replace(2, 'F', inplace=True)\n",
    "# len(df)"
   ],
   "metadata": {
    "collapsed": false
   }
  },
  {
   "cell_type": "code",
   "execution_count": 15,
   "outputs": [],
   "source": [
    "# df.to_csv('data/acs_income.csv', index=False)"
   ],
   "metadata": {
    "collapsed": false
   }
  },
  {
   "cell_type": "markdown",
   "source": [
    "# bucktize age"
   ],
   "metadata": {
    "collapsed": false
   }
  },
  {
   "cell_type": "code",
   "execution_count": 21,
   "outputs": [
    {
     "name": "stdout",
     "output_type": "stream",
     "text": [
      "1664500\n",
      "[18. 53. 41. 21. 37. 19. 51. 34. 20. 25. 42. 39. 31. 28. 36. 47. 26. 24.\n",
      " 56. 48. 38. 29. 30. 46. 50. 22. 44. 57. 33. 35. 52. 27. 49. 55. 64. 54.\n",
      " 62. 32. 23. 17. 43. 60. 69. 63. 40. 45. 70. 71. 58. 59. 61. 73. 66. 67.\n",
      " 65. 68. 86. 75. 72. 84. 77. 76. 79. 83. 78. 87. 74. 81. 82. 80. 93. 89.\n",
      " 85. 88. 91. 94. 90. 96. 92. 95.]\n"
     ]
    }
   ],
   "source": [
    "data = pd.read_csv('data/acs_income.csv')\n",
    "print(len(data))\n",
    "print(data['AGEP'].unique())\n"
   ],
   "metadata": {
    "collapsed": false
   }
  },
  {
   "cell_type": "code",
   "execution_count": 22,
   "outputs": [
    {
     "name": "stdout",
     "output_type": "stream",
     "text": [
      "['0-30', '30-60', '60+']\n",
      "Categories (3, object): ['0-30' < '30-60' < '60+']\n",
      "   AGEP  COW  SCHL  MAR    OCCP  POBP  RELP  WKHP SEX  RAC1P    PINCP  \\\n",
      "0  18.0  1.0  18.0  5.0  4720.0  13.0  17.0  21.0   F    2.0   1600.0   \n",
      "1  53.0  5.0  17.0  5.0  3605.0  18.0  16.0  40.0   M    1.0  10000.0   \n",
      "2  41.0  1.0  16.0  5.0  7330.0   1.0  17.0  40.0   M    1.0  24000.0   \n",
      "3  18.0  6.0  18.0  5.0  2722.0   1.0  17.0   2.0   F    1.0    180.0   \n",
      "4  21.0  5.0  19.0  5.0  3870.0  12.0  17.0  50.0   M    1.0  29000.0   \n",
      "\n",
      "  age_bucket  \n",
      "0       0-30  \n",
      "1      30-60  \n",
      "2      30-60  \n",
      "3       0-30  \n",
      "4       0-30  \n"
     ]
    }
   ],
   "source": [
    "bins = [0, 30, 60, float(\"inf\")]\n",
    "labels = ['0-30', '30-60', '60+']\n",
    "data['age_bucket'] = pd.cut(data['AGEP'], bins=bins, labels=labels)\n",
    "print(data['age_bucket'].unique())\n",
    "print(data[:5])"
   ],
   "metadata": {
    "collapsed": false
   }
  },
  {
   "cell_type": "code",
   "execution_count": 23,
   "outputs": [],
   "source": [
    "data.to_csv('data/acs_income.csv', index=False)"
   ],
   "metadata": {
    "collapsed": false
   }
  },
  {
   "cell_type": "markdown",
   "source": [
    "# bucktize occupation"
   ],
   "metadata": {
    "collapsed": false
   }
  },
  {
   "cell_type": "code",
   "execution_count": null,
   "outputs": [],
   "source": [],
   "metadata": {
    "collapsed": false
   }
  },
  {
   "cell_type": "code",
   "execution_count": 8,
   "outputs": [],
   "source": [
    "data = pd.read_csv('data/acs_income.csv')"
   ],
   "metadata": {
    "collapsed": false
   }
  },
  {
   "cell_type": "code",
   "execution_count": 20,
   "outputs": [
    {
     "name": "stdout",
     "output_type": "stream",
     "text": [
      "['SRO' 'HSO' 'IMRW' 'ASESMO' 'PSO' 'TMMO' 'OASO' 'BGCMO' 'PCSO' 'FPASO'\n",
      " 'ETLO' 'BOS' 'PO' 'MBSA' 'CEO' 'AEO' 'FFFO' 'CMO' 'LO' 'MSO' 'LPSSO' 'FS'\n",
      " 'HPTO' 'CSSO' 'EW']\n",
      "   AGEP  COW  SCHL  MAR    OCCP  POBP  RELP  WKHP SEX  RAC1P    PINCP  \\\n",
      "0  18.0  1.0  18.0  5.0  4720.0  13.0  17.0  21.0   F    2.0   1600.0   \n",
      "1  53.0  5.0  17.0  5.0  3605.0  18.0  16.0  40.0   M    1.0  10000.0   \n",
      "2  41.0  1.0  16.0  5.0  7330.0   1.0  17.0  40.0   M    1.0  24000.0   \n",
      "3  18.0  6.0  18.0  5.0  2722.0   1.0  17.0   2.0   F    1.0    180.0   \n",
      "4  21.0  5.0  19.0  5.0  3870.0  12.0  17.0  50.0   M    1.0  29000.0   \n",
      "\n",
      "  age_bucket OCCP_bucket  \n",
      "0       0-30         SRO  \n",
      "1      30-60         HSO  \n",
      "2      30-60        IMRW  \n",
      "3       0-30      ASESMO  \n",
      "4       0-30         PSO  \n"
     ]
    }
   ],
   "source": [
    "\n",
    "# occupation code at https://usa.ipums.org/usa/volii/c2ssoccup.shtml\n",
    "# N/A: 0\n",
    "# Management, Business, Science, and Arts Occupations: 0010 - 0425\n",
    "# Business Operations Specialists: 0500 - 750\n",
    "# Financial Specialists: 0800 - 0950\n",
    "# Computer and Mathematical Occupations: 1000 - 1220\n",
    "# Architecture and Engineering Occupations: 1300 - 1560\n",
    "# Life, Physical, and Social Science Occupations: 1600 - 1965\n",
    "# Community and Social Service Occupations: 2000 - 2060\n",
    "# Legal Occupations: 2100 - 2160\n",
    "# Education, Training, and Library Occupations: 2200 - 2550\n",
    "# Arts, Design, Entertainment, Sports, and Media Occupations: 2600 - 2920\n",
    "# Healthcare Practitioners and Technical Occupations: 3000 - 3540\n",
    "# Healthcare Support Occupations: 3600 - 3655\n",
    "# Protective Service Occupations: 3700 - 3955\n",
    "# Food Preparation and Serving Occupations: 4000 - 4160\n",
    "# Building and Grounds Cleaning and Maintenance Occupations: 4200 - 4290\n",
    "# Personal Care and Service Occupations: 4300 - 4650\n",
    "# Sales and Related Occupations: 4700 - 4965\n",
    "# Office and Administrative Support Occupations: 5000 - 5940\n",
    "# Farming, Fishing, and Forestry Occupations: 6000 - 6130\n",
    "# Construction and Extraction Occupations: 6200 - 6765\n",
    "# Extraction Workers: 6800 - 6940\n",
    "# Installation, Maintenance, and Repair Workers: 7000 - 7640\n",
    "# Production Occupations: 7700 - 8990\n",
    "# Transportation and Material Moving Occupations: 9000 - 9750\n",
    "# Military Specific Occupations: 9800 - 9920\n",
    "\n",
    "def categorize_occupation(code):\n",
    "    if code == 0:\n",
    "        return 'N/A'\n",
    "    elif 10 <= code <= 450:\n",
    "        return 'MBSA'\n",
    "    elif 500 <= code <= 750:\n",
    "        return 'BOS'\n",
    "    elif 800 <= code < 1000:\n",
    "        return 'FS'\n",
    "    elif 1000 <= code < 1300:\n",
    "        return 'CMO'\n",
    "    elif 1300 <= code < 1600:\n",
    "        return 'AEO'\n",
    "    elif 1600 <= code < 2000:\n",
    "        return 'LPSSO'\n",
    "    elif 2000 <= code < 2100:\n",
    "        return 'CSSO'\n",
    "    elif 2100 <= code < 2200:\n",
    "        return 'LO'\n",
    "    elif 2200 <= code < 2600:\n",
    "        return 'ETLO'\n",
    "    elif 2600 <= code <= 2920:\n",
    "        return 'ASESMO'\n",
    "    elif 3000 <= code <= 3590:\n",
    "        return  'HPTO'\n",
    "    elif 3600 <= code < 3700:\n",
    "        return 'HSO'\n",
    "    elif 3700 <= code < 4000:\n",
    "        return 'PSO'\n",
    "    elif 4000 <= code < 4200:\n",
    "        return 'FPASO'\n",
    "    elif 4200 <= code < 4300:\n",
    "        return 'BGCMO'\n",
    "    elif 4300 <= code < 4700:\n",
    "        return 'PCSO'\n",
    "    elif 4700 <= code <= 4965:\n",
    "        return 'SRO'\n",
    "    elif 5000 <= code <= 5940:\n",
    "        return 'OASO'\n",
    "    elif 6000 <= code <= 6130:\n",
    "        return 'FFFO'\n",
    "    elif 6200 <= code < 6800:\n",
    "        return 'CEO'\n",
    "    elif 6800 <= code < 7000:\n",
    "        return 'EW'\n",
    "    elif 7000 <= code < 7700:\n",
    "        return 'IMRW'\n",
    "    elif 7700 <= code <= 8990:\n",
    "        return 'PO'\n",
    "    elif 9000 <= code <= 9760:\n",
    "        return 'TMMO'\n",
    "    elif 9800 <= code <= 9920:\n",
    "        return 'MSO'\n",
    "    else:\n",
    "        raise Exception('Unknown occupation code: {}'.format(code))\n",
    "\n",
    "\n",
    "    # Add more categories based on the given labels\n",
    "\n",
    "data['OCCP_bucket'] = data['OCCP'].apply(categorize_occupation)\n",
    "\n",
    "\n",
    "print(data['OCCP_bucket'].unique())\n",
    "print(data[:5])"
   ],
   "metadata": {
    "collapsed": false
   }
  },
  {
   "cell_type": "code",
   "execution_count": 21,
   "outputs": [],
   "source": [
    "data.to_csv('data/acs_income.csv', index=False)"
   ],
   "metadata": {
    "collapsed": false
   }
  },
  {
   "cell_type": "code",
   "execution_count": null,
   "outputs": [],
   "source": [],
   "metadata": {
    "collapsed": false,
    "pycharm": {
     "is_executing": true
    }
   }
  },
  {
   "cell_type": "code",
   "execution_count": null,
   "outputs": [],
   "source": [],
   "metadata": {
    "collapsed": false,
    "pycharm": {
     "is_executing": true
    }
   }
  },
  {
   "cell_type": "code",
   "execution_count": 24,
   "outputs": [
    {
     "data": {
      "text/plain": "92244"
     },
     "execution_count": 24,
     "metadata": {},
     "output_type": "execute_result"
    }
   ],
   "source": [
    "len(data[data['POBP'] == 48])"
   ],
   "metadata": {
    "collapsed": false
   }
  },
  {
   "cell_type": "code",
   "execution_count": 25,
   "outputs": [
    {
     "data": {
      "text/plain": "139833"
     },
     "execution_count": 25,
     "metadata": {},
     "output_type": "execute_result"
    }
   ],
   "source": [
    "len(data[data['POBP'] == 6])"
   ],
   "metadata": {
    "collapsed": false
   }
  },
  {
   "cell_type": "code",
   "execution_count": null,
   "outputs": [],
   "source": [],
   "metadata": {
    "collapsed": false
   }
  },
  {
   "cell_type": "markdown",
   "source": [
    "# bucketize PINCP"
   ],
   "metadata": {
    "collapsed": false
   }
  },
  {
   "cell_type": "code",
   "execution_count": 4,
   "outputs": [
    {
     "name": "stdout",
     "output_type": "stream",
     "text": [
      "1664500\n"
     ]
    }
   ],
   "source": [
    "data = pd.read_csv('data/acs_income.csv')\n",
    "print(len(data))\n",
    "\n"
   ],
   "metadata": {
    "collapsed": false
   }
  },
  {
   "cell_type": "code",
   "execution_count": 5,
   "outputs": [
    {
     "name": "stdout",
     "output_type": "stream",
     "text": [
      "               AGEP           COW          SCHL           MAR          OCCP  \\\n",
      "count  1.664500e+06  1.664500e+06  1.664500e+06  1.664500e+06  1.664500e+06   \n",
      "mean   4.341127e+01  2.077500e+00  1.861814e+01  2.521997e+00  4.180517e+03   \n",
      "std    1.530203e+01  1.825338e+00  3.297826e+00  1.796720e+00  2.658717e+03   \n",
      "min    1.700000e+01  1.000000e+00  1.000000e+00  1.000000e+00  1.000000e+01   \n",
      "25%    3.000000e+01  1.000000e+00  1.600000e+01  1.000000e+00  2.205000e+03   \n",
      "50%    4.300000e+01  1.000000e+00  1.900000e+01  1.000000e+00  4.200000e+03   \n",
      "75%    5.600000e+01  3.000000e+00  2.100000e+01  5.000000e+00  5.740000e+03   \n",
      "max    9.600000e+01  8.000000e+00  2.400000e+01  5.000000e+00  9.830000e+03   \n",
      "\n",
      "               POBP          RELP          WKHP         RAC1P         PINCP  \n",
      "count  1.664500e+06  1.664500e+06  1.664500e+06  1.664500e+06  1.664500e+06  \n",
      "mean   6.581708e+01  2.241254e+00  3.833390e+01  1.874745e+00  5.666386e+04  \n",
      "std    9.306245e+01  4.385288e+00  1.308073e+01  2.084384e+00  7.306745e+04  \n",
      "min    1.000000e+00  0.000000e+00  1.000000e+00  1.000000e+00  1.040000e+02  \n",
      "25%    1.800000e+01  0.000000e+00  3.500000e+01  1.000000e+00  2.000000e+04  \n",
      "50%    3.600000e+01  1.000000e+00  4.000000e+01  1.000000e+00  3.900000e+04  \n",
      "75%    4.800000e+01  2.000000e+00  4.400000e+01  1.000000e+00  6.800000e+04  \n",
      "max    5.540000e+02  1.700000e+01  9.900000e+01  9.000000e+00  1.423000e+06  \n"
     ]
    }
   ],
   "source": [
    "print(data.describe())"
   ],
   "metadata": {
    "collapsed": false
   }
  },
  {
   "cell_type": "code",
   "execution_count": 6,
   "outputs": [
    {
     "name": "stdout",
     "output_type": "stream",
     "text": [
      "['<20K', '20K-40K', '40K-60K', '>60K']\n",
      "Categories (4, object): ['<20K' < '20K-40K' < '40K-60K' < '>60K']\n",
      "   AGEP  COW  SCHL  MAR    OCCP  POBP  RELP  WKHP SEX  RAC1P    PINCP  \\\n",
      "0  18.0  1.0  18.0  5.0  4720.0  13.0  17.0  21.0   F    2.0   1600.0   \n",
      "1  53.0  5.0  17.0  5.0  3605.0  18.0  16.0  40.0   M    1.0  10000.0   \n",
      "2  41.0  1.0  16.0  5.0  7330.0   1.0  17.0  40.0   M    1.0  24000.0   \n",
      "3  18.0  6.0  18.0  5.0  2722.0   1.0  17.0   2.0   F    1.0    180.0   \n",
      "4  21.0  5.0  19.0  5.0  3870.0  12.0  17.0  50.0   M    1.0  29000.0   \n",
      "\n",
      "  age_bucket OCCP_bucket  all PINCP_bucket  \n",
      "0       0-30         SRO  yes         <20K  \n",
      "1      30-60         HSO  yes         <20K  \n",
      "2      30-60        IMRW  yes      20K-40K  \n",
      "3       0-30      ASESMO  yes         <20K  \n",
      "4       0-30         PSO  yes      20K-40K  \n"
     ]
    }
   ],
   "source": [
    "bins = [0, 20000, 40000, 60000, float(\"inf\")]\n",
    "labels = ['<20K', '20K-40K', '40K-60K', '>60K']\n",
    "data['PINCP_bucket'] = pd.cut(data['PINCP'], bins=bins, labels=labels)\n",
    "print(data['PINCP_bucket'].unique())\n",
    "print(data[:5])"
   ],
   "metadata": {
    "collapsed": false
   }
  },
  {
   "cell_type": "code",
   "execution_count": 7,
   "outputs": [],
   "source": [
    "data.to_csv('data/acs_income.csv', index=False)"
   ],
   "metadata": {
    "collapsed": false
   }
  },
  {
   "cell_type": "code",
   "execution_count": null,
   "outputs": [],
   "source": [],
   "metadata": {
    "collapsed": false
   }
  }
 ],
 "metadata": {
  "kernelspec": {
   "display_name": "Python 3",
   "language": "python",
   "name": "python3"
  },
  "language_info": {
   "codemirror_mode": {
    "name": "ipython",
    "version": 2
   },
   "file_extension": ".py",
   "mimetype": "text/x-python",
   "name": "python",
   "nbconvert_exporter": "python",
   "pygments_lexer": "ipython2",
   "version": "2.7.6"
  }
 },
 "nbformat": 4,
 "nbformat_minor": 0
}
