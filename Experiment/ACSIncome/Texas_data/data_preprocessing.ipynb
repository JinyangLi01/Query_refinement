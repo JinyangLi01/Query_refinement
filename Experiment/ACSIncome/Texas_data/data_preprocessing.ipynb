{
 "cells": [
  {
   "cell_type": "code",
   "execution_count": 3,
   "metadata": {},
   "outputs": [],
   "source": [
    "from folktables import ACSDataSource, ACSIncome, generate_categories\n",
    "import pandas as pd\n"
   ]
  },
  {
   "cell_type": "code",
   "execution_count": 4,
   "metadata": {},
   "outputs": [],
   "source": [
    "ACSIncome_categories = {\n",
    "    \"COW\": {\n",
    "        1.0: (\n",
    "            \"Employee of a private for-profit company or\"\n",
    "            \"business, or of an individual, for wages,\"\n",
    "            \"salary, or commissions\"\n",
    "        ),\n",
    "        2.0: (\n",
    "            \"Employee of a private not-for-profit, tax-exempt,\"\n",
    "            \"or charitable organization\"\n",
    "        ),\n",
    "        3.0: \"Local government employee (city, county, etc.)\",\n",
    "        4.0: \"State government employee\",\n",
    "        5.0: \"Federal government employee\",\n",
    "        6.0: (\n",
    "            \"Self-employed in own not incorporated business,\"\n",
    "            \"professional practice, or farm\"\n",
    "        ),\n",
    "        7.0: (\n",
    "            \"Self-employed in own incorporated business,\"\n",
    "            \"professional practice or farm\"\n",
    "        ),\n",
    "        8.0: \"Working without pay in family business or farm\",\n",
    "        9.0: \"Unemployed and last worked 5 years ago or earlier or never worked\",\n",
    "    },\n",
    "    \"SCHL\": {\n",
    "        1.0: \"No schooling completed\",\n",
    "        2.0: \"Nursery school, preschool\",\n",
    "        3.0: \"Kindergarten\",\n",
    "        4.0: \"Grade 1\",\n",
    "        5.0: \"Grade 2\",\n",
    "        6.0: \"Grade 3\",\n",
    "        7.0: \"Grade 4\",\n",
    "        8.0: \"Grade 5\",\n",
    "        9.0: \"Grade 6\",\n",
    "        10.0: \"Grade 7\",\n",
    "        11.0: \"Grade 8\",\n",
    "        12.0: \"Grade 9\",\n",
    "        13.0: \"Grade 10\",\n",
    "        14.0: \"Grade 11\",\n",
    "        15.0: \"12th grade - no diploma\",\n",
    "        16.0: \"Regular high school diploma\",\n",
    "        17.0: \"GED or alternative credential\",\n",
    "        18.0: \"Some college, but less than 1 year\",\n",
    "        19.0: \"1 or more years of college credit, no degree\",\n",
    "        20.0: \"Associate's degree\",\n",
    "        21.0: \"Bachelor's degree\",\n",
    "        22.0: \"Master's degree\",\n",
    "        23.0: \"Professional degree beyond a bachelor's degree\",\n",
    "        24.0: \"Doctorate degree\",\n",
    "    },\n",
    "    \"MAR\": {\n",
    "        1.0: \"Married\",\n",
    "        2.0: \"Widowed\",\n",
    "        3.0: \"Divorced\",\n",
    "        4.0: \"Separated\",\n",
    "        5.0: \"Never married or under 15 years old\",\n",
    "    },\n",
    "    \"SEX\": {1.0: \"Male\", 2.0: \"Female\"},\n",
    "    \"RAC1P\": {\n",
    "        1.0: \"White alone\",\n",
    "        2.0: \"Black or African American alone\",\n",
    "        3.0: \"American Indian alone\",\n",
    "        4.0: \"Alaska Native alone\",\n",
    "        5.0: (\n",
    "            \"American Indian and Alaska Native tribes specified;\"\n",
    "            \"or American Indian or Alaska Native,\"\n",
    "            \"not specified and no other\"\n",
    "        ),\n",
    "        6.0: \"Asian alone\",\n",
    "        7.0: \"Native Hawaiian and Other Pacific Islander alone\",\n",
    "        8.0: \"Some Other Race alone\",\n",
    "        9.0: \"Two or More Races\",\n",
    "    },\n",
    "}"
   ]
  },
  {
   "cell_type": "markdown",
   "source": [],
   "metadata": {
    "collapsed": false
   }
  },
  {
   "cell_type": "markdown",
   "source": [
    "# Texas data"
   ],
   "metadata": {
    "collapsed": false
   }
  },
  {
   "cell_type": "code",
   "execution_count": 7,
   "outputs": [
    {
     "data": {
      "text/plain": "135924"
     },
     "execution_count": 7,
     "metadata": {},
     "output_type": "execute_result"
    }
   ],
   "source": [
    "data = pd.read_csv('../data/TX_data.csv')\n",
    "len(data)"
   ],
   "metadata": {
    "collapsed": false
   }
  },
  {
   "cell_type": "code",
   "execution_count": 63,
   "outputs": [],
   "source": [
    "\n",
    "def get_state(state):\n",
    "    data = data_source.get_data(states=[state], download=True)\n",
    "    features, labels, groups = ACSIncome.df_to_pandas(data, categories=ACSIncome.features, dummies=True)\n",
    "    features['PINCP'] = data['PINCP']\n",
    "    features.to_csv(f'data/{state}_data.csv', index=False)\n",
    "    print(\"state {} have data {}\".format(state, len(data)))\n",
    "    return features\n",
    "\n"
   ],
   "metadata": {
    "collapsed": false
   }
  },
  {
   "cell_type": "code",
   "execution_count": 8,
   "outputs": [
    {
     "name": "stdout",
     "output_type": "stream",
     "text": [
      "['HPTO' 'SRO' 'FPASO' 'BGCMO' 'CEO' 'CSSO' 'TMMO' 'MBSA' 'LPSSO' 'OASO'\n",
      " 'MSO' 'PCSO' 'PSO' 'PO' 'ETLO' 'ASESMO' 'FFFO' 'HSO' 'IMRW' 'FS' 'LO'\n",
      " 'BOS' 'CMO' 'EW' 'AEO']\n",
      "   AGEP  COW  SCHL  MAR    OCCP  POBP  RELP  WKHP  SEX  RAC1P    PINCP  \\\n",
      "0  21.0  3.0  16.0  5.0  3500.0  48.0  17.0  10.0  2.0    2.0   3200.0   \n",
      "1  20.0  1.0  16.0  5.0  4720.0  39.0  17.0  50.0  2.0    1.0      0.0   \n",
      "2  31.0  1.0  17.0  5.0  4110.0  48.0  17.0  30.0  1.0    1.0      0.0   \n",
      "3  39.0  1.0  21.0  1.0  4255.0  18.0  16.0  40.0  1.0    1.0  35000.0   \n",
      "4  18.0  1.0  16.0  5.0  4055.0  48.0  17.0  20.0  1.0    6.0  10000.0   \n",
      "\n",
      "  OCCP_bucket  \n",
      "0        HPTO  \n",
      "1         SRO  \n",
      "2       FPASO  \n",
      "3       BGCMO  \n",
      "4       FPASO  \n"
     ]
    }
   ],
   "source": [
    "\n",
    "# occupation code at https://usa.ipums.org/usa/volii/c2ssoccup.shtml\n",
    "# N/A: 0\n",
    "# Management, Business, Science, and Arts Occupations: 0010 - 0425\n",
    "# Business Operations Specialists: 0500 - 750\n",
    "# Financial Specialists: 0800 - 0950\n",
    "# Computer and Mathematical Occupations: 1000 - 1220\n",
    "# Architecture and Engineering Occupations: 1300 - 1560\n",
    "# Life, Physical, and Social Science Occupations: 1600 - 1965\n",
    "# Community and Social Service Occupations: 2000 - 2060\n",
    "# Legal Occupations: 2100 - 2160\n",
    "# Education, Training, and Library Occupations: 2200 - 2550\n",
    "# Arts, Design, Entertainment, Sports, and Media Occupations: 2600 - 2920\n",
    "# Healthcare Practitioners and Technical Occupations: 3000 - 3540\n",
    "# Healthcare Support Occupations: 3600 - 3655\n",
    "# Protective Service Occupations: 3700 - 3955\n",
    "# Food Preparation and Serving Occupations: 4000 - 4160\n",
    "# Building and Grounds Cleaning and Maintenance Occupations: 4200 - 4290\n",
    "# Personal Care and Service Occupations: 4300 - 4650\n",
    "# Sales and Related Occupations: 4700 - 4965\n",
    "# Office and Administrative Support Occupations: 5000 - 5940\n",
    "# Farming, Fishing, and Forestry Occupations: 6000 - 6130\n",
    "# Construction and Extraction Occupations: 6200 - 6765\n",
    "# Extraction Workers: 6800 - 6940\n",
    "# Installation, Maintenance, and Repair Workers: 7000 - 7640\n",
    "# Production Occupations: 7700 - 8990\n",
    "# Transportation and Material Moving Occupations: 9000 - 9750\n",
    "# Military Specific Occupations: 9800 - 9920\n",
    "\n",
    "def categorize_occupation(code):\n",
    "    if code == 0:\n",
    "        return 'N/A'\n",
    "    elif 10 <= code <= 450:\n",
    "        return 'MBSA'\n",
    "    elif 500 <= code <= 750:\n",
    "        return 'BOS'\n",
    "    elif 800 <= code < 1000:\n",
    "        return 'FS'\n",
    "    elif 1000 <= code < 1300:\n",
    "        return 'CMO'\n",
    "    elif 1300 <= code < 1600:\n",
    "        return 'AEO'\n",
    "    elif 1600 <= code < 2000:\n",
    "        return 'LPSSO'\n",
    "    elif 2000 <= code < 2100:\n",
    "        return 'CSSO'\n",
    "    elif 2100 <= code < 2200:\n",
    "        return 'LO'\n",
    "    elif 2200 <= code < 2600:\n",
    "        return 'ETLO'\n",
    "    elif 2600 <= code <= 2920:\n",
    "        return 'ASESMO'\n",
    "    elif 3000 <= code <= 3590:\n",
    "        return  'HPTO'\n",
    "    elif 3600 <= code < 3700:\n",
    "        return 'HSO'\n",
    "    elif 3700 <= code < 4000:\n",
    "        return 'PSO'\n",
    "    elif 4000 <= code < 4200:\n",
    "        return 'FPASO'\n",
    "    elif 4200 <= code < 4300:\n",
    "        return 'BGCMO'\n",
    "    elif 4300 <= code < 4700:\n",
    "        return 'PCSO'\n",
    "    elif 4700 <= code <= 4965:\n",
    "        return 'SRO'\n",
    "    elif 5000 <= code <= 5940:\n",
    "        return 'OASO'\n",
    "    elif 6000 <= code <= 6130:\n",
    "        return 'FFFO'\n",
    "    elif 6200 <= code < 6800:\n",
    "        return 'CEO'\n",
    "    elif 6800 <= code < 7000:\n",
    "        return 'EW'\n",
    "    elif 7000 <= code < 7700:\n",
    "        return 'IMRW'\n",
    "    elif 7700 <= code <= 8990:\n",
    "        return 'PO'\n",
    "    elif 9000 <= code <= 9760:\n",
    "        return 'TMMO'\n",
    "    elif 9800 <= code <= 9920:\n",
    "        return 'MSO'\n",
    "    else:\n",
    "        raise Exception('Unknown occupation code: {}'.format(code))\n",
    "\n",
    "\n",
    "    # Add more categories based on the given labels\n",
    "\n",
    "data['OCCP_bucket'] = data['OCCP'].apply(categorize_occupation)\n",
    "\n",
    "\n",
    "print(data['OCCP_bucket'].unique())\n",
    "print(data[:5])"
   ],
   "metadata": {
    "collapsed": false
   }
  },
  {
   "cell_type": "code",
   "execution_count": 9,
   "outputs": [
    {
     "name": "stdout",
     "output_type": "stream",
     "text": [
      "['0-30', '30-60', '60+']\n",
      "Categories (3, object): ['0-30' < '30-60' < '60+']\n",
      "   AGEP  COW  SCHL  MAR    OCCP  POBP  RELP  WKHP  SEX  RAC1P    PINCP  \\\n",
      "0  21.0  3.0  16.0  5.0  3500.0  48.0  17.0  10.0  2.0    2.0   3200.0   \n",
      "1  20.0  1.0  16.0  5.0  4720.0  39.0  17.0  50.0  2.0    1.0      0.0   \n",
      "2  31.0  1.0  17.0  5.0  4110.0  48.0  17.0  30.0  1.0    1.0      0.0   \n",
      "3  39.0  1.0  21.0  1.0  4255.0  18.0  16.0  40.0  1.0    1.0  35000.0   \n",
      "4  18.0  1.0  16.0  5.0  4055.0  48.0  17.0  20.0  1.0    6.0  10000.0   \n",
      "\n",
      "  OCCP_bucket age_bucket  \n",
      "0        HPTO       0-30  \n",
      "1         SRO       0-30  \n",
      "2       FPASO      30-60  \n",
      "3       BGCMO      30-60  \n",
      "4       FPASO       0-30  \n"
     ]
    }
   ],
   "source": [
    "bins = [0, 30, 60, float(\"inf\")]\n",
    "labels = ['0-30', '30-60', '60+']\n",
    "data['age_bucket'] = pd.cut(data['AGEP'], bins=bins, labels=labels)\n",
    "print(data['age_bucket'].unique())\n",
    "print(data[:5])"
   ],
   "metadata": {
    "collapsed": false
   }
  },
  {
   "cell_type": "code",
   "execution_count": 10,
   "outputs": [
    {
     "data": {
      "text/plain": "Index(['AGEP', 'COW', 'SCHL', 'MAR', 'OCCP', 'POBP', 'RELP', 'WKHP', 'SEX',\n       'RAC1P', 'PINCP', 'OCCP_bucket', 'age_bucket'],\n      dtype='object')"
     },
     "execution_count": 10,
     "metadata": {},
     "output_type": "execute_result"
    }
   ],
   "source": [
    "data.columns"
   ],
   "metadata": {
    "collapsed": false
   }
  },
  {
   "cell_type": "code",
   "execution_count": 13,
   "outputs": [
    {
     "name": "stdout",
     "output_type": "stream",
     "text": [
      "[2. 1.]\n"
     ]
    }
   ],
   "source": [
    "print(data['SEX'].unique())"
   ],
   "metadata": {
    "collapsed": false
   }
  },
  {
   "cell_type": "code",
   "execution_count": 14,
   "outputs": [],
   "source": [
    "data.SEX.replace(1, 'M', inplace=True)\n",
    "data.SEX.replace(2, 'F', inplace=True)"
   ],
   "metadata": {
    "collapsed": false
   }
  },
  {
   "cell_type": "code",
   "execution_count": 15,
   "outputs": [],
   "source": [
    "data.to_csv(\"../data/TX_data.csv\", index=False)"
   ],
   "metadata": {
    "collapsed": false
   }
  },
  {
   "cell_type": "code",
   "execution_count": null,
   "outputs": [],
   "source": [],
   "metadata": {
    "collapsed": false
   }
  }
 ],
 "metadata": {
  "kernelspec": {
   "display_name": "Python 3 (ipykernel)",
   "language": "python",
   "name": "python3"
  },
  "language_info": {
   "codemirror_mode": {
    "name": "ipython",
    "version": 3
   },
   "file_extension": ".py",
   "mimetype": "text/x-python",
   "name": "python",
   "nbconvert_exporter": "python",
   "pygments_lexer": "ipython3",
   "version": "3.9.13"
  }
 },
 "nbformat": 4,
 "nbformat_minor": 1
}
