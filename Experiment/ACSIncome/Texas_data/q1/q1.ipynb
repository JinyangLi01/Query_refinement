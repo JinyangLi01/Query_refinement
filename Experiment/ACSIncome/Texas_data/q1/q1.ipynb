{
 "cells": [
  {
   "cell_type": "code",
   "execution_count": 2,
   "metadata": {
    "collapsed": true
   },
   "outputs": [],
   "source": [
    "import os\n",
    "import time\n",
    "\n",
    "import matplotlib.pyplot as plt\n",
    "import matplotlib as mpl\n",
    "import numpy as np\n",
    "import pandas as pd\n",
    "import seaborn as sns\n",
    "sns.set_style('whitegrid', {'axes.edgecolor': '.2'})\n",
    "sns.set_context('notebook', font_scale=1.4)\n",
    "\n",
    "from fairlearn.datasets import fetch_acs_income"
   ]
  },
  {
   "cell_type": "code",
   "execution_count": 3,
   "outputs": [],
   "source": [
    "data = pd.read_csv('../../data/TX_data.csv', index_col=False)"
   ],
   "metadata": {
    "collapsed": false
   }
  },
  {
   "cell_type": "code",
   "execution_count": 4,
   "outputs": [
    {
     "name": "stdout",
     "output_type": "stream",
     "text": [
      "                AGEP            COW           SCHL            MAR  \\\n",
      "count  135924.000000  135924.000000  135924.000000  135924.000000   \n",
      "mean       42.964855       2.041023      18.249367       2.458528   \n",
      "std        15.092504       1.821862       3.712312       1.770848   \n",
      "min        17.000000       1.000000       1.000000       1.000000   \n",
      "25%        30.000000       1.000000      16.000000       1.000000   \n",
      "50%        43.000000       1.000000      19.000000       1.000000   \n",
      "75%        55.000000       3.000000      21.000000       5.000000   \n",
      "max        92.000000       8.000000      24.000000       5.000000   \n",
      "\n",
      "                OCCP           POBP           RELP           WKHP  \\\n",
      "count  135924.000000  135924.000000  135924.000000  135924.000000   \n",
      "mean     4199.161531      87.705578       2.007740      39.593037   \n",
      "std      2657.135602     101.211506       4.028999      13.130812   \n",
      "min        10.000000       1.000000       0.000000       1.000000   \n",
      "25%      2205.000000      47.000000       0.000000      36.000000   \n",
      "50%      4220.000000      48.000000       0.000000      40.000000   \n",
      "75%      5740.000000      48.000000       1.000000      45.000000   \n",
      "max      9830.000000     554.000000      17.000000      99.000000   \n",
      "\n",
      "                 SEX          RAC1P         PINCP  \n",
      "count  135924.000000  135924.000000  1.112540e+05  \n",
      "mean        1.468607       1.890233  3.976862e+04  \n",
      "std         0.499015       2.117392  6.418917e+04  \n",
      "min         1.000000       1.000000 -6.600000e+03  \n",
      "25%         1.000000       1.000000  5.000000e+03  \n",
      "50%         1.000000       1.000000  2.170000e+04  \n",
      "75%         2.000000       1.000000  5.000000e+04  \n",
      "max         2.000000       9.000000  1.127000e+06  \n"
     ]
    }
   ],
   "source": [
    "print(data.describe())\n"
   ],
   "metadata": {
    "collapsed": false
   }
  },
  {
   "cell_type": "code",
   "execution_count": 5,
   "outputs": [
    {
     "name": "stdout",
     "output_type": "stream",
     "text": [
      "0\n"
     ]
    }
   ],
   "source": [
    "data1 = data[(data[\"SEX\"] == \"F\") & (data[\"MAR\"] == 1)]\n",
    "print(len(data1))"
   ],
   "metadata": {
    "collapsed": false
   }
  },
  {
   "cell_type": "code",
   "execution_count": 6,
   "outputs": [
    {
     "name": "stdout",
     "output_type": "stream",
     "text": [
      "12529\n"
     ]
    }
   ],
   "source": [
    "data2 = data[(data[\"RAC1P\"] == 2)]\n",
    "print(len(data2))"
   ],
   "metadata": {
    "collapsed": false
   }
  },
  {
   "cell_type": "code",
   "execution_count": 7,
   "outputs": [
    {
     "name": "stdout",
     "output_type": "stream",
     "text": [
      "120324\n"
     ]
    }
   ],
   "source": [
    "print(len(data[data['WKHP'] >= 23]))"
   ],
   "metadata": {
    "collapsed": false
   }
  },
  {
   "cell_type": "code",
   "execution_count": 7,
   "outputs": [],
   "source": [],
   "metadata": {
    "collapsed": false
   }
  },
  {
   "cell_type": "code",
   "execution_count": 7,
   "outputs": [],
   "source": [],
   "metadata": {
    "collapsed": false
   }
  },
  {
   "cell_type": "code",
   "execution_count": 8,
   "outputs": [
    {
     "data": {
      "text/plain": "12051"
     },
     "execution_count": 8,
     "metadata": {},
     "output_type": "execute_result"
    }
   ],
   "source": [
    "data = data[(data['WKHP'] >= 40) & (data['SCHL'] >= 19)]\n",
    "data = data[(data['COW'] == 3) | (data['COW'] == 4) | (data['COW'] == 5)]\n",
    "len(data)\n"
   ],
   "metadata": {
    "collapsed": false
   }
  },
  {
   "cell_type": "code",
   "execution_count": 8,
   "outputs": [],
   "source": [
    "\n"
   ],
   "metadata": {
    "collapsed": false
   }
  },
  {
   "cell_type": "code",
   "execution_count": 8,
   "outputs": [],
   "source": [],
   "metadata": {
    "collapsed": false
   }
  },
  {
   "cell_type": "code",
   "execution_count": 9,
   "outputs": [],
   "source": [
    "relax_rate = 1.3\n",
    "contract_rate = 0.8\n",
    "relax_rate_change = [1.1, 1.2, 1.3, 1.4, 1.5, 1.6]\n",
    "contract_rate_change = [0.4, 0.5, 0.6, 0.7, 0.8, 0.9]"
   ],
   "metadata": {
    "collapsed": false
   }
  },
  {
   "cell_type": "markdown",
   "source": [
    "# relax"
   ],
   "metadata": {
    "collapsed": false
   }
  },
  {
   "cell_type": "code",
   "execution_count": 10,
   "outputs": [
    {
     "name": "stdout",
     "output_type": "stream",
     "text": [
      "0\n",
      "0.0\n"
     ]
    }
   ],
   "source": [
    "data1 = data[(data[\"SEX\"] == \"F\") & (data[\"MAR\"] == 1)]\n",
    "print(len(data1))\n",
    "print(len(data1) * relax_rate)"
   ],
   "metadata": {
    "collapsed": false
   }
  },
  {
   "cell_type": "code",
   "execution_count": 29,
   "outputs": [
    {
     "name": "stdout",
     "output_type": "stream",
     "text": [
      "51211.600000000006\n",
      "55867.2\n",
      "60522.8\n",
      "65178.399999999994\n",
      "69834.0\n",
      "74489.6\n"
     ]
    }
   ],
   "source": [
    "for s in relax_rate_change:\n",
    "    print(len(data1) * s)"
   ],
   "metadata": {
    "collapsed": false
   }
  },
  {
   "cell_type": "code",
   "execution_count": 30,
   "outputs": [
    {
     "name": "stdout",
     "output_type": "stream",
     "text": [
      "55867.2\n",
      "65178.399999999994\n",
      "74489.6\n",
      "83800.8\n",
      "93112.0\n",
      "102423.20000000001\n"
     ]
    }
   ],
   "source": [
    "for s in [1.2, 1.4, 1.6, 1.8, 2.0, 2.2]:\n",
    "    print(len(data1) * s)"
   ],
   "metadata": {
    "collapsed": false
   }
  },
  {
   "cell_type": "code",
   "execution_count": 31,
   "outputs": [
    {
     "name": "stdout",
     "output_type": "stream",
     "text": [
      "14970\n",
      "19461.0\n"
     ]
    }
   ],
   "source": [
    "data2 = data[(data[\"RAC1P\"] == 2)]\n",
    "print(len(data2))\n",
    "print(len(data2) * relax_rate)"
   ],
   "metadata": {
    "collapsed": false
   }
  },
  {
   "cell_type": "code",
   "execution_count": 12,
   "outputs": [],
   "source": [],
   "metadata": {
    "collapsed": false
   }
  },
  {
   "cell_type": "code",
   "execution_count": 12,
   "outputs": [],
   "source": [],
   "metadata": {
    "collapsed": false
   }
  },
  {
   "cell_type": "markdown",
   "source": [
    "# contract"
   ],
   "metadata": {
    "collapsed": false
   }
  },
  {
   "cell_type": "code",
   "execution_count": 32,
   "outputs": [
    {
     "name": "stdout",
     "output_type": "stream",
     "text": [
      "16052\n",
      "12841.6\n"
     ]
    }
   ],
   "source": [
    "data1 = data[(data[\"SEX\"] == \"M\") & (data[\"RELP\"] == 1)]\n",
    "print(len(data1))\n",
    "print(len(data1) * contract_rate)"
   ],
   "metadata": {
    "collapsed": false
   }
  },
  {
   "cell_type": "code",
   "execution_count": 33,
   "outputs": [
    {
     "name": "stdout",
     "output_type": "stream",
     "text": [
      "6420.8\n",
      "8026.0\n",
      "9631.199999999999\n",
      "11236.4\n",
      "12841.6\n",
      "14446.800000000001\n"
     ]
    }
   ],
   "source": [
    "for s in contract_rate_change:\n",
    "    print(len(data1) * s)"
   ],
   "metadata": {
    "collapsed": false
   }
  },
  {
   "cell_type": "code",
   "execution_count": 34,
   "outputs": [
    {
     "name": "stdout",
     "output_type": "stream",
     "text": [
      "12104\n",
      "9683.2\n"
     ]
    }
   ],
   "source": [
    "data1 = data[(data[\"MAR\"] == 3) & (data[\"age_bucket\"] == \"30-60\")]\n",
    "print(len(data1))\n",
    "print(len(data1) * contract_rate)"
   ],
   "metadata": {
    "collapsed": false
   }
  },
  {
   "cell_type": "code",
   "execution_count": 15,
   "outputs": [],
   "source": [],
   "metadata": {
    "collapsed": false
   }
  },
  {
   "cell_type": "code",
   "execution_count": 15,
   "outputs": [],
   "source": [],
   "metadata": {
    "collapsed": false
   }
  },
  {
   "cell_type": "markdown",
   "source": [
    "# refine"
   ],
   "metadata": {
    "collapsed": false
   }
  },
  {
   "cell_type": "code",
   "execution_count": 35,
   "outputs": [
    {
     "name": "stdout",
     "output_type": "stream",
     "text": [
      "46556\n",
      "48883.8\n"
     ]
    }
   ],
   "source": [
    "data1 = data[(data[\"SEX\"] == \"F\") & (data[\"MAR\"] == 1)]\n",
    "print(len(data1))\n",
    "print(len(data1) * 1.05)"
   ],
   "metadata": {
    "collapsed": false
   }
  },
  {
   "cell_type": "code",
   "execution_count": 36,
   "outputs": [
    {
     "name": "stdout",
     "output_type": "stream",
     "text": [
      "47487.12\n",
      "48418.240000000005\n",
      "49349.36\n",
      "50280.48\n",
      "51211.600000000006\n",
      "52142.72000000001\n"
     ]
    }
   ],
   "source": [
    "s = [1.02, 1.04, 1.06, 1.08, 1.10, 1.12]\n",
    "for r in s:\n",
    "    print(len(data1) * r)"
   ],
   "metadata": {
    "collapsed": false
   }
  },
  {
   "cell_type": "code",
   "execution_count": 36,
   "outputs": [],
   "source": [],
   "metadata": {
    "collapsed": false
   }
  },
  {
   "cell_type": "code",
   "execution_count": 37,
   "outputs": [
    {
     "name": "stdout",
     "output_type": "stream",
     "text": [
      "3672\n",
      "3488.3999999999996\n"
     ]
    }
   ],
   "source": [
    "data1 = data[(data[\"SEX\"] == \"M\") & (data[\"RAC1P\"] == 6)]\n",
    "print(len(data1))\n",
    "print(len(data1) * 0.95)"
   ],
   "metadata": {
    "collapsed": false
   }
  },
  {
   "cell_type": "code",
   "execution_count": 38,
   "outputs": [
    {
     "name": "stdout",
     "output_type": "stream",
     "text": [
      "3231.36\n",
      "3304.8\n",
      "3378.2400000000002\n",
      "3451.68\n",
      "3525.12\n",
      "3598.56\n"
     ]
    }
   ],
   "source": [
    "s = [0.88, 0.90, 0.92, 0.94, 0.96, 0.98]\n",
    "for r in s:\n",
    "    print(len(data1) * r)"
   ],
   "metadata": {
    "collapsed": false
   }
  },
  {
   "cell_type": "code",
   "execution_count": null,
   "outputs": [],
   "source": [],
   "metadata": {
    "collapsed": false
   }
  },
  {
   "cell_type": "markdown",
   "source": [
    "# query selectivity"
   ],
   "metadata": {
    "collapsed": false
   }
  },
  {
   "cell_type": "code",
   "execution_count": 12,
   "outputs": [],
   "source": [
    "data = pd.read_csv('../../data/acs_income.csv', index_col=False)\n",
    "# data = data[(data['WKHP'] >= 44) & (data['SCHL'] >= 21)]\n",
    "# data = data[(data['COW'] == 3) | (data['COW'] == 4) | (data['COW'] == 5)]\n",
    "# len(data)\n"
   ],
   "metadata": {
    "collapsed": false
   }
  },
  {
   "cell_type": "code",
   "execution_count": 13,
   "outputs": [
    {
     "name": "stdout",
     "output_type": "stream",
     "text": [
      "0% percentile: 1.0\n",
      "10% percentile: 20.0\n",
      "20% percentile: 30.0\n",
      "30% percentile: 38.0\n",
      "40% percentile: 40.0\n",
      "50% percentile: 40.0\n",
      "60% percentile: 40.0\n",
      "70% percentile: 40.0\n",
      "80% percentile: 45.0\n",
      "90% percentile: 50.0\n",
      "100% percentile: 99.0\n"
     ]
    }
   ],
   "source": [
    "for i in range(0, 101, 10):\n",
    "    value = data['WKHP'].quantile(i / 100)\n",
    "    print(f\"{i}% percentile: {value}\")"
   ],
   "metadata": {
    "collapsed": false
   }
  },
  {
   "cell_type": "code",
   "execution_count": null,
   "outputs": [],
   "source": [
    "for i in range(0, 101, 10):\n",
    "    value = data['SCHL'].quantile(i / 100)\n",
    "    print(f\"{i}% percentile: {value}\")"
   ],
   "metadata": {
    "collapsed": false
   }
  }
 ],
 "metadata": {
  "kernelspec": {
   "display_name": "Python 3",
   "language": "python",
   "name": "python3"
  },
  "language_info": {
   "codemirror_mode": {
    "name": "ipython",
    "version": 2
   },
   "file_extension": ".py",
   "mimetype": "text/x-python",
   "name": "python",
   "nbconvert_exporter": "python",
   "pygments_lexer": "ipython2",
   "version": "2.7.6"
  }
 },
 "nbformat": 4,
 "nbformat_minor": 0
}
