{
 "cells": [
  {
   "cell_type": "code",
   "execution_count": 105,
   "metadata": {
    "collapsed": true
   },
   "outputs": [],
   "source": [
    "import os\n",
    "import time\n",
    "\n",
    "import matplotlib.pyplot as plt\n",
    "import matplotlib as mpl\n",
    "import numpy as np\n",
    "import pandas as pd\n",
    "import seaborn as sns\n",
    "sns.set_style('whitegrid', {'axes.edgecolor': '.2'})\n",
    "sns.set_context('notebook', font_scale=1.4)\n",
    "\n",
    "from fairlearn.datasets import fetch_acs_income"
   ]
  },
  {
   "cell_type": "code",
   "execution_count": 106,
   "outputs": [],
   "source": [
    "data = pd.read_csv('../../data/acs_income.csv', index_col=False)"
   ],
   "metadata": {
    "collapsed": false
   }
  },
  {
   "cell_type": "code",
   "execution_count": 107,
   "outputs": [
    {
     "name": "stdout",
     "output_type": "stream",
     "text": [
      "               AGEP           COW          SCHL           MAR          OCCP  \\\n",
      "count  1.664500e+06  1.664500e+06  1.664500e+06  1.664500e+06  1.664500e+06   \n",
      "mean   4.341127e+01  2.077500e+00  1.861814e+01  2.521997e+00  4.180517e+03   \n",
      "std    1.530203e+01  1.825338e+00  3.297826e+00  1.796720e+00  2.658717e+03   \n",
      "min    1.700000e+01  1.000000e+00  1.000000e+00  1.000000e+00  1.000000e+01   \n",
      "25%    3.000000e+01  1.000000e+00  1.600000e+01  1.000000e+00  2.205000e+03   \n",
      "50%    4.300000e+01  1.000000e+00  1.900000e+01  1.000000e+00  4.200000e+03   \n",
      "75%    5.600000e+01  3.000000e+00  2.100000e+01  5.000000e+00  5.740000e+03   \n",
      "max    9.600000e+01  8.000000e+00  2.400000e+01  5.000000e+00  9.830000e+03   \n",
      "\n",
      "               POBP          RELP          WKHP         RAC1P         PINCP  \n",
      "count  1.664500e+06  1.664500e+06  1.664500e+06  1.664500e+06  1.664500e+06  \n",
      "mean   6.581708e+01  2.241254e+00  3.833390e+01  1.874745e+00  5.666386e+04  \n",
      "std    9.306245e+01  4.385288e+00  1.308073e+01  2.084384e+00  7.306745e+04  \n",
      "min    1.000000e+00  0.000000e+00  1.000000e+00  1.000000e+00  1.040000e+02  \n",
      "25%    1.800000e+01  0.000000e+00  3.500000e+01  1.000000e+00  2.000000e+04  \n",
      "50%    3.600000e+01  1.000000e+00  4.000000e+01  1.000000e+00  3.900000e+04  \n",
      "75%    4.800000e+01  2.000000e+00  4.400000e+01  1.000000e+00  6.800000e+04  \n",
      "max    5.540000e+02  1.700000e+01  9.900000e+01  9.000000e+00  1.423000e+06  \n"
     ]
    }
   ],
   "source": [
    "print(data.describe())\n"
   ],
   "metadata": {
    "collapsed": false
   }
  },
  {
   "cell_type": "code",
   "execution_count": 108,
   "outputs": [
    {
     "name": "stdout",
     "output_type": "stream",
     "text": [
      "414019\n"
     ]
    }
   ],
   "source": [
    "data1 = data[(data[\"SEX\"] == \"F\") & (data[\"MAR\"] == 1)]\n",
    "print(len(data1))"
   ],
   "metadata": {
    "collapsed": false
   }
  },
  {
   "cell_type": "code",
   "execution_count": 109,
   "outputs": [
    {
     "name": "stdout",
     "output_type": "stream",
     "text": [
      "147573\n"
     ]
    }
   ],
   "source": [
    "data2 = data[(data[\"RAC1P\"] == 2)]\n",
    "print(len(data2))"
   ],
   "metadata": {
    "collapsed": false
   }
  },
  {
   "cell_type": "code",
   "execution_count": 110,
   "outputs": [
    {
     "name": "stdout",
     "output_type": "stream",
     "text": [
      "1444173\n"
     ]
    }
   ],
   "source": [
    "print(len(data[data['WKHP'] >= 23]))"
   ],
   "metadata": {
    "collapsed": false
   }
  },
  {
   "cell_type": "code",
   "execution_count": 111,
   "outputs": [
    {
     "name": "stdout",
     "output_type": "stream",
     "text": [
      "['SRO' 'HSO' 'IMRW' 'ASESMO' 'PSO' 'TMMO' 'OASO' 'BGCMO' 'PCSO' 'FPASO'\n",
      " 'ETLO' 'BOS' 'PO' 'MBSA' 'CEO' 'AEO' 'FFFO' 'CMO' 'LO' 'MSO' 'LPSSO' 'FS'\n",
      " 'HPTO' 'CSSO' 'EW']\n"
     ]
    }
   ],
   "source": [
    "print(data[\"OCCP_bucket\"].unique())"
   ],
   "metadata": {
    "collapsed": false
   }
  },
  {
   "cell_type": "code",
   "execution_count": 111,
   "outputs": [],
   "source": [],
   "metadata": {
    "collapsed": false
   }
  },
  {
   "cell_type": "code",
   "execution_count": 111,
   "outputs": [],
   "source": [],
   "metadata": {
    "collapsed": false
   }
  },
  {
   "cell_type": "markdown",
   "source": [
    "# query"
   ],
   "metadata": {
    "collapsed": false
   }
  },
  {
   "cell_type": "code",
   "execution_count": 112,
   "outputs": [
    {
     "data": {
      "text/plain": "225444"
     },
     "execution_count": 112,
     "metadata": {},
     "output_type": "execute_result"
    }
   ],
   "source": [
    "data = data[(data['WKHP'] <= 40) & (data['SCHL'] <= 19)]\n",
    "data = data[(data['OCCP_bucket'] == \"CSSO\") | (data['OCCP_bucket'] == \"HPTO\") | (data['OCCP_bucket'] == \"PSO\") | (data['OCCP_bucket'] == \"PCSO\") | (data['OCCP_bucket'] == \"CEO\") | (data['OCCP_bucket'] == \"MBSA\") |  (data['OCCP_bucket'] == \"FS\") | (data['OCCP_bucket'] == \"FPASO\") | (data['OCCP_bucket'] == \"EM\")]\n",
    "len(data)\n"
   ],
   "metadata": {
    "collapsed": false
   }
  },
  {
   "cell_type": "code",
   "execution_count": 112,
   "outputs": [],
   "source": [
    "\n"
   ],
   "metadata": {
    "collapsed": false
   }
  },
  {
   "cell_type": "code",
   "execution_count": 112,
   "outputs": [],
   "source": [
    "\n"
   ],
   "metadata": {
    "collapsed": false
   }
  },
  {
   "cell_type": "code",
   "execution_count": 113,
   "outputs": [],
   "source": [
    "relax_rate = 1.3\n",
    "contract_rate = 0.8\n",
    "relax_rate_change = [1.1, 1.2, 1.3, 1.4, 1.5, 1.6]\n",
    "contract_rate_change = [0.4, 0.5, 0.6, 0.7, 0.8, 0.9]"
   ],
   "metadata": {
    "collapsed": false
   }
  },
  {
   "cell_type": "markdown",
   "source": [
    "# relax"
   ],
   "metadata": {
    "collapsed": false
   }
  },
  {
   "cell_type": "code",
   "execution_count": 114,
   "outputs": [
    {
     "name": "stdout",
     "output_type": "stream",
     "text": [
      "41388\n",
      "53804.4\n"
     ]
    }
   ],
   "source": [
    "data1 = data[(data[\"SEX\"] == \"F\") & (data[\"MAR\"] == 1)]\n",
    "print(len(data1))\n",
    "print(len(data1) * relax_rate)"
   ],
   "metadata": {
    "collapsed": false
   }
  },
  {
   "cell_type": "code",
   "execution_count": 115,
   "outputs": [
    {
     "name": "stdout",
     "output_type": "stream",
     "text": [
      "45526.8\n",
      "49665.6\n",
      "53804.4\n",
      "57943.2\n",
      "62082.0\n",
      "66220.8\n"
     ]
    }
   ],
   "source": [
    "for s in relax_rate_change:\n",
    "    print(len(data1) * s)"
   ],
   "metadata": {
    "collapsed": false
   }
  },
  {
   "cell_type": "code",
   "execution_count": 116,
   "outputs": [
    {
     "name": "stdout",
     "output_type": "stream",
     "text": [
      "49665.6\n",
      "57943.2\n",
      "66220.8\n",
      "74498.40000000001\n",
      "82776.0\n",
      "91053.6\n"
     ]
    }
   ],
   "source": [
    "for s in [1.2, 1.4, 1.6, 1.8, 2.0, 2.2]:\n",
    "    print(len(data1) * s)"
   ],
   "metadata": {
    "collapsed": false
   }
  },
  {
   "cell_type": "code",
   "execution_count": 117,
   "outputs": [
    {
     "name": "stdout",
     "output_type": "stream",
     "text": [
      "23365\n",
      "30374.5\n"
     ]
    }
   ],
   "source": [
    "data2 = data[(data[\"RAC1P\"] == 2)]\n",
    "print(len(data2))\n",
    "print(len(data2) * relax_rate)"
   ],
   "metadata": {
    "collapsed": false
   }
  },
  {
   "cell_type": "code",
   "execution_count": 118,
   "outputs": [],
   "source": [
    "# data3 = data[(data[\"SEX\"] == 'M') & (data[\"RAC1P\"] == 9)]\n",
    "# print(len(data3))\n",
    "# print(len(data3) * relax_rate)"
   ],
   "metadata": {
    "collapsed": false
   }
  },
  {
   "cell_type": "code",
   "execution_count": 118,
   "outputs": [],
   "source": [],
   "metadata": {
    "collapsed": false
   }
  },
  {
   "cell_type": "markdown",
   "source": [
    "# contract"
   ],
   "metadata": {
    "collapsed": false
   }
  },
  {
   "cell_type": "code",
   "execution_count": 119,
   "outputs": [
    {
     "name": "stdout",
     "output_type": "stream",
     "text": [
      "22658\n",
      "18126.4\n"
     ]
    }
   ],
   "source": [
    "data1 = data[(data[\"SEX\"] == \"M\") & (data[\"RELP\"] == 1)]\n",
    "print(len(data1))\n",
    "print(len(data1) * contract_rate)"
   ],
   "metadata": {
    "collapsed": false
   }
  },
  {
   "cell_type": "code",
   "execution_count": 120,
   "outputs": [
    {
     "name": "stdout",
     "output_type": "stream",
     "text": [
      "9063.2\n",
      "11329.0\n",
      "13594.8\n",
      "15860.599999999999\n",
      "18126.4\n",
      "20392.2\n"
     ]
    }
   ],
   "source": [
    "for s in contract_rate_change:\n",
    "    print(len(data1) * s)"
   ],
   "metadata": {
    "collapsed": false
   }
  },
  {
   "cell_type": "code",
   "execution_count": 121,
   "outputs": [
    {
     "name": "stdout",
     "output_type": "stream",
     "text": [
      "16805\n",
      "13444.0\n"
     ]
    }
   ],
   "source": [
    "data1 = data[(data[\"MAR\"] == 3) & (data[\"age_bucket\"] == \"30-60\")]\n",
    "print(len(data1))\n",
    "print(len(data1) * contract_rate)"
   ],
   "metadata": {
    "collapsed": false
   }
  },
  {
   "cell_type": "code",
   "execution_count": 121,
   "outputs": [],
   "source": [],
   "metadata": {
    "collapsed": false
   }
  },
  {
   "cell_type": "code",
   "execution_count": 121,
   "outputs": [],
   "source": [],
   "metadata": {
    "collapsed": false
   }
  },
  {
   "cell_type": "markdown",
   "source": [
    "# refine"
   ],
   "metadata": {
    "collapsed": false
   }
  },
  {
   "cell_type": "code",
   "execution_count": 126,
   "outputs": [
    {
     "name": "stdout",
     "output_type": "stream",
     "text": [
      "41388\n",
      "43457.4\n"
     ]
    }
   ],
   "source": [
    "data1 = data[(data[\"SEX\"] == \"F\") & (data[\"MAR\"] == 1)]\n",
    "print(len(data1))\n",
    "print(len(data1) * 1.05)"
   ],
   "metadata": {
    "collapsed": false
   }
  },
  {
   "cell_type": "code",
   "execution_count": 127,
   "outputs": [],
   "source": [
    "# s = [1.02, 1.04, 1.06, 1.08, 1.10, 1.12]\n",
    "# for r in s:\n",
    "#     print(len(data1) * r)"
   ],
   "metadata": {
    "collapsed": false
   }
  },
  {
   "cell_type": "code",
   "execution_count": 128,
   "outputs": [
    {
     "name": "stdout",
     "output_type": "stream",
     "text": [
      "4431\n",
      "4209.45\n"
     ]
    }
   ],
   "source": [
    "data1 = data[(data[\"SEX\"] == \"M\") & (data[\"RAC1P\"] == 6)]\n",
    "print(len(data1))\n",
    "print(len(data1) * 0.95)"
   ],
   "metadata": {
    "collapsed": false
   }
  },
  {
   "cell_type": "code",
   "execution_count": 129,
   "outputs": [
    {
     "name": "stdout",
     "output_type": "stream",
     "text": [
      "3899.28\n",
      "3987.9\n",
      "4076.52\n",
      "4165.139999999999\n",
      "4253.76\n",
      "4342.38\n"
     ]
    }
   ],
   "source": [
    "s = [0.88, 0.90, 0.92, 0.94, 0.96, 0.98]\n",
    "for r in s:\n",
    "    print(len(data1) * r)"
   ],
   "metadata": {
    "collapsed": false
   }
  },
  {
   "cell_type": "code",
   "execution_count": 125,
   "outputs": [],
   "source": [],
   "metadata": {
    "collapsed": false
   }
  },
  {
   "cell_type": "markdown",
   "source": [
    "# query selectivity"
   ],
   "metadata": {
    "collapsed": false
   }
  },
  {
   "cell_type": "code",
   "execution_count": 33,
   "outputs": [],
   "source": [
    "data = pd.read_csv('../../data/acs_income.csv', index_col=False)\n",
    "# data = data[(data['WKHP'] >= 44) & (data['SCHL'] >= 21)]\n",
    "# data = data[(data['COW'] == 3) | (data['COW'] == 4) | (data['COW'] == 5)]\n",
    "# len(data)\n"
   ],
   "metadata": {
    "collapsed": false
   }
  },
  {
   "cell_type": "code",
   "execution_count": 34,
   "outputs": [
    {
     "name": "stdout",
     "output_type": "stream",
     "text": [
      "0% percentile: 1.0\n",
      "10% percentile: 20.0\n",
      "20% percentile: 30.0\n",
      "30% percentile: 38.0\n",
      "40% percentile: 40.0\n",
      "50% percentile: 40.0\n",
      "60% percentile: 40.0\n",
      "70% percentile: 40.0\n",
      "80% percentile: 45.0\n",
      "90% percentile: 50.0\n",
      "100% percentile: 99.0\n"
     ]
    }
   ],
   "source": [
    "for i in range(0, 101, 10):\n",
    "    value = data['WKHP'].quantile(i / 100)\n",
    "    print(f\"{i}% percentile: {value}\")"
   ],
   "metadata": {
    "collapsed": false
   }
  },
  {
   "cell_type": "code",
   "execution_count": 35,
   "outputs": [
    {
     "name": "stdout",
     "output_type": "stream",
     "text": [
      "0% percentile: 1.0\n",
      "10% percentile: 16.0\n",
      "20% percentile: 16.0\n",
      "30% percentile: 17.0\n",
      "40% percentile: 19.0\n",
      "50% percentile: 19.0\n",
      "60% percentile: 20.0\n",
      "70% percentile: 21.0\n",
      "80% percentile: 21.0\n",
      "90% percentile: 22.0\n",
      "100% percentile: 24.0\n"
     ]
    }
   ],
   "source": [
    "for i in range(0, 101, 10):\n",
    "    value = data['SCHL'].quantile(i / 100)\n",
    "    print(f\"{i}% percentile: {value}\")"
   ],
   "metadata": {
    "collapsed": false
   }
  },
  {
   "cell_type": "code",
   "execution_count": null,
   "outputs": [],
   "source": [],
   "metadata": {
    "collapsed": false
   }
  }
 ],
 "metadata": {
  "kernelspec": {
   "display_name": "Python 3",
   "language": "python",
   "name": "python3"
  },
  "language_info": {
   "codemirror_mode": {
    "name": "ipython",
    "version": 2
   },
   "file_extension": ".py",
   "mimetype": "text/x-python",
   "name": "python",
   "nbconvert_exporter": "python",
   "pygments_lexer": "ipython2",
   "version": "2.7.6"
  }
 },
 "nbformat": 4,
 "nbformat_minor": 0
}
