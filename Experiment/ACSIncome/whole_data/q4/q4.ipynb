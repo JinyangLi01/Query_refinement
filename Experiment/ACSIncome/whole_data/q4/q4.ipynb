{
 "cells": [
  {
   "cell_type": "code",
   "execution_count": 1,
   "metadata": {
    "collapsed": true,
    "ExecuteTime": {
     "end_time": "2023-07-12T06:35:43.256176Z",
     "start_time": "2023-07-12T06:35:42.891298Z"
    }
   },
   "outputs": [],
   "source": [
    "import os\n",
    "import time\n",
    "\n",
    "import matplotlib.pyplot as plt\n",
    "import matplotlib as mpl\n",
    "import numpy as np\n",
    "import pandas as pd\n",
    "import seaborn as sns\n",
    "sns.set_style('whitegrid', {'axes.edgecolor': '.2'})\n",
    "sns.set_context('notebook', font_scale=1.4)\n",
    "\n",
    "from fairlearn.datasets import fetch_acs_income"
   ]
  },
  {
   "cell_type": "code",
   "execution_count": 2,
   "outputs": [],
   "source": [
    "data = pd.read_csv('../../data/acs_income.csv', index_col=False)"
   ],
   "metadata": {
    "collapsed": false,
    "ExecuteTime": {
     "end_time": "2023-07-12T06:35:44.476592Z",
     "start_time": "2023-07-12T06:35:43.256767Z"
    }
   }
  },
  {
   "cell_type": "code",
   "execution_count": 3,
   "outputs": [
    {
     "name": "stdout",
     "output_type": "stream",
     "text": [
      "               AGEP           COW          SCHL           MAR          OCCP  \\\n",
      "count  1.664500e+06  1.664500e+06  1.664500e+06  1.664500e+06  1.664500e+06   \n",
      "mean   4.341127e+01  2.077500e+00  1.861814e+01  2.521997e+00  4.180517e+03   \n",
      "std    1.530203e+01  1.825338e+00  3.297826e+00  1.796720e+00  2.658717e+03   \n",
      "min    1.700000e+01  1.000000e+00  1.000000e+00  1.000000e+00  1.000000e+01   \n",
      "25%    3.000000e+01  1.000000e+00  1.600000e+01  1.000000e+00  2.205000e+03   \n",
      "50%    4.300000e+01  1.000000e+00  1.900000e+01  1.000000e+00  4.200000e+03   \n",
      "75%    5.600000e+01  3.000000e+00  2.100000e+01  5.000000e+00  5.740000e+03   \n",
      "max    9.600000e+01  8.000000e+00  2.400000e+01  5.000000e+00  9.830000e+03   \n",
      "\n",
      "               POBP          RELP          WKHP         RAC1P         PINCP  \n",
      "count  1.664500e+06  1.664500e+06  1.664500e+06  1.664500e+06  1.664500e+06  \n",
      "mean   6.581708e+01  2.241254e+00  3.833390e+01  1.874745e+00  5.666386e+04  \n",
      "std    9.306245e+01  4.385288e+00  1.308073e+01  2.084384e+00  7.306745e+04  \n",
      "min    1.000000e+00  0.000000e+00  1.000000e+00  1.000000e+00  1.040000e+02  \n",
      "25%    1.800000e+01  0.000000e+00  3.500000e+01  1.000000e+00  2.000000e+04  \n",
      "50%    3.600000e+01  1.000000e+00  4.000000e+01  1.000000e+00  3.900000e+04  \n",
      "75%    4.800000e+01  2.000000e+00  4.400000e+01  1.000000e+00  6.800000e+04  \n",
      "max    5.540000e+02  1.700000e+01  9.900000e+01  9.000000e+00  1.423000e+06  \n"
     ]
    }
   ],
   "source": [
    "print(data.describe())\n"
   ],
   "metadata": {
    "collapsed": false,
    "ExecuteTime": {
     "end_time": "2023-07-12T06:35:44.915448Z",
     "start_time": "2023-07-12T06:35:44.478583Z"
    }
   }
  },
  {
   "cell_type": "code",
   "execution_count": 4,
   "outputs": [
    {
     "name": "stdout",
     "output_type": "stream",
     "text": [
      "1664500\n",
      "797765\n",
      "0.4792820666866927\n"
     ]
    }
   ],
   "source": [
    "print(len(data))\n",
    "data1 = data[(data[\"SEX\"] == \"F\")]\n",
    "print(len(data1))\n",
    "print(len(data1)/len(data))"
   ],
   "metadata": {
    "collapsed": false,
    "ExecuteTime": {
     "end_time": "2023-07-12T06:35:45.013511Z",
     "start_time": "2023-07-12T06:35:44.915278Z"
    }
   }
  },
  {
   "cell_type": "code",
   "execution_count": 5,
   "outputs": [
    {
     "name": "stdout",
     "output_type": "stream",
     "text": [
      "147573\n",
      "0.08865905677380595\n"
     ]
    }
   ],
   "source": [
    "data2 = data[(data[\"RAC1P\"] == 2)]\n",
    "print(len(data2))\n",
    "print(len(data2)/len(data))"
   ],
   "metadata": {
    "collapsed": false,
    "ExecuteTime": {
     "end_time": "2023-07-12T06:35:45.028659Z",
     "start_time": "2023-07-12T06:35:45.015318Z"
    }
   }
  },
  {
   "cell_type": "code",
   "execution_count": 6,
   "outputs": [
    {
     "name": "stdout",
     "output_type": "stream",
     "text": [
      "1444173\n"
     ]
    }
   ],
   "source": [
    "print(len(data[data['WKHP'] >= 23]))"
   ],
   "metadata": {
    "collapsed": false,
    "ExecuteTime": {
     "end_time": "2023-07-12T06:35:45.096287Z",
     "start_time": "2023-07-12T06:35:45.030213Z"
    }
   }
  },
  {
   "cell_type": "code",
   "execution_count": 6,
   "outputs": [],
   "source": [
    "\n"
   ],
   "metadata": {
    "collapsed": false,
    "ExecuteTime": {
     "end_time": "2023-07-12T06:35:48.097061Z",
     "start_time": "2023-07-12T06:35:48.093861Z"
    }
   }
  },
  {
   "cell_type": "code",
   "execution_count": 6,
   "outputs": [],
   "source": [],
   "metadata": {
    "collapsed": false,
    "ExecuteTime": {
     "end_time": "2023-07-12T06:35:48.619507Z",
     "start_time": "2023-07-12T06:35:48.615607Z"
    }
   }
  },
  {
   "cell_type": "code",
   "execution_count": 7,
   "outputs": [
    {
     "data": {
      "text/plain": "array(['<20K', '20K-40K', '40K-60K', '>60K'], dtype=object)"
     },
     "execution_count": 7,
     "metadata": {},
     "output_type": "execute_result"
    }
   ],
   "source": [
    "data[\"PINCP_bucket\"].unique()"
   ],
   "metadata": {
    "collapsed": false,
    "ExecuteTime": {
     "end_time": "2023-07-12T06:35:49.129986Z",
     "start_time": "2023-07-12T06:35:49.098551Z"
    }
   }
  },
  {
   "cell_type": "markdown",
   "source": [
    "# query"
   ],
   "metadata": {
    "collapsed": false
   }
  },
  {
   "cell_type": "code",
   "execution_count": 8,
   "outputs": [
    {
     "name": "stdout",
     "output_type": "stream",
     "text": [
      "[1. 7. 5. 2. 4. 3. 6. 8.]\n",
      "2343\n"
     ]
    }
   ],
   "source": [
    "\n",
    "data1 = data[(data['WKHP'] >= 60) & (data['SCHL'] >= 22)]\n",
    "data1 = data1[data1['PINCP_bucket'].isin([\">60K\"])]\n",
    "print(data1['COW'].unique())\n",
    "data1 = data1[data1['COW'].isin([6, 7])]\n",
    "total_num_results = len(data1)\n",
    "print(total_num_results)\n"
   ],
   "metadata": {
    "collapsed": false,
    "ExecuteTime": {
     "end_time": "2023-07-12T06:35:50.898778Z",
     "start_time": "2023-07-12T06:35:50.880127Z"
    }
   }
  },
  {
   "cell_type": "code",
   "execution_count": 8,
   "outputs": [],
   "source": [],
   "metadata": {
    "collapsed": false,
    "ExecuteTime": {
     "end_time": "2023-07-12T06:35:51.690410Z",
     "start_time": "2023-07-12T06:35:51.685681Z"
    }
   }
  },
  {
   "cell_type": "code",
   "execution_count": 9,
   "outputs": [],
   "source": [
    "\n",
    "data = data1"
   ],
   "metadata": {
    "collapsed": false,
    "ExecuteTime": {
     "end_time": "2023-07-12T06:35:52.500836Z",
     "start_time": "2023-07-12T06:35:52.499310Z"
    }
   }
  },
  {
   "cell_type": "code",
   "execution_count": 10,
   "outputs": [
    {
     "data": {
      "text/plain": "array([3., 1., 5., 4., 2.])"
     },
     "execution_count": 10,
     "metadata": {},
     "output_type": "execute_result"
    }
   ],
   "source": [
    "\n",
    "data['MAR'].unique()\n"
   ],
   "metadata": {
    "collapsed": false,
    "ExecuteTime": {
     "end_time": "2023-07-12T06:35:52.989018Z",
     "start_time": "2023-07-12T06:35:52.985962Z"
    }
   }
  },
  {
   "cell_type": "code",
   "execution_count": 11,
   "outputs": [],
   "source": [
    "relax_rate = 1.05\n",
    "contract_rate = 0.95\n",
    "relax_rate_change = [1.1, 1.2, 1.3, 1.4, 1.5, 1.6]\n",
    "contract_rate_change = [0.4, 0.5, 0.6, 0.7, 0.8, 0.9]"
   ],
   "metadata": {
    "collapsed": false,
    "ExecuteTime": {
     "end_time": "2023-07-12T06:35:53.488243Z",
     "start_time": "2023-07-12T06:35:53.486273Z"
    }
   }
  },
  {
   "cell_type": "markdown",
   "source": [
    "# relax"
   ],
   "metadata": {
    "collapsed": false
   }
  },
  {
   "cell_type": "code",
   "execution_count": 12,
   "outputs": [
    {
     "name": "stdout",
     "output_type": "stream",
     "text": [
      "525\n",
      "551.25\n"
     ]
    }
   ],
   "source": [
    "data1 = data[(data[\"SEX\"] == \"F\")]\n",
    "print(len(data1))\n",
    "print(len(data1) * relax_rate)"
   ],
   "metadata": {
    "collapsed": false,
    "ExecuteTime": {
     "end_time": "2023-07-12T06:35:54.909750Z",
     "start_time": "2023-07-12T06:35:54.905858Z"
    }
   }
  },
  {
   "cell_type": "code",
   "execution_count": 13,
   "outputs": [
    {
     "name": "stdout",
     "output_type": "stream",
     "text": [
      "577.5\n",
      "630.0\n",
      "682.5\n",
      "735.0\n",
      "787.5\n",
      "840.0\n"
     ]
    }
   ],
   "source": [
    "for s in relax_rate_change:\n",
    "    print(len(data1) * s)"
   ],
   "metadata": {
    "collapsed": false,
    "ExecuteTime": {
     "end_time": "2023-07-12T06:35:55.963610Z",
     "start_time": "2023-07-12T06:35:55.960750Z"
    }
   }
  },
  {
   "cell_type": "code",
   "execution_count": 14,
   "outputs": [],
   "source": [
    "# for s in [1.2, 1.4, 1.6, 1.8, 2.0, 2.2]:\n",
    "#     print(len(data1) * s)"
   ],
   "metadata": {
    "collapsed": false,
    "ExecuteTime": {
     "end_time": "2023-07-12T06:35:56.522796Z",
     "start_time": "2023-07-12T06:35:56.519215Z"
    }
   }
  },
  {
   "cell_type": "code",
   "execution_count": 15,
   "outputs": [
    {
     "name": "stdout",
     "output_type": "stream",
     "text": [
      "92\n",
      "96.60000000000001\n"
     ]
    }
   ],
   "source": [
    "data2 = data[(data[\"RAC1P\"] == 2)]\n",
    "print(len(data2))\n",
    "print(len(data2) * relax_rate)"
   ],
   "metadata": {
    "collapsed": false,
    "ExecuteTime": {
     "end_time": "2023-07-12T06:35:56.876125Z",
     "start_time": "2023-07-12T06:35:56.874058Z"
    }
   }
  },
  {
   "cell_type": "code",
   "execution_count": 61,
   "outputs": [
    {
     "name": "stdout",
     "output_type": "stream",
     "text": [
      "227\n",
      "238.35000000000002\n"
     ]
    }
   ],
   "source": [
    "data2 = data[(data[\"MAR\"] == 3)]\n",
    "print(len(data2))\n",
    "print(len(data2) * relax_rate)\n"
   ],
   "metadata": {
    "collapsed": false,
    "ExecuteTime": {
     "end_time": "2023-06-30T17:02:27.033646Z",
     "start_time": "2023-06-30T17:02:27.029049Z"
    }
   }
  },
  {
   "cell_type": "code",
   "execution_count": 61,
   "outputs": [],
   "source": [],
   "metadata": {
    "collapsed": false,
    "ExecuteTime": {
     "end_time": "2023-06-30T17:02:27.510211Z",
     "start_time": "2023-06-30T17:02:27.506099Z"
    }
   }
  },
  {
   "cell_type": "code",
   "execution_count": 61,
   "outputs": [],
   "source": [
    "\n"
   ],
   "metadata": {
    "collapsed": false,
    "ExecuteTime": {
     "end_time": "2023-06-30T17:02:27.868123Z",
     "start_time": "2023-06-30T17:02:27.864344Z"
    }
   }
  },
  {
   "cell_type": "markdown",
   "source": [
    "# contract"
   ],
   "metadata": {
    "collapsed": false
   }
  },
  {
   "cell_type": "code",
   "execution_count": 73,
   "outputs": [
    {
     "name": "stdout",
     "output_type": "stream",
     "text": [
      "1960\n",
      "1862.0\n"
     ]
    }
   ],
   "source": [
    "data1 = data[(data[\"RAC1P\"] == 1)]\n",
    "print(len(data1))\n",
    "print(len(data1) * contract_rate)"
   ],
   "metadata": {
    "collapsed": false,
    "ExecuteTime": {
     "end_time": "2023-06-30T17:06:08.169598Z",
     "start_time": "2023-06-30T17:06:08.162465Z"
    }
   }
  },
  {
   "cell_type": "code",
   "execution_count": 63,
   "outputs": [
    {
     "name": "stdout",
     "output_type": "stream",
     "text": [
      "784.0\n",
      "980.0\n",
      "1176.0\n",
      "1372.0\n",
      "1568.0\n",
      "1764.0\n"
     ]
    }
   ],
   "source": [
    "for s in contract_rate_change:\n",
    "    print(len(data1) * s)"
   ],
   "metadata": {
    "collapsed": false,
    "ExecuteTime": {
     "end_time": "2023-06-30T17:02:29.965972Z",
     "start_time": "2023-06-30T17:02:29.960338Z"
    }
   }
  },
  {
   "cell_type": "code",
   "execution_count": 44,
   "outputs": [
    {
     "name": "stdout",
     "output_type": "stream",
     "text": [
      "1818\n",
      "1727.1\n"
     ]
    }
   ],
   "source": [
    "data1 = data[(data[\"SEX\"] == \"M\")]\n",
    "print(len(data1))\n",
    "print(len(data1) * contract_rate)"
   ],
   "metadata": {
    "collapsed": false,
    "ExecuteTime": {
     "end_time": "2023-06-30T05:56:19.727647Z",
     "start_time": "2023-06-30T05:56:19.721699Z"
    }
   }
  },
  {
   "cell_type": "code",
   "execution_count": 44,
   "outputs": [],
   "source": [],
   "metadata": {
    "collapsed": false,
    "ExecuteTime": {
     "end_time": "2023-06-30T05:56:20.927990Z",
     "start_time": "2023-06-30T05:56:20.920917Z"
    }
   }
  },
  {
   "cell_type": "code",
   "execution_count": 44,
   "outputs": [],
   "source": [],
   "metadata": {
    "collapsed": false,
    "ExecuteTime": {
     "end_time": "2023-06-30T05:56:21.354872Z",
     "start_time": "2023-06-30T05:56:21.350921Z"
    }
   }
  },
  {
   "cell_type": "markdown",
   "source": [
    "# refine"
   ],
   "metadata": {
    "collapsed": false
   }
  },
  {
   "cell_type": "code",
   "execution_count": 45,
   "outputs": [
    {
     "name": "stdout",
     "output_type": "stream",
     "text": [
      "525\n",
      "551.25\n"
     ]
    }
   ],
   "source": [
    "\n",
    "data1 = data[(data[\"SEX\"] == \"F\")]\n",
    "print(len(data1))\n",
    "print(len(data1) * 1.05)"
   ],
   "metadata": {
    "collapsed": false,
    "ExecuteTime": {
     "end_time": "2023-06-30T05:56:25.318677Z",
     "start_time": "2023-06-30T05:56:25.310725Z"
    }
   }
  },
  {
   "cell_type": "code",
   "execution_count": 46,
   "outputs": [],
   "source": [
    "# s = [1.02, 1.04, 1.06, 1.08, 1.10, 1.12]\n",
    "# for r in s:\n",
    "#     print(len(data1) * r)"
   ],
   "metadata": {
    "collapsed": false,
    "ExecuteTime": {
     "end_time": "2023-06-30T05:56:30.806158Z",
     "start_time": "2023-06-30T05:56:30.798655Z"
    }
   }
  },
  {
   "cell_type": "code",
   "execution_count": 47,
   "outputs": [
    {
     "name": "stdout",
     "output_type": "stream",
     "text": [
      "1960\n",
      "1862.0\n"
     ]
    }
   ],
   "source": [
    "data1 = data[(data[\"RAC1P\"] == 1)]\n",
    "print(len(data1))\n",
    "print(len(data1) * contract_rate)"
   ],
   "metadata": {
    "collapsed": false,
    "ExecuteTime": {
     "end_time": "2023-06-30T05:56:45.824665Z",
     "start_time": "2023-06-30T05:56:45.818974Z"
    }
   }
  },
  {
   "cell_type": "code",
   "execution_count": 48,
   "outputs": [
    {
     "name": "stdout",
     "output_type": "stream",
     "text": [
      "1724.8\n",
      "1764.0\n",
      "1803.2\n",
      "1842.3999999999999\n",
      "1881.6\n",
      "1920.8\n"
     ]
    }
   ],
   "source": [
    "s = [0.88, 0.90, 0.92, 0.94, 0.96, 0.98]\n",
    "for r in s:\n",
    "    print(len(data1) * r)"
   ],
   "metadata": {
    "collapsed": false,
    "ExecuteTime": {
     "end_time": "2023-06-30T05:56:46.942464Z",
     "start_time": "2023-06-30T05:56:46.935922Z"
    }
   }
  },
  {
   "cell_type": "code",
   "execution_count": 24,
   "outputs": [],
   "source": [],
   "metadata": {
    "collapsed": false
   }
  },
  {
   "cell_type": "markdown",
   "source": [
    "# query selectivity"
   ],
   "metadata": {
    "collapsed": false
   }
  },
  {
   "cell_type": "code",
   "execution_count": 33,
   "outputs": [],
   "source": [
    "data = pd.read_csv('../../data/acs_income.csv', index_col=False)\n",
    "# data = data[(data['WKHP'] >= 44) & (data['SCHL'] >= 21)]\n",
    "# data = data[(data['COW'] == 3) | (data['COW'] == 4) | (data['COW'] == 5)]\n",
    "# len(data)\n"
   ],
   "metadata": {
    "collapsed": false
   }
  },
  {
   "cell_type": "code",
   "execution_count": 34,
   "outputs": [
    {
     "name": "stdout",
     "output_type": "stream",
     "text": [
      "0% percentile: 1.0\n",
      "10% percentile: 20.0\n",
      "20% percentile: 30.0\n",
      "30% percentile: 38.0\n",
      "40% percentile: 40.0\n",
      "50% percentile: 40.0\n",
      "60% percentile: 40.0\n",
      "70% percentile: 40.0\n",
      "80% percentile: 45.0\n",
      "90% percentile: 50.0\n",
      "100% percentile: 99.0\n"
     ]
    }
   ],
   "source": [
    "for i in range(0, 101, 10):\n",
    "    value = data['WKHP'].quantile(i / 100)\n",
    "    print(f\"{i}% percentile: {value}\")"
   ],
   "metadata": {
    "collapsed": false
   }
  },
  {
   "cell_type": "code",
   "execution_count": 35,
   "outputs": [
    {
     "name": "stdout",
     "output_type": "stream",
     "text": [
      "0% percentile: 1.0\n",
      "10% percentile: 16.0\n",
      "20% percentile: 16.0\n",
      "30% percentile: 17.0\n",
      "40% percentile: 19.0\n",
      "50% percentile: 19.0\n",
      "60% percentile: 20.0\n",
      "70% percentile: 21.0\n",
      "80% percentile: 21.0\n",
      "90% percentile: 22.0\n",
      "100% percentile: 24.0\n"
     ]
    }
   ],
   "source": [
    "for i in range(0, 101, 10):\n",
    "    value = data['SCHL'].quantile(i / 100)\n",
    "    print(f\"{i}% percentile: {value}\")"
   ],
   "metadata": {
    "collapsed": false
   }
  },
  {
   "cell_type": "code",
   "execution_count": null,
   "outputs": [],
   "source": [],
   "metadata": {
    "collapsed": false
   }
  }
 ],
 "metadata": {
  "kernelspec": {
   "display_name": "Python 3",
   "language": "python",
   "name": "python3"
  },
  "language_info": {
   "codemirror_mode": {
    "name": "ipython",
    "version": 2
   },
   "file_extension": ".py",
   "mimetype": "text/x-python",
   "name": "python",
   "nbconvert_exporter": "python",
   "pygments_lexer": "ipython2",
   "version": "2.7.6"
  }
 },
 "nbformat": 4,
 "nbformat_minor": 0
}
