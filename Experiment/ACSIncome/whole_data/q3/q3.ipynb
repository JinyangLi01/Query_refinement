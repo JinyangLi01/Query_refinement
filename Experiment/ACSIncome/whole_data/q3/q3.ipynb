{
 "cells": [
  {
   "cell_type": "code",
   "execution_count": 125,
   "metadata": {
    "collapsed": true,
    "ExecuteTime": {
     "end_time": "2023-06-26T06:13:38.257738Z",
     "start_time": "2023-06-26T06:13:38.248011Z"
    }
   },
   "outputs": [],
   "source": [
    "import os\n",
    "import time\n",
    "\n",
    "import matplotlib.pyplot as plt\n",
    "import matplotlib as mpl\n",
    "import numpy as np\n",
    "import pandas as pd\n",
    "import seaborn as sns\n",
    "sns.set_style('whitegrid', {'axes.edgecolor': '.2'})\n",
    "sns.set_context('notebook', font_scale=1.4)\n",
    "\n",
    "from fairlearn.datasets import fetch_acs_income"
   ]
  },
  {
   "cell_type": "code",
   "execution_count": 126,
   "outputs": [],
   "source": [
    "data = pd.read_csv('../../data/acs_income.csv', index_col=False)"
   ],
   "metadata": {
    "collapsed": false,
    "ExecuteTime": {
     "end_time": "2023-06-26T06:13:39.625478Z",
     "start_time": "2023-06-26T06:13:38.570226Z"
    }
   }
  },
  {
   "cell_type": "code",
   "execution_count": 127,
   "outputs": [
    {
     "name": "stdout",
     "output_type": "stream",
     "text": [
      "               AGEP           COW          SCHL           MAR          OCCP  \\\n",
      "count  1.664500e+06  1.664500e+06  1.664500e+06  1.664500e+06  1.664500e+06   \n",
      "mean   4.341127e+01  2.077500e+00  1.861814e+01  2.521997e+00  4.180517e+03   \n",
      "std    1.530203e+01  1.825338e+00  3.297826e+00  1.796720e+00  2.658717e+03   \n",
      "min    1.700000e+01  1.000000e+00  1.000000e+00  1.000000e+00  1.000000e+01   \n",
      "25%    3.000000e+01  1.000000e+00  1.600000e+01  1.000000e+00  2.205000e+03   \n",
      "50%    4.300000e+01  1.000000e+00  1.900000e+01  1.000000e+00  4.200000e+03   \n",
      "75%    5.600000e+01  3.000000e+00  2.100000e+01  5.000000e+00  5.740000e+03   \n",
      "max    9.600000e+01  8.000000e+00  2.400000e+01  5.000000e+00  9.830000e+03   \n",
      "\n",
      "               POBP          RELP          WKHP         RAC1P         PINCP  \n",
      "count  1.664500e+06  1.664500e+06  1.664500e+06  1.664500e+06  1.664500e+06  \n",
      "mean   6.581708e+01  2.241254e+00  3.833390e+01  1.874745e+00  5.666386e+04  \n",
      "std    9.306245e+01  4.385288e+00  1.308073e+01  2.084384e+00  7.306745e+04  \n",
      "min    1.000000e+00  0.000000e+00  1.000000e+00  1.000000e+00  1.040000e+02  \n",
      "25%    1.800000e+01  0.000000e+00  3.500000e+01  1.000000e+00  2.000000e+04  \n",
      "50%    3.600000e+01  1.000000e+00  4.000000e+01  1.000000e+00  3.900000e+04  \n",
      "75%    4.800000e+01  2.000000e+00  4.400000e+01  1.000000e+00  6.800000e+04  \n",
      "max    5.540000e+02  1.700000e+01  9.900000e+01  9.000000e+00  1.423000e+06  \n"
     ]
    }
   ],
   "source": [
    "print(data.describe())\n"
   ],
   "metadata": {
    "collapsed": false,
    "ExecuteTime": {
     "end_time": "2023-06-26T06:13:40.058758Z",
     "start_time": "2023-06-26T06:13:39.626796Z"
    }
   }
  },
  {
   "cell_type": "code",
   "execution_count": 128,
   "outputs": [
    {
     "name": "stdout",
     "output_type": "stream",
     "text": [
      "1664500\n",
      "797765\n",
      "0.4792820666866927\n"
     ]
    }
   ],
   "source": [
    "print(len(data))\n",
    "data1 = data[(data[\"SEX\"] == \"F\")]\n",
    "print(len(data1))\n",
    "print(len(data1)/len(data))"
   ],
   "metadata": {
    "collapsed": false,
    "ExecuteTime": {
     "end_time": "2023-06-26T06:13:40.158155Z",
     "start_time": "2023-06-26T06:13:40.124143Z"
    }
   }
  },
  {
   "cell_type": "code",
   "execution_count": 129,
   "outputs": [
    {
     "name": "stdout",
     "output_type": "stream",
     "text": [
      "147573\n",
      "0.08865905677380595\n"
     ]
    }
   ],
   "source": [
    "data2 = data[(data[\"RAC1P\"] == 2)]\n",
    "print(len(data2))\n",
    "print(len(data2)/len(data))"
   ],
   "metadata": {
    "collapsed": false,
    "ExecuteTime": {
     "end_time": "2023-06-26T06:13:40.172310Z",
     "start_time": "2023-06-26T06:13:40.159948Z"
    }
   }
  },
  {
   "cell_type": "code",
   "execution_count": 130,
   "outputs": [
    {
     "name": "stdout",
     "output_type": "stream",
     "text": [
      "1444173\n"
     ]
    }
   ],
   "source": [
    "print(len(data[data['WKHP'] >= 23]))"
   ],
   "metadata": {
    "collapsed": false,
    "ExecuteTime": {
     "end_time": "2023-06-26T06:13:40.915830Z",
     "start_time": "2023-06-26T06:13:40.831426Z"
    }
   }
  },
  {
   "cell_type": "code",
   "execution_count": 130,
   "outputs": [],
   "source": [
    "\n"
   ],
   "metadata": {
    "collapsed": false,
    "ExecuteTime": {
     "end_time": "2023-06-26T06:13:41.191649Z",
     "start_time": "2023-06-26T06:13:41.188451Z"
    }
   }
  },
  {
   "cell_type": "code",
   "execution_count": 130,
   "outputs": [],
   "source": [],
   "metadata": {
    "collapsed": false,
    "ExecuteTime": {
     "end_time": "2023-06-26T06:13:41.420291Z",
     "start_time": "2023-06-26T06:13:41.414654Z"
    }
   }
  },
  {
   "cell_type": "code",
   "execution_count": 130,
   "outputs": [],
   "source": [],
   "metadata": {
    "collapsed": false,
    "ExecuteTime": {
     "end_time": "2023-06-26T06:13:41.625937Z",
     "start_time": "2023-06-26T06:13:41.622464Z"
    }
   }
  },
  {
   "cell_type": "markdown",
   "source": [
    "# query"
   ],
   "metadata": {
    "collapsed": false
   }
  },
  {
   "cell_type": "code",
   "execution_count": 131,
   "outputs": [
    {
     "data": {
      "text/plain": "4367"
     },
     "execution_count": 131,
     "metadata": {},
     "output_type": "execute_result"
    }
   ],
   "source": [
    "\n",
    "data1 = data[(data['WKHP'] >= 60) & (data['SCHL'] <= 16)]\n",
    "data1 = data1[data1['PINCP_bucket'].isin([\"<20K\"])]\n",
    "# data1 = data1[data1['COW'].isin([\"8\", \"9\"])]\n",
    "len(data1)\n"
   ],
   "metadata": {
    "collapsed": false,
    "ExecuteTime": {
     "end_time": "2023-06-26T06:13:42.104986Z",
     "start_time": "2023-06-26T06:13:42.083767Z"
    }
   }
  },
  {
   "cell_type": "code",
   "execution_count": 132,
   "outputs": [],
   "source": [
    "\n",
    "data = data1"
   ],
   "metadata": {
    "collapsed": false,
    "ExecuteTime": {
     "end_time": "2023-06-26T06:13:42.873406Z",
     "start_time": "2023-06-26T06:13:42.864814Z"
    }
   }
  },
  {
   "cell_type": "code",
   "execution_count": 106,
   "outputs": [],
   "source": [
    "\n"
   ],
   "metadata": {
    "collapsed": false,
    "ExecuteTime": {
     "end_time": "2023-06-25T23:55:14.060314Z",
     "start_time": "2023-06-25T23:55:14.055690Z"
    }
   }
  },
  {
   "cell_type": "code",
   "execution_count": 107,
   "outputs": [],
   "source": [
    "relax_rate = 1.05\n",
    "contract_rate = 0.95\n",
    "relax_rate_change = [1.1, 1.2, 1.3, 1.4, 1.5, 1.6]\n",
    "contract_rate_change = [0.4, 0.5, 0.6, 0.7, 0.8, 0.9]"
   ],
   "metadata": {
    "collapsed": false,
    "ExecuteTime": {
     "end_time": "2023-06-25T23:55:14.381475Z",
     "start_time": "2023-06-25T23:55:14.377183Z"
    }
   }
  },
  {
   "cell_type": "markdown",
   "source": [
    "# relax"
   ],
   "metadata": {
    "collapsed": false
   }
  },
  {
   "cell_type": "code",
   "execution_count": 108,
   "outputs": [
    {
     "name": "stdout",
     "output_type": "stream",
     "text": [
      "1244\n",
      "1306.2\n"
     ]
    }
   ],
   "source": [
    "data1 = data[(data[\"SEX\"] == \"F\")]\n",
    "print(len(data1))\n",
    "print(len(data1) * relax_rate)"
   ],
   "metadata": {
    "collapsed": false,
    "ExecuteTime": {
     "end_time": "2023-06-25T23:55:15.442277Z",
     "start_time": "2023-06-25T23:55:15.425763Z"
    }
   }
  },
  {
   "cell_type": "code",
   "execution_count": 109,
   "outputs": [
    {
     "name": "stdout",
     "output_type": "stream",
     "text": [
      "1368.4\n",
      "1492.8\n",
      "1617.2\n",
      "1741.6\n",
      "1866.0\n",
      "1990.4\n"
     ]
    }
   ],
   "source": [
    "for s in relax_rate_change:\n",
    "    print(len(data1) * s)"
   ],
   "metadata": {
    "collapsed": false,
    "ExecuteTime": {
     "end_time": "2023-06-25T23:55:15.918552Z",
     "start_time": "2023-06-25T23:55:15.911718Z"
    }
   }
  },
  {
   "cell_type": "code",
   "execution_count": 110,
   "outputs": [
    {
     "name": "stdout",
     "output_type": "stream",
     "text": [
      "1492.8\n",
      "1741.6\n",
      "1990.4\n",
      "2239.2000000000003\n",
      "2488.0\n",
      "2736.8\n"
     ]
    }
   ],
   "source": [
    "for s in [1.2, 1.4, 1.6, 1.8, 2.0, 2.2]:\n",
    "    print(len(data1) * s)"
   ],
   "metadata": {
    "collapsed": false,
    "ExecuteTime": {
     "end_time": "2023-06-25T23:55:16.451334Z",
     "start_time": "2023-06-25T23:55:16.446358Z"
    }
   }
  },
  {
   "cell_type": "code",
   "execution_count": 111,
   "outputs": [
    {
     "name": "stdout",
     "output_type": "stream",
     "text": [
      "496\n",
      "520.8000000000001\n"
     ]
    }
   ],
   "source": [
    "data2 = data[(data[\"RAC1P\"] == 2)]\n",
    "print(len(data2))\n",
    "print(len(data2) * relax_rate)"
   ],
   "metadata": {
    "collapsed": false,
    "ExecuteTime": {
     "end_time": "2023-06-25T23:55:16.894928Z",
     "start_time": "2023-06-25T23:55:16.890772Z"
    }
   }
  },
  {
   "cell_type": "code",
   "execution_count": 112,
   "outputs": [],
   "source": [
    "# data3 = data[(data[\"SEX\"] == 'M') & (data[\"RAC1P\"] == 9)]\n",
    "# print(len(data3))\n",
    "# print(len(data3) * relax_rate)"
   ],
   "metadata": {
    "collapsed": false,
    "ExecuteTime": {
     "end_time": "2023-06-25T23:55:17.228112Z",
     "start_time": "2023-06-25T23:55:17.221192Z"
    }
   }
  },
  {
   "cell_type": "code",
   "execution_count": 112,
   "outputs": [],
   "source": [],
   "metadata": {
    "collapsed": false,
    "ExecuteTime": {
     "end_time": "2023-06-25T23:55:17.667209Z",
     "start_time": "2023-06-25T23:55:17.664304Z"
    }
   }
  },
  {
   "cell_type": "markdown",
   "source": [
    "# contract"
   ],
   "metadata": {
    "collapsed": false
   }
  },
  {
   "cell_type": "code",
   "execution_count": 113,
   "outputs": [
    {
     "name": "stdout",
     "output_type": "stream",
     "text": [
      "2978\n",
      "2829.1\n"
     ]
    }
   ],
   "source": [
    "data1 = data[(data[\"RAC1P\"] == 1)]\n",
    "print(len(data1))\n",
    "print(len(data1) * contract_rate)"
   ],
   "metadata": {
    "collapsed": false,
    "ExecuteTime": {
     "end_time": "2023-06-25T23:55:18.174997Z",
     "start_time": "2023-06-25T23:55:18.169855Z"
    }
   }
  },
  {
   "cell_type": "code",
   "execution_count": 114,
   "outputs": [
    {
     "name": "stdout",
     "output_type": "stream",
     "text": [
      "1191.2\n",
      "1489.0\n",
      "1786.8\n",
      "2084.6\n",
      "2382.4\n",
      "2680.2000000000003\n"
     ]
    }
   ],
   "source": [
    "for s in contract_rate_change:\n",
    "    print(len(data1) * s)"
   ],
   "metadata": {
    "collapsed": false,
    "ExecuteTime": {
     "end_time": "2023-06-25T23:55:18.386966Z",
     "start_time": "2023-06-25T23:55:18.381365Z"
    }
   }
  },
  {
   "cell_type": "code",
   "execution_count": 116,
   "outputs": [
    {
     "name": "stdout",
     "output_type": "stream",
     "text": [
      "2400\n",
      "2280.0\n"
     ]
    }
   ],
   "source": [
    "data1 = data[(data[\"age_bucket\"] == \"30-60\")]\n",
    "print(len(data1))\n",
    "print(len(data1) * contract_rate)"
   ],
   "metadata": {
    "collapsed": false,
    "ExecuteTime": {
     "end_time": "2023-06-25T23:58:32.485329Z",
     "start_time": "2023-06-25T23:58:32.478657Z"
    }
   }
  },
  {
   "cell_type": "code",
   "execution_count": 116,
   "outputs": [],
   "source": [],
   "metadata": {
    "collapsed": false,
    "ExecuteTime": {
     "end_time": "2023-06-25T23:58:32.825716Z",
     "start_time": "2023-06-25T23:58:32.820327Z"
    }
   }
  },
  {
   "cell_type": "code",
   "execution_count": 116,
   "outputs": [],
   "source": [],
   "metadata": {
    "collapsed": false,
    "ExecuteTime": {
     "end_time": "2023-06-25T23:58:33.045855Z",
     "start_time": "2023-06-25T23:58:33.040672Z"
    }
   }
  },
  {
   "cell_type": "markdown",
   "source": [
    "# refine"
   ],
   "metadata": {
    "collapsed": false
   }
  },
  {
   "cell_type": "code",
   "execution_count": 121,
   "outputs": [
    {
     "name": "stdout",
     "output_type": "stream",
     "text": [
      "496\n",
      "520.8000000000001\n"
     ]
    }
   ],
   "source": [
    "\n",
    "data1 = data[(data[\"RAC1P\"] == 2)]\n",
    "print(len(data1))\n",
    "print(len(data1) * 1.05)"
   ],
   "metadata": {
    "collapsed": false,
    "ExecuteTime": {
     "end_time": "2023-06-26T00:22:18.566532Z",
     "start_time": "2023-06-26T00:22:18.561109Z"
    }
   }
  },
  {
   "cell_type": "code",
   "execution_count": 122,
   "outputs": [],
   "source": [
    "# s = [1.02, 1.04, 1.06, 1.08, 1.10, 1.12]\n",
    "# for r in s:\n",
    "#     print(len(data1) * r)"
   ],
   "metadata": {
    "collapsed": false,
    "ExecuteTime": {
     "end_time": "2023-06-26T00:22:19.857304Z",
     "start_time": "2023-06-26T00:22:19.850084Z"
    }
   }
  },
  {
   "cell_type": "code",
   "execution_count": 123,
   "outputs": [
    {
     "name": "stdout",
     "output_type": "stream",
     "text": [
      "2400\n",
      "2280.0\n"
     ]
    }
   ],
   "source": [
    "data1 = data[(data[\"age_bucket\"] == \"30-60\")]\n",
    "print(len(data1))\n",
    "print(len(data1) * contract_rate)"
   ],
   "metadata": {
    "collapsed": false,
    "ExecuteTime": {
     "end_time": "2023-06-26T00:22:20.258703Z",
     "start_time": "2023-06-26T00:22:20.255199Z"
    }
   }
  },
  {
   "cell_type": "code",
   "execution_count": 124,
   "outputs": [
    {
     "name": "stdout",
     "output_type": "stream",
     "text": [
      "2112.0\n",
      "2160.0\n",
      "2208.0\n",
      "2256.0\n",
      "2304.0\n",
      "2352.0\n"
     ]
    }
   ],
   "source": [
    "s = [0.88, 0.90, 0.92, 0.94, 0.96, 0.98]\n",
    "for r in s:\n",
    "    print(len(data1) * r)"
   ],
   "metadata": {
    "collapsed": false,
    "ExecuteTime": {
     "end_time": "2023-06-26T00:22:20.675317Z",
     "start_time": "2023-06-26T00:22:20.670388Z"
    }
   }
  },
  {
   "cell_type": "code",
   "execution_count": 24,
   "outputs": [],
   "source": [],
   "metadata": {
    "collapsed": false
   }
  },
  {
   "cell_type": "markdown",
   "source": [
    "# query selectivity"
   ],
   "metadata": {
    "collapsed": false
   }
  },
  {
   "cell_type": "code",
   "execution_count": 33,
   "outputs": [],
   "source": [
    "data = pd.read_csv('../../data/acs_income.csv', index_col=False)\n",
    "# data = data[(data['WKHP'] >= 44) & (data['SCHL'] >= 21)]\n",
    "# data = data[(data['COW'] == 3) | (data['COW'] == 4) | (data['COW'] == 5)]\n",
    "# len(data)\n"
   ],
   "metadata": {
    "collapsed": false
   }
  },
  {
   "cell_type": "code",
   "execution_count": 34,
   "outputs": [
    {
     "name": "stdout",
     "output_type": "stream",
     "text": [
      "0% percentile: 1.0\n",
      "10% percentile: 20.0\n",
      "20% percentile: 30.0\n",
      "30% percentile: 38.0\n",
      "40% percentile: 40.0\n",
      "50% percentile: 40.0\n",
      "60% percentile: 40.0\n",
      "70% percentile: 40.0\n",
      "80% percentile: 45.0\n",
      "90% percentile: 50.0\n",
      "100% percentile: 99.0\n"
     ]
    }
   ],
   "source": [
    "for i in range(0, 101, 10):\n",
    "    value = data['WKHP'].quantile(i / 100)\n",
    "    print(f\"{i}% percentile: {value}\")"
   ],
   "metadata": {
    "collapsed": false
   }
  },
  {
   "cell_type": "code",
   "execution_count": 35,
   "outputs": [
    {
     "name": "stdout",
     "output_type": "stream",
     "text": [
      "0% percentile: 1.0\n",
      "10% percentile: 16.0\n",
      "20% percentile: 16.0\n",
      "30% percentile: 17.0\n",
      "40% percentile: 19.0\n",
      "50% percentile: 19.0\n",
      "60% percentile: 20.0\n",
      "70% percentile: 21.0\n",
      "80% percentile: 21.0\n",
      "90% percentile: 22.0\n",
      "100% percentile: 24.0\n"
     ]
    }
   ],
   "source": [
    "for i in range(0, 101, 10):\n",
    "    value = data['SCHL'].quantile(i / 100)\n",
    "    print(f\"{i}% percentile: {value}\")"
   ],
   "metadata": {
    "collapsed": false
   }
  },
  {
   "cell_type": "code",
   "execution_count": null,
   "outputs": [],
   "source": [],
   "metadata": {
    "collapsed": false
   }
  }
 ],
 "metadata": {
  "kernelspec": {
   "display_name": "Python 3",
   "language": "python",
   "name": "python3"
  },
  "language_info": {
   "codemirror_mode": {
    "name": "ipython",
    "version": 2
   },
   "file_extension": ".py",
   "mimetype": "text/x-python",
   "name": "python",
   "nbconvert_exporter": "python",
   "pygments_lexer": "ipython2",
   "version": "2.7.6"
  }
 },
 "nbformat": 4,
 "nbformat_minor": 0
}
