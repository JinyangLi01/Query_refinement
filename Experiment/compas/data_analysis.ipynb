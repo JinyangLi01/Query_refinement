{
 "cells": [
  {
   "cell_type": "code",
   "execution_count": 27,
   "outputs": [],
   "source": [
    "import numpy as np\n",
    "import pandas as pd\n",
    "import csv\n",
    "import json\n"
   ],
   "metadata": {
    "collapsed": false,
    "pycharm": {
     "name": "#%%\n"
    }
   }
  },
  {
   "cell_type": "code",
   "execution_count": 28,
   "outputs": [
    {
     "data": {
      "text/plain": "Index(['id', 'name', 'first', 'last', 'compas-screening-date', 'sex', 'dob',\n       'age', 'age-cat', 'race', 'juv-fel-count', 'decile-score',\n       'juv-misd-count', 'juv-other-count', 'priors-count',\n       'days-b-screening-arrest', 'c-jail-in', 'c-jail-out', 'c-case-number',\n       'c-offense-date', 'c-arrest-date', 'c-days-from-compas',\n       'c-charge-degree', 'c-charge-desc', 'is-recid', 'num-r-cases',\n       'r-case-number', 'r-charge-degree', 'r-days-from-arrest',\n       'r-offense-date', 'r-charge-desc', 'r-jail-in', 'r-jail-out',\n       'is-violent-recid', 'num-vr-cases', 'vr-case-number',\n       'vr-charge-degree', 'vr-offense-date', 'vr-charge-desc',\n       'v-type-of-assessment', 'v-decile-score', 'v-score-text',\n       'v-screening-date', 'type-of-assessment', 'decile-score.1',\n       'score-text', 'screening-date'],\n      dtype='object')"
     },
     "execution_count": 28,
     "metadata": {},
     "output_type": "execute_result"
    }
   ],
   "source": [
    "data_file = r\"compas-scores.csv\"\n",
    "data = pd.read_csv(data_file, index_col=False)\n",
    "\n",
    "data.columns"
   ],
   "metadata": {
    "collapsed": false,
    "pycharm": {
     "name": "#%%\n"
    }
   }
  },
  {
   "cell_type": "code",
   "execution_count": 29,
   "outputs": [
    {
     "name": "stdout",
     "output_type": "stream",
     "text": [
      "['O' 'F' 'M']\n",
      "[nan '(F3)' '(F2)' '(F1)' '(M1)' '(MO3)' '(M2)' '(F6)' '(F7)' '(F5)']\n",
      "['F' 'O' 'M']\n"
     ]
    }
   ],
   "source": [
    "\n",
    "print(data['r-charge-degree'].unique())\n",
    "\n",
    "\n",
    "print(data['vr-charge-degree'].unique())\n",
    "\n",
    "print(data['c-charge-degree'].unique())\n",
    "\n",
    "\n"
   ],
   "metadata": {
    "collapsed": false,
    "pycharm": {
     "name": "#%%\n"
    }
   }
  },
  {
   "cell_type": "code",
   "execution_count": 30,
   "outputs": [
    {
     "data": {
      "text/plain": "                 id           age  juv-fel-count  decile-score  \\\ncount  11757.000000  11757.000000   11757.000000  11757.000000   \nmean    5879.000000     35.143319       0.061580      4.371268   \nstd     3394.097892     12.022894       0.445328      2.877598   \nmin        1.000000     18.000000       0.000000     -1.000000   \n25%     2940.000000     25.000000       0.000000      2.000000   \n50%     5879.000000     32.000000       0.000000      4.000000   \n75%     8818.000000     43.000000       0.000000      7.000000   \nmax    11757.000000     96.000000      20.000000     10.000000   \n\n       juv-misd-count  juv-other-count  priors-count  days-b-screening-arrest  \\\ncount    11757.000000     11757.000000  11757.000000             10577.000000   \nmean         0.076040         0.093561      3.082164                -0.878037   \nstd          0.449757         0.472003      4.687410                72.889298   \nmin          0.000000         0.000000      0.000000              -597.000000   \n25%          0.000000         0.000000      0.000000                -1.000000   \n50%          0.000000         0.000000      1.000000                -1.000000   \n75%          0.000000         0.000000      4.000000                -1.000000   \nmax         13.000000        17.000000     43.000000              1057.000000   \n\n       c-days-from-compas      is-recid  num-r-cases  r-days-from-arrest  \\\ncount        11015.000000  11757.000000          0.0         2460.000000   \nmean            63.587653      0.253806          NaN           20.410569   \nstd            341.899711      0.558324          NaN           74.354840   \nmin              0.000000     -1.000000          NaN           -1.000000   \n25%              1.000000      0.000000          NaN            0.000000   \n50%              1.000000      0.000000          NaN            0.000000   \n75%              2.000000      1.000000          NaN            1.000000   \nmax           9485.000000      1.000000          NaN          993.000000   \n\n       is-violent-recid  num-vr-cases  v-decile-score  decile-score.1  \ncount      11757.000000           0.0    11757.000000    11757.000000  \nmean           0.075019           NaN        3.571489        4.371268  \nstd            0.263433           NaN        2.500479        2.877598  \nmin            0.000000           NaN       -1.000000       -1.000000  \n25%            0.000000           NaN        1.000000        2.000000  \n50%            0.000000           NaN        3.000000        4.000000  \n75%            0.000000           NaN        5.000000        7.000000  \nmax            1.000000           NaN       10.000000       10.000000  ",
      "text/html": "<div>\n<style scoped>\n    .dataframe tbody tr th:only-of-type {\n        vertical-align: middle;\n    }\n\n    .dataframe tbody tr th {\n        vertical-align: top;\n    }\n\n    .dataframe thead th {\n        text-align: right;\n    }\n</style>\n<table border=\"1\" class=\"dataframe\">\n  <thead>\n    <tr style=\"text-align: right;\">\n      <th></th>\n      <th>id</th>\n      <th>age</th>\n      <th>juv-fel-count</th>\n      <th>decile-score</th>\n      <th>juv-misd-count</th>\n      <th>juv-other-count</th>\n      <th>priors-count</th>\n      <th>days-b-screening-arrest</th>\n      <th>c-days-from-compas</th>\n      <th>is-recid</th>\n      <th>num-r-cases</th>\n      <th>r-days-from-arrest</th>\n      <th>is-violent-recid</th>\n      <th>num-vr-cases</th>\n      <th>v-decile-score</th>\n      <th>decile-score.1</th>\n    </tr>\n  </thead>\n  <tbody>\n    <tr>\n      <th>count</th>\n      <td>11757.000000</td>\n      <td>11757.000000</td>\n      <td>11757.000000</td>\n      <td>11757.000000</td>\n      <td>11757.000000</td>\n      <td>11757.000000</td>\n      <td>11757.000000</td>\n      <td>10577.000000</td>\n      <td>11015.000000</td>\n      <td>11757.000000</td>\n      <td>0.0</td>\n      <td>2460.000000</td>\n      <td>11757.000000</td>\n      <td>0.0</td>\n      <td>11757.000000</td>\n      <td>11757.000000</td>\n    </tr>\n    <tr>\n      <th>mean</th>\n      <td>5879.000000</td>\n      <td>35.143319</td>\n      <td>0.061580</td>\n      <td>4.371268</td>\n      <td>0.076040</td>\n      <td>0.093561</td>\n      <td>3.082164</td>\n      <td>-0.878037</td>\n      <td>63.587653</td>\n      <td>0.253806</td>\n      <td>NaN</td>\n      <td>20.410569</td>\n      <td>0.075019</td>\n      <td>NaN</td>\n      <td>3.571489</td>\n      <td>4.371268</td>\n    </tr>\n    <tr>\n      <th>std</th>\n      <td>3394.097892</td>\n      <td>12.022894</td>\n      <td>0.445328</td>\n      <td>2.877598</td>\n      <td>0.449757</td>\n      <td>0.472003</td>\n      <td>4.687410</td>\n      <td>72.889298</td>\n      <td>341.899711</td>\n      <td>0.558324</td>\n      <td>NaN</td>\n      <td>74.354840</td>\n      <td>0.263433</td>\n      <td>NaN</td>\n      <td>2.500479</td>\n      <td>2.877598</td>\n    </tr>\n    <tr>\n      <th>min</th>\n      <td>1.000000</td>\n      <td>18.000000</td>\n      <td>0.000000</td>\n      <td>-1.000000</td>\n      <td>0.000000</td>\n      <td>0.000000</td>\n      <td>0.000000</td>\n      <td>-597.000000</td>\n      <td>0.000000</td>\n      <td>-1.000000</td>\n      <td>NaN</td>\n      <td>-1.000000</td>\n      <td>0.000000</td>\n      <td>NaN</td>\n      <td>-1.000000</td>\n      <td>-1.000000</td>\n    </tr>\n    <tr>\n      <th>25%</th>\n      <td>2940.000000</td>\n      <td>25.000000</td>\n      <td>0.000000</td>\n      <td>2.000000</td>\n      <td>0.000000</td>\n      <td>0.000000</td>\n      <td>0.000000</td>\n      <td>-1.000000</td>\n      <td>1.000000</td>\n      <td>0.000000</td>\n      <td>NaN</td>\n      <td>0.000000</td>\n      <td>0.000000</td>\n      <td>NaN</td>\n      <td>1.000000</td>\n      <td>2.000000</td>\n    </tr>\n    <tr>\n      <th>50%</th>\n      <td>5879.000000</td>\n      <td>32.000000</td>\n      <td>0.000000</td>\n      <td>4.000000</td>\n      <td>0.000000</td>\n      <td>0.000000</td>\n      <td>1.000000</td>\n      <td>-1.000000</td>\n      <td>1.000000</td>\n      <td>0.000000</td>\n      <td>NaN</td>\n      <td>0.000000</td>\n      <td>0.000000</td>\n      <td>NaN</td>\n      <td>3.000000</td>\n      <td>4.000000</td>\n    </tr>\n    <tr>\n      <th>75%</th>\n      <td>8818.000000</td>\n      <td>43.000000</td>\n      <td>0.000000</td>\n      <td>7.000000</td>\n      <td>0.000000</td>\n      <td>0.000000</td>\n      <td>4.000000</td>\n      <td>-1.000000</td>\n      <td>2.000000</td>\n      <td>1.000000</td>\n      <td>NaN</td>\n      <td>1.000000</td>\n      <td>0.000000</td>\n      <td>NaN</td>\n      <td>5.000000</td>\n      <td>7.000000</td>\n    </tr>\n    <tr>\n      <th>max</th>\n      <td>11757.000000</td>\n      <td>96.000000</td>\n      <td>20.000000</td>\n      <td>10.000000</td>\n      <td>13.000000</td>\n      <td>17.000000</td>\n      <td>43.000000</td>\n      <td>1057.000000</td>\n      <td>9485.000000</td>\n      <td>1.000000</td>\n      <td>NaN</td>\n      <td>993.000000</td>\n      <td>1.000000</td>\n      <td>NaN</td>\n      <td>10.000000</td>\n      <td>10.000000</td>\n    </tr>\n  </tbody>\n</table>\n</div>"
     },
     "execution_count": 30,
     "metadata": {},
     "output_type": "execute_result"
    }
   ],
   "source": [
    "\n",
    "data.describe()\n"
   ],
   "metadata": {
    "collapsed": false,
    "pycharm": {
     "name": "#%%\n"
    }
   }
  },
  {
   "cell_type": "code",
   "execution_count": 31,
   "outputs": [
    {
     "name": "stdout",
     "output_type": "stream",
     "text": [
      "2\n"
     ]
    }
   ],
   "source": [
    "\n",
    "print(len(data[data[\"juv-fel-count\"] == 10]))\n"
   ],
   "metadata": {
    "collapsed": false,
    "pycharm": {
     "name": "#%%\n"
    }
   }
  },
  {
   "cell_type": "markdown",
   "source": [
    "# q1"
   ],
   "metadata": {
    "collapsed": false,
    "pycharm": {
     "name": "#%% md\n"
    }
   }
  },
  {
   "cell_type": "code",
   "execution_count": 58,
   "outputs": [
    {
     "name": "stdout",
     "output_type": "stream",
     "text": [
      "11757\n",
      "11757\n",
      "11742\n",
      "1201\n",
      "352\n",
      "202\n"
     ]
    }
   ],
   "source": [
    "data_file = r\"compas-scores.csv\"\n",
    "data = pd.read_csv(data_file, index_col=False)\n",
    "\n",
    "print(len(data))\n",
    "data1 = data[data['juv-fel-count'] >= 0]\n",
    "print(len(data1))\n",
    "data2 = data1[data1['decile-score'] >= 0]\n",
    "print(len(data2))\n",
    "data3 = data2[(data2[\"r-charge-degree\"] == \"F\")]\n",
    "print(len(data3))\n",
    "\n",
    "data3_caucasian = data3[data3[\"race\"] == \"Caucasian\"]\n",
    "print(len(data3_caucasian))\n",
    "\n",
    "data3_45 = data3[data3[\"age-cat\"] == \"Greater than 45\"]\n",
    "print(len(data3_45))\n",
    "# print(data3.groupby(['race']).size())\n",
    "# print(data3.groupby(['age-cat']).size())\n"
   ],
   "metadata": {
    "collapsed": false,
    "pycharm": {
     "name": "#%%\n"
    }
   }
  },
  {
   "cell_type": "markdown",
   "source": [
    "# q2"
   ],
   "metadata": {
    "collapsed": false,
    "pycharm": {
     "name": "#%% md\n"
    }
   }
  },
  {
   "cell_type": "code",
   "execution_count": 64,
   "outputs": [
    {
     "name": "stdout",
     "output_type": "stream",
     "text": [
      "11757\n",
      "11755\n",
      "6332\n",
      "338\n",
      "107\n",
      "51\n"
     ]
    }
   ],
   "source": [
    "data_file = r\"compas-scores.csv\"\n",
    "data = pd.read_csv(data_file, index_col=False)\n",
    "\n",
    "print(len(data))\n",
    "data1 = data[data['juv-fel-count'] <= 10]\n",
    "print(len(data1))\n",
    "data2 = data1[data1['decile-score'] >= 4]\n",
    "print(len(data2))\n",
    "data3 = data2[(data2[\"c-charge-degree\"] == \"O\")]\n",
    "print(len(data3))\n",
    "\n",
    "data3_caucasian = data3[data3[\"race\"] == \"Caucasian\"]\n",
    "print(len(data3_caucasian))\n",
    "\n",
    "data3_45 = data3[data3[\"age-cat\"] == \"Greater than 45\"]\n",
    "print(len(data3_45))\n",
    "\n"
   ],
   "metadata": {
    "collapsed": false,
    "pycharm": {
     "name": "#%%\n"
    }
   }
  },
  {
   "cell_type": "code",
   "execution_count": null,
   "outputs": [],
   "source": [
    "\n",
    "print(data3.groupby(['sex', 'age-cat']).size())\n",
    "\n",
    "print(data3.groupby(['race']).size())\n",
    "print(data3.groupby(['age-cat']).size())\n",
    "print(data3.groupby(['sex']).size())"
   ],
   "metadata": {
    "collapsed": false,
    "pycharm": {
     "name": "#%%\n"
    }
   }
  },
  {
   "cell_type": "code",
   "execution_count": null,
   "outputs": [],
   "source": [],
   "metadata": {
    "collapsed": false,
    "pycharm": {
     "name": "#%%\n"
    }
   }
  }
 ],
 "metadata": {
  "kernelspec": {
   "display_name": "Python 3",
   "language": "python",
   "name": "python3"
  },
  "language_info": {
   "codemirror_mode": {
    "name": "ipython",
    "version": 2
   },
   "file_extension": ".py",
   "mimetype": "text/x-python",
   "name": "python",
   "nbconvert_exporter": "python",
   "pygments_lexer": "ipython2",
   "version": "2.7.6"
  }
 },
 "nbformat": 4,
 "nbformat_minor": 0
}