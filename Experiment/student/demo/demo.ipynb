{
 "cells": [
  {
   "cell_type": "code",
   "execution_count": 15,
   "metadata": {
    "collapsed": true
   },
   "outputs": [],
   "source": [
    "import os\n",
    "import sys\n",
    "module_path = os.path.abspath(os.path.join('../../../'))\n",
    "if module_path not in sys.path:\n",
    "    sys.path.append(module_path)\n",
    "import pandas as pd\n",
    "from Algorithm import ProvenanceSearchValues_6_20220825 as ps\n",
    "from Algorithm import LatticeTraversal_4_20220901 as lt\n"
   ]
  },
  {
   "cell_type": "code",
   "execution_count": 20,
   "outputs": [],
   "source": [
    "data_file = \"../../../InputData/Student/student-mat_cat_ranked.csv\"\n",
    "student = pd.read_csv(data_file)\n"
   ],
   "metadata": {
    "collapsed": false
   }
  },
  {
   "cell_type": "code",
   "execution_count": 21,
   "outputs": [
    {
     "data": {
      "text/plain": "  school sex  age address famsize Pstatus  Medu  Fedu      Mjob      Fjob  \\\n0     GP   M   16       U     GT3       T     4     3    health  services   \n1     GP   M   15       U     LE3       A     3     2  services     other   \n2     GP   M   15       U     LE3       A     4     4   teacher   teacher   \n3     GP   M   15       U     LE3       T     4     2   teacher     other   \n\n   ... freetime-C goout-C  Dalc-C  Walc-C  health-C absences-C G1-C G2-C G3-C  \\\n0  ...          2       2       1       1         2          0    1    1    1   \n1  ...          2       2       1       1         1          0    1    1    1   \n2  ...          5       3       1       1         4          0    1    1    1   \n3  ...          5       2       1       1         3          0    1    1    1   \n\n  rank  \n0 1.00  \n1 2.00  \n2 3.00  \n3 4.00  \n\n[4 rows x 67 columns]",
      "text/html": "<div>\n<style scoped>\n    .dataframe tbody tr th:only-of-type {\n        vertical-align: middle;\n    }\n\n    .dataframe tbody tr th {\n        vertical-align: top;\n    }\n\n    .dataframe thead th {\n        text-align: right;\n    }\n</style>\n<table border=\"1\" class=\"dataframe\">\n  <thead>\n    <tr style=\"text-align: right;\">\n      <th></th>\n      <th>school</th>\n      <th>sex</th>\n      <th>age</th>\n      <th>address</th>\n      <th>famsize</th>\n      <th>Pstatus</th>\n      <th>Medu</th>\n      <th>Fedu</th>\n      <th>Mjob</th>\n      <th>Fjob</th>\n      <th>...</th>\n      <th>freetime-C</th>\n      <th>goout-C</th>\n      <th>Dalc-C</th>\n      <th>Walc-C</th>\n      <th>health-C</th>\n      <th>absences-C</th>\n      <th>G1-C</th>\n      <th>G2-C</th>\n      <th>G3-C</th>\n      <th>rank</th>\n    </tr>\n  </thead>\n  <tbody>\n    <tr>\n      <th>0</th>\n      <td>GP</td>\n      <td>M</td>\n      <td>16</td>\n      <td>U</td>\n      <td>GT3</td>\n      <td>T</td>\n      <td>4</td>\n      <td>3</td>\n      <td>health</td>\n      <td>services</td>\n      <td>...</td>\n      <td>2</td>\n      <td>2</td>\n      <td>1</td>\n      <td>1</td>\n      <td>2</td>\n      <td>0</td>\n      <td>1</td>\n      <td>1</td>\n      <td>1</td>\n      <td>1.00</td>\n    </tr>\n    <tr>\n      <th>1</th>\n      <td>GP</td>\n      <td>M</td>\n      <td>15</td>\n      <td>U</td>\n      <td>LE3</td>\n      <td>A</td>\n      <td>3</td>\n      <td>2</td>\n      <td>services</td>\n      <td>other</td>\n      <td>...</td>\n      <td>2</td>\n      <td>2</td>\n      <td>1</td>\n      <td>1</td>\n      <td>1</td>\n      <td>0</td>\n      <td>1</td>\n      <td>1</td>\n      <td>1</td>\n      <td>2.00</td>\n    </tr>\n    <tr>\n      <th>2</th>\n      <td>GP</td>\n      <td>M</td>\n      <td>15</td>\n      <td>U</td>\n      <td>LE3</td>\n      <td>A</td>\n      <td>4</td>\n      <td>4</td>\n      <td>teacher</td>\n      <td>teacher</td>\n      <td>...</td>\n      <td>5</td>\n      <td>3</td>\n      <td>1</td>\n      <td>1</td>\n      <td>4</td>\n      <td>0</td>\n      <td>1</td>\n      <td>1</td>\n      <td>1</td>\n      <td>3.00</td>\n    </tr>\n    <tr>\n      <th>3</th>\n      <td>GP</td>\n      <td>M</td>\n      <td>15</td>\n      <td>U</td>\n      <td>LE3</td>\n      <td>T</td>\n      <td>4</td>\n      <td>2</td>\n      <td>teacher</td>\n      <td>other</td>\n      <td>...</td>\n      <td>5</td>\n      <td>2</td>\n      <td>1</td>\n      <td>1</td>\n      <td>3</td>\n      <td>0</td>\n      <td>1</td>\n      <td>1</td>\n      <td>1</td>\n      <td>4.00</td>\n    </tr>\n  </tbody>\n</table>\n<p>4 rows × 67 columns</p>\n</div>"
     },
     "execution_count": 21,
     "metadata": {},
     "output_type": "execute_result"
    }
   ],
   "source": [
    "student[:4]"
   ],
   "metadata": {
    "collapsed": false
   }
  },
  {
   "cell_type": "code",
   "execution_count": 27,
   "outputs": [
    {
     "name": "stdout",
     "output_type": "stream",
     "text": [
      "25\n",
      "1\n"
     ]
    }
   ],
   "source": [
    "select = student[student['G3'] >= 15]\n",
    "select = select[select['failures'] <= 3]\n",
    "select = select[(select['Mjob'] == 'health') | (select['Mjob'] == 'teacher') ]\n",
    "print(len(select))\n",
    "print(len(select[select['school'] == 'MS']))"
   ],
   "metadata": {
    "collapsed": false
   }
  },
  {
   "cell_type": "code",
   "execution_count": 28,
   "outputs": [
    {
     "name": "stdout",
     "output_type": "stream",
     "text": [
      "selected_attributes ['G3', 'failures', 'Mjob']\n",
      "prepare time = 0.0011970996856689453\n",
      "time of test_satisfying_rows = 9.5367431640625e-07\n",
      "time of get_provenance_relax_only = 0.0800471305847168\n",
      "len(data) not satisfying = 147\n",
      "possible_value_table:\n",
      "     G3  failures  Mjob_services  Mjob_at-home  Mjob_other\n",
      "0   17      1.00           0.00          0.00        0.00\n",
      "1   16      2.00           1.00          1.00        1.00\n",
      "2   15      3.00            NaN           NaN         NaN\n",
      "3   14       NaN            NaN           NaN         NaN\n",
      "4   13       NaN            NaN           NaN         NaN\n",
      "5   12       NaN            NaN           NaN         NaN\n",
      "6   11       NaN            NaN           NaN         NaN\n",
      "7   10       NaN            NaN           NaN         NaN\n",
      "8    9       NaN            NaN           NaN         NaN\n",
      "9    8       NaN            NaN           NaN         NaN\n",
      "10   7       NaN            NaN           NaN         NaN\n",
      "11   6       NaN            NaN           NaN         NaN\n",
      "12   5       NaN            NaN           NaN         NaN\n",
      "13   4       NaN            NaN           NaN         NaN\n",
      "14   0       NaN            NaN           NaN         NaN\n",
      "num of iterations = 13, search space = 60, assign_to_provenance_num = 88\n",
      "provenance time = 0.10518002510070801\n",
      "searching time = 0.06087088584899902\n",
      "[[15, 1.0, 1.0, 1.0, 1.0], [15, 2.0, 0.0, 1.0, 1.0], [14, 1.0, 0.0, 1.0, 1.0], [13, 1.0, 0.0, 0.0, 1.0], [10, 1.0, 0.0, 0.0, 0.0], [13, 1.0, 0.0, 1.0, 0.0], [13, 2.0, 0.0, 0.0, 0.0], [14, 2.0, 1.0, 0.0, 1.0], [13, 1.0, 1.0, 0.0, 0.0], [14, 2.0, 1.0, 1.0, 0.0]]\n"
     ]
    }
   ],
   "source": [
    "query_file = r\"query1.json\"\n",
    "constraint_file = r\"constraint1.json\"\n",
    "time_limit = 5 * 60\n",
    "minimal_refinements1, running_time1, assign_to_provenance_num, \\\n",
    "    provenance_time, search_time = \\\n",
    "        ps.FindMinimalRefinement(data_file, query_file, constraint_file, time_limit)\n",
    "print(minimal_refinements1)"
   ],
   "metadata": {
    "collapsed": false
   }
  },
  {
   "cell_type": "code",
   "execution_count": null,
   "outputs": [],
   "source": [],
   "metadata": {
    "collapsed": false
   }
  }
 ],
 "metadata": {
  "kernelspec": {
   "display_name": "Python 3",
   "language": "python",
   "name": "python3"
  },
  "language_info": {
   "codemirror_mode": {
    "name": "ipython",
    "version": 2
   },
   "file_extension": ".py",
   "mimetype": "text/x-python",
   "name": "python",
   "nbconvert_exporter": "python",
   "pygments_lexer": "ipython2",
   "version": "2.7.6"
  }
 },
 "nbformat": 4,
 "nbformat_minor": 0
}
