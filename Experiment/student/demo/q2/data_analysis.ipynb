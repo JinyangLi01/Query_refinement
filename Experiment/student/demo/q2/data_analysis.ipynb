{
 "cells": [
  {
   "cell_type": "code",
   "execution_count": 55,
   "outputs": [],
   "source": [
    "import pandas as pd\n",
    "import numpy as np\n",
    "import csv\n",
    "import matplotlib.pyplot as plt\n"
   ],
   "metadata": {
    "collapsed": false
   }
  },
  {
   "cell_type": "code",
   "execution_count": 56,
   "outputs": [
    {
     "data": {
      "text/plain": "   Unnamed: 0  id school sex    age address famsize Pstatus  Medu  Fedu  ...  \\\n0           0   1     GP   F  17-18   Urban     GT3       A     4     4  ...   \n1           1   2     GP   F  17-18   Urban     GT3       T     1     1  ...   \n2           2   3     GP   F  15-16   Urban     LE3       T     1     1  ...   \n\n  freetime goout Dalc Walc  health  absences  grade1 grade2 grade3  all  \n0        3     4    1    1       3         6       5      6      6  yes  \n1        3     3    1    1       3         4       5      5      6  yes  \n2        3     2    2    3       3        10       7      8     10  yes  \n\n[3 rows x 36 columns]",
      "text/html": "<div>\n<style scoped>\n    .dataframe tbody tr th:only-of-type {\n        vertical-align: middle;\n    }\n\n    .dataframe tbody tr th {\n        vertical-align: top;\n    }\n\n    .dataframe thead th {\n        text-align: right;\n    }\n</style>\n<table border=\"1\" class=\"dataframe\">\n  <thead>\n    <tr style=\"text-align: right;\">\n      <th></th>\n      <th>Unnamed: 0</th>\n      <th>id</th>\n      <th>school</th>\n      <th>sex</th>\n      <th>age</th>\n      <th>address</th>\n      <th>famsize</th>\n      <th>Pstatus</th>\n      <th>Medu</th>\n      <th>Fedu</th>\n      <th>...</th>\n      <th>freetime</th>\n      <th>goout</th>\n      <th>Dalc</th>\n      <th>Walc</th>\n      <th>health</th>\n      <th>absences</th>\n      <th>grade1</th>\n      <th>grade2</th>\n      <th>grade3</th>\n      <th>all</th>\n    </tr>\n  </thead>\n  <tbody>\n    <tr>\n      <th>0</th>\n      <td>0</td>\n      <td>1</td>\n      <td>GP</td>\n      <td>F</td>\n      <td>17-18</td>\n      <td>Urban</td>\n      <td>GT3</td>\n      <td>A</td>\n      <td>4</td>\n      <td>4</td>\n      <td>...</td>\n      <td>3</td>\n      <td>4</td>\n      <td>1</td>\n      <td>1</td>\n      <td>3</td>\n      <td>6</td>\n      <td>5</td>\n      <td>6</td>\n      <td>6</td>\n      <td>yes</td>\n    </tr>\n    <tr>\n      <th>1</th>\n      <td>1</td>\n      <td>2</td>\n      <td>GP</td>\n      <td>F</td>\n      <td>17-18</td>\n      <td>Urban</td>\n      <td>GT3</td>\n      <td>T</td>\n      <td>1</td>\n      <td>1</td>\n      <td>...</td>\n      <td>3</td>\n      <td>3</td>\n      <td>1</td>\n      <td>1</td>\n      <td>3</td>\n      <td>4</td>\n      <td>5</td>\n      <td>5</td>\n      <td>6</td>\n      <td>yes</td>\n    </tr>\n    <tr>\n      <th>2</th>\n      <td>2</td>\n      <td>3</td>\n      <td>GP</td>\n      <td>F</td>\n      <td>15-16</td>\n      <td>Urban</td>\n      <td>LE3</td>\n      <td>T</td>\n      <td>1</td>\n      <td>1</td>\n      <td>...</td>\n      <td>3</td>\n      <td>2</td>\n      <td>2</td>\n      <td>3</td>\n      <td>3</td>\n      <td>10</td>\n      <td>7</td>\n      <td>8</td>\n      <td>10</td>\n      <td>yes</td>\n    </tr>\n  </tbody>\n</table>\n<p>3 rows × 36 columns</p>\n</div>"
     },
     "execution_count": 56,
     "metadata": {},
     "output_type": "execute_result"
    }
   ],
   "source": [
    "data = pd.read_csv('../../data/students.csv')\n",
    "data[:3]\n"
   ],
   "metadata": {
    "collapsed": false
   }
  },
  {
   "cell_type": "markdown",
   "source": [
    "# original query:\n"
   ],
   "metadata": {
    "collapsed": false
   }
  },
  {
   "cell_type": "code",
   "execution_count": 57,
   "outputs": [],
   "source": [
    "data1 = data[(data[\"age\"] == \"15-16\") | (data[\"age\"] == \"17-18\")]\n",
    "data1 = data1[data1[\"higherEdIntention\"] == \"yes\"]\n",
    "data1 = data1[(data1[\"grade1\"] >= 13) & (data1[\"grade2\"] >= 13)]"
   ],
   "metadata": {
    "collapsed": false
   }
  },
  {
   "cell_type": "code",
   "execution_count": 58,
   "outputs": [
    {
     "name": "stdout",
     "output_type": "stream",
     "text": [
      "13\n",
      "46 54\n",
      "100\n"
     ]
    }
   ],
   "source": [
    "print(len(data1[data1[\"address\"] == \"Rural\"]))\n",
    "print(len(data1[data1[\"sex\"] == \"F\"]), len(data1[data1[\"sex\"] == \"M\"]))\n",
    "print(len(data1))"
   ],
   "metadata": {
    "collapsed": false
   }
  },
  {
   "cell_type": "code",
   "execution_count": null,
   "outputs": [],
   "source": [],
   "metadata": {
    "collapsed": false
   }
  },
  {
   "cell_type": "code",
   "execution_count": null,
   "outputs": [],
   "source": [],
   "metadata": {
    "collapsed": false
   }
  },
  {
   "cell_type": "code",
   "execution_count": 65,
   "outputs": [],
   "source": [
    "data1 = data[(data[\"age\"] == \"17-18\") | (data[\"age\"] == \"15-16\")]\n",
    "data1 = data1[(data1[\"higherEdIntention\"] == \"yes\") | (data1[\"higherEdIntention\"] == \"no\")]\n",
    "data1 = data1[(data1[\"grade1\"] >= 14) & (data1[\"grade2\"] >= 12)]"
   ],
   "metadata": {
    "collapsed": false
   }
  },
  {
   "cell_type": "code",
   "execution_count": 66,
   "outputs": [
    {
     "name": "stdout",
     "output_type": "stream",
     "text": [
      "15\n",
      "40\n",
      "87\n"
     ]
    }
   ],
   "source": [
    "print(len(data1[data1[\"address\"] == \"Rural\"]))\n",
    "print(len(data1[data1[\"sex\"] == \"F\"]))\n",
    "print(len(data1))"
   ],
   "metadata": {
    "collapsed": false
   }
  },
  {
   "cell_type": "code",
   "execution_count": 67,
   "outputs": [],
   "source": [
    "data1 = data[(data[\"age\"] == \"17-18\") | (data[\"age\"] == \"15-16\") | (data[\"age\"] == \"19-20\")]\n",
    "data1 = data1[data1[\"higherEdIntention\"] == \"yes\"]\n",
    "data1 = data1[(data1[\"grade1\"] >= 14) & (data1[\"grade2\"] >= 12)]"
   ],
   "metadata": {
    "collapsed": false
   }
  },
  {
   "cell_type": "code",
   "execution_count": 68,
   "outputs": [
    {
     "name": "stdout",
     "output_type": "stream",
     "text": [
      "16\n",
      "43\n",
      "92\n"
     ]
    }
   ],
   "source": [
    "print(len(data1[data1[\"address\"] == \"Rural\"]))\n",
    "print(len(data1[data1[\"sex\"] == \"F\"]))\n",
    "print(len(data1))"
   ],
   "metadata": {
    "collapsed": false
   }
  },
  {
   "cell_type": "code",
   "execution_count": 69,
   "outputs": [],
   "source": [
    "data1 = data[(data[\"age\"] == \"17-18\")]\n",
    "data1 = data1[(data1[\"higherEdIntention\"] == \"yes\")]\n",
    "data1 = data1[(data1[\"grade1\"] >= 12) & (data1[\"grade2\"] >= 11)]"
   ],
   "metadata": {
    "collapsed": false
   }
  },
  {
   "cell_type": "code",
   "execution_count": 70,
   "outputs": [
    {
     "name": "stdout",
     "output_type": "stream",
     "text": [
      "16\n",
      "40\n",
      "68\n"
     ]
    }
   ],
   "source": [
    "print(len(data1[data1[\"address\"] == \"Rural\"]))\n",
    "print(len(data1[data1[\"sex\"] == \"F\"]))\n",
    "print(len(data1))"
   ],
   "metadata": {
    "collapsed": false
   }
  },
  {
   "cell_type": "code",
   "execution_count": 71,
   "outputs": [],
   "source": [
    "data1 = data[(data[\"age\"] == \"17-18\") | (data[\"age\"] == \"19-20\")]\n",
    "data1 = data1[(data1[\"higherEdIntention\"] == \"yes\")]\n",
    "data1 = data1[(data1[\"grade1\"] >= 13) & (data1[\"grade2\"] >= 11)]"
   ],
   "metadata": {
    "collapsed": false
   }
  },
  {
   "cell_type": "code",
   "execution_count": 72,
   "outputs": [
    {
     "name": "stdout",
     "output_type": "stream",
     "text": [
      "15\n",
      "36\n",
      "61\n"
     ]
    }
   ],
   "source": [
    "print(len(data1[data1[\"address\"] == \"Rural\"]))\n",
    "print(len(data1[data1[\"sex\"] == \"F\"]))\n",
    "print(len(data1))"
   ],
   "metadata": {
    "collapsed": false
   }
  },
  {
   "cell_type": "code",
   "execution_count": 73,
   "outputs": [],
   "source": [
    "data1 = data[(data[\"age\"] == \"17-18\")]\n",
    "data1 = data1[(data1[\"higherEdIntention\"] == \"yes\")]\n",
    "data1 = data1[(data1[\"grade1\"] >= 11) & (data1[\"grade2\"] >= 12)]"
   ],
   "metadata": {
    "collapsed": false
   }
  },
  {
   "cell_type": "code",
   "execution_count": 74,
   "outputs": [
    {
     "name": "stdout",
     "output_type": "stream",
     "text": [
      "15\n",
      "37\n",
      "63\n"
     ]
    }
   ],
   "source": [
    "print(len(data1[data1[\"address\"] == \"Rural\"]))\n",
    "print(len(data1[data1[\"sex\"] == \"F\"]))\n",
    "print(len(data1))"
   ],
   "metadata": {
    "collapsed": false
   }
  },
  {
   "cell_type": "code",
   "execution_count": null,
   "outputs": [],
   "source": [],
   "metadata": {
    "collapsed": false
   }
  },
  {
   "cell_type": "code",
   "execution_count": 74,
   "outputs": [],
   "source": [],
   "metadata": {
    "collapsed": false
   }
  },
  {
   "cell_type": "code",
   "execution_count": null,
   "outputs": [],
   "source": [],
   "metadata": {
    "collapsed": false,
    "pycharm": {
     "is_executing": true
    }
   }
  },
  {
   "cell_type": "code",
   "execution_count": null,
   "outputs": [],
   "source": [],
   "metadata": {
    "collapsed": false,
    "pycharm": {
     "is_executing": true
    }
   }
  },
  {
   "cell_type": "code",
   "execution_count": 74,
   "outputs": [],
   "source": [],
   "metadata": {
    "collapsed": false
   }
  }
 ],
 "metadata": {
  "kernelspec": {
   "display_name": "Python 3",
   "language": "python",
   "name": "python3"
  },
  "language_info": {
   "codemirror_mode": {
    "name": "ipython",
    "version": 2
   },
   "file_extension": ".py",
   "mimetype": "text/x-python",
   "name": "python",
   "nbconvert_exporter": "python",
   "pygments_lexer": "ipython2",
   "version": "2.7.6"
  }
 },
 "nbformat": 4,
 "nbformat_minor": 0
}
