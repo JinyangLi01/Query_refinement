{
 "cells": [
  {
   "cell_type": "code",
   "execution_count": 58,
   "metadata": {
    "collapsed": true,
    "pycharm": {
     "name": "#%%\n"
    }
   },
   "outputs": [],
   "source": [
    "import pandas as pd\n",
    "import numpy as np\n",
    "\n",
    "from Algorithm import ProvenanceSearchValues_6_20220825 as ps\n",
    "from Algorithm import LatticeTraversal_2_2022405 as lt\n"
   ]
  },
  {
   "cell_type": "code",
   "execution_count": 59,
   "outputs": [
    {
     "name": "stdout",
     "output_type": "stream",
     "text": [
      "887\n"
     ]
    }
   ],
   "source": [
    "healthcare = pd.read_csv(\"../before_selection_incomeK.csv\", index_col=False)\n",
    "print(len(healthcare))"
   ],
   "metadata": {
    "collapsed": false,
    "pycharm": {
     "name": "#%%\n"
    }
   }
  },
  {
   "cell_type": "code",
   "execution_count": 60,
   "outputs": [
    {
     "data": {
      "text/plain": "                id  num-children      income  complications\ncount   887.000000    887.000000  887.000000     887.000000\nmean    495.503946      2.390079  162.365276       5.145434\nstd     289.406386      1.676768  110.010853       3.129673\nmin       1.000000      0.000000    8.000000       0.000000\n25%     243.500000      1.000000   76.000000       2.000000\n50%     493.000000      2.000000  140.000000       5.000000\n75%     743.000000      4.000000  218.000000       8.000000\nmax    1000.000000      5.000000  447.000000      10.000000",
      "text/html": "<div>\n<style scoped>\n    .dataframe tbody tr th:only-of-type {\n        vertical-align: middle;\n    }\n\n    .dataframe tbody tr th {\n        vertical-align: top;\n    }\n\n    .dataframe thead th {\n        text-align: right;\n    }\n</style>\n<table border=\"1\" class=\"dataframe\">\n  <thead>\n    <tr style=\"text-align: right;\">\n      <th></th>\n      <th>id</th>\n      <th>num-children</th>\n      <th>income</th>\n      <th>complications</th>\n    </tr>\n  </thead>\n  <tbody>\n    <tr>\n      <th>count</th>\n      <td>887.000000</td>\n      <td>887.000000</td>\n      <td>887.000000</td>\n      <td>887.000000</td>\n    </tr>\n    <tr>\n      <th>mean</th>\n      <td>495.503946</td>\n      <td>2.390079</td>\n      <td>162.365276</td>\n      <td>5.145434</td>\n    </tr>\n    <tr>\n      <th>std</th>\n      <td>289.406386</td>\n      <td>1.676768</td>\n      <td>110.010853</td>\n      <td>3.129673</td>\n    </tr>\n    <tr>\n      <th>min</th>\n      <td>1.000000</td>\n      <td>0.000000</td>\n      <td>8.000000</td>\n      <td>0.000000</td>\n    </tr>\n    <tr>\n      <th>25%</th>\n      <td>243.500000</td>\n      <td>1.000000</td>\n      <td>76.000000</td>\n      <td>2.000000</td>\n    </tr>\n    <tr>\n      <th>50%</th>\n      <td>493.000000</td>\n      <td>2.000000</td>\n      <td>140.000000</td>\n      <td>5.000000</td>\n    </tr>\n    <tr>\n      <th>75%</th>\n      <td>743.000000</td>\n      <td>4.000000</td>\n      <td>218.000000</td>\n      <td>8.000000</td>\n    </tr>\n    <tr>\n      <th>max</th>\n      <td>1000.000000</td>\n      <td>5.000000</td>\n      <td>447.000000</td>\n      <td>10.000000</td>\n    </tr>\n  </tbody>\n</table>\n</div>"
     },
     "execution_count": 60,
     "metadata": {},
     "output_type": "execute_result"
    }
   ],
   "source": [
    "healthcare.describe()"
   ],
   "metadata": {
    "collapsed": false,
    "pycharm": {
     "name": "#%%\n"
    }
   }
  },
  {
   "cell_type": "code",
   "execution_count": 7,
   "outputs": [
    {
     "name": "stdout",
     "output_type": "stream",
     "text": [
      "[  8   9  10  11  12  13  14  15  16  17  18  19  20  21  22  25  26  27\n",
      "  28  30  31  32  33  34  35  36  37  38  39  40  41  42  43  44  45  46\n",
      "  47  48  49  50  51  52  53  54  55  56  57  58  59  60  61  62  63  64\n",
      "  65  66  67  68  69  70  71  72  73  74  75  76  77  78  79  80  81  82\n",
      "  83  84  85  86  87  88  89  90  91  92  93  94  95  96  97  98  99 100\n",
      " 101 102 103 104 106 107 108 109 110 111 112 113 115 116 117 118 119 120\n",
      " 121 122 123 124 125 126 127 128 129 130 131 132 133 134 135 136 137 138\n",
      " 139 140 141 142 143 144 145 146 147 148 149 150 151 152 153 154 155 156\n",
      " 157 158 159 160 161 162 163 164 166 167 168 170 172 173 174 175 176 177\n",
      " 178 179 180 181 182 183 184 185 186 187 188 189 190 191 193 195 196 197\n",
      " 198 199 200 201 202 203 204 205 206 207 208 209 210 211 212 213 214 215\n",
      " 216 217 218 219 220 221 222 223 224 225 226 228 229 230 231 232 233 235\n",
      " 236 237 239 241 242 244 245 246 247 248 249 251 254 255 257 261 263 264\n",
      " 266 267 268 269 271 272 273 276 282 284 285 287 288 289 291 292 293 294\n",
      " 295 296 298 299 300 301 302 303 305 308 314 317 319 320 321 322 323 324\n",
      " 326 327 328 329 330 333 334 336 338 339 340 342 343 344 345 347 350 352\n",
      " 353 356 357 358 359 360 361 362 364 365 366 367 368 370 373 374 376 379\n",
      " 381 382 383 386 388 389 392 394 395 396 397 399 400 401 402 403 405 406\n",
      " 411 413 414 415 416 417 418 420 422 423 424 427 428 430 432 433 434 436\n",
      " 437 440 442 443 446 447]\n",
      "60\n",
      "[0 1 2 3 4 5]\n",
      "[ 0  1  2  3  4  5  6  7  8  9 10]\n"
     ]
    }
   ],
   "source": [
    "lst = healthcare[\"income\"].unique()\n",
    "lst.sort()\n",
    "print(lst)\n",
    "print(len([x for x in lst if x >= 353]))\n",
    "# con = list(range(8, 448))\n",
    "# print([x for x in con if x not in lst])\n",
    "\n",
    "lst = healthcare[\"num-children\"].unique()\n",
    "lst.sort()\n",
    "print(lst)\n",
    "\n",
    "lst = healthcare[\"complications\"].unique()\n",
    "lst.sort()\n",
    "print(lst)"
   ],
   "metadata": {
    "collapsed": false,
    "pycharm": {
     "name": "#%%\n"
    }
   }
  },
  {
   "cell_type": "code",
   "execution_count": 8,
   "outputs": [
    {
     "name": "stdout",
     "output_type": "stream",
     "text": [
      "155\n",
      "157\n",
      "156\n",
      "149\n",
      "146\n",
      "124\n"
     ]
    }
   ],
   "source": [
    "children = [ 0,  1,  2,  3,  4,  5]\n",
    "for i in children:\n",
    "    print(len(healthcare[healthcare[\"num-children\"] == i]))"
   ],
   "metadata": {
    "collapsed": false,
    "pycharm": {
     "name": "#%%\n"
    }
   }
  },
  {
   "cell_type": "code",
   "execution_count": 9,
   "outputs": [
    {
     "name": "stdout",
     "output_type": "stream",
     "text": [
      "76\n",
      "68\n",
      "87\n",
      "80\n",
      "57\n",
      "93\n",
      "90\n",
      "81\n",
      "86\n",
      "96\n",
      "73\n"
     ]
    }
   ],
   "source": [
    "complications = [ 0,  1,  2,  3,  4,  5, 6, 7, 8, 9, 10]\n",
    "for i in complications:\n",
    "    print(len(healthcare[healthcare[\"complications\"] == i]))"
   ],
   "metadata": {
    "collapsed": false,
    "pycharm": {
     "name": "#%%\n"
    }
   }
  },
  {
   "cell_type": "code",
   "execution_count": 10,
   "outputs": [
    {
     "name": "stdout",
     "output_type": "stream",
     "text": [
      "86\n"
     ]
    }
   ],
   "source": [
    "print(len(healthcare[healthcare[\"income\"] < 38]))"
   ],
   "metadata": {
    "collapsed": false,
    "pycharm": {
     "name": "#%%\n"
    }
   }
  },
  {
   "cell_type": "code",
   "execution_count": 11,
   "outputs": [
    {
     "data": {
      "text/plain": "801"
     },
     "execution_count": 11,
     "metadata": {},
     "output_type": "execute_result"
    }
   ],
   "source": [
    "healthcare = healthcare[healthcare[\"income\"] >= 38]\n",
    "len(healthcare)"
   ],
   "metadata": {
    "collapsed": false,
    "pycharm": {
     "name": "#%%\n"
    }
   }
  },
  {
   "cell_type": "code",
   "execution_count": 12,
   "outputs": [
    {
     "name": "stdout",
     "output_type": "stream",
     "text": [
      "801\n",
      "1\n",
      "800\n",
      "800\n"
     ]
    }
   ],
   "source": [
    "def remove_hours(hours, sam, healthcare):\n",
    "    print(len(healthcare))\n",
    "    a1 = healthcare[healthcare['income'] == hours].sample(sam)\n",
    "    print(len(a1))\n",
    "    healthcare = healthcare[~healthcare.index.isin(a1.index)]\n",
    "    print(len(healthcare))\n",
    "    return healthcare\n",
    "\n",
    "healthcare = remove_hours(38, 1, healthcare)\n",
    "print(len(healthcare))"
   ],
   "metadata": {
    "collapsed": false,
    "pycharm": {
     "name": "#%%\n"
    }
   }
  },
  {
   "cell_type": "code",
   "execution_count": 13,
   "outputs": [],
   "source": [
    "healthcare.to_csv(\"healthcare_800.csv\", index=False)"
   ],
   "metadata": {
    "collapsed": false,
    "pycharm": {
     "name": "#%%\n"
    }
   }
  },
  {
   "cell_type": "code",
   "execution_count": 63,
   "outputs": [
    {
     "name": "stdout",
     "output_type": "stream",
     "text": [
      "800\n",
      "80\n",
      "80\n",
      "45\n",
      "18\n",
      "6\n"
     ]
    }
   ],
   "source": [
    "healthcare = pd.read_csv(\"healthcare_800.csv\", index_col=False)\n",
    "print(len(healthcare))\n",
    "\n",
    "healthcare1 = healthcare[healthcare[\"income\"] >= 353] # size = 20\n",
    "print(len(healthcare1))\n",
    "healthcare2 = healthcare1[healthcare1[\"num-children\"] <= 6] # size = 5\n",
    "print(len(healthcare2))\n",
    "healthcare3 = healthcare2[healthcare2[\"complications\"] <= 8]  # size = 30\n",
    "print(len(healthcare3))\n",
    "healthcare4 = healthcare3[(healthcare3[\"county\"] == \"county2\") | (healthcare3[\"county\"] == \"county4\")]  # size = 30\n",
    "print(len(healthcare4))\n",
    "\n",
    "AA = healthcare4[healthcare4[\"race\"] == \"race2\"]\n",
    "print(len(AA))"
   ],
   "metadata": {
    "collapsed": false,
    "pycharm": {
     "name": "#%%\n"
    }
   }
  },
  {
   "cell_type": "code",
   "execution_count": 20,
   "outputs": [
    {
     "name": "stdout",
     "output_type": "stream",
     "text": [
      "[ 38  39  40  41  42  43  44  45  46  47  48  49  50  51  52  53  54  55\n",
      "  56  57  58  59  60  61  62  63  64  65  66  67  68  69  70  71  72  73\n",
      "  74  75  76  77  78  79  80  81  82  83  84  85  86  87  88  89  90  91\n",
      "  92  93  94  95  96  97  98  99 100 101 102 103 104 106 107 108 109 110\n",
      " 111 112 113 115 116 117 118 119 120 121 122 123 124 125 126 127 128 129\n",
      " 130 131 132 133 134 135 136 137 138 139 140 141 142 143 144 145 146 147\n",
      " 148 149 150 151 152 153 154 155 156 157 158 159 160 161 162 163 164 166\n",
      " 167 168 170 172 173 174 175 176 177 178 179 180 181 182 183 184 185 186\n",
      " 187 188 189 190 191 193 195 196 197 198 199 200 201 202 203 204 205 206\n",
      " 207 208 209 210 211 212 213 214 215 216 217 218 219 220 221 222 223 224\n",
      " 225 226 228 229 230 231 232 233 235 236 237 239 241 242 244 245 246 247\n",
      " 248 249 251 254 255 257 261 263 264 266 267 268 269 271 272 273 276 282\n",
      " 284 285 287 288 289 291 292 293 294 295 296 298 299 300 301 302 303 305\n",
      " 308 314 317 319 320 321 322 323 324 326 327 328 329 330 333 334 336 338\n",
      " 339 340 342 343 344 345 347 350 352 353 356 357 358 359 360 361 362 364\n",
      " 365 366 367 368 370 373 374 376 379 381 382 383 386 388 389 392 394 395\n",
      " 396 397 399 400 401 402 403 405 406 411 413 414 415 416 417 418 420 422\n",
      " 423 424 427 428 430 432 433 434 436 437 440 442 443 446 447]\n",
      "60\n",
      "[0 1 2 3 4 5]\n",
      "[ 0  1  2  3  4  5  6  7  8  9 10]\n"
     ]
    }
   ],
   "source": [
    "lst = healthcare[\"income\"].unique()\n",
    "lst.sort()\n",
    "print(lst)\n",
    "print(len([x for x in lst if x >= 353]))\n",
    "# con = list(range(8, 448))\n",
    "# print([x for x in con if x not in lst])\n",
    "\n",
    "lst = healthcare[\"num-children\"].unique()\n",
    "lst.sort()\n",
    "print(lst)\n",
    "\n",
    "lst = healthcare[\"complications\"].unique()\n",
    "lst.sort()\n",
    "print(lst)"
   ],
   "metadata": {
    "collapsed": false,
    "pycharm": {
     "name": "#%%\n"
    }
   }
  },
  {
   "cell_type": "markdown",
   "source": [
    "# make 400 k"
   ],
   "metadata": {
    "collapsed": false,
    "pycharm": {
     "name": "#%% md\n"
    }
   }
  },
  {
   "cell_type": "code",
   "execution_count": 21,
   "outputs": [
    {
     "name": "stdout",
     "output_type": "stream",
     "text": [
      "800\n"
     ]
    }
   ],
   "source": [
    "healthcare = pd.read_csv(\"healthcare_800.csv\", index_col=False)\n",
    "print(len(healthcare))"
   ],
   "metadata": {
    "collapsed": false,
    "pycharm": {
     "name": "#%%\n"
    }
   }
  },
  {
   "cell_type": "code",
   "execution_count": 22,
   "outputs": [
    {
     "name": "stdout",
     "output_type": "stream",
     "text": [
      "222\n"
     ]
    }
   ],
   "source": [
    "print(len(healthcare[healthcare[\"income\"] < 100]))"
   ],
   "metadata": {
    "collapsed": false,
    "pycharm": {
     "name": "#%%\n"
    }
   }
  },
  {
   "cell_type": "code",
   "execution_count": 23,
   "outputs": [
    {
     "name": "stdout",
     "output_type": "stream",
     "text": [
      "139\n",
      "138\n",
      "144\n",
      "131\n",
      "135\n",
      "113\n"
     ]
    }
   ],
   "source": [
    "children = [ 0,  1,  2,  3,  4,  5]\n",
    "for i in children:\n",
    "    print(len(healthcare[healthcare[\"num-children\"] == i]))"
   ],
   "metadata": {
    "collapsed": false,
    "pycharm": {
     "name": "#%%\n"
    }
   }
  },
  {
   "cell_type": "code",
   "execution_count": 24,
   "outputs": [
    {
     "name": "stdout",
     "output_type": "stream",
     "text": [
      "69\n",
      "57\n",
      "75\n",
      "65\n",
      "50\n",
      "81\n",
      "79\n",
      "78\n",
      "81\n",
      "95\n",
      "70\n"
     ]
    }
   ],
   "source": [
    "complications = [ 0,  1,  2,  3,  4,  5, 6, 7, 8, 9, 10]\n",
    "for i in complications:\n",
    "    print(len(healthcare[healthcare[\"complications\"] == i]))"
   ],
   "metadata": {
    "collapsed": false,
    "pycharm": {
     "name": "#%%\n"
    }
   }
  },
  {
   "cell_type": "code",
   "execution_count": 25,
   "outputs": [
    {
     "name": "stdout",
     "output_type": "stream",
     "text": [
      "800\n",
      "800\n",
      "50\n",
      "750\n",
      "750\n",
      "750\n",
      "50\n",
      "700\n",
      "700\n",
      "700\n",
      "50\n",
      "650\n",
      "650\n",
      "650\n",
      "50\n",
      "600\n",
      "600\n",
      "600\n",
      "50\n",
      "550\n",
      "550\n",
      "550\n",
      "50\n",
      "500\n",
      "500\n"
     ]
    }
   ],
   "source": [
    "def remove_hours(hours, sam, healthcare):\n",
    "    print(len(healthcare))\n",
    "    a1 = healthcare[healthcare['num-children'] == hours].sample(sam)\n",
    "    print(len(a1))\n",
    "    healthcare = healthcare[~healthcare.index.isin(a1.index)]\n",
    "    print(len(healthcare))\n",
    "    return healthcare\n",
    "print(len(healthcare))\n",
    "healthcare = remove_hours(5, 50, healthcare)\n",
    "print(len(healthcare))\n",
    "healthcare = remove_hours(4, 50, healthcare)\n",
    "print(len(healthcare))\n",
    "healthcare = remove_hours(3, 50, healthcare)\n",
    "print(len(healthcare))\n",
    "healthcare = remove_hours(2, 50, healthcare)\n",
    "print(len(healthcare))\n",
    "healthcare = remove_hours(1, 50, healthcare)\n",
    "print(len(healthcare))\n",
    "healthcare = remove_hours(0, 50, healthcare)\n",
    "print(len(healthcare))"
   ],
   "metadata": {
    "collapsed": false,
    "pycharm": {
     "name": "#%%\n"
    }
   }
  },
  {
   "cell_type": "code",
   "execution_count": 26,
   "outputs": [
    {
     "name": "stdout",
     "output_type": "stream",
     "text": [
      "89\n",
      "88\n",
      "94\n",
      "81\n",
      "85\n",
      "63\n"
     ]
    }
   ],
   "source": [
    "children = [ 0,  1,  2,  3,  4,  5]\n",
    "for i in children:\n",
    "    print(len(healthcare[healthcare[\"num-children\"] == i]))"
   ],
   "metadata": {
    "collapsed": false,
    "pycharm": {
     "name": "#%%\n"
    }
   }
  },
  {
   "cell_type": "code",
   "execution_count": 27,
   "outputs": [
    {
     "name": "stdout",
     "output_type": "stream",
     "text": [
      "500\n",
      "20\n",
      "480\n",
      "480\n",
      "480\n",
      "20\n",
      "460\n",
      "460\n",
      "460\n",
      "20\n",
      "440\n",
      "440\n",
      "440\n",
      "20\n",
      "420\n",
      "420\n",
      "420\n",
      "20\n",
      "400\n",
      "400\n"
     ]
    }
   ],
   "source": [
    "healthcare = remove_hours(0, 20, healthcare)\n",
    "print(len(healthcare))\n",
    "healthcare = remove_hours(1, 20, healthcare)\n",
    "print(len(healthcare))\n",
    "healthcare = remove_hours(2, 20, healthcare)\n",
    "print(len(healthcare))\n",
    "healthcare = remove_hours(3, 20, healthcare)\n",
    "print(len(healthcare))\n",
    "healthcare = remove_hours(4, 20, healthcare)\n",
    "print(len(healthcare))"
   ],
   "metadata": {
    "collapsed": false,
    "pycharm": {
     "name": "#%%\n"
    }
   }
  },
  {
   "cell_type": "code",
   "execution_count": 28,
   "outputs": [],
   "source": [
    "healthcare.to_csv(\"healthcare_400.csv\", index=False)"
   ],
   "metadata": {
    "collapsed": false,
    "pycharm": {
     "name": "#%%\n"
    }
   }
  },
  {
   "cell_type": "code",
   "execution_count": 33,
   "outputs": [
    {
     "name": "stdout",
     "output_type": "stream",
     "text": [
      "[ 38  42  43  44  45  46  47  48  49  50  51  52  53  55  56  57  58  59\n",
      "  60  61  62  63  64  65  66  67  68  69  70  72  74  75  76  77  78  79\n",
      "  80  82  83  84  85  86  89  90  91  92  93  94  96  97  98  99 100 101\n",
      " 102 103 106 107 108 109 110 111 112 113 115 120 121 122 124 125 126 127\n",
      " 128 130 131 132 133 134 135 136 137 138 139 140 141 142 143 144 145 146\n",
      " 147 148 150 151 152 153 154 155 156 157 158 159 160 161 162 163 164 167\n",
      " 170 172 173 175 176 177 178 179 181 182 183 185 187 188 189 190 191 193\n",
      " 196 197 198 199 200 201 202 203 204 205 206 207 208 209 210 214 215 217\n",
      " 218 219 220 221 222 223 224 225 228 229 230 231 232 233 235 236 237 239\n",
      " 241 242 244 248 249 254 255 263 264 266 267 272 273 276 287 289 292 294\n",
      " 295 298 299 300 302 305 314 317 321 322 323 324 326 328 330 338 339 344\n",
      " 352 356 359 361 362 364 366 367 368 370 373 376 382 383 386 388 394 395\n",
      " 396 397 399 401 402 403 405 414 417 422 423 424 427 428 432 433 434 436\n",
      " 440 442 443 447]\n",
      "60\n",
      "[0 1 2 3 4 5]\n",
      "[ 0  1  2  3  4  5  6  7  8  9 10]\n"
     ]
    }
   ],
   "source": [
    "lst = healthcare[\"income\"].unique()\n",
    "lst.sort()\n",
    "print(lst)\n",
    "print(len([x for x in lst if x >= 292]))\n",
    "# con = list(range(8, 448))\n",
    "# print([x for x in con if x not in lst])\n",
    "\n",
    "lst = healthcare[\"num-children\"].unique()\n",
    "lst.sort()\n",
    "print(lst)\n",
    "\n",
    "lst = healthcare[\"complications\"].unique()\n",
    "lst.sort()\n",
    "print(lst)"
   ],
   "metadata": {
    "collapsed": false,
    "pycharm": {
     "name": "#%%\n"
    }
   }
  },
  {
   "cell_type": "code",
   "execution_count": 61,
   "outputs": [
    {
     "name": "stdout",
     "output_type": "stream",
     "text": [
      "69\n",
      "69\n",
      "35\n",
      "14\n",
      "9\n"
     ]
    }
   ],
   "source": [
    "healthcare = pd.read_csv(\"healthcare_400.csv\", index_col=False)\n",
    "healthcare1 = healthcare[healthcare[\"income\"] >= 292] # size = 20\n",
    "print(len(healthcare1))\n",
    "healthcare2 = healthcare1[healthcare1[\"num-children\"] <= 6] # size = 5\n",
    "print(len(healthcare2))\n",
    "healthcare3 = healthcare2[healthcare2[\"complications\"] <= 8]  # size = 30\n",
    "print(len(healthcare3))\n",
    "healthcare4 = healthcare3[(healthcare3[\"county\"] == \"county2\") | (healthcare3[\"county\"] == \"county4\")]  # size = 30\n",
    "print(len(healthcare4))\n",
    "\n",
    "AA = healthcare3[healthcare3[\"race\"] == \"race2\"]\n",
    "print(len(AA))\n"
   ],
   "metadata": {
    "collapsed": false,
    "pycharm": {
     "name": "#%%\n"
    }
   }
  },
  {
   "cell_type": "markdown",
   "source": [
    "# make 200 data"
   ],
   "metadata": {
    "collapsed": false,
    "pycharm": {
     "name": "#%% md\n"
    }
   }
  },
  {
   "cell_type": "code",
   "execution_count": 36,
   "outputs": [
    {
     "name": "stdout",
     "output_type": "stream",
     "text": [
      "400\n"
     ]
    }
   ],
   "source": [
    "pd.read_csv(\"healthcare_400.csv\", index_col=False)\n",
    "print(len(healthcare))\n"
   ],
   "metadata": {
    "collapsed": false,
    "pycharm": {
     "name": "#%%\n"
    }
   }
  },
  {
   "cell_type": "code",
   "execution_count": 41,
   "outputs": [
    {
     "name": "stdout",
     "output_type": "stream",
     "text": [
      "[ 38  42  43  44  45  46  47  48  49  50  51  52  53  55  56  57  58  59\n",
      "  60  61  62  63  64  65  66  67  68  69  70  72  74  75  76  77  78  79\n",
      "  80  82  83  84  85  86  89  90  91  92  93  94  96  97  98  99 100 101\n",
      " 102 103 106 107 108 109 110 111 112 113 115 120 121 122 124 125 126 127\n",
      " 128 130 131 132 133 134 135 136 137 138 139 140 141 142 143 144 145 146\n",
      " 147 148 150 151 152 153 154 155 156 157 158 159 160 161 162 163 164 167\n",
      " 170 172 173 175 176 177 178 179 181 182 183 185 187 188 189 190 191 193\n",
      " 196 197 198 199 200 201 202 203 204 205 206 207 208 209 210 214 215 217\n",
      " 218 219 220 221 222 223 224 225 228 229 230 231 232 233 235 236 237 239\n",
      " 241 242 244 248 249 254 255 263 264 266 267 272 273 276 287 289 292 294\n",
      " 295 298 299 300 302 305 314 317 321 322 323 324 326 328 330 338 339 344\n",
      " 352 356 359 361 362 364 366 367 368 370 373 376 382 383 386 388 394 395\n",
      " 396 397 399 401 402 403 405 414 417 422 423 424 427 428 432 433 434 436\n",
      " 440 442 443 447]\n",
      "60\n",
      "[0 1 2 3 4 5]\n",
      "[ 0  1  2  3  4  5  6  7  8  9 10]\n"
     ]
    }
   ],
   "source": [
    "lst = healthcare[\"income\"].unique()\n",
    "lst.sort()\n",
    "print(lst)\n",
    "print(len([x for x in lst if x >= 292]))\n",
    "# con = list(range(8, 448))\n",
    "# print([x for x in con if x not in lst])\n",
    "\n",
    "lst = healthcare[\"num-children\"].unique()\n",
    "lst.sort()\n",
    "print(lst)\n",
    "\n",
    "lst = healthcare[\"complications\"].unique()\n",
    "lst.sort()\n",
    "print(lst)"
   ],
   "metadata": {
    "collapsed": false,
    "pycharm": {
     "name": "#%%\n"
    }
   }
  },
  {
   "cell_type": "code",
   "execution_count": 42,
   "outputs": [
    {
     "name": "stdout",
     "output_type": "stream",
     "text": [
      "69\n",
      "68\n",
      "74\n",
      "61\n",
      "65\n",
      "63\n"
     ]
    }
   ],
   "source": [
    "children = [ 0,  1,  2,  3,  4,  5]\n",
    "for i in children:\n",
    "    print(len(healthcare[healthcare[\"num-children\"] == i]))"
   ],
   "metadata": {
    "collapsed": false,
    "pycharm": {
     "name": "#%%\n"
    }
   }
  },
  {
   "cell_type": "code",
   "execution_count": 43,
   "outputs": [
    {
     "name": "stdout",
     "output_type": "stream",
     "text": [
      "400\n",
      "400\n",
      "30\n",
      "370\n",
      "370\n",
      "370\n",
      "30\n",
      "340\n",
      "340\n",
      "340\n",
      "30\n",
      "310\n",
      "310\n",
      "310\n",
      "30\n",
      "280\n",
      "280\n",
      "280\n",
      "40\n",
      "240\n",
      "240\n",
      "240\n",
      "40\n",
      "200\n",
      "200\n"
     ]
    }
   ],
   "source": [
    "def remove_hours(hours, sam, healthcare):\n",
    "    print(len(healthcare))\n",
    "    a1 = healthcare[healthcare['num-children'] == hours].sample(sam)\n",
    "    print(len(a1))\n",
    "    healthcare = healthcare[~healthcare.index.isin(a1.index)]\n",
    "    print(len(healthcare))\n",
    "    return healthcare\n",
    "print(len(healthcare))\n",
    "healthcare = remove_hours(5, 30, healthcare)\n",
    "print(len(healthcare))\n",
    "healthcare = remove_hours(4, 30, healthcare)\n",
    "print(len(healthcare))\n",
    "healthcare = remove_hours(3, 30, healthcare)\n",
    "print(len(healthcare))\n",
    "healthcare = remove_hours(2, 30, healthcare)\n",
    "print(len(healthcare))\n",
    "healthcare = remove_hours(1, 40, healthcare)\n",
    "print(len(healthcare))\n",
    "healthcare = remove_hours(0, 40, healthcare)\n",
    "print(len(healthcare))\n"
   ],
   "metadata": {
    "collapsed": false,
    "pycharm": {
     "name": "#%%\n"
    }
   }
  },
  {
   "cell_type": "code",
   "execution_count": 44,
   "outputs": [],
   "source": [
    "healthcare.to_csv(\"healthcare_200.csv\", index=False)"
   ],
   "metadata": {
    "collapsed": false,
    "pycharm": {
     "name": "#%%\n"
    }
   }
  },
  {
   "cell_type": "code",
   "execution_count": 46,
   "outputs": [
    {
     "name": "stdout",
     "output_type": "stream",
     "text": [
      "[ 42  43  44  48  50  51  52  53  55  56  59  60  61  64  65  67  68  69\n",
      "  72  75  76  78  79  80  82  83  84  85  86  90  91  96  97  99 100 101\n",
      " 102 106 107 108 110 111 113 115 122 124 126 127 128 131 133 134 136 138\n",
      " 140 143 145 146 148 150 151 153 155 156 157 158 159 160 161 162 163 164\n",
      " 167 170 172 173 175 176 177 178 179 181 182 183 185 188 189 190 191 197\n",
      " 198 206 207 215 217 218 219 220 221 222 223 224 228 229 230 231 235 236\n",
      " 237 242 248 249 255 264 266 272 273 287 294 298 299 300 302 305 314 323\n",
      " 324 326 328 339 352 356 359 364 366 367 368 386 394 397 402 403 405 417\n",
      " 422 423 427 428 442 447]\n",
      "60\n",
      "[0 1 2 3 4 5]\n",
      "[ 0  1  2  3  4  5  6  7  8  9 10]\n"
     ]
    }
   ],
   "source": [
    "lst = healthcare[\"income\"].unique()\n",
    "lst.sort()\n",
    "print(lst)\n",
    "print(len([x for x in lst if x >= 198]))\n",
    "# con = list(range(8, 448))\n",
    "# print([x for x in con if x not in lst])\n",
    "\n",
    "lst = healthcare[\"num-children\"].unique()\n",
    "lst.sort()\n",
    "print(lst)\n",
    "\n",
    "lst = healthcare[\"complications\"].unique()\n",
    "lst.sort()\n",
    "print(lst)"
   ],
   "metadata": {
    "collapsed": false,
    "pycharm": {
     "name": "#%%\n"
    }
   }
  },
  {
   "cell_type": "code",
   "execution_count": 47,
   "outputs": [
    {
     "name": "stdout",
     "output_type": "stream",
     "text": [
      "64\n",
      "64\n",
      "33\n",
      "12\n",
      "10\n"
     ]
    }
   ],
   "source": [
    "healthcare = pd.read_csv(\"healthcare_200.csv\", index_col=False)\n",
    "healthcare1 = healthcare[healthcare[\"income\"] >= 198] # size = 20\n",
    "print(len(healthcare1))\n",
    "healthcare2 = healthcare1[healthcare1[\"num-children\"] <= 6] # size = 5\n",
    "print(len(healthcare2))\n",
    "healthcare3 = healthcare2[healthcare2[\"complications\"] <= 8]  # size = 30\n",
    "print(len(healthcare3))\n",
    "healthcare4 = healthcare3[(healthcare3[\"county\"] == \"county2\") | (healthcare3[\"county\"] == \"county4\")]  # size = 30\n",
    "print(len(healthcare4))\n",
    "\n",
    "AA = healthcare3[healthcare3[\"race\"] == \"race2\"]\n",
    "print(len(AA))\n"
   ],
   "metadata": {
    "collapsed": false,
    "pycharm": {
     "name": "#%%\n"
    }
   }
  },
  {
   "cell_type": "markdown",
   "source": [
    "# make 100 dataset"
   ],
   "metadata": {
    "collapsed": false,
    "pycharm": {
     "name": "#%% md\n"
    }
   }
  },
  {
   "cell_type": "code",
   "execution_count": 48,
   "outputs": [
    {
     "name": "stdout",
     "output_type": "stream",
     "text": [
      "200\n"
     ]
    }
   ],
   "source": [
    "pd.read_csv(\"healthcare_200.csv\", index_col=False)\n",
    "print(len(healthcare))\n"
   ],
   "metadata": {
    "collapsed": false,
    "pycharm": {
     "name": "#%%\n"
    }
   }
  },
  {
   "cell_type": "code",
   "execution_count": 50,
   "outputs": [
    {
     "name": "stdout",
     "output_type": "stream",
     "text": [
      "29\n",
      "28\n",
      "44\n",
      "31\n",
      "35\n",
      "33\n"
     ]
    }
   ],
   "source": [
    "children = [ 0,  1,  2,  3,  4,  5]\n",
    "for i in children:\n",
    "    print(len(healthcare[healthcare[\"num-children\"] == i]))"
   ],
   "metadata": {
    "collapsed": false,
    "pycharm": {
     "name": "#%%\n"
    }
   }
  },
  {
   "cell_type": "code",
   "execution_count": 51,
   "outputs": [
    {
     "name": "stdout",
     "output_type": "stream",
     "text": [
      "29\n",
      "28\n",
      "44\n",
      "31\n",
      "35\n",
      "33\n"
     ]
    }
   ],
   "source": [
    "children = [ 0,  1,  2,  3,  4,  5]\n",
    "for i in children:\n",
    "    print(len(healthcare[healthcare[\"num-children\"] == i]))"
   ],
   "metadata": {
    "collapsed": false,
    "pycharm": {
     "name": "#%%\n"
    }
   }
  },
  {
   "cell_type": "code",
   "execution_count": 52,
   "outputs": [
    {
     "name": "stdout",
     "output_type": "stream",
     "text": [
      "200\n",
      "200\n",
      "15\n",
      "185\n",
      "185\n",
      "185\n",
      "15\n",
      "170\n",
      "170\n",
      "170\n",
      "15\n",
      "155\n",
      "155\n",
      "155\n",
      "25\n",
      "130\n",
      "130\n",
      "130\n",
      "15\n",
      "115\n",
      "115\n",
      "115\n",
      "15\n",
      "100\n",
      "100\n"
     ]
    }
   ],
   "source": [
    "def remove_hours(hours, sam, healthcare):\n",
    "    print(len(healthcare))\n",
    "    a1 = healthcare[healthcare['num-children'] == hours].sample(sam)\n",
    "    print(len(a1))\n",
    "    healthcare = healthcare[~healthcare.index.isin(a1.index)]\n",
    "    print(len(healthcare))\n",
    "    return healthcare\n",
    "print(len(healthcare))\n",
    "healthcare = remove_hours(5, 15, healthcare)\n",
    "print(len(healthcare))\n",
    "healthcare = remove_hours(4, 15, healthcare)\n",
    "print(len(healthcare))\n",
    "healthcare = remove_hours(3, 15, healthcare)\n",
    "print(len(healthcare))\n",
    "healthcare = remove_hours(2, 25, healthcare)\n",
    "print(len(healthcare))\n",
    "healthcare = remove_hours(1, 15, healthcare)\n",
    "print(len(healthcare))\n",
    "healthcare = remove_hours(0, 15, healthcare)\n",
    "print(len(healthcare))\n"
   ],
   "metadata": {
    "collapsed": false,
    "pycharm": {
     "name": "#%%\n"
    }
   }
  },
  {
   "cell_type": "code",
   "execution_count": 53,
   "outputs": [],
   "source": [
    "healthcare.to_csv(\"healthcare_100.csv\", index=False)"
   ],
   "metadata": {
    "collapsed": false,
    "pycharm": {
     "name": "#%%\n"
    }
   }
  },
  {
   "cell_type": "code",
   "execution_count": 55,
   "outputs": [
    {
     "name": "stdout",
     "output_type": "stream",
     "text": [
      "[ 43  44  48  50  51  55  56  59  60  64  67  69  72  75  76  79  84  86\n",
      "  91  96  97 100 101 102 107 108 110 111 126 127 131 133 136 138 145 146\n",
      " 148 150 157 158 159 161 162 164 167 172 173 175 176 178 185 189 190 191\n",
      " 197 207 215 217 219 222 231 235 236 255 264 272 300 305 314 326 339 352\n",
      " 356 359 364 366 367 386 397 402 405 417 427 428 447]\n",
      "60\n",
      "[0 1 2 3 4 5]\n",
      "[ 0  1  2  3  4  5  6  7  8  9 10]\n"
     ]
    }
   ],
   "source": [
    "lst = healthcare[\"income\"].unique()\n",
    "lst.sort()\n",
    "print(lst)\n",
    "print(len([x for x in lst if x >= 108]))\n",
    "\n",
    "lst = healthcare[\"num-children\"].unique()\n",
    "lst.sort()\n",
    "print(lst)\n",
    "\n",
    "lst = healthcare[\"complications\"].unique()\n",
    "lst.sort()\n",
    "print(lst)"
   ],
   "metadata": {
    "collapsed": false,
    "pycharm": {
     "name": "#%%\n"
    }
   }
  },
  {
   "cell_type": "code",
   "execution_count": 57,
   "outputs": [
    {
     "name": "stdout",
     "output_type": "stream",
     "text": [
      "100\n",
      "68\n",
      "68\n",
      "46\n",
      "9\n",
      "12\n"
     ]
    }
   ],
   "source": [
    "healthcare = pd.read_csv(\"healthcare_100.csv\", index_col=False)\n",
    "print(len(healthcare))\n",
    "healthcare1 = healthcare[healthcare[\"income\"] >= 108] # size = 20\n",
    "print(len(healthcare1))\n",
    "healthcare2 = healthcare1[healthcare1[\"num-children\"] <= 6] # size = 5\n",
    "print(len(healthcare2))\n",
    "healthcare3 = healthcare2[healthcare2[\"complications\"] <= 8]  # size = 30\n",
    "print(len(healthcare3))\n",
    "healthcare4 = healthcare3[(healthcare3[\"county\"] == \"county2\") | (healthcare3[\"county\"] == \"county4\")]  # size = 30\n",
    "print(len(healthcare4))\n",
    "\n",
    "AA = healthcare3[healthcare3[\"race\"] == \"race2\"]\n",
    "print(len(AA))\n"
   ],
   "metadata": {
    "collapsed": false,
    "pycharm": {
     "name": "#%%\n"
    }
   }
  },
  {
   "cell_type": "code",
   "execution_count": null,
   "outputs": [],
   "source": [],
   "metadata": {
    "collapsed": false,
    "pycharm": {
     "name": "#%%\n"
    }
   }
  }
 ],
 "metadata": {
  "kernelspec": {
   "display_name": "Python 3",
   "language": "python",
   "name": "python3"
  },
  "language_info": {
   "codemirror_mode": {
    "name": "ipython",
    "version": 2
   },
   "file_extension": ".py",
   "mimetype": "text/x-python",
   "name": "python",
   "nbconvert_exporter": "python",
   "pygments_lexer": "ipython2",
   "version": "2.7.6"
  }
 },
 "nbformat": 4,
 "nbformat_minor": 0
}