{
 "cells": [
  {
   "cell_type": "code",
   "execution_count": 1,
   "metadata": {
    "collapsed": true,
    "pycharm": {
     "name": "#%%\n"
    }
   },
   "outputs": [],
   "source": [
    "import pandas as pd\n",
    "import numpy as np\n",
    "\n",
    "from Algorithm import ProvenanceSearchValues_6_20220825 as ps\n",
    "from Algorithm import LatticeTraversal_2_2022405 as lt\n"
   ]
  },
  {
   "cell_type": "markdown",
   "source": [
    "# 800k data"
   ],
   "metadata": {
    "collapsed": false,
    "pycharm": {
     "name": "#%% md\n"
    }
   }
  },
  {
   "cell_type": "code",
   "execution_count": 74,
   "outputs": [
    {
     "name": "stdout",
     "output_type": "stream",
     "text": [
      "800\n",
      "[ 38  39  40  41  42  43  44  45  46  47  48  49  50  51  52  53  54  55\n",
      "  56  57  58  59  60  61  62  63  64  65  66  67  68  69  70  71  72  73\n",
      "  74  75  76  77  78  79  80  81  82  83  84  85  86  87  88  89  90  91\n",
      "  92  93  94  95  96  97  98  99 100 101 102 103 104 106 107 108 109 110\n",
      " 111 112 113 115 116 117 118 119 120 121 122 123 124 125 126 127 128 129\n",
      " 130 131 132 133 134 135 136 137 138 139 140 141 142 143 144 145 146 147\n",
      " 148 149 150 151 152 153 154 155 156 157 158 159 160 161 162 163 164 166\n",
      " 167 168 170 172 173 174 175 176 177 178 179 180 181 182 183 184 185 186\n",
      " 187 188 189 190 191 193 195 196 197 198 199 200 201 202 203 204 205 206\n",
      " 207 208 209 210 211 212 213 214 215 216 217 218 219 220 221 222 223 224\n",
      " 225 226 228 229 230 231 232 233 235 236 237 239 241 242 244 245 246 247\n",
      " 248 249 251 254 255 257 261 263 264 266 267 268 269 271 272 273 276 282\n",
      " 284 285 287 288 289 291 292 293 294 295 296 298 299 300 301 302 303 305\n",
      " 308 314 317 319 320 321 322 323 324 326 327 328 329 330 333 334 336 338\n",
      " 339 340 342 343 344 345 347 350 352 353 356 357 358 359 360 361 362 364\n",
      " 365 366 367 368 370 373 374 376 379 381 382 383 386 388 389 392 394 395\n",
      " 396 397 399 400 401 402 403 405 406 411 413 414 415 416 417 418 420 422\n",
      " 423 424 427 428 430 432 433 434 436 437 440 442 443 446 447]\n",
      "150\n",
      "[0 1 2 3 4 5]\n"
     ]
    }
   ],
   "source": [
    "healthcare = pd.read_csv(\"healthcare_800.csv\", index_col=False)\n",
    "print(len(healthcare))\n",
    "\n",
    "lst = healthcare[\"income\"].unique()\n",
    "lst.sort()\n",
    "print(lst)\n",
    "print(len([x for x in lst if x >= 216]))\n",
    "lst = healthcare[\"num-children\"].unique()\n",
    "lst.sort()\n",
    "print(lst)\n"
   ],
   "metadata": {
    "collapsed": false,
    "pycharm": {
     "name": "#%%\n"
    }
   }
  },
  {
   "cell_type": "code",
   "execution_count": 75,
   "outputs": [
    {
     "name": "stdout",
     "output_type": "stream",
     "text": [
      "225\n",
      "153\n",
      "44\n",
      "15\n"
     ]
    }
   ],
   "source": [
    "\n",
    "healthcare1 = healthcare[healthcare[\"income\"] >= 216] # size = ??\n",
    "print(len(healthcare1))\n",
    "healthcare2 = healthcare1[healthcare1[\"num-children\"] >= 2] # size = 5\n",
    "print(len(healthcare2))\n",
    "healthcare3 = healthcare2[(healthcare2[\"county\"] == \"county2\") | (healthcare2[\"county\"] == \"county4\")] # size = 30\n",
    "print(len(healthcare3))\n",
    "\n",
    "AA = healthcare3[healthcare3[\"race\"] == \"race2\"]\n",
    "print(len(AA))"
   ],
   "metadata": {
    "collapsed": false,
    "pycharm": {
     "name": "#%%\n"
    }
   }
  },
  {
   "cell_type": "code",
   "execution_count": 72,
   "outputs": [
    {
     "name": "stdout",
     "output_type": "stream",
     "text": [
      "healthcare_800.csv constraint4.json query4.json\n",
      "========================== provenance search ===================================\n",
      "selected_attributes ['income', 'num-children', 'county']\n",
      "original query satisfies constraints already\n",
      "running time = 0.02832317352294922 0 0\n",
      "\n",
      "========================== lattice traversal ===================================\n",
      "selected_attributes ['income', 'num-children', 'county']\n",
      "categorical_attributes:{'county': ['county1', 'county2', 'county3', 'county4']}\n",
      "original query satisfies constraints already\n",
      "running time = 0.028817176818847656\n",
      "\n"
     ]
    }
   ],
   "source": [
    "query_file = r\"query4.json\"\n",
    "constraint_file = r\"constraint4.json\"\n",
    "data_file = r\"healthcare_800.csv\"\n",
    "time_limit = 5 * 60\n",
    "print(data_file, constraint_file, query_file)\n",
    "\n",
    "print(\"========================== provenance search ===================================\")\n",
    "minimal_refinements1, running_time1, assign_to_provenance_num,\\\n",
    "    provenance_time, search_time = \\\n",
    "    ps.FindMinimalRefinement(data_file, query_file, constraint_file, time_limit)\n",
    "print(\"running time = {}\".format(running_time1), provenance_time, search_time)\n",
    "print(*minimal_refinements1, sep=\"\\n\")\n",
    "\n",
    "print(\"========================== lattice traversal ===================================\")\n",
    "minimal_refinements2, minimal_added_refinements2, running_time2 = \\\n",
    "    lt.FindMinimalRefinement(data_file, query_file, constraint_file, time_limit)\n",
    "print(\"running time = {}\".format(running_time2))\n",
    "if running_time2 < time_limit:\n",
    "    print(*minimal_refinements2, sep=\"\\n\")"
   ],
   "metadata": {
    "collapsed": false,
    "pycharm": {
     "name": "#%%\n"
    }
   }
  },
  {
   "cell_type": "markdown",
   "source": [
    "# make 600 k data"
   ],
   "metadata": {
    "collapsed": false,
    "pycharm": {
     "name": "#%% md\n"
    }
   }
  },
  {
   "cell_type": "code",
   "execution_count": 32,
   "outputs": [
    {
     "name": "stdout",
     "output_type": "stream",
     "text": [
      "800\n"
     ]
    }
   ],
   "source": [
    "healthcare = pd.read_csv(\"healthcare_800.csv\", index_col=False)\n",
    "print(len(healthcare))"
   ],
   "metadata": {
    "collapsed": false,
    "pycharm": {
     "name": "#%%\n"
    }
   }
  },
  {
   "cell_type": "code",
   "execution_count": 33,
   "outputs": [
    {
     "name": "stdout",
     "output_type": "stream",
     "text": [
      "139\n",
      "138\n",
      "144\n",
      "131\n",
      "135\n",
      "113\n"
     ]
    }
   ],
   "source": [
    "children = [ 0,  1,  2,  3,  4,  5]\n",
    "for i in children:\n",
    "    print(len(healthcare[healthcare[\"num-children\"] == i]))"
   ],
   "metadata": {
    "collapsed": false,
    "pycharm": {
     "name": "#%%\n"
    }
   }
  },
  {
   "cell_type": "code",
   "execution_count": 34,
   "outputs": [
    {
     "name": "stdout",
     "output_type": "stream",
     "text": [
      "800\n",
      "800\n",
      "30\n",
      "770\n",
      "770\n",
      "770\n",
      "30\n",
      "740\n",
      "740\n",
      "740\n",
      "30\n",
      "710\n",
      "710\n",
      "710\n",
      "40\n",
      "670\n",
      "670\n",
      "670\n",
      "40\n",
      "630\n",
      "630\n",
      "630\n",
      "30\n",
      "600\n",
      "600\n"
     ]
    }
   ],
   "source": [
    "def remove_hours(hours, sam, healthcare):\n",
    "    print(len(healthcare))\n",
    "    a1 = healthcare[healthcare['num-children'] == hours].sample(sam)\n",
    "    print(len(a1))\n",
    "    healthcare = healthcare[~healthcare.index.isin(a1.index)]\n",
    "    print(len(healthcare))\n",
    "    return healthcare\n",
    "print(len(healthcare))\n",
    "healthcare = remove_hours(5, 30, healthcare)\n",
    "print(len(healthcare))\n",
    "healthcare = remove_hours(4, 30, healthcare)\n",
    "print(len(healthcare))\n",
    "healthcare = remove_hours(3, 30, healthcare)\n",
    "print(len(healthcare))\n",
    "healthcare = remove_hours(2, 40, healthcare)\n",
    "print(len(healthcare))\n",
    "healthcare = remove_hours(1, 40, healthcare)\n",
    "print(len(healthcare))\n",
    "healthcare = remove_hours(0, 30, healthcare)\n",
    "print(len(healthcare))"
   ],
   "metadata": {
    "collapsed": false,
    "pycharm": {
     "name": "#%%\n"
    }
   }
  },
  {
   "cell_type": "code",
   "execution_count": 35,
   "outputs": [],
   "source": [
    "healthcare.to_csv(\"healthcare_600.csv\", index=False)"
   ],
   "metadata": {
    "collapsed": false,
    "pycharm": {
     "name": "#%%\n"
    }
   }
  },
  {
   "cell_type": "code",
   "execution_count": 61,
   "outputs": [
    {
     "name": "stdout",
     "output_type": "stream",
     "text": [
      "600\n",
      "[ 39  40  41  42  43  44  45  46  47  48  49  50  51  52  55  56  57  58\n",
      "  59  60  61  62  63  64  65  66  67  68  69  70  71  72  73  74  75  76\n",
      "  77  78  79  80  82  83  84  85  86  87  88  89  90  91  92  93  94  95\n",
      "  96  97  98  99 100 101 102 103 104 106 107 108 110 111 112 113 115 116\n",
      " 117 118 119 120 121 122 123 124 125 126 127 128 129 130 131 132 133 134\n",
      " 135 136 137 139 140 142 143 144 145 146 147 148 149 150 151 152 153 154\n",
      " 155 156 157 158 159 160 161 162 163 164 166 167 168 170 172 173 174 175\n",
      " 176 177 178 179 180 181 182 183 185 186 187 188 189 190 191 193 195 196\n",
      " 197 198 199 200 201 202 203 204 205 206 207 208 209 210 211 212 214 215\n",
      " 217 218 219 220 221 222 223 224 225 226 228 229 230 231 232 235 236 237\n",
      " 239 241 242 244 245 246 247 248 249 251 254 255 257 261 264 266 267 269\n",
      " 271 272 273 284 285 287 288 289 291 292 293 295 296 298 299 300 301 302\n",
      " 305 308 314 317 321 322 323 324 327 328 333 334 336 338 339 340 342 343\n",
      " 344 345 347 350 352 353 356 357 359 361 362 366 367 368 373 374 376 379\n",
      " 382 383 386 388 389 392 394 395 400 401 402 403 405 406 411 413 414 415\n",
      " 416 417 418 420 422 423 427 428 430 432 434 436 437 440 442 446 447]\n",
      "150\n",
      "[0 1 2 3 4 5]\n"
     ]
    }
   ],
   "source": [
    "healthcare = pd.read_csv(\"healthcare_600.csv\", index_col=False)\n",
    "print(len(healthcare))\n",
    "\n",
    "lst = healthcare[\"income\"].unique()\n",
    "lst.sort()\n",
    "print(lst)\n",
    "print(len([x for x in lst if x >= 188]))\n",
    "lst = healthcare[\"num-children\"].unique()\n",
    "lst.sort()\n",
    "print(lst)\n"
   ],
   "metadata": {
    "collapsed": false,
    "pycharm": {
     "name": "#%%\n"
    }
   }
  },
  {
   "cell_type": "code",
   "execution_count": 40,
   "outputs": [
    {
     "name": "stdout",
     "output_type": "stream",
     "text": [
      "267\n",
      "188\n",
      "58\n",
      "19\n"
     ]
    }
   ],
   "source": [
    "\n",
    "healthcare1 = healthcare[healthcare[\"income\"] >= 170] # size = ??\n",
    "print(len(healthcare1))\n",
    "healthcare2 = healthcare1[healthcare1[\"num-children\"] >= 2] # size = 5\n",
    "print(len(healthcare2))\n",
    "healthcare3 = healthcare2[(healthcare2[\"county\"] == \"county2\") | (healthcare2[\"county\"] == \"county4\")] # size = 30\n",
    "print(len(healthcare3))\n",
    "\n",
    "AA = healthcare3[healthcare3[\"race\"] == \"race2\"]\n",
    "print(len(AA))"
   ],
   "metadata": {
    "collapsed": false,
    "pycharm": {
     "name": "#%%\n"
    }
   }
  },
  {
   "cell_type": "code",
   "execution_count": 71,
   "outputs": [
    {
     "name": "stdout",
     "output_type": "stream",
     "text": [
      "healthcare_600.csv constraint3.json query3.json\n",
      "========================== provenance search ===================================\n",
      "selected_attributes ['income', 'num-children', 'county']\n",
      "prepare time = 0.0006160736083984375\n",
      "time of test_satisfying_rows = 0.0\n",
      "time of get_provenance_contract_only = 0.5860800743103027\n",
      "possible_value_table:\n",
      "      income  num-children  county_county2  county_county3\n",
      "0       188          2.00            1.00            1.00\n",
      "1       189          3.00            0.00            0.00\n",
      "2       190          4.00             NaN             NaN\n",
      "3       191          5.00             NaN             NaN\n",
      "4       192          6.00             NaN             NaN\n",
      "..      ...           ...             ...             ...\n",
      "146     438           NaN             NaN             NaN\n",
      "147     441           NaN             NaN             NaN\n",
      "148     443           NaN             NaN             NaN\n",
      "149     447           NaN             NaN             NaN\n",
      "150     448           NaN             NaN             NaN\n",
      "\n",
      "[151 rows x 4 columns]\n",
      "num of iterations = 0, search space = 281, assign_to_provenance_num = 81\n",
      "provenance time = 0.6120150089263916\n",
      "searching time = 0.14974403381347656\n",
      "running time = 0.7617599964141846 0.6120150089263916 0.14476799964904785\n",
      "[188, 3.0, 1.0, 0.0]\n",
      "[189, 2.0, 0.0, 0.0]\n",
      "[225, 2.0, 1.0, 0.0]\n",
      "[306, 2.0, 1.0, 1.0]\n",
      "[237, 2.0, 0.0, 1.0]\n",
      "[188, 4.0, 0.0, 1.0]\n",
      "[225, 3.0, 0.0, 1.0]\n",
      "[286, 3.0, 1.0, 1.0]\n",
      "[188, 5.0, 1.0, 1.0]\n",
      "[207, 4.0, 1.0, 1.0]\n",
      "========================== lattice traversal ===================================\n",
      "selected_attributes ['income', 'num-children', 'county']\n",
      "categorical_attributes:{'county': ['county1', 'county2', 'county3', 'county4']}\n",
      "categorical_att_domain_too_add:\n",
      " [('county', 'county2'), ('county', 'county3')]\n",
      "numeric_att_domain_to_relax:\n",
      " {'income': [188, 189, 190, 191, 192, 194, 196, 197, 198, 199, 200, 201, 202, 203, 204, 205, 206, 207, 208, 209, 210, 211, 212, 213, 215, 216, 218, 219, 220, 221, 222, 223, 224, 225, 226, 227, 229, 230, 231, 232, 233, 236, 237, 238, 240, 242, 243, 245, 246, 247, 248, 249, 250, 252, 255, 256, 258, 262, 265, 267, 268, 270, 272, 273, 274, 285, 286, 288, 289, 290, 292, 293, 294, 296, 297, 299, 300, 301, 302, 303, 306, 309, 315, 318, 322, 323, 324, 325, 328, 329, 334, 335, 337, 339, 340, 341, 343, 344, 345, 346, 348, 351, 353, 354, 357, 358, 360, 362, 363, 367, 368, 369, 374, 375, 377, 380, 383, 384, 387, 389, 390, 393, 395, 396, 401, 402, 403, 404, 406, 407, 412, 414, 415, 416, 417, 418, 419, 421, 423, 424, 428, 429, 431, 433, 435, 437, 438, 441, 443, 447, 448], 'num-children': [2, 3, 4, 5, 6]}\n",
      "minimal_added_relaxations:[[0, 0, 0, 1], [0, 0, 1, 0], [0, 1, 0, 0], [32, 0, 0, 0]]\n",
      "running time = 47.54356122016907\n",
      "[188, 2, 0, 1]\n",
      "[188, 2, 1, 0]\n",
      "[188, 3, 0, 0]\n",
      "[220, 2, 0, 0]\n"
     ]
    }
   ],
   "source": [
    "query_file = r\"query3.json\"\n",
    "constraint_file = r\"constraint3.json\"\n",
    "data_file = r\"healthcare_600.csv\"\n",
    "time_limit = 5 * 60\n",
    "print(data_file, constraint_file, query_file)\n",
    "\n",
    "print(\"========================== provenance search ===================================\")\n",
    "minimal_refinements1, running_time1, assign_to_provenance_num,\\\n",
    "    provenance_time, search_time = \\\n",
    "    ps.FindMinimalRefinement(data_file, query_file, constraint_file, time_limit)\n",
    "print(\"running time = {}\".format(running_time1), provenance_time, search_time)\n",
    "print(*minimal_refinements1, sep=\"\\n\")\n",
    "\n",
    "print(\"========================== lattice traversal ===================================\")\n",
    "minimal_refinements2, minimal_added_refinements2, running_time2 = \\\n",
    "    lt.FindMinimalRefinement(data_file, query_file, constraint_file, time_limit)\n",
    "print(\"running time = {}\".format(running_time2))\n",
    "if running_time2 < time_limit:\n",
    "    print(*minimal_refinements2, sep=\"\\n\")\n",
    "\n"
   ],
   "metadata": {
    "collapsed": false,
    "pycharm": {
     "name": "#%%\n"
    }
   }
  },
  {
   "cell_type": "markdown",
   "source": [
    "# 400 k data"
   ],
   "metadata": {
    "collapsed": false,
    "pycharm": {
     "name": "#%% md\n"
    }
   }
  },
  {
   "cell_type": "code",
   "execution_count": 64,
   "outputs": [
    {
     "name": "stdout",
     "output_type": "stream",
     "text": [
      "400\n",
      "[ 38  42  43  44  45  46  47  48  49  50  51  52  53  55  56  57  58  59\n",
      "  60  61  62  63  64  65  66  67  68  69  70  72  74  75  76  77  78  79\n",
      "  80  82  83  84  85  86  89  90  91  92  93  94  96  97  98  99 100 101\n",
      " 102 103 106 107 108 109 110 111 112 113 115 120 121 122 124 125 126 127\n",
      " 128 130 131 132 133 134 135 136 137 138 139 140 141 142 143 144 145 146\n",
      " 147 148 150 151 152 153 154 155 156 157 158 159 160 161 162 163 164 167\n",
      " 170 172 173 175 176 177 178 179 181 182 183 185 187 188 189 190 191 193\n",
      " 196 197 198 199 200 201 202 203 204 205 206 207 208 209 210 214 215 217\n",
      " 218 219 220 221 222 223 224 225 228 229 230 231 232 233 235 236 237 239\n",
      " 241 242 244 248 249 254 255 263 264 266 267 272 273 276 287 289 292 294\n",
      " 295 298 299 300 302 305 314 317 321 322 323 324 326 328 330 338 339 344\n",
      " 352 356 359 361 362 364 366 367 368 370 373 376 382 383 386 388 394 395\n",
      " 396 397 399 401 402 403 405 414 417 422 423 424 427 428 432 433 434 436\n",
      " 440 442 443 447]\n",
      "150\n",
      "[0 1 2 3 4 5]\n"
     ]
    }
   ],
   "source": [
    "healthcare = pd.read_csv(\"healthcare_400.csv\", index_col=False)\n",
    "print(len(healthcare))\n",
    "\n",
    "lst = healthcare[\"income\"].unique()\n",
    "lst.sort()\n",
    "print(lst)\n",
    "print(len([x for x in lst if x >= 145]))\n",
    "lst = healthcare[\"num-children\"].unique()\n",
    "lst.sort()\n",
    "print(lst)\n"
   ],
   "metadata": {
    "collapsed": false,
    "pycharm": {
     "name": "#%%\n"
    }
   }
  },
  {
   "cell_type": "code",
   "execution_count": null,
   "outputs": [],
   "source": [
    "\n",
    "healthcare1 = healthcare[healthcare[\"income\"] >= 145] # size = ??\n",
    "print(len(healthcare1))\n",
    "healthcare2 = healthcare1[healthcare1[\"num-children\"] >= 2] # size = 5\n",
    "print(len(healthcare2))\n",
    "healthcare3 = healthcare2[(healthcare2[\"county\"] == \"county2\") | (healthcare2[\"county\"] == \"county4\")] # size = 30\n",
    "print(len(healthcare3))\n",
    "\n",
    "AA = healthcare3[healthcare3[\"race\"] == \"race2\"]\n",
    "print(len(AA))"
   ],
   "metadata": {
    "collapsed": false,
    "pycharm": {
     "name": "#%%\n"
    }
   }
  },
  {
   "cell_type": "code",
   "execution_count": 70,
   "outputs": [
    {
     "name": "stdout",
     "output_type": "stream",
     "text": [
      "healthcare_400.csv constraint2.json query2.json\n",
      "========================== provenance search ===================================\n",
      "selected_attributes ['income', 'num-children', 'county']\n",
      "prepare time = 0.0008559226989746094\n",
      "time of test_satisfying_rows = 9.5367431640625e-07\n",
      "time of get_provenance_contract_only = 0.18515396118164062\n",
      "possible_value_table:\n",
      "      income  num-children  county_county2  county_county3\n",
      "0       145          2.00            1.00            1.00\n",
      "1       146          3.00            0.00            0.00\n",
      "2       147          4.00             NaN             NaN\n",
      "3       148          5.00             NaN             NaN\n",
      "4       149          6.00             NaN             NaN\n",
      "..      ...           ...             ...             ...\n",
      "146     437           NaN             NaN             NaN\n",
      "147     441           NaN             NaN             NaN\n",
      "148     443           NaN             NaN             NaN\n",
      "149     444           NaN             NaN             NaN\n",
      "150     448           NaN             NaN             NaN\n",
      "\n",
      "[151 rows x 4 columns]\n",
      "num of iterations = 0, search space = 647, assign_to_provenance_num = 114\n",
      "provenance time = 0.22049784660339355\n",
      "searching time = 0.1705460548400879\n",
      "running time = 0.39104485511779785 0.22049784660339355 0.16579508781433105\n",
      "[145, 4.0, 0.0, 0.0]\n",
      "[178, 3.0, 0.0, 0.0]\n",
      "[207, 3.0, 1.0, 0.0]\n",
      "[237, 3.0, 1.0, 1.0]\n",
      "[234, 3.0, 0.0, 1.0]\n",
      "[207, 2.0, 0.0, 0.0]\n",
      "[222, 2.0, 1.0, 0.0]\n",
      "[264, 2.0, 1.0, 1.0]\n",
      "[237, 2.0, 0.0, 1.0]\n",
      "[145, 5.0, 1.0, 1.0]\n",
      "[188, 4.0, 1.0, 0.0]\n",
      "[232, 4.0, 1.0, 1.0]\n",
      "[207, 4.0, 0.0, 1.0]\n",
      "========================== lattice traversal ===================================\n",
      "selected_attributes ['income', 'num-children', 'county']\n",
      "categorical_attributes:{'county': ['county1', 'county2', 'county3', 'county4']}\n",
      "categorical_att_domain_too_add:\n",
      " [('county', 'county2'), ('county', 'county3')]\n",
      "numeric_att_domain_to_relax:\n",
      " {'income': [145, 146, 147, 148, 149, 151, 152, 153, 154, 155, 156, 157, 158, 159, 160, 161, 162, 163, 164, 165, 168, 171, 173, 174, 176, 177, 178, 179, 180, 182, 183, 184, 186, 188, 189, 190, 191, 192, 194, 197, 198, 199, 200, 201, 202, 203, 204, 205, 206, 207, 208, 209, 210, 211, 215, 216, 218, 219, 220, 221, 222, 223, 224, 225, 226, 229, 230, 231, 232, 233, 234, 236, 237, 238, 240, 242, 243, 245, 249, 250, 255, 256, 264, 265, 267, 268, 273, 274, 277, 288, 290, 293, 295, 296, 299, 300, 301, 303, 306, 315, 318, 322, 323, 324, 325, 327, 329, 331, 339, 340, 345, 353, 357, 360, 362, 363, 365, 367, 368, 369, 371, 374, 377, 383, 384, 387, 389, 395, 396, 397, 398, 400, 402, 403, 404, 406, 415, 418, 423, 424, 425, 428, 429, 433, 434, 435, 437, 441, 443, 444, 448], 'num-children': [2, 3, 4, 5, 6]}\n",
      "minimal_added_relaxations:[[0, 0, 0, 1], [0, 0, 1, 0], [0, 3, 0, 0], [17, 2, 0, 0], [65, 1, 0, 0], [75, 0, 0, 0]]\n",
      "running time = 38.49665379524231\n",
      "[145, 2, 0, 1]\n",
      "[145, 2, 1, 0]\n",
      "[145, 5, 0, 0]\n",
      "[162, 4, 0, 0]\n",
      "[210, 3, 0, 0]\n",
      "[220, 2, 0, 0]\n"
     ]
    }
   ],
   "source": [
    "query_file = r\"query2.json\"\n",
    "constraint_file = r\"constraint2.json\"\n",
    "data_file = r\"healthcare_400.csv\"\n",
    "time_limit = 5 * 60\n",
    "print(data_file, constraint_file, query_file)\n",
    "\n",
    "print(\"========================== provenance search ===================================\")\n",
    "minimal_refinements1, running_time1, assign_to_provenance_num,\\\n",
    "    provenance_time, search_time = \\\n",
    "    ps.FindMinimalRefinement(data_file, query_file, constraint_file, time_limit)\n",
    "print(\"running time = {}\".format(running_time1), provenance_time, search_time)\n",
    "print(*minimal_refinements1, sep=\"\\n\")\n",
    "\n",
    "print(\"========================== lattice traversal ===================================\")\n",
    "minimal_refinements2, minimal_added_refinements2, running_time2 = \\\n",
    "    lt.FindMinimalRefinement(data_file, query_file, constraint_file, time_limit)\n",
    "print(\"running time = {}\".format(running_time2))\n",
    "if running_time2 < time_limit:\n",
    "    print(*minimal_refinements2, sep=\"\\n\")\n",
    "\n"
   ],
   "metadata": {
    "collapsed": false,
    "pycharm": {
     "name": "#%%\n"
    }
   }
  },
  {
   "cell_type": "markdown",
   "source": [
    "# 200 k data"
   ],
   "metadata": {
    "collapsed": false,
    "pycharm": {
     "name": "#%% md\n"
    }
   }
  },
  {
   "cell_type": "code",
   "execution_count": 67,
   "outputs": [
    {
     "name": "stdout",
     "output_type": "stream",
     "text": [
      "200\n",
      "[ 42  43  44  48  50  51  52  53  55  56  59  60  61  64  65  67  68  69\n",
      "  72  75  76  78  79  80  82  83  84  85  86  90  91  96  97  99 100 101\n",
      " 102 106 107 108 110 111 113 115 122 124 126 127 128 131 133 134 136 138\n",
      " 140 143 145 146 148 150 151 153 155 156 157 158 159 160 161 162 163 164\n",
      " 167 170 172 173 175 176 177 178 179 181 182 183 185 188 189 190 191 197\n",
      " 198 206 207 215 217 218 219 220 221 222 223 224 228 229 230 231 235 236\n",
      " 237 242 248 249 255 264 266 272 273 287 294 298 299 300 302 305 314 323\n",
      " 324 326 328 339 352 356 359 364 366 367 368 386 394 397 402 403 405 417\n",
      " 422 423 427 428 442 447]\n",
      "150\n",
      "[0 1 2 3 4 5]\n"
     ]
    }
   ],
   "source": [
    "healthcare = pd.read_csv(\"healthcare_200.csv\", index_col=False)\n",
    "print(len(healthcare))\n",
    "\n",
    "lst = healthcare[\"income\"].unique()\n",
    "lst.sort()\n",
    "print(lst)\n",
    "print(len([x for x in lst if x >= 42]))\n",
    "lst = healthcare[\"num-children\"].unique()\n",
    "lst.sort()\n",
    "print(lst)\n"
   ],
   "metadata": {
    "collapsed": false,
    "pycharm": {
     "name": "#%%\n"
    }
   }
  },
  {
   "cell_type": "code",
   "execution_count": 68,
   "outputs": [
    {
     "name": "stdout",
     "output_type": "stream",
     "text": [
      "200\n",
      "143\n",
      "43\n",
      "16\n"
     ]
    }
   ],
   "source": [
    "\n",
    "healthcare1 = healthcare[healthcare[\"income\"] >= 42] # size = ??\n",
    "print(len(healthcare1))\n",
    "healthcare2 = healthcare1[healthcare1[\"num-children\"] >= 2] # size = 5\n",
    "print(len(healthcare2))\n",
    "healthcare3 = healthcare2[(healthcare2[\"county\"] == \"county2\") | (healthcare2[\"county\"] == \"county4\")] # size = 30\n",
    "print(len(healthcare3))\n",
    "\n",
    "AA = healthcare3[healthcare3[\"race\"] == \"race2\"]\n",
    "print(len(AA))"
   ],
   "metadata": {
    "collapsed": false,
    "pycharm": {
     "name": "#%%\n"
    }
   }
  },
  {
   "cell_type": "code",
   "execution_count": 69,
   "outputs": [
    {
     "name": "stdout",
     "output_type": "stream",
     "text": [
      "healthcare_200.csv constraint1.json query1.json\n",
      "========================== provenance search ===================================\n",
      "selected_attributes ['income', 'num-children', 'county']\n",
      "prepare time = 0.0013751983642578125\n",
      "time of test_satisfying_rows = 7.867813110351562e-06\n",
      "time of get_provenance_contract_only = 0.10770082473754883\n",
      "possible_value_table:\n",
      "      income  num-children  county_county2  county_county3\n",
      "0        42          2.00            1.00            1.00\n",
      "1        43          3.00            0.00            0.00\n",
      "2        44          4.00             NaN             NaN\n",
      "3        45          5.00             NaN             NaN\n",
      "4        49          6.00             NaN             NaN\n",
      "..      ...           ...             ...             ...\n",
      "146     424           NaN             NaN             NaN\n",
      "147     428           NaN             NaN             NaN\n",
      "148     429           NaN             NaN             NaN\n",
      "149     443           NaN             NaN             NaN\n",
      "150     448           NaN             NaN             NaN\n",
      "\n",
      "[151 rows x 4 columns]\n",
      "no base refinement here, size of PVT: 1*1\n",
      "no base refinement here, size of PVT: 1*1\n",
      "num of iterations = 0, search space = 1269, assign_to_provenance_num = 118\n",
      "provenance time = 0.13186097145080566\n",
      "searching time = 0.09781885147094727\n",
      "running time = 0.22967982292175293 0.13186097145080566 0.0922689437866211\n",
      "[42, 4.0, 0.0, 0.0]\n",
      "[186, 3.0, 0.0, 0.0]\n",
      "[225, 3.0, 1.0, 0.0]\n",
      "[306, 3.0, 1.0, 1.0]\n",
      "[237, 3.0, 0.0, 1.0]\n",
      "[207, 2.0, 0.0, 0.0]\n",
      "[232, 2.0, 1.0, 0.0]\n",
      "[368, 2.0, 1.0, 1.0]\n",
      "[42, 6.0, 1.0, 1.0]\n",
      "[162, 5.0, 1.0, 1.0]\n",
      "[207, 4.0, 1.0, 0.0]\n",
      "[232, 4.0, 1.0, 1.0]\n",
      "[42, 5.0, 0.0, 1.0]\n",
      "[207, 4.0, 0.0, 1.0]\n",
      "========================== lattice traversal ===================================\n",
      "selected_attributes ['income', 'num-children', 'county']\n",
      "categorical_attributes:{'county': ['county1', 'county2', 'county3', 'county4']}\n",
      "categorical_att_domain_too_add:\n",
      " [('county', 'county2'), ('county', 'county3')]\n",
      "numeric_att_domain_to_relax:\n",
      " {'income': [42, 43, 44, 45, 49, 51, 52, 53, 54, 56, 57, 60, 61, 62, 65, 66, 68, 69, 70, 73, 76, 77, 79, 80, 81, 83, 84, 85, 86, 87, 91, 92, 97, 98, 100, 101, 102, 103, 107, 108, 109, 111, 112, 114, 116, 123, 125, 127, 128, 129, 132, 134, 135, 137, 139, 141, 144, 146, 147, 149, 151, 152, 154, 156, 157, 158, 159, 160, 161, 162, 163, 164, 165, 168, 171, 173, 174, 176, 177, 178, 179, 180, 182, 183, 184, 186, 189, 190, 191, 192, 198, 199, 207, 208, 216, 218, 219, 220, 221, 222, 223, 224, 225, 229, 230, 231, 232, 236, 237, 238, 243, 249, 250, 256, 265, 267, 273, 274, 288, 295, 299, 300, 301, 303, 306, 315, 324, 325, 327, 329, 340, 353, 357, 360, 365, 367, 368, 369, 387, 395, 398, 403, 404, 406, 418, 423, 424, 428, 429, 443, 448], 'num-children': [2, 3, 4, 5, 6]}\n",
      "minimal_added_relaxations:[[0, 0, 1, 1], [0, 2, 1, 0], [0, 3, 0, 0], [90, 0, 1, 0], [95, 1, 0, 1], [123, 0, 0, 1], [123, 2, 0, 0], [190, 0, 0, 0]]\n",
      "running time = 27.83556318283081\n",
      "[42, 2, 1, 1]\n",
      "[42, 4, 1, 0]\n",
      "[42, 5, 0, 0]\n",
      "[132, 2, 1, 0]\n",
      "[137, 3, 0, 1]\n",
      "[165, 2, 0, 1]\n",
      "[165, 4, 0, 0]\n",
      "[232, 2, 0, 0]\n"
     ]
    }
   ],
   "source": [
    "query_file = r\"query1.json\"\n",
    "constraint_file = r\"constraint1.json\"\n",
    "data_file = r\"healthcare_200.csv\"\n",
    "time_limit = 5 * 60\n",
    "print(data_file, constraint_file, query_file)\n",
    "\n",
    "print(\"========================== provenance search ===================================\")\n",
    "minimal_refinements1, running_time1, assign_to_provenance_num,\\\n",
    "    provenance_time, search_time = \\\n",
    "    ps.FindMinimalRefinement(data_file, query_file, constraint_file, time_limit)\n",
    "print(\"running time = {}\".format(running_time1), provenance_time, search_time)\n",
    "print(*minimal_refinements1, sep=\"\\n\")\n",
    "\n",
    "print(\"========================== lattice traversal ===================================\")\n",
    "minimal_refinements2, minimal_added_refinements2, running_time2 = \\\n",
    "    lt.FindMinimalRefinement(data_file, query_file, constraint_file, time_limit)\n",
    "print(\"running time = {}\".format(running_time2))\n",
    "if running_time2 < time_limit:\n",
    "    print(*minimal_refinements2, sep=\"\\n\")"
   ],
   "metadata": {
    "collapsed": false,
    "pycharm": {
     "name": "#%%\n"
    }
   }
  },
  {
   "cell_type": "code",
   "execution_count": null,
   "outputs": [],
   "source": [],
   "metadata": {
    "collapsed": false,
    "pycharm": {
     "name": "#%%\n"
    }
   }
  }
 ],
 "metadata": {
  "kernelspec": {
   "display_name": "Python 3",
   "language": "python",
   "name": "python3"
  },
  "language_info": {
   "codemirror_mode": {
    "name": "ipython",
    "version": 2
   },
   "file_extension": ".py",
   "mimetype": "text/x-python",
   "name": "python",
   "nbconvert_exporter": "python",
   "pygments_lexer": "ipython2",
   "version": "2.7.6"
  }
 },
 "nbformat": 4,
 "nbformat_minor": 0
}