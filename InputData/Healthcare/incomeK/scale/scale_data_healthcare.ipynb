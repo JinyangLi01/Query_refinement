{
 "cells": [
  {
   "cell_type": "code",
   "execution_count": 1,
   "metadata": {
    "collapsed": true,
    "pycharm": {
     "name": "#%%\n"
    }
   },
   "outputs": [],
   "source": [
    "import pandas as pd\n",
    "import numpy as np\n",
    "\n",
    "from Algorithm import ProvenanceSearchValues_6_20220825 as ps\n",
    "from Algorithm import LatticeTraversal_2_2022405 as lt\n"
   ]
  },
  {
   "cell_type": "code",
   "execution_count": 23,
   "outputs": [
    {
     "name": "stdout",
     "output_type": "stream",
     "text": [
      "887\n"
     ]
    }
   ],
   "source": [
    "healthcare = pd.read_csv(\"../before_selection_incomeK.csv\", index_col=False)\n",
    "print(len(healthcare))"
   ],
   "metadata": {
    "collapsed": false,
    "pycharm": {
     "name": "#%%\n"
    }
   }
  },
  {
   "cell_type": "code",
   "execution_count": 4,
   "outputs": [
    {
     "data": {
      "text/plain": "                id  num-children      income  complications\ncount   887.000000    887.000000  887.000000     887.000000\nmean    495.503946      2.390079  162.365276       5.145434\nstd     289.406386      1.676768  110.010853       3.129673\nmin       1.000000      0.000000    8.000000       0.000000\n25%     243.500000      1.000000   76.000000       2.000000\n50%     493.000000      2.000000  140.000000       5.000000\n75%     743.000000      4.000000  218.000000       8.000000\nmax    1000.000000      5.000000  447.000000      10.000000",
      "text/html": "<div>\n<style scoped>\n    .dataframe tbody tr th:only-of-type {\n        vertical-align: middle;\n    }\n\n    .dataframe tbody tr th {\n        vertical-align: top;\n    }\n\n    .dataframe thead th {\n        text-align: right;\n    }\n</style>\n<table border=\"1\" class=\"dataframe\">\n  <thead>\n    <tr style=\"text-align: right;\">\n      <th></th>\n      <th>id</th>\n      <th>num-children</th>\n      <th>income</th>\n      <th>complications</th>\n    </tr>\n  </thead>\n  <tbody>\n    <tr>\n      <th>count</th>\n      <td>887.000000</td>\n      <td>887.000000</td>\n      <td>887.000000</td>\n      <td>887.000000</td>\n    </tr>\n    <tr>\n      <th>mean</th>\n      <td>495.503946</td>\n      <td>2.390079</td>\n      <td>162.365276</td>\n      <td>5.145434</td>\n    </tr>\n    <tr>\n      <th>std</th>\n      <td>289.406386</td>\n      <td>1.676768</td>\n      <td>110.010853</td>\n      <td>3.129673</td>\n    </tr>\n    <tr>\n      <th>min</th>\n      <td>1.000000</td>\n      <td>0.000000</td>\n      <td>8.000000</td>\n      <td>0.000000</td>\n    </tr>\n    <tr>\n      <th>25%</th>\n      <td>243.500000</td>\n      <td>1.000000</td>\n      <td>76.000000</td>\n      <td>2.000000</td>\n    </tr>\n    <tr>\n      <th>50%</th>\n      <td>493.000000</td>\n      <td>2.000000</td>\n      <td>140.000000</td>\n      <td>5.000000</td>\n    </tr>\n    <tr>\n      <th>75%</th>\n      <td>743.000000</td>\n      <td>4.000000</td>\n      <td>218.000000</td>\n      <td>8.000000</td>\n    </tr>\n    <tr>\n      <th>max</th>\n      <td>1000.000000</td>\n      <td>5.000000</td>\n      <td>447.000000</td>\n      <td>10.000000</td>\n    </tr>\n  </tbody>\n</table>\n</div>"
     },
     "execution_count": 4,
     "metadata": {},
     "output_type": "execute_result"
    }
   ],
   "source": [
    "healthcare.describe()"
   ],
   "metadata": {
    "collapsed": false,
    "pycharm": {
     "name": "#%%\n"
    }
   }
  },
  {
   "cell_type": "code",
   "execution_count": 81,
   "outputs": [
    {
     "name": "stdout",
     "output_type": "stream",
     "text": [
      "[ 38  39  40  41  42  43  44  45  46  47  48  49  50  51  52  53  54  55\n",
      "  56  57  58  59  60  61  62  63  64  65  66  67  68  69  70  71  72  73\n",
      "  74  75  76  77  78  79  80  81  82  83  84  85  86  87  88  89  90  91\n",
      "  92  93  94  95  96  97  98  99 100 101 102 103 104 106 107 108 109 110\n",
      " 111 112 113 115 116 117 118 119 120 121 122 123 124 125 126 127 128 129\n",
      " 130 131 132 133 134 135 136 137 138 139 140 141 142 143 144 145 146 147\n",
      " 148 149 150 151 152 153 154 155 156 157 158 159 160 161 162 163 164 166\n",
      " 167 168 170 172 173 174 175 176 177 178 179 180 181 182 183 184 185 186\n",
      " 187 188 189 190 191 193 195 196 197 198 199 200 201 202 203 204 205 206\n",
      " 207 208 209 210 211 212 213 214 215 216 217 218 219 220 221 222 223 224\n",
      " 225 226 228 229 230 231 232 233 235 236 237 239 241 242 244 245 246 247\n",
      " 248 249 251 254 255 257 261 263 264 266 267 268 269 271 272 273 276 282\n",
      " 284 285 287 288 289 291 292 293 294 295 296 298 299 300 301 302 303 305\n",
      " 308 314 317 319 320 321 322 323 324 326 327 328 329 330 333 334 336 338\n",
      " 339 340 342 343 344 345 347 350 352 353 356 357 358 359 360 361 362 364\n",
      " 365 366 367 368 370 373 374 376 379 381 382 383 386 388 389 392 394 395\n",
      " 396 397 399 400 401 402 403 405 406 411 413 414 415 416 417 418 420 422\n",
      " 423 424 427 428 430 432 433 434 436 437 440 442 443 446 447]\n",
      "166\n",
      "[0 1 2 3 4 5]\n",
      "[ 0  1  2  3  4  5  6  7  8  9 10]\n"
     ]
    }
   ],
   "source": [
    "lst = healthcare[\"income\"].unique()\n",
    "lst.sort()\n",
    "print(lst)\n",
    "print(len([x for x in lst if x >= 200]))\n",
    "# con = list(range(8, 448))\n",
    "# print([x for x in con if x not in lst])\n",
    "\n",
    "lst = healthcare[\"num-children\"].unique()\n",
    "lst.sort()\n",
    "print(lst)\n",
    "\n",
    "lst = healthcare[\"complications\"].unique()\n",
    "lst.sort()\n",
    "print(lst)"
   ],
   "metadata": {
    "collapsed": false,
    "pycharm": {
     "name": "#%%\n"
    }
   }
  },
  {
   "cell_type": "code",
   "execution_count": 11,
   "outputs": [
    {
     "name": "stdout",
     "output_type": "stream",
     "text": [
      "155\n",
      "157\n",
      "156\n",
      "149\n",
      "146\n",
      "124\n"
     ]
    }
   ],
   "source": [
    "children = [ 0,  1,  2,  3,  4,  5]\n",
    "for i in children:\n",
    "    print(len(healthcare[healthcare[\"num-children\"] == i]))"
   ],
   "metadata": {
    "collapsed": false,
    "pycharm": {
     "name": "#%%\n"
    }
   }
  },
  {
   "cell_type": "code",
   "execution_count": 12,
   "outputs": [
    {
     "name": "stdout",
     "output_type": "stream",
     "text": [
      "76\n",
      "68\n",
      "87\n",
      "80\n",
      "57\n",
      "93\n",
      "90\n",
      "81\n",
      "86\n",
      "96\n",
      "73\n"
     ]
    }
   ],
   "source": [
    "complications = [ 0,  1,  2,  3,  4,  5, 6, 7, 8, 9, 10]\n",
    "for i in complications:\n",
    "    print(len(healthcare[healthcare[\"complications\"] == i]))"
   ],
   "metadata": {
    "collapsed": false,
    "pycharm": {
     "name": "#%%\n"
    }
   }
  },
  {
   "cell_type": "code",
   "execution_count": 24,
   "outputs": [
    {
     "name": "stdout",
     "output_type": "stream",
     "text": [
      "86\n"
     ]
    }
   ],
   "source": [
    "print(len(healthcare[healthcare[\"income\"] < 38]))"
   ],
   "metadata": {
    "collapsed": false,
    "pycharm": {
     "name": "#%%\n"
    }
   }
  },
  {
   "cell_type": "code",
   "execution_count": 25,
   "outputs": [
    {
     "data": {
      "text/plain": "801"
     },
     "execution_count": 25,
     "metadata": {},
     "output_type": "execute_result"
    }
   ],
   "source": [
    "healthcare = healthcare[healthcare[\"income\"] >= 38]\n",
    "len(healthcare)"
   ],
   "metadata": {
    "collapsed": false,
    "pycharm": {
     "name": "#%%\n"
    }
   }
  },
  {
   "cell_type": "code",
   "execution_count": 26,
   "outputs": [
    {
     "name": "stdout",
     "output_type": "stream",
     "text": [
      "801\n",
      "1\n",
      "800\n",
      "800\n"
     ]
    }
   ],
   "source": [
    "def remove_hours(hours, sam, healthcare):\n",
    "    print(len(healthcare))\n",
    "    a1 = healthcare[healthcare['income'] == hours].sample(sam)\n",
    "    print(len(a1))\n",
    "    healthcare = healthcare[~healthcare.index.isin(a1.index)]\n",
    "    print(len(healthcare))\n",
    "    return healthcare\n",
    "\n",
    "healthcare = remove_hours(38, 1, healthcare)\n",
    "print(len(healthcare))"
   ],
   "metadata": {
    "collapsed": false,
    "pycharm": {
     "name": "#%%\n"
    }
   }
  },
  {
   "cell_type": "code",
   "execution_count": null,
   "outputs": [],
   "source": [
    "healthcare.to_csv(\"healthcare_800.csv\", index=False)"
   ],
   "metadata": {
    "collapsed": false,
    "pycharm": {
     "name": "#%%\n"
    }
   }
  },
  {
   "cell_type": "code",
   "execution_count": 121,
   "outputs": [
    {
     "name": "stdout",
     "output_type": "stream",
     "text": [
      "800\n"
     ]
    }
   ],
   "source": [
    "\n",
    "healthcare = pd.read_csv(\"healthcare_800.csv\", index_col=False)\n",
    "print(len(healthcare))"
   ],
   "metadata": {
    "collapsed": false,
    "pycharm": {
     "name": "#%%\n"
    }
   }
  },
  {
   "cell_type": "code",
   "execution_count": 129,
   "outputs": [
    {
     "name": "stdout",
     "output_type": "stream",
     "text": [
      "183\n",
      "154\n",
      "76\n",
      "27\n",
      "18\n"
     ]
    }
   ],
   "source": [
    "healthcare1 = healthcare[healthcare[\"income\"] >= 238] # size = 20\n",
    "print(len(healthcare1))\n",
    "healthcare2 = healthcare1[healthcare1[\"num-children\"] <= 4] # size = 5\n",
    "print(len(healthcare2))\n",
    "healthcare3 = healthcare2[healthcare2[\"complications\"] <= 8]  # size = 30\n",
    "print(len(healthcare3))\n",
    "healthcare4 = healthcare3[(healthcare3[\"county\"] == \"county2\") | (healthcare3[\"county\"] == \"county4\")]  # size = 30\n",
    "print(len(healthcare4))\n",
    "\n",
    "AA = healthcare3[healthcare3[\"race\"] == \"race2\"]\n",
    "print(len(AA))"
   ],
   "metadata": {
    "collapsed": false,
    "pycharm": {
     "name": "#%%\n"
    }
   }
  },
  {
   "cell_type": "code",
   "execution_count": 128,
   "outputs": [
    {
     "name": "stdout",
     "output_type": "stream",
     "text": [
      "[ 38  39  40  41  42  43  44  45  46  47  48  49  50  51  52  53  54  55\n",
      "  56  57  58  59  60  61  62  63  64  65  66  67  68  69  70  71  72  73\n",
      "  74  75  76  77  78  79  80  81  82  83  84  85  86  87  88  89  90  91\n",
      "  92  93  94  95  96  97  98  99 100 101 102 103 104 106 107 108 109 110\n",
      " 111 112 113 115 116 117 118 119 120 121 122 123 124 125 126 127 128 129\n",
      " 130 131 132 133 134 135 136 137 138 139 140 141 142 143 144 145 146 147\n",
      " 148 149 150 151 152 153 154 155 156 157 158 159 160 161 162 163 164 166\n",
      " 167 168 170 172 173 174 175 176 177 178 179 180 181 182 183 184 185 186\n",
      " 187 188 189 190 191 193 195 196 197 198 199 200 201 202 203 204 205 206\n",
      " 207 208 209 210 211 212 213 214 215 216 217 218 219 220 221 222 223 224\n",
      " 225 226 228 229 230 231 232 233 235 236 237 239 241 242 244 245 246 247\n",
      " 248 249 251 254 255 257 261 263 264 266 267 268 269 271 272 273 276 282\n",
      " 284 285 287 288 289 291 292 293 294 295 296 298 299 300 301 302 303 305\n",
      " 308 314 317 319 320 321 322 323 324 326 327 328 329 330 333 334 336 338\n",
      " 339 340 342 343 344 345 347 350 352 353 356 357 358 359 360 361 362 364\n",
      " 365 366 367 368 370 373 374 376 379 381 382 383 386 388 389 392 394 395\n",
      " 396 397 399 400 401 402 403 405 406 411 413 414 415 416 417 418 420 422\n",
      " 423 424 427 428 430 432 433 434 436 437 440 442 443 446 447]\n",
      "130\n",
      "[0 1 2 3 4 5]\n",
      "[ 0  1  2  3  4  5  6  7  8  9 10]\n"
     ]
    }
   ],
   "source": [
    "lst = healthcare[\"income\"].unique()\n",
    "lst.sort()\n",
    "print(lst)\n",
    "print(len([x for x in lst if x >= 238]))\n",
    "# con = list(range(8, 448))\n",
    "# print([x for x in con if x not in lst])\n",
    "\n",
    "lst = healthcare[\"num-children\"].unique()\n",
    "lst.sort()\n",
    "print(lst)\n",
    "\n",
    "lst = healthcare[\"complications\"].unique()\n",
    "lst.sort()\n",
    "print(lst)\n",
    "\n",
    "\n"
   ],
   "metadata": {
    "collapsed": false,
    "pycharm": {
     "name": "#%%\n"
    }
   }
  },
  {
   "cell_type": "markdown",
   "source": [
    "# make 400 k"
   ],
   "metadata": {
    "collapsed": false,
    "pycharm": {
     "name": "#%% md\n"
    }
   }
  },
  {
   "cell_type": "code",
   "execution_count": 133,
   "outputs": [
    {
     "name": "stdout",
     "output_type": "stream",
     "text": [
      "800\n"
     ]
    }
   ],
   "source": [
    "healthcare = pd.read_csv(\"healthcare_800.csv\", index_col=False)\n",
    "print(len(healthcare))"
   ],
   "metadata": {
    "collapsed": false,
    "pycharm": {
     "name": "#%%\n"
    }
   }
  },
  {
   "cell_type": "code",
   "execution_count": 134,
   "outputs": [
    {
     "name": "stdout",
     "output_type": "stream",
     "text": [
      "222\n"
     ]
    }
   ],
   "source": [
    "print(len(healthcare[healthcare[\"income\"] < 100]))"
   ],
   "metadata": {
    "collapsed": false,
    "pycharm": {
     "name": "#%%\n"
    }
   }
  },
  {
   "cell_type": "code",
   "execution_count": 135,
   "outputs": [
    {
     "name": "stdout",
     "output_type": "stream",
     "text": [
      "139\n",
      "138\n",
      "144\n",
      "131\n",
      "135\n",
      "113\n"
     ]
    }
   ],
   "source": [
    "children = [ 0,  1,  2,  3,  4,  5]\n",
    "for i in children:\n",
    "    print(len(healthcare[healthcare[\"num-children\"] == i]))"
   ],
   "metadata": {
    "collapsed": false,
    "pycharm": {
     "name": "#%%\n"
    }
   }
  },
  {
   "cell_type": "code",
   "execution_count": 136,
   "outputs": [
    {
     "name": "stdout",
     "output_type": "stream",
     "text": [
      "69\n",
      "57\n",
      "75\n",
      "65\n",
      "50\n",
      "81\n",
      "79\n",
      "78\n",
      "81\n",
      "95\n",
      "70\n"
     ]
    }
   ],
   "source": [
    "complications = [ 0,  1,  2,  3,  4,  5, 6, 7, 8, 9, 10]\n",
    "for i in complications:\n",
    "    print(len(healthcare[healthcare[\"complications\"] == i]))"
   ],
   "metadata": {
    "collapsed": false,
    "pycharm": {
     "name": "#%%\n"
    }
   }
  },
  {
   "cell_type": "code",
   "execution_count": null,
   "outputs": [],
   "source": [
    "def remove_hours(hours, sam, healthcare):\n",
    "    print(len(healthcare))\n",
    "    a1 = healthcare[healthcare['num-children'] == hours].sample(sam)\n",
    "    print(len(a1))\n",
    "    healthcare = healthcare[~healthcare.index.isin(a1.index)]\n",
    "    print(len(healthcare))\n",
    "    return healthcare\n",
    "print(len(healthcare))\n",
    "healthcare = remove_hours(5, 50, healthcare)\n",
    "print(len(healthcare))\n",
    "healthcare = remove_hours(4, 50, healthcare)\n",
    "print(len(healthcare))\n",
    "healthcare = remove_hours(3, 50, healthcare)\n",
    "print(len(healthcare))\n",
    "healthcare = remove_hours(2, 50, healthcare)\n",
    "print(len(healthcare))\n",
    "healthcare = remove_hours(1, 50, healthcare)\n",
    "print(len(healthcare))\n",
    "healthcare = remove_hours(0, 50, healthcare)\n",
    "print(len(healthcare))"
   ],
   "metadata": {
    "collapsed": false,
    "pycharm": {
     "name": "#%%\n"
    }
   }
  },
  {
   "cell_type": "code",
   "execution_count": 138,
   "outputs": [
    {
     "name": "stdout",
     "output_type": "stream",
     "text": [
      "89\n",
      "88\n",
      "94\n",
      "81\n",
      "85\n",
      "63\n"
     ]
    }
   ],
   "source": [
    "children = [ 0,  1,  2,  3,  4,  5]\n",
    "for i in children:\n",
    "    print(len(healthcare[healthcare[\"num-children\"] == i]))\n",
    "\n"
   ],
   "metadata": {
    "collapsed": false,
    "pycharm": {
     "name": "#%%\n"
    }
   }
  },
  {
   "cell_type": "code",
   "execution_count": 139,
   "outputs": [
    {
     "name": "stdout",
     "output_type": "stream",
     "text": [
      "500\n",
      "20\n",
      "480\n",
      "480\n",
      "480\n",
      "20\n",
      "460\n",
      "460\n",
      "460\n",
      "20\n",
      "440\n",
      "440\n",
      "440\n",
      "20\n",
      "420\n",
      "420\n",
      "420\n",
      "20\n",
      "400\n",
      "400\n"
     ]
    }
   ],
   "source": [
    "healthcare = remove_hours(0, 20, healthcare)\n",
    "print(len(healthcare))\n",
    "healthcare = remove_hours(1, 20, healthcare)\n",
    "print(len(healthcare))\n",
    "healthcare = remove_hours(2, 20, healthcare)\n",
    "print(len(healthcare))\n",
    "healthcare = remove_hours(3, 20, healthcare)\n",
    "print(len(healthcare))\n",
    "healthcare = remove_hours(4, 20, healthcare)\n",
    "print(len(healthcare))"
   ],
   "metadata": {
    "collapsed": false,
    "pycharm": {
     "name": "#%%\n"
    }
   }
  },
  {
   "cell_type": "code",
   "execution_count": 140,
   "outputs": [],
   "source": [
    "healthcare.to_csv(\"healthcare_400.csv\", index=False)"
   ],
   "metadata": {
    "collapsed": false,
    "pycharm": {
     "name": "#%%\n"
    }
   }
  },
  {
   "cell_type": "code",
   "execution_count": 143,
   "outputs": [
    {
     "name": "stdout",
     "output_type": "stream",
     "text": [
      "[ 38  40  41  42  43  44  45  46  47  48  49  50  51  52  54  55  56  57\n",
      "  58  59  60  61  62  65  66  67  69  70  71  72  73  74  75  76  77  78\n",
      "  79  80  82  83  84  85  86  88  91  94  95  96  98  99 100 101 102 103\n",
      " 106 107 108 110 111 113 115 116 117 118 120 121 122 123 124 126 127 129\n",
      " 130 131 132 133 134 135 136 137 139 140 141 142 144 145 146 147 149 150\n",
      " 152 154 155 156 157 158 159 160 161 162 163 164 166 167 168 172 173 175\n",
      " 177 178 179 180 181 182 183 184 185 187 188 189 190 191 193 195 196 197\n",
      " 198 200 201 202 203 204 205 206 207 208 209 210 211 214 215 218 219 220\n",
      " 221 222 223 224 225 226 229 231 236 242 244 245 246 248 251 255 261 264\n",
      " 266 267 268 272 273 287 288 289 292 293 295 298 299 300 301 308 317 322\n",
      " 323 326 327 328 330 333 338 339 343 344 345 347 350 352 353 356 357 358\n",
      " 370 373 374 376 379 382 386 388 389 392 395 396 397 400 401 402 403 405\n",
      " 411 413 414 417 418 420 422 427 433 436 437 442 446]\n",
      "130\n",
      "[0 1 2 3 4 5]\n",
      "[ 0  1  2  3  4  5  6  7  8  9 10]\n"
     ]
    }
   ],
   "source": [
    "lst = healthcare[\"income\"].unique()\n",
    "lst.sort()\n",
    "print(lst)\n",
    "print(len([x for x in lst if x >= 162]))\n",
    "# con = list(range(8, 448))\n",
    "# print([x for x in con if x not in lst])\n",
    "\n",
    "lst = healthcare[\"num-children\"].unique()\n",
    "lst.sort()\n",
    "print(lst)\n",
    "\n",
    "lst = healthcare[\"complications\"].unique()\n",
    "lst.sort()\n",
    "print(lst)\n",
    "\n",
    "\n"
   ],
   "metadata": {
    "collapsed": false,
    "pycharm": {
     "name": "#%%\n"
    }
   }
  },
  {
   "cell_type": "code",
   "execution_count": 144,
   "outputs": [
    {
     "name": "stdout",
     "output_type": "stream",
     "text": [
      "190\n",
      "163\n",
      "111\n",
      "39\n",
      "31\n"
     ]
    }
   ],
   "source": [
    "healthcare = pd.read_csv(\"healthcare_400.csv\", index_col=False)\n",
    "healthcare1 = healthcare[healthcare[\"income\"] >= 162] # size = 20\n",
    "print(len(healthcare1))\n",
    "healthcare2 = healthcare1[healthcare1[\"num-children\"] <= 4] # size = 5\n",
    "print(len(healthcare2))\n",
    "healthcare3 = healthcare2[healthcare2[\"complications\"] <= 8]  # size = 30\n",
    "print(len(healthcare3))\n",
    "healthcare4 = healthcare3[(healthcare3[\"county\"] == \"county2\") | (healthcare3[\"county\"] == \"county4\")]  # size = 30\n",
    "print(len(healthcare4))\n",
    "\n",
    "AA = healthcare3[healthcare3[\"race\"] == \"race2\"]\n",
    "print(len(AA))\n"
   ],
   "metadata": {
    "collapsed": false,
    "pycharm": {
     "name": "#%%\n"
    }
   }
  },
  {
   "cell_type": "markdown",
   "source": [
    "# make 200 data"
   ],
   "metadata": {
    "collapsed": false,
    "pycharm": {
     "name": "#%% md\n"
    }
   }
  },
  {
   "cell_type": "code",
   "execution_count": 145,
   "outputs": [
    {
     "name": "stdout",
     "output_type": "stream",
     "text": [
      "400\n"
     ]
    }
   ],
   "source": [
    "pd.read_csv(\"healthcare_400.csv\", index_col=False)\n",
    "print(len(healthcare))\n"
   ],
   "metadata": {
    "collapsed": false,
    "pycharm": {
     "name": "#%%\n"
    }
   }
  },
  {
   "cell_type": "code",
   "execution_count": 146,
   "outputs": [
    {
     "name": "stdout",
     "output_type": "stream",
     "text": [
      "[ 38  40  41  42  43  44  45  46  47  48  49  50  51  52  54  55  56  57\n",
      "  58  59  60  61  62  65  66  67  69  70  71  72  73  74  75  76  77  78\n",
      "  79  80  82  83  84  85  86  88  91  94  95  96  98  99 100 101 102 103\n",
      " 106 107 108 110 111 113 115 116 117 118 120 121 122 123 124 126 127 129\n",
      " 130 131 132 133 134 135 136 137 139 140 141 142 144 145 146 147 149 150\n",
      " 152 154 155 156 157 158 159 160 161 162 163 164 166 167 168 172 173 175\n",
      " 177 178 179 180 181 182 183 184 185 187 188 189 190 191 193 195 196 197\n",
      " 198 200 201 202 203 204 205 206 207 208 209 210 211 214 215 218 219 220\n",
      " 221 222 223 224 225 226 229 231 236 242 244 245 246 248 251 255 261 264\n",
      " 266 267 268 272 273 287 288 289 292 293 295 298 299 300 301 308 317 322\n",
      " 323 326 327 328 330 333 338 339 343 344 345 347 350 352 353 356 357 358\n",
      " 370 373 374 376 379 382 386 388 389 392 395 396 397 400 401 402 403 405\n",
      " 411 413 414 417 418 420 422 427 433 436 437 442 446]\n",
      "142\n",
      "[0 1 2 3 4 5]\n",
      "[ 0  1  2  3  4  5  6  7  8  9 10]\n"
     ]
    }
   ],
   "source": [
    "lst = healthcare[\"income\"].unique()\n",
    "lst.sort()\n",
    "print(lst)\n",
    "print(len([x for x in lst if x >= 147]))\n",
    "# con = list(range(8, 448))\n",
    "# print([x for x in con if x not in lst])\n",
    "\n",
    "lst = healthcare[\"num-children\"].unique()\n",
    "lst.sort()\n",
    "print(lst)\n",
    "\n",
    "lst = healthcare[\"complications\"].unique()\n",
    "lst.sort()\n",
    "print(lst)"
   ],
   "metadata": {
    "collapsed": false,
    "pycharm": {
     "name": "#%%\n"
    }
   }
  },
  {
   "cell_type": "code",
   "execution_count": 147,
   "outputs": [
    {
     "name": "stdout",
     "output_type": "stream",
     "text": [
      "69\n",
      "68\n",
      "74\n",
      "61\n",
      "65\n",
      "63\n"
     ]
    }
   ],
   "source": [
    "children = [ 0,  1,  2,  3,  4,  5]\n",
    "for i in children:\n",
    "    print(len(healthcare[healthcare[\"num-children\"] == i]))"
   ],
   "metadata": {
    "collapsed": false,
    "pycharm": {
     "name": "#%%\n"
    }
   }
  },
  {
   "cell_type": "code",
   "execution_count": 148,
   "outputs": [
    {
     "name": "stdout",
     "output_type": "stream",
     "text": [
      "400\n",
      "400\n",
      "30\n",
      "370\n",
      "370\n",
      "370\n",
      "30\n",
      "340\n",
      "340\n",
      "340\n",
      "30\n",
      "310\n",
      "310\n",
      "310\n",
      "30\n",
      "280\n",
      "280\n",
      "280\n",
      "40\n",
      "240\n",
      "240\n",
      "240\n",
      "40\n",
      "200\n",
      "200\n"
     ]
    }
   ],
   "source": [
    "def remove_hours(hours, sam, healthcare):\n",
    "    print(len(healthcare))\n",
    "    a1 = healthcare[healthcare['num-children'] == hours].sample(sam)\n",
    "    print(len(a1))\n",
    "    healthcare = healthcare[~healthcare.index.isin(a1.index)]\n",
    "    print(len(healthcare))\n",
    "    return healthcare\n",
    "print(len(healthcare))\n",
    "healthcare = remove_hours(5, 30, healthcare)\n",
    "print(len(healthcare))\n",
    "healthcare = remove_hours(4, 30, healthcare)\n",
    "print(len(healthcare))\n",
    "healthcare = remove_hours(3, 30, healthcare)\n",
    "print(len(healthcare))\n",
    "healthcare = remove_hours(2, 30, healthcare)\n",
    "print(len(healthcare))\n",
    "healthcare = remove_hours(1, 40, healthcare)\n",
    "print(len(healthcare))\n",
    "healthcare = remove_hours(0, 40, healthcare)\n",
    "print(len(healthcare))\n"
   ],
   "metadata": {
    "collapsed": false,
    "pycharm": {
     "name": "#%%\n"
    }
   }
  },
  {
   "cell_type": "code",
   "execution_count": 149,
   "outputs": [],
   "source": [
    "healthcare.to_csv(\"healthcare_200.csv\", index=False)"
   ],
   "metadata": {
    "collapsed": false,
    "pycharm": {
     "name": "#%%\n"
    }
   }
  },
  {
   "cell_type": "code",
   "execution_count": 155,
   "outputs": [
    {
     "name": "stdout",
     "output_type": "stream",
     "text": [
      "[ 41  43  44  46  47  48  50  51  54  57  58  59  62  65  69  71  72  74\n",
      "  75  76  77  78  79  80  82  83  84  86  88  91  96  98  99 100 102 103\n",
      " 107 110 111 113 115 116 117 118 120 121 122 123 124 127 129 130 131 132\n",
      " 133 134 135 136 137 140 141 142 145 146 147 152 155 156 157 158 159 160\n",
      " 162 164 166 172 173 177 178 180 182 183 185 187 188 189 190 197 198 201\n",
      " 205 206 208 210 211 219 221 224 225 229 231 236 242 245 248 251 261 264\n",
      " 266 268 272 287 289 292 293 298 299 308 327 333 338 339 347 350 353 356\n",
      " 357 358 374 388 389 395 396 397 400 402 403 405 411 414 417 418 420 422\n",
      " 436 437]\n",
      "130\n",
      "[0 1 2 3 4 5]\n",
      "[ 0  1  2  3  4  5  6  7  8  9 10]\n"
     ]
    }
   ],
   "source": [
    "lst = healthcare[\"income\"].unique()\n",
    "lst.sort()\n",
    "print(lst)\n",
    "print(len([x for x in lst if x >= 72]))\n",
    "# con = list(range(8, 448))\n",
    "# print([x for x in con if x not in lst])\n",
    "\n",
    "lst = healthcare[\"num-children\"].unique()\n",
    "lst.sort()\n",
    "print(lst)\n",
    "\n",
    "lst = healthcare[\"complications\"].unique()\n",
    "lst.sort()\n",
    "print(lst)"
   ],
   "metadata": {
    "collapsed": false,
    "pycharm": {
     "name": "#%%\n"
    }
   }
  },
  {
   "cell_type": "code",
   "execution_count": 157,
   "outputs": [
    {
     "name": "stdout",
     "output_type": "stream",
     "text": [
      "179\n",
      "153\n",
      "120\n",
      "38\n",
      "32\n"
     ]
    }
   ],
   "source": [
    "healthcare = pd.read_csv(\"healthcare_200.csv\", index_col=False)\n",
    "healthcare1 = healthcare[healthcare[\"income\"] >= 72] # size = 20\n",
    "print(len(healthcare1))\n",
    "healthcare2 = healthcare1[healthcare1[\"num-children\"] <= 4] # size = 5\n",
    "print(len(healthcare2))\n",
    "healthcare3 = healthcare2[healthcare2[\"complications\"] <= 8]  # size = 30\n",
    "print(len(healthcare3))\n",
    "healthcare4 = healthcare3[(healthcare3[\"county\"] == \"county2\") | (healthcare3[\"county\"] == \"county4\")]  # size = 30\n",
    "print(len(healthcare4))\n",
    "\n",
    "AA = healthcare3[healthcare3[\"race\"] == \"race2\"]\n",
    "print(len(AA))\n"
   ],
   "metadata": {
    "collapsed": false,
    "pycharm": {
     "name": "#%%\n"
    }
   }
  },
  {
   "cell_type": "code",
   "execution_count": null,
   "outputs": [],
   "source": [],
   "metadata": {
    "collapsed": false,
    "pycharm": {
     "name": "#%%\n"
    }
   }
  }
 ],
 "metadata": {
  "kernelspec": {
   "display_name": "Python 3",
   "language": "python",
   "name": "python3"
  },
  "language_info": {
   "codemirror_mode": {
    "name": "ipython",
    "version": 2
   },
   "file_extension": ".py",
   "mimetype": "text/x-python",
   "name": "python",
   "nbconvert_exporter": "python",
   "pygments_lexer": "ipython2",
   "version": "2.7.6"
  }
 },
 "nbformat": 4,
 "nbformat_minor": 0
}