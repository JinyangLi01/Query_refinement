{
 "cells": [
  {
   "cell_type": "code",
   "execution_count": 1,
   "outputs": [],
   "source": [
    "import numpy as np\n",
    "import pandas as pd\n",
    "import csv\n",
    "import json\n"
   ],
   "metadata": {
    "collapsed": false,
    "pycharm": {
     "name": "#%%\n"
    }
   }
  },
  {
   "cell_type": "code",
   "execution_count": 2,
   "outputs": [
    {
     "name": "stdout",
     "output_type": "stream",
     "text": [
      "[1 0 3 2 4 5]\n",
      "[ 2  1 10  5  8  3  9  6  7  0  4]\n"
     ]
    }
   ],
   "source": [
    "data_file = r\"before_selection_incomeK.csv\"\n",
    "query_file_prefix = r\"query1.json\"\n",
    "\n",
    "data = pd.read_csv(data_file, index_col=False)\n",
    "\n",
    "print(data['num-children'].unique())\n",
    "print(data['complications'].unique())\n",
    "\n"
   ],
   "metadata": {
    "collapsed": false,
    "pycharm": {
     "name": "#%%\n"
    }
   }
  },
  {
   "cell_type": "markdown",
   "source": [
    "# q1"
   ],
   "metadata": {
    "collapsed": false,
    "pycharm": {
     "name": "#%% md\n"
    }
   }
  },
  {
   "cell_type": "code",
   "execution_count": 17,
   "outputs": [
    {
     "name": "stdout",
     "output_type": "stream",
     "text": [
      "887\n",
      "578\n",
      "485\n",
      "race   county \n",
      "race1  county1    32\n",
      "       county2    30\n",
      "       county3    32\n",
      "       county4    28\n",
      "race2  county1    22\n",
      "       county2    28\n",
      "       county3    25\n",
      "       county4    24\n",
      "race3  county1    81\n",
      "       county2     8\n",
      "       county3    10\n",
      "       county4    14\n",
      "dtype: int64\n",
      "150\n",
      "18\n",
      "18\n",
      "race   age-group\n",
      "race1  group1       21\n",
      "       group2       19\n",
      "       group3       22\n",
      "race2  group1       13\n",
      "       group2       18\n",
      "       group3       22\n",
      "race3  group1        5\n",
      "       group2        7\n",
      "       group3        6\n",
      "dtype: int64\n"
     ]
    }
   ],
   "source": [
    "data_file = r\"before_selection_incomeK.csv\"\n",
    "query_file_prefix = r\"query1.json\"\n",
    "data = pd.read_csv(data_file, index_col=False)\n",
    "\n",
    "print(len(data))\n",
    "data1 = data[data['income'] >= 100]\n",
    "print(len(data1))\n",
    "data2 = data1[data1['num-children'] >= 1]\n",
    "print(len(data2))\n",
    "\n",
    "print(data2.groupby(['race', 'county']).size())\n",
    "\n",
    "data3 = data2[(data2[\"county\"] == \"county2\") | (data2[\"county\"] ==\"county3\")]\n",
    "print(len(data3))\n",
    "\n",
    "data3_race = data3[data3['race'] == 'race3']\n",
    "print(len(data3_race))\n",
    "\n",
    "data3_raceage = data3[(data3['race'] == 'race2') & (data3['age-group'] == \"group2\")]\n",
    "print(len(data3_raceage))\n",
    "#\n",
    "# print(data3.groupby(['race']).size())\n",
    "print(data3.groupby(['race', 'age-group']).size())"
   ],
   "metadata": {
    "collapsed": false,
    "pycharm": {
     "name": "#%%\n"
    }
   }
  },
  {
   "cell_type": "markdown",
   "source": [
    "# q2"
   ],
   "metadata": {
    "collapsed": false,
    "pycharm": {
     "name": "#%% md\n"
    }
   }
  },
  {
   "cell_type": "code",
   "execution_count": 6,
   "outputs": [
    {
     "name": "stdout",
     "output_type": "stream",
     "text": [
      "887\n",
      "414\n",
      "133\n",
      "62\n",
      "44\n",
      "10\n",
      "race\n",
      "race1    21\n",
      "race2    12\n",
      "race3    10\n",
      "dtype: int64\n",
      "age-group\n",
      "group1    14\n",
      "group2    19\n",
      "group3    11\n",
      "dtype: int64\n",
      "race   age-group\n",
      "race1  group1       9\n",
      "       group2       8\n",
      "       group3       4\n",
      "race2  group1       2\n",
      "       group2       5\n",
      "       group3       5\n",
      "race3  group1       3\n",
      "       group2       5\n",
      "       group3       2\n",
      "dtype: int64\n"
     ]
    }
   ],
   "source": [
    "data_file = r\"before_selection_incomeK.csv\"\n",
    "query_file_prefix = r\"query2.json\"\n",
    "\n",
    "data = pd.read_csv(data_file, index_col=False)\n",
    "\n",
    "print(len(data))\n",
    "data1 = data[data['income'] >= 150]\n",
    "print(len(data1))\n",
    "data2 = data1[data1['num-children'] <= 4]\n",
    "print(len(data2))\n",
    "data3 = data2[(data2[\"county\"] == \"county2\") | (data2[\"county\"] ==\"county4\")]\n",
    "print(len(data3))\n",
    "data4 = data3[data3['complications'] <= 8]\n",
    "print(len(data4))\n",
    "\n",
    "data4_race = data4[data4['race'] == 'race3']\n",
    "print(len(data4_race))\n",
    "\n",
    "print(data4.groupby(['race']).size())\n",
    "print(data4.groupby(['age-group']).size())\n",
    "print(data4.groupby(['race', 'age-group']).size())"
   ],
   "metadata": {
    "collapsed": false,
    "pycharm": {
     "name": "#%%\n"
    }
   }
  },
  {
   "cell_type": "markdown",
   "source": [
    "\n",
    "# income\n"
   ],
   "metadata": {
    "collapsed": false,
    "pycharm": {
     "name": "#%% md\n"
    }
   }
  },
  {
   "cell_type": "code",
   "execution_count": 6,
   "outputs": [
    {
     "data": {
      "text/plain": "                id  num-children      income  complications\ncount   887.000000    887.000000  887.000000     887.000000\nmean    495.503946      2.390079  162.365276       5.145434\nstd     289.406386      1.676768  110.010853       3.129673\nmin       1.000000      0.000000    8.000000       0.000000\n25%     243.500000      1.000000   76.000000       2.000000\n50%     493.000000      2.000000  140.000000       5.000000\n75%     743.000000      4.000000  218.000000       8.000000\nmax    1000.000000      5.000000  447.000000      10.000000",
      "text/html": "<div>\n<style scoped>\n    .dataframe tbody tr th:only-of-type {\n        vertical-align: middle;\n    }\n\n    .dataframe tbody tr th {\n        vertical-align: top;\n    }\n\n    .dataframe thead th {\n        text-align: right;\n    }\n</style>\n<table border=\"1\" class=\"dataframe\">\n  <thead>\n    <tr style=\"text-align: right;\">\n      <th></th>\n      <th>id</th>\n      <th>num-children</th>\n      <th>income</th>\n      <th>complications</th>\n    </tr>\n  </thead>\n  <tbody>\n    <tr>\n      <th>count</th>\n      <td>887.000000</td>\n      <td>887.000000</td>\n      <td>887.000000</td>\n      <td>887.000000</td>\n    </tr>\n    <tr>\n      <th>mean</th>\n      <td>495.503946</td>\n      <td>2.390079</td>\n      <td>162.365276</td>\n      <td>5.145434</td>\n    </tr>\n    <tr>\n      <th>std</th>\n      <td>289.406386</td>\n      <td>1.676768</td>\n      <td>110.010853</td>\n      <td>3.129673</td>\n    </tr>\n    <tr>\n      <th>min</th>\n      <td>1.000000</td>\n      <td>0.000000</td>\n      <td>8.000000</td>\n      <td>0.000000</td>\n    </tr>\n    <tr>\n      <th>25%</th>\n      <td>243.500000</td>\n      <td>1.000000</td>\n      <td>76.000000</td>\n      <td>2.000000</td>\n    </tr>\n    <tr>\n      <th>50%</th>\n      <td>493.000000</td>\n      <td>2.000000</td>\n      <td>140.000000</td>\n      <td>5.000000</td>\n    </tr>\n    <tr>\n      <th>75%</th>\n      <td>743.000000</td>\n      <td>4.000000</td>\n      <td>218.000000</td>\n      <td>8.000000</td>\n    </tr>\n    <tr>\n      <th>max</th>\n      <td>1000.000000</td>\n      <td>5.000000</td>\n      <td>447.000000</td>\n      <td>10.000000</td>\n    </tr>\n  </tbody>\n</table>\n</div>"
     },
     "execution_count": 6,
     "metadata": {},
     "output_type": "execute_result"
    }
   ],
   "source": [
    "data_file = r\"before_selection_incomeK.csv\"\n",
    "\n",
    "data = pd.read_csv(data_file, index_col=False)\n",
    "\n",
    "data.describe()\n"
   ],
   "metadata": {
    "collapsed": false,
    "pycharm": {
     "name": "#%%\n"
    }
   }
  },
  {
   "cell_type": "code",
   "execution_count": 8,
   "outputs": [
    {
     "name": "stdout",
     "output_type": "stream",
     "text": [
      "887\n",
      "0\n",
      "0\n",
      "0\n",
      "0\n",
      "0\n",
      "Series([], dtype: int64)\n",
      "Series([], dtype: int64)\n",
      "Series([], dtype: int64)\n"
     ]
    }
   ],
   "source": [
    "\n",
    "print(len(data))\n",
    "data1 = data[data['income'] >= 450]\n",
    "print(len(data1))\n",
    "data2 = data1[data1['num-children'] <= 4]\n",
    "print(len(data2))\n",
    "data3 = data2[(data2[\"county\"] == \"county2\") | (data2[\"county\"] ==\"county4\")]\n",
    "print(len(data3))\n",
    "data4 = data3[data3['complications'] <= 8]\n",
    "print(len(data4))\n",
    "\n",
    "data4_race = data4[data4['race'] == 'race3']\n",
    "print(len(data4_race))\n",
    "\n",
    "print(data4.groupby(['race']).size())\n",
    "print(data4.groupby(['age-group']).size())\n",
    "print(data4.groupby(['race', 'age-group']).size())"
   ],
   "metadata": {
    "collapsed": false,
    "pycharm": {
     "name": "#%%\n"
    }
   }
  },
  {
   "cell_type": "markdown",
   "source": [
    "# num_children"
   ],
   "metadata": {
    "collapsed": false,
    "pycharm": {
     "name": "#%% md\n"
    }
   }
  },
  {
   "cell_type": "code",
   "execution_count": 9,
   "outputs": [
    {
     "data": {
      "text/plain": "                id  num-children      income  complications\ncount   887.000000    887.000000  887.000000     887.000000\nmean    495.503946      2.390079  162.365276       5.145434\nstd     289.406386      1.676768  110.010853       3.129673\nmin       1.000000      0.000000    8.000000       0.000000\n25%     243.500000      1.000000   76.000000       2.000000\n50%     493.000000      2.000000  140.000000       5.000000\n75%     743.000000      4.000000  218.000000       8.000000\nmax    1000.000000      5.000000  447.000000      10.000000",
      "text/html": "<div>\n<style scoped>\n    .dataframe tbody tr th:only-of-type {\n        vertical-align: middle;\n    }\n\n    .dataframe tbody tr th {\n        vertical-align: top;\n    }\n\n    .dataframe thead th {\n        text-align: right;\n    }\n</style>\n<table border=\"1\" class=\"dataframe\">\n  <thead>\n    <tr style=\"text-align: right;\">\n      <th></th>\n      <th>id</th>\n      <th>num-children</th>\n      <th>income</th>\n      <th>complications</th>\n    </tr>\n  </thead>\n  <tbody>\n    <tr>\n      <th>count</th>\n      <td>887.000000</td>\n      <td>887.000000</td>\n      <td>887.000000</td>\n      <td>887.000000</td>\n    </tr>\n    <tr>\n      <th>mean</th>\n      <td>495.503946</td>\n      <td>2.390079</td>\n      <td>162.365276</td>\n      <td>5.145434</td>\n    </tr>\n    <tr>\n      <th>std</th>\n      <td>289.406386</td>\n      <td>1.676768</td>\n      <td>110.010853</td>\n      <td>3.129673</td>\n    </tr>\n    <tr>\n      <th>min</th>\n      <td>1.000000</td>\n      <td>0.000000</td>\n      <td>8.000000</td>\n      <td>0.000000</td>\n    </tr>\n    <tr>\n      <th>25%</th>\n      <td>243.500000</td>\n      <td>1.000000</td>\n      <td>76.000000</td>\n      <td>2.000000</td>\n    </tr>\n    <tr>\n      <th>50%</th>\n      <td>493.000000</td>\n      <td>2.000000</td>\n      <td>140.000000</td>\n      <td>5.000000</td>\n    </tr>\n    <tr>\n      <th>75%</th>\n      <td>743.000000</td>\n      <td>4.000000</td>\n      <td>218.000000</td>\n      <td>8.000000</td>\n    </tr>\n    <tr>\n      <th>max</th>\n      <td>1000.000000</td>\n      <td>5.000000</td>\n      <td>447.000000</td>\n      <td>10.000000</td>\n    </tr>\n  </tbody>\n</table>\n</div>"
     },
     "execution_count": 9,
     "metadata": {},
     "output_type": "execute_result"
    }
   ],
   "source": [
    "data_file = r\"before_selection_incomeK.csv\"\n",
    "\n",
    "data = pd.read_csv(data_file, index_col=False)\n",
    "\n",
    "data.describe()\n"
   ],
   "metadata": {
    "collapsed": false,
    "pycharm": {
     "name": "#%%\n"
    }
   }
  },
  {
   "cell_type": "code",
   "execution_count": null,
   "outputs": [],
   "source": [],
   "metadata": {
    "collapsed": false,
    "pycharm": {
     "name": "#%%\n"
    }
   }
  }
 ],
 "metadata": {
  "kernelspec": {
   "display_name": "Python 3",
   "language": "python",
   "name": "python3"
  },
  "language_info": {
   "codemirror_mode": {
    "name": "ipython",
    "version": 2
   },
   "file_extension": ".py",
   "mimetype": "text/x-python",
   "name": "python",
   "nbconvert_exporter": "python",
   "pygments_lexer": "ipython2",
   "version": "2.7.6"
  }
 },
 "nbformat": 4,
 "nbformat_minor": 0
}