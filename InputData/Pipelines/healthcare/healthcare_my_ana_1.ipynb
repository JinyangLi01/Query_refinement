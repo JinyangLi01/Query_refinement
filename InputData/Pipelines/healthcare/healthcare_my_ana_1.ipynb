{
 "cells": [
  {
   "cell_type": "raw",
   "source": [
    "\n",
    "All is based on before_selection.csv file\n",
    "\n"
   ],
   "metadata": {
    "collapsed": false,
    "pycharm": {
     "name": "#%% raw\n"
    }
   }
  },
  {
   "cell_type": "code",
   "execution_count": 4,
   "outputs": [],
   "source": [
    "import warnings\n",
    "import os\n",
    "import pandas as pd\n",
    "from sklearn.compose import ColumnTransformer\n",
    "from sklearn.impute import SimpleImputer\n",
    "from sklearn.model_selection import train_test_split\n",
    "from sklearn.pipeline import Pipeline\n",
    "from sklearn.preprocessing import OneHotEncoder, StandardScaler\n"
   ],
   "metadata": {
    "collapsed": false,
    "pycharm": {
     "name": "#%%\n"
    }
   }
  },
  {
   "cell_type": "markdown",
   "source": [
    "\n",
    "# My data pre-prossing"
   ],
   "metadata": {
    "collapsed": false,
    "pycharm": {
     "name": "#%% md\n"
    }
   }
  },
  {
   "cell_type": "code",
   "execution_count": 17,
   "outputs": [
    {
     "name": "stdout",
     "output_type": "stream",
     "text": [
      "   id smoker   county  num_children   race     income age_group  \\\n",
      "0   1  False  county3             1  race3  159027.00    group3   \n",
      "1   4  False  county1             0  race3    8868.00    group3   \n",
      "2   6  False  county3             3  race1  120171.75    group3   \n",
      "3   8   True      NaN             2  race1  220113.00    group3   \n",
      "\n",
      "   complications  label  \n",
      "0              2  False  \n",
      "1              1  False  \n",
      "2              2  False  \n",
      "3             10   True  \n",
      "                id  num_children         income  complications\n",
      "count   887.000000    887.000000     887.000000     887.000000\n",
      "mean    495.503946      2.390079  162361.989572       5.145434\n",
      "std     289.406386      1.676768  109998.544038       3.129673\n",
      "min       1.000000      0.000000    7653.750000       0.000000\n",
      "25%     243.500000      1.000000   75882.375000       2.000000\n",
      "50%     493.000000      2.000000  140383.500000       5.000000\n",
      "75%     743.000000      4.000000  217931.250000       8.000000\n",
      "max    1000.000000      5.000000  447204.000000      10.000000\n",
      "                id  num_children         income  complications\n",
      "count   887.000000    887.000000     887.000000     887.000000\n",
      "mean    495.503946      2.390079  162457.722661       5.145434\n",
      "std     289.406386      1.676768  109896.535399       3.129673\n",
      "min       1.000000      0.000000   10000.000000       0.000000\n",
      "25%     243.500000      1.000000   80000.000000       2.000000\n",
      "50%     493.000000      2.000000  140000.000000       5.000000\n",
      "75%     743.000000      4.000000  220000.000000       8.000000\n",
      "max    1000.000000      5.000000  450000.000000      10.000000\n",
      "                id  num_children      income  complications\n",
      "count   887.000000    887.000000  887.000000     887.000000\n",
      "mean    495.503946      2.390079  162.457723       5.145434\n",
      "std     289.406386      1.676768  109.896535       3.129673\n",
      "min       1.000000      0.000000   10.000000       0.000000\n",
      "25%     243.500000      1.000000   80.000000       2.000000\n",
      "50%     493.000000      2.000000  140.000000       5.000000\n",
      "75%     743.000000      4.000000  220.000000       8.000000\n",
      "max    1000.000000      5.000000  450.000000      10.000000\n"
     ]
    }
   ],
   "source": [
    "\n",
    "# round income to 10 thousand\n",
    "data=pd.read_csv(r\"before_selection.csv\")\n",
    "print(data[:4])\n",
    "print(data.describe())\n",
    "\n",
    "data = data.round({'income':-4})\n",
    "print(data.describe())\n",
    "\n",
    "data['income'] = data['income'] / 1000\n",
    "print(data.describe())\n"
   ],
   "metadata": {
    "collapsed": false,
    "pycharm": {
     "name": "#%%\n"
    }
   }
  },
  {
   "cell_type": "code",
   "execution_count": 18,
   "outputs": [],
   "source": [
    "\n",
    "data.to_csv(r\"before_selection_income10K.csv\", index=False)\n"
   ],
   "metadata": {
    "collapsed": false,
    "pycharm": {
     "name": "#%%\n"
    }
   }
  },
  {
   "cell_type": "code",
   "execution_count": 19,
   "outputs": [
    {
     "data": {
      "text/plain": "   id smoker   county  num_children   race  income age_group  complications  \\\n0   1  False  county3             1  race3   160.0    group3              2   \n1   4  False  county1             0  race3    10.0    group3              1   \n2   6  False  county3             3  race1   120.0    group3              2   \n3   8   True      NaN             2  race1   220.0    group3             10   \n\n   label  \n0  False  \n1  False  \n2  False  \n3   True  ",
      "text/html": "<div>\n<style scoped>\n    .dataframe tbody tr th:only-of-type {\n        vertical-align: middle;\n    }\n\n    .dataframe tbody tr th {\n        vertical-align: top;\n    }\n\n    .dataframe thead th {\n        text-align: right;\n    }\n</style>\n<table border=\"1\" class=\"dataframe\">\n  <thead>\n    <tr style=\"text-align: right;\">\n      <th></th>\n      <th>id</th>\n      <th>smoker</th>\n      <th>county</th>\n      <th>num_children</th>\n      <th>race</th>\n      <th>income</th>\n      <th>age_group</th>\n      <th>complications</th>\n      <th>label</th>\n    </tr>\n  </thead>\n  <tbody>\n    <tr>\n      <th>0</th>\n      <td>1</td>\n      <td>False</td>\n      <td>county3</td>\n      <td>1</td>\n      <td>race3</td>\n      <td>160.0</td>\n      <td>group3</td>\n      <td>2</td>\n      <td>False</td>\n    </tr>\n    <tr>\n      <th>1</th>\n      <td>4</td>\n      <td>False</td>\n      <td>county1</td>\n      <td>0</td>\n      <td>race3</td>\n      <td>10.0</td>\n      <td>group3</td>\n      <td>1</td>\n      <td>False</td>\n    </tr>\n    <tr>\n      <th>2</th>\n      <td>6</td>\n      <td>False</td>\n      <td>county3</td>\n      <td>3</td>\n      <td>race1</td>\n      <td>120.0</td>\n      <td>group3</td>\n      <td>2</td>\n      <td>False</td>\n    </tr>\n    <tr>\n      <th>3</th>\n      <td>8</td>\n      <td>True</td>\n      <td>NaN</td>\n      <td>2</td>\n      <td>race1</td>\n      <td>220.0</td>\n      <td>group3</td>\n      <td>10</td>\n      <td>True</td>\n    </tr>\n  </tbody>\n</table>\n</div>"
     },
     "execution_count": 19,
     "metadata": {},
     "output_type": "execute_result"
    }
   ],
   "source": [
    "\n",
    "\n",
    "data=pd.read_csv(r\"before_selection_income10K.csv\")\n",
    "data[:4]\n"
   ],
   "metadata": {
    "collapsed": false,
    "pycharm": {
     "name": "#%%\n"
    }
   }
  },
  {
   "cell_type": "code",
   "execution_count": 15,
   "outputs": [],
   "source": [
    "\n",
    "\n",
    "\n"
   ],
   "metadata": {
    "collapsed": false,
    "pycharm": {
     "name": "#%%\n"
    }
   }
  },
  {
   "cell_type": "code",
   "execution_count": 15,
   "outputs": [],
   "source": [
    "\n",
    "\n"
   ],
   "metadata": {
    "collapsed": false,
    "pycharm": {
     "name": "#%%\n"
    }
   }
  },
  {
   "cell_type": "code",
   "execution_count": 15,
   "outputs": [],
   "source": [
    "\n",
    "\n"
   ],
   "metadata": {
    "collapsed": false,
    "pycharm": {
     "name": "#%%\n"
    }
   }
  },
  {
   "cell_type": "markdown",
   "source": [
    "\n",
    "## Analysis"
   ],
   "metadata": {
    "collapsed": false,
    "pycharm": {
     "name": "#%% md\n"
    }
   }
  },
  {
   "cell_type": "markdown",
   "source": [
    "\n",
    "### 1."
   ],
   "metadata": {
    "collapsed": false,
    "pycharm": {
     "name": "#%% md\n"
    }
   }
  },
  {
   "cell_type": "code",
   "execution_count": 8,
   "outputs": [
    {
     "name": "stdout",
     "output_type": "stream",
     "text": [
      "race   county \n",
      "race1  county1     54\n",
      "       county2     63\n",
      "       county3     54\n",
      "       county4     53\n",
      "race2  county1     38\n",
      "       county2     52\n",
      "       county3     48\n",
      "       county4     51\n",
      "race3  county1    147\n",
      "       county2     18\n",
      "       county3     21\n",
      "       county4     27\n",
      "dtype: int64\n",
      "0.6901408450704225 0.08450704225352113 0.09859154929577464 0.1267605633802817\n"
     ]
    }
   ],
   "source": [
    "\n",
    "\n",
    "\n",
    "data=pd.read_csv(r\"incomeK/before_selection_incomeK.csv\")\n",
    "print(data.groupby(['race', 'county']).size())\n",
    "\n",
    "print(147/(147+18+21+27), 18/(147+18+21+27), 21/(147+18+21+27), 27/(147+18+21+27))\n",
    "\n"
   ],
   "metadata": {
    "collapsed": false,
    "pycharm": {
     "name": "#%%\n"
    }
   }
  },
  {
   "cell_type": "code",
   "execution_count": 24,
   "outputs": [
    {
     "name": "stdout",
     "output_type": "stream",
     "text": [
      "   id smoker   county  num_children   race  income age_group  complications  \\\n",
      "0   1  False  county3             1  race3   160.0    group3              2   \n",
      "2   6  False  county3             3  race1   120.0    group3              2   \n",
      "3   8   True      NaN             2  race1   220.0    group3             10   \n",
      "5  17  False  county4             3    NaN   120.0    group3              5   \n",
      "\n",
      "   label  \n",
      "0  False  \n",
      "2  False  \n",
      "3   True  \n",
      "5  False  \n",
      "race   county \n",
      "race1  county1     40\n",
      "       county2     41\n",
      "       county3     37\n",
      "       county4     36\n",
      "race2  county1     25\n",
      "       county2     36\n",
      "       county3     30\n",
      "       county4     31\n",
      "race3  county1    100\n",
      "       county2     14\n",
      "       county3     13\n",
      "       county4     18\n",
      "dtype: int64\n"
     ]
    }
   ],
   "source": [
    "\n",
    "\n",
    "data=pd.read_csv(r\"incomeK/before_selection_incomeK.csv\")\n",
    "data_income = data[data['income'] >= 100]\n",
    "print(data_income[:4])\n",
    "print(data_income.groupby(['race', 'county']).size())\n"
   ],
   "metadata": {
    "collapsed": false,
    "pycharm": {
     "name": "#%%\n"
    }
   }
  },
  {
   "cell_type": "code",
   "execution_count": 27,
   "outputs": [
    {
     "name": "stdout",
     "output_type": "stream",
     "text": [
      "   id smoker   county  num_children   race  income age_group  complications  \\\n",
      "2   6  False  county3             3  race1   120.0    group3              2   \n",
      "3   8   True      NaN             2  race1   220.0    group3             10   \n",
      "5  17  False  county4             3    NaN   120.0    group3              5   \n",
      "6  18   True  county1             2    NaN   350.0    group3              8   \n",
      "\n",
      "   label  \n",
      "2  False  \n",
      "3   True  \n",
      "5  False  \n",
      "6   True  \n",
      "race   county \n",
      "race1  county1    26\n",
      "       county2    21\n",
      "       county3    25\n",
      "       county4    23\n",
      "race2  county1    18\n",
      "       county2    24\n",
      "       county3    19\n",
      "       county4    17\n",
      "race3  county1    72\n",
      "       county2     6\n",
      "       county3     9\n",
      "       county4    10\n",
      "dtype: int64\n"
     ]
    }
   ],
   "source": [
    "\n",
    "data_income_children = data_income[data_income['num_children'] >= 2]\n",
    "print(data_income_children[:4])\n",
    "print(data_income_children.groupby(['race', 'county']).size())\n"
   ],
   "metadata": {
    "collapsed": false,
    "pycharm": {
     "name": "#%%\n"
    }
   }
  },
  {
   "cell_type": "code",
   "execution_count": 9,
   "outputs": [
    {
     "name": "stdout",
     "output_type": "stream",
     "text": [
      "113\n"
     ]
    },
    {
     "data": {
      "text/plain": "race   age_group\nrace1  group1       15\n       group2       14\n       group3       15\nrace2  group1       12\n       group2       14\n       group3       16\nrace3  group1        5\n       group2        4\n       group3        4\ndtype: int64"
     },
     "execution_count": 9,
     "metadata": {},
     "output_type": "execute_result"
    }
   ],
   "source": [
    "\n",
    "\n",
    "data=pd.read_csv(r\"incomeK/before_selection_incomeK.csv\")\n",
    "data = data[(data['income'] >= 100) & (data['num_children'] >= 2)]\n",
    "data = data[data['county'].isin(['county2', 'county3'])]\n",
    "print(len(data))\n",
    "data.groupby(['race', 'age_group']).size()\n",
    "\n"
   ],
   "metadata": {
    "collapsed": false,
    "pycharm": {
     "name": "#%%\n"
    }
   }
  },
  {
   "cell_type": "code",
   "execution_count": 9,
   "outputs": [
    {
     "name": "stdout",
     "output_type": "stream",
     "text": [
      "115\n"
     ]
    },
    {
     "data": {
      "text/plain": "race   age_group\nrace1  group1       14\n       group2       14\n       group3       14\nrace2  group1       11\n       group2       12\n       group3       17\nrace3  group1        3\n       group2        7\n       group3        5\ndtype: int64"
     },
     "execution_count": 9,
     "metadata": {},
     "output_type": "execute_result"
    }
   ],
   "source": [
    "\n",
    "\n",
    "\n",
    "data=pd.read_csv(r\"incomeK/before_selection_incomeK.csv\")\n",
    "data = data[(data['income'] >= 100) & (data['num_children'] >= 2)]\n",
    "data = data[data['county'].isin(['county2', 'county4'])]\n",
    "print(len(data))\n",
    "data.groupby(['race', 'age_group']).size()\n",
    "\n",
    "\n",
    "\n"
   ],
   "metadata": {
    "collapsed": false,
    "pycharm": {
     "name": "#%%\n"
    }
   }
  },
  {
   "cell_type": "code",
   "execution_count": null,
   "outputs": [],
   "source": [],
   "metadata": {
    "collapsed": false,
    "pycharm": {
     "name": "#%%\n"
    }
   }
  },
  {
   "cell_type": "code",
   "execution_count": 10,
   "outputs": [
    {
     "name": "stdout",
     "output_type": "stream",
     "text": [
      "8\n"
     ]
    },
    {
     "data": {
      "text/plain": "race\nrace1    4\nrace2    2\nrace3    1\ndtype: int64"
     },
     "execution_count": 10,
     "metadata": {},
     "output_type": "execute_result"
    }
   ],
   "source": [
    "\n",
    "\n",
    "\n",
    "data=pd.read_csv(r\"incomeK/before_selection_incomeK.csv\")\n",
    "data = data[(data['income'] >= 400) & (data['num_children'] >= 3)]\n",
    "data = data[data['county'].isin(['county2', 'county3'])]\n",
    "print(len(data))\n",
    "data.groupby(['race']).size()\n",
    "\n"
   ],
   "metadata": {
    "collapsed": false,
    "pycharm": {
     "name": "#%%\n"
    }
   }
  },
  {
   "cell_type": "code",
   "execution_count": null,
   "outputs": [],
   "source": [],
   "metadata": {
    "collapsed": false,
    "pycharm": {
     "name": "#%%\n"
    }
   }
  },
  {
   "cell_type": "code",
   "execution_count": null,
   "outputs": [],
   "source": [],
   "metadata": {
    "collapsed": false,
    "pycharm": {
     "name": "#%%\n"
    }
   }
  },
  {
   "cell_type": "code",
   "execution_count": null,
   "outputs": [],
   "source": [],
   "metadata": {
    "collapsed": false,
    "pycharm": {
     "name": "#%%\n"
    }
   }
  },
  {
   "cell_type": "code",
   "execution_count": null,
   "outputs": [],
   "source": [
    "\n",
    "\n",
    "\n",
    "data=pd.read_csv(r\"before_selection_income10K.csv\")\n",
    "data=data[:300]\n",
    "data.to_csv(r\"before_selection_income10K_300.csv\", index=False)\n"
   ],
   "metadata": {
    "collapsed": false,
    "pycharm": {
     "name": "#%%\n"
    }
   }
  },
  {
   "cell_type": "code",
   "execution_count": 61,
   "outputs": [
    {
     "data": {
      "text/plain": "race\nrace1    32\nrace2    30\nrace3    32\ndtype: int64"
     },
     "execution_count": 61,
     "metadata": {},
     "output_type": "execute_result"
    }
   ],
   "source": [
    "\n",
    "\n",
    "data=pd.read_csv(r\"SmallerData/300/before_selection_income10K_300.csv\")\n",
    "\n",
    "data = data[(data['income'] >= 50) & (data['num_children'] >= 2)]\n",
    "data = data[data['county'].isin(['county2', 'county3', 'county1'])]\n",
    "data.groupby('race').size()\n"
   ],
   "metadata": {
    "collapsed": false,
    "pycharm": {
     "name": "#%%\n"
    }
   }
  },
  {
   "cell_type": "code",
   "execution_count": null,
   "outputs": [],
   "source": [
    "\n",
    "\n",
    "data=pd.read_csv(r\"SmallerData/300/before_selection_income10K_300.csv\")\n",
    "\n",
    "data = data[(data['income'] >= 50) & (data['num_children'] >= 2)]\n",
    "data = data[data['county'].isin(['county2', 'county3', 'county1'])]\n",
    "data.groupby('race').size()\n",
    "\n"
   ],
   "metadata": {
    "collapsed": false,
    "pycharm": {
     "name": "#%%\n"
    }
   }
  }
 ],
 "metadata": {
  "kernelspec": {
   "display_name": "Python 3",
   "language": "python",
   "name": "python3"
  },
  "language_info": {
   "codemirror_mode": {
    "name": "ipython",
    "version": 2
   },
   "file_extension": ".py",
   "mimetype": "text/x-python",
   "name": "python",
   "nbconvert_exporter": "python",
   "pygments_lexer": "ipython2",
   "version": "2.7.6"
  }
 },
 "nbformat": 4,
 "nbformat_minor": 0
}