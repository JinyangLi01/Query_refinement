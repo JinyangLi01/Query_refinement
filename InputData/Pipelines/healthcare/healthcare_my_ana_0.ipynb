{
 "cells": [
  {
   "cell_type": "code",
   "execution_count": 1,
   "metadata": {
    "collapsed": true,
    "pycharm": {
     "name": "#%%\n"
    }
   },
   "outputs": [],
   "source": [
    "\n",
    "\"\"\"Predicting which patients are at a higher risk of complications\"\"\"\n",
    "import warnings\n",
    "import os\n",
    "import pandas as pd\n",
    "from sklearn.compose import ColumnTransformer\n",
    "from sklearn.impute import SimpleImputer\n",
    "from sklearn.model_selection import train_test_split\n",
    "from sklearn.pipeline import Pipeline\n",
    "from sklearn.preprocessing import OneHotEncoder, StandardScaler\n",
    "# from example_pipelines.healthcare.healthcare_utils import MyW2VTransformer, MyKerasClassifier, \\\n",
    "#     create_model\n",
    "# from mlinspect.utils import get_project_root\n",
    "\n"
   ]
  },
  {
   "cell_type": "markdown",
   "source": [
    "\n",
    "# Preprocessing\n"
   ],
   "metadata": {
    "collapsed": false,
    "pycharm": {
     "name": "#%% md\n"
    }
   }
  },
  {
   "cell_type": "markdown",
   "source": [
    "\n",
    "## adding labels\n"
   ],
   "metadata": {
    "collapsed": false,
    "pycharm": {
     "name": "#%% md\n"
    }
   }
  },
  {
   "cell_type": "code",
   "execution_count": 24,
   "outputs": [
    {
     "name": "stdout",
     "output_type": "stream",
     "text": [
      "len(patients) = 887, len(histories) = 887\n",
      "length after merging = 887\n",
      "   id  first_name last_name   race   county  num_children     income  \\\n",
      "0   1       Tabby      Ward  race3  county3             1  159027.00   \n",
      "1   4        Romy   Hawkins  race3  county1             0    8868.00   \n",
      "2   6       Cozmo     Frank  race1  county3             3  120171.75   \n",
      "3   8  Georgeanna     Frank  race1      NaN             2  220113.00   \n",
      "4  13        Pepe        Le  race1      NaN             4   87996.00   \n",
      "\n",
      "  age_group          ssn smoker  complications  \n",
      "0    group3  670-18-6875  False              2  \n",
      "1    group3  117-52-3454  False              1  \n",
      "2    group3  751-43-6257  False              2  \n",
      "3    group3  844-92-1943   True             10  \n",
      "4    group3  421-81-5857  False              1  \n"
     ]
    }
   ],
   "source": [
    "\n",
    "# FutureWarning: Sklearn 0.24 made a change that breaks remainder='drop', that change will be fixed\n",
    "#  in an upcoming version: https://github.com/scikit-learn/scikit-learn/pull/19263\n",
    "warnings.filterwarnings('ignore')\n",
    "\n",
    "COUNTIES_OF_INTEREST = ['county2', 'county3'] # domain: 1, 2, 3, 4\n",
    "\n",
    "patients = pd.read_csv(os.path.join(str(get_project_root()), \"example_pipelines\", \"healthcare\",\n",
    "                                    \"patients.csv\"), na_values='?')\n",
    "histories = pd.read_csv(os.path.join(str(get_project_root()), \"example_pipelines\", \"healthcare\",\n",
    "                                     \"histories.csv\"), na_values='?')\n",
    "print(\"len(patients) = {}, len(histories) = {}\".format(len(patients), len(histories)))\n",
    "\n",
    "data = patients.merge(histories, on=['ssn'])\n",
    "print(\"length after merging = {}\".format(len(data)))\n",
    "print(data[:5])\n",
    "data.to_csv(r\"patients_merged_w_histories.csv\", index=False)\n"
   ],
   "metadata": {
    "collapsed": false,
    "pycharm": {
     "name": "#%%\n"
    }
   }
  },
  {
   "cell_type": "code",
   "execution_count": 2,
   "outputs": [
    {
     "data": {
      "text/plain": "           mean_complications\nage_group                    \ngroup1               5.206406\ngroup2               4.959732\ngroup3               5.269481",
      "text/html": "<div>\n<style scoped>\n    .dataframe tbody tr th:only-of-type {\n        vertical-align: middle;\n    }\n\n    .dataframe tbody tr th {\n        vertical-align: top;\n    }\n\n    .dataframe thead th {\n        text-align: right;\n    }\n</style>\n<table border=\"1\" class=\"dataframe\">\n  <thead>\n    <tr style=\"text-align: right;\">\n      <th></th>\n      <th>mean_complications</th>\n    </tr>\n    <tr>\n      <th>age_group</th>\n      <th></th>\n    </tr>\n  </thead>\n  <tbody>\n    <tr>\n      <th>group1</th>\n      <td>5.206406</td>\n    </tr>\n    <tr>\n      <th>group2</th>\n      <td>4.959732</td>\n    </tr>\n    <tr>\n      <th>group3</th>\n      <td>5.269481</td>\n    </tr>\n  </tbody>\n</table>\n</div>"
     },
     "execution_count": 2,
     "metadata": {},
     "output_type": "execute_result"
    }
   ],
   "source": [
    "\n",
    "data = pd.read_csv(\"patients_merged_w_histories.csv\")\n",
    "\n",
    "complications = data.groupby('age_group') \\\n",
    "    .agg(mean_complications=('complications', 'mean'))\n",
    "\n",
    "complications"
   ],
   "metadata": {
    "collapsed": false,
    "pycharm": {
     "name": "#%%\n"
    }
   }
  },
  {
   "cell_type": "code",
   "execution_count": 4,
   "outputs": [
    {
     "data": {
      "text/plain": "   id  first_name last_name   race   county  num_children     income  \\\n0   1       Tabby      Ward  race3  county3             1  159027.00   \n1   4        Romy   Hawkins  race3  county1             0    8868.00   \n2   6       Cozmo     Frank  race1  county3             3  120171.75   \n3   8  Georgeanna     Frank  race1      NaN             2  220113.00   \n\n  age_group          ssn smoker  complications  mean_complications  \n0    group3  670-18-6875  False              2            5.269481  \n1    group3  117-52-3454  False              1            5.269481  \n2    group3  751-43-6257  False              2            5.269481  \n3    group3  844-92-1943   True             10            5.269481  ",
      "text/html": "<div>\n<style scoped>\n    .dataframe tbody tr th:only-of-type {\n        vertical-align: middle;\n    }\n\n    .dataframe tbody tr th {\n        vertical-align: top;\n    }\n\n    .dataframe thead th {\n        text-align: right;\n    }\n</style>\n<table border=\"1\" class=\"dataframe\">\n  <thead>\n    <tr style=\"text-align: right;\">\n      <th></th>\n      <th>id</th>\n      <th>first_name</th>\n      <th>last_name</th>\n      <th>race</th>\n      <th>county</th>\n      <th>num_children</th>\n      <th>income</th>\n      <th>age_group</th>\n      <th>ssn</th>\n      <th>smoker</th>\n      <th>complications</th>\n      <th>mean_complications</th>\n    </tr>\n  </thead>\n  <tbody>\n    <tr>\n      <th>0</th>\n      <td>1</td>\n      <td>Tabby</td>\n      <td>Ward</td>\n      <td>race3</td>\n      <td>county3</td>\n      <td>1</td>\n      <td>159027.00</td>\n      <td>group3</td>\n      <td>670-18-6875</td>\n      <td>False</td>\n      <td>2</td>\n      <td>5.269481</td>\n    </tr>\n    <tr>\n      <th>1</th>\n      <td>4</td>\n      <td>Romy</td>\n      <td>Hawkins</td>\n      <td>race3</td>\n      <td>county1</td>\n      <td>0</td>\n      <td>8868.00</td>\n      <td>group3</td>\n      <td>117-52-3454</td>\n      <td>False</td>\n      <td>1</td>\n      <td>5.269481</td>\n    </tr>\n    <tr>\n      <th>2</th>\n      <td>6</td>\n      <td>Cozmo</td>\n      <td>Frank</td>\n      <td>race1</td>\n      <td>county3</td>\n      <td>3</td>\n      <td>120171.75</td>\n      <td>group3</td>\n      <td>751-43-6257</td>\n      <td>False</td>\n      <td>2</td>\n      <td>5.269481</td>\n    </tr>\n    <tr>\n      <th>3</th>\n      <td>8</td>\n      <td>Georgeanna</td>\n      <td>Frank</td>\n      <td>race1</td>\n      <td>NaN</td>\n      <td>2</td>\n      <td>220113.00</td>\n      <td>group3</td>\n      <td>844-92-1943</td>\n      <td>True</td>\n      <td>10</td>\n      <td>5.269481</td>\n    </tr>\n  </tbody>\n</table>\n</div>"
     },
     "execution_count": 4,
     "metadata": {},
     "output_type": "execute_result"
    }
   ],
   "source": [
    "\n",
    "data = data.merge(complications, on=['age_group'])\n",
    "data[:4]\n",
    "\n"
   ],
   "metadata": {
    "collapsed": false,
    "pycharm": {
     "name": "#%%\n"
    }
   }
  },
  {
   "cell_type": "code",
   "execution_count": 5,
   "outputs": [
    {
     "data": {
      "text/plain": "   id  first_name  last_name   race   county  num_children     income  \\\n0   1       Tabby       Ward  race3  county3             1  159027.00   \n1   4        Romy    Hawkins  race3  county1             0    8868.00   \n2   6       Cozmo      Frank  race1  county3             3  120171.75   \n3   8  Georgeanna      Frank  race1      NaN             2  220113.00   \n4  13        Pepe         Le  race1      NaN             4   87996.00   \n5  17     Devonna    Elliott    NaN  county4             3  121710.00   \n6  18      Kelcie    Hawkins    NaN  county1             2  352186.50   \n7  21       Brady     Watson  race2      NaN             1   12029.25   \n8  25      Munroe  Cervantes  race1  county4             4  333417.00   \n\n  age_group          ssn smoker  complications  mean_complications  label  \n0    group3  670-18-6875  False              2            5.269481  False  \n1    group3  117-52-3454  False              1            5.269481  False  \n2    group3  751-43-6257  False              2            5.269481  False  \n3    group3  844-92-1943   True             10            5.269481   True  \n4    group3  421-81-5857  False              1            5.269481  False  \n5    group3  527-20-0150  False              5            5.269481  False  \n6    group3  709-91-9697   True              8            5.269481   True  \n7    group3  582-90-4020  False              3            5.269481  False  \n8    group3  551-10-6630    NaN              9            5.269481   True  ",
      "text/html": "<div>\n<style scoped>\n    .dataframe tbody tr th:only-of-type {\n        vertical-align: middle;\n    }\n\n    .dataframe tbody tr th {\n        vertical-align: top;\n    }\n\n    .dataframe thead th {\n        text-align: right;\n    }\n</style>\n<table border=\"1\" class=\"dataframe\">\n  <thead>\n    <tr style=\"text-align: right;\">\n      <th></th>\n      <th>id</th>\n      <th>first_name</th>\n      <th>last_name</th>\n      <th>race</th>\n      <th>county</th>\n      <th>num_children</th>\n      <th>income</th>\n      <th>age_group</th>\n      <th>ssn</th>\n      <th>smoker</th>\n      <th>complications</th>\n      <th>mean_complications</th>\n      <th>label</th>\n    </tr>\n  </thead>\n  <tbody>\n    <tr>\n      <th>0</th>\n      <td>1</td>\n      <td>Tabby</td>\n      <td>Ward</td>\n      <td>race3</td>\n      <td>county3</td>\n      <td>1</td>\n      <td>159027.00</td>\n      <td>group3</td>\n      <td>670-18-6875</td>\n      <td>False</td>\n      <td>2</td>\n      <td>5.269481</td>\n      <td>False</td>\n    </tr>\n    <tr>\n      <th>1</th>\n      <td>4</td>\n      <td>Romy</td>\n      <td>Hawkins</td>\n      <td>race3</td>\n      <td>county1</td>\n      <td>0</td>\n      <td>8868.00</td>\n      <td>group3</td>\n      <td>117-52-3454</td>\n      <td>False</td>\n      <td>1</td>\n      <td>5.269481</td>\n      <td>False</td>\n    </tr>\n    <tr>\n      <th>2</th>\n      <td>6</td>\n      <td>Cozmo</td>\n      <td>Frank</td>\n      <td>race1</td>\n      <td>county3</td>\n      <td>3</td>\n      <td>120171.75</td>\n      <td>group3</td>\n      <td>751-43-6257</td>\n      <td>False</td>\n      <td>2</td>\n      <td>5.269481</td>\n      <td>False</td>\n    </tr>\n    <tr>\n      <th>3</th>\n      <td>8</td>\n      <td>Georgeanna</td>\n      <td>Frank</td>\n      <td>race1</td>\n      <td>NaN</td>\n      <td>2</td>\n      <td>220113.00</td>\n      <td>group3</td>\n      <td>844-92-1943</td>\n      <td>True</td>\n      <td>10</td>\n      <td>5.269481</td>\n      <td>True</td>\n    </tr>\n    <tr>\n      <th>4</th>\n      <td>13</td>\n      <td>Pepe</td>\n      <td>Le</td>\n      <td>race1</td>\n      <td>NaN</td>\n      <td>4</td>\n      <td>87996.00</td>\n      <td>group3</td>\n      <td>421-81-5857</td>\n      <td>False</td>\n      <td>1</td>\n      <td>5.269481</td>\n      <td>False</td>\n    </tr>\n    <tr>\n      <th>5</th>\n      <td>17</td>\n      <td>Devonna</td>\n      <td>Elliott</td>\n      <td>NaN</td>\n      <td>county4</td>\n      <td>3</td>\n      <td>121710.00</td>\n      <td>group3</td>\n      <td>527-20-0150</td>\n      <td>False</td>\n      <td>5</td>\n      <td>5.269481</td>\n      <td>False</td>\n    </tr>\n    <tr>\n      <th>6</th>\n      <td>18</td>\n      <td>Kelcie</td>\n      <td>Hawkins</td>\n      <td>NaN</td>\n      <td>county1</td>\n      <td>2</td>\n      <td>352186.50</td>\n      <td>group3</td>\n      <td>709-91-9697</td>\n      <td>True</td>\n      <td>8</td>\n      <td>5.269481</td>\n      <td>True</td>\n    </tr>\n    <tr>\n      <th>7</th>\n      <td>21</td>\n      <td>Brady</td>\n      <td>Watson</td>\n      <td>race2</td>\n      <td>NaN</td>\n      <td>1</td>\n      <td>12029.25</td>\n      <td>group3</td>\n      <td>582-90-4020</td>\n      <td>False</td>\n      <td>3</td>\n      <td>5.269481</td>\n      <td>False</td>\n    </tr>\n    <tr>\n      <th>8</th>\n      <td>25</td>\n      <td>Munroe</td>\n      <td>Cervantes</td>\n      <td>race1</td>\n      <td>county4</td>\n      <td>4</td>\n      <td>333417.00</td>\n      <td>group3</td>\n      <td>551-10-6630</td>\n      <td>NaN</td>\n      <td>9</td>\n      <td>5.269481</td>\n      <td>True</td>\n    </tr>\n  </tbody>\n</table>\n</div>"
     },
     "execution_count": 5,
     "metadata": {},
     "output_type": "execute_result"
    }
   ],
   "source": [
    "\n",
    "data['label'] = data['complications'] > 1.2 * data['mean_complications']\n",
    "data[:9]\n",
    "\n"
   ],
   "metadata": {
    "collapsed": false,
    "pycharm": {
     "name": "#%%\n"
    }
   }
  },
  {
   "cell_type": "code",
   "execution_count": 7,
   "outputs": [
    {
     "name": "stdout",
     "output_type": "stream",
     "text": [
      "smoker\n",
      "False    464\n",
      "True     353\n",
      "dtype: int64\n",
      "county\n",
      "county1    259\n",
      "county2    154\n",
      "county3    136\n",
      "county4    155\n",
      "dtype: int64\n",
      "num_children\n",
      "0    155\n",
      "1    157\n",
      "2    156\n",
      "3    149\n",
      "4    146\n",
      "5    124\n",
      "dtype: int64\n",
      "race\n",
      "race1    284\n",
      "race2    232\n",
      "race3    276\n",
      "dtype: int64\n",
      "age_group\n",
      "group1    281\n",
      "group2    298\n",
      "group3    308\n",
      "dtype: int64\n",
      "complications\n",
      "0     76\n",
      "1     68\n",
      "2     87\n",
      "3     80\n",
      "4     57\n",
      "5     93\n",
      "6     90\n",
      "7     81\n",
      "8     86\n",
      "9     96\n",
      "10    73\n",
      "dtype: int64\n",
      "label\n",
      "False    514\n",
      "True     373\n",
      "dtype: int64\n"
     ]
    }
   ],
   "source": [
    "\n",
    "# groupby and size\n",
    "for att in ['smoker', 'county', 'num_children', 'race', 'age_group', 'complications', 'label']:\n",
    "    print(data.groupby(att).size())\n",
    "\n"
   ],
   "metadata": {
    "collapsed": false,
    "pycharm": {
     "name": "#%%\n"
    }
   }
  },
  {
   "cell_type": "markdown",
   "source": [
    "## selection based on county\n"
   ],
   "metadata": {
    "collapsed": false,
    "pycharm": {
     "name": "#%% md\n"
    }
   }
  },
  {
   "cell_type": "code",
   "execution_count": 21,
   "outputs": [
    {
     "name": "stdout",
     "output_type": "stream",
     "text": [
      "290\n",
      "   smoker  last_name   county  num_children   race     income  label\n",
      "0   False       Ward  county3             1  race3  159027.00  False\n",
      "2   False      Frank  county3             3  race1  120171.75  False\n",
      "9    True  Wilkerson  county2             1  race1  241864.50   True\n",
      "14   True    Hawkins  county3             4  race1  207534.00   True\n",
      "15  False  Wilkerson  county2             1  race1  153892.50  False\n"
     ]
    }
   ],
   "source": [
    "\n",
    "# attributes used in training\n",
    "# not used in my pipeline analysis\n",
    "data = data[['smoker', 'last_name', 'county', 'num_children', 'race', 'income', 'label']]\n",
    "data = data[data['county'].isin(COUNTIES_OF_INTEREST)]\n",
    "print(len(data))\n",
    "print(data[:5])\n",
    "data.to_csv(r\"data_after_pipeline_for_training.csv\", index=False)\n"
   ],
   "metadata": {
    "collapsed": false,
    "pycharm": {
     "name": "#%%\n"
    }
   }
  },
  {
   "cell_type": "code",
   "execution_count": 6,
   "outputs": [],
   "source": [
    "\n",
    "data = data[['id', 'smoker', 'county', 'num_children', 'race', 'income', 'age_group', 'complications', 'label']]\n",
    "data.to_csv(r\"before_selection.csv\", index=False)\n",
    "\n"
   ],
   "metadata": {
    "collapsed": false,
    "pycharm": {
     "name": "#%%\n"
    }
   }
  },
  {
   "cell_type": "code",
   "execution_count": null,
   "outputs": [],
   "source": [
    "\n",
    "# full attributes used in training\n",
    "# this will be used in my analysis\n",
    "data = data[['smoker', 'last_name', 'county', 'num_children', 'race', 'income', 'age_group', 'complications', 'label']]\n",
    "data = data[data['county'].isin(COUNTIES_OF_INTEREST)]\n",
    "print(len(data))\n",
    "print(data[:5])\n",
    "data.to_csv(r\"data_after_pipeline_full_attributes.csv\", index=False)\n",
    "\n",
    "\n",
    "\n",
    "\n"
   ],
   "metadata": {
    "collapsed": false,
    "pycharm": {
     "name": "#%%\n"
    }
   }
  },
  {
   "cell_type": "markdown",
   "source": [
    "## analyze attributes\n"
   ],
   "metadata": {
    "collapsed": false,
    "pycharm": {
     "name": "#%% md\n"
    }
   }
  },
  {
   "cell_type": "code",
   "execution_count": 23,
   "outputs": [
    {
     "data": {
      "text/plain": "                id  num_children         income  complications\ncount   887.000000    887.000000     887.000000     887.000000\nmean    495.503946      2.390079  162361.989572       5.145434\nstd     289.406386      1.676768  109998.544038       3.129673\nmin       1.000000      0.000000    7653.750000       0.000000\n25%     243.500000      1.000000   75882.375000       2.000000\n50%     493.000000      2.000000  140383.500000       5.000000\n75%     743.000000      4.000000  217931.250000       8.000000\nmax    1000.000000      5.000000  447204.000000      10.000000",
      "text/html": "<div>\n<style scoped>\n    .dataframe tbody tr th:only-of-type {\n        vertical-align: middle;\n    }\n\n    .dataframe tbody tr th {\n        vertical-align: top;\n    }\n\n    .dataframe thead th {\n        text-align: right;\n    }\n</style>\n<table border=\"1\" class=\"dataframe\">\n  <thead>\n    <tr style=\"text-align: right;\">\n      <th></th>\n      <th>id</th>\n      <th>num_children</th>\n      <th>income</th>\n      <th>complications</th>\n    </tr>\n  </thead>\n  <tbody>\n    <tr>\n      <th>count</th>\n      <td>887.000000</td>\n      <td>887.000000</td>\n      <td>887.000000</td>\n      <td>887.000000</td>\n    </tr>\n    <tr>\n      <th>mean</th>\n      <td>495.503946</td>\n      <td>2.390079</td>\n      <td>162361.989572</td>\n      <td>5.145434</td>\n    </tr>\n    <tr>\n      <th>std</th>\n      <td>289.406386</td>\n      <td>1.676768</td>\n      <td>109998.544038</td>\n      <td>3.129673</td>\n    </tr>\n    <tr>\n      <th>min</th>\n      <td>1.000000</td>\n      <td>0.000000</td>\n      <td>7653.750000</td>\n      <td>0.000000</td>\n    </tr>\n    <tr>\n      <th>25%</th>\n      <td>243.500000</td>\n      <td>1.000000</td>\n      <td>75882.375000</td>\n      <td>2.000000</td>\n    </tr>\n    <tr>\n      <th>50%</th>\n      <td>493.000000</td>\n      <td>2.000000</td>\n      <td>140383.500000</td>\n      <td>5.000000</td>\n    </tr>\n    <tr>\n      <th>75%</th>\n      <td>743.000000</td>\n      <td>4.000000</td>\n      <td>217931.250000</td>\n      <td>8.000000</td>\n    </tr>\n    <tr>\n      <th>max</th>\n      <td>1000.000000</td>\n      <td>5.000000</td>\n      <td>447204.000000</td>\n      <td>10.000000</td>\n    </tr>\n  </tbody>\n</table>\n</div>"
     },
     "execution_count": 23,
     "metadata": {},
     "output_type": "execute_result"
    }
   ],
   "source": [
    "\n",
    "data=pd.read_csv(r\"before_selection.csv\")\n",
    "data.describe()\n"
   ],
   "metadata": {
    "collapsed": false,
    "pycharm": {
     "name": "#%%\n"
    }
   }
  },
  {
   "cell_type": "code",
   "execution_count": 24,
   "outputs": [
    {
     "name": "stdout",
     "output_type": "stream",
     "text": [
      "race\n",
      "race1    284\n",
      "race2    232\n",
      "race3    276\n",
      "dtype: int64\n",
      "race   county \n",
      "race1  county1     54\n",
      "       county2     63\n",
      "       county3     54\n",
      "       county4     53\n",
      "race2  county1     38\n",
      "       county2     52\n",
      "       county3     48\n",
      "       county4     51\n",
      "race3  county1    147\n",
      "       county2     18\n",
      "       county3     21\n",
      "       county4     27\n",
      "dtype: int64\n",
      "age_group  county \n",
      "group1     county1    77\n",
      "           county2    54\n",
      "           county3    38\n",
      "           county4    50\n",
      "group2     county1    87\n",
      "           county2    52\n",
      "           county3    47\n",
      "           county4    54\n",
      "group3     county1    95\n",
      "           county2    48\n",
      "           county3    51\n",
      "           county4    51\n",
      "dtype: int64\n",
      "age_group  num_children\n",
      "group1     0               50\n",
      "           1               45\n",
      "           2               53\n",
      "           3               49\n",
      "           4               48\n",
      "           5               36\n",
      "group2     0               56\n",
      "           1               57\n",
      "           2               46\n",
      "           3               47\n",
      "           4               51\n",
      "           5               41\n",
      "group3     0               49\n",
      "           1               55\n",
      "           2               57\n",
      "           3               53\n",
      "           4               47\n",
      "           5               47\n",
      "dtype: int64\n",
      "race   age_group  county \n",
      "race1  group1     county1    12\n",
      "                  county2    22\n",
      "                  county3    15\n",
      "                  county4    19\n",
      "       group2     county1    20\n",
      "                  county2    24\n",
      "                  county3    20\n",
      "                  county4    17\n",
      "       group3     county1    22\n",
      "                  county2    17\n",
      "                  county3    19\n",
      "                  county4    17\n",
      "race2  group1     county1    13\n",
      "                  county2    15\n",
      "                  county3    13\n",
      "                  county4    14\n",
      "       group2     county1     7\n",
      "                  county2    16\n",
      "                  county3    12\n",
      "                  county4    15\n",
      "       group3     county1    18\n",
      "                  county2    21\n",
      "                  county3    23\n",
      "                  county4    22\n",
      "race3  group1     county1    43\n",
      "                  county2     6\n",
      "                  county3     8\n",
      "                  county4     8\n",
      "       group2     county1    55\n",
      "                  county2     7\n",
      "                  county3     8\n",
      "                  county4    13\n",
      "       group3     county1    49\n",
      "                  county2     5\n",
      "                  county3     5\n",
      "                  county4     6\n",
      "dtype: int64\n"
     ]
    }
   ],
   "source": [
    "\n",
    "print(data.groupby('race').size())\n",
    "print(data.groupby(['race', 'county']).size())\n",
    "print(data.groupby(['age_group', 'county']).size())\n",
    "print(data.groupby(['age_group', 'num_children']).size())\n",
    "print(data.groupby(['race', 'age_group', 'county']).size())\n",
    "\n"
   ],
   "metadata": {
    "collapsed": false,
    "pycharm": {
     "name": "#%%\n"
    }
   }
  },
  {
   "cell_type": "code",
   "execution_count": 27,
   "outputs": [
    {
     "name": "stdout",
     "output_type": "stream",
     "text": [
      "   id smoker   county  num_children   race     income age_group  \\\n",
      "0   1  False  county3             1  race3  159027.00    group3   \n",
      "2   6  False  county3             3  race1  120171.75    group3   \n",
      "3   8   True      NaN             2  race1  220113.00    group3   \n",
      "5  17  False  county4             3    NaN  121710.00    group3   \n",
      "\n",
      "   complications  label  \n",
      "0              2  False  \n",
      "2              2  False  \n",
      "3             10   True  \n",
      "5              5  False  \n",
      "race   county \n",
      "race1  county1    39\n",
      "       county2    40\n",
      "       county3    34\n",
      "       county4    35\n",
      "race2  county1    25\n",
      "       county2    33\n",
      "       county3    30\n",
      "       county4    31\n",
      "race3  county1    95\n",
      "       county2    13\n",
      "       county3    11\n",
      "       county4    18\n",
      "dtype: int64\n"
     ]
    }
   ],
   "source": [
    "# income of race, age\n",
    "\n",
    "data_income = data[data['income'] >= 100000]\n",
    "print(data_income[:4])\n",
    "print(data_income.groupby(['race', 'county']).size())\n",
    "\n"
   ],
   "metadata": {
    "collapsed": false,
    "pycharm": {
     "name": "#%%\n"
    }
   }
  },
  {
   "cell_type": "code",
   "execution_count": null,
   "outputs": [],
   "source": [
    "\n",
    "\n",
    "\n",
    "data = data[data['race'] == 'race3']\n",
    "print(data.groupby('county').size())\n",
    "print(data.groupby('complications').size())\n",
    "print(len(data[(data['race'] == 'race3') & (data['county'] == 'county1')]))\n",
    "\n",
    "\n",
    "data=pd.read_csv(r\"before_selection.csv\")\n",
    "\n",
    "COUNTIES_OF_INTEREST = ['county2', 'county3'] # domain: 1, 2, 3, 4\n",
    "data = data[data['county'].isin(COUNTIES_OF_INTEREST)]\n",
    "print(data.groupby('race').size())\n",
    "# full_attributes = ['smoker', 'county', 'num_children', 'race', 'age_group', 'complications', 'label'] # without names, income\n",
    "# for att in full_attributes:\n",
    "#     print(\"group by {}\".format(att))\n",
    "#     print(data.groupby(att).size())\n"
   ],
   "metadata": {
    "collapsed": false,
    "pycharm": {
     "name": "#%%\n"
    }
   }
  },
  {
   "cell_type": "code",
   "execution_count": 29,
   "outputs": [
    {
     "name": "stdout",
     "output_type": "stream",
     "text": [
      "race\n",
      "race1    170\n",
      "race2    151\n",
      "race3     66\n",
      "dtype: int64\n"
     ]
    }
   ],
   "source": [
    "\n",
    "\n",
    "data=pd.read_csv(r\"before_selection.csv\")\n",
    "\n",
    "COUNTIES_OF_INTEREST = ['county2', 'county3', 'county4'] # domain: 1, 2, 3, 4\n",
    "data = data[data['county'].isin(COUNTIES_OF_INTEREST)]\n",
    "print(data.groupby('race').size())\n",
    "\n"
   ],
   "metadata": {
    "collapsed": false,
    "pycharm": {
     "name": "#%%\n"
    }
   }
  },
  {
   "cell_type": "code",
   "execution_count": 17,
   "outputs": [
    {
     "name": "stdout",
     "output_type": "stream",
     "text": [
      "race\n",
      "race1    74\n",
      "race2    50\n",
      "race3    24\n",
      "dtype: int64\n",
      "race\n",
      "race1    110\n",
      "race2     69\n",
      "race3    112\n",
      "dtype: int64\n",
      "race\n",
      "race1    117\n",
      "race2    100\n",
      "race3     39\n",
      "dtype: int64\n"
     ]
    }
   ],
   "source": [
    "data=pd.read_csv(r\"before_selection.csv\")\n",
    "COUNTIES_OF_INTEREST = ['county2', 'county3'] # domain: 1, 2, 3, 4\n",
    "\n",
    "data = data[data['county'].isin(COUNTIES_OF_INTEREST)]\n",
    "data = data[data['complications'] >= 5]\n",
    "print(data.groupby('race').size())\n",
    "\n",
    "\n",
    "data=pd.read_csv(r\"before_selection.csv\")\n",
    "COUNTIES_OF_INTEREST = ['county2', 'county3', 'county1'] # domain: 1, 2, 3, 4\n",
    "\n",
    "data = data[data['county'].isin(COUNTIES_OF_INTEREST)]\n",
    "data = data[data['complications'] >= 5]\n",
    "print(data.groupby('race').size())\n",
    "\n",
    "\n",
    "\n",
    "data=pd.read_csv(r\"before_selection.csv\")\n",
    "COUNTIES_OF_INTEREST = ['county2', 'county3'] # domain: 1, 2, 3, 4\n",
    "\n",
    "data = data[data['county'].isin(COUNTIES_OF_INTEREST)]\n",
    "data = data[data['complications'] >= 0]\n",
    "print(data.groupby('race').size())\n"
   ],
   "metadata": {
    "collapsed": false,
    "pycharm": {
     "name": "#%%\n"
    }
   }
  },
  {
   "cell_type": "code",
   "execution_count": 41,
   "outputs": [
    {
     "name": "stdout",
     "output_type": "stream",
     "text": [
      "race\n",
      "race1    74\n",
      "race2    63\n",
      "race3    24\n",
      "dtype: int64\n",
      "race\n",
      "race1    109\n",
      "race2     94\n",
      "race3     42\n",
      "dtype: int64\n",
      "race\n",
      "race1    90\n",
      "race2    78\n",
      "race3    30\n",
      "dtype: int64\n"
     ]
    }
   ],
   "source": [
    "\n",
    "data=pd.read_csv(r\"before_selection.csv\")\n",
    "COUNTIES_OF_INTEREST = ['county2', 'county3'] # domain: 1, 2, 3, 4\n",
    "\n",
    "data = data[data['county'].isin(COUNTIES_OF_INTEREST)]\n",
    "data = data[data['income'] >= 100000]\n",
    "print(data.groupby('race').size())\n",
    "\n",
    "\n",
    "data=pd.read_csv(r\"before_selection.csv\")\n",
    "COUNTIES_OF_INTEREST = ['county2', 'county3', 'county4'] # domain: 1, 2, 3, 4\n",
    "\n",
    "data = data[data['county'].isin(COUNTIES_OF_INTEREST)]\n",
    "data = data[data['income'] >= 100000]\n",
    "print(data.groupby('race').size())\n",
    "\n",
    "\n",
    "\n",
    "data=pd.read_csv(r\"before_selection.csv\")\n",
    "COUNTIES_OF_INTEREST = ['county2', 'county3'] # domain: 1, 2, 3, 4\n",
    "\n",
    "data = data[data['county'].isin(COUNTIES_OF_INTEREST)]\n",
    "data = data[data['income'] >= 69000]\n",
    "print(data.groupby('race').size())\n"
   ],
   "metadata": {
    "collapsed": false,
    "pycharm": {
     "name": "#%%\n"
    }
   }
  },
  {
   "cell_type": "raw",
   "source": [
    "county domain: county1, 2, 3, 4\n",
    "after only selecting county2, county3\n",
    "race3 only has 39\n"
   ],
   "metadata": {
    "collapsed": false,
    "pycharm": {
     "name": "#%% raw\n"
    }
   }
  },
  {
   "cell_type": "markdown",
   "source": [
    "\n",
    "\n",
    "## imputation and training (need some imports that are commented)\n"
   ],
   "metadata": {
    "collapsed": false,
    "pycharm": {
     "name": "#%% md\n"
    }
   }
  },
  {
   "cell_type": "code",
   "execution_count": null,
   "outputs": [],
   "source": [
    "\n",
    "impute_and_one_hot_encode = Pipeline([\n",
    "    ('impute', SimpleImputer(strategy='most_frequent')),\n",
    "    ('encode', OneHotEncoder(sparse=False, handle_unknown='ignore'))\n",
    "])\n",
    "featurisation = ColumnTransformer(transformers=[\n",
    "    (\"impute_and_one_hot_encode\", impute_and_one_hot_encode, ['smoker', 'county', 'race']),\n",
    "    ('word2vec', MyW2VTransformer(min_count=2), ['last_name']),\n",
    "    ('numeric', StandardScaler(), ['num_children', 'income']),\n",
    "], remainder='drop')\n",
    "neural_net = MyKerasClassifier(build_fn=create_model, epochs=10, batch_size=1, verbose=0)\n",
    "pipeline = Pipeline([\n",
    "    ('features', featurisation),\n",
    "    ('learner', neural_net)])\n",
    "\n",
    "train_data, test_data = train_test_split(data)\n",
    "model = pipeline.fit(train_data, train_data['label'])\n",
    "print(\"Mean accuracy: {}\".format(model.score(test_data, test_data['label'])))"
   ],
   "metadata": {
    "collapsed": false,
    "pycharm": {
     "name": "#%%\n"
    }
   }
  },
  {
   "cell_type": "code",
   "execution_count": null,
   "outputs": [],
   "source": [],
   "metadata": {
    "collapsed": false,
    "pycharm": {
     "name": "#%%\n"
    }
   }
  }
 ],
 "metadata": {
  "kernelspec": {
   "display_name": "Python 3",
   "language": "python",
   "name": "python3"
  },
  "language_info": {
   "codemirror_mode": {
    "name": "ipython",
    "version": 2
   },
   "file_extension": ".py",
   "mimetype": "text/x-python",
   "name": "python",
   "nbconvert_exporter": "python",
   "pygments_lexer": "ipython2",
   "version": "2.7.6"
  }
 },
 "nbformat": 4,
 "nbformat_minor": 0
}