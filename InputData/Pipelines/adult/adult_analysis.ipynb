{
 "cells": [
  {
   "cell_type": "code",
   "execution_count": null,
   "outputs": [],
   "source": [
    "import pandas as pd\n",
    "import numpy as np\n",
    "import csv\n",
    "import time\n",
    "\n",
    "\n"
   ],
   "metadata": {
    "collapsed": false,
    "pycharm": {
     "name": "#%%\n"
    }
   }
  },
  {
   "cell_type": "markdown",
   "source": [
    "\n",
    "# pre-processing\n"
   ],
   "metadata": {
    "collapsed": false,
    "pycharm": {
     "name": "#%% md\n"
    }
   }
  },
  {
   "cell_type": "code",
   "execution_count": 58,
   "outputs": [
    {
     "data": {
      "text/plain": "                age     workclass     education  educational-num  \\\ncount  45222.000000  45222.000000  45222.000000     45222.000000   \nmean      38.547941      2.204502     10.313321        10.118460   \nstd       13.217870      0.958122      3.817014         2.552881   \nmin       17.000000      0.000000      0.000000         1.000000   \n25%       28.000000      2.000000      9.000000         9.000000   \n50%       37.000000      2.000000     11.000000        10.000000   \n75%       47.000000      2.000000     12.000000        13.000000   \nmax       90.000000      6.000000     15.000000        16.000000   \n\n       marital-status    occupation  relationship          race        gender  \\\ncount    45222.000000  45222.000000  45222.000000  45222.000000  45222.000000   \nmean         2.585180      5.969572      1.412697      3.680288      0.675048   \nstd          1.500458      4.026400      1.597227      0.832353      0.468362   \nmin          0.000000      0.000000      0.000000      0.000000      0.000000   \n25%          2.000000      2.000000      0.000000      4.000000      0.000000   \n50%          2.000000      6.000000      1.000000      4.000000      1.000000   \n75%          4.000000      9.000000      3.000000      4.000000      1.000000   \nmax          6.000000     13.000000      5.000000      4.000000      1.000000   \n\n       capital-gain  capital-loss  hours-per-week  native-country  \\\ncount  45222.000000  45222.000000    45222.000000    45222.000000   \nmean    1101.430344     88.595418       40.938017       36.401022   \nstd     7506.430084    404.956092       12.007508        6.079856   \nmin        0.000000      0.000000        1.000000        0.000000   \n25%        0.000000      0.000000       40.000000       38.000000   \n50%        0.000000      0.000000       40.000000       38.000000   \n75%        0.000000      0.000000       45.000000       38.000000   \nmax    99999.000000   4356.000000       99.000000       40.000000   \n\n             income  \ncount  45222.000000  \nmean       0.247844  \nstd        0.431766  \nmin        0.000000  \n25%        0.000000  \n50%        0.000000  \n75%        0.000000  \nmax        1.000000  ",
      "text/html": "<div>\n<style scoped>\n    .dataframe tbody tr th:only-of-type {\n        vertical-align: middle;\n    }\n\n    .dataframe tbody tr th {\n        vertical-align: top;\n    }\n\n    .dataframe thead th {\n        text-align: right;\n    }\n</style>\n<table border=\"1\" class=\"dataframe\">\n  <thead>\n    <tr style=\"text-align: right;\">\n      <th></th>\n      <th>age</th>\n      <th>workclass</th>\n      <th>education</th>\n      <th>educational-num</th>\n      <th>marital-status</th>\n      <th>occupation</th>\n      <th>relationship</th>\n      <th>race</th>\n      <th>gender</th>\n      <th>capital-gain</th>\n      <th>capital-loss</th>\n      <th>hours-per-week</th>\n      <th>native-country</th>\n      <th>income</th>\n    </tr>\n  </thead>\n  <tbody>\n    <tr>\n      <th>count</th>\n      <td>45222.000000</td>\n      <td>45222.000000</td>\n      <td>45222.000000</td>\n      <td>45222.000000</td>\n      <td>45222.000000</td>\n      <td>45222.000000</td>\n      <td>45222.000000</td>\n      <td>45222.000000</td>\n      <td>45222.000000</td>\n      <td>45222.000000</td>\n      <td>45222.000000</td>\n      <td>45222.000000</td>\n      <td>45222.000000</td>\n      <td>45222.000000</td>\n    </tr>\n    <tr>\n      <th>mean</th>\n      <td>38.547941</td>\n      <td>2.204502</td>\n      <td>10.313321</td>\n      <td>10.118460</td>\n      <td>2.585180</td>\n      <td>5.969572</td>\n      <td>1.412697</td>\n      <td>3.680288</td>\n      <td>0.675048</td>\n      <td>1101.430344</td>\n      <td>88.595418</td>\n      <td>40.938017</td>\n      <td>36.401022</td>\n      <td>0.247844</td>\n    </tr>\n    <tr>\n      <th>std</th>\n      <td>13.217870</td>\n      <td>0.958122</td>\n      <td>3.817014</td>\n      <td>2.552881</td>\n      <td>1.500458</td>\n      <td>4.026400</td>\n      <td>1.597227</td>\n      <td>0.832353</td>\n      <td>0.468362</td>\n      <td>7506.430084</td>\n      <td>404.956092</td>\n      <td>12.007508</td>\n      <td>6.079856</td>\n      <td>0.431766</td>\n    </tr>\n    <tr>\n      <th>min</th>\n      <td>17.000000</td>\n      <td>0.000000</td>\n      <td>0.000000</td>\n      <td>1.000000</td>\n      <td>0.000000</td>\n      <td>0.000000</td>\n      <td>0.000000</td>\n      <td>0.000000</td>\n      <td>0.000000</td>\n      <td>0.000000</td>\n      <td>0.000000</td>\n      <td>1.000000</td>\n      <td>0.000000</td>\n      <td>0.000000</td>\n    </tr>\n    <tr>\n      <th>25%</th>\n      <td>28.000000</td>\n      <td>2.000000</td>\n      <td>9.000000</td>\n      <td>9.000000</td>\n      <td>2.000000</td>\n      <td>2.000000</td>\n      <td>0.000000</td>\n      <td>4.000000</td>\n      <td>0.000000</td>\n      <td>0.000000</td>\n      <td>0.000000</td>\n      <td>40.000000</td>\n      <td>38.000000</td>\n      <td>0.000000</td>\n    </tr>\n    <tr>\n      <th>50%</th>\n      <td>37.000000</td>\n      <td>2.000000</td>\n      <td>11.000000</td>\n      <td>10.000000</td>\n      <td>2.000000</td>\n      <td>6.000000</td>\n      <td>1.000000</td>\n      <td>4.000000</td>\n      <td>1.000000</td>\n      <td>0.000000</td>\n      <td>0.000000</td>\n      <td>40.000000</td>\n      <td>38.000000</td>\n      <td>0.000000</td>\n    </tr>\n    <tr>\n      <th>75%</th>\n      <td>47.000000</td>\n      <td>2.000000</td>\n      <td>12.000000</td>\n      <td>13.000000</td>\n      <td>4.000000</td>\n      <td>9.000000</td>\n      <td>3.000000</td>\n      <td>4.000000</td>\n      <td>1.000000</td>\n      <td>0.000000</td>\n      <td>0.000000</td>\n      <td>45.000000</td>\n      <td>38.000000</td>\n      <td>0.000000</td>\n    </tr>\n    <tr>\n      <th>max</th>\n      <td>90.000000</td>\n      <td>6.000000</td>\n      <td>15.000000</td>\n      <td>16.000000</td>\n      <td>6.000000</td>\n      <td>13.000000</td>\n      <td>5.000000</td>\n      <td>4.000000</td>\n      <td>1.000000</td>\n      <td>99999.000000</td>\n      <td>4356.000000</td>\n      <td>99.000000</td>\n      <td>40.000000</td>\n      <td>1.000000</td>\n    </tr>\n  </tbody>\n</table>\n</div>"
     },
     "execution_count": 58,
     "metadata": {},
     "output_type": "execute_result"
    }
   ],
   "source": [
    "\n",
    "\n",
    "data = pd.read_csv(r\"CleanAdult.csv\")\n",
    "data.describe()\n"
   ],
   "metadata": {
    "collapsed": false,
    "pycharm": {
     "name": "#%%\n"
    }
   }
  },
  {
   "cell_type": "code",
   "execution_count": 59,
   "outputs": [
    {
     "data": {
      "text/plain": "                age     workclass     education  educational-num  \\\ncount  45222.000000  45222.000000  45222.000000     45222.000000   \nmean      38.547941      2.204502     10.313321        10.118460   \nstd       13.217870      0.958122      3.817014         2.552881   \nmin       17.000000      0.000000      0.000000         1.000000   \n25%       28.000000      2.000000      9.000000         9.000000   \n50%       37.000000      2.000000     11.000000        10.000000   \n75%       47.000000      2.000000     12.000000        13.000000   \nmax       90.000000      6.000000     15.000000        16.000000   \n\n       marital-status    occupation  relationship          race        gender  \\\ncount    45222.000000  45222.000000  45222.000000  45222.000000  45222.000000   \nmean         2.585180      5.969572      1.412697      3.680288      0.675048   \nstd          1.500458      4.026400      1.597227      0.832353      0.468362   \nmin          0.000000      0.000000      0.000000      0.000000      0.000000   \n25%          2.000000      2.000000      0.000000      4.000000      0.000000   \n50%          2.000000      6.000000      1.000000      4.000000      1.000000   \n75%          4.000000      9.000000      3.000000      4.000000      1.000000   \nmax          6.000000     13.000000      5.000000      4.000000      1.000000   \n\n       capital-gain  capital-loss  hours-per-week  native-country  \\\ncount  45222.000000  45222.000000    45222.000000    45222.000000   \nmean       1.100482      0.091659       40.938017       36.401022   \nstd        7.507727      0.419212       12.007508        6.079856   \nmin        0.000000      0.000000        1.000000        0.000000   \n25%        0.000000      0.000000       40.000000       38.000000   \n50%        0.000000      0.000000       40.000000       38.000000   \n75%        0.000000      0.000000       45.000000       38.000000   \nmax      100.000000      4.000000       99.000000       40.000000   \n\n             income  \ncount  45222.000000  \nmean       0.247844  \nstd        0.431766  \nmin        0.000000  \n25%        0.000000  \n50%        0.000000  \n75%        0.000000  \nmax        1.000000  ",
      "text/html": "<div>\n<style scoped>\n    .dataframe tbody tr th:only-of-type {\n        vertical-align: middle;\n    }\n\n    .dataframe tbody tr th {\n        vertical-align: top;\n    }\n\n    .dataframe thead th {\n        text-align: right;\n    }\n</style>\n<table border=\"1\" class=\"dataframe\">\n  <thead>\n    <tr style=\"text-align: right;\">\n      <th></th>\n      <th>age</th>\n      <th>workclass</th>\n      <th>education</th>\n      <th>educational-num</th>\n      <th>marital-status</th>\n      <th>occupation</th>\n      <th>relationship</th>\n      <th>race</th>\n      <th>gender</th>\n      <th>capital-gain</th>\n      <th>capital-loss</th>\n      <th>hours-per-week</th>\n      <th>native-country</th>\n      <th>income</th>\n    </tr>\n  </thead>\n  <tbody>\n    <tr>\n      <th>count</th>\n      <td>45222.000000</td>\n      <td>45222.000000</td>\n      <td>45222.000000</td>\n      <td>45222.000000</td>\n      <td>45222.000000</td>\n      <td>45222.000000</td>\n      <td>45222.000000</td>\n      <td>45222.000000</td>\n      <td>45222.000000</td>\n      <td>45222.000000</td>\n      <td>45222.000000</td>\n      <td>45222.000000</td>\n      <td>45222.000000</td>\n      <td>45222.000000</td>\n    </tr>\n    <tr>\n      <th>mean</th>\n      <td>38.547941</td>\n      <td>2.204502</td>\n      <td>10.313321</td>\n      <td>10.118460</td>\n      <td>2.585180</td>\n      <td>5.969572</td>\n      <td>1.412697</td>\n      <td>3.680288</td>\n      <td>0.675048</td>\n      <td>1.100482</td>\n      <td>0.091659</td>\n      <td>40.938017</td>\n      <td>36.401022</td>\n      <td>0.247844</td>\n    </tr>\n    <tr>\n      <th>std</th>\n      <td>13.217870</td>\n      <td>0.958122</td>\n      <td>3.817014</td>\n      <td>2.552881</td>\n      <td>1.500458</td>\n      <td>4.026400</td>\n      <td>1.597227</td>\n      <td>0.832353</td>\n      <td>0.468362</td>\n      <td>7.507727</td>\n      <td>0.419212</td>\n      <td>12.007508</td>\n      <td>6.079856</td>\n      <td>0.431766</td>\n    </tr>\n    <tr>\n      <th>min</th>\n      <td>17.000000</td>\n      <td>0.000000</td>\n      <td>0.000000</td>\n      <td>1.000000</td>\n      <td>0.000000</td>\n      <td>0.000000</td>\n      <td>0.000000</td>\n      <td>0.000000</td>\n      <td>0.000000</td>\n      <td>0.000000</td>\n      <td>0.000000</td>\n      <td>1.000000</td>\n      <td>0.000000</td>\n      <td>0.000000</td>\n    </tr>\n    <tr>\n      <th>25%</th>\n      <td>28.000000</td>\n      <td>2.000000</td>\n      <td>9.000000</td>\n      <td>9.000000</td>\n      <td>2.000000</td>\n      <td>2.000000</td>\n      <td>0.000000</td>\n      <td>4.000000</td>\n      <td>0.000000</td>\n      <td>0.000000</td>\n      <td>0.000000</td>\n      <td>40.000000</td>\n      <td>38.000000</td>\n      <td>0.000000</td>\n    </tr>\n    <tr>\n      <th>50%</th>\n      <td>37.000000</td>\n      <td>2.000000</td>\n      <td>11.000000</td>\n      <td>10.000000</td>\n      <td>2.000000</td>\n      <td>6.000000</td>\n      <td>1.000000</td>\n      <td>4.000000</td>\n      <td>1.000000</td>\n      <td>0.000000</td>\n      <td>0.000000</td>\n      <td>40.000000</td>\n      <td>38.000000</td>\n      <td>0.000000</td>\n    </tr>\n    <tr>\n      <th>75%</th>\n      <td>47.000000</td>\n      <td>2.000000</td>\n      <td>12.000000</td>\n      <td>13.000000</td>\n      <td>4.000000</td>\n      <td>9.000000</td>\n      <td>3.000000</td>\n      <td>4.000000</td>\n      <td>1.000000</td>\n      <td>0.000000</td>\n      <td>0.000000</td>\n      <td>45.000000</td>\n      <td>38.000000</td>\n      <td>0.000000</td>\n    </tr>\n    <tr>\n      <th>max</th>\n      <td>90.000000</td>\n      <td>6.000000</td>\n      <td>15.000000</td>\n      <td>16.000000</td>\n      <td>6.000000</td>\n      <td>13.000000</td>\n      <td>5.000000</td>\n      <td>4.000000</td>\n      <td>1.000000</td>\n      <td>100.000000</td>\n      <td>4.000000</td>\n      <td>99.000000</td>\n      <td>40.000000</td>\n      <td>1.000000</td>\n    </tr>\n  </tbody>\n</table>\n</div>"
     },
     "execution_count": 59,
     "metadata": {},
     "output_type": "execute_result"
    }
   ],
   "source": [
    "\n",
    "\n",
    "data = data.round({'capital-gain':-3})\n",
    "data = data.round({'capital-loss':-3})\n",
    "\n",
    "data['capital-gain'] = data['capital-gain'] / 1000\n",
    "\n",
    "data['capital-loss'] = data['capital-loss'] / 1000\n",
    "\n",
    "data.describe()\n"
   ],
   "metadata": {
    "collapsed": false,
    "pycharm": {
     "name": "#%%\n"
    }
   }
  },
  {
   "cell_type": "code",
   "execution_count": 60,
   "outputs": [
    {
     "data": {
      "text/plain": "                age     workclass     education  educational-num  \\\ncount  45222.000000  45222.000000  45222.000000     45222.000000   \nmean      38.547941      2.204502     10.313321        10.118460   \nstd       13.217870      0.958122      3.817014         2.552881   \nmin       17.000000      0.000000      0.000000         1.000000   \n25%       28.000000      2.000000      9.000000         9.000000   \n50%       37.000000      2.000000     11.000000        10.000000   \n75%       47.000000      2.000000     12.000000        13.000000   \nmax       90.000000      6.000000     15.000000        16.000000   \n\n       marital-status    occupation  relationship          race        gender  \\\ncount    45222.000000  45222.000000  45222.000000  45222.000000  45222.000000   \nmean         2.585180      5.969572      1.412697      3.680288      0.675048   \nstd          1.500458      4.026400      1.597227      0.832353      0.468362   \nmin          0.000000      0.000000      0.000000      0.000000      0.000000   \n25%          2.000000      2.000000      0.000000      4.000000      0.000000   \n50%          2.000000      6.000000      1.000000      4.000000      1.000000   \n75%          4.000000      9.000000      3.000000      4.000000      1.000000   \nmax          6.000000     13.000000      5.000000      4.000000      1.000000   \n\n       capital-gain  capital-loss  hours-per-week  native-country  \\\ncount  45222.000000  45222.000000    45222.000000    45222.000000   \nmean       1.100482      0.091659       40.938017       36.401022   \nstd        7.507727      0.419212       12.007508        6.079856   \nmin        0.000000      0.000000        1.000000        0.000000   \n25%        0.000000      0.000000       40.000000       38.000000   \n50%        0.000000      0.000000       40.000000       38.000000   \n75%        0.000000      0.000000       45.000000       38.000000   \nmax      100.000000      4.000000       99.000000       40.000000   \n\n             income  \ncount  45222.000000  \nmean       0.247844  \nstd        0.431766  \nmin        0.000000  \n25%        0.000000  \n50%        0.000000  \n75%        0.000000  \nmax        1.000000  ",
      "text/html": "<div>\n<style scoped>\n    .dataframe tbody tr th:only-of-type {\n        vertical-align: middle;\n    }\n\n    .dataframe tbody tr th {\n        vertical-align: top;\n    }\n\n    .dataframe thead th {\n        text-align: right;\n    }\n</style>\n<table border=\"1\" class=\"dataframe\">\n  <thead>\n    <tr style=\"text-align: right;\">\n      <th></th>\n      <th>age</th>\n      <th>workclass</th>\n      <th>education</th>\n      <th>educational-num</th>\n      <th>marital-status</th>\n      <th>occupation</th>\n      <th>relationship</th>\n      <th>race</th>\n      <th>gender</th>\n      <th>capital-gain</th>\n      <th>capital-loss</th>\n      <th>hours-per-week</th>\n      <th>native-country</th>\n      <th>income</th>\n    </tr>\n  </thead>\n  <tbody>\n    <tr>\n      <th>count</th>\n      <td>45222.000000</td>\n      <td>45222.000000</td>\n      <td>45222.000000</td>\n      <td>45222.000000</td>\n      <td>45222.000000</td>\n      <td>45222.000000</td>\n      <td>45222.000000</td>\n      <td>45222.000000</td>\n      <td>45222.000000</td>\n      <td>45222.000000</td>\n      <td>45222.000000</td>\n      <td>45222.000000</td>\n      <td>45222.000000</td>\n      <td>45222.000000</td>\n    </tr>\n    <tr>\n      <th>mean</th>\n      <td>38.547941</td>\n      <td>2.204502</td>\n      <td>10.313321</td>\n      <td>10.118460</td>\n      <td>2.585180</td>\n      <td>5.969572</td>\n      <td>1.412697</td>\n      <td>3.680288</td>\n      <td>0.675048</td>\n      <td>1.100482</td>\n      <td>0.091659</td>\n      <td>40.938017</td>\n      <td>36.401022</td>\n      <td>0.247844</td>\n    </tr>\n    <tr>\n      <th>std</th>\n      <td>13.217870</td>\n      <td>0.958122</td>\n      <td>3.817014</td>\n      <td>2.552881</td>\n      <td>1.500458</td>\n      <td>4.026400</td>\n      <td>1.597227</td>\n      <td>0.832353</td>\n      <td>0.468362</td>\n      <td>7.507727</td>\n      <td>0.419212</td>\n      <td>12.007508</td>\n      <td>6.079856</td>\n      <td>0.431766</td>\n    </tr>\n    <tr>\n      <th>min</th>\n      <td>17.000000</td>\n      <td>0.000000</td>\n      <td>0.000000</td>\n      <td>1.000000</td>\n      <td>0.000000</td>\n      <td>0.000000</td>\n      <td>0.000000</td>\n      <td>0.000000</td>\n      <td>0.000000</td>\n      <td>0.000000</td>\n      <td>0.000000</td>\n      <td>1.000000</td>\n      <td>0.000000</td>\n      <td>0.000000</td>\n    </tr>\n    <tr>\n      <th>25%</th>\n      <td>28.000000</td>\n      <td>2.000000</td>\n      <td>9.000000</td>\n      <td>9.000000</td>\n      <td>2.000000</td>\n      <td>2.000000</td>\n      <td>0.000000</td>\n      <td>4.000000</td>\n      <td>0.000000</td>\n      <td>0.000000</td>\n      <td>0.000000</td>\n      <td>40.000000</td>\n      <td>38.000000</td>\n      <td>0.000000</td>\n    </tr>\n    <tr>\n      <th>50%</th>\n      <td>37.000000</td>\n      <td>2.000000</td>\n      <td>11.000000</td>\n      <td>10.000000</td>\n      <td>2.000000</td>\n      <td>6.000000</td>\n      <td>1.000000</td>\n      <td>4.000000</td>\n      <td>1.000000</td>\n      <td>0.000000</td>\n      <td>0.000000</td>\n      <td>40.000000</td>\n      <td>38.000000</td>\n      <td>0.000000</td>\n    </tr>\n    <tr>\n      <th>75%</th>\n      <td>47.000000</td>\n      <td>2.000000</td>\n      <td>12.000000</td>\n      <td>13.000000</td>\n      <td>4.000000</td>\n      <td>9.000000</td>\n      <td>3.000000</td>\n      <td>4.000000</td>\n      <td>1.000000</td>\n      <td>0.000000</td>\n      <td>0.000000</td>\n      <td>45.000000</td>\n      <td>38.000000</td>\n      <td>0.000000</td>\n    </tr>\n    <tr>\n      <th>max</th>\n      <td>90.000000</td>\n      <td>6.000000</td>\n      <td>15.000000</td>\n      <td>16.000000</td>\n      <td>6.000000</td>\n      <td>13.000000</td>\n      <td>5.000000</td>\n      <td>4.000000</td>\n      <td>1.000000</td>\n      <td>100.000000</td>\n      <td>4.000000</td>\n      <td>99.000000</td>\n      <td>40.000000</td>\n      <td>1.000000</td>\n    </tr>\n  </tbody>\n</table>\n</div>"
     },
     "execution_count": 60,
     "metadata": {},
     "output_type": "execute_result"
    }
   ],
   "source": [
    "\n",
    "\n",
    "def label_age(row):\n",
    "    if row['age'] <= 30:\n",
    "        return \"age_group1\"\n",
    "    elif row['age'] <= 60:\n",
    "        return \"age_group2\"\n",
    "    else:\n",
    "        return \"age_group3\"\n",
    "\n",
    "\n",
    "\n",
    "data['age_group'] = data.apply (lambda row: label_age(row), axis=1)\n",
    "\n",
    "data.describe()\n",
    "\n",
    "\n"
   ],
   "metadata": {
    "collapsed": false,
    "pycharm": {
     "name": "#%%\n"
    }
   }
  },
  {
   "cell_type": "code",
   "execution_count": 61,
   "outputs": [
    {
     "data": {
      "text/plain": "                age     workclass     education  educational-num  \\\ncount  45222.000000  45222.000000  45222.000000     45222.000000   \nmean      38.547941      2.204502     10.313321        10.118460   \nstd       13.217870      0.958122      3.817014         2.552881   \nmin       17.000000      0.000000      0.000000         1.000000   \n25%       28.000000      2.000000      9.000000         9.000000   \n50%       37.000000      2.000000     11.000000        10.000000   \n75%       47.000000      2.000000     12.000000        13.000000   \nmax       90.000000      6.000000     15.000000        16.000000   \n\n       marital-status    occupation  relationship          race        gender  \\\ncount    45222.000000  45222.000000  45222.000000  45222.000000  45222.000000   \nmean         2.585180      5.969572      1.412697      3.680288      0.675048   \nstd          1.500458      4.026400      1.597227      0.832353      0.468362   \nmin          0.000000      0.000000      0.000000      0.000000      0.000000   \n25%          2.000000      2.000000      0.000000      4.000000      0.000000   \n50%          2.000000      6.000000      1.000000      4.000000      1.000000   \n75%          4.000000      9.000000      3.000000      4.000000      1.000000   \nmax          6.000000     13.000000      5.000000      4.000000      1.000000   \n\n       capital-gain  capital-loss  hours-per-week  native-country  \\\ncount  45222.000000  45222.000000    45222.000000    45222.000000   \nmean       1.100482      0.091659       40.938017       36.401022   \nstd        7.507727      0.419212       12.007508        6.079856   \nmin        0.000000      0.000000        1.000000        0.000000   \n25%        0.000000      0.000000       40.000000       38.000000   \n50%        0.000000      0.000000       40.000000       38.000000   \n75%        0.000000      0.000000       45.000000       38.000000   \nmax      100.000000      4.000000       99.000000       40.000000   \n\n             income  \ncount  45222.000000  \nmean       0.247844  \nstd        0.431766  \nmin        0.000000  \n25%        0.000000  \n50%        0.000000  \n75%        0.000000  \nmax        1.000000  ",
      "text/html": "<div>\n<style scoped>\n    .dataframe tbody tr th:only-of-type {\n        vertical-align: middle;\n    }\n\n    .dataframe tbody tr th {\n        vertical-align: top;\n    }\n\n    .dataframe thead th {\n        text-align: right;\n    }\n</style>\n<table border=\"1\" class=\"dataframe\">\n  <thead>\n    <tr style=\"text-align: right;\">\n      <th></th>\n      <th>age</th>\n      <th>workclass</th>\n      <th>education</th>\n      <th>educational-num</th>\n      <th>marital-status</th>\n      <th>occupation</th>\n      <th>relationship</th>\n      <th>race</th>\n      <th>gender</th>\n      <th>capital-gain</th>\n      <th>capital-loss</th>\n      <th>hours-per-week</th>\n      <th>native-country</th>\n      <th>income</th>\n    </tr>\n  </thead>\n  <tbody>\n    <tr>\n      <th>count</th>\n      <td>45222.000000</td>\n      <td>45222.000000</td>\n      <td>45222.000000</td>\n      <td>45222.000000</td>\n      <td>45222.000000</td>\n      <td>45222.000000</td>\n      <td>45222.000000</td>\n      <td>45222.000000</td>\n      <td>45222.000000</td>\n      <td>45222.000000</td>\n      <td>45222.000000</td>\n      <td>45222.000000</td>\n      <td>45222.000000</td>\n      <td>45222.000000</td>\n    </tr>\n    <tr>\n      <th>mean</th>\n      <td>38.547941</td>\n      <td>2.204502</td>\n      <td>10.313321</td>\n      <td>10.118460</td>\n      <td>2.585180</td>\n      <td>5.969572</td>\n      <td>1.412697</td>\n      <td>3.680288</td>\n      <td>0.675048</td>\n      <td>1.100482</td>\n      <td>0.091659</td>\n      <td>40.938017</td>\n      <td>36.401022</td>\n      <td>0.247844</td>\n    </tr>\n    <tr>\n      <th>std</th>\n      <td>13.217870</td>\n      <td>0.958122</td>\n      <td>3.817014</td>\n      <td>2.552881</td>\n      <td>1.500458</td>\n      <td>4.026400</td>\n      <td>1.597227</td>\n      <td>0.832353</td>\n      <td>0.468362</td>\n      <td>7.507727</td>\n      <td>0.419212</td>\n      <td>12.007508</td>\n      <td>6.079856</td>\n      <td>0.431766</td>\n    </tr>\n    <tr>\n      <th>min</th>\n      <td>17.000000</td>\n      <td>0.000000</td>\n      <td>0.000000</td>\n      <td>1.000000</td>\n      <td>0.000000</td>\n      <td>0.000000</td>\n      <td>0.000000</td>\n      <td>0.000000</td>\n      <td>0.000000</td>\n      <td>0.000000</td>\n      <td>0.000000</td>\n      <td>1.000000</td>\n      <td>0.000000</td>\n      <td>0.000000</td>\n    </tr>\n    <tr>\n      <th>25%</th>\n      <td>28.000000</td>\n      <td>2.000000</td>\n      <td>9.000000</td>\n      <td>9.000000</td>\n      <td>2.000000</td>\n      <td>2.000000</td>\n      <td>0.000000</td>\n      <td>4.000000</td>\n      <td>0.000000</td>\n      <td>0.000000</td>\n      <td>0.000000</td>\n      <td>40.000000</td>\n      <td>38.000000</td>\n      <td>0.000000</td>\n    </tr>\n    <tr>\n      <th>50%</th>\n      <td>37.000000</td>\n      <td>2.000000</td>\n      <td>11.000000</td>\n      <td>10.000000</td>\n      <td>2.000000</td>\n      <td>6.000000</td>\n      <td>1.000000</td>\n      <td>4.000000</td>\n      <td>1.000000</td>\n      <td>0.000000</td>\n      <td>0.000000</td>\n      <td>40.000000</td>\n      <td>38.000000</td>\n      <td>0.000000</td>\n    </tr>\n    <tr>\n      <th>75%</th>\n      <td>47.000000</td>\n      <td>2.000000</td>\n      <td>12.000000</td>\n      <td>13.000000</td>\n      <td>4.000000</td>\n      <td>9.000000</td>\n      <td>3.000000</td>\n      <td>4.000000</td>\n      <td>1.000000</td>\n      <td>0.000000</td>\n      <td>0.000000</td>\n      <td>45.000000</td>\n      <td>38.000000</td>\n      <td>0.000000</td>\n    </tr>\n    <tr>\n      <th>max</th>\n      <td>90.000000</td>\n      <td>6.000000</td>\n      <td>15.000000</td>\n      <td>16.000000</td>\n      <td>6.000000</td>\n      <td>13.000000</td>\n      <td>5.000000</td>\n      <td>4.000000</td>\n      <td>1.000000</td>\n      <td>100.000000</td>\n      <td>4.000000</td>\n      <td>99.000000</td>\n      <td>40.000000</td>\n      <td>1.000000</td>\n    </tr>\n  </tbody>\n</table>\n</div>"
     },
     "execution_count": 61,
     "metadata": {},
     "output_type": "execute_result"
    }
   ],
   "source": [
    "\n",
    "\n",
    "\n",
    "def label_occupation(row):\n",
    "    if row['occupation'] < 5:\n",
    "        return 'occupation_group1'\n",
    "    elif row['occupation'] < 10:\n",
    "        return 'occupation_group2'\n",
    "    else:\n",
    "        return 'occupation_group3'\n",
    "\n",
    "\n",
    "\n",
    "data['occupation_group'] = data.apply (lambda row: label_occupation(row), axis=1)\n",
    "\n",
    "data.describe()\n",
    "\n",
    "\n",
    "\n",
    "\n"
   ],
   "metadata": {
    "collapsed": false,
    "pycharm": {
     "name": "#%%\n"
    }
   }
  },
  {
   "cell_type": "code",
   "execution_count": 62,
   "outputs": [
    {
     "data": {
      "text/plain": "   age  workclass  education  educational-num  marital-status  occupation  \\\n0   25          2          1                7               4           6   \n1   38          2         11                9               2           4   \n2   28          1          7               12               2          10   \n3   44          2         15               10               2           6   \n\n   relationship  race  gender  capital-gain  capital-loss  hours-per-week  \\\n0             3     2       1             0             0              40   \n1             0     4       1             0             0              50   \n2             0     4       1             0             0              40   \n3             0     2       1             8             0              40   \n\n   native-country  income   age_group   occupation_group  \n0              38       0  age_group1  occupation_group2  \n1              38       0  age_group2  occupation_group1  \n2              38       1  age_group1  occupation_group3  \n3              38       1  age_group2  occupation_group2  ",
      "text/html": "<div>\n<style scoped>\n    .dataframe tbody tr th:only-of-type {\n        vertical-align: middle;\n    }\n\n    .dataframe tbody tr th {\n        vertical-align: top;\n    }\n\n    .dataframe thead th {\n        text-align: right;\n    }\n</style>\n<table border=\"1\" class=\"dataframe\">\n  <thead>\n    <tr style=\"text-align: right;\">\n      <th></th>\n      <th>age</th>\n      <th>workclass</th>\n      <th>education</th>\n      <th>educational-num</th>\n      <th>marital-status</th>\n      <th>occupation</th>\n      <th>relationship</th>\n      <th>race</th>\n      <th>gender</th>\n      <th>capital-gain</th>\n      <th>capital-loss</th>\n      <th>hours-per-week</th>\n      <th>native-country</th>\n      <th>income</th>\n      <th>age_group</th>\n      <th>occupation_group</th>\n    </tr>\n  </thead>\n  <tbody>\n    <tr>\n      <th>0</th>\n      <td>25</td>\n      <td>2</td>\n      <td>1</td>\n      <td>7</td>\n      <td>4</td>\n      <td>6</td>\n      <td>3</td>\n      <td>2</td>\n      <td>1</td>\n      <td>0</td>\n      <td>0</td>\n      <td>40</td>\n      <td>38</td>\n      <td>0</td>\n      <td>age_group1</td>\n      <td>occupation_group2</td>\n    </tr>\n    <tr>\n      <th>1</th>\n      <td>38</td>\n      <td>2</td>\n      <td>11</td>\n      <td>9</td>\n      <td>2</td>\n      <td>4</td>\n      <td>0</td>\n      <td>4</td>\n      <td>1</td>\n      <td>0</td>\n      <td>0</td>\n      <td>50</td>\n      <td>38</td>\n      <td>0</td>\n      <td>age_group2</td>\n      <td>occupation_group1</td>\n    </tr>\n    <tr>\n      <th>2</th>\n      <td>28</td>\n      <td>1</td>\n      <td>7</td>\n      <td>12</td>\n      <td>2</td>\n      <td>10</td>\n      <td>0</td>\n      <td>4</td>\n      <td>1</td>\n      <td>0</td>\n      <td>0</td>\n      <td>40</td>\n      <td>38</td>\n      <td>1</td>\n      <td>age_group1</td>\n      <td>occupation_group3</td>\n    </tr>\n    <tr>\n      <th>3</th>\n      <td>44</td>\n      <td>2</td>\n      <td>15</td>\n      <td>10</td>\n      <td>2</td>\n      <td>6</td>\n      <td>0</td>\n      <td>2</td>\n      <td>1</td>\n      <td>8</td>\n      <td>0</td>\n      <td>40</td>\n      <td>38</td>\n      <td>1</td>\n      <td>age_group2</td>\n      <td>occupation_group2</td>\n    </tr>\n  </tbody>\n</table>\n</div>"
     },
     "execution_count": 62,
     "metadata": {},
     "output_type": "execute_result"
    }
   ],
   "source": [
    "\n",
    "data[\"capital-gain\"] = data[\"capital-gain\"].apply(np.int64)\n",
    "\n",
    "data[\"capital-loss\"] = data[\"capital-loss\"].apply(np.int64)\n",
    "\n",
    "data[:4]\n"
   ],
   "metadata": {
    "collapsed": false,
    "pycharm": {
     "name": "#%%\n"
    }
   }
  },
  {
   "cell_type": "code",
   "execution_count": 63,
   "outputs": [
    {
     "name": "stdout",
     "output_type": "stream",
     "text": [
      "age                  int64\n",
      "workclass            int64\n",
      "education            int64\n",
      "educational-num      int64\n",
      "marital-status       int64\n",
      "occupation           int64\n",
      "relationship         int64\n",
      "race                 int64\n",
      "gender               int64\n",
      "capital-gain         int64\n",
      "capital-loss         int64\n",
      "hours-per-week       int64\n",
      "native-country       int64\n",
      "income               int64\n",
      "age_group           object\n",
      "occupation_group    object\n",
      "dtype: object\n"
     ]
    }
   ],
   "source": [
    "\n",
    "print(data.dtypes)\n"
   ],
   "metadata": {
    "collapsed": false,
    "pycharm": {
     "name": "#%%\n"
    }
   }
  },
  {
   "cell_type": "code",
   "execution_count": 64,
   "outputs": [],
   "source": [
    "\n",
    "data = data.drop(columns=['age'])\n",
    "data = data.drop(columns=['occupation'])\n",
    "\n",
    "data.to_csv(\"adult_preprocessed.csv\", index=False)\n"
   ],
   "metadata": {
    "collapsed": false,
    "pycharm": {
     "name": "#%%\n"
    }
   }
  },
  {
   "cell_type": "code",
   "execution_count": 65,
   "outputs": [
    {
     "data": {
      "text/plain": "   workclass  education  educational-num  marital-status  relationship  race  \\\n0          2          1                7               4             3     2   \n1          2         11                9               2             0     4   \n2          1          7               12               2             0     4   \n\n   gender  capital-gain  capital-loss  hours-per-week  native-country  income  \\\n0       1             0             0              40              38       0   \n1       1             0             0              50              38       0   \n2       1             0             0              40              38       1   \n\n    age_group   occupation_group  \n0  age_group1  occupation_group2  \n1  age_group2  occupation_group1  \n2  age_group1  occupation_group3  ",
      "text/html": "<div>\n<style scoped>\n    .dataframe tbody tr th:only-of-type {\n        vertical-align: middle;\n    }\n\n    .dataframe tbody tr th {\n        vertical-align: top;\n    }\n\n    .dataframe thead th {\n        text-align: right;\n    }\n</style>\n<table border=\"1\" class=\"dataframe\">\n  <thead>\n    <tr style=\"text-align: right;\">\n      <th></th>\n      <th>workclass</th>\n      <th>education</th>\n      <th>educational-num</th>\n      <th>marital-status</th>\n      <th>relationship</th>\n      <th>race</th>\n      <th>gender</th>\n      <th>capital-gain</th>\n      <th>capital-loss</th>\n      <th>hours-per-week</th>\n      <th>native-country</th>\n      <th>income</th>\n      <th>age_group</th>\n      <th>occupation_group</th>\n    </tr>\n  </thead>\n  <tbody>\n    <tr>\n      <th>0</th>\n      <td>2</td>\n      <td>1</td>\n      <td>7</td>\n      <td>4</td>\n      <td>3</td>\n      <td>2</td>\n      <td>1</td>\n      <td>0</td>\n      <td>0</td>\n      <td>40</td>\n      <td>38</td>\n      <td>0</td>\n      <td>age_group1</td>\n      <td>occupation_group2</td>\n    </tr>\n    <tr>\n      <th>1</th>\n      <td>2</td>\n      <td>11</td>\n      <td>9</td>\n      <td>2</td>\n      <td>0</td>\n      <td>4</td>\n      <td>1</td>\n      <td>0</td>\n      <td>0</td>\n      <td>50</td>\n      <td>38</td>\n      <td>0</td>\n      <td>age_group2</td>\n      <td>occupation_group1</td>\n    </tr>\n    <tr>\n      <th>2</th>\n      <td>1</td>\n      <td>7</td>\n      <td>12</td>\n      <td>2</td>\n      <td>0</td>\n      <td>4</td>\n      <td>1</td>\n      <td>0</td>\n      <td>0</td>\n      <td>40</td>\n      <td>38</td>\n      <td>1</td>\n      <td>age_group1</td>\n      <td>occupation_group3</td>\n    </tr>\n  </tbody>\n</table>\n</div>"
     },
     "execution_count": 65,
     "metadata": {},
     "output_type": "execute_result"
    }
   ],
   "source": [
    "data[:3]"
   ],
   "metadata": {
    "collapsed": false,
    "pycharm": {
     "name": "#%%\n"
    }
   }
  },
  {
   "cell_type": "code",
   "execution_count": 65,
   "outputs": [],
   "source": [
    "\n",
    "\n",
    "\n",
    "\n"
   ],
   "metadata": {
    "collapsed": false,
    "pycharm": {
     "name": "#%%\n"
    }
   }
  },
  {
   "cell_type": "markdown",
   "source": [
    "# explore"
   ],
   "metadata": {
    "collapsed": false,
    "pycharm": {
     "name": "#%% md\n"
    }
   }
  },
  {
   "cell_type": "code",
   "execution_count": 102,
   "outputs": [
    {
     "data": {
      "text/plain": "          workclass     education  educational-num  marital-status  \\\ncount  45222.000000  45222.000000     45222.000000    45222.000000   \nmean       2.204502     10.313321        10.118460        2.585180   \nstd        0.958122      3.817014         2.552881        1.500458   \nmin        0.000000      0.000000         1.000000        0.000000   \n25%        2.000000      9.000000         9.000000        2.000000   \n50%        2.000000     11.000000        10.000000        2.000000   \n75%        2.000000     12.000000        13.000000        4.000000   \nmax        6.000000     15.000000        16.000000        6.000000   \n\n       relationship          race        gender  capital-gain  capital-loss  \\\ncount  45222.000000  45222.000000  45222.000000  45222.000000  45222.000000   \nmean       1.412697      3.680288      0.675048      1.100482      0.091659   \nstd        1.597227      0.832353      0.468362      7.507727      0.419212   \nmin        0.000000      0.000000      0.000000      0.000000      0.000000   \n25%        0.000000      4.000000      0.000000      0.000000      0.000000   \n50%        1.000000      4.000000      1.000000      0.000000      0.000000   \n75%        3.000000      4.000000      1.000000      0.000000      0.000000   \nmax        5.000000      4.000000      1.000000    100.000000      4.000000   \n\n       hours-per-week  native-country        income  \ncount    45222.000000    45222.000000  45222.000000  \nmean        40.938017       36.401022      0.247844  \nstd         12.007508        6.079856      0.431766  \nmin          1.000000        0.000000      0.000000  \n25%         40.000000       38.000000      0.000000  \n50%         40.000000       38.000000      0.000000  \n75%         45.000000       38.000000      0.000000  \nmax         99.000000       40.000000      1.000000  ",
      "text/html": "<div>\n<style scoped>\n    .dataframe tbody tr th:only-of-type {\n        vertical-align: middle;\n    }\n\n    .dataframe tbody tr th {\n        vertical-align: top;\n    }\n\n    .dataframe thead th {\n        text-align: right;\n    }\n</style>\n<table border=\"1\" class=\"dataframe\">\n  <thead>\n    <tr style=\"text-align: right;\">\n      <th></th>\n      <th>workclass</th>\n      <th>education</th>\n      <th>educational-num</th>\n      <th>marital-status</th>\n      <th>relationship</th>\n      <th>race</th>\n      <th>gender</th>\n      <th>capital-gain</th>\n      <th>capital-loss</th>\n      <th>hours-per-week</th>\n      <th>native-country</th>\n      <th>income</th>\n    </tr>\n  </thead>\n  <tbody>\n    <tr>\n      <th>count</th>\n      <td>45222.000000</td>\n      <td>45222.000000</td>\n      <td>45222.000000</td>\n      <td>45222.000000</td>\n      <td>45222.000000</td>\n      <td>45222.000000</td>\n      <td>45222.000000</td>\n      <td>45222.000000</td>\n      <td>45222.000000</td>\n      <td>45222.000000</td>\n      <td>45222.000000</td>\n      <td>45222.000000</td>\n    </tr>\n    <tr>\n      <th>mean</th>\n      <td>2.204502</td>\n      <td>10.313321</td>\n      <td>10.118460</td>\n      <td>2.585180</td>\n      <td>1.412697</td>\n      <td>3.680288</td>\n      <td>0.675048</td>\n      <td>1.100482</td>\n      <td>0.091659</td>\n      <td>40.938017</td>\n      <td>36.401022</td>\n      <td>0.247844</td>\n    </tr>\n    <tr>\n      <th>std</th>\n      <td>0.958122</td>\n      <td>3.817014</td>\n      <td>2.552881</td>\n      <td>1.500458</td>\n      <td>1.597227</td>\n      <td>0.832353</td>\n      <td>0.468362</td>\n      <td>7.507727</td>\n      <td>0.419212</td>\n      <td>12.007508</td>\n      <td>6.079856</td>\n      <td>0.431766</td>\n    </tr>\n    <tr>\n      <th>min</th>\n      <td>0.000000</td>\n      <td>0.000000</td>\n      <td>1.000000</td>\n      <td>0.000000</td>\n      <td>0.000000</td>\n      <td>0.000000</td>\n      <td>0.000000</td>\n      <td>0.000000</td>\n      <td>0.000000</td>\n      <td>1.000000</td>\n      <td>0.000000</td>\n      <td>0.000000</td>\n    </tr>\n    <tr>\n      <th>25%</th>\n      <td>2.000000</td>\n      <td>9.000000</td>\n      <td>9.000000</td>\n      <td>2.000000</td>\n      <td>0.000000</td>\n      <td>4.000000</td>\n      <td>0.000000</td>\n      <td>0.000000</td>\n      <td>0.000000</td>\n      <td>40.000000</td>\n      <td>38.000000</td>\n      <td>0.000000</td>\n    </tr>\n    <tr>\n      <th>50%</th>\n      <td>2.000000</td>\n      <td>11.000000</td>\n      <td>10.000000</td>\n      <td>2.000000</td>\n      <td>1.000000</td>\n      <td>4.000000</td>\n      <td>1.000000</td>\n      <td>0.000000</td>\n      <td>0.000000</td>\n      <td>40.000000</td>\n      <td>38.000000</td>\n      <td>0.000000</td>\n    </tr>\n    <tr>\n      <th>75%</th>\n      <td>2.000000</td>\n      <td>12.000000</td>\n      <td>13.000000</td>\n      <td>4.000000</td>\n      <td>3.000000</td>\n      <td>4.000000</td>\n      <td>1.000000</td>\n      <td>0.000000</td>\n      <td>0.000000</td>\n      <td>45.000000</td>\n      <td>38.000000</td>\n      <td>0.000000</td>\n    </tr>\n    <tr>\n      <th>max</th>\n      <td>6.000000</td>\n      <td>15.000000</td>\n      <td>16.000000</td>\n      <td>6.000000</td>\n      <td>5.000000</td>\n      <td>4.000000</td>\n      <td>1.000000</td>\n      <td>100.000000</td>\n      <td>4.000000</td>\n      <td>99.000000</td>\n      <td>40.000000</td>\n      <td>1.000000</td>\n    </tr>\n  </tbody>\n</table>\n</div>"
     },
     "execution_count": 102,
     "metadata": {},
     "output_type": "execute_result"
    }
   ],
   "source": [
    "data = pd.read_csv(\"adult_preprocessed.csv\")\n",
    "\n",
    "data.describe()"
   ],
   "metadata": {
    "collapsed": false,
    "pycharm": {
     "name": "#%%\n"
    }
   }
  },
  {
   "cell_type": "code",
   "execution_count": 107,
   "outputs": [
    {
     "name": "stdout",
     "output_type": "stream",
     "text": [
      "17\n"
     ]
    },
    {
     "data": {
      "text/plain": "race\n2     1\n4    16\ndtype: int64"
     },
     "execution_count": 107,
     "metadata": {},
     "output_type": "execute_result"
    }
   ],
   "source": [
    "data = pd.read_csv(\"adult_preprocessed.csv\")\n",
    "\n",
    "\n",
    "data = data[(data['hours-per-week'] <= 50) & (data['capital-loss'] >= 3)]\n",
    "data = data[data['occupation_group'].isin(['occupationgroup2'])]\n",
    "print(len(data))\n",
    "data.groupby(['race']).size()\n"
   ],
   "metadata": {
    "collapsed": false,
    "pycharm": {
     "name": "#%%\n"
    }
   }
  },
  {
   "cell_type": "code",
   "execution_count": 108,
   "outputs": [
    {
     "name": "stdout",
     "output_type": "stream",
     "text": [
      "17\n"
     ]
    },
    {
     "data": {
      "text/plain": "gender  age_group\n0       agegroup2    9\n        agegroup3    2\n1       agegroup1    1\n        agegroup2    4\n        agegroup3    1\ndtype: int64"
     },
     "execution_count": 108,
     "metadata": {},
     "output_type": "execute_result"
    }
   ],
   "source": [
    "data = pd.read_csv(\"adult_preprocessed.csv\")\n",
    "\n",
    "data = data[(data['hours-per-week'] <= 50) & (data['capital-loss'] >= 3)]\n",
    "data = data[data['occupation_group'].isin(['occupationgroup2'])]\n",
    "print(len(data))\n",
    "data.groupby(['gender', 'age_group']).size()"
   ],
   "metadata": {
    "collapsed": false,
    "pycharm": {
     "name": "#%%\n"
    }
   }
  },
  {
   "cell_type": "code",
   "execution_count": 100,
   "outputs": [
    {
     "name": "stdout",
     "output_type": "stream",
     "text": [
      "1659\n"
     ]
    },
    {
     "data": {
      "text/plain": "marital-status\n0     174\n2    1160\n3      15\n4     240\n5      31\n6      39\ndtype: int64"
     },
     "execution_count": 100,
     "metadata": {},
     "output_type": "execute_result"
    }
   ],
   "source": [
    "\n",
    "data = pd.read_csv(\"adult_preprocessed.csv\")\n",
    "\n",
    "data = data[(data['educational-num'] >= 10) & (data['capital-gain'] >= 2)]\n",
    "data = data[data['occupation_group'].isin(['occupation_group1'])]\n",
    "print(len(data))\n",
    "\n",
    "data.groupby(['marital-status']).size()\n"
   ],
   "metadata": {
    "collapsed": false,
    "pycharm": {
     "name": "#%%\n"
    }
   }
  },
  {
   "cell_type": "code",
   "execution_count": 101,
   "outputs": [
    {
     "name": "stdout",
     "output_type": "stream",
     "text": [
      "388\n"
     ]
    },
    {
     "data": {
      "text/plain": "marital-status\n0     39\n2    276\n3      6\n4     55\n5      7\n6      5\ndtype: int64"
     },
     "execution_count": 101,
     "metadata": {},
     "output_type": "execute_result"
    }
   ],
   "source": [
    "\n",
    "data = pd.read_csv(\"adult_preprocessed.csv\")\n",
    "\n",
    "data = data[(data['educational-num'] >= 10) & (data['capital-gain'] >= 10)]\n",
    "data = data[data['occupation_group'].isin(['occupation_group1'])]\n",
    "print(len(data))\n",
    "\n",
    "data.groupby(['marital-status']).size()"
   ],
   "metadata": {
    "collapsed": false,
    "pycharm": {
     "name": "#%%\n"
    }
   }
  },
  {
   "cell_type": "code",
   "execution_count": null,
   "outputs": [],
   "source": [],
   "metadata": {
    "collapsed": false,
    "pycharm": {
     "name": "#%%\n"
    }
   }
  }
 ],
 "metadata": {
  "kernelspec": {
   "display_name": "Python 3",
   "language": "python",
   "name": "python3"
  },
  "language_info": {
   "codemirror_mode": {
    "name": "ipython",
    "version": 2
   },
   "file_extension": ".py",
   "mimetype": "text/x-python",
   "name": "python",
   "nbconvert_exporter": "python",
   "pygments_lexer": "ipython2",
   "version": "2.7.6"
  }
 },
 "nbformat": 4,
 "nbformat_minor": 0
}