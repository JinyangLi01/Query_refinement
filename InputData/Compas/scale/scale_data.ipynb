{
 "cells": [
  {
   "cell_type": "code",
   "execution_count": 74,
   "metadata": {
    "collapsed": true,
    "pycharm": {
     "name": "#%%\n"
    }
   },
   "outputs": [],
   "source": [
    "import pandas as pd\n",
    "import numpy as np\n",
    "\n",
    "from Algorithm import ProvenanceSearchValues_6_20220825 as ps\n",
    "from Algorithm import LatticeTraversal_2_2022405 as lt\n"
   ]
  },
  {
   "cell_type": "code",
   "execution_count": 62,
   "outputs": [
    {
     "data": {
      "text/plain": "11757"
     },
     "execution_count": 62,
     "metadata": {},
     "output_type": "execute_result"
    }
   ],
   "source": [
    "compas = pd.read_csv(r\"../compas-scores.csv\", index_col=False)\n",
    "len(compas)"
   ],
   "metadata": {
    "collapsed": false,
    "pycharm": {
     "name": "#%%\n"
    }
   }
  },
  {
   "cell_type": "code",
   "execution_count": 63,
   "outputs": [
    {
     "data": {
      "text/plain": "                 id           age  juv-fel-count  decile-score  \\\ncount  11757.000000  11757.000000   11757.000000  11757.000000   \nmean    5879.000000     35.143319       0.061580      4.371268   \nstd     3394.097892     12.022894       0.445328      2.877598   \nmin        1.000000     18.000000       0.000000     -1.000000   \n25%     2940.000000     25.000000       0.000000      2.000000   \n50%     5879.000000     32.000000       0.000000      4.000000   \n75%     8818.000000     43.000000       0.000000      7.000000   \nmax    11757.000000     96.000000      20.000000     10.000000   \n\n       juv-misd-count  juv-other-count  priors-count  days-b-screening-arrest  \\\ncount    11757.000000     11757.000000  11757.000000             10577.000000   \nmean         0.076040         0.093561      3.082164                -0.878037   \nstd          0.449757         0.472003      4.687410                72.889298   \nmin          0.000000         0.000000      0.000000              -597.000000   \n25%          0.000000         0.000000      0.000000                -1.000000   \n50%          0.000000         0.000000      1.000000                -1.000000   \n75%          0.000000         0.000000      4.000000                -1.000000   \nmax         13.000000        17.000000     43.000000              1057.000000   \n\n       c-days-from-compas      is-recid  num-r-cases  r-days-from-arrest  \\\ncount        11015.000000  11757.000000          0.0         2460.000000   \nmean            63.587653      0.253806          NaN           20.410569   \nstd            341.899711      0.558324          NaN           74.354840   \nmin              0.000000     -1.000000          NaN           -1.000000   \n25%              1.000000      0.000000          NaN            0.000000   \n50%              1.000000      0.000000          NaN            0.000000   \n75%              2.000000      1.000000          NaN            1.000000   \nmax           9485.000000      1.000000          NaN          993.000000   \n\n       is-violent-recid  num-vr-cases  v-decile-score  decile-score.1  \ncount      11757.000000           0.0    11757.000000    11757.000000  \nmean           0.075019           NaN        3.571489        4.371268  \nstd            0.263433           NaN        2.500479        2.877598  \nmin            0.000000           NaN       -1.000000       -1.000000  \n25%            0.000000           NaN        1.000000        2.000000  \n50%            0.000000           NaN        3.000000        4.000000  \n75%            0.000000           NaN        5.000000        7.000000  \nmax            1.000000           NaN       10.000000       10.000000  ",
      "text/html": "<div>\n<style scoped>\n    .dataframe tbody tr th:only-of-type {\n        vertical-align: middle;\n    }\n\n    .dataframe tbody tr th {\n        vertical-align: top;\n    }\n\n    .dataframe thead th {\n        text-align: right;\n    }\n</style>\n<table border=\"1\" class=\"dataframe\">\n  <thead>\n    <tr style=\"text-align: right;\">\n      <th></th>\n      <th>id</th>\n      <th>age</th>\n      <th>juv-fel-count</th>\n      <th>decile-score</th>\n      <th>juv-misd-count</th>\n      <th>juv-other-count</th>\n      <th>priors-count</th>\n      <th>days-b-screening-arrest</th>\n      <th>c-days-from-compas</th>\n      <th>is-recid</th>\n      <th>num-r-cases</th>\n      <th>r-days-from-arrest</th>\n      <th>is-violent-recid</th>\n      <th>num-vr-cases</th>\n      <th>v-decile-score</th>\n      <th>decile-score.1</th>\n    </tr>\n  </thead>\n  <tbody>\n    <tr>\n      <th>count</th>\n      <td>11757.000000</td>\n      <td>11757.000000</td>\n      <td>11757.000000</td>\n      <td>11757.000000</td>\n      <td>11757.000000</td>\n      <td>11757.000000</td>\n      <td>11757.000000</td>\n      <td>10577.000000</td>\n      <td>11015.000000</td>\n      <td>11757.000000</td>\n      <td>0.0</td>\n      <td>2460.000000</td>\n      <td>11757.000000</td>\n      <td>0.0</td>\n      <td>11757.000000</td>\n      <td>11757.000000</td>\n    </tr>\n    <tr>\n      <th>mean</th>\n      <td>5879.000000</td>\n      <td>35.143319</td>\n      <td>0.061580</td>\n      <td>4.371268</td>\n      <td>0.076040</td>\n      <td>0.093561</td>\n      <td>3.082164</td>\n      <td>-0.878037</td>\n      <td>63.587653</td>\n      <td>0.253806</td>\n      <td>NaN</td>\n      <td>20.410569</td>\n      <td>0.075019</td>\n      <td>NaN</td>\n      <td>3.571489</td>\n      <td>4.371268</td>\n    </tr>\n    <tr>\n      <th>std</th>\n      <td>3394.097892</td>\n      <td>12.022894</td>\n      <td>0.445328</td>\n      <td>2.877598</td>\n      <td>0.449757</td>\n      <td>0.472003</td>\n      <td>4.687410</td>\n      <td>72.889298</td>\n      <td>341.899711</td>\n      <td>0.558324</td>\n      <td>NaN</td>\n      <td>74.354840</td>\n      <td>0.263433</td>\n      <td>NaN</td>\n      <td>2.500479</td>\n      <td>2.877598</td>\n    </tr>\n    <tr>\n      <th>min</th>\n      <td>1.000000</td>\n      <td>18.000000</td>\n      <td>0.000000</td>\n      <td>-1.000000</td>\n      <td>0.000000</td>\n      <td>0.000000</td>\n      <td>0.000000</td>\n      <td>-597.000000</td>\n      <td>0.000000</td>\n      <td>-1.000000</td>\n      <td>NaN</td>\n      <td>-1.000000</td>\n      <td>0.000000</td>\n      <td>NaN</td>\n      <td>-1.000000</td>\n      <td>-1.000000</td>\n    </tr>\n    <tr>\n      <th>25%</th>\n      <td>2940.000000</td>\n      <td>25.000000</td>\n      <td>0.000000</td>\n      <td>2.000000</td>\n      <td>0.000000</td>\n      <td>0.000000</td>\n      <td>0.000000</td>\n      <td>-1.000000</td>\n      <td>1.000000</td>\n      <td>0.000000</td>\n      <td>NaN</td>\n      <td>0.000000</td>\n      <td>0.000000</td>\n      <td>NaN</td>\n      <td>1.000000</td>\n      <td>2.000000</td>\n    </tr>\n    <tr>\n      <th>50%</th>\n      <td>5879.000000</td>\n      <td>32.000000</td>\n      <td>0.000000</td>\n      <td>4.000000</td>\n      <td>0.000000</td>\n      <td>0.000000</td>\n      <td>1.000000</td>\n      <td>-1.000000</td>\n      <td>1.000000</td>\n      <td>0.000000</td>\n      <td>NaN</td>\n      <td>0.000000</td>\n      <td>0.000000</td>\n      <td>NaN</td>\n      <td>3.000000</td>\n      <td>4.000000</td>\n    </tr>\n    <tr>\n      <th>75%</th>\n      <td>8818.000000</td>\n      <td>43.000000</td>\n      <td>0.000000</td>\n      <td>7.000000</td>\n      <td>0.000000</td>\n      <td>0.000000</td>\n      <td>4.000000</td>\n      <td>-1.000000</td>\n      <td>2.000000</td>\n      <td>1.000000</td>\n      <td>NaN</td>\n      <td>1.000000</td>\n      <td>0.000000</td>\n      <td>NaN</td>\n      <td>5.000000</td>\n      <td>7.000000</td>\n    </tr>\n    <tr>\n      <th>max</th>\n      <td>11757.000000</td>\n      <td>96.000000</td>\n      <td>20.000000</td>\n      <td>10.000000</td>\n      <td>13.000000</td>\n      <td>17.000000</td>\n      <td>43.000000</td>\n      <td>1057.000000</td>\n      <td>9485.000000</td>\n      <td>1.000000</td>\n      <td>NaN</td>\n      <td>993.000000</td>\n      <td>1.000000</td>\n      <td>NaN</td>\n      <td>10.000000</td>\n      <td>10.000000</td>\n    </tr>\n  </tbody>\n</table>\n</div>"
     },
     "execution_count": 63,
     "metadata": {},
     "output_type": "execute_result"
    }
   ],
   "source": [
    "compas.describe()"
   ],
   "metadata": {
    "collapsed": false,
    "pycharm": {
     "name": "#%%\n"
    }
   }
  },
  {
   "cell_type": "code",
   "execution_count": 64,
   "outputs": [
    {
     "name": "stdout",
     "output_type": "stream",
     "text": [
      "[ 0  1  2  3  4  5  6  8  9 10 13 20]\n",
      "[-1  1  2  3  4  5  6  7  8  9 10]\n"
     ]
    }
   ],
   "source": [
    "lst = compas[\"juv-fel-count\"].unique()\n",
    "lst.sort()\n",
    "print(lst)\n",
    "# lst2 = list(range(1, 100))\n",
    "# print([x for x in lst2 if x not in lst])\n",
    "# # without 69, 71\n",
    "\n",
    "\n",
    "lst = compas[\"decile-score\"].unique()\n",
    "lst.sort()\n",
    "print(lst)"
   ],
   "metadata": {
    "collapsed": false,
    "pycharm": {
     "name": "#%%\n"
    }
   }
  },
  {
   "cell_type": "markdown",
   "source": [
    "\n",
    "# make 10K data"
   ],
   "metadata": {
    "collapsed": false,
    "pycharm": {
     "name": "#%% md\n"
    }
   }
  },
  {
   "cell_type": "code",
   "execution_count": 8,
   "outputs": [
    {
     "name": "stdout",
     "output_type": "stream",
     "text": [
      "11334\n",
      "280\n",
      "80\n",
      "30\n",
      "16\n",
      "8\n",
      "2\n",
      "2\n",
      "1\n",
      "2\n",
      "1\n",
      "1\n"
     ]
    }
   ],
   "source": [
    "juv_lst = [ 0,  1,  2,  3,  4,  5,  6,  8,  9, 10, 13, 20]\n",
    "for i in juv_lst:\n",
    "    print(len(compas[compas[\"juv-fel-count\"] == i]))"
   ],
   "metadata": {
    "collapsed": false,
    "pycharm": {
     "name": "#%%\n"
    }
   }
  },
  {
   "cell_type": "code",
   "execution_count": 9,
   "outputs": [
    {
     "name": "stdout",
     "output_type": "stream",
     "text": [
      "15\n",
      "2577\n",
      "1572\n",
      "1259\n",
      "1199\n",
      "1034\n",
      "993\n",
      "900\n",
      "796\n",
      "802\n",
      "610\n"
     ]
    }
   ],
   "source": [
    "dec_lst = [-1,  1,  2,  3,  4,  5,  6,  7,  8,  9, 10]\n",
    "for i in dec_lst:\n",
    "    print(len(compas[compas[\"decile-score\"] == i]))"
   ],
   "metadata": {
    "collapsed": false,
    "pycharm": {
     "name": "#%%\n"
    }
   }
  },
  {
   "cell_type": "code",
   "execution_count": 10,
   "outputs": [],
   "source": [
    "def remove_hours(hours, sam, compas):\n",
    "    print(len(compas))\n",
    "    a1 = compas[compas['decile-score'] == hours].sample(sam)\n",
    "    print(len(a1))\n",
    "    compas = compas[~compas.index.isin(a1.index)]\n",
    "    print(len(compas))\n",
    "    return compas\n"
   ],
   "metadata": {
    "collapsed": false,
    "pycharm": {
     "name": "#%%\n"
    }
   }
  },
  {
   "cell_type": "code",
   "execution_count": 11,
   "outputs": [
    {
     "name": "stdout",
     "output_type": "stream",
     "text": [
      "11757\n",
      "11757\n",
      "1000\n",
      "10757\n",
      "10757\n"
     ]
    }
   ],
   "source": [
    "print(len(compas))\n",
    "compas = remove_hours(1, 1000, compas)\n",
    "print(len(compas))"
   ],
   "metadata": {
    "collapsed": false,
    "pycharm": {
     "name": "#%%\n"
    }
   }
  },
  {
   "cell_type": "code",
   "execution_count": 12,
   "outputs": [
    {
     "name": "stdout",
     "output_type": "stream",
     "text": [
      "10757\n",
      "10757\n",
      "500\n",
      "10257\n",
      "10257\n"
     ]
    }
   ],
   "source": [
    "print(len(compas))\n",
    "compas = remove_hours(2, 500, compas)\n",
    "print(len(compas))"
   ],
   "metadata": {
    "collapsed": false,
    "pycharm": {
     "name": "#%%\n"
    }
   }
  },
  {
   "cell_type": "code",
   "execution_count": 13,
   "outputs": [
    {
     "name": "stdout",
     "output_type": "stream",
     "text": [
      "10257\n",
      "10257\n",
      "257\n",
      "10000\n",
      "10000\n"
     ]
    }
   ],
   "source": [
    "print(len(compas))\n",
    "compas = remove_hours(3, 257, compas)\n",
    "print(len(compas))"
   ],
   "metadata": {
    "collapsed": false,
    "pycharm": {
     "name": "#%%\n"
    }
   }
  },
  {
   "cell_type": "code",
   "execution_count": 14,
   "outputs": [
    {
     "name": "stdout",
     "output_type": "stream",
     "text": [
      "[ 0  1  2  3  4  5  6  8  9 10 13 20]\n",
      "[-1  1  2  3  4  5  6  7  8  9 10]\n"
     ]
    }
   ],
   "source": [
    "lst = compas[\"juv-fel-count\"].unique()\n",
    "lst.sort()\n",
    "print(lst)\n",
    "\n",
    "lst = compas[\"decile-score\"].unique()\n",
    "lst.sort()\n",
    "print(lst)\n"
   ],
   "metadata": {
    "collapsed": false,
    "pycharm": {
     "name": "#%%\n"
    }
   }
  },
  {
   "cell_type": "code",
   "execution_count": null,
   "outputs": [],
   "source": [
    "compas.to_csv(\"compas_10k.csv\", index=False)\n"
   ],
   "metadata": {
    "collapsed": false,
    "pycharm": {
     "name": "#%%\n"
    }
   }
  },
  {
   "cell_type": "code",
   "execution_count": 75,
   "outputs": [
    {
     "name": "stdout",
     "output_type": "stream",
     "text": [
      "[ 0  1  2  3  4  5  6  8  9 10 13 20]\n",
      "[-1  1  2  3  4  5  6  7  8  9 10]\n"
     ]
    }
   ],
   "source": [
    "\n",
    "compas = pd.read_csv(\"compas_10k.csv\", index_col=False)\n",
    "lst = compas[\"juv-fel-count\"].unique()\n",
    "lst.sort()\n",
    "print(lst)\n",
    "\n",
    "lst = compas[\"decile-score\"].unique()\n",
    "lst.sort()\n",
    "print(lst)\n"
   ],
   "metadata": {
    "collapsed": false,
    "pycharm": {
     "name": "#%%\n"
    }
   }
  },
  {
   "cell_type": "code",
   "execution_count": null,
   "outputs": [],
   "source": [
    "\n",
    "\n"
   ],
   "metadata": {
    "collapsed": false,
    "pycharm": {
     "name": "#%%\n"
    }
   }
  },
  {
   "cell_type": "code",
   "execution_count": 76,
   "outputs": [
    {
     "name": "stdout",
     "output_type": "stream",
     "text": [
      "15\n",
      "1577\n",
      "1072\n",
      "1002\n",
      "1199\n",
      "1034\n",
      "993\n",
      "900\n",
      "796\n",
      "802\n",
      "610\n"
     ]
    }
   ],
   "source": [
    "dec_lst = [-1,  1,  2,  3,  4,  5,  6,  7,  8,  9, 10]\n",
    "for i in dec_lst:\n",
    "    print(len(compas[compas[\"decile-score\"] == i]))\n"
   ],
   "metadata": {
    "collapsed": false,
    "pycharm": {
     "name": "#%%\n"
    }
   }
  },
  {
   "cell_type": "code",
   "execution_count": 78,
   "outputs": [
    {
     "name": "stdout",
     "output_type": "stream",
     "text": [
      "0\n",
      "277\n",
      "78\n",
      "30\n",
      "16\n",
      "8\n",
      "2\n",
      "0\n",
      "2\n",
      "1\n",
      "1\n"
     ]
    }
   ],
   "source": [
    "\n",
    "juv_lst = [ 0,  1,  2,  3,  4,  5,  6,  8,  9, 10, 13, 20]\n",
    "for i in dec_lst:\n",
    "    print(len(compas[compas[\"juv-fel-count\"] == i]))"
   ],
   "metadata": {
    "collapsed": false,
    "pycharm": {
     "name": "#%%\n"
    }
   }
  },
  {
   "cell_type": "code",
   "execution_count": 82,
   "outputs": [
    {
     "name": "stdout",
     "output_type": "stream",
     "text": [
      "10000\n",
      "9984\n",
      "2196\n",
      "115\n",
      "88\n",
      "92\n"
     ]
    }
   ],
   "source": [
    "\n",
    "# 10k data\n",
    "compas = pd.read_csv(r\"compas_10k.csv\", index_col=False)\n",
    "print(len(compas))\n",
    "compas1 = compas[compas[\"juv-fel-count\"] <= 4] # size = 20\n",
    "print(len(compas1))\n",
    "compas2 = compas1[compas1[\"decile-score\"] >= 8] # size = 5\n",
    "print(len(compas2))\n",
    "compas3 = compas2[compas2[\"c-charge-degree\"] == \"O\"]  # size = 30\n",
    "print(len(compas3))\n",
    "\n",
    "AA = compas3[compas3[\"race\"] == \"African-American\"]\n",
    "print(len(AA))\n",
    "female = compas3[compas3[\"sex\"]==\"Male\"]\n",
    "print(len(female))\n",
    "\n"
   ],
   "metadata": {
    "collapsed": false,
    "pycharm": {
     "name": "#%%\n"
    }
   }
  },
  {
   "cell_type": "markdown",
   "source": [
    "# make 5k data"
   ],
   "metadata": {
    "collapsed": false,
    "pycharm": {
     "name": "#%% md\n"
    }
   }
  },
  {
   "cell_type": "code",
   "execution_count": 17,
   "outputs": [
    {
     "name": "stdout",
     "output_type": "stream",
     "text": [
      "15\n",
      "1577\n",
      "1072\n",
      "1002\n",
      "1199\n",
      "1034\n",
      "993\n",
      "900\n",
      "796\n",
      "802\n",
      "610\n"
     ]
    }
   ],
   "source": [
    "dec_lst = [-1,  1,  2,  3,  4,  5,  6,  7,  8,  9, 10]\n",
    "for i in dec_lst:\n",
    "    print(len(compas[compas[\"decile-score\"] == i]))"
   ],
   "metadata": {
    "collapsed": false,
    "pycharm": {
     "name": "#%%\n"
    }
   }
  },
  {
   "cell_type": "code",
   "execution_count": 18,
   "outputs": [
    {
     "name": "stdout",
     "output_type": "stream",
     "text": [
      "10000\n",
      "10000\n",
      "1000\n",
      "9000\n",
      "9000\n"
     ]
    }
   ],
   "source": [
    "print(len(compas))\n",
    "compas = remove_hours(1, 1000, compas)\n",
    "print(len(compas))"
   ],
   "metadata": {
    "collapsed": false,
    "pycharm": {
     "name": "#%%\n"
    }
   }
  },
  {
   "cell_type": "code",
   "execution_count": 19,
   "outputs": [
    {
     "name": "stdout",
     "output_type": "stream",
     "text": [
      "9000\n",
      "9000\n",
      "1000\n",
      "8000\n",
      "8000\n"
     ]
    }
   ],
   "source": [
    "print(len(compas))\n",
    "compas = remove_hours(2, 1000, compas)\n",
    "print(len(compas))"
   ],
   "metadata": {
    "collapsed": false,
    "pycharm": {
     "name": "#%%\n"
    }
   }
  },
  {
   "cell_type": "code",
   "execution_count": 20,
   "outputs": [
    {
     "name": "stdout",
     "output_type": "stream",
     "text": [
      "8000\n",
      "8000\n",
      "1000\n",
      "7000\n",
      "7000\n"
     ]
    }
   ],
   "source": [
    "print(len(compas))\n",
    "compas = remove_hours(3, 1000, compas)\n",
    "print(len(compas))"
   ],
   "metadata": {
    "collapsed": false,
    "pycharm": {
     "name": "#%%\n"
    }
   }
  },
  {
   "cell_type": "code",
   "execution_count": 21,
   "outputs": [
    {
     "name": "stdout",
     "output_type": "stream",
     "text": [
      "7000\n",
      "7000\n",
      "1000\n",
      "6000\n",
      "6000\n"
     ]
    }
   ],
   "source": [
    "print(len(compas))\n",
    "compas = remove_hours(4, 1000, compas)\n",
    "print(len(compas))"
   ],
   "metadata": {
    "collapsed": false,
    "pycharm": {
     "name": "#%%\n"
    }
   }
  },
  {
   "cell_type": "code",
   "execution_count": 22,
   "outputs": [
    {
     "name": "stdout",
     "output_type": "stream",
     "text": [
      "6000\n",
      "6000\n",
      "1000\n",
      "5000\n",
      "5000\n"
     ]
    }
   ],
   "source": [
    "print(len(compas))\n",
    "compas = remove_hours(5, 1000, compas)\n",
    "print(len(compas))"
   ],
   "metadata": {
    "collapsed": false,
    "pycharm": {
     "name": "#%%\n"
    }
   }
  },
  {
   "cell_type": "code",
   "execution_count": 23,
   "outputs": [
    {
     "name": "stdout",
     "output_type": "stream",
     "text": [
      "[ 0  1  2  3  4  5  6  8 10 13 20]\n",
      "[-1  1  2  3  4  5  6  7  8  9 10]\n"
     ]
    }
   ],
   "source": [
    "lst = compas[\"juv-fel-count\"].unique()\n",
    "lst.sort()\n",
    "print(lst)\n",
    "\n",
    "lst = compas[\"decile-score\"].unique()\n",
    "lst.sort()\n",
    "print(lst)\n",
    "\n"
   ],
   "metadata": {
    "collapsed": false,
    "pycharm": {
     "name": "#%%\n"
    }
   }
  },
  {
   "cell_type": "code",
   "execution_count": null,
   "outputs": [],
   "source": [
    "compas.to_csv(\"compas_5k.csv\", index=False)\n"
   ],
   "metadata": {
    "collapsed": false,
    "pycharm": {
     "name": "#%%\n"
    }
   }
  },
  {
   "cell_type": "code",
   "execution_count": 85,
   "outputs": [
    {
     "name": "stdout",
     "output_type": "stream",
     "text": [
      "5000\n",
      "[ 0  1  2  3  4  5  6  8 10 13 20]\n",
      "[-1  1  2  3  4  5  6  7  8  9 10]\n"
     ]
    }
   ],
   "source": [
    "compas = pd.read_csv(\"compas_5k.csv\", index_col=False)\n",
    "print(len(compas))\n",
    "lst = compas[\"juv-fel-count\"].unique()\n",
    "lst.sort()\n",
    "print(lst)\n",
    "\n",
    "lst = compas[\"decile-score\"].unique()\n",
    "lst.sort()\n",
    "print(lst)\n"
   ],
   "metadata": {
    "collapsed": false,
    "pycharm": {
     "name": "#%%\n"
    }
   }
  },
  {
   "cell_type": "code",
   "execution_count": 86,
   "outputs": [
    {
     "name": "stdout",
     "output_type": "stream",
     "text": [
      "4986\n",
      "2196\n",
      "115\n",
      "88\n",
      "92\n"
     ]
    }
   ],
   "source": [
    "compas1 = compas[compas[\"juv-fel-count\"] <= 4] # size = 20\n",
    "print(len(compas1))\n",
    "compas2 = compas1[compas1[\"decile-score\"] >= 8] # size = 5\n",
    "print(len(compas2))\n",
    "compas3 = compas2[compas2[\"c-charge-degree\"] == \"O\"]  # size = 30\n",
    "print(len(compas3))\n",
    "\n",
    "AA = compas3[compas3[\"race\"] == \"African-American\"]\n",
    "print(len(AA))\n",
    "female = compas3[compas3[\"sex\"]==\"Male\"]\n",
    "print(len(female))\n"
   ],
   "metadata": {
    "collapsed": false,
    "pycharm": {
     "name": "#%%\n"
    }
   }
  },
  {
   "cell_type": "markdown",
   "source": [
    "# make 2.5 k data"
   ],
   "metadata": {
    "collapsed": false,
    "pycharm": {
     "name": "#%% md\n"
    }
   }
  },
  {
   "cell_type": "code",
   "execution_count": 25,
   "outputs": [
    {
     "name": "stdout",
     "output_type": "stream",
     "text": [
      "15\n",
      "577\n",
      "72\n",
      "2\n",
      "199\n",
      "34\n",
      "993\n",
      "900\n",
      "796\n",
      "802\n",
      "610\n"
     ]
    }
   ],
   "source": [
    "dec_lst = [-1,  1,  2,  3,  4,  5,  6,  7,  8,  9, 10]\n",
    "for i in dec_lst:\n",
    "    print(len(compas[compas[\"decile-score\"] == i]))"
   ],
   "metadata": {
    "collapsed": false,
    "pycharm": {
     "name": "#%%\n"
    }
   }
  },
  {
   "cell_type": "code",
   "execution_count": 26,
   "outputs": [
    {
     "data": {
      "text/plain": "3108"
     },
     "execution_count": 26,
     "metadata": {},
     "output_type": "execute_result"
    }
   ],
   "source": [
    "compas = compas[compas['decile-score'] >= 7]\n",
    "len(compas)"
   ],
   "metadata": {
    "collapsed": false,
    "pycharm": {
     "name": "#%%\n"
    }
   }
  },
  {
   "cell_type": "code",
   "execution_count": 27,
   "outputs": [
    {
     "name": "stdout",
     "output_type": "stream",
     "text": [
      "3108\n",
      "3108\n",
      "608\n",
      "2500\n",
      "2500\n"
     ]
    }
   ],
   "source": [
    "print(len(compas))\n",
    "compas = remove_hours(7, 608, compas)\n",
    "print(len(compas))"
   ],
   "metadata": {
    "collapsed": false,
    "pycharm": {
     "name": "#%%\n"
    }
   }
  },
  {
   "cell_type": "code",
   "execution_count": null,
   "outputs": [],
   "source": [
    "compas.to_csv(\"compas_2p5k.csv\")\n"
   ],
   "metadata": {
    "collapsed": false,
    "pycharm": {
     "name": "#%%\n"
    }
   }
  },
  {
   "cell_type": "code",
   "execution_count": 87,
   "outputs": [
    {
     "name": "stdout",
     "output_type": "stream",
     "text": [
      "2500\n",
      "[ 0  1  2  3  4  5  6  8 10 13 20]\n",
      "[ 7  8  9 10]\n",
      "2487\n",
      "2196\n",
      "115\n",
      "88\n",
      "92\n"
     ]
    }
   ],
   "source": [
    "\n",
    "compas = pd.read_csv(\"compas_2p5k.csv\", index_col=False)\n",
    "print(len(compas))\n",
    "lst = compas[\"juv-fel-count\"].unique()\n",
    "lst.sort()\n",
    "print(lst)\n",
    "\n",
    "lst = compas[\"decile-score\"].unique()\n",
    "lst.sort()\n",
    "print(lst)\n",
    "\n",
    "compas1 = compas[compas[\"juv-fel-count\"] <= 4] # size = 20\n",
    "print(len(compas1))\n",
    "compas2 = compas1[compas1[\"decile-score\"] >= 8] # size = 5\n",
    "print(len(compas2))\n",
    "compas3 = compas2[compas2[\"c-charge-degree\"] == \"O\"]  # size = 30\n",
    "print(len(compas3))\n",
    "\n",
    "AA = compas3[compas3[\"race\"] == \"African-American\"]\n",
    "print(len(AA))\n",
    "female = compas3[compas3[\"sex\"]==\"Male\"]\n",
    "print(len(female))\n",
    "\n",
    "\n"
   ],
   "metadata": {
    "collapsed": false,
    "pycharm": {
     "name": "#%%\n"
    }
   }
  },
  {
   "cell_type": "markdown",
   "source": [
    "# make 2k data"
   ],
   "metadata": {
    "collapsed": false,
    "pycharm": {
     "name": "#%% md\n"
    }
   }
  },
  {
   "cell_type": "code",
   "execution_count": 46,
   "outputs": [
    {
     "name": "stdout",
     "output_type": "stream",
     "text": [
      "0\n",
      "0\n",
      "0\n",
      "0\n",
      "0\n",
      "0\n",
      "0\n",
      "292\n",
      "796\n",
      "802\n",
      "610\n"
     ]
    }
   ],
   "source": [
    "compas_2p5k = pd.read_csv(\"compas_2p5k.csv\", index_col=False)\n",
    "\n",
    "\n",
    "dec_lst = [-1,  1,  2,  3,  4,  5,  6,  7,  8,  9, 10]\n",
    "for i in dec_lst:\n",
    "    print(len(compas[compas[\"decile-score\"] == i]))"
   ],
   "metadata": {
    "collapsed": false,
    "pycharm": {
     "name": "#%%\n"
    }
   }
  },
  {
   "cell_type": "code",
   "execution_count": 47,
   "outputs": [
    {
     "name": "stdout",
     "output_type": "stream",
     "text": [
      "2500\n",
      "2500\n",
      "500\n",
      "2000\n",
      "2000\n"
     ]
    }
   ],
   "source": [
    "print(len(compas))\n",
    "compas = remove_hours(9, 500, compas)\n",
    "print(len(compas))"
   ],
   "metadata": {
    "collapsed": false,
    "pycharm": {
     "name": "#%%\n"
    }
   }
  },
  {
   "cell_type": "code",
   "execution_count": 48,
   "outputs": [],
   "source": [
    "compas.to_csv(\"compas_2k.csv\", index=False)\n"
   ],
   "metadata": {
    "collapsed": false,
    "pycharm": {
     "name": "#%%\n"
    }
   }
  },
  {
   "cell_type": "code",
   "execution_count": 88,
   "outputs": [
    {
     "name": "stdout",
     "output_type": "stream",
     "text": [
      "2000\n",
      "[ 0  1  2  3  4  5  6  8 10 13 20]\n",
      "[ 7  8  9 10]\n",
      "1988\n",
      "1697\n",
      "91\n",
      "70\n",
      "75\n"
     ]
    }
   ],
   "source": [
    "\n",
    "compas = pd.read_csv(\"compas_2k.csv\", index_col=False)\n",
    "print(len(compas))\n",
    "lst = compas[\"juv-fel-count\"].unique()\n",
    "lst.sort()\n",
    "print(lst)\n",
    "\n",
    "lst = compas[\"decile-score\"].unique()\n",
    "lst.sort()\n",
    "print(lst)\n",
    "\n",
    "compas1 = compas[compas[\"juv-fel-count\"] <= 4] # size = 20\n",
    "print(len(compas1))\n",
    "compas2 = compas1[compas1[\"decile-score\"] >= 8] # size = 5\n",
    "print(len(compas2))\n",
    "compas3 = compas2[compas2[\"c-charge-degree\"] == \"O\"]  # size = 30\n",
    "print(len(compas3))\n",
    "\n",
    "AA = compas3[compas3[\"race\"] == \"African-American\"]\n",
    "print(len(AA))\n",
    "female = compas3[compas3[\"sex\"]==\"Male\"]\n",
    "print(len(female))\n",
    "\n"
   ],
   "metadata": {
    "collapsed": false,
    "pycharm": {
     "name": "#%%\n"
    }
   }
  },
  {
   "cell_type": "markdown",
   "source": [
    "# make 1k data"
   ],
   "metadata": {
    "collapsed": false,
    "pycharm": {
     "name": "#%% md\n"
    }
   }
  },
  {
   "cell_type": "code",
   "execution_count": 72,
   "outputs": [
    {
     "name": "stdout",
     "output_type": "stream",
     "text": [
      "0\n",
      "0\n",
      "0\n",
      "0\n",
      "0\n",
      "0\n",
      "0\n",
      "192\n",
      "296\n",
      "302\n",
      "210\n"
     ]
    }
   ],
   "source": [
    "dec_lst = [-1,  1,  2,  3,  4,  5,  6,  7,  8,  9, 10]\n",
    "for i in dec_lst:\n",
    "    print(len(compas[compas[\"decile-score\"] == i]))"
   ],
   "metadata": {
    "collapsed": false,
    "pycharm": {
     "name": "#%%\n"
    }
   }
  },
  {
   "cell_type": "code",
   "execution_count": 73,
   "outputs": [
    {
     "name": "stdout",
     "output_type": "stream",
     "text": [
      "1000\n",
      "1000\n"
     ]
    },
    {
     "ename": "ValueError",
     "evalue": "Cannot take a larger sample than population when 'replace=False'",
     "output_type": "error",
     "traceback": [
      "\u001B[0;31m---------------------------------------------------------------------------\u001B[0m",
      "\u001B[0;31mValueError\u001B[0m                                Traceback (most recent call last)",
      "Input \u001B[0;32mIn [73]\u001B[0m, in \u001B[0;36m<cell line: 2>\u001B[0;34m()\u001B[0m\n\u001B[1;32m      1\u001B[0m \u001B[38;5;28mprint\u001B[39m(\u001B[38;5;28mlen\u001B[39m(compas))\n\u001B[0;32m----> 2\u001B[0m compas \u001B[38;5;241m=\u001B[39m \u001B[43mremove_hours\u001B[49m\u001B[43m(\u001B[49m\u001B[38;5;241;43m8\u001B[39;49m\u001B[43m,\u001B[49m\u001B[43m \u001B[49m\u001B[38;5;241;43m500\u001B[39;49m\u001B[43m,\u001B[49m\u001B[43m \u001B[49m\u001B[43mcompas\u001B[49m\u001B[43m)\u001B[49m\n\u001B[1;32m      3\u001B[0m \u001B[38;5;28mprint\u001B[39m(\u001B[38;5;28mlen\u001B[39m(compas))\n",
      "Input \u001B[0;32mIn [10]\u001B[0m, in \u001B[0;36mremove_hours\u001B[0;34m(hours, sam, compas)\u001B[0m\n\u001B[1;32m      1\u001B[0m \u001B[38;5;28;01mdef\u001B[39;00m \u001B[38;5;21mremove_hours\u001B[39m(hours, sam, compas):\n\u001B[1;32m      2\u001B[0m     \u001B[38;5;28mprint\u001B[39m(\u001B[38;5;28mlen\u001B[39m(compas))\n\u001B[0;32m----> 3\u001B[0m     a1 \u001B[38;5;241m=\u001B[39m \u001B[43mcompas\u001B[49m\u001B[43m[\u001B[49m\u001B[43mcompas\u001B[49m\u001B[43m[\u001B[49m\u001B[38;5;124;43m'\u001B[39;49m\u001B[38;5;124;43mdecile-score\u001B[39;49m\u001B[38;5;124;43m'\u001B[39;49m\u001B[43m]\u001B[49m\u001B[43m \u001B[49m\u001B[38;5;241;43m==\u001B[39;49m\u001B[43m \u001B[49m\u001B[43mhours\u001B[49m\u001B[43m]\u001B[49m\u001B[38;5;241;43m.\u001B[39;49m\u001B[43msample\u001B[49m\u001B[43m(\u001B[49m\u001B[43msam\u001B[49m\u001B[43m)\u001B[49m\n\u001B[1;32m      4\u001B[0m     \u001B[38;5;28mprint\u001B[39m(\u001B[38;5;28mlen\u001B[39m(a1))\n\u001B[1;32m      5\u001B[0m     compas \u001B[38;5;241m=\u001B[39m compas[\u001B[38;5;241m~\u001B[39mcompas\u001B[38;5;241m.\u001B[39mindex\u001B[38;5;241m.\u001B[39misin(a1\u001B[38;5;241m.\u001B[39mindex)]\n",
      "File \u001B[0;32m~/opt/anaconda3/lib/python3.8/site-packages/pandas/core/generic.py:5446\u001B[0m, in \u001B[0;36mNDFrame.sample\u001B[0;34m(self, n, frac, replace, weights, random_state, axis, ignore_index)\u001B[0m\n\u001B[1;32m   5443\u001B[0m \u001B[38;5;28;01mif\u001B[39;00m weights \u001B[38;5;129;01mis\u001B[39;00m \u001B[38;5;129;01mnot\u001B[39;00m \u001B[38;5;28;01mNone\u001B[39;00m:\n\u001B[1;32m   5444\u001B[0m     weights \u001B[38;5;241m=\u001B[39m sample\u001B[38;5;241m.\u001B[39mpreprocess_weights(\u001B[38;5;28mself\u001B[39m, weights, axis)\n\u001B[0;32m-> 5446\u001B[0m sampled_indices \u001B[38;5;241m=\u001B[39m \u001B[43msample\u001B[49m\u001B[38;5;241;43m.\u001B[39;49m\u001B[43msample\u001B[49m\u001B[43m(\u001B[49m\u001B[43mobj_len\u001B[49m\u001B[43m,\u001B[49m\u001B[43m \u001B[49m\u001B[43msize\u001B[49m\u001B[43m,\u001B[49m\u001B[43m \u001B[49m\u001B[43mreplace\u001B[49m\u001B[43m,\u001B[49m\u001B[43m \u001B[49m\u001B[43mweights\u001B[49m\u001B[43m,\u001B[49m\u001B[43m \u001B[49m\u001B[43mrs\u001B[49m\u001B[43m)\u001B[49m\n\u001B[1;32m   5447\u001B[0m result \u001B[38;5;241m=\u001B[39m \u001B[38;5;28mself\u001B[39m\u001B[38;5;241m.\u001B[39mtake(sampled_indices, axis\u001B[38;5;241m=\u001B[39maxis)\n\u001B[1;32m   5449\u001B[0m \u001B[38;5;28;01mif\u001B[39;00m ignore_index:\n",
      "File \u001B[0;32m~/opt/anaconda3/lib/python3.8/site-packages/pandas/core/sample.py:150\u001B[0m, in \u001B[0;36msample\u001B[0;34m(obj_len, size, replace, weights, random_state)\u001B[0m\n\u001B[1;32m    147\u001B[0m     \u001B[38;5;28;01melse\u001B[39;00m:\n\u001B[1;32m    148\u001B[0m         \u001B[38;5;28;01mraise\u001B[39;00m \u001B[38;5;167;01mValueError\u001B[39;00m(\u001B[38;5;124m\"\u001B[39m\u001B[38;5;124mInvalid weights: weights sum to zero\u001B[39m\u001B[38;5;124m\"\u001B[39m)\n\u001B[0;32m--> 150\u001B[0m \u001B[38;5;28;01mreturn\u001B[39;00m \u001B[43mrandom_state\u001B[49m\u001B[38;5;241;43m.\u001B[39;49m\u001B[43mchoice\u001B[49m\u001B[43m(\u001B[49m\u001B[43mobj_len\u001B[49m\u001B[43m,\u001B[49m\u001B[43m \u001B[49m\u001B[43msize\u001B[49m\u001B[38;5;241;43m=\u001B[39;49m\u001B[43msize\u001B[49m\u001B[43m,\u001B[49m\u001B[43m \u001B[49m\u001B[43mreplace\u001B[49m\u001B[38;5;241;43m=\u001B[39;49m\u001B[43mreplace\u001B[49m\u001B[43m,\u001B[49m\u001B[43m \u001B[49m\u001B[43mp\u001B[49m\u001B[38;5;241;43m=\u001B[39;49m\u001B[43mweights\u001B[49m\u001B[43m)\u001B[49m\u001B[38;5;241m.\u001B[39mastype(\n\u001B[1;32m    151\u001B[0m     np\u001B[38;5;241m.\u001B[39mintp, copy\u001B[38;5;241m=\u001B[39m\u001B[38;5;28;01mFalse\u001B[39;00m\n\u001B[1;32m    152\u001B[0m )\n",
      "File \u001B[0;32mmtrand.pyx:965\u001B[0m, in \u001B[0;36mnumpy.random.mtrand.RandomState.choice\u001B[0;34m()\u001B[0m\n",
      "\u001B[0;31mValueError\u001B[0m: Cannot take a larger sample than population when 'replace=False'"
     ]
    }
   ],
   "source": [
    "print(len(compas))\n",
    "compas = remove_hours(8, 500, compas)\n",
    "print(len(compas))"
   ],
   "metadata": {
    "collapsed": false,
    "pycharm": {
     "name": "#%%\n"
    }
   }
  },
  {
   "cell_type": "code",
   "execution_count": 34,
   "outputs": [
    {
     "name": "stdout",
     "output_type": "stream",
     "text": [
      "1500\n",
      "1500\n",
      "400\n",
      "1100\n",
      "1100\n"
     ]
    }
   ],
   "source": [
    "print(len(compas))\n",
    "compas = remove_hours(10, 400, compas)\n",
    "print(len(compas))"
   ],
   "metadata": {
    "collapsed": false,
    "pycharm": {
     "name": "#%%\n"
    }
   }
  },
  {
   "cell_type": "code",
   "execution_count": 35,
   "outputs": [
    {
     "name": "stdout",
     "output_type": "stream",
     "text": [
      "1100\n",
      "1100\n",
      "100\n",
      "1000\n",
      "1000\n"
     ]
    }
   ],
   "source": [
    "print(len(compas))\n",
    "compas = remove_hours(7, 100, compas)\n",
    "print(len(compas))"
   ],
   "metadata": {
    "collapsed": false,
    "pycharm": {
     "name": "#%%\n"
    }
   }
  },
  {
   "cell_type": "code",
   "execution_count": 36,
   "outputs": [],
   "source": [
    "compas.to_csv(\"compas_1k.csv\", index=False)"
   ],
   "metadata": {
    "collapsed": false,
    "pycharm": {
     "name": "#%%\n"
    }
   }
  },
  {
   "cell_type": "code",
   "execution_count": 89,
   "outputs": [
    {
     "name": "stdout",
     "output_type": "stream",
     "text": [
      "[ 0  1  2  3  5  6 10 20]\n",
      "[ 7  8  9 10]\n",
      "993\n",
      "802\n",
      "52\n",
      "43\n",
      "41\n"
     ]
    }
   ],
   "source": [
    "compas = pd.read_csv(\"compas_1k.csv\", index_col=False)\n",
    "\n",
    "lst = compas[\"juv-fel-count\"].unique()\n",
    "lst.sort()\n",
    "print(lst)\n",
    "\n",
    "lst = compas[\"decile-score\"].unique()\n",
    "lst.sort()\n",
    "print(lst)\n",
    "\n",
    "compas1 = compas[compas[\"juv-fel-count\"] <= 4] # size = 20\n",
    "print(len(compas1))\n",
    "compas2 = compas1[compas1[\"decile-score\"] >= 8] # size = 5\n",
    "print(len(compas2))\n",
    "compas3 = compas2[compas2[\"c-charge-degree\"] == \"O\"]  # size = 30\n",
    "print(len(compas3))\n",
    "\n",
    "AA = compas3[compas3[\"race\"] == \"African-American\"]\n",
    "print(len(AA))\n",
    "female = compas3[compas3[\"sex\"]==\"Male\"]\n",
    "print(len(female))\n",
    "\n"
   ],
   "metadata": {
    "collapsed": false,
    "pycharm": {
     "name": "#%%\n"
    }
   }
  },
  {
   "cell_type": "code",
   "execution_count": 71,
   "outputs": [
    {
     "data": {
      "text/plain": "899"
     },
     "execution_count": 71,
     "metadata": {},
     "output_type": "execute_result"
    }
   ],
   "source": [
    "compas = pd.read_csv(\"compas_1k.csv\", index_col=False)\n",
    "len(compas[compas[\"juv-fel-count\"] == 0])\n"
   ],
   "metadata": {
    "collapsed": false,
    "pycharm": {
     "name": "#%%\n"
    }
   }
  },
  {
   "cell_type": "code",
   "execution_count": 69,
   "outputs": [
    {
     "name": "stdout",
     "output_type": "stream",
     "text": [
      "========================== provenance search ===================================\n",
      "selected_attributes ['juv-fel-count', 'decile-score', 'c-charge-degree']\n",
      "prepare time = 0.001772165298461914\n",
      "time of test_satisfying_rows = 1.1920928955078125e-06\n",
      "time of get_provenance_contract_only = 0.14687895774841309\n",
      "possible_value_table:\n",
      "    juv-fel-count  decile-score  c-charge-degree_O\n",
      "0              5          8.00               1.00\n",
      "1              4          9.00               0.00\n",
      "2              2         10.00                NaN\n",
      "3              1         11.00                NaN\n",
      "4              0           NaN                NaN\n",
      "5             -1           NaN                NaN\n",
      "no base refinement here, size of PVT: 1*1\n",
      "no base refinement here, size of PVT: 1*1\n",
      "no base refinement here, size of PVT: 1*1\n",
      "num of iterations = 0, search space = 21, assign_to_provenance_num = 19\n",
      "provenance time = 0.23114633560180664\n",
      "searching time = 0.03287696838378906\n",
      "running time = 0.264024019241333 0.23114633560180664 0.029242753982543945\n",
      "[5, 11.0, 1.0]\n",
      "[-1, 8.0, 1.0]\n"
     ]
    }
   ],
   "source": [
    "data_file = \"compas_1k.csv\"\n",
    "query_file = \"query1.json\"\n",
    "constraint_file = \"constraint1.json\"\n",
    "time_limit = 5 * 60\n",
    "\n",
    "print(\"========================== provenance search ===================================\")\n",
    "minimal_refinements1, running_time1, assign_to_provenance_num,\\\n",
    "    provenance_time, search_time = \\\n",
    "    ps.FindMinimalRefinement(data_file, query_file, constraint_file, time_limit)\n",
    "print(\"running time = {}\".format(running_time1), provenance_time, search_time)\n",
    "print(*minimal_refinements1, sep=\"\\n\")\n",
    "\n"
   ],
   "metadata": {
    "collapsed": false,
    "pycharm": {
     "name": "#%%\n"
    }
   }
  },
  {
   "cell_type": "code",
   "execution_count": null,
   "outputs": [],
   "source": [],
   "metadata": {
    "collapsed": false,
    "pycharm": {
     "name": "#%%\n"
    }
   }
  }
 ],
 "metadata": {
  "kernelspec": {
   "display_name": "Python 3",
   "language": "python",
   "name": "python3"
  },
  "language_info": {
   "codemirror_mode": {
    "name": "ipython",
    "version": 2
   },
   "file_extension": ".py",
   "mimetype": "text/x-python",
   "name": "python",
   "nbconvert_exporter": "python",
   "pygments_lexer": "ipython2",
   "version": "2.7.6"
  }
 },
 "nbformat": 4,
 "nbformat_minor": 0
}