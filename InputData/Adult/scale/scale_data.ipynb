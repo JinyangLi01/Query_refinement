{
 "cells": [
  {
   "cell_type": "code",
   "execution_count": 2,
   "metadata": {
    "collapsed": true,
    "pycharm": {
     "name": "#%%\n"
    }
   },
   "outputs": [],
   "source": [
    "import pandas as pd\n",
    "import numpy as np\n",
    "\n",
    "from Algorithm import ProvenanceSearchValues_6_20220825 as ps\n",
    "from Algorithm import LatticeTraversal_2_2022405 as lt\n"
   ]
  },
  {
   "cell_type": "code",
   "execution_count": null,
   "outputs": [],
   "source": [
    "adult = pd.read_csv(r\"adult.data\", index_col=False)\n",
    "\n",
    "adult[:5]"
   ],
   "metadata": {
    "collapsed": false,
    "pycharm": {
     "name": "#%%\n"
    }
   }
  },
  {
   "cell_type": "code",
   "execution_count": null,
   "outputs": [],
   "source": [
    "\n",
    "print(len(adult))"
   ],
   "metadata": {
    "collapsed": false,
    "pycharm": {
     "name": "#%%\n"
    }
   }
  },
  {
   "cell_type": "code",
   "execution_count": 186,
   "outputs": [
    {
     "data": {
      "text/plain": "           age     fnlwgt  education-num  capital-gain  capital-loss  \\\ncount 32561.00   32561.00       32561.00      32561.00      32561.00   \nmean     38.58  189778.37          10.08       1077.65         87.30   \nstd      13.64  105549.98           2.57       7385.29        402.96   \nmin      17.00   12285.00           1.00          0.00          0.00   \n25%      28.00  117827.00           9.00          0.00          0.00   \n50%      37.00  178356.00          10.00          0.00          0.00   \n75%      48.00  237051.00          12.00          0.00          0.00   \nmax      90.00 1484705.00          16.00      99999.00       4356.00   \n\n       hours-per-week  \ncount        32561.00  \nmean            40.44  \nstd             12.35  \nmin              1.00  \n25%             40.00  \n50%             40.00  \n75%             45.00  \nmax             99.00  ",
      "text/html": "<div>\n<style scoped>\n    .dataframe tbody tr th:only-of-type {\n        vertical-align: middle;\n    }\n\n    .dataframe tbody tr th {\n        vertical-align: top;\n    }\n\n    .dataframe thead th {\n        text-align: right;\n    }\n</style>\n<table border=\"1\" class=\"dataframe\">\n  <thead>\n    <tr style=\"text-align: right;\">\n      <th></th>\n      <th>age</th>\n      <th>fnlwgt</th>\n      <th>education-num</th>\n      <th>capital-gain</th>\n      <th>capital-loss</th>\n      <th>hours-per-week</th>\n    </tr>\n  </thead>\n  <tbody>\n    <tr>\n      <th>count</th>\n      <td>32561.00</td>\n      <td>32561.00</td>\n      <td>32561.00</td>\n      <td>32561.00</td>\n      <td>32561.00</td>\n      <td>32561.00</td>\n    </tr>\n    <tr>\n      <th>mean</th>\n      <td>38.58</td>\n      <td>189778.37</td>\n      <td>10.08</td>\n      <td>1077.65</td>\n      <td>87.30</td>\n      <td>40.44</td>\n    </tr>\n    <tr>\n      <th>std</th>\n      <td>13.64</td>\n      <td>105549.98</td>\n      <td>2.57</td>\n      <td>7385.29</td>\n      <td>402.96</td>\n      <td>12.35</td>\n    </tr>\n    <tr>\n      <th>min</th>\n      <td>17.00</td>\n      <td>12285.00</td>\n      <td>1.00</td>\n      <td>0.00</td>\n      <td>0.00</td>\n      <td>1.00</td>\n    </tr>\n    <tr>\n      <th>25%</th>\n      <td>28.00</td>\n      <td>117827.00</td>\n      <td>9.00</td>\n      <td>0.00</td>\n      <td>0.00</td>\n      <td>40.00</td>\n    </tr>\n    <tr>\n      <th>50%</th>\n      <td>37.00</td>\n      <td>178356.00</td>\n      <td>10.00</td>\n      <td>0.00</td>\n      <td>0.00</td>\n      <td>40.00</td>\n    </tr>\n    <tr>\n      <th>75%</th>\n      <td>48.00</td>\n      <td>237051.00</td>\n      <td>12.00</td>\n      <td>0.00</td>\n      <td>0.00</td>\n      <td>45.00</td>\n    </tr>\n    <tr>\n      <th>max</th>\n      <td>90.00</td>\n      <td>1484705.00</td>\n      <td>16.00</td>\n      <td>99999.00</td>\n      <td>4356.00</td>\n      <td>99.00</td>\n    </tr>\n  </tbody>\n</table>\n</div>"
     },
     "execution_count": 186,
     "metadata": {},
     "output_type": "execute_result"
    }
   ],
   "source": [
    "\n",
    "adult.describe()\n"
   ],
   "metadata": {
    "collapsed": false,
    "pycharm": {
     "name": "#%%\n"
    }
   }
  },
  {
   "cell_type": "code",
   "execution_count": 187,
   "outputs": [
    {
     "name": "stdout",
     "output_type": "stream",
     "text": [
      "[ 1  2  3  4  5  6  7  8  9 10 11 12 13 14 15 16 17 18 19 20 21 22 23 24\n",
      " 25 26 27 28 29 30 31 32 33 34 35 36 37 38 39 40 41 42 43 44 45 46 47 48\n",
      " 49 50 51 52 53 54 55 56 57 58 59 60 61 62 63 64 65 66 67 68 70 72 73 74\n",
      " 75 76 77 78 80 81 82 84 85 86 87 88 89 90 91 92 94 95 96 97 98 99]\n",
      "[69, 71, 79, 83, 93]\n",
      "[ 1  2  3  4  5  6  7  8  9 10 11 12 13 14 15 16]\n",
      "[    0   114   401   594   914   991  1055  1086  1111  1151  1173  1409\n",
      "  1424  1455  1471  1506  1639  1797  1831  1848  2009  2036  2050  2062\n",
      "  2105  2174  2176  2202  2228  2290  2329  2346  2354  2387  2407  2414\n",
      "  2463  2538  2580  2597  2635  2653  2829  2885  2907  2936  2961  2964\n",
      "  2977  2993  3103  3137  3273  3325  3411  3418  3432  3456  3464  3471\n",
      "  3674  3781  3818  3887  3908  3942  4064  4101  4386  4416  4508  4650\n",
      "  4687  4787  4865  4931  4934  5013  5060  5178  5455  5556  5721  6097\n",
      "  6360  6418  6497  6514  6723  6767  6849  7298  7430  7443  7688  7896\n",
      "  7978  8614  9386  9562 10520 10566 10605 11678 13550 14084 14344 15020\n",
      " 15024 15831 18481 20051 22040 25124 25236 27828 34095 41310 99999]\n"
     ]
    }
   ],
   "source": [
    "lst = adult[\"hours-per-week\"].unique()\n",
    "lst.sort()\n",
    "print(lst)\n",
    "lst2 = list(range(1, 100))\n",
    "print([x for x in lst2 if x not in lst])\n",
    "# without 69, 71\n",
    "\n",
    "\n",
    "lst = adult[\"education-num\"].unique()\n",
    "lst.sort()\n",
    "print(lst)\n",
    "\n",
    "lst = adult[\"capital-gain\"].unique()\n",
    "lst.sort()\n",
    "print(lst)\n"
   ],
   "metadata": {
    "collapsed": false,
    "pycharm": {
     "name": "#%%\n"
    }
   }
  },
  {
   "cell_type": "code",
   "execution_count": 188,
   "outputs": [],
   "source": [
    "def remove_hours(hours, sam, adult):\n",
    "    print(len(adult))\n",
    "    a1 = adult[adult['hours-per-week'] == hours].sample(sam)\n",
    "    print(len(a1))\n",
    "    adult = adult[~adult.index.isin(a1.index)]\n",
    "    print(len(adult))\n",
    "    return adult\n",
    "\n"
   ],
   "metadata": {
    "collapsed": false,
    "pycharm": {
     "name": "#%%\n"
    }
   }
  },
  {
   "cell_type": "code",
   "execution_count": 189,
   "outputs": [
    {
     "name": "stdout",
     "output_type": "stream",
     "text": [
      "1224\n",
      "1149\n",
      "1297\n",
      "15217\n",
      "1824\n",
      "2819\n",
      "1475\n",
      "404\n",
      "674\n",
      "220\n",
      "476\n",
      "517\n",
      "694\n"
     ]
    }
   ],
   "source": [
    "print(len(adult[adult['hours-per-week'] == 20]))\n",
    "print(len(adult[adult['hours-per-week'] == 30]))\n",
    "print(len(adult[adult['hours-per-week'] == 35]))\n",
    "print(len(adult[adult['hours-per-week'] == 40]))\n",
    "print(len(adult[adult['hours-per-week'] == 45]))\n",
    "print(len(adult[adult['hours-per-week'] == 50]))\n",
    "print(len(adult[adult['hours-per-week'] == 60]))\n",
    "\n",
    "print(len(adult[adult['hours-per-week'] == 15]))\n",
    "print(len(adult[adult['hours-per-week'] == 25]))\n",
    "print(len(adult[adult['hours-per-week'] == 36]))\n",
    "print(len(adult[adult['hours-per-week'] == 38]))\n",
    "print(len(adult[adult['hours-per-week'] == 48]))\n",
    "print(len(adult[adult['hours-per-week'] == 55]))\n",
    "\n"
   ],
   "metadata": {
    "collapsed": false,
    "pycharm": {
     "name": "#%%\n"
    }
   }
  },
  {
   "cell_type": "code",
   "execution_count": 190,
   "outputs": [
    {
     "name": "stdout",
     "output_type": "stream",
     "text": [
      "32561\n",
      "100\n",
      "32461\n",
      "32461\n",
      "100\n",
      "32361\n",
      "32361\n",
      "100\n",
      "32261\n",
      "32261\n",
      "161\n",
      "32100\n",
      "32100\n",
      "100\n",
      "32000\n",
      "[ 1  2  3  4  5  6  7  8  9 10 11 12 13 14 15 16 17 18 19 20 21 22 23 24\n",
      " 25 26 27 28 29 30 31 32 33 34 35 36 37 38 39 40 41 42 43 44 45 46 47 48\n",
      " 49 50 51 52 53 54 55 56 57 58 59 60 61 62 63 64 65 66 67 68 70 72 73 74\n",
      " 75 76 77 78 80 81 82 84 85 86 87 88 89 90 91 92 94 95 96 97 98 99]\n",
      "[ 1  2  3  4  5  6  7  8  9 10 11 12 13 14 15 16]\n"
     ]
    }
   ],
   "source": [
    "adult = remove_hours(20, 100, adult)\n",
    "adult = remove_hours(30, 100, adult)\n",
    "adult = remove_hours(35, 100, adult)\n",
    "adult = remove_hours(40, 161, adult)\n",
    "adult = remove_hours(45, 100, adult)\n",
    "\n"
   ],
   "metadata": {
    "collapsed": false,
    "pycharm": {
     "name": "#%%\n"
    }
   }
  },
  {
   "cell_type": "code",
   "execution_count": 192,
   "outputs": [
    {
     "name": "stdout",
     "output_type": "stream",
     "text": [
      "[ 1  2  3  4  5  6  7  8  9 10 11 12 13 14 15 16 17 18 19 20 21 22 23 24\n",
      " 25 26 27 28 29 30 31 32 33 34 35 36 37 38 39 40 41 42 43 44 45 46 47 48\n",
      " 49 50 51 52 53 54 55 56 57 58 59 60 61 62 63 64 65 66 67 68 70 72 73 74\n",
      " 75 76 77 78 80 81 82 84 85 86 87 88 89 90 91 92 94 95 96 97 98 99]\n",
      "[ 1  2  3  4  5  6  7  8  9 10 11 12 13 14 15 16]\n",
      "[    0   114   401   594   914   991  1055  1086  1111  1151  1173  1409\n",
      "  1424  1455  1471  1506  1797  1831  1848  2009  2036  2050  2062  2105\n",
      "  2174  2176  2202  2228  2290  2329  2346  2354  2387  2407  2414  2463\n",
      "  2538  2580  2597  2635  2653  2829  2885  2907  2936  2961  2964  2977\n",
      "  2993  3103  3137  3273  3325  3411  3418  3432  3456  3464  3471  3674\n",
      "  3781  3818  3887  3908  3942  4064  4101  4386  4416  4508  4650  4687\n",
      "  4787  4865  4931  4934  5013  5060  5178  5455  5556  5721  6097  6360\n",
      "  6418  6497  6514  6723  6767  6849  7298  7430  7443  7688  7896  7978\n",
      "  8614  9386  9562 10520 10566 10605 11678 13550 14084 14344 15020 15024\n",
      " 15831 18481 20051 22040 25124 25236 27828 34095 41310 99999]\n"
     ]
    }
   ],
   "source": [
    "lst = adult[\"hours-per-week\"].unique()\n",
    "lst.sort()\n",
    "print(lst)\n",
    "# [69, 71, 79, 83, 93]\n",
    "lst = adult[\"education-num\"].unique()\n",
    "lst.sort()\n",
    "print(lst)\n",
    "\n",
    "\n",
    "lst = adult[\"capital-gain\"].unique()\n",
    "lst.sort()\n",
    "print(lst)"
   ],
   "metadata": {
    "collapsed": false,
    "pycharm": {
     "name": "#%%\n"
    }
   }
  },
  {
   "cell_type": "code",
   "execution_count": 191,
   "outputs": [],
   "source": [
    "\n",
    "adult.to_csv(\"adult_32k.csv\", index=False)\n"
   ],
   "metadata": {
    "collapsed": false,
    "pycharm": {
     "name": "#%%\n"
    }
   }
  },
  {
   "cell_type": "code",
   "execution_count": null,
   "outputs": [],
   "source": [
    "\n",
    "\n"
   ],
   "metadata": {
    "collapsed": false,
    "pycharm": {
     "name": "#%%\n"
    }
   }
  },
  {
   "cell_type": "markdown",
   "source": [
    "# query scale\n"
   ],
   "metadata": {
    "collapsed": false,
    "pycharm": {
     "name": "#%% md\n"
    }
   }
  },
  {
   "cell_type": "code",
   "execution_count": 1,
   "outputs": [
    {
     "ename": "NameError",
     "evalue": "name 'pd' is not defined",
     "output_type": "error",
     "traceback": [
      "\u001B[0;31m---------------------------------------------------------------------------\u001B[0m",
      "\u001B[0;31mNameError\u001B[0m                                 Traceback (most recent call last)",
      "Input \u001B[0;32mIn [1]\u001B[0m, in \u001B[0;36m<cell line: 2>\u001B[0;34m()\u001B[0m\n\u001B[1;32m      1\u001B[0m \u001B[38;5;66;03m# 32k data\u001B[39;00m\n\u001B[0;32m----> 2\u001B[0m adult \u001B[38;5;241m=\u001B[39m \u001B[43mpd\u001B[49m\u001B[38;5;241m.\u001B[39mread_csv(\u001B[38;5;124mr\u001B[39m\u001B[38;5;124m\"\u001B[39m\u001B[38;5;124madult_32k.csv\u001B[39m\u001B[38;5;124m\"\u001B[39m, index_col\u001B[38;5;241m=\u001B[39m\u001B[38;5;28;01mFalse\u001B[39;00m)\n\u001B[1;32m      3\u001B[0m \u001B[38;5;28mprint\u001B[39m(\u001B[38;5;28mlen\u001B[39m(adult))\n\u001B[1;32m      4\u001B[0m adult1 \u001B[38;5;241m=\u001B[39m adult[adult[\u001B[38;5;124m\"\u001B[39m\u001B[38;5;124mhours-per-week\u001B[39m\u001B[38;5;124m\"\u001B[39m] \u001B[38;5;241m>\u001B[39m\u001B[38;5;241m=\u001B[39m \u001B[38;5;241m20\u001B[39m] \u001B[38;5;66;03m# size = 20\u001B[39;00m\n",
      "\u001B[0;31mNameError\u001B[0m: name 'pd' is not defined"
     ]
    }
   ],
   "source": [
    "\n",
    "# 32k data\n",
    "adult = pd.read_csv(r\"adult_32k.csv\", index_col=False)\n",
    "print(len(adult))\n",
    "adult1 = adult[adult[\"hours-per-week\"] >= 20] # size = 20\n",
    "print(len(adult1))\n",
    "adult2 = adult1[adult1[\"education-num\"] >= 5] # size = 5\n",
    "print(len(adult2))\n",
    "adult3 = adult2[adult2[\"capital-gain\"] >= 2329]  # size = 30\n",
    "print(len(adult3))\n",
    "\n",
    "\n",
    "female = adult3[adult3[\"sex\"]==\"Female\"]\n",
    "print(len(female))"
   ],
   "metadata": {
    "collapsed": false,
    "pycharm": {
     "name": "#%%\n"
    }
   }
  },
  {
   "cell_type": "code",
   "execution_count": 244,
   "outputs": [],
   "source": [
    "\n",
    "\n"
   ],
   "metadata": {
    "collapsed": false,
    "pycharm": {
     "name": "#%%\n"
    }
   }
  },
  {
   "cell_type": "code",
   "execution_count": 260,
   "outputs": [
    {
     "name": "stdout",
     "output_type": "stream",
     "text": [
      "========================== provenance search ===================================\n",
      "selected_attributes ['education-num', 'hours-per-week', 'capital-gain']\n",
      "prepare time = 0.0007250308990478516\n",
      "time of test_satisfying_rows = 1.3828277587890625e-05\n",
      "time of get_provenance_relax_only = 2.400442123413086\n",
      "len(data) not satisfying = 2863\n",
      "possible_value_table:\n",
      "     education-num  hours-per-week  capital-gain\n",
      "0            5.00           20.00          2329\n",
      "1            4.00           19.00          2290\n",
      "2            3.00           18.00          2228\n",
      "3            2.00           17.00          2202\n",
      "4            1.00           16.00          2176\n",
      "5             NaN           15.00          2174\n",
      "6             NaN           14.00          2105\n",
      "7             NaN           13.00          2062\n",
      "8             NaN           12.00          2050\n",
      "9             NaN           11.00          2036\n",
      "10            NaN           10.00          2009\n",
      "11            NaN            9.00          1848\n",
      "12            NaN            8.00          1831\n",
      "13            NaN            7.00          1797\n",
      "14            NaN            6.00          1506\n",
      "15            NaN            5.00          1471\n",
      "16            NaN            4.00          1455\n",
      "17            NaN            3.00          1424\n",
      "18            NaN            2.00          1409\n",
      "19            NaN            1.00          1173\n",
      "20            NaN             NaN          1151\n",
      "21            NaN             NaN          1111\n",
      "22            NaN             NaN          1086\n",
      "23            NaN             NaN          1055\n",
      "24            NaN             NaN           991\n",
      "25            NaN             NaN           914\n",
      "26            NaN             NaN           594\n",
      "27            NaN             NaN           401\n",
      "28            NaN             NaN           114\n",
      "29            NaN             NaN             0\n",
      "max_index_PVT: [4, 19, 29]\n",
      "no base refinement here, size of PVT: 4*1\n",
      "no base refinement here, size of PVT: 15*2\n",
      "num of iterations = 21, search space = 231, assign_to_provenance_num = 119\n",
      "provenance time = 4.897676229476929\n",
      "table time = 0.006711006164550781\n",
      "searching time = 3.1471450328826904\n",
      "running time = 8.051534175872803\n",
      "[5.0, 15.0, 2174]\n",
      "[3.0, 16.0, 2174]\n",
      "[5.0, 16.0, 1848]\n",
      "[3.0, 20.0, 2036]\n",
      "[5.0, 17.0, 1173]\n",
      "[5.0, 18.0, 1173]\n",
      "[5.0, 19.0, 1173]\n",
      "[5.0, 20.0, 1173]\n",
      "[1.0, 5.0, 2176]\n",
      "[3.0, 4.0, 2176]\n"
     ]
    }
   ],
   "source": [
    "\n",
    "\n",
    "data_file = r\"adult_32k.csv\"\n",
    "query_file = r\"query1.json\"\n",
    "constraint_file = r\"constraint1.json\"\n",
    "time_limit = 5 * 60\n",
    "\n",
    "print(\"========================== provenance search ===================================\")\n",
    "minimal_refinements1, running_time1, assign_num = \\\n",
    "    ps.FindMinimalRefinement(data_file, query_file, constraint_file, time_limit)\n",
    "\n",
    "print(\"running time = {}\".format(running_time1))\n",
    "print(*minimal_refinements1, sep=\"\\n\")\n",
    "\n",
    "# print(\"========================== lattice traversal ===================================\")\n",
    "#\n",
    "# minimal_refinements2, minimal_added_refinements2, running_time2 = \\\n",
    "#     lt.FindMinimalRefinement(data_file, query_file, constraint_file, time_limit)\n",
    "# print(\"running time = {}\".format(running_time2))\n",
    "# if running_time2 < time_limit:\n",
    "#     print(*minimal_refinements2, sep=\"\\n\")"
   ],
   "metadata": {
    "collapsed": false,
    "pycharm": {
     "name": "#%%\n"
    }
   }
  },
  {
   "cell_type": "markdown",
   "source": [
    "\n",
    "# make a 16k data\n"
   ],
   "metadata": {
    "collapsed": false,
    "pycharm": {
     "name": "#%% md\n"
    }
   }
  },
  {
   "cell_type": "code",
   "execution_count": 246,
   "outputs": [
    {
     "name": "stdout",
     "output_type": "stream",
     "text": [
      "32000\n",
      "9481\n",
      "15056\n"
     ]
    }
   ],
   "source": [
    "adult = pd.read_csv(\"adult_32k.csv\", index_col=False)\n",
    "print(len(adult))\n",
    "\n",
    "\n",
    "print(len(adult[adult['hours-per-week'] >= 41]))\n",
    "print(len(adult[adult['hours-per-week'] == 40]))\n"
   ],
   "metadata": {
    "collapsed": false,
    "pycharm": {
     "name": "#%%\n"
    }
   }
  },
  {
   "cell_type": "code",
   "execution_count": 247,
   "outputs": [],
   "source": [
    "\n",
    "adult = adult[adult[\"hours-per-week\"] <= 40]\n"
   ],
   "metadata": {
    "collapsed": false,
    "pycharm": {
     "name": "#%%\n"
    }
   }
  },
  {
   "cell_type": "code",
   "execution_count": 248,
   "outputs": [
    {
     "name": "stdout",
     "output_type": "stream",
     "text": [
      "22519\n",
      "22519\n",
      "6519\n",
      "16000\n",
      "16000\n"
     ]
    }
   ],
   "source": [
    "print(len(adult))\n",
    "adult = remove_hours(40, 6519, adult)\n",
    "print(len(adult))\n"
   ],
   "metadata": {
    "collapsed": false,
    "pycharm": {
     "name": "#%%\n"
    }
   }
  },
  {
   "cell_type": "code",
   "execution_count": 249,
   "outputs": [],
   "source": [
    "adult.to_csv(\"adult_16k.csv\",index=False)"
   ],
   "metadata": {
    "collapsed": false,
    "pycharm": {
     "name": "#%%\n"
    }
   }
  },
  {
   "cell_type": "code",
   "execution_count": 250,
   "outputs": [
    {
     "name": "stdout",
     "output_type": "stream",
     "text": [
      "[ 1  2  3  4  5  6  7  8  9 10 11 12 13 14 15 16 17 18 19 20 21 22 23 24\n",
      " 25 26 27 28 29 30 31 32 33 34 35 36 37 38 39 40]\n",
      "[ 1  2  3  4  5  6  7  8  9 10 11 12 13 14 15 16]\n",
      "[    0   114   401   594   914   991  1055  1086  1111  1151  1173  1409\n",
      "  1424  1455  1471  1506  1797  1831  1848  2009  2036  2050  2062  2105\n",
      "  2174  2176  2202  2228  2290  2329  2346  2354  2387  2407  2414  2463\n",
      "  2580  2597  2635  2653  2829  2885  2907  2936  2961  2964  2977  2993\n",
      "  3103  3137  3273  3325  3411  3418  3432  3456  3464  3471  3674  3781\n",
      "  3818  3887  3908  3942  4064  4101  4386  4416  4508  4650  4687  4787\n",
      "  4865  4931  4934  5013  5060  5178  5455  5556  5721  6097  6360  6418\n",
      "  6497  6514  6723  6767  6849  7298  7430  7443  7688  7978  8614  9386\n",
      " 10520 10566 10605 13550 14084 14344 15020 15024 15831 18481 20051 22040\n",
      " 25124 25236 27828 34095 41310 99999]\n"
     ]
    }
   ],
   "source": [
    "lst = adult[\"hours-per-week\"].unique()\n",
    "lst.sort()\n",
    "print(lst)\n",
    "# [69, 71, 79, 83, 93]\n",
    "lst = adult[\"education-num\"].unique()\n",
    "lst.sort()\n",
    "print(lst)\n",
    "\n",
    "\n",
    "lst = adult[\"capital-gain\"].unique()\n",
    "lst.sort()\n",
    "print(lst)\n",
    "\n"
   ],
   "metadata": {
    "collapsed": false,
    "pycharm": {
     "name": "#%%\n"
    }
   }
  },
  {
   "cell_type": "code",
   "execution_count": 4,
   "outputs": [
    {
     "name": "stdout",
     "output_type": "stream",
     "text": [
      "16000\n",
      "14296\n",
      "13689\n",
      "791\n",
      "235\n"
     ]
    }
   ],
   "source": [
    "\n",
    "# 16k data\n",
    "adult = pd.read_csv(r\"adult_16k.csv\", index_col=False)\n",
    "print(len(adult))\n",
    "adult1 = adult[adult[\"hours-per-week\"] >= 20] # size = 20\n",
    "print(len(adult1))\n",
    "adult2 = adult1[adult1[\"education-num\"] >= 5] # size = 5\n",
    "print(len(adult2))\n",
    "adult3 = adult2[adult2[\"capital-gain\"] >= 2329]  # size = 30\n",
    "print(len(adult3))\n",
    "\n",
    "female = adult3[adult3[\"sex\"]==\"Female\"]\n",
    "print(len(female))"
   ],
   "metadata": {
    "collapsed": false,
    "pycharm": {
     "name": "#%%\n"
    }
   }
  },
  {
   "cell_type": "code",
   "execution_count": 261,
   "outputs": [
    {
     "name": "stdout",
     "output_type": "stream",
     "text": [
      "========================== provenance search ===================================\n",
      "selected_attributes ['education-num', 'hours-per-week', 'capital-gain']\n",
      "prepare time = 0.0023288726806640625\n",
      "time of test_satisfying_rows = 2.1457672119140625e-06\n",
      "time of get_provenance_relax_only = 1.1472177505493164\n",
      "len(data) not satisfying = 1456\n",
      "possible_value_table:\n",
      "     education-num  hours-per-week  capital-gain\n",
      "0            5.00           20.00          2329\n",
      "1            4.00           19.00          2290\n",
      "2            3.00           18.00          2228\n",
      "3            2.00           17.00          2202\n",
      "4            1.00           16.00          2176\n",
      "5             NaN           15.00          2174\n",
      "6             NaN           14.00          2105\n",
      "7             NaN           13.00          2062\n",
      "8             NaN           12.00          2050\n",
      "9             NaN           11.00          2036\n",
      "10            NaN           10.00          2009\n",
      "11            NaN            9.00          1848\n",
      "12            NaN            8.00          1831\n",
      "13            NaN            7.00          1797\n",
      "14            NaN            6.00          1506\n",
      "15            NaN            5.00          1471\n",
      "16            NaN            4.00          1455\n",
      "17            NaN            3.00          1424\n",
      "18            NaN            2.00          1409\n",
      "19            NaN            1.00          1173\n",
      "20            NaN             NaN          1151\n",
      "21            NaN             NaN          1111\n",
      "22            NaN             NaN          1086\n",
      "23            NaN             NaN          1055\n",
      "24            NaN             NaN           991\n",
      "25            NaN             NaN           914\n",
      "26            NaN             NaN           594\n",
      "27            NaN             NaN           401\n",
      "28            NaN             NaN           114\n",
      "29            NaN             NaN             0\n",
      "max_index_PVT: [4, 19, 29]\n",
      "num of iterations = 39, search space = 319, assign_to_provenance_num = 163\n",
      "provenance time = 2.459573984146118\n",
      "table time = 0.008187294006347656\n",
      "searching time = 2.8014636039733887\n",
      "running time = 5.269225835800171\n",
      "[5.0, 16.0, 2174]\n",
      "[1.0, 20.0, 2036]\n",
      "[5.0, 18.0, 1173]\n",
      "[5.0, 19.0, 1173]\n",
      "[5.0, 20.0, 1173]\n",
      "[5.0, 12.0, 2176]\n",
      "[4.0, 8.0, 2202]\n",
      "[5.0, 6.0, 2202]\n",
      "[1.0, 6.0, 2329]\n",
      "[4.0, 5.0, 2228]\n",
      "[5.0, 4.0, 2228]\n",
      "[4.0, 5.0, 2290]\n",
      "[5.0, 4.0, 2290]\n",
      "[4.0, 5.0, 2329]\n",
      "[5.0, 4.0, 2329]\n"
     ]
    }
   ],
   "source": [
    "\n",
    "data_file = r\"adult_16k.csv\"\n",
    "query_file = r\"query2.json\"\n",
    "constraint_file = r\"constraint2.json\"\n",
    "time_limit = 5 * 60\n",
    "\n",
    "print(\"========================== provenance search ===================================\")\n",
    "minimal_refinements1, running_time1, assign_num = \\\n",
    "    ps.FindMinimalRefinement(data_file, query_file, constraint_file, time_limit)\n",
    "\n",
    "print(\"running time = {}\".format(running_time1))\n",
    "print(*minimal_refinements1, sep=\"\\n\")\n"
   ],
   "metadata": {
    "collapsed": false,
    "pycharm": {
     "name": "#%%\n"
    }
   }
  },
  {
   "cell_type": "markdown",
   "source": [
    "\n",
    "# 8k data\n"
   ],
   "metadata": {
    "collapsed": false,
    "pycharm": {
     "name": "#%% md\n"
    }
   }
  },
  {
   "cell_type": "code",
   "execution_count": 233,
   "outputs": [
    {
     "name": "stdout",
     "output_type": "stream",
     "text": [
      "16000\n",
      "0\n",
      "8537\n"
     ]
    }
   ],
   "source": [
    "adult = pd.read_csv(\"adult_16k.csv\", index_col=False)\n",
    "print(len(adult))\n",
    "\n",
    "\n",
    "print(len(adult[adult['hours-per-week'] >= 41]))\n",
    "print(len(adult[adult['hours-per-week'] == 40]))\n"
   ],
   "metadata": {
    "collapsed": false,
    "pycharm": {
     "name": "#%%\n"
    }
   }
  },
  {
   "cell_type": "code",
   "execution_count": 234,
   "outputs": [
    {
     "name": "stdout",
     "output_type": "stream",
     "text": [
      "1049\n",
      "1197\n",
      "8537\n",
      "404\n",
      "674\n",
      "220\n",
      "476\n"
     ]
    }
   ],
   "source": [
    "print(len(adult[adult['hours-per-week'] == 30]))\n",
    "print(len(adult[adult['hours-per-week'] == 35]))\n",
    "print(len(adult[adult['hours-per-week'] == 40]))\n",
    "\n",
    "print(len(adult[adult['hours-per-week'] == 15]))\n",
    "print(len(adult[adult['hours-per-week'] == 25]))\n",
    "print(len(adult[adult['hours-per-week'] == 36]))\n",
    "print(len(adult[adult['hours-per-week'] == 38]))"
   ],
   "metadata": {
    "collapsed": false,
    "pycharm": {
     "name": "#%%\n"
    }
   }
  },
  {
   "cell_type": "code",
   "execution_count": 235,
   "outputs": [
    {
     "name": "stdout",
     "output_type": "stream",
     "text": [
      "16000\n",
      "16000\n",
      "7000\n",
      "9000\n",
      "9000\n",
      "9000\n",
      "500\n",
      "8500\n",
      "8500\n",
      "8500\n",
      "500\n",
      "8000\n",
      "8000\n"
     ]
    }
   ],
   "source": [
    "print(len(adult))\n",
    "adult = remove_hours(40, 7000, adult)\n",
    "print(len(adult))\n",
    "adult = remove_hours(30, 500, adult)\n",
    "print(len(adult))\n",
    "adult = remove_hours(35, 500, adult)\n",
    "print(len(adult))"
   ],
   "metadata": {
    "collapsed": false,
    "pycharm": {
     "name": "#%%\n"
    }
   }
  },
  {
   "cell_type": "code",
   "execution_count": 236,
   "outputs": [],
   "source": [
    "adult.to_csv(\"adult_8k.csv\", index=False)"
   ],
   "metadata": {
    "collapsed": false,
    "pycharm": {
     "name": "#%%\n"
    }
   }
  },
  {
   "cell_type": "code",
   "execution_count": 237,
   "outputs": [
    {
     "name": "stdout",
     "output_type": "stream",
     "text": [
      "[ 1  2  3  4  5  6  7  8  9 10 11 12 13 14 15 16 17 18 19 20 21 22 23 24\n",
      " 25 26 27 28 29 30 31 32 33 34 35 36 37 38 39 40]\n",
      "[ 1  2  3  4  5  6  7  8  9 10 11 12 13 14 15 16]\n",
      "[    0   114   401   594   914   991  1055  1086  1111  1151  1409  1424\n",
      "  1455  1471  1506  1797  1831  1848  2036  2050  2062  2105  2174  2176\n",
      "  2202  2228  2290  2329  2346  2354  2414  2463  2580  2597  2635  2653\n",
      "  2829  2885  2907  2936  2961  2964  2977  2993  3103  3137  3273  3325\n",
      "  3411  3418  3432  3456  3464  3471  3674  3781  3818  3887  3908  3942\n",
      "  4064  4101  4386  4416  4508  4650  4787  4865  4931  4934  5013  5178\n",
      "  5455  5556  6360  6418  6497  6514  6723  6767  6849  7298  7430  7443\n",
      "  7688  8614  9386 10520 10566 10605 13550 14084 15024 15831 18481 20051\n",
      " 22040 25124 25236 27828 34095 41310 99999]\n"
     ]
    }
   ],
   "source": [
    "lst = adult[\"hours-per-week\"].unique()\n",
    "lst.sort()\n",
    "print(lst)\n",
    "# [69, 71, 79, 83, 93]\n",
    "lst = adult[\"education-num\"].unique()\n",
    "lst.sort()\n",
    "print(lst)\n",
    "\n",
    "\n",
    "lst = adult[\"capital-gain\"].unique()\n",
    "lst.sort()\n",
    "print(lst)\n"
   ],
   "metadata": {
    "collapsed": false,
    "pycharm": {
     "name": "#%%\n"
    }
   }
  },
  {
   "cell_type": "code",
   "execution_count": 253,
   "outputs": [
    {
     "name": "stdout",
     "output_type": "stream",
     "text": [
      "8000\n",
      "6296\n",
      "6033\n",
      "299\n",
      "120\n"
     ]
    },
    {
     "name": "stderr",
     "output_type": "stream",
     "text": [
      "/var/folders/y1/vnpd8xm133v6hdbz8zf5wzsc0000gn/T/ipykernel_65792/3714373379.py:11: UserWarning: Boolean Series key will be reindexed to match DataFrame index.\n",
      "  female = adult3[adult[\"sex\"]==\"Female\"]\n"
     ]
    }
   ],
   "source": [
    "\n",
    "# 8k data\n",
    "adult = pd.read_csv(r\"adult_8k.csv\", index_col=False)\n",
    "print(len(adult))\n",
    "adult1 = adult[adult[\"hours-per-week\"] >= 20] # size = 20\n",
    "print(len(adult1))\n",
    "adult2 = adult1[adult1[\"education-num\"] >= 5] # size = 5\n",
    "print(len(adult2))\n",
    "adult3 = adult2[adult2[\"capital-gain\"] >= 2354]  # size = 30\n",
    "print(len(adult3))\n",
    "\n",
    "female = adult3[adult[\"sex\"]==\"Female\"]\n",
    "print(len(female))\n"
   ],
   "metadata": {
    "collapsed": false,
    "pycharm": {
     "name": "#%%\n"
    }
   }
  },
  {
   "cell_type": "code",
   "execution_count": 262,
   "outputs": [
    {
     "name": "stdout",
     "output_type": "stream",
     "text": [
      "========================== provenance search ===================================\n",
      "selected_attributes ['education-num', 'hours-per-week', 'capital-gain']\n",
      "prepare time = 0.0007760524749755859\n",
      "time of test_satisfying_rows = 0.0\n",
      "time of get_provenance_relax_only = 0.8993031978607178\n",
      "len(data) not satisfying = 1161\n",
      "possible_value_table:\n",
      "     education-num  hours-per-week  capital-gain\n",
      "0            5.00           20.00          2354\n",
      "1            4.00           19.00          2346\n",
      "2            3.00           18.00          2329\n",
      "3            2.00           17.00          2290\n",
      "4            1.00           16.00          2228\n",
      "5             NaN           15.00          2202\n",
      "6             NaN           14.00          2176\n",
      "7             NaN           13.00          2174\n",
      "8             NaN           12.00          2105\n",
      "9             NaN           11.00          2062\n",
      "10            NaN           10.00          2050\n",
      "11            NaN            9.00          2036\n",
      "12            NaN            8.00          1848\n",
      "13            NaN            7.00          1831\n",
      "14            NaN            6.00          1797\n",
      "15            NaN            5.00          1506\n",
      "16            NaN            4.00          1471\n",
      "17            NaN            3.00          1455\n",
      "18            NaN            2.00          1424\n",
      "19            NaN            1.00          1409\n",
      "20            NaN             NaN          1151\n",
      "21            NaN             NaN          1111\n",
      "22            NaN             NaN          1086\n",
      "23            NaN             NaN          1055\n",
      "24            NaN             NaN           991\n",
      "25            NaN             NaN           914\n",
      "26            NaN             NaN           594\n",
      "27            NaN             NaN           401\n",
      "28            NaN             NaN           114\n",
      "29            NaN             NaN             0\n",
      "max_index_PVT: [4, 19, 29]\n",
      "num of iterations = 5, search space = 28, assign_to_provenance_num = 54\n",
      "provenance time = 1.3341310024261475\n",
      "table time = 0.007040977478027344\n",
      "searching time = 0.909588098526001\n",
      "running time = 2.250761032104492\n",
      "[5.0, 16.0, 2354]\n",
      "[5.0, 20.0, 2176]\n"
     ]
    }
   ],
   "source": [
    "\n",
    "data_file = r\"adult_8k.csv\"\n",
    "query_file = r\"query3.json\"\n",
    "constraint_file = r\"constraint3.json\"\n",
    "time_limit = 5 * 60\n",
    "\n",
    "print(\"========================== provenance search ===================================\")\n",
    "minimal_refinements1, running_time1, assign_num = \\\n",
    "    ps.FindMinimalRefinement(data_file, query_file, constraint_file, time_limit)\n",
    "\n",
    "print(\"running time = {}\".format(running_time1))\n",
    "print(*minimal_refinements1, sep=\"\\n\")\n",
    "\n"
   ],
   "metadata": {
    "collapsed": false,
    "pycharm": {
     "name": "#%%\n"
    }
   }
  },
  {
   "cell_type": "markdown",
   "source": [
    "\n",
    "# 4k data\n"
   ],
   "metadata": {
    "collapsed": false,
    "pycharm": {
     "name": "#%% md\n"
    }
   }
  },
  {
   "cell_type": "code",
   "execution_count": 263,
   "outputs": [
    {
     "name": "stdout",
     "output_type": "stream",
     "text": [
      "8000\n",
      "0\n",
      "1537\n"
     ]
    }
   ],
   "source": [
    "adult = pd.read_csv(\"adult_8k.csv\", index_col=False)\n",
    "print(len(adult))\n",
    "\n",
    "\n",
    "print(len(adult[adult['hours-per-week'] >= 41]))\n",
    "print(len(adult[adult['hours-per-week'] == 40]))\n"
   ],
   "metadata": {
    "collapsed": false,
    "pycharm": {
     "name": "#%%\n"
    }
   }
  },
  {
   "cell_type": "code",
   "execution_count": 265,
   "outputs": [
    {
     "name": "stdout",
     "output_type": "stream",
     "text": [
      "549\n",
      "697\n",
      "404\n",
      "674\n",
      "220\n",
      "476\n"
     ]
    }
   ],
   "source": [
    "print(len(adult[adult['hours-per-week'] == 30]))\n",
    "print(len(adult[adult['hours-per-week'] == 35]))\n",
    "\n",
    "print(len(adult[adult['hours-per-week'] == 15]))\n",
    "print(len(adult[adult['hours-per-week'] == 25]))\n",
    "print(len(adult[adult['hours-per-week'] == 36]))\n",
    "print(len(adult[adult['hours-per-week'] == 38]))"
   ],
   "metadata": {
    "collapsed": false,
    "pycharm": {
     "name": "#%%\n"
    }
   }
  },
  {
   "cell_type": "code",
   "execution_count": 266,
   "outputs": [
    {
     "name": "stdout",
     "output_type": "stream",
     "text": [
      "8000\n",
      "8000\n",
      "1000\n",
      "7000\n",
      "7000\n",
      "7000\n",
      "500\n",
      "6500\n",
      "6500\n",
      "6500\n",
      "500\n",
      "6000\n",
      "6000\n"
     ]
    }
   ],
   "source": [
    "print(len(adult))\n",
    "adult = remove_hours(40, 1000, adult)\n",
    "print(len(adult))\n",
    "adult = remove_hours(35, 500, adult)\n",
    "print(len(adult))\n",
    "adult = remove_hours(25, 500, adult)\n",
    "print(len(adult))"
   ],
   "metadata": {
    "collapsed": false,
    "pycharm": {
     "name": "#%%\n"
    }
   }
  },
  {
   "cell_type": "code",
   "execution_count": 268,
   "outputs": [
    {
     "name": "stdout",
     "output_type": "stream",
     "text": [
      "549\n",
      "404\n",
      "476\n",
      "197\n",
      "174\n",
      "220\n"
     ]
    }
   ],
   "source": [
    "print(len(adult[adult['hours-per-week'] == 30]))\n",
    "print(len(adult[adult['hours-per-week'] == 15]))\n",
    "print(len(adult[adult['hours-per-week'] == 38]))\n",
    "\n",
    "print(len(adult[adult['hours-per-week'] == 35]))\n",
    "print(len(adult[adult['hours-per-week'] == 25]))\n",
    "print(len(adult[adult['hours-per-week'] == 36]))\n"
   ],
   "metadata": {
    "collapsed": false,
    "pycharm": {
     "name": "#%%\n"
    }
   }
  },
  {
   "cell_type": "code",
   "execution_count": 269,
   "outputs": [
    {
     "name": "stdout",
     "output_type": "stream",
     "text": [
      "6000\n",
      "6000\n",
      "400\n",
      "5600\n",
      "5600\n",
      "5600\n",
      "300\n",
      "5300\n",
      "5300\n",
      "5300\n",
      "300\n",
      "5000\n",
      "5000\n"
     ]
    }
   ],
   "source": [
    "print(len(adult))\n",
    "adult = remove_hours(30, 400, adult)\n",
    "print(len(adult))\n",
    "adult = remove_hours(15, 300, adult)\n",
    "print(len(adult))\n",
    "adult = remove_hours(38, 300, adult)\n",
    "print(len(adult))"
   ],
   "metadata": {
    "collapsed": false,
    "pycharm": {
     "name": "#%%\n"
    }
   }
  },
  {
   "cell_type": "code",
   "execution_count": 272,
   "outputs": [
    {
     "name": "stdout",
     "output_type": "stream",
     "text": [
      "149\n",
      "104\n",
      "176\n",
      "197\n",
      "174\n",
      "220\n",
      "8 145\n",
      "10 278\n",
      "12 173\n",
      "15 104\n",
      "16 205\n",
      "20 1124\n",
      "24 252\n",
      "25 174\n",
      "30 149\n",
      "32 266\n",
      "35 197\n",
      "36 220\n",
      "37 149\n",
      "38 176\n",
      "1124\n"
     ]
    }
   ],
   "source": [
    "print(len(adult[adult['hours-per-week'] == 30]))\n",
    "print(len(adult[adult['hours-per-week'] == 15]))\n",
    "print(len(adult[adult['hours-per-week'] == 38]))\n",
    "\n",
    "print(len(adult[adult['hours-per-week'] == 35]))\n",
    "print(len(adult[adult['hours-per-week'] == 25]))\n",
    "print(len(adult[adult['hours-per-week'] == 36]))\n",
    "\n",
    "for i in range(1, 40):\n",
    "    if len(adult[adult['hours-per-week'] == i]) > 100:\n",
    "        print(i, len(adult[adult['hours-per-week'] == i]))\n",
    "\n",
    "print(len(adult[adult['hours-per-week'] == 20]))\n"
   ],
   "metadata": {
    "collapsed": false,
    "pycharm": {
     "name": "#%%\n"
    }
   }
  },
  {
   "cell_type": "code",
   "execution_count": 273,
   "outputs": [
    {
     "name": "stdout",
     "output_type": "stream",
     "text": [
      "5000\n",
      "5000\n",
      "1000\n",
      "4000\n",
      "4000\n"
     ]
    }
   ],
   "source": [
    "print(len(adult))\n",
    "adult = remove_hours(20, 1000, adult)\n",
    "print(len(adult))"
   ],
   "metadata": {
    "collapsed": false,
    "pycharm": {
     "name": "#%%\n"
    }
   }
  },
  {
   "cell_type": "code",
   "execution_count": 274,
   "outputs": [],
   "source": [
    "adult.to_csv(\"adult_4k.csv\", index=False)"
   ],
   "metadata": {
    "collapsed": false,
    "pycharm": {
     "name": "#%%\n"
    }
   }
  },
  {
   "cell_type": "code",
   "execution_count": 296,
   "outputs": [
    {
     "name": "stdout",
     "output_type": "stream",
     "text": [
      "[ 1  2  3  4  5  6  7  8  9 10 11 12 13 14 15 16 17 18 19 20 21 22 23 24\n",
      " 25 26 27 28 29 30 31 32 33 34 35 36]\n",
      "[ 1  2  3  4  5  6  7  8  9 10 11 12 13 14 15 16]\n",
      "[    0   401   594   991  1055  1409  1424  1455  1797  1848  2062  2176\n",
      "  2202  2228  2329  2354  2414  2597  2635  2653  2829  2936  2964  3137\n",
      "  3325  3411  3418  3456  3464  3781  3818  3908  4064  4101  4386  4650\n",
      "  4931  5013  5178  5556  6418  6497  6514  6723  6767  7298  7688  9386\n",
      " 10520 10605 13550 15024 15831 18481 20051 34095 99999]\n"
     ]
    }
   ],
   "source": [
    "lst = adult[\"hours-per-week\"].unique()\n",
    "lst.sort()\n",
    "print(lst)\n",
    "# [69, 71, 79, 83, 93]\n",
    "lst = adult[\"education-num\"].unique()\n",
    "lst.sort()\n",
    "print(lst)\n",
    "\n",
    "\n",
    "lst = adult[\"capital-gain\"].unique()\n",
    "lst.sort()\n",
    "print(lst)\n"
   ],
   "metadata": {
    "collapsed": false,
    "pycharm": {
     "name": "#%%\n"
    }
   }
  },
  {
   "cell_type": "code",
   "execution_count": 277,
   "outputs": [
    {
     "name": "stdout",
     "output_type": "stream",
     "text": [
      "4000\n",
      "2596\n",
      "2478\n",
      "124\n",
      "60\n"
     ]
    },
    {
     "name": "stderr",
     "output_type": "stream",
     "text": [
      "/var/folders/y1/vnpd8xm133v6hdbz8zf5wzsc0000gn/T/ipykernel_65792/3130577479.py:11: UserWarning: Boolean Series key will be reindexed to match DataFrame index.\n",
      "  female = adult3[adult[\"sex\"]==\"Female\"]\n"
     ]
    }
   ],
   "source": [
    "\n",
    "# 8k data\n",
    "adult = pd.read_csv(r\"adult_4k.csv\", index_col=False)\n",
    "print(len(adult))\n",
    "adult1 = adult[adult[\"hours-per-week\"] >= 20] # size = 20\n",
    "print(len(adult1))\n",
    "adult2 = adult1[adult1[\"education-num\"] >= 5] # size = 5\n",
    "print(len(adult2))\n",
    "adult3 = adult2[adult2[\"capital-gain\"] >= 2936]  # size = 30\n",
    "print(len(adult3))\n",
    "\n",
    "female = adult3[adult[\"sex\"]==\"Female\"]\n",
    "print(len(female))\n"
   ],
   "metadata": {
    "collapsed": false,
    "pycharm": {
     "name": "#%%\n"
    }
   }
  },
  {
   "cell_type": "code",
   "execution_count": 278,
   "outputs": [
    {
     "name": "stdout",
     "output_type": "stream",
     "text": [
      "========================== provenance search ===================================\n",
      "selected_attributes ['education-num', 'hours-per-week', 'capital-gain']\n",
      "prepare time = 0.0015909671783447266\n",
      "time of test_satisfying_rows = 0.0005481243133544922\n",
      "time of get_provenance_relax_only = 0.5401690006256104\n",
      "len(data) not satisfying = 924\n",
      "possible_value_table:\n",
      "     education-num  hours-per-week  capital-gain\n",
      "0            5.00           20.00          2936\n",
      "1            4.00           19.00          2885\n",
      "2            3.00           18.00          2829\n",
      "3            2.00           17.00          2653\n",
      "4            1.00           16.00          2635\n",
      "5             NaN           15.00          2597\n",
      "6             NaN           14.00          2463\n",
      "7             NaN           13.00          2414\n",
      "8             NaN           12.00          2354\n",
      "9             NaN           11.00          2329\n",
      "10            NaN           10.00          2290\n",
      "11            NaN            9.00          2228\n",
      "12            NaN            8.00          2202\n",
      "13            NaN            7.00          2176\n",
      "14            NaN            6.00          2174\n",
      "15            NaN            5.00          2062\n",
      "16            NaN            4.00          2050\n",
      "17            NaN            3.00          1848\n",
      "18            NaN            2.00          1797\n",
      "19            NaN            1.00          1506\n",
      "20            NaN             NaN          1471\n",
      "21            NaN             NaN          1455\n",
      "22            NaN             NaN          1424\n",
      "23            NaN             NaN          1409\n",
      "24            NaN             NaN          1055\n",
      "25            NaN             NaN           991\n",
      "26            NaN             NaN           914\n",
      "27            NaN             NaN           594\n",
      "28            NaN             NaN           401\n",
      "29            NaN             NaN             0\n",
      "max_index_PVT: [4, 19, 29]\n",
      "num of iterations = 5, search space = 40, assign_to_provenance_num = 55\n",
      "provenance time = 0.7821061611175537\n",
      "table time = 0.008177042007446289\n",
      "searching time = 0.8004090785980225\n",
      "running time = 1.5906941890716553\n",
      "[5.0, 16.0, 2936]\n",
      "[5.0, 20.0, 2329]\n"
     ]
    }
   ],
   "source": [
    "\n",
    "data_file = r\"adult_4k.csv\"\n",
    "query_file = r\"query4.json\"\n",
    "constraint_file = r\"constraint4.json\"\n",
    "time_limit = 5 * 60\n",
    "\n",
    "print(\"========================== provenance search ===================================\")\n",
    "minimal_refinements1, running_time1, assign_num = \\\n",
    "    ps.FindMinimalRefinement(data_file, query_file, constraint_file, time_limit)\n",
    "\n",
    "print(\"running time = {}\".format(running_time1))\n",
    "print(*minimal_refinements1, sep=\"\\n\")\n",
    "\n"
   ],
   "metadata": {
    "collapsed": false,
    "pycharm": {
     "name": "#%%\n"
    }
   }
  },
  {
   "cell_type": "markdown",
   "source": [
    "\n",
    "# 2k data"
   ],
   "metadata": {
    "collapsed": false,
    "pycharm": {
     "name": "#%% md\n"
    }
   }
  },
  {
   "cell_type": "code",
   "execution_count": 282,
   "outputs": [
    {
     "name": "stdout",
     "output_type": "stream",
     "text": [
      "4000\n",
      "10 278\n",
      "4000\n",
      "4000\n",
      "150\n",
      "3850\n",
      "3850\n",
      "16 205\n",
      "3850\n",
      "3850\n",
      "150\n",
      "3700\n",
      "3700\n",
      "24 252\n",
      "3700\n",
      "3700\n",
      "150\n",
      "3550\n",
      "3550\n",
      "32 266\n",
      "3550\n",
      "3550\n",
      "150\n",
      "3400\n",
      "3400\n",
      "36 220\n",
      "3400\n",
      "3400\n",
      "150\n",
      "3250\n",
      "3250\n"
     ]
    }
   ],
   "source": [
    "adult = pd.read_csv(\"adult_4k.csv\", index_col=False)\n",
    "print(len(adult))\n",
    "\n",
    "for i in range(1, 40):\n",
    "    if len(adult[adult['hours-per-week'] == i]) > 200:\n",
    "        print(i, len(adult[adult['hours-per-week'] == i]))\n",
    "        print(len(adult))\n",
    "        adult = remove_hours(i, 150, adult)\n",
    "        print(len(adult))\n"
   ],
   "metadata": {
    "collapsed": false,
    "pycharm": {
     "name": "#%%\n"
    }
   }
  },
  {
   "cell_type": "code",
   "execution_count": 285,
   "outputs": [
    {
     "name": "stdout",
     "output_type": "stream",
     "text": [
      "12 173\n",
      "3250\n",
      "3250\n",
      "100\n",
      "3150\n",
      "3150\n",
      "25 174\n",
      "3150\n",
      "3150\n",
      "100\n",
      "3050\n",
      "3050\n",
      "35 197\n",
      "3050\n",
      "3050\n",
      "100\n",
      "2950\n",
      "2950\n",
      "38 176\n",
      "2950\n",
      "2950\n",
      "100\n",
      "2850\n",
      "2850\n"
     ]
    }
   ],
   "source": [
    "for i in range(1, 40):\n",
    "    if len(adult[adult['hours-per-week'] == i]) > 150:\n",
    "        print(i, len(adult[adult['hours-per-week'] == i]))\n",
    "        print(len(adult))\n",
    "        adult = remove_hours(i, 100, adult)\n",
    "        print(len(adult))"
   ],
   "metadata": {
    "collapsed": false,
    "pycharm": {
     "name": "#%%\n"
    }
   }
  },
  {
   "cell_type": "code",
   "execution_count": 291,
   "outputs": [
    {
     "name": "stdout",
     "output_type": "stream",
     "text": [
      "537\n",
      "38\n",
      "76\n",
      "149\n",
      "2050\n"
     ]
    }
   ],
   "source": [
    "print(len(adult[adult[\"hours-per-week\"] == 40]))\n",
    "print(len(adult[adult[\"hours-per-week\"] == 39]))\n",
    "print(len(adult[adult[\"hours-per-week\"] == 38]))\n",
    "print(len(adult[adult[\"hours-per-week\"] == 37]))\n",
    "adult = adult[adult[\"hours-per-week\"] < 37]\n",
    "print(len(adult))"
   ],
   "metadata": {
    "collapsed": false,
    "pycharm": {
     "name": "#%%\n"
    }
   }
  },
  {
   "cell_type": "code",
   "execution_count": 294,
   "outputs": [
    {
     "name": "stdout",
     "output_type": "stream",
     "text": [
      "70\n",
      "2050\n",
      "50\n",
      "2000\n",
      "2000\n"
     ]
    }
   ],
   "source": [
    "print(len(adult[adult[\"hours-per-week\"] == 36]))\n",
    "adult = remove_hours(36, 50, adult)\n",
    "print(len(adult))\n"
   ],
   "metadata": {
    "collapsed": false,
    "pycharm": {
     "name": "#%%\n"
    }
   }
  },
  {
   "cell_type": "code",
   "execution_count": 295,
   "outputs": [],
   "source": [
    "\n",
    "adult.to_csv(\"adult_2k.csv\", index=False)\n"
   ],
   "metadata": {
    "collapsed": false,
    "pycharm": {
     "name": "#%%\n"
    }
   }
  },
  {
   "cell_type": "code",
   "execution_count": 297,
   "outputs": [
    {
     "name": "stdout",
     "output_type": "stream",
     "text": [
      "[ 1  2  3  4  5  6  7  8  9 10 11 12 13 14 15 16 17 18 19 20 21 22 23 24\n",
      " 25 26 27 28 29 30 31 32 33 34 35 36]\n",
      "[ 1  2  3  4  5  6  7  8  9 10 11 12 13 14 15 16]\n",
      "[    0   401   594   991  1055  1409  1424  1455  1797  1848  2062  2176\n",
      "  2202  2228  2329  2354  2414  2597  2635  2653  2829  2936  2964  3137\n",
      "  3325  3411  3418  3456  3464  3781  3818  3908  4064  4101  4386  4650\n",
      "  4931  5013  5178  5556  6418  6497  6514  6723  6767  7298  7688  9386\n",
      " 10520 10605 13550 15024 15831 18481 20051 34095 99999]\n"
     ]
    }
   ],
   "source": [
    "\n",
    "lst = adult[\"hours-per-week\"].unique()\n",
    "lst.sort()\n",
    "print(lst)\n",
    "# [69, 71, 79, 83, 93]\n",
    "lst = adult[\"education-num\"].unique()\n",
    "lst.sort()\n",
    "print(lst)\n",
    "\n",
    "\n",
    "lst = adult[\"capital-gain\"].unique()\n",
    "lst.sort()\n",
    "print(lst)\n",
    "\n"
   ],
   "metadata": {
    "collapsed": false,
    "pycharm": {
     "name": "#%%\n"
    }
   }
  },
  {
   "cell_type": "code",
   "execution_count": 298,
   "outputs": [
    {
     "name": "stdout",
     "output_type": "stream",
     "text": [
      "2000\n",
      "996\n",
      "963\n",
      "34\n",
      "23\n"
     ]
    },
    {
     "name": "stderr",
     "output_type": "stream",
     "text": [
      "/var/folders/y1/vnpd8xm133v6hdbz8zf5wzsc0000gn/T/ipykernel_65792/3615218563.py:11: UserWarning: Boolean Series key will be reindexed to match DataFrame index.\n",
      "  female = adult3[adult[\"sex\"]==\"Female\"]\n"
     ]
    }
   ],
   "source": [
    "\n",
    "# 8k data\n",
    "adult = pd.read_csv(r\"adult_2k.csv\", index_col=False)\n",
    "print(len(adult))\n",
    "adult1 = adult[adult[\"hours-per-week\"] >= 20] # size = 20\n",
    "print(len(adult1))\n",
    "adult2 = adult1[adult1[\"education-num\"] >= 5] # size = 5\n",
    "print(len(adult2))\n",
    "adult3 = adult2[adult2[\"capital-gain\"] >= 3781]  # size = 30\n",
    "print(len(adult3))\n",
    "\n",
    "female = adult3[adult[\"sex\"]==\"Female\"]\n",
    "print(len(female))\n"
   ],
   "metadata": {
    "collapsed": false,
    "pycharm": {
     "name": "#%%\n"
    }
   }
  },
  {
   "cell_type": "code",
   "execution_count": 299,
   "outputs": [
    {
     "name": "stdout",
     "output_type": "stream",
     "text": [
      "========================== provenance search ===================================\n",
      "selected_attributes ['education-num', 'hours-per-week', 'capital-gain']\n",
      "prepare time = 0.0012619495391845703\n",
      "time of test_satisfying_rows = 2.1457672119140625e-06\n",
      "time of get_provenance_relax_only = 0.3677091598510742\n",
      "len(data) not satisfying = 645\n",
      "possible_value_table:\n",
      "     education-num  hours-per-week  capital-gain\n",
      "0            5.00           20.00          3781\n",
      "1            4.00           19.00          3464\n",
      "2            3.00           18.00          3456\n",
      "3            2.00           17.00          3418\n",
      "4            1.00           16.00          3411\n",
      "5             NaN           15.00          3325\n",
      "6             NaN           14.00          3137\n",
      "7             NaN           13.00          2964\n",
      "8             NaN           12.00          2936\n",
      "9             NaN           11.00          2829\n",
      "10            NaN           10.00          2653\n",
      "11            NaN            9.00          2635\n",
      "12            NaN            8.00          2597\n",
      "13            NaN            7.00          2414\n",
      "14            NaN            6.00          2354\n",
      "15            NaN            5.00          2329\n",
      "16            NaN            4.00          2228\n",
      "17            NaN            3.00          2202\n",
      "18            NaN            2.00          2176\n",
      "19            NaN            1.00          2062\n",
      "20            NaN             NaN          1848\n",
      "21            NaN             NaN          1797\n",
      "22            NaN             NaN          1455\n",
      "23            NaN             NaN          1424\n",
      "24            NaN             NaN          1409\n",
      "25            NaN             NaN          1055\n",
      "26            NaN             NaN           991\n",
      "27            NaN             NaN           594\n",
      "28            NaN             NaN           401\n",
      "29            NaN             NaN             0\n",
      "max_index_PVT: [4, 19, 29]\n",
      "no base refinement here, size of PVT: 4*1\n",
      "no base refinement here, size of PVT: 4*1\n",
      "no base refinement here, size of PVT: 12*2\n",
      "num of iterations = 19, search space = 306, assign_to_provenance_num = 174\n",
      "provenance time = 0.4942147731781006\n",
      "table time = 0.005587100982666016\n",
      "searching time = 1.5181219577789307\n",
      "running time = 2.0179250240325928\n",
      "[5.0, 12.0, 2653]\n",
      "[5.0, 14.0, 2597]\n",
      "[5.0, 16.0, 2329]\n",
      "[5.0, 18.0, 1055]\n",
      "[2.0, 20.0, 1055]\n",
      "[5.0, 10.0, 2936]\n",
      "[5.0, 8.0, 3325]\n",
      "[5.0, 4.0, 3411]\n",
      "[5.0, 2.0, 3418]\n"
     ]
    }
   ],
   "source": [
    "\n",
    "data_file = r\"adult_2k.csv\"\n",
    "query_file = r\"query5.json\"\n",
    "constraint_file = r\"constraint5.json\"\n",
    "time_limit = 5 * 60\n",
    "\n",
    "print(\"========================== provenance search ===================================\")\n",
    "minimal_refinements1, running_time1, assign_num = \\\n",
    "    ps.FindMinimalRefinement(data_file, query_file, constraint_file, time_limit)\n",
    "\n",
    "print(\"running time = {}\".format(running_time1))\n",
    "print(*minimal_refinements1, sep=\"\\n\")\n",
    "\n"
   ],
   "metadata": {
    "collapsed": false,
    "pycharm": {
     "name": "#%%\n"
    }
   }
  },
  {
   "cell_type": "markdown",
   "source": [
    "# 1k data"
   ],
   "metadata": {
    "collapsed": false,
    "pycharm": {
     "name": "#%% md\n"
    }
   }
  },
  {
   "cell_type": "code",
   "execution_count": 309,
   "outputs": [
    {
     "name": "stdout",
     "output_type": "stream",
     "text": [
      "2000\n",
      "804\n"
     ]
    }
   ],
   "source": [
    "adult = pd.read_csv(\"adult_2k.csv\", index_col=False)\n",
    "print(len(adult))\n",
    "\n",
    "print(len(adult[adult[\"hours-per-week\"] >= 23]))\n"
   ],
   "metadata": {
    "collapsed": false,
    "pycharm": {
     "name": "#%%\n"
    }
   }
  },
  {
   "cell_type": "code",
   "execution_count": 310,
   "outputs": [
    {
     "name": "stdout",
     "output_type": "stream",
     "text": [
      "8 145\n",
      "10 128\n",
      "15 104\n",
      "20 124\n",
      "24 102\n",
      "30 149\n",
      "32 116\n"
     ]
    }
   ],
   "source": [
    "\n",
    "for i in range(1, 40):\n",
    "    if len(adult[adult['hours-per-week'] == i]) > 100:\n",
    "        print(i, len(adult[adult['hours-per-week'] == i]))\n",
    "        # print(len(adult))\n",
    "        # adult = remove_hours(i, 150, adult)\n",
    "        # print(len(adult))\n"
   ],
   "metadata": {
    "collapsed": false,
    "pycharm": {
     "name": "#%%\n"
    }
   }
  },
  {
   "cell_type": "code",
   "execution_count": 311,
   "outputs": [
    {
     "name": "stdout",
     "output_type": "stream",
     "text": [
      "1196\n"
     ]
    }
   ],
   "source": [
    "adult = adult[adult[\"hours-per-week\"] <= 22]\n",
    "print(len(adult))"
   ],
   "metadata": {
    "collapsed": false,
    "pycharm": {
     "name": "#%%\n"
    }
   }
  },
  {
   "cell_type": "code",
   "execution_count": 312,
   "outputs": [
    {
     "name": "stdout",
     "output_type": "stream",
     "text": [
      "1196\n",
      "50\n",
      "1146\n",
      "1146\n",
      "1146\n",
      "50\n",
      "1096\n",
      "1096\n",
      "1096\n",
      "50\n",
      "1046\n",
      "1046\n",
      "1046\n",
      "46\n",
      "1000\n",
      "1000\n"
     ]
    }
   ],
   "source": [
    "adult = remove_hours(8, 50, adult)\n",
    "print(len(adult))\n",
    "adult = remove_hours(10, 50, adult)\n",
    "print(len(adult))\n",
    "adult = remove_hours(15, 50, adult)\n",
    "print(len(adult))\n",
    "adult = remove_hours(20, 46, adult)\n",
    "print(len(adult))"
   ],
   "metadata": {
    "collapsed": false,
    "pycharm": {
     "name": "#%%\n"
    }
   }
  },
  {
   "cell_type": "code",
   "execution_count": 313,
   "outputs": [],
   "source": [
    "adult.to_csv(\"adult_1k.csv\", index=False)"
   ],
   "metadata": {
    "collapsed": false,
    "pycharm": {
     "name": "#%%\n"
    }
   }
  },
  {
   "cell_type": "code",
   "execution_count": 314,
   "outputs": [
    {
     "name": "stdout",
     "output_type": "stream",
     "text": [
      "[ 1  2  3  4  5  6  7  8  9 10 11 12 13 14 15 16 17 18 19 20 21 22]\n",
      "[ 2  3  4  5  6  7  8  9 10 11 12 13 14 15 16]\n",
      "[    0   401   594   991  1055  1409  1424  1455  1797  1848  2062  2176\n",
      "  2202  2329  2354  2414  2635  2653  2829  2964  3325  3456  3781  3818\n",
      "  4064  4386  4650  4931  6418  6514  6767  7298  7688  9386 10605 15024\n",
      " 15831 18481 20051 34095]\n"
     ]
    }
   ],
   "source": [
    "\n",
    "lst = adult[\"hours-per-week\"].unique()\n",
    "lst.sort()\n",
    "print(lst)\n",
    "# [69, 71, 79, 83, 93]\n",
    "lst = adult[\"education-num\"].unique()\n",
    "lst.sort()\n",
    "print(lst)\n",
    "\n",
    "lst = adult[\"capital-gain\"].unique()\n",
    "lst.sort()\n",
    "print(lst)\n",
    "\n"
   ],
   "metadata": {
    "collapsed": false,
    "pycharm": {
     "name": "#%%\n"
    }
   }
  },
  {
   "cell_type": "code",
   "execution_count": 315,
   "outputs": [
    {
     "name": "stdout",
     "output_type": "stream",
     "text": [
      "1000\n",
      "146\n",
      "136\n",
      "2\n",
      "2\n"
     ]
    },
    {
     "name": "stderr",
     "output_type": "stream",
     "text": [
      "/var/folders/y1/vnpd8xm133v6hdbz8zf5wzsc0000gn/T/ipykernel_65792/540706054.py:11: UserWarning: Boolean Series key will be reindexed to match DataFrame index.\n",
      "  female = adult3[adult[\"sex\"]==\"Female\"]\n"
     ]
    }
   ],
   "source": [
    "# 8k data\n",
    "adult = pd.read_csv(r\"adult_1k.csv\", index_col=False)\n",
    "print(len(adult))\n",
    "adult1 = adult[adult[\"hours-per-week\"] >= 20] # size = 20\n",
    "print(len(adult1))\n",
    "adult2 = adult1[adult1[\"education-num\"] >= 6] # size = 5\n",
    "print(len(adult2))\n",
    "adult3 = adult2[adult2[\"capital-gain\"] >= 6514]  # size = 30\n",
    "print(len(adult3))\n",
    "\n",
    "female = adult3[adult[\"sex\"]==\"Female\"]\n",
    "print(len(female))\n"
   ],
   "metadata": {
    "collapsed": false,
    "pycharm": {
     "name": "#%%\n"
    }
   }
  },
  {
   "cell_type": "code",
   "execution_count": 316,
   "outputs": [
    {
     "name": "stdout",
     "output_type": "stream",
     "text": [
      "========================== provenance search ===================================\n",
      "selected_attributes ['education-num', 'hours-per-week', 'capital-gain']\n",
      "prepare time = 0.0008800029754638672\n",
      "time of test_satisfying_rows = 9.5367431640625e-07\n",
      "time of get_provenance_relax_only = 0.2174673080444336\n",
      "len(data) not satisfying = 381\n",
      "possible_value_table:\n",
      "     education-num  hours-per-week  capital-gain\n",
      "0            6.00           20.00          6514\n",
      "1            5.00           19.00          6418\n",
      "2            4.00           18.00          4931\n",
      "3            3.00           17.00          4650\n",
      "4            2.00           16.00          4386\n",
      "5             NaN           15.00          4064\n",
      "6             NaN           14.00          3818\n",
      "7             NaN           13.00          3781\n",
      "8             NaN           12.00          3456\n",
      "9             NaN           11.00          3325\n",
      "10            NaN           10.00          2964\n",
      "11            NaN            9.00          2829\n",
      "12            NaN            8.00          2653\n",
      "13            NaN            7.00          2635\n",
      "14            NaN            6.00          2414\n",
      "15            NaN            5.00          2354\n",
      "16            NaN            4.00          2329\n",
      "17            NaN            3.00          2202\n",
      "18            NaN            2.00          2176\n",
      "19            NaN            1.00          2062\n",
      "20            NaN             NaN          1848\n",
      "21            NaN             NaN          1797\n",
      "22            NaN             NaN          1455\n",
      "23            NaN             NaN          1424\n",
      "24            NaN             NaN          1409\n",
      "25            NaN             NaN          1055\n",
      "26            NaN             NaN           991\n",
      "27            NaN             NaN           594\n",
      "28            NaN             NaN           401\n",
      "29            NaN             NaN             0\n",
      "max_index_PVT: [4, 19, 29]\n",
      "no base refinement here, size of PVT: 10*1\n",
      "no base refinement here, size of PVT: 4*1\n",
      "no base refinement here, size of PVT: 4*1\n",
      "no base refinement here, size of PVT: 5*2\n",
      "num of iterations = 22, search space = 589, assign_to_provenance_num = 190\n",
      "provenance time = 0.27094292640686035\n",
      "table time = 0.0055999755859375\n",
      "searching time = 0.5615921020507812\n",
      "running time = 0.838137149810791\n",
      "[6.0, 4.0, 2329]\n",
      "[5.0, 5.0, 2062]\n",
      "[6.0, 6.0, 1055]\n",
      "[5.0, 8.0, 1055]\n",
      "[6.0, 10.0, 991]\n",
      "[6.0, 20.0, 0]\n",
      "[6.0, 2.0, 2354]\n"
     ]
    }
   ],
   "source": [
    "\n",
    "data_file = r\"adult_1k.csv\"\n",
    "query_file = r\"query6.json\"\n",
    "constraint_file = r\"constraint6.json\"\n",
    "time_limit = 5 * 60\n",
    "\n",
    "print(\"========================== provenance search ===================================\")\n",
    "minimal_refinements1, running_time1, assign_num = \\\n",
    "    ps.FindMinimalRefinement(data_file, query_file, constraint_file, time_limit)\n",
    "\n",
    "print(\"running time = {}\".format(running_time1))\n",
    "print(*minimal_refinements1, sep=\"\\n\")\n",
    "\n"
   ],
   "metadata": {
    "collapsed": false,
    "pycharm": {
     "name": "#%%\n"
    }
   }
  },
  {
   "cell_type": "code",
   "execution_count": null,
   "outputs": [],
   "source": [],
   "metadata": {
    "collapsed": false,
    "pycharm": {
     "name": "#%%\n"
    }
   }
  }
 ],
 "metadata": {
  "kernelspec": {
   "display_name": "Python 3",
   "language": "python",
   "name": "python3"
  },
  "language_info": {
   "codemirror_mode": {
    "name": "ipython",
    "version": 2
   },
   "file_extension": ".py",
   "mimetype": "text/x-python",
   "name": "python",
   "nbconvert_exporter": "python",
   "pygments_lexer": "ipython2",
   "version": "2.7.6"
  }
 },
 "nbformat": 4,
 "nbformat_minor": 0
}