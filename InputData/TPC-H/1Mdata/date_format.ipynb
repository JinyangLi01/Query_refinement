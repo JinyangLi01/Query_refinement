{
 "cells": [
  {
   "cell_type": "code",
   "execution_count": 1,
   "metadata": {
    "collapsed": true
   },
   "outputs": [],
   "source": [
    "import csv\n",
    "import pandas as pd\n"
   ]
  },
  {
   "cell_type": "code",
   "execution_count": 2,
   "outputs": [
    {
     "data": {
      "text/plain": "   l_orderkey  l_partkey  l_suppkey  l_linenumber  l_quantity  \\\n0           1        156          4             1          17   \n1           1         68          9             2          36   \n2           1         64          5             3           8   \n\n   l_extendedprice  l_discount  l_tax l_returnflag l_linestatus  l_shipdate  \\\n0         17954.55        0.04   0.02            N            O  1996-03-13   \n1         34850.16        0.09   0.06            N            O  1996-04-12   \n2          7712.48        0.10   0.02            N            O  1996-01-29   \n\n  l_commitdate l_receiptdate     l_shipinstruct l_shipmode  \\\n0   1996-02-12    1996-03-22  DELIVER IN PERSON      TRUCK   \n1   1996-02-28    1996-04-20   TAKE BACK RETURN       MAIL   \n2   1996-03-05    1996-01-31   TAKE BACK RETURN    REG AIR   \n\n                            l_comment  Unnamed: 16  \n0             egular courts above the          NaN  \n1  ly final dependencies: slyly bold           NaN  \n2       riously. regular, express dep          NaN  ",
      "text/html": "<div>\n<style scoped>\n    .dataframe tbody tr th:only-of-type {\n        vertical-align: middle;\n    }\n\n    .dataframe tbody tr th {\n        vertical-align: top;\n    }\n\n    .dataframe thead th {\n        text-align: right;\n    }\n</style>\n<table border=\"1\" class=\"dataframe\">\n  <thead>\n    <tr style=\"text-align: right;\">\n      <th></th>\n      <th>l_orderkey</th>\n      <th>l_partkey</th>\n      <th>l_suppkey</th>\n      <th>l_linenumber</th>\n      <th>l_quantity</th>\n      <th>l_extendedprice</th>\n      <th>l_discount</th>\n      <th>l_tax</th>\n      <th>l_returnflag</th>\n      <th>l_linestatus</th>\n      <th>l_shipdate</th>\n      <th>l_commitdate</th>\n      <th>l_receiptdate</th>\n      <th>l_shipinstruct</th>\n      <th>l_shipmode</th>\n      <th>l_comment</th>\n      <th>Unnamed: 16</th>\n    </tr>\n  </thead>\n  <tbody>\n    <tr>\n      <th>0</th>\n      <td>1</td>\n      <td>156</td>\n      <td>4</td>\n      <td>1</td>\n      <td>17</td>\n      <td>17954.55</td>\n      <td>0.04</td>\n      <td>0.02</td>\n      <td>N</td>\n      <td>O</td>\n      <td>1996-03-13</td>\n      <td>1996-02-12</td>\n      <td>1996-03-22</td>\n      <td>DELIVER IN PERSON</td>\n      <td>TRUCK</td>\n      <td>egular courts above the</td>\n      <td>NaN</td>\n    </tr>\n    <tr>\n      <th>1</th>\n      <td>1</td>\n      <td>68</td>\n      <td>9</td>\n      <td>2</td>\n      <td>36</td>\n      <td>34850.16</td>\n      <td>0.09</td>\n      <td>0.06</td>\n      <td>N</td>\n      <td>O</td>\n      <td>1996-04-12</td>\n      <td>1996-02-28</td>\n      <td>1996-04-20</td>\n      <td>TAKE BACK RETURN</td>\n      <td>MAIL</td>\n      <td>ly final dependencies: slyly bold</td>\n      <td>NaN</td>\n    </tr>\n    <tr>\n      <th>2</th>\n      <td>1</td>\n      <td>64</td>\n      <td>5</td>\n      <td>3</td>\n      <td>8</td>\n      <td>7712.48</td>\n      <td>0.10</td>\n      <td>0.02</td>\n      <td>N</td>\n      <td>O</td>\n      <td>1996-01-29</td>\n      <td>1996-03-05</td>\n      <td>1996-01-31</td>\n      <td>TAKE BACK RETURN</td>\n      <td>REG AIR</td>\n      <td>riously. regular, express dep</td>\n      <td>NaN</td>\n    </tr>\n  </tbody>\n</table>\n</div>"
     },
     "execution_count": 2,
     "metadata": {},
     "output_type": "execute_result"
    }
   ],
   "source": [
    "data = pd.read_csv(r\"lineitem.tbl\", sep='|')\n",
    "data[:3]"
   ],
   "metadata": {
    "collapsed": false
   }
  },
  {
   "cell_type": "code",
   "execution_count": 4,
   "outputs": [
    {
     "data": {
      "text/plain": "Index(['l_orderkey', 'l_partkey', 'l_suppkey', 'l_linenumber', 'l_quantity',\n       'l_extendedprice', 'l_discount', 'l_tax', 'l_returnflag',\n       'l_linestatus', 'l_shipdate', 'l_commitdate', 'l_receiptdate',\n       'l_shipinstruct', 'l_shipmode', 'l_comment', 'Unnamed: 16'],\n      dtype='object')"
     },
     "execution_count": 4,
     "metadata": {},
     "output_type": "execute_result"
    }
   ],
   "source": [
    "data.columns"
   ],
   "metadata": {
    "collapsed": false
   }
  },
  {
   "cell_type": "code",
   "execution_count": 7,
   "outputs": [
    {
     "data": {
      "text/plain": "array(['1996-03-13', '1996-04-12', '1996-01-29', ..., '1998-09-06',\n       '1998-06-11', '1996-10-30'], dtype=object)"
     },
     "execution_count": 7,
     "metadata": {},
     "output_type": "execute_result"
    }
   ],
   "source": [
    "data['l_shipdate'].unique()"
   ],
   "metadata": {
    "collapsed": false
   }
  },
  {
   "cell_type": "code",
   "execution_count": 9,
   "outputs": [
    {
     "data": {
      "text/plain": "array(['1996-03-13T00:00:00.000000000', '1996-04-12T00:00:00.000000000',\n       '1996-01-29T00:00:00.000000000', ...,\n       '1998-09-06T00:00:00.000000000', '1998-06-11T00:00:00.000000000',\n       '1996-10-30T00:00:00.000000000'], dtype='datetime64[ns]')"
     },
     "execution_count": 9,
     "metadata": {},
     "output_type": "execute_result"
    }
   ],
   "source": [
    "data['l_shipdate'] = pd.to_datetime(data.l_shipdate, format='%Y-%m-%d')\n",
    "data['l_shipdate'].unique()\n"
   ],
   "metadata": {
    "collapsed": false
   }
  },
  {
   "cell_type": "code",
   "execution_count": 10,
   "outputs": [
    {
     "data": {
      "text/plain": "0       19960313\n1       19960412\n2       19960129\n3       19960421\n4       19960330\n          ...   \n6000    19960913\n6001    19961128\n6002    19961030\n6003    19961015\n6004    19940120\nName: l_shipdate, Length: 6005, dtype: int64"
     },
     "execution_count": 10,
     "metadata": {},
     "output_type": "execute_result"
    }
   ],
   "source": [
    "\n",
    "data['l_shipdate'] = data['l_shipdate'].dt.strftime('%Y%m%d').astype(int)\n",
    "data['l_shipdate']\n"
   ],
   "metadata": {
    "collapsed": false
   }
  },
  {
   "cell_type": "code",
   "execution_count": 11,
   "outputs": [
    {
     "data": {
      "text/plain": "array(['1996-02-12T00:00:00.000000000', '1996-02-28T00:00:00.000000000',\n       '1996-03-05T00:00:00.000000000', ...,\n       '1994-07-21T00:00:00.000000000', '1992-06-21T00:00:00.000000000',\n       '1994-02-06T00:00:00.000000000'], dtype='datetime64[ns]')"
     },
     "execution_count": 11,
     "metadata": {},
     "output_type": "execute_result"
    }
   ],
   "source": [
    "data['l_commitdate'] = pd.to_datetime(data.l_commitdate, format='%Y-%m-%d')\n",
    "data['l_commitdate'].unique()\n"
   ],
   "metadata": {
    "collapsed": false
   }
  },
  {
   "cell_type": "code",
   "execution_count": 12,
   "outputs": [
    {
     "data": {
      "text/plain": "0       19960212\n1       19960228\n2       19960305\n3       19960330\n4       19960314\n          ...   \n6000    19961029\n6001    19960917\n6002    19961013\n6003    19961027\n6004    19940206\nName: l_commitdate, Length: 6005, dtype: int64"
     },
     "execution_count": 12,
     "metadata": {},
     "output_type": "execute_result"
    }
   ],
   "source": [
    "\n",
    "data['l_commitdate'] = data['l_commitdate'].dt.strftime('%Y%m%d').astype(int)\n",
    "data['l_commitdate']\n"
   ],
   "metadata": {
    "collapsed": false
   }
  },
  {
   "cell_type": "code",
   "execution_count": 13,
   "outputs": [
    {
     "data": {
      "text/plain": "array(['1996-03-22T00:00:00.000000000', '1996-04-20T00:00:00.000000000',\n       '1996-01-31T00:00:00.000000000', ...,\n       '1994-11-11T00:00:00.000000000', '1995-05-17T00:00:00.000000000',\n       '1996-11-09T00:00:00.000000000'], dtype='datetime64[ns]')"
     },
     "execution_count": 13,
     "metadata": {},
     "output_type": "execute_result"
    }
   ],
   "source": [
    "data['l_receiptdate'] = pd.to_datetime(data.l_receiptdate, format='%Y-%m-%d')\n",
    "data['l_receiptdate'].unique()\n"
   ],
   "metadata": {
    "collapsed": false
   }
  },
  {
   "cell_type": "code",
   "execution_count": 14,
   "outputs": [
    {
     "data": {
      "text/plain": "0       19960322\n1       19960420\n2       19960131\n3       19960516\n4       19960401\n          ...   \n6000    19960921\n6001    19961205\n6002    19961112\n6003    19961109\n6004    19940210\nName: l_receiptdate, Length: 6005, dtype: int64"
     },
     "execution_count": 14,
     "metadata": {},
     "output_type": "execute_result"
    }
   ],
   "source": [
    "\n",
    "data['l_receiptdate'] = data['l_receiptdate'].dt.strftime('%Y%m%d').astype(int)\n",
    "data['l_receiptdate']\n"
   ],
   "metadata": {
    "collapsed": false
   }
  },
  {
   "cell_type": "code",
   "execution_count": 16,
   "outputs": [],
   "source": [
    "data.to_csv(r\"lineitem.tbl\", sep='|', index=False)\n"
   ],
   "metadata": {
    "collapsed": false
   }
  },
  {
   "cell_type": "code",
   "execution_count": null,
   "outputs": [],
   "source": [],
   "metadata": {
    "collapsed": false,
    "pycharm": {
     "is_executing": true
    }
   }
  },
  {
   "cell_type": "markdown",
   "source": [
    " ## table orders"
   ],
   "metadata": {
    "collapsed": false
   }
  },
  {
   "cell_type": "code",
   "execution_count": 17,
   "outputs": [
    {
     "data": {
      "text/plain": "   o_orderkey  o_custkey o_orderstatus  o_totalprice o_orderdate  \\\n0           1         37             O     131251.81  1996-01-02   \n1           2         79             O      40183.29  1996-12-01   \n2           3        124             F     160882.76  1993-10-14   \n\n  o_orderpriority          o_clerk  o_shippriority  \\\n0           5-LOW  Clerk#000000951               0   \n1        1-URGENT  Clerk#000000880               0   \n2           5-LOW  Clerk#000000955               0   \n\n                                           o_comment  Unnamed: 9  \n0                 nstructions sleep furiously among          NaN  \n1   foxes. pending accounts at the pending, silen...         NaN  \n2  sly final accounts boost. carefully regular id...         NaN  ",
      "text/html": "<div>\n<style scoped>\n    .dataframe tbody tr th:only-of-type {\n        vertical-align: middle;\n    }\n\n    .dataframe tbody tr th {\n        vertical-align: top;\n    }\n\n    .dataframe thead th {\n        text-align: right;\n    }\n</style>\n<table border=\"1\" class=\"dataframe\">\n  <thead>\n    <tr style=\"text-align: right;\">\n      <th></th>\n      <th>o_orderkey</th>\n      <th>o_custkey</th>\n      <th>o_orderstatus</th>\n      <th>o_totalprice</th>\n      <th>o_orderdate</th>\n      <th>o_orderpriority</th>\n      <th>o_clerk</th>\n      <th>o_shippriority</th>\n      <th>o_comment</th>\n      <th>Unnamed: 9</th>\n    </tr>\n  </thead>\n  <tbody>\n    <tr>\n      <th>0</th>\n      <td>1</td>\n      <td>37</td>\n      <td>O</td>\n      <td>131251.81</td>\n      <td>1996-01-02</td>\n      <td>5-LOW</td>\n      <td>Clerk#000000951</td>\n      <td>0</td>\n      <td>nstructions sleep furiously among</td>\n      <td>NaN</td>\n    </tr>\n    <tr>\n      <th>1</th>\n      <td>2</td>\n      <td>79</td>\n      <td>O</td>\n      <td>40183.29</td>\n      <td>1996-12-01</td>\n      <td>1-URGENT</td>\n      <td>Clerk#000000880</td>\n      <td>0</td>\n      <td>foxes. pending accounts at the pending, silen...</td>\n      <td>NaN</td>\n    </tr>\n    <tr>\n      <th>2</th>\n      <td>3</td>\n      <td>124</td>\n      <td>F</td>\n      <td>160882.76</td>\n      <td>1993-10-14</td>\n      <td>5-LOW</td>\n      <td>Clerk#000000955</td>\n      <td>0</td>\n      <td>sly final accounts boost. carefully regular id...</td>\n      <td>NaN</td>\n    </tr>\n  </tbody>\n</table>\n</div>"
     },
     "execution_count": 17,
     "metadata": {},
     "output_type": "execute_result"
    }
   ],
   "source": [
    "data = pd.read_csv(r\"orders.tbl\", sep='|')\n",
    "data[:3]"
   ],
   "metadata": {
    "collapsed": false
   }
  },
  {
   "cell_type": "code",
   "execution_count": 18,
   "outputs": [
    {
     "data": {
      "text/plain": "array(['1996-01-02', '1996-12-01', '1993-10-14', ..., '1993-12-27',\n       '1995-09-16', '1992-05-15'], dtype=object)"
     },
     "execution_count": 18,
     "metadata": {},
     "output_type": "execute_result"
    }
   ],
   "source": [
    "data['o_orderdate'].unique()"
   ],
   "metadata": {
    "collapsed": false
   }
  },
  {
   "cell_type": "code",
   "execution_count": 19,
   "outputs": [
    {
     "data": {
      "text/plain": "array(['1996-01-02T00:00:00.000000000', '1996-12-01T00:00:00.000000000',\n       '1993-10-14T00:00:00.000000000', ...,\n       '1993-12-27T00:00:00.000000000', '1995-09-16T00:00:00.000000000',\n       '1992-05-15T00:00:00.000000000'], dtype='datetime64[ns]')"
     },
     "execution_count": 19,
     "metadata": {},
     "output_type": "execute_result"
    }
   ],
   "source": [
    "data['o_orderdate'] = pd.to_datetime(data.o_orderdate, format='%Y-%m-%d')\n",
    "data['o_orderdate'].unique()\n"
   ],
   "metadata": {
    "collapsed": false
   }
  },
  {
   "cell_type": "code",
   "execution_count": 20,
   "outputs": [
    {
     "data": {
      "text/plain": "0       19960102\n1       19961201\n2       19931014\n3       19951011\n4       19940730\n          ...   \n1495    19940618\n1496    19950112\n1497    19920422\n1498    19960803\n1499    19931122\nName: o_orderdate, Length: 1500, dtype: int64"
     },
     "execution_count": 20,
     "metadata": {},
     "output_type": "execute_result"
    }
   ],
   "source": [
    "\n",
    "data['o_orderdate'] = data['o_orderdate'].dt.strftime('%Y%m%d').astype(int)\n",
    "data['o_orderdate']\n"
   ],
   "metadata": {
    "collapsed": false
   }
  },
  {
   "cell_type": "code",
   "execution_count": 21,
   "outputs": [],
   "source": [
    "data.to_csv(r\"orders.tbl\", sep='|', index=False)\n"
   ],
   "metadata": {
    "collapsed": false
   }
  },
  {
   "cell_type": "code",
   "execution_count": null,
   "outputs": [],
   "source": [],
   "metadata": {
    "collapsed": false
   }
  }
 ],
 "metadata": {
  "kernelspec": {
   "display_name": "Python 3",
   "language": "python",
   "name": "python3"
  },
  "language_info": {
   "codemirror_mode": {
    "name": "ipython",
    "version": 2
   },
   "file_extension": ".py",
   "mimetype": "text/x-python",
   "name": "python",
   "nbconvert_exporter": "python",
   "pygments_lexer": "ipython2",
   "version": "2.7.6"
  }
 },
 "nbformat": 4,
 "nbformat_minor": 0
}
